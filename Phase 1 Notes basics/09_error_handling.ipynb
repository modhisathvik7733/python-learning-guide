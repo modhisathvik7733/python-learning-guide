{
 "cells": [
  {
   "cell_type": "code",
   "execution_count": 2,
   "id": "46678973-d3e0-46e4-bbc5-68295380c896",
   "metadata": {},
   "outputs": [],
   "source": [
    "# ===================================================================================================\n",
    "# PYTHON ERROR HANDLING - COMPLETE GUIDE\n",
    "# ===================================================================================================\n",
    "# try-except-finally: Handling errors gracefully and making robust programs\n",
    "\n",
    "# =========================\n",
    "# WHAT ARE ERRORS?\n",
    "# =========================\n",
    "# Understanding different types of errors in Python"
   ]
  },
  {
   "cell_type": "code",
   "execution_count": 3,
   "id": "af441a1c-86d2-4b83-bd14-761c1bf4b3c9",
   "metadata": {},
   "outputs": [
    {
     "name": "stdout",
     "output_type": "stream",
     "text": [
      "❌ TYPES OF ERRORS IN PYTHON:\n",
      "• Syntax Errors - Code is written incorrectly\n",
      "• Runtime Errors - Errors that occur while program is running\n",
      "• Logic Errors - Code runs but produces wrong results\n",
      "\n",
      "🛡️ ERROR HANDLING helps:\n",
      "• Prevent programs from crashing\n",
      "• Provide user-friendly error messages\n",
      "• Handle unexpected situations gracefully\n",
      "• Make programs more robust and reliable\n",
      "\n",
      "============================================================\n"
     ]
    }
   ],
   "source": [
    "print(\"❌ TYPES OF ERRORS IN PYTHON:\")\n",
    "print(\"• Syntax Errors - Code is written incorrectly\")\n",
    "print(\"• Runtime Errors - Errors that occur while program is running\")\n",
    "print(\"• Logic Errors - Code runs but produces wrong results\")\n",
    "print()\n",
    "print(\"🛡️ ERROR HANDLING helps:\")\n",
    "print(\"• Prevent programs from crashing\")\n",
    "print(\"• Provide user-friendly error messages\")\n",
    "print(\"• Handle unexpected situations gracefully\")\n",
    "print(\"• Make programs more robust and reliable\")\n",
    "print(\"\\n\" + \"=\"*60)"
   ]
  },
  {
   "cell_type": "code",
   "execution_count": 4,
   "id": "773352b2-4b8c-47f1-8d8c-db1924414d96",
   "metadata": {},
   "outputs": [],
   "source": [
    "\n",
    "\n",
    "# =========================\n",
    "# BASIC TRY-EXCEPT\n",
    "# =========================\n",
    "# The foundation of error handling"
   ]
  },
  {
   "cell_type": "code",
   "execution_count": 5,
   "id": "77452a7d-0cbe-46f9-bc78-118a105434a6",
   "metadata": {},
   "outputs": [
    {
     "name": "stdout",
     "output_type": "stream",
     "text": [
      "=== BASIC TRY-EXCEPT ===\n",
      "\n",
      "1. BASIC DIVISION ERROR:\n",
      "❌ Error: Cannot divide by zero!\n",
      "✅ Program continues running...\n",
      "\n",
      "2. SAFE DIVISION FUNCTION:\n",
      "✅ 10 ÷ 2 = 5.0\n",
      "❌ Cannot divide 10 by zero!\n",
      "✅ 15 ÷ 3 = 5.0\n",
      "\n",
      "============================================================\n"
     ]
    }
   ],
   "source": [
    "print(\"=== BASIC TRY-EXCEPT ===\")\n",
    "\n",
    "# Example 1: Basic division error handling\n",
    "print(\"\\n1. BASIC DIVISION ERROR:\")\n",
    "try:\n",
    "    result = 10 / 0  # This will cause an error\n",
    "    print(f\"Result: {result}\")\n",
    "except ZeroDivisionError:\n",
    "    print(\"❌ Error: Cannot divide by zero!\")\n",
    "    print(\"✅ Program continues running...\")\n",
    "\n",
    "print(\"\\n2. SAFE DIVISION FUNCTION:\")\n",
    "def safe_divide(a, b):\n",
    "    try:\n",
    "        result = a / b\n",
    "        print(f\"✅ {a} ÷ {b} = {result}\")\n",
    "        return result\n",
    "    except ZeroDivisionError:\n",
    "        print(f\"❌ Cannot divide {a} by zero!\")\n",
    "        return None\n",
    "\n",
    "# Test the function\n",
    "safe_divide(10, 2)\n",
    "safe_divide(10, 0)\n",
    "safe_divide(15, 3)\n",
    "\n",
    "print(\"\\n\" + \"=\"*60)"
   ]
  },
  {
   "cell_type": "code",
   "execution_count": 6,
   "id": "7f403bfb-af63-44f7-bb6c-4ec033580794",
   "metadata": {},
   "outputs": [],
   "source": [
    "# =========================\n",
    "# COMMON EXCEPTION TYPES\n",
    "# =========================\n",
    "# Different types of exceptions you'll encounter"
   ]
  },
  {
   "cell_type": "code",
   "execution_count": 7,
   "id": "1d44af06-8914-4b1e-b5f6-8749b7d3cc28",
   "metadata": {},
   "outputs": [
    {
     "name": "stdout",
     "output_type": "stream",
     "text": [
      "=== COMMON EXCEPTION TYPES ===\n",
      "\n",
      "1. TypeError - Wrong data type:\n",
      "❌ TypeError caught: can only concatenate str (not \"int\") to str\n",
      "✅ Solution: Convert types properly\n"
     ]
    }
   ],
   "source": [
    "print(\"=== COMMON EXCEPTION TYPES ===\")\n",
    "\n",
    "# TypeError\n",
    "print(\"\\n1. TypeError - Wrong data type:\")\n",
    "try:\n",
    "    result = \"hello\" + 5  # Can't add string and number\n",
    "    print(result)\n",
    "except TypeError as e:\n",
    "    print(f\"❌ TypeError caught: {e}\")\n",
    "    print(\"✅ Solution: Convert types properly\")"
   ]
  },
  {
   "cell_type": "code",
   "execution_count": 8,
   "id": "2174ca94-44d7-4221-b603-265f6c642643",
   "metadata": {},
   "outputs": [
    {
     "name": "stdout",
     "output_type": "stream",
     "text": [
      "\n",
      "2. ValueError - Wrong value:\n",
      "❌ ValueError caught: invalid literal for int() with base 10: 'hello'\n",
      "✅ Solution: Validate input before converting\n"
     ]
    }
   ],
   "source": [
    "# ValueError\n",
    "print(\"\\n2. ValueError - Wrong value:\")\n",
    "try:\n",
    "    number = int(\"hello\")  # Can't convert \"hello\" to integer\n",
    "    print(number)\n",
    "except ValueError as e:\n",
    "    print(f\"❌ ValueError caught: {e}\")\n",
    "    print(\"✅ Solution: Validate input before converting\")\n"
   ]
  },
  {
   "cell_type": "code",
   "execution_count": 9,
   "id": "2a4d1a73-7a14-423e-990f-1edfd9d6f6eb",
   "metadata": {},
   "outputs": [
    {
     "name": "stdout",
     "output_type": "stream",
     "text": [
      "\n",
      "3. IndexError - Index out of range:\n",
      "❌ IndexError caught: list index out of range\n",
      "✅ Solution: Check list length before accessing\n"
     ]
    }
   ],
   "source": [
    "# IndexError\n",
    "print(\"\\n3. IndexError - Index out of range:\")\n",
    "try:\n",
    "    my_list = [1, 2, 3]\n",
    "    print(my_list[10])  # Index 10 doesn't exist\n",
    "except IndexError as e:\n",
    "    print(f\"❌ IndexError caught: {e}\")\n",
    "    print(\"✅ Solution: Check list length before accessing\")"
   ]
  },
  {
   "cell_type": "code",
   "execution_count": 10,
   "id": "47511361-4c3f-4eca-84fd-6fa12c98f51d",
   "metadata": {},
   "outputs": [
    {
     "name": "stdout",
     "output_type": "stream",
     "text": [
      "\n",
      "4. KeyError - Key doesn't exist:\n",
      "❌ KeyError caught: 'salary'\n",
      "✅ Solution: Use .get() method or check if key exists\n"
     ]
    }
   ],
   "source": [
    "# KeyError\n",
    "print(\"\\n4. KeyError - Key doesn't exist:\")\n",
    "try:\n",
    "    my_dict = {\"name\": \"Alice\", \"age\": 30}\n",
    "    print(my_dict[\"salary\"])  # Key \"salary\" doesn't exist\n",
    "except KeyError as e:\n",
    "    print(f\"❌ KeyError caught: {e}\")\n",
    "    print(\"✅ Solution: Use .get() method or check if key exists\")"
   ]
  },
  {
   "cell_type": "code",
   "execution_count": 11,
   "id": "63de5f7c-c7bc-4512-a36a-2f603223d15d",
   "metadata": {},
   "outputs": [
    {
     "name": "stdout",
     "output_type": "stream",
     "text": [
      "\n",
      "5. FileNotFoundError - File doesn't exist:\n",
      "❌ FileNotFoundError caught: [Errno 2] No such file or directory: 'nonexistent_file.txt'\n",
      "✅ Solution: Check if file exists before opening\n",
      "\n",
      "============================================================\n"
     ]
    }
   ],
   "source": [
    "# FileNotFoundError\n",
    "print(\"\\n5. FileNotFoundError - File doesn't exist:\")\n",
    "try:\n",
    "    with open(\"nonexistent_file.txt\", \"r\") as file:\n",
    "        content = file.read()\n",
    "except FileNotFoundError as e:\n",
    "    print(f\"❌ FileNotFoundError caught: {e}\")\n",
    "    print(\"✅ Solution: Check if file exists before opening\")\n",
    "\n",
    "print(\"\\n\" + \"=\"*60)\n"
   ]
  },
  {
   "cell_type": "code",
   "execution_count": 12,
   "id": "4dabaaf5-5058-4fcd-a8df-2dcc9300648d",
   "metadata": {},
   "outputs": [],
   "source": [
    "# =========================\n",
    "# MULTIPLE EXCEPT BLOCKS\n",
    "# =========================\n",
    "# Handling different types of errors differently\n"
   ]
  },
  {
   "cell_type": "code",
   "execution_count": 13,
   "id": "cb234c05-122d-46ef-9296-442a2e086f86",
   "metadata": {},
   "outputs": [
    {
     "name": "stdout",
     "output_type": "stream",
     "text": [
      "=== MULTIPLE EXCEPT BLOCKS ===\n"
     ]
    }
   ],
   "source": [
    "\n",
    "print(\"=== MULTIPLE EXCEPT BLOCKS ===\")\n",
    "\n",
    "def process_user_input(user_input):\n",
    "    \"\"\"Demonstrate handling multiple types of errors\"\"\"\n",
    "    try:\n",
    "        # Try to convert input to number and perform calculation\n",
    "        number = float(user_input)\n",
    "        result = 100 / number\n",
    "        squared = result ** 2\n",
    "        print(f\"✅ Input: {user_input}\")\n",
    "        print(f\"   100 ÷ {number} = {result}\")\n",
    "        print(f\"   {result}² = {squared}\")\n",
    "        return squared\n",
    "    \n",
    "    except ValueError:\n",
    "        print(f\"❌ '{user_input}' is not a valid number!\")\n",
    "        print(\"   Please enter a numeric value\")\n",
    "        return None\n",
    "    \n",
    "    except ZeroDivisionError:\n",
    "        print(f\"❌ Cannot divide by zero!\")\n",
    "        print(\"   Please enter a non-zero number\")\n",
    "        return None\n",
    "    \n",
    "    except OverflowError:\n",
    "        print(f\"❌ Number too large to calculate!\")\n",
    "        print(\"   Please enter a smaller number\")\n",
    "        return None"
   ]
  },
  {
   "cell_type": "code",
   "execution_count": 14,
   "id": "30a53a81-3af8-4910-94ce-c100111f8030",
   "metadata": {},
   "outputs": [
    {
     "name": "stdout",
     "output_type": "stream",
     "text": [
      "\n",
      "Testing different inputs:\n",
      "\n",
      "📝 Testing: '10'\n",
      "✅ Input: 10\n",
      "   100 ÷ 10.0 = 10.0\n",
      "   10.0² = 100.0\n",
      "\n",
      "📝 Testing: 'hello'\n",
      "❌ 'hello' is not a valid number!\n",
      "   Please enter a numeric value\n",
      "\n",
      "📝 Testing: '0'\n",
      "❌ Cannot divide by zero!\n",
      "   Please enter a non-zero number\n",
      "\n",
      "📝 Testing: '5.5'\n",
      "✅ Input: 5.5\n",
      "   100 ÷ 5.5 = 18.181818181818183\n",
      "   18.181818181818183² = 330.5785123966943\n",
      "\n",
      "📝 Testing: 'abc'\n",
      "❌ 'abc' is not a valid number!\n",
      "   Please enter a numeric value\n",
      "\n",
      "============================================================\n"
     ]
    }
   ],
   "source": [
    "# Test with different inputs\n",
    "print(\"\\nTesting different inputs:\")\n",
    "test_inputs = [\"10\", \"hello\", \"0\", \"5.5\", \"abc\"]\n",
    "\n",
    "for test_input in test_inputs:\n",
    "    print(f\"\\n📝 Testing: '{test_input}'\")\n",
    "    process_user_input(test_input)\n",
    "\n",
    "print(\"\\n\" + \"=\"*60)\n"
   ]
  },
  {
   "cell_type": "code",
   "execution_count": 15,
   "id": "2277d15a-a364-4cbb-a71f-138628076280",
   "metadata": {},
   "outputs": [],
   "source": [
    "# =========================\n",
    "# CATCHING MULTIPLE EXCEPTIONS\n",
    "# =========================\n",
    "# Handle multiple exception types with one except block\n"
   ]
  },
  {
   "cell_type": "code",
   "execution_count": 16,
   "id": "cef07e30-632b-4093-9f70-10a6cabd5397",
   "metadata": {},
   "outputs": [
    {
     "name": "stdout",
     "output_type": "stream",
     "text": [
      "\n",
      "Testing safe_list_operation:\n",
      "\n",
      "1. Testing: list[1] ÷ 2\n",
      "✅ Success: 20 ÷ 2 = 10.0 → 10\n",
      "\n",
      "2. Testing: list[10] ÷ 2\n",
      "❌ IndexError: list index out of range\n",
      "   Operation failed, returning None\n",
      "\n",
      "3. Testing: list[1] ÷ 0\n",
      "❌ ZeroDivisionError: division by zero\n",
      "   Operation failed, returning None\n",
      "\n",
      "============================================================\n"
     ]
    }
   ],
   "source": [
    "\n",
    "def safe_list_operation(my_list, index, divisor):\n",
    "    \"\"\"Demonstrate catching multiple exceptions in one block\"\"\"\n",
    "    try:\n",
    "        # Multiple operations that could fail\n",
    "        value = my_list[index]          # Could raise IndexError\n",
    "        result = value / divisor        # Could raise ZeroDivisionError\n",
    "        converted = int(result)         # Could raise ValueError\n",
    "        print(f\"✅ Success: {value} ÷ {divisor} = {result} → {converted}\")\n",
    "        return converted\n",
    "    \n",
    "    except (IndexError, ZeroDivisionError, ValueError) as e:\n",
    "        error_type = type(e).__name__\n",
    "        print(f\"❌ {error_type}: {e}\")\n",
    "        print(\"   Operation failed, returning None\")\n",
    "        return None\n",
    "\n",
    "# Test the function\n",
    "print(\"\\nTesting safe_list_operation:\")\n",
    "test_list = [10, 20, 30, 40]\n",
    "\n",
    "test_cases = [\n",
    "    (test_list, 1, 2),      # Valid case\n",
    "    (test_list, 10, 2),     # IndexError\n",
    "    (test_list, 1, 0),      # ZeroDivisionError\n",
    "]\n",
    "\n",
    "for i, (lst, idx, div) in enumerate(test_cases, 1):\n",
    "    print(f\"\\n{i}. Testing: list[{idx}] ÷ {div}\")\n",
    "    safe_list_operation(lst, idx, div)\n",
    "\n",
    "print(\"\\n\" + \"=\"*60)"
   ]
  },
  {
   "cell_type": "code",
   "execution_count": 17,
   "id": "05f6b026-cc3b-45da-9c2c-d6ecd8399a57",
   "metadata": {},
   "outputs": [],
   "source": [
    "# =========================\n",
    "# TRY-EXCEPT-ELSE\n",
    "# =========================\n",
    "# Code that runs only if no exception occurs\n"
   ]
  },
  {
   "cell_type": "code",
   "execution_count": 18,
   "id": "c422a99d-30d0-47d3-86da-67eb9d26769b",
   "metadata": {},
   "outputs": [
    {
     "name": "stdout",
     "output_type": "stream",
     "text": [
      "\n",
      "Testing file reading:\n",
      "\n",
      "📁 Testing: good_file.txt\n",
      "🔍 Attempting to read: good_file.txt\n",
      "✅ File read successfully!\n",
      "   Processing data...\n",
      "   Original: [10, 20, 30, 40, 50]\n",
      "   Doubled:  [20, 40, 60, 80, 100]\n",
      "   Final result: [20, 40, 60, 80, 100]\n",
      "\n",
      "📁 Testing: missing_file.txt\n",
      "🔍 Attempting to read: missing_file.txt\n",
      "❌ Error: File 'missing_file.txt' not found\n",
      "   Using default data instead\n",
      "   Final result: [0, 0, 0]\n",
      "\n",
      "============================================================\n"
     ]
    }
   ],
   "source": [
    "def read_and_process_file(filename):\n",
    "    \"\"\"Demonstrate try-except-else pattern\"\"\"\n",
    "    try:\n",
    "        # Try to open and read file\n",
    "        print(f\"🔍 Attempting to read: {filename}\")\n",
    "        # Simulate file reading (we'll use a string instead)\n",
    "        if filename == \"good_file.txt\":\n",
    "            content = \"10,20,30,40,50\"  # Simulate file content\n",
    "        else:\n",
    "            raise FileNotFoundError(f\"File '{filename}' not found\")\n",
    "    \n",
    "    except FileNotFoundError as e:\n",
    "        print(f\"❌ Error: {e}\")\n",
    "        print(\"   Using default data instead\")\n",
    "        return [0, 0, 0]\n",
    "    \n",
    "    else:\n",
    "        # This runs ONLY if no exception occurred\n",
    "        print(\"✅ File read successfully!\")\n",
    "        print(\"   Processing data...\")\n",
    "        numbers = [int(x.strip()) for x in content.split(',')]\n",
    "        processed = [x * 2 for x in numbers]\n",
    "        print(f\"   Original: {numbers}\")\n",
    "        print(f\"   Doubled:  {processed}\")\n",
    "        return processed\n",
    "\n",
    "# Test with different filenames\n",
    "print(\"\\nTesting file reading:\")\n",
    "test_files = [\"good_file.txt\", \"missing_file.txt\"]\n",
    "\n",
    "for filename in test_files:\n",
    "    print(f\"\\n📁 Testing: {filename}\")\n",
    "    result = read_and_process_file(filename)\n",
    "    print(f\"   Final result: {result}\")\n",
    "\n",
    "print(\"\\n\" + \"=\"*60)\n"
   ]
  },
  {
   "cell_type": "code",
   "execution_count": 19,
   "id": "837fd215-2c4e-4241-be51-d5aa0c0f8849",
   "metadata": {},
   "outputs": [],
   "source": [
    "# =========================\n",
    "# TRY-EXCEPT-FINALLY\n",
    "# =========================\n",
    "# Code that always runs, regardless of errors"
   ]
  },
  {
   "cell_type": "code",
   "execution_count": 20,
   "id": "4a1364e7-0cc3-4e52-ac09-da1856a77887",
   "metadata": {},
   "outputs": [],
   "source": [
    "def database_operation_simulation(operation_type):\n",
    "    \"\"\"Demonstrate try-except-finally pattern\"\"\"\n",
    "    connection = None\n",
    "    \n",
    "    try:\n",
    "        # Simulate opening database connection\n",
    "        print(f\"🔌 Opening database connection...\")\n",
    "        connection = f\"DB_Connection_{operation_type}\"\n",
    "        print(f\"✅ Connected: {connection}\")\n",
    "        \n",
    "        # Simulate different operations\n",
    "        if operation_type == \"read\":\n",
    "            print(\"📖 Reading data from database...\")\n",
    "            data = [\"user1\", \"user2\", \"user3\"]\n",
    "            print(f\"   Retrieved: {data}\")\n",
    "            return data\n",
    "        \n",
    "        elif operation_type == \"write\":\n",
    "            print(\"✏️ Writing data to database...\")\n",
    "            print(\"   Data written successfully\")\n",
    "            return True\n",
    "        \n",
    "        elif operation_type == \"error\":\n",
    "            print(\"💥 Simulating database error...\")\n",
    "            raise ConnectionError(\"Database connection lost!\")\n",
    "        \n",
    "        else:\n",
    "            raise ValueError(f\"Unknown operation: {operation_type}\")\n",
    "    \n",
    "    except ConnectionError as e:\n",
    "        print(f\"❌ Connection Error: {e}\")\n",
    "        print(\"   Database operation failed\")\n",
    "        return None\n",
    "    \n",
    "    except ValueError as e:\n",
    "        print(f\"❌ Value Error: {e}\")\n",
    "        print(\"   Invalid operation type\")\n",
    "        return None\n",
    "    \n",
    "    finally:\n",
    "        # This ALWAYS runs, even if there was an error\n",
    "        if connection:\n",
    "            print(f\"🔌 Closing database connection: {connection}\")\n",
    "        else:\n",
    "            print(\"🔌 No connection to close\")\n",
    "        print(\"   Cleanup completed\")"
   ]
  },
  {
   "cell_type": "code",
   "execution_count": 21,
   "id": "5eb28b4c-05d5-4c52-947b-b24a1a08b229",
   "metadata": {},
   "outputs": [
    {
     "name": "stdout",
     "output_type": "stream",
     "text": [
      "\n",
      "Testing database operations:\n",
      "\n",
      "🗄️ Testing: read operation\n",
      "🔌 Opening database connection...\n",
      "✅ Connected: DB_Connection_read\n",
      "📖 Reading data from database...\n",
      "   Retrieved: ['user1', 'user2', 'user3']\n",
      "🔌 Closing database connection: DB_Connection_read\n",
      "   Cleanup completed\n",
      "   Operation result: ['user1', 'user2', 'user3']\n",
      "   ----------------------------------------\n",
      "\n",
      "🗄️ Testing: write operation\n",
      "🔌 Opening database connection...\n",
      "✅ Connected: DB_Connection_write\n",
      "✏️ Writing data to database...\n",
      "   Data written successfully\n",
      "🔌 Closing database connection: DB_Connection_write\n",
      "   Cleanup completed\n",
      "   Operation result: True\n",
      "   ----------------------------------------\n",
      "\n",
      "🗄️ Testing: error operation\n",
      "🔌 Opening database connection...\n",
      "✅ Connected: DB_Connection_error\n",
      "💥 Simulating database error...\n",
      "❌ Connection Error: Database connection lost!\n",
      "   Database operation failed\n",
      "🔌 Closing database connection: DB_Connection_error\n",
      "   Cleanup completed\n",
      "   Operation result: None\n",
      "   ----------------------------------------\n",
      "\n",
      "🗄️ Testing: invalid operation\n",
      "🔌 Opening database connection...\n",
      "✅ Connected: DB_Connection_invalid\n",
      "❌ Value Error: Unknown operation: invalid\n",
      "   Invalid operation type\n",
      "🔌 Closing database connection: DB_Connection_invalid\n",
      "   Cleanup completed\n",
      "   Operation result: None\n",
      "   ----------------------------------------\n",
      "\n",
      "============================================================\n"
     ]
    }
   ],
   "source": [
    "# Test different scenarios\n",
    "print(\"\\nTesting database operations:\")\n",
    "operations = [\"read\", \"write\", \"error\", \"invalid\"]\n",
    "\n",
    "for operation in operations:\n",
    "    print(f\"\\n🗄️ Testing: {operation} operation\")\n",
    "    result = database_operation_simulation(operation)\n",
    "    print(f\"   Operation result: {result}\")\n",
    "    print(\"   \" + \"-\" * 40)\n",
    "\n",
    "print(\"\\n\" + \"=\"*60)\n"
   ]
  },
  {
   "cell_type": "code",
   "execution_count": 22,
   "id": "3b0370d9-5467-4167-8bfb-d065e15c7b59",
   "metadata": {},
   "outputs": [],
   "source": [
    "# =========================\n",
    "# CUSTOM EXCEPTIONS\n",
    "# =========================\n",
    "# Creating your own exception types\n"
   ]
  },
  {
   "cell_type": "code",
   "execution_count": 23,
   "id": "a8038ae4-7665-4436-90cd-828c2e891286",
   "metadata": {},
   "outputs": [
    {
     "name": "stdout",
     "output_type": "stream",
     "text": [
      "=== CUSTOM EXCEPTIONS ===\n",
      "\n",
      "Testing bank account with custom exceptions:\n",
      "💰 Created account for Alice with $100.00\n",
      "\n",
      "💳 Operation: deposit $50.00\n",
      "✅ Deposited $50.00\n",
      "   New balance: $150.00\n",
      "\n",
      "💳 Operation: deposit $-10.00\n",
      "❌ Deposit failed: Deposit amount must be positive\n",
      "\n",
      "💳 Operation: withdraw $25.00\n",
      "✅ Withdrew $25.00\n",
      "   New balance: $125.00\n",
      "\n",
      "💳 Operation: withdraw $200.00\n",
      "❌ Withdrawal failed: Cannot withdraw $200.00. Available: $125.00\n",
      "\n",
      "💳 Operation: lock\n",
      "🔒 Account for Alice has been locked\n",
      "\n",
      "💳 Operation: deposit $20.00\n",
      "❌ Deposit failed: Account for Alice is locked\n",
      "\n",
      "💳 Operation: withdraw $10.00\n",
      "❌ Withdrawal failed: Account for Alice is locked\n",
      "\n",
      "============================================================\n"
     ]
    }
   ],
   "source": [
    "print(\"=== CUSTOM EXCEPTIONS ===\")\n",
    "\n",
    "# Define custom exceptions\n",
    "class BankAccountError(Exception):\n",
    "    \"\"\"Base exception for bank account operations\"\"\"\n",
    "    pass\n",
    "\n",
    "class InsufficientFundsError(BankAccountError):\n",
    "    \"\"\"Raised when trying to withdraw more money than available\"\"\"\n",
    "    pass\n",
    "\n",
    "class InvalidAmountError(BankAccountError):\n",
    "    \"\"\"Raised when amount is negative or zero\"\"\"\n",
    "    pass\n",
    "\n",
    "class AccountLockedError(BankAccountError):\n",
    "    \"\"\"Raised when account is locked\"\"\"\n",
    "    pass\n",
    "\n",
    "class BankAccount:\n",
    "    \"\"\"Simple bank account class with error handling\"\"\"\n",
    "    \n",
    "    def __init__(self, owner, initial_balance=0):\n",
    "        self.owner = owner\n",
    "        self.balance = initial_balance\n",
    "        self.is_locked = False\n",
    "    \n",
    "    def deposit(self, amount):\n",
    "        \"\"\"Deposit money to account\"\"\"\n",
    "        try:\n",
    "            if self.is_locked:\n",
    "                raise AccountLockedError(f\"Account for {self.owner} is locked\")\n",
    "            \n",
    "            if amount <= 0:\n",
    "                raise InvalidAmountError(\"Deposit amount must be positive\")\n",
    "            \n",
    "            self.balance += amount\n",
    "            print(f\"✅ Deposited ${amount:.2f}\")\n",
    "            print(f\"   New balance: ${self.balance:.2f}\")\n",
    "            \n",
    "        except BankAccountError as e:\n",
    "            print(f\"❌ Deposit failed: {e}\")\n",
    "    \n",
    "    def withdraw(self, amount):\n",
    "        \"\"\"Withdraw money from account\"\"\"\n",
    "        try:\n",
    "            if self.is_locked:\n",
    "                raise AccountLockedError(f\"Account for {self.owner} is locked\")\n",
    "            \n",
    "            if amount <= 0:\n",
    "                raise InvalidAmountError(\"Withdrawal amount must be positive\")\n",
    "            \n",
    "            if amount > self.balance:\n",
    "                raise InsufficientFundsError(\n",
    "                    f\"Cannot withdraw ${amount:.2f}. Available: ${self.balance:.2f}\"\n",
    "                )\n",
    "            \n",
    "            self.balance -= amount\n",
    "            print(f\"✅ Withdrew ${amount:.2f}\")\n",
    "            print(f\"   New balance: ${self.balance:.2f}\")\n",
    "            \n",
    "        except BankAccountError as e:\n",
    "            print(f\"❌ Withdrawal failed: {e}\")\n",
    "    \n",
    "    def lock_account(self):\n",
    "        \"\"\"Lock the account\"\"\"\n",
    "        self.is_locked = True\n",
    "        print(f\"🔒 Account for {self.owner} has been locked\")\n",
    "\n",
    "# Test custom exceptions\n",
    "print(\"\\nTesting bank account with custom exceptions:\")\n",
    "\n",
    "# Create account\n",
    "account = BankAccount(\"Alice\", 100.00)\n",
    "print(f\"💰 Created account for {account.owner} with ${account.balance:.2f}\")\n",
    "\n",
    "# Test various operations\n",
    "operations = [\n",
    "    (\"deposit\", 50.00),      # Valid\n",
    "    (\"deposit\", -10.00),     # Invalid amount\n",
    "    (\"withdraw\", 25.00),     # Valid\n",
    "    (\"withdraw\", 200.00),    # Insufficient funds\n",
    "    (\"lock\", None),          # Lock account\n",
    "    (\"deposit\", 20.00),      # Locked account\n",
    "    (\"withdraw\", 10.00),     # Locked account\n",
    "]\n",
    "\n",
    "for operation, amount in operations:\n",
    "    print(f\"\\n💳 Operation: {operation}\" + (f\" ${amount:.2f}\" if amount else \"\"))\n",
    "    \n",
    "    if operation == \"deposit\":\n",
    "        account.deposit(amount)\n",
    "    elif operation == \"withdraw\":\n",
    "        account.withdraw(amount)\n",
    "    elif operation == \"lock\":\n",
    "        account.lock_account()\n",
    "\n",
    "print(\"\\n\" + \"=\"*60)\n"
   ]
  },
  {
   "cell_type": "code",
   "execution_count": 24,
   "id": "f0ab8476-1c63-4e0d-b9d6-1a98a41b8472",
   "metadata": {},
   "outputs": [],
   "source": [
    "# =========================\n",
    "# BEST PRACTICES\n",
    "# =========================\n",
    "# How to write good error handling code"
   ]
  },
  {
   "cell_type": "code",
   "execution_count": 25,
   "id": "33f052e1-5138-4b30-a11f-c27e32e88c18",
   "metadata": {},
   "outputs": [
    {
     "name": "stdout",
     "output_type": "stream",
     "text": [
      "\n",
      "1. ✅ BE SPECIFIC WITH EXCEPTIONS:\n",
      "# Good: Catch specific exceptions\n",
      "try:\n",
      "    result = int(user_input)\n",
      "except ValueError:\n",
      "    print('Please enter a valid number')\n",
      "\n",
      "# Avoid: Catching all exceptions\n",
      "try:\n",
      "    result = int(user_input)\n",
      "except:  # Too broad!\n",
      "    print('Something went wrong')\n"
     ]
    }
   ],
   "source": [
    "print(\"\\n1. ✅ BE SPECIFIC WITH EXCEPTIONS:\")\n",
    "print(\"# Good: Catch specific exceptions\")\n",
    "print(\"try:\")\n",
    "print(\"    result = int(user_input)\")\n",
    "print(\"except ValueError:\")\n",
    "print(\"    print('Please enter a valid number')\")\n",
    "print()\n",
    "print(\"# Avoid: Catching all exceptions\")\n",
    "print(\"try:\")\n",
    "print(\"    result = int(user_input)\")\n",
    "print(\"except:  # Too broad!\")\n",
    "print(\"    print('Something went wrong')\")"
   ]
  },
  {
   "cell_type": "code",
   "execution_count": 26,
   "id": "ee92a042-ba34-41b8-b470-ff8811d35198",
   "metadata": {},
   "outputs": [
    {
     "name": "stdout",
     "output_type": "stream",
     "text": [
      "\n",
      "2. ✅ USE DESCRIPTIVE ERROR MESSAGES:\n",
      "❌ Invalid age 'abc': invalid literal for int() with base 10: 'abc'\n",
      "   Please enter a number between 0 and 150\n"
     ]
    }
   ],
   "source": [
    "print(\"\\n2. ✅ USE DESCRIPTIVE ERROR MESSAGES:\")\n",
    "def demonstrate_good_error_messages():\n",
    "    \"\"\"Show good vs bad error messages\"\"\"\n",
    "    user_age = \"abc\"\n",
    "    \n",
    "    try:\n",
    "        age = int(user_age)\n",
    "        if age < 0:\n",
    "            raise ValueError(\"Age cannot be negative\")\n",
    "        if age > 150:\n",
    "            raise ValueError(\"Age seems unrealistic (over 150)\")\n",
    "    except ValueError as e:\n",
    "        # Good: Specific, helpful message\n",
    "        print(f\"❌ Invalid age '{user_age}': {e}\")\n",
    "        print(\"   Please enter a number between 0 and 150\")\n",
    "\n",
    "demonstrate_good_error_messages()"
   ]
  },
  {
   "cell_type": "code",
   "execution_count": 28,
   "id": "18357c82-fe69-4a4c-89ed-308327742004",
   "metadata": {},
   "outputs": [
    {
     "name": "stdout",
     "output_type": "stream",
     "text": [
      "\n",
      "3. ✅ LOG ERRORS FOR DEBUGGING:\n",
      "📝 Logged error: [2025-08-13 12:49:20] ZeroDivisionError: division by zero\n"
     ]
    }
   ],
   "source": [
    "print(\"\\n3. ✅ LOG ERRORS FOR DEBUGGING:\")\n",
    "import datetime\n",
    "\n",
    "def log_error_example():\n",
    "    \"\"\"Demonstrate error logging\"\"\"\n",
    "    try:\n",
    "        # Simulate an operation that might fail\n",
    "        risky_operation = 1 / 0\n",
    "    except Exception as e:\n",
    "        # Log the error with timestamp\n",
    "        timestamp = datetime.datetime.now().strftime(\"%Y-%m-%d %H:%M:%S\")\n",
    "        error_msg = f\"[{timestamp}] {type(e).__name__}: {e}\"\n",
    "        print(f\"📝 Logged error: {error_msg}\")\n",
    "        \n",
    "        # You could write this to a file in real applications\n",
    "        # with open(\"error.log\", \"a\") as log_file:\n",
    "        #     log_file.write(error_msg + \"\\n\")\n",
    "\n",
    "log_error_example()"
   ]
  },
  {
   "cell_type": "code",
   "execution_count": 29,
   "id": "865ef062-0ca0-48aa-b571-9476c91234c7",
   "metadata": {},
   "outputs": [
    {
     "name": "stdout",
     "output_type": "stream",
     "text": [
      "\n",
      "4. ✅ FAIL GRACEFULLY:\n",
      "⚠️ Primary source failed, trying backup...\n",
      "✅ Using backup data\n",
      "   Final result: Cached data from backup\n"
     ]
    }
   ],
   "source": [
    "print(\"\\n4. ✅ FAIL GRACEFULLY:\")\n",
    "def graceful_failure_example(data_source):\n",
    "    \"\"\"Demonstrate graceful failure with fallbacks\"\"\"\n",
    "    try:\n",
    "        # Try primary data source\n",
    "        if data_source == \"primary\":\n",
    "            raise ConnectionError(\"Primary server unavailable\")\n",
    "        data = f\"Data from {data_source}\"\n",
    "        return data\n",
    "    \n",
    "    except ConnectionError:\n",
    "        print(\"⚠️ Primary source failed, trying backup...\")\n",
    "        try:\n",
    "            # Fallback to secondary source\n",
    "            backup_data = \"Cached data from backup\"\n",
    "            print(\"✅ Using backup data\")\n",
    "            return backup_data\n",
    "        except:\n",
    "            print(\"❌ All sources failed, using default\")\n",
    "            return \"Default empty data\"\n",
    "\n",
    "result = graceful_failure_example(\"primary\")\n",
    "print(f\"   Final result: {result}\")"
   ]
  },
  {
   "cell_type": "code",
   "execution_count": 30,
   "id": "ee252c68-3d43-4ec6-9ce8-b646e38b37a4",
   "metadata": {},
   "outputs": [
    {
     "name": "stdout",
     "output_type": "stream",
     "text": [
      "\n",
      "5. ✅ VALIDATE INPUT EARLY:\n"
     ]
    }
   ],
   "source": [
    "print(\"\\n5. ✅ VALIDATE INPUT EARLY:\")\n",
    "def validate_input_example(email, age):\n",
    "    \"\"\"Demonstrate input validation\"\"\"\n",
    "    errors = []\n",
    "    \n",
    "    # Validate email\n",
    "    if not email or \"@\" not in email:\n",
    "        errors.append(\"Invalid email format\")\n",
    "    \n",
    "    # Validate age\n",
    "    try:\n",
    "        age_int = int(age)\n",
    "        if age_int < 0 or age_int > 150:\n",
    "            errors.append(\"Age must be between 0 and 150\")\n",
    "    except ValueError:\n",
    "        errors.append(\"Age must be a number\")\n",
    "    \n",
    "    if errors:\n",
    "        print(\"❌ Validation failed:\")\n",
    "        for error in errors:\n",
    "            print(f\"   • {error}\")\n",
    "        return False\n",
    "    else:\n",
    "        print(\"✅ Input validation passed\")\n",
    "        return True"
   ]
  },
  {
   "cell_type": "code",
   "execution_count": 31,
   "id": "1225585b-590c-4900-bd9d-7904c06be3a4",
   "metadata": {},
   "outputs": [
    {
     "name": "stdout",
     "output_type": "stream",
     "text": [
      "\n",
      "📝 Testing: email='alice@email.com', age='25'\n",
      "✅ Input validation passed\n",
      "\n",
      "📝 Testing: email='invalid-email', age='30'\n",
      "❌ Validation failed:\n",
      "   • Invalid email format\n",
      "\n",
      "📝 Testing: email='bob@email.com', age='-5'\n",
      "❌ Validation failed:\n",
      "   • Age must be between 0 and 150\n",
      "\n",
      "📝 Testing: email='', age='abc'\n",
      "❌ Validation failed:\n",
      "   • Invalid email format\n",
      "   • Age must be a number\n",
      "\n",
      "============================================================\n"
     ]
    }
   ],
   "source": [
    "# Test validation\n",
    "test_cases = [\n",
    "    (\"alice@email.com\", \"25\"),    # Valid\n",
    "    (\"invalid-email\", \"30\"),      # Invalid email\n",
    "    (\"bob@email.com\", \"-5\"),      # Invalid age\n",
    "    (\"\", \"abc\"),                  # Both invalid\n",
    "]\n",
    "\n",
    "for email, age in test_cases:\n",
    "    print(f\"\\n📝 Testing: email='{email}', age='{age}'\")\n",
    "    validate_input_example(email, age)\n",
    "\n",
    "print(\"\\n\" + \"=\"*60)"
   ]
  },
  {
   "cell_type": "code",
   "execution_count": 32,
   "id": "0a673d80-2d3a-43f0-8a71-4abf79a69d07",
   "metadata": {},
   "outputs": [],
   "source": [
    "# =========================\n",
    "# REAL-WORLD EXAMPLES\n",
    "# =========================\n",
    "# Practical applications of error handling\n"
   ]
  },
  {
   "cell_type": "code",
   "execution_count": 33,
   "id": "023819f9-a66e-4629-9fa5-7ced65762012",
   "metadata": {},
   "outputs": [
    {
     "name": "stdout",
     "output_type": "stream",
     "text": [
      "\n",
      "1. 📁 FILE PROCESSING WITH ERROR HANDLING:\n",
      "\n",
      "⚙️ Processing: config.txt\n",
      "📖 Reading config file: config.txt\n",
      "🔍 Parsing configuration...\n",
      "✅ Configuration loaded successfully\n",
      "   Found 3 settings\n",
      "   Config keys: ['database_url', 'api_key', 'timeout']\n",
      "\n",
      "⚙️ Processing: missing.txt\n",
      "📖 Reading config file: missing.txt\n",
      "❌ File Error: Config file 'missing.txt' not found\n",
      "   Using default configuration\n",
      "   Config keys: ['database_url', 'api_key', 'timeout']\n"
     ]
    }
   ],
   "source": [
    "print(\"\\n1. 📁 FILE PROCESSING WITH ERROR HANDLING:\")\n",
    "def process_config_file(filename):\n",
    "    \"\"\"Process configuration file with comprehensive error handling\"\"\"\n",
    "    config = {}\n",
    "    \n",
    "    try:\n",
    "        # Try to read the file\n",
    "        print(f\"📖 Reading config file: {filename}\")\n",
    "        \n",
    "        # Simulate file content\n",
    "        if filename == \"config.txt\":\n",
    "            file_content = \"database_url=localhost:5432\\napi_key=abc123\\ntimeout=30\"\n",
    "        else:\n",
    "            raise FileNotFoundError(f\"Config file '{filename}' not found\")\n",
    "        \n",
    "        # Parse the content\n",
    "        print(\"🔍 Parsing configuration...\")\n",
    "        for line_num, line in enumerate(file_content.split('\\n'), 1):\n",
    "            line = line.strip()\n",
    "            if not line or line.startswith('#'):\n",
    "                continue\n",
    "            \n",
    "            try:\n",
    "                key, value = line.split('=', 1)\n",
    "                config[key.strip()] = value.strip()\n",
    "            except ValueError:\n",
    "                print(f\"⚠️ Warning: Invalid format on line {line_num}: '{line}'\")\n",
    "                continue\n",
    "        \n",
    "        # Validate required keys\n",
    "        required_keys = ['database_url', 'api_key']\n",
    "        missing_keys = [key for key in required_keys if key not in config]\n",
    "        \n",
    "        if missing_keys:\n",
    "            raise ValueError(f\"Missing required configuration: {missing_keys}\")\n",
    "        \n",
    "        print(\"✅ Configuration loaded successfully\")\n",
    "        print(f\"   Found {len(config)} settings\")\n",
    "        return config\n",
    "    \n",
    "    except FileNotFoundError as e:\n",
    "        print(f\"❌ File Error: {e}\")\n",
    "        print(\"   Using default configuration\")\n",
    "        return {\"database_url\": \"localhost:5432\", \"api_key\": \"default\", \"timeout\": \"60\"}\n",
    "    \n",
    "    except ValueError as e:\n",
    "        print(f\"❌ Configuration Error: {e}\")\n",
    "        print(\"   Please check your config file format\")\n",
    "        return None\n",
    "    \n",
    "    except Exception as e:\n",
    "        print(f\"❌ Unexpected Error: {type(e).__name__}: {e}\")\n",
    "        print(\"   Contact system administrator\")\n",
    "        return None\n",
    "\n",
    "# Test config file processing\n",
    "config_files = [\"config.txt\", \"missing.txt\"]\n",
    "for config_file in config_files:\n",
    "    print(f\"\\n⚙️ Processing: {config_file}\")\n",
    "    result = process_config_file(config_file)\n",
    "    if result:\n",
    "        print(f\"   Config keys: {list(result.keys())}\")"
   ]
  },
  {
   "cell_type": "code",
   "execution_count": 34,
   "id": "d3deacfc-1060-4819-90fb-18a55bf19b74",
   "metadata": {},
   "outputs": [
    {
     "name": "stdout",
     "output_type": "stream",
     "text": [
      "\n",
      "2. 🌐 API REQUEST WITH RETRY LOGIC:\n"
     ]
    }
   ],
   "source": [
    "\n",
    "print(\"\\n2. 🌐 API REQUEST WITH RETRY LOGIC:\")\n",
    "import time\n",
    "import random\n",
    "\n",
    "def api_request_with_retry(url, max_retries=3):\n",
    "    \"\"\"Simulate API request with retry logic and error handling\"\"\"\n",
    "    \n",
    "    for attempt in range(1, max_retries + 1):\n",
    "        try:\n",
    "            print(f\"🌐 Attempt {attempt}: Requesting {url}\")\n",
    "            \n",
    "            # Simulate network request (random success/failure)\n",
    "            success_chance = 0.6  # 60% chance of success\n",
    "            if random.random() < success_chance:\n",
    "                # Simulate successful response\n",
    "                response_data = {\"status\": \"success\", \"data\": \"API response data\"}\n",
    "                print(\"✅ Request successful!\")\n",
    "                return response_data\n",
    "            else:\n",
    "                # Simulate network error\n",
    "                raise ConnectionError(\"Network timeout\")\n",
    "        \n",
    "        except ConnectionError as e:\n",
    "            print(f\"❌ Network Error: {e}\")\n",
    "            \n",
    "            if attempt < max_retries:\n",
    "                wait_time = attempt * 2  # Exponential backoff\n",
    "                print(f\"⏳ Retrying in {wait_time} seconds...\")\n",
    "                time.sleep(0.1)  # Shortened for demo\n",
    "            else:\n",
    "                print(f\"💥 All {max_retries} attempts failed\")\n",
    "                return None\n",
    "        \n",
    "        except Exception as e:\n",
    "            print(f\"❌ Unexpected Error: {type(e).__name__}: {e}\")\n",
    "            return None\n"
   ]
  },
  {
   "cell_type": "code",
   "execution_count": 35,
   "id": "bfc20e7f-2bff-4272-aee9-f4283415d3c1",
   "metadata": {},
   "outputs": [
    {
     "name": "stdout",
     "output_type": "stream",
     "text": [
      "\n",
      "🔗 Testing API request with retry:\n",
      "🌐 Attempt 1: Requesting https://api.example.com/data\n",
      "❌ Network Error: Network timeout\n",
      "⏳ Retrying in 2 seconds...\n",
      "🌐 Attempt 2: Requesting https://api.example.com/data\n",
      "✅ Request successful!\n",
      "   Final result: {'status': 'success', 'data': 'API response data'}\n",
      "\n",
      "============================================================\n"
     ]
    }
   ],
   "source": [
    "\n",
    "# Test API request with retry\n",
    "print(f\"\\n🔗 Testing API request with retry:\")\n",
    "api_result = api_request_with_retry(\"https://api.example.com/data\")\n",
    "print(f\"   Final result: {api_result}\")\n",
    "\n",
    "print(\"\\n\" + \"=\"*60)\n"
   ]
  },
  {
   "cell_type": "code",
   "execution_count": 36,
   "id": "c8499688-5b19-4cfa-8a76-053706b7638e",
   "metadata": {},
   "outputs": [],
   "source": [
    "# =========================\n",
    "# SUMMARY\n",
    "# ========================="
   ]
  },
  {
   "cell_type": "code",
   "execution_count": 37,
   "id": "89283b8e-b32c-46d9-a4a5-81cef115b85e",
   "metadata": {},
   "outputs": [
    {
     "name": "stdout",
     "output_type": "stream",
     "text": [
      "=== ERROR HANDLING SUMMARY ===\n",
      "\n",
      "🛡️ ERROR HANDLING BASICS:\n",
      "• try: Code that might raise an exception\n",
      "• except: Handle specific exceptions\n",
      "• else: Runs only if no exception occurred\n",
      "• finally: Always runs, regardless of exceptions\n",
      "\n",
      "📋 COMMON EXCEPTIONS:\n",
      "• ValueError: Wrong value type or format\n",
      "• TypeError: Wrong data type\n",
      "• IndexError: List/string index out of range\n",
      "• KeyError: Dictionary key doesn't exist\n",
      "• FileNotFoundError: File doesn't exist\n",
      "• ZeroDivisionError: Division by zero\n",
      "\n",
      "✅ BEST PRACTICES:\n",
      "• Be specific: Catch exact exception types\n",
      "• Provide helpful error messages\n",
      "• Log errors for debugging\n",
      "• Fail gracefully with fallbacks\n",
      "• Validate input early\n",
      "• Don't catch exceptions you can't handle\n",
      "\n",
      "🎯 REMEMBER:\n",
      "Good error handling makes your programs:\n",
      "• More reliable and robust\n",
      "• User-friendly\n",
      "• Easier to debug and maintain\n",
      "• Professional and production-ready\n",
      "\n",
      "======================================================================\n",
      "END OF ERROR HANDLING GUIDE\n",
      "======================================================================\n"
     ]
    }
   ],
   "source": [
    "print(\"=== ERROR HANDLING SUMMARY ===\")\n",
    "print()\n",
    "print(\"🛡️ ERROR HANDLING BASICS:\")\n",
    "print(\"• try: Code that might raise an exception\")\n",
    "print(\"• except: Handle specific exceptions\")\n",
    "print(\"• else: Runs only if no exception occurred\")\n",
    "print(\"• finally: Always runs, regardless of exceptions\")\n",
    "print()\n",
    "print(\"📋 COMMON EXCEPTIONS:\")\n",
    "print(\"• ValueError: Wrong value type or format\")\n",
    "print(\"• TypeError: Wrong data type\")\n",
    "print(\"• IndexError: List/string index out of range\")\n",
    "print(\"• KeyError: Dictionary key doesn't exist\")\n",
    "print(\"• FileNotFoundError: File doesn't exist\")\n",
    "print(\"• ZeroDivisionError: Division by zero\")\n",
    "print()\n",
    "print(\"✅ BEST PRACTICES:\")\n",
    "print(\"• Be specific: Catch exact exception types\")\n",
    "print(\"• Provide helpful error messages\")\n",
    "print(\"• Log errors for debugging\")\n",
    "print(\"• Fail gracefully with fallbacks\")\n",
    "print(\"• Validate input early\")\n",
    "print(\"• Don't catch exceptions you can't handle\")\n",
    "print()\n",
    "print(\"🎯 REMEMBER:\")\n",
    "print(\"Good error handling makes your programs:\")\n",
    "print(\"• More reliable and robust\")\n",
    "print(\"• User-friendly\")\n",
    "print(\"• Easier to debug and maintain\")\n",
    "print(\"• Professional and production-ready\")\n",
    "print()\n",
    "print(\"=\" * 70)\n",
    "print(\"END OF ERROR HANDLING GUIDE\")\n",
    "print(\"=\" * 70)"
   ]
  },
  {
   "cell_type": "code",
   "execution_count": null,
   "id": "759dcb58-c5ce-4b3e-92db-eecbde4b3df7",
   "metadata": {},
   "outputs": [],
   "source": []
  }
 ],
 "metadata": {
  "kernelspec": {
   "display_name": "Python 3 (ipykernel)",
   "language": "python",
   "name": "python3"
  },
  "language_info": {
   "codemirror_mode": {
    "name": "ipython",
    "version": 3
   },
   "file_extension": ".py",
   "mimetype": "text/x-python",
   "name": "python",
   "nbconvert_exporter": "python",
   "pygments_lexer": "ipython3",
   "version": "3.13.5"
  }
 },
 "nbformat": 4,
 "nbformat_minor": 5
}
