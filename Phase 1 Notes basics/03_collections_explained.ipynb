{
 "cells": [
  {
   "cell_type": "code",
   "execution_count": 1,
   "id": "68328210-dec7-4955-9b36-54cea8a78317",
   "metadata": {},
   "outputs": [],
   "source": [
    "# ===================================================================================================\n",
    "# PYTHON DATA STRUCTURES - COMPLETE GUIDE\n",
    "# ===================================================================================================\n",
    "# Lists, Tuples, Sets, and Dictionaries - Everything you need to know!\n"
   ]
  },
  {
   "cell_type": "code",
   "execution_count": 2,
   "id": "ec609935-893e-4fb0-9455-437546be5055",
   "metadata": {},
   "outputs": [
    {
     "name": "stdout",
     "output_type": "stream",
     "text": [
      "First fruit: apple\n",
      "Last fruit: cherry\n"
     ]
    }
   ],
   "source": [
    "# =========================\n",
    "# LISTS - Ordered & Mutable\n",
    "# =========================\n",
    "# Lists are ordered collections that can be changed after creation\n",
    "\n",
    "# Basic list creation and access\n",
    "fruits = [\"apple\", \"banana\", \"cherry\"]\n",
    "print(f\"First fruit: {fruits[0]}\")        # Output: First fruit: apple\n",
    "print(f\"Last fruit: {fruits[-1]}\")        # Output: Last fruit: cherr"
   ]
  },
  {
   "cell_type": "code",
   "execution_count": 3,
   "id": "20645c50-de19-4bf4-976a-abe6739a256c",
   "metadata": {},
   "outputs": [
    {
     "name": "stdout",
     "output_type": "stream",
     "text": [
      "After adding: ['apple', 'mango', 'banana', 'cherry', ['orange', 'market'], 'berry', 'kiwi', 'grape']\n"
     ]
    }
   ],
   "source": [
    "# Adding elements (multiple ways)\n",
    "fruits.append([\"orange\",\"market\"])                    # Add to end\n",
    "fruits.append(\"berry\")   \n",
    "fruits.insert(1, \"mango\")                 # Insert at specific position\n",
    "fruits.extend([\"kiwi\", \"grape\"])          # Add multiple items\n",
    "print(f\"After adding: {fruits}\")"
   ]
  },
  {
   "cell_type": "code",
   "execution_count": 4,
   "id": "85e4fd81-5d3a-4dfe-930a-83b103d3c203",
   "metadata": {},
   "outputs": [],
   "source": [
    "# Removing elements (multiple ways)\n",
    "fruits.remove(\"apple\")                    # Remove first occurrence\n",
    "popped = fruits.pop()                     # Remove and return last item\n",
    "del fruits[0]                            # Remove by index\n"
   ]
  },
  {
   "cell_type": "code",
   "execution_count": 5,
   "id": "32e7d4c1-e646-41f5-a429-c1211debbfbb",
   "metadata": {},
   "outputs": [
    {
     "name": "stdout",
     "output_type": "stream",
     "text": [
      "After removing: ['banana', 'cherry', ['orange', 'market'], 'berry', 'kiwi']\n",
      "Popped item: grape\n"
     ]
    }
   ],
   "source": [
    "print(f\"After removing: {fruits}\")\n",
    "print(f\"Popped item: {popped}\")"
   ]
  },
  {
   "cell_type": "code",
   "execution_count": 6,
   "id": "26f55ec0-ed0e-4079-9f4d-faf79143ad30",
   "metadata": {},
   "outputs": [
    {
     "name": "stdout",
     "output_type": "stream",
     "text": [
      "After modification: ['watermelon', 'cherry', ['orange', 'market'], 'berry', 'kiwi']\n"
     ]
    }
   ],
   "source": [
    "# Modifying elements\n",
    "fruits[0] = \"watermelon\"                  # Change by index\n",
    "print(f\"After modification: {fruits}\")"
   ]
  },
  {
   "cell_type": "code",
   "execution_count": 7,
   "id": "61061975-fbcf-4b5a-a06a-10bd72e4c61e",
   "metadata": {},
   "outputs": [
    {
     "name": "stdout",
     "output_type": "stream",
     "text": [
      "First 5: [0, 1, 2, 3, 4]\n",
      "Last 3: [7, 8, 9]\n",
      "Every 2nd: [0, 2, 4, 6, 8]\n",
      "Reversed: [9, 8, 7, 6, 5, 4, 3, 2, 1, 0]\n"
     ]
    }
   ],
   "source": [
    "# List slicing (powerful feature!)\n",
    "numbers = [0, 1, 2, 3, 4, 5, 6, 7, 8, 9]\n",
    "print(f\"First 5: {numbers[:5]}\")          # [0, 1, 2, 3, 4]\n",
    "print(f\"Last 3: {numbers[-3:]}\")          # [7, 8, 9]\n",
    "print(f\"Every 2nd: {numbers[::2]}\")       # [0, 2, 4, 6, 8]\n",
    "print(f\"Reversed: {numbers[::-1]}\")       # [9, 8, 7, 6, 5, 4, 3, 2, 1, 0]"
   ]
  },
  {
   "cell_type": "code",
   "execution_count": 8,
   "id": "b39d17b6-5d7a-4c2c-bb19-279293b61c16",
   "metadata": {},
   "outputs": [
    {
     "name": "stdout",
     "output_type": "stream",
     "text": [
      "Squares: [0, 1, 4, 9, 16]\n"
     ]
    }
   ],
   "source": [
    "# List comprehension (Pythonic way to create lists)\n",
    "squares = [x**2 for x in range(5)]\n",
    "print(f\"Squares: {squares}\")              # [0, 1, 4, 9, 16]"
   ]
  },
  {
   "cell_type": "code",
   "execution_count": 9,
   "id": "0773ebeb-7560-4823-97bb-886ef9d738c7",
   "metadata": {},
   "outputs": [
    {
     "name": "stdout",
     "output_type": "stream",
     "text": [
      "Even numbers: [0, 2, 4, 6, 8]\n"
     ]
    }
   ],
   "source": [
    "# Conditional list comprehension\n",
    "evens = [x for x in range(10) if x % 2 == 0]\n",
    "print(f\"Even numbers: {evens}\")           # [0, 2, 4, 6, 8]"
   ]
  },
  {
   "cell_type": "code",
   "execution_count": 10,
   "id": "3b470a1d-b38c-493d-a906-7734e5a8b568",
   "metadata": {},
   "outputs": [
    {
     "name": "stdout",
     "output_type": "stream",
     "text": [
      "Mixed list: [1, 'hello', 3.14, True, [1, 2, 3]]\n"
     ]
    }
   ],
   "source": [
    "# Lists can hold mixed types (but use carefully!)\n",
    "mixed = [1, \"hello\", 3.14, True, [1, 2, 3]]\n",
    "print(f\"Mixed list: {mixed}\")\n"
   ]
  },
  {
   "cell_type": "code",
   "execution_count": 11,
   "id": "3209cf94-0108-438f-9d53-8c40a98305f0",
   "metadata": {},
   "outputs": [
    {
     "name": "stdout",
     "output_type": "stream",
     "text": [
      "Length: 8\n",
      "Max: 9\n",
      "Min: 1\n",
      "Sum: 31\n",
      "Count of 1: 2\n",
      "Index of 4: 2\n"
     ]
    }
   ],
   "source": [
    "\n",
    "# Useful list methods\n",
    "sample_list = [3, 1, 4, 1, 5, 9, 2, 6]\n",
    "print(f\"Length: {len(sample_list)}\") \n",
    "print(f\"Max: {max(sample_list)}\")\n",
    "print(f\"Min: {min(sample_list)}\")\n",
    "print(f\"Sum: {sum(sample_list)}\")\n",
    "print(f\"Count of 1: {sample_list.count(1)}\")\n",
    "print(f\"Index of 4: {sample_list.index(4)}\")"
   ]
  },
  {
   "cell_type": "code",
   "execution_count": 12,
   "id": "3106191d-b8a0-4594-9309-dc44f009eb7d",
   "metadata": {},
   "outputs": [
    {
     "name": "stdout",
     "output_type": "stream",
     "text": [
      "Sorted: [1, 1, 2, 3, 4, 5, 6, 9]\n"
     ]
    }
   ],
   "source": [
    "# Sorting\n",
    "sample_list.sort()                        # Modifies original\n",
    "print(f\"Sorted: {sample_list}\")"
   ]
  },
  {
   "cell_type": "code",
   "execution_count": 13,
   "id": "967dbfa7-ea60-4319-9e75-726639949e33",
   "metadata": {},
   "outputs": [
    {
     "name": "stdout",
     "output_type": "stream",
     "text": [
      "Sorted copy (desc): [5, 4, 3, 1, 1]\n"
     ]
    }
   ],
   "source": [
    "sorted_copy = sorted([3, 1, 4, 1, 5], reverse=True)  # Creates new list\n",
    "print(f\"Sorted copy (desc):\", sorted_copy)\n"
   ]
  },
  {
   "cell_type": "code",
   "execution_count": null,
   "id": "7e99130a-0df4-45ed-9d77-ecd595017c9e",
   "metadata": {},
   "outputs": [],
   "source": []
  },
  {
   "cell_type": "code",
   "execution_count": null,
   "id": "30a1e143-d244-4e30-80e5-7ed201782535",
   "metadata": {},
   "outputs": [],
   "source": []
  },
  {
   "cell_type": "code",
   "execution_count": 14,
   "id": "78751336-c5ce-444f-825b-889d559b761f",
   "metadata": {},
   "outputs": [],
   "source": [
    "# =========================\n",
    "# TUPLES - Ordered & Immutable\n",
    "# =========================\n",
    "# Tuples are ordered collections that CANNOT be changed after creation"
   ]
  },
  {
   "cell_type": "code",
   "execution_count": 15,
   "id": "c3daa7c8-839a-401f-99be-a9a9cbf3a51f",
   "metadata": {},
   "outputs": [
    {
     "name": "stdout",
     "output_type": "stream",
     "text": [
      "X coordinate: 10.0\n"
     ]
    }
   ],
   "source": [
    "# Basic tuple creation\n",
    "coordinates = (10.0, 20.0)\n",
    "rgb_color = (255, 128, 0)\n",
    "print(f\"X coordinate: {coordinates[0]}\")   # Output: 10.0"
   ]
  },
  {
   "cell_type": "code",
   "execution_count": 16,
   "id": "69c28a36-d447-47b9-8595-c1a66f6113f4",
   "metadata": {},
   "outputs": [
    {
     "name": "stdout",
     "output_type": "stream",
     "text": [
      "Single tuple type: <class 'tuple'>\n",
      "Not tuple type: <class 'int'>\n"
     ]
    }
   ],
   "source": [
    "# Single element tuple (note the comma!)\n",
    "single = (42,)                            # Comma is required!\n",
    "not_tuple = (42)                          # This is just an integer in parentheses\n",
    "print(f\"Single tuple type: {type(single)}\")\n",
    "print(f\"Not tuple type: {type(not_tuple)}\")"
   ]
  },
  {
   "cell_type": "code",
   "execution_count": 17,
   "id": "3884a8c0-9ec8-4a1c-b1ea-edae230fe5db",
   "metadata": {},
   "outputs": [
    {
     "name": "stdout",
     "output_type": "stream",
     "text": [
      "Unpacked: x=10.0, y=20.0\n",
      "RGB: red=255, green=128, blue=0\n"
     ]
    }
   ],
   "source": [
    "# Tuple unpacking (very useful!)\n",
    "x, y = coordinates\n",
    "r, g, b = rgb_color\n",
    "print(f\"Unpacked: x={x}, y={y}\")\n",
    "print(f\"RGB: red={r}, green={g}, blue={b}\")"
   ]
  },
  {
   "cell_type": "code",
   "execution_count": 18,
   "id": "c9c8c2c9-54f4-4ab9-894c-1f2deaa311fa",
   "metadata": {},
   "outputs": [
    {
     "name": "stdout",
     "output_type": "stream",
     "text": [
      "After swap: a=2, b=1\n"
     ]
    }
   ],
   "source": [
    "# Multiple assignment using tuples\n",
    "a, b = 1, 2                               # Actually creates a tuple (1, 2)\n",
    "a, b = b, a                               # Elegant way to swap values!\n",
    "print(f\"After swap: a={a}, b={b}\")"
   ]
  },
  {
   "cell_type": "code",
   "execution_count": 19,
   "id": "e3c1a169-f64d-4a51-bfdb-f81c1f3645f5",
   "metadata": {},
   "outputs": [
    {
     "name": "stdout",
     "output_type": "stream",
     "text": [
      "Location at (1,1): Northeast\n"
     ]
    }
   ],
   "source": [
    "# Tuples as dictionary keys (because they're immutable!)\n",
    "locations = {\n",
    "    (0, 0): \"Origin\",\n",
    "    (1, 1): \"Northeast\",\n",
    "    (-1, -1): \"Southwest\"\n",
    "}\n",
    "print(f\"Location at (1,1): {locations[(1, 1)]}\")"
   ]
  },
  {
   "cell_type": "code",
   "execution_count": 20,
   "id": "8dc9665b-a621-4624-a896-a10da9e14aab",
   "metadata": {},
   "outputs": [
    {
     "name": "stdout",
     "output_type": "stream",
     "text": [
      "Count of 2: 3\n",
      "Index of 3: 3\n"
     ]
    }
   ],
   "source": [
    "# Tuple methods (only 2!)\n",
    "sample_tuple = (1, 2, 2, 3, 2, 4)\n",
    "print(f\"Count of 2: {sample_tuple.count(2)}\")\n",
    "print(f\"Index of 3: {sample_tuple.index(3)}\")"
   ]
  },
  {
   "cell_type": "code",
   "execution_count": 21,
   "id": "f1af2557-00f8-4cbf-8f9c-7048ba435d37",
   "metadata": {},
   "outputs": [
    {
     "name": "stdout",
     "output_type": "stream",
     "text": [
      "List from tuple: [10.0, 20.0]\n"
     ]
    }
   ],
   "source": [
    "\n",
    "# Converting between lists and tuples\n",
    "list_from_tuple = list(coordinates)\n",
    "tuple_from_list = tuple(fruits)\n",
    "print(f\"List from tuple: {list_from_tuple}\")"
   ]
  },
  {
   "cell_type": "code",
   "execution_count": null,
   "id": "582f1ea6-9408-4a62-86f3-74c4de9d403c",
   "metadata": {},
   "outputs": [],
   "source": []
  },
  {
   "cell_type": "code",
   "execution_count": null,
   "id": "a38ba4ad-8c0b-4441-901f-3f383fef271e",
   "metadata": {},
   "outputs": [],
   "source": []
  },
  {
   "cell_type": "code",
   "execution_count": 22,
   "id": "c8041648-48f2-4a7a-8d3b-e0478474cf81",
   "metadata": {},
   "outputs": [],
   "source": [
    "# =========================\n",
    "# SETS - Unordered & Unique\n",
    "# =========================\n",
    "# Sets store unique elements in no particular order\n"
   ]
  },
  {
   "cell_type": "code",
   "execution_count": 23,
   "id": "403a95bf-0a83-4408-a031-e3b7aa06c53a",
   "metadata": {},
   "outputs": [
    {
     "name": "stdout",
     "output_type": "stream",
     "text": [
      "Unique numbers: {1, 2, 3}\n"
     ]
    }
   ],
   "source": [
    "# Creating sets\n",
    "unique_numbers = {1, 2, 3, 2, 1}          # Duplicates automatically removed\n",
    "print(f\"Unique numbers: {unique_numbers}\") # Output: {1, 2, 3}"
   ]
  },
  {
   "cell_type": "code",
   "execution_count": 24,
   "id": "4f1526ca-63c1-469d-8cc0-1e2c849db50f",
   "metadata": {},
   "outputs": [
    {
     "name": "stdout",
     "output_type": "stream",
     "text": [
      "Empty set: set()\n"
     ]
    }
   ],
   "source": [
    "# Creating empty set (careful with syntax!)\n",
    "empty_set = set()                          # {} creates empty dict, not set!\n",
    "print(f\"Empty set: {empty_set}\")\n"
   ]
  },
  {
   "cell_type": "code",
   "execution_count": 25,
   "id": "28734fb0-8cc9-4f9f-a62c-4298b4d8353c",
   "metadata": {},
   "outputs": [
    {
     "name": "stdout",
     "output_type": "stream",
     "text": [
      "Colors: {'green', 'yellow', 'blue'}\n"
     ]
    }
   ],
   "source": [
    "# Adding and removing elements\n",
    "colors = {\"red\", \"green\", \"blue\"}\n",
    "colors.add(\"yellow\")\n",
    "colors.remove(\"red\")                       # Raises error if not found\n",
    "colors.discard(\"purple\")                   # No error if not found\n",
    "print(f\"Colors: {colors}\")"
   ]
  },
  {
   "cell_type": "code",
   "execution_count": 26,
   "id": "85d98b84-549b-481b-ae61-973c68a24840",
   "metadata": {},
   "outputs": [],
   "source": [
    "# Set operations (mathematical operations!)\n",
    "set_a = {1, 2, 3, 4, 5}\n",
    "set_b = {4, 5, 6, 7, 8}"
   ]
  },
  {
   "cell_type": "code",
   "execution_count": 27,
   "id": "cd2dee1a-b23a-4e2e-999f-b02832515a4f",
   "metadata": {},
   "outputs": [
    {
     "name": "stdout",
     "output_type": "stream",
     "text": [
      "Union (|): {1, 2, 3, 4, 5, 6, 7, 8}\n",
      "Intersection (&): {4, 5}\n",
      "Difference (-): {1, 2, 3}\n",
      "Symmetric Diff (^): {1, 2, 3, 6, 7, 8}\n"
     ]
    }
   ],
   "source": [
    "print(f\"Union (|): {set_a | set_b}\")              # {1, 2, 3, 4, 5, 6, 7, 8}\n",
    "print(f\"Intersection (&): {set_a & set_b}\")       # {4, 5}\n",
    "print(f\"Difference (-): {set_a - set_b}\")         # {1, 2, 3}\n",
    "print(f\"Symmetric Diff (^): {set_a ^ set_b}\")     # {1, 2, 3, 6, 7, 8}"
   ]
  },
  {
   "cell_type": "code",
   "execution_count": 28,
   "id": "80bcbbc7-d7c3-4623-9b04-36760d10520b",
   "metadata": {},
   "outputs": [
    {
     "name": "stdout",
     "output_type": "stream",
     "text": [
      "Union method: {1, 2, 3, 4, 5, 6, 7, 8}\n",
      "Intersection method: {4, 5}\n"
     ]
    }
   ],
   "source": [
    "# Set methods (alternative to operators)\n",
    "print(f\"Union method: {set_a.union(set_b)}\")\n",
    "print(f\"Intersection method: {set_a.intersection(set_b)}\")"
   ]
  },
  {
   "cell_type": "code",
   "execution_count": 29,
   "id": "bc341a71-918d-43d5-a3ac-ca84e79eca62",
   "metadata": {},
   "outputs": [
    {
     "name": "stdout",
     "output_type": "stream",
     "text": [
      "Is 3 in set_a? True\n",
      "Is set_a superset of {1, 2}? True\n"
     ]
    }
   ],
   "source": [
    "# Checking membership and relationships\n",
    "print(f\"Is 3 in set_a? {3 in set_a}\")\n",
    "print(f\"Is set_a superset of {{1, 2}}? {set_a.issuperset({1, 2})}\")"
   ]
  },
  {
   "cell_type": "code",
   "execution_count": 30,
   "id": "82c32d23-dd19-4f96-928a-7e6edfbe61df",
   "metadata": {},
   "outputs": [
    {
     "name": "stdout",
     "output_type": "stream",
     "text": [
      "Removed duplicates: [1, 2, 3, 4]\n"
     ]
    }
   ],
   "source": [
    "# Practical use: removing duplicates from list\n",
    "duplicated_list = [1, 2, 2, 3, 3, 3, 4, 4, 4, 4]\n",
    "unique_list = list(set(duplicated_list))\n",
    "print(f\"Removed duplicates: {unique_list}\")\n"
   ]
  },
  {
   "cell_type": "code",
   "execution_count": null,
   "id": "1c5903cd-70d3-48fb-b530-3aca64882154",
   "metadata": {},
   "outputs": [],
   "source": []
  },
  {
   "cell_type": "code",
   "execution_count": null,
   "id": "070b4cbd-b76d-4671-98f3-e396a18675aa",
   "metadata": {},
   "outputs": [],
   "source": []
  },
  {
   "cell_type": "code",
   "execution_count": null,
   "id": "7953fb59-bfc0-4d79-a566-db9b46e4e218",
   "metadata": {},
   "outputs": [],
   "source": []
  },
  {
   "cell_type": "code",
   "execution_count": 31,
   "id": "6a627343-8bcd-4521-8469-a10e19e00b59",
   "metadata": {},
   "outputs": [],
   "source": [
    "# =========================\n",
    "# DICTIONARIES - Key-Value Pairs\n",
    "# =========================\n",
    "# Dictionaries store data as key-value pairs"
   ]
  },
  {
   "cell_type": "code",
   "execution_count": 32,
   "id": "dd730089-6e3d-406f-9f05-105faf66a5a5",
   "metadata": {},
   "outputs": [
    {
     "name": "stdout",
     "output_type": "stream",
     "text": [
      "Name: Alice\n"
     ]
    }
   ],
   "source": [
    "# Creating dictionaries\n",
    "person = {\"name\": \"Alice\", \"age\": 25, \"city\": \"New York\"}\n",
    "print(f\"Name: {person['name']}\")"
   ]
  },
  {
   "cell_type": "code",
   "execution_count": 33,
   "id": "c53ddb89-8fa3-41b2-a938-a867a1276817",
   "metadata": {},
   "outputs": [],
   "source": [
    "# Alternative creation methods\n",
    "person2 = dict(name=\"Bob\", age=30, city=\"Boston\")\n",
    "person3 = dict([(\"name\", \"Charlie\"), (\"age\", 35)])"
   ]
  },
  {
   "cell_type": "code",
   "execution_count": 34,
   "id": "d8b4770e-a377-4cdd-8c37-870565e63449",
   "metadata": {},
   "outputs": [
    {
     "name": "stdout",
     "output_type": "stream",
     "text": [
      "Updated person: {'name': 'Alice', 'age': 26, 'city': 'New York', 'email': 'alice@email.com'}\n"
     ]
    }
   ],
   "source": [
    "# Adding and modifying values\n",
    "person[\"email\"] = \"alice@email.com\"        # Add new key-value\n",
    "person[\"age\"] = 26                         # Modify existing value\n",
    "print(f\"Updated person: {person}\")"
   ]
  },
  {
   "cell_type": "code",
   "execution_count": 35,
   "id": "33c298f2-21c0-441e-baac-0e3924a837f4",
   "metadata": {},
   "outputs": [
    {
     "name": "stdout",
     "output_type": "stream",
     "text": [
      "Age: 26\n",
      "Phone: Not provided\n"
     ]
    }
   ],
   "source": [
    "# Safe access with get() method\n",
    "print(f\"Age: {person.get('age', 'Unknown')}\")\n",
    "print(f\"Phone: {person.get('phone', 'Not provided')}\")"
   ]
  },
  {
   "cell_type": "code",
   "execution_count": 36,
   "id": "a22c3978-ac56-455d-9689-824e8ff1ba72",
   "metadata": {},
   "outputs": [
    {
     "name": "stdout",
     "output_type": "stream",
     "text": [
      "After removal: {'name': 'Alice', 'age': 26}\n",
      "Popped email: alice@email.com\n"
     ]
    }
   ],
   "source": [
    "# Removing items\n",
    "del person[\"city\"]                         # Remove key-value pair\n",
    "email = person.pop(\"email\", \"No email\")    # Remove and return value\n",
    "print(f\"After removal: {person}\")\n",
    "print(f\"Popped email: {email}\")"
   ]
  },
  {
   "cell_type": "code",
   "execution_count": 37,
   "id": "75456a1a-4c70-4893-95c8-e95a3c6bbbf0",
   "metadata": {},
   "outputs": [
    {
     "name": "stdout",
     "output_type": "stream",
     "text": [
      "Keys: ['name', 'age']\n",
      "Values: ['Alice', 26]\n",
      "Items: [('name', 'Alice'), ('age', 26)]\n"
     ]
    }
   ],
   "source": [
    "# Dictionary methods and operations\n",
    "print(f\"Keys: {list(person.keys())}\")\n",
    "print(f\"Values: {list(person.values())}\")\n",
    "print(f\"Items: {list(person.items())}\")"
   ]
  },
  {
   "cell_type": "code",
   "execution_count": 38,
   "id": "c6a5c9aa-e6a5-4474-8167-ae255fa99686",
   "metadata": {},
   "outputs": [
    {
     "name": "stdout",
     "output_type": "stream",
     "text": [
      "name: Alice\n",
      "age: 26\n"
     ]
    }
   ],
   "source": [
    "# Looping through dictionaries\n",
    "for key in person:                         # Iterate over keys\n",
    "    print(f\"{key}: {person[key]}\")"
   ]
  },
  {
   "cell_type": "code",
   "execution_count": 39,
   "id": "da306b16-8782-43bc-9361-d22cc9ba42d5",
   "metadata": {},
   "outputs": [
    {
     "name": "stdout",
     "output_type": "stream",
     "text": [
      "name -> Alice\n",
      "age -> 26\n"
     ]
    }
   ],
   "source": [
    "for key, value in person.items():          # Iterate over key-value pairs\n",
    "    print(f\"{key} -> {value}\")"
   ]
  },
  {
   "cell_type": "code",
   "execution_count": 40,
   "id": "d7e1da43-b0d1-4131-b334-55039c81bf7d",
   "metadata": {},
   "outputs": [
    {
     "name": "stdout",
     "output_type": "stream",
     "text": [
      "Squares dict: {0: 0, 1: 1, 2: 4, 3: 9, 4: 16}\n"
     ]
    }
   ],
   "source": [
    "\n",
    "# Dictionary comprehension\n",
    "squares_dict = {x: x**2 for x in range(5)}\n",
    "print(f\"Squares dict: {squares_dict}\")"
   ]
  },
  {
   "cell_type": "code",
   "execution_count": 41,
   "id": "d0b7952a-51a6-4002-a9e1-f92ee6e69ae7",
   "metadata": {},
   "outputs": [
    {
     "name": "stdout",
     "output_type": "stream",
     "text": [
      "John's grades: [85, 90, 78]\n"
     ]
    }
   ],
   "source": [
    "# Nested dictionaries\n",
    "students = {\n",
    "    \"student1\": {\"name\": \"John\", \"grades\": [85, 90, 78]},\n",
    "    \"student2\": {\"name\": \"Jane\", \"grades\": [92, 88, 95]}\n",
    "}\n",
    "print(f\"John's grades: {students['student1']['grades']}\")\n"
   ]
  },
  {
   "cell_type": "code",
   "execution_count": 42,
   "id": "f049413a-b7a6-459f-8888-00561fd5af26",
   "metadata": {},
   "outputs": [
    {
     "name": "stdout",
     "output_type": "stream",
     "text": [
      "Merged: {'a': 1, 'b': 2, 'c': 3, 'd': 4}\n"
     ]
    }
   ],
   "source": [
    "# Merging dictionaries (Python 3.9+)\n",
    "dict1 = {\"a\": 1, \"b\": 2}\n",
    "dict2 = {\"c\": 3, \"d\": 4}\n",
    "merged = dict1 | dict2                     # New in Python 3.9\n",
    "print(f\"Merged: {merged}\")"
   ]
  },
  {
   "cell_type": "code",
   "execution_count": 43,
   "id": "65cd397d-de7a-4610-852a-4b72bb8ab3c9",
   "metadata": {},
   "outputs": [
    {
     "name": "stdout",
     "output_type": "stream",
     "text": [
      "Merged (old way): {'a': 1, 'b': 2, 'c': 3, 'd': 4}\n"
     ]
    }
   ],
   "source": [
    "\n",
    "# Alternative merging (older Python versions)\n",
    "merged_old = {**dict1, **dict2}\n",
    "print(f\"Merged (old way): {merged_old}\")\n"
   ]
  },
  {
   "cell_type": "code",
   "execution_count": null,
   "id": "a7a7558d-92be-4e40-9c55-fffa2371e238",
   "metadata": {},
   "outputs": [],
   "source": []
  },
  {
   "cell_type": "code",
   "execution_count": null,
   "id": "cecf1863-9c69-4c4b-9642-f87b9bfbdb83",
   "metadata": {},
   "outputs": [],
   "source": []
  },
  {
   "cell_type": "code",
   "execution_count": 44,
   "id": "e078ffd4-0e64-4f02-a237-7f7c217158a7",
   "metadata": {},
   "outputs": [],
   "source": [
    "# =========================\n",
    "# PERFORMANCE COMPARISON\n",
    "# =========================\n",
    "# Understanding when to use each data structure"
   ]
  },
  {
   "cell_type": "code",
   "execution_count": 45,
   "id": "c099f4e7-d3e6-4d56-bca5-50c2d500a9bd",
   "metadata": {},
   "outputs": [
    {
     "name": "stdout",
     "output_type": "stream",
     "text": [
      "\n",
      "Performance comparison for membership testing:\n",
      "List: 0.000212 seconds\n",
      "Set:  0.000034 seconds (much faster!)\n",
      "Dict: 0.000033 seconds (much faster!)\n"
     ]
    }
   ],
   "source": [
    "import time\n",
    "\n",
    "# Membership testing comparison\n",
    "big_list = list(range(10000))\n",
    "big_set = set(range(10000))\n",
    "big_dict = {i: f\"value_{i}\" for i in range(10000)}\n",
    "\n",
    "target = 9999\n",
    "\n",
    "# List search (slow - O(n))\n",
    "start = time.time()\n",
    "result = target in big_list\n",
    "list_time = time.time() - start\n",
    "\n",
    "# Set search (fast - O(1) average)\n",
    "start = time.time()\n",
    "result = target in big_set\n",
    "set_time = time.time() - start\n",
    "\n",
    "# Dict key search (fast - O(1) average)\n",
    "start = time.time()\n",
    "result = target in big_dict\n",
    "dict_time = time.time() - start\n",
    "\n",
    "print(f\"\\nPerformance comparison for membership testing:\")\n",
    "print(f\"List: {list_time:.6f} seconds\")\n",
    "print(f\"Set:  {set_time:.6f} seconds (much faster!)\")\n",
    "print(f\"Dict: {dict_time:.6f} seconds (much faster!)\")\n"
   ]
  },
  {
   "cell_type": "code",
   "execution_count": null,
   "id": "8290b343-acb8-4844-aa01-f03bbb6060f1",
   "metadata": {},
   "outputs": [],
   "source": [
    "\n"
   ]
  },
  {
   "cell_type": "code",
   "execution_count": 46,
   "id": "59d626b3-6c52-4232-a643-612fd5c1c71c",
   "metadata": {},
   "outputs": [],
   "source": [
    "# =========================\n",
    "# COMMON MISTAKES TO AVOID\n",
    "# ========================="
   ]
  },
  {
   "cell_type": "code",
   "execution_count": 47,
   "id": "752441ed-2611-4044-a98f-a0783d5cd5db",
   "metadata": {},
   "outputs": [
    {
     "name": "stdout",
     "output_type": "stream",
     "text": [
      "\n",
      "=== COMMON MISTAKES ===\n"
     ]
    }
   ],
   "source": [
    "print(\"\\n=== COMMON MISTAKES ===\")\n",
    "\n",
    "# Mistake 1: Modifying list while iterating\n",
    "fruits_with_apples = [\"apple\", \"banana\", \"apple\", \"cherry\", \"apple\"]\n",
    "\n",
    "# DON'T DO THIS:\n",
    "# for fruit in fruits_with_apples:\n",
    "#     if fruit == \"apple\":\n",
    "#         fruits_with_apples.remove(fruit)  # This can skip elements!"
   ]
  },
  {
   "cell_type": "code",
   "execution_count": 53,
   "id": "872f8827-d1bc-4da9-a7a6-aaeae2c00f1e",
   "metadata": {},
   "outputs": [
    {
     "name": "stdout",
     "output_type": "stream",
     "text": [
      "Removed apples correctly: ['banana', 'cherry']\n",
      "\n",
      "1️⃣ STRUCTURE:\n",
      "   [EXPRESSION for ITEM in ITERABLE if CONDITION]\n",
      "   │     │          │        │          │\n",
      "   │     │          │        │          └─ Filter condition\n",
      "   │     │          │        └─ What we're looping through\n",
      "   │     │          └─ Loop variable name\n",
      "   │     └─ What to put in the new list\n",
      "   └─ Creates a new list\n",
      "\n",
      "2️⃣ OUR SPECIFIC EXAMPLE:\n",
      "   [fruit for fruit in fruits_with_apples if fruit != \"apple\"]\n",
      "   │  │      │         │                    │\n",
      "   │  │      │         │                    └─ Only if fruit is NOT \"apple\"\n",
      "   │  │      │         └─ Loop through fruits_with_apples\n",
      "   │  │      └─ Each item is called 'fruit'\n",
      "   │  └─ Put each 'fruit' in the new list\n",
      "   └─ Create new list called fruits_no_apples\n"
     ]
    }
   ],
   "source": [
    "# DO THIS INSTEAD:\n",
    "fruits_no_apples = [fruit for fruit in fruits_with_apples if fruit != \"apple\"]\n",
    "print(f\"Removed apples correctly: {fruits_no_apples}\")\\\n",
    "\n",
    "\n",
    "print(\"\\n1️⃣ STRUCTURE:\")\n",
    "print(\"   [EXPRESSION for ITEM in ITERABLE if CONDITION]\")\n",
    "print(\"   │     │          │        │          │\")\n",
    "print(\"   │     │          │        │          └─ Filter condition\")\n",
    "print(\"   │     │          │        └─ What we're looping through\")\n",
    "print(\"   │     │          └─ Loop variable name\")\n",
    "print(\"   │     └─ What to put in the new list\")\n",
    "print(\"   └─ Creates a new list\")\n",
    "\n",
    "print(\"\\n2️⃣ OUR SPECIFIC EXAMPLE:\")\n",
    "print(\"   [fruit for fruit in fruits_with_apples if fruit != \\\"apple\\\"]\")\n",
    "print(\"   │  │      │         │                    │\")\n",
    "print(\"   │  │      │         │                    └─ Only if fruit is NOT \\\"apple\\\"\")\n",
    "print(\"   │  │      │         └─ Loop through fruits_with_apples\")\n",
    "print(\"   │  │      └─ Each item is called 'fruit'\")\n",
    "print(\"   │  └─ Put each 'fruit' in the new list\")\n",
    "print(\"   └─ Create new list called fruits_no_apples\")"
   ]
  },
  {
   "cell_type": "code",
   "execution_count": 54,
   "id": "c3b0b060-3e5b-422e-bd74-8f4b6faf610a",
   "metadata": {},
   "outputs": [],
   "source": [
    "# Mistake 2: Using mutable default arguments\n",
    "def add_item(item, target_list=None):      # Good: use None\n",
    "    if target_list is None:\n",
    "        target_list = []                   # Create new list each time\n",
    "    target_list.append(item)\n",
    "    return target_list\n"
   ]
  },
  {
   "cell_type": "code",
   "execution_count": 55,
   "id": "160c4cf8-bb53-4f6d-bf14-d3e3f9a7aefd",
   "metadata": {},
   "outputs": [
    {
     "name": "stdout",
     "output_type": "stream",
     "text": [
      "Dictionary order preserved: ['first', 'second', 'third']\n"
     ]
    }
   ],
   "source": [
    "# Mistake 3: Forgetting that dictionaries maintain insertion order (Python 3.7+)\n",
    "ordered_dict = {\"first\": 1, \"second\": 2, \"third\": 3}\n",
    "print(f\"Dictionary order preserved: {list(ordered_dict.keys())}\")"
   ]
  },
  {
   "cell_type": "code",
   "execution_count": 56,
   "id": "45d6db54-59a0-4a6b-a02a-140285c2ab85",
   "metadata": {},
   "outputs": [],
   "source": [
    "# Mistake 4: Trying to use unhashable types as dictionary keys\n",
    "# This would cause an error:\n",
    "# bad_dict = {[1, 2]: \"list as key\"}      # Lists are mutable, can't be keys"
   ]
  },
  {
   "cell_type": "code",
   "execution_count": 57,
   "id": "1b4eff31-f081-49f2-9c21-6705acb4f658",
   "metadata": {},
   "outputs": [
    {
     "name": "stdout",
     "output_type": "stream",
     "text": [
      "Tuple as key works: {(1, 2): 'tuple as key'}\n"
     ]
    }
   ],
   "source": [
    "# Use tuples instead:\n",
    "good_dict = {(1, 2): \"tuple as key\"}\n",
    "print(f\"Tuple as key works: {good_dict}\")\n"
   ]
  },
  {
   "cell_type": "code",
   "execution_count": 58,
   "id": "77adc84c-0d87-463c-9b9a-c83406dd16ec",
   "metadata": {},
   "outputs": [
    {
     "name": "stdout",
     "output_type": "stream",
     "text": [
      "\n",
      "=== QUICK METHOD REFERENCE ===\n",
      "LISTS:\n",
      "  append(x), extend(iterable), insert(i, x), remove(x), pop(i)\n",
      "  index(x), count(x), sort(), reverse(), clear()\n",
      "\n",
      "TUPLES:\n",
      "  count(x), index(x)\n",
      "\n",
      "SETS:\n",
      "  add(x), remove(x), discard(x), pop(), clear()\n",
      "  union(), intersection(), difference(), symmetric_difference()\n",
      "  issubset(), issuperset(), isdisjoint()\n",
      "\n",
      "DICTIONARIES:\n",
      "  get(key, default), keys(), values(), items()\n",
      "  pop(key, default), popitem(), clear(), update()\n"
     ]
    }
   ],
   "source": [
    "\n",
    "# =========================\n",
    "# QUICK METHOD REFERENCE\n",
    "# =========================\n",
    "\n",
    "print(\"\\n=== QUICK METHOD REFERENCE ===\")\n",
    "print(\"LISTS:\")\n",
    "print(\"  append(x), extend(iterable), insert(i, x), remove(x), pop(i)\")\n",
    "print(\"  index(x), count(x), sort(), reverse(), clear()\")\n",
    "\n",
    "print(\"\\nTUPLES:\")\n",
    "print(\"  count(x), index(x)\")\n",
    "\n",
    "print(\"\\nSETS:\")\n",
    "print(\"  add(x), remove(x), discard(x), pop(), clear()\")\n",
    "print(\"  union(), intersection(), difference(), symmetric_difference()\")\n",
    "print(\"  issubset(), issuperset(), isdisjoint()\")\n",
    "\n",
    "print(\"\\nDICTIONARIES:\")\n",
    "print(\"  get(key, default), keys(), values(), items()\")\n",
    "print(\"  pop(key, default), popitem(), clear(), update()\")"
   ]
  },
  {
   "cell_type": "code",
   "execution_count": null,
   "id": "78587050-3d90-455e-a7b5-2be3604df9ce",
   "metadata": {},
   "outputs": [],
   "source": []
  },
  {
   "cell_type": "code",
   "execution_count": 59,
   "id": "20bf6263-70fc-483c-96f0-2939cd2a15bb",
   "metadata": {},
   "outputs": [
    {
     "name": "stdout",
     "output_type": "stream",
     "text": [
      "\n",
      "=== WHEN TO USE WHAT? ===\n",
      "📝 LISTS: When you need ordered, changeable collections\n",
      "   - Shopping lists, sequences, maintaining order matters\n",
      "\n",
      "🔒 TUPLES: When you need ordered, unchangeable collections\n",
      "   - Coordinates, RGB colors, database records, function returns\n",
      "\n",
      "🎯 SETS: When you need unique elements and fast lookups\n",
      "   - Removing duplicates, membership testing, mathematical operations\n",
      "\n",
      "🗂️ DICTIONARIES: When you need key-value associations\n",
      "   - Mappings, lookups, caching, configuration settings\n"
     ]
    }
   ],
   "source": [
    "# =========================\n",
    "# WHEN TO USE WHAT?\n",
    "# =========================\n",
    "\n",
    "print(\"\\n=== WHEN TO USE WHAT? ===\")\n",
    "print(\"📝 LISTS: When you need ordered, changeable collections\")\n",
    "print(\"   - Shopping lists, sequences, maintaining order matters\")\n",
    "\n",
    "print(\"\\n🔒 TUPLES: When you need ordered, unchangeable collections\") \n",
    "print(\"   - Coordinates, RGB colors, database records, function returns\")\n",
    "\n",
    "print(\"\\n🎯 SETS: When you need unique elements and fast lookups\")\n",
    "print(\"   - Removing duplicates, membership testing, mathematical operations\")\n",
    "\n",
    "print(\"\\n🗂️ DICTIONARIES: When you need key-value associations\")\n",
    "print(\"   - Mappings, lookups, caching, configuration settings\")"
   ]
  },
  {
   "cell_type": "code",
   "execution_count": 60,
   "id": "64703786-b3b8-4372-b39e-974fc502682e",
   "metadata": {},
   "outputs": [
    {
     "name": "stdout",
     "output_type": "stream",
     "text": [
      "\n",
      "=== SUMMARY ===\n",
      "✓ Lists: Ordered, mutable, allow duplicates - use for sequences\n",
      "✓ Tuples: Ordered, immutable, allow duplicates - use for fixed data\n",
      "✓ Sets: Unordered, mutable, unique elements - use for uniqueness\n",
      "✓ Dictionaries: Ordered (3.7+), mutable, unique keys - use for mappings\n",
      "\n",
      "Master these four data structures and you'll handle 90% of Python data manipulation!\n"
     ]
    }
   ],
   "source": [
    "# =========================\n",
    "# SUMMARY\n",
    "# =========================\n",
    "print(\"\\n=== SUMMARY ===\")\n",
    "print(\"✓ Lists: Ordered, mutable, allow duplicates - use for sequences\")\n",
    "print(\"✓ Tuples: Ordered, immutable, allow duplicates - use for fixed data\")\n",
    "print(\"✓ Sets: Unordered, mutable, unique elements - use for uniqueness\")\n",
    "print(\"✓ Dictionaries: Ordered (3.7+), mutable, unique keys - use for mappings\")\n",
    "print(\"\\nMaster these four data structures and you'll handle 90% of Python data manipulation!\")"
   ]
  },
  {
   "cell_type": "code",
   "execution_count": null,
   "id": "ec520b65-6d1f-49c0-a7ec-a12bbd8a28d5",
   "metadata": {},
   "outputs": [],
   "source": []
  }
 ],
 "metadata": {
  "kernelspec": {
   "display_name": "Python 3 (ipykernel)",
   "language": "python",
   "name": "python3"
  },
  "language_info": {
   "codemirror_mode": {
    "name": "ipython",
    "version": 3
   },
   "file_extension": ".py",
   "mimetype": "text/x-python",
   "name": "python",
   "nbconvert_exporter": "python",
   "pygments_lexer": "ipython3",
   "version": "3.11.13"
  }
 },
 "nbformat": 4,
 "nbformat_minor": 5
}
