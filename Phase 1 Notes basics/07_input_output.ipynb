{
 "cells": [
  {
   "cell_type": "code",
   "execution_count": 1,
   "id": "f5d5fb21-cd0a-436a-a0e1-c6118abdcfbe",
   "metadata": {},
   "outputs": [],
   "source": [
    "# ===================================================================================================\n",
    "# PYTHON INPUT/OUTPUT - COMPLETE GUIDE\n",
    "# ===================================================================================================\n",
    "# Reading from user, files, and handling different data types"
   ]
  },
  {
   "cell_type": "code",
   "execution_count": 2,
   "id": "276ff8e8-d68c-4c25-892e-6b6c08e9d44d",
   "metadata": {},
   "outputs": [],
   "source": [
    "import os\n",
    "import json\n",
    "import csv\n",
    "from datetime import datetime"
   ]
  },
  {
   "cell_type": "code",
   "execution_count": 3,
   "id": "9ef6da79-bafe-409e-8b70-ba6f1f0778c3",
   "metadata": {},
   "outputs": [
    {
     "name": "stdout",
     "output_type": "stream",
     "text": [
      "=== USER INPUT BASICS ===\n",
      "Basic input() usage:\n",
      "Note: input() always returns a STRING\n"
     ]
    }
   ],
   "source": [
    "# =========================\n",
    "# USER INPUT BASICS\n",
    "# =========================\n",
    "# Getting input from the user during program execution\n",
    "\n",
    "print(\"=== USER INPUT BASICS ===\")\n",
    "\n",
    "# Basic input() function\n",
    "print(\"Basic input() usage:\")\n",
    "print(\"Note: input() always returns a STRING\")\n"
   ]
  },
  {
   "cell_type": "code",
   "execution_count": 4,
   "id": "2693416f-0391-4d40-b42c-67842e814646",
   "metadata": {},
   "outputs": [
    {
     "name": "stdin",
     "output_type": "stream",
     "text": [
      "Enter your name:  sathvik\n"
     ]
    },
    {
     "name": "stdout",
     "output_type": "stream",
     "text": [
      "Hello, sathvik!\n",
      "Type of name: <class 'str'>\n"
     ]
    }
   ],
   "source": [
    "# Simple string input\n",
    "name = input(\"Enter your name: \")\n",
    "print(f\"Hello, {name}!\")\n",
    "print(f\"Type of name: {type(name)}\")  # Always <class 'str'>"
   ]
  },
  {
   "cell_type": "code",
   "execution_count": 5,
   "id": "dae6e707-8262-4420-b1f4-9d5860170e2d",
   "metadata": {},
   "outputs": [
    {
     "name": "stdout",
     "output_type": "stream",
     "text": [
      "\n",
      "Getting numeric input:\n"
     ]
    },
    {
     "name": "stdin",
     "output_type": "stream",
     "text": [
      "Enter your age:  24\n"
     ]
    },
    {
     "name": "stdout",
     "output_type": "stream",
     "text": [
      "You are 24 years old\n",
      "Type of age: <class 'int'>\n"
     ]
    }
   ],
   "source": [
    "# Getting numeric input (requires conversion)\n",
    "print(\"\\nGetting numeric input:\")\n",
    "age_str = input(\"Enter your age: \")\n",
    "age = int(age_str)  # Convert string to integer\n",
    "print(f\"You are {age} years old\")\n",
    "print(f\"Type of age: {type(age)}\")  # <class 'int'>"
   ]
  },
  {
   "cell_type": "code",
   "execution_count": 7,
   "id": "0ec3ebc4-a29c-4771-a227-b6471d667835",
   "metadata": {},
   "outputs": [
    {
     "name": "stdin",
     "output_type": "stream",
     "text": [
      "Enter your height in meters:  1.5\n"
     ]
    },
    {
     "name": "stdout",
     "output_type": "stream",
     "text": [
      "Your height is 1.5 meters\n",
      "\n",
      "============================================================\n"
     ]
    }
   ],
   "source": [
    "# One-liner numeric input\n",
    "height = float(input(\"Enter your height in meters: \"))\n",
    "print(f\"Your height is {height} meters\")\n",
    "\n",
    "print(\"\\n\" + \"=\"*60)"
   ]
  },
  {
   "cell_type": "code",
   "execution_count": 8,
   "id": "81d8a83e-1741-48f6-9c7d-3a8343cb1658",
   "metadata": {},
   "outputs": [],
   "source": [
    "# =========================\n",
    "# INPUT VALIDATION AND ERROR HANDLING\n",
    "# =========================\n",
    "# Making user input robust and safe"
   ]
  },
  {
   "cell_type": "code",
   "execution_count": 9,
   "id": "04b31416-8deb-4aee-906e-2ba90e18f8a3",
   "metadata": {},
   "outputs": [
    {
     "name": "stdout",
     "output_type": "stream",
     "text": [
      "Getting valid age with error handling:\n"
     ]
    }
   ],
   "source": [
    "# Basic validation with try-except\n",
    "def get_valid_age():\n",
    "    \"\"\"Get a valid age from user with error handling\"\"\"\n",
    "    while True:\n",
    "        try:\n",
    "            age = int(input(\"Enter your age (0-120): \"))\n",
    "            if 0 <= age <= 120:\n",
    "                return age\n",
    "            else:\n",
    "                print(\"Please enter an age between 0 and 120\")\n",
    "        except ValueError:\n",
    "            print(\"Please enter a valid number\")\n",
    "\n",
    "print(\"Getting valid age with error handling:\")\n",
    "# user_age = get_valid_age()  # Uncomment to test interactively\n",
    "# print(f\"Valid age entered: {user_age}\")"
   ]
  },
  {
   "cell_type": "code",
   "execution_count": 10,
   "id": "55ab433f-64f8-4bef-b3e0-8b101c8cadc1",
   "metadata": {},
   "outputs": [
    {
     "name": "stdout",
     "output_type": "stream",
     "text": [
      "Examples of validated input:\n",
      "# score = get_valid_input('Enter test score: ', int, 0, 100)\n",
      "# price = get_valid_input('Enter price: $', float, 0)\n"
     ]
    }
   ],
   "source": [
    "\n",
    "# Validation function for different data types\n",
    "def get_valid_input(prompt, input_type, min_val=None, max_val=None):\n",
    "    \"\"\"\n",
    "    Generic function to get valid input of specified type\n",
    "    \n",
    "    Args:\n",
    "        prompt: Message to show user\n",
    "        input_type: Type to convert to (int, float, str)\n",
    "        min_val: Minimum allowed value (for numbers)\n",
    "        max_val: Maximum allowed value (for numbers)\n",
    "    \"\"\"\n",
    "    while True:\n",
    "        try:\n",
    "            user_input = input_type(input(prompt))\n",
    "            \n",
    "            # Range validation for numbers\n",
    "            if input_type in (int, float):\n",
    "                if min_val is not None and user_input < min_val:\n",
    "                    print(f\"Value must be at least {min_val}\")\n",
    "                    continue\n",
    "                if max_val is not None and user_input > max_val:\n",
    "                    print(f\"Value must be at most {max_val}\")\n",
    "                    continue\n",
    "            \n",
    "            return user_input\n",
    "            \n",
    "        except ValueError:\n",
    "            print(f\"Please enter a valid {input_type.__name__}\")\n",
    "\n",
    "# Example usage\n",
    "print(\"Examples of validated input:\")\n",
    "print(\"# score = get_valid_input('Enter test score: ', int, 0, 100)\")\n",
    "print(\"# price = get_valid_input('Enter price: $', float, 0)\")\n"
   ]
  },
  {
   "cell_type": "code",
   "execution_count": 3,
   "id": "88ba9423-bc08-4155-9ea2-fb6e484a732a",
   "metadata": {},
   "outputs": [
    {
     "name": "stdout",
     "output_type": "stream",
     "text": [
      "\n",
      "Multiple values on one line:\n",
      "Example: Enter three numbers separated by spaces\n",
      "If user enters '10 20 30', result: [10, 20, 30]\n",
      "\n",
      "============================================================\n"
     ]
    }
   ],
   "source": [
    "# Multiple input on one line\n",
    "print(\"\\nMultiple values on one line:\")\n",
    "print(\"Example: Enter three numbers separated by spaces\")\n",
    "# numbers_str = input(\"Enter three numbers (space-separated): \")\n",
    "# numbers = [int(x) for x in numbers_str.split()]\n",
    "# print(f\"Numbers entered: {numbers}\")\n",
    "\n",
    "# Simulated example\n",
    "numbers_str = \"10 20 30\"  # Simulating user input\n",
    "numbers = [int(x) for x in numbers_str.split()]\n",
    "print(f\"If user enters '{numbers_str}', result: {numbers}\")\n",
    "\n",
    "print(\"\\n\" + \"=\"*60)"
   ]
  },
  {
   "cell_type": "code",
   "execution_count": null,
   "id": "4a26ffbc-faf6-4291-bdcf-f9fe0468aaf9",
   "metadata": {},
   "outputs": [],
   "source": []
  },
  {
   "cell_type": "code",
   "execution_count": null,
   "id": "55fee8eb-dd63-47b4-bbcf-79258200db51",
   "metadata": {},
   "outputs": [],
   "source": []
  },
  {
   "cell_type": "code",
   "execution_count": 12,
   "id": "df2eb8f4-2e9a-48c7-85f8-180a8e9e7d3b",
   "metadata": {},
   "outputs": [],
   "source": [
    "# =========================\n",
    "# ADVANCED INPUT TECHNIQUES\n",
    "# ========================="
   ]
  },
  {
   "cell_type": "code",
   "execution_count": 13,
   "id": "21286ba0-b672-43ec-9e07-61f20e9e3e36",
   "metadata": {},
   "outputs": [
    {
     "name": "stdout",
     "output_type": "stream",
     "text": [
      "Example of getting list from user:\n",
      "# shopping_list = get_list_from_user()\n"
     ]
    }
   ],
   "source": [
    "\n",
    "# Getting lists from user\n",
    "def get_list_from_user():\n",
    "    \"\"\"Get a list of items from user\"\"\"\n",
    "    items = []\n",
    "    print(\"Enter items (press Enter with empty input to finish):\")\n",
    "    \n",
    "    while True:\n",
    "        item = input(\"Enter item: \").strip()\n",
    "        if not item:  # Empty input\n",
    "            break\n",
    "        items.append(item)\n",
    "    \n",
    "    return items\n",
    "\n",
    "print(\"Example of getting list from user:\")\n",
    "print(\"# shopping_list = get_list_from_user()\")"
   ]
  },
  {
   "cell_type": "code",
   "execution_count": 14,
   "id": "5a55c3d8-68a9-45e8-adc4-5604c741746d",
   "metadata": {},
   "outputs": [
    {
     "name": "stdout",
     "output_type": "stream",
     "text": [
      "Example of creating structured data from input:\n",
      "# student = create_student_record()\n"
     ]
    }
   ],
   "source": [
    "# Getting dictionary from user\n",
    "def create_student_record():\n",
    "    \"\"\"Create a student record from user input\"\"\"\n",
    "    student = {}\n",
    "    \n",
    "    student['name'] = input(\"Student name: \")\n",
    "    student['age'] = int(input(\"Student age: \"))\n",
    "    student['grade'] = float(input(\"Student grade: \"))\n",
    "    \n",
    "    # Get subjects and scores\n",
    "    subjects = []\n",
    "    while True:\n",
    "        subject = input(\"Enter subject (or 'done' to finish): \")\n",
    "        if subject.lower() == 'done':\n",
    "            break\n",
    "        score = float(input(f\"Score for {subject}: \"))\n",
    "        subjects.append({'subject': subject, 'score': score})\n",
    "    \n",
    "    student['subjects'] = subjects\n",
    "    return student\n",
    "\n",
    "print(\"Example of creating structured data from input:\")\n",
    "print(\"# student = create_student_record()\")"
   ]
  },
  {
   "cell_type": "code",
   "execution_count": 15,
   "id": "95026515-fc14-4dbf-883c-a37709880dca",
   "metadata": {},
   "outputs": [
    {
     "name": "stdout",
     "output_type": "stream",
     "text": [
      "Menu-driven input example:\n",
      "# choice = show_menu()\n",
      "\n",
      "============================================================\n"
     ]
    }
   ],
   "source": [
    "\n",
    "# Menu-driven input\n",
    "def show_menu():\n",
    "    \"\"\"Display a menu and get user choice\"\"\"\n",
    "    print(\"\\n=== MENU ===\")\n",
    "    print(\"1. Add item\")\n",
    "    print(\"2. Remove item\")\n",
    "    print(\"3. View items\")\n",
    "    print(\"4. Exit\")\n",
    "    \n",
    "    while True:\n",
    "        try:\n",
    "            choice = int(input(\"Enter your choice (1-4): \"))\n",
    "            if 1 <= choice <= 4:\n",
    "                return choice\n",
    "            else:\n",
    "                print(\"Please enter a number between 1 and 4\")\n",
    "        except ValueError:\n",
    "            print(\"Please enter a valid number\")\n",
    "\n",
    "print(\"Menu-driven input example:\")\n",
    "print(\"# choice = show_menu()\")\n",
    "\n",
    "print(\"\\n\" + \"=\"*60)"
   ]
  },
  {
   "cell_type": "code",
   "execution_count": 16,
   "id": "3240dd9e-04dc-4630-aa88-7d51865d1ddb",
   "metadata": {},
   "outputs": [],
   "source": [
    "# =========================\n",
    "# FILE OUTPUT (WRITING)\n",
    "# =========================\n",
    "# Writing data to files\n"
   ]
  },
  {
   "cell_type": "code",
   "execution_count": 17,
   "id": "ace72b7d-18f7-4116-b31f-c01eba8aadfd",
   "metadata": {},
   "outputs": [
    {
     "name": "stdout",
     "output_type": "stream",
     "text": [
      "Basic file writing:\n"
     ]
    }
   ],
   "source": [
    "# Basic file writing\n",
    "print(\"Basic file writing:\")\n",
    "sample_data = \"Hello, World!\\nThis is a test file.\\nPython file I/O is powerful!\""
   ]
  },
  {
   "cell_type": "code",
   "execution_count": 18,
   "id": "a56a5231-1915-42e1-b1f1-8fea55115a5a",
   "metadata": {},
   "outputs": [
    {
     "name": "stdout",
     "output_type": "stream",
     "text": [
      "✓ Created 'sample_output.txt'\n"
     ]
    }
   ],
   "source": [
    "# Write to a text file\n",
    "with open(\"sample_output.txt\", \"w\") as file:\n",
    "    file.write(sample_data)\n",
    "print(\"✓ Created 'sample_output.txt'\")"
   ]
  },
  {
   "cell_type": "code",
   "execution_count": 19,
   "id": "611bebcd-2950-4fee-90ed-290b60a278a5",
   "metadata": {},
   "outputs": [
    {
     "name": "stdout",
     "output_type": "stream",
     "text": [
      "✓ Created 'lines_output.txt'\n"
     ]
    }
   ],
   "source": [
    "# Write list of lines\n",
    "lines = [\n",
    "    \"Line 1: Introduction\\n\",\n",
    "    \"Line 2: Main content\\n\", \n",
    "    \"Line 3: Conclusion\\n\"\n",
    "]\n",
    "\n",
    "with open(\"lines_output.txt\", \"w\") as file:\n",
    "    file.writelines(lines)\n",
    "print(\"✓ Created 'lines_output.txt'\")"
   ]
  },
  {
   "cell_type": "code",
   "execution_count": 20,
   "id": "c5bb9aa3-28db-483a-815b-99121cd4a710",
   "metadata": {},
   "outputs": [
    {
     "name": "stdout",
     "output_type": "stream",
     "text": [
      "✓ Appended to 'sample_output.txt'\n"
     ]
    }
   ],
   "source": [
    "# Append to existing file\n",
    "with open(\"sample_output.txt\", \"a\") as file:\n",
    "    file.write(\"\\nThis line was appended!\")\n",
    "print(\"✓ Appended to 'sample_output.txt'\")"
   ]
  },
  {
   "cell_type": "code",
   "execution_count": 21,
   "id": "6ccb4757-e21a-4ce1-b667-70a475d438df",
   "metadata": {},
   "outputs": [],
   "source": [
    "# Writing structured data\n",
    "students = [\n",
    "    {\"name\": \"Alice\", \"age\": 20, \"grade\": 85.5},\n",
    "    {\"name\": \"Bob\", \"age\": 21, \"grade\": 92.0},\n",
    "    {\"name\": \"Charlie\", \"age\": 19, \"grade\": 78.5}\n",
    "]\n"
   ]
  },
  {
   "cell_type": "code",
   "execution_count": 22,
   "id": "9add72c3-9395-45d7-a14b-dd758189a4fd",
   "metadata": {},
   "outputs": [
    {
     "name": "stdout",
     "output_type": "stream",
     "text": [
      "✓ Created 'students_report.txt'\n"
     ]
    }
   ],
   "source": [
    "# Write as formatted text\n",
    "with open(\"students_report.txt\", \"w\") as file:\n",
    "    file.write(\"STUDENT REPORT\\n\")\n",
    "    file.write(\"=\" * 30 + \"\\n\")\n",
    "    for student in students:\n",
    "        file.write(f\"Name: {student['name']}\\n\")\n",
    "        file.write(f\"Age: {student['age']}\\n\")\n",
    "        file.write(f\"Grade: {student['grade']}\\n\")\n",
    "        file.write(\"-\" * 20 + \"\\n\")\n",
    "print(\"✓ Created 'students_report.txt'\")"
   ]
  },
  {
   "cell_type": "code",
   "execution_count": 23,
   "id": "933d62af-3ea0-466c-b05f-795a06f0a2f5",
   "metadata": {},
   "outputs": [
    {
     "name": "stdout",
     "output_type": "stream",
     "text": [
      "✓ User data saved to 'user_submissions.txt'\n",
      "\n",
      "============================================================\n"
     ]
    }
   ],
   "source": [
    "# Writing data with user input simulation\n",
    "def save_user_data_to_file():\n",
    "    \"\"\"Simulate saving user input to file\"\"\"\n",
    "    # Simulate user input\n",
    "    user_data = {\n",
    "        \"timestamp\": datetime.now().strftime(\"%Y-%m-%d %H:%M:%S\"),\n",
    "        \"name\": \"John Doe\",\n",
    "        \"email\": \"john@example.com\",\n",
    "        \"message\": \"This is a sample message from the user.\"\n",
    "    }\n",
    "    \n",
    "    with open(\"user_submissions.txt\", \"a\") as file:\n",
    "        file.write(f\"Submission at {user_data['timestamp']}\\n\")\n",
    "        file.write(f\"Name: {user_data['name']}\\n\")\n",
    "        file.write(f\"Email: {user_data['email']}\\n\")\n",
    "        file.write(f\"Message: {user_data['message']}\\n\")\n",
    "        file.write(\"-\" * 50 + \"\\n\")\n",
    "    \n",
    "    print(\"✓ User data saved to 'user_submissions.txt'\")\n",
    "\n",
    "save_user_data_to_file()\n",
    "\n",
    "print(\"\\n\" + \"=\"*60)"
   ]
  },
  {
   "cell_type": "code",
   "execution_count": 24,
   "id": "2fcf7776-f73d-4d60-9928-5ae3c9c43e0f",
   "metadata": {},
   "outputs": [],
   "source": [
    "# =========================\n",
    "# FILE INPUT (READING)\n",
    "# =========================\n",
    "# Reading data from files\n"
   ]
  },
  {
   "cell_type": "code",
   "execution_count": 25,
   "id": "95dc67a3-05a5-47b4-8107-9ebb78ea65c9",
   "metadata": {},
   "outputs": [
    {
     "name": "stdout",
     "output_type": "stream",
     "text": [
      "Reading the file we just created:\n",
      "File content:\n",
      "Hello, World!\n",
      "This is a test file.\n",
      "Python file I/O is powerful!\n",
      "This line was appended!\n"
     ]
    }
   ],
   "source": [
    "# Basic file reading\n",
    "print(\"Reading the file we just created:\")\n",
    "try:\n",
    "    with open(\"sample_output.txt\", \"r\") as file:\n",
    "        content = file.read()\n",
    "        print(\"File content:\")\n",
    "        print(content)\n",
    "except FileNotFoundError:\n",
    "    print(\"File not found!\")"
   ]
  },
  {
   "cell_type": "code",
   "execution_count": 26,
   "id": "49160787-3624-4385-93f1-9a27f214a8bf",
   "metadata": {},
   "outputs": [
    {
     "name": "stdout",
     "output_type": "stream",
     "text": [
      "\n",
      "Reading line by line:\n",
      "Line 1: Line 1: Introduction\n",
      "Line 2: Line 2: Main content\n",
      "Line 3: Line 3: Conclusion\n"
     ]
    }
   ],
   "source": [
    "# Reading line by line\n",
    "print(\"\\nReading line by line:\")\n",
    "try:\n",
    "    with open(\"lines_output.txt\", \"r\") as file:\n",
    "        line_number = 1\n",
    "        for line in file:\n",
    "            print(f\"Line {line_number}: {line.strip()}\")\n",
    "            line_number += 1\n",
    "except FileNotFoundError:\n",
    "    print(\"File not found!\")\n"
   ]
  },
  {
   "cell_type": "code",
   "execution_count": 27,
   "id": "175bdd63-577a-46ce-82de-2c690e02068f",
   "metadata": {},
   "outputs": [
    {
     "name": "stdout",
     "output_type": "stream",
     "text": [
      "\n",
      "Reading all lines into a list:\n",
      "Lines read: ['Line 1: Introduction\\n', 'Line 2: Main content\\n', 'Line 3: Conclusion\\n']\n",
      "Number of lines: 3\n"
     ]
    }
   ],
   "source": [
    "# Reading all lines into a list\n",
    "print(\"\\nReading all lines into a list:\")\n",
    "try:\n",
    "    with open(\"lines_output.txt\", \"r\") as file:\n",
    "        all_lines = file.readlines()\n",
    "        print(f\"Lines read: {all_lines}\")\n",
    "        print(f\"Number of lines: {len(all_lines)}\")\n",
    "except FileNotFoundError:\n",
    "    print(\"File not found!\")"
   ]
  },
  {
   "cell_type": "code",
   "execution_count": 28,
   "id": "80f8e472-afce-4707-9c46-8e41e4ac8e49",
   "metadata": {},
   "outputs": [],
   "source": [
    "# Reading and processing data\n",
    "def read_and_process_file(filename):\n",
    "    \"\"\"Read file and process the data\"\"\"\n",
    "    try:\n",
    "        with open(filename, \"r\") as file:\n",
    "            content = file.read()\n",
    "            \n",
    "            # Basic statistics\n",
    "            word_count = len(content.split())\n",
    "            line_count = content.count('\\n') + 1\n",
    "            char_count = len(content)\n",
    "            \n",
    "            print(f\"File statistics for '{filename}':\")\n",
    "            print(f\"  Characters: {char_count}\")\n",
    "            print(f\"  Words: {word_count}\")\n",
    "            print(f\"  Lines: {line_count}\")\n",
    "            \n",
    "            return {\n",
    "                \"content\": content,\n",
    "                \"words\": word_count,\n",
    "                \"lines\": line_count,\n",
    "                \"characters\": char_count\n",
    "            }\n",
    "    except FileNotFoundError:\n",
    "        print(f\"Error: File '{filename}' not found\")\n",
    "        return None\n",
    "        \n"
   ]
  },
  {
   "cell_type": "code",
   "execution_count": 29,
   "id": "79990ec2-2b4a-4c08-9c72-817679704a89",
   "metadata": {},
   "outputs": [
    {
     "name": "stdout",
     "output_type": "stream",
     "text": [
      "File statistics for 'sample_output.txt':\n",
      "  Characters: 87\n",
      "  Words: 16\n",
      "  Lines: 4\n",
      "\n",
      "============================================================\n"
     ]
    }
   ],
   "source": [
    "# Analyze our created file\n",
    "file_stats = read_and_process_file(\"sample_output.txt\")\n",
    "\n",
    "print(\"\\n\" + \"=\"*60)"
   ]
  },
  {
   "cell_type": "code",
   "execution_count": null,
   "id": "4f7931ef-96de-4ea2-8453-4710935f5189",
   "metadata": {},
   "outputs": [],
   "source": []
  },
  {
   "cell_type": "code",
   "execution_count": 30,
   "id": "e416ae23-eaba-4e8a-a27f-7a799e1b831a",
   "metadata": {},
   "outputs": [],
   "source": [
    "# =========================\n",
    "# WORKING WITH DIFFERENT FILE FORMATS\n",
    "# =========================\n"
   ]
  },
  {
   "cell_type": "code",
   "execution_count": 31,
   "id": "1306a10c-7047-4c39-a28c-14452a2ffdb4",
   "metadata": {},
   "outputs": [
    {
     "name": "stdout",
     "output_type": "stream",
     "text": [
      "Working with JSON files:\n"
     ]
    }
   ],
   "source": [
    "# JSON files\n",
    "print(\"Working with JSON files:\")\n",
    "data_to_save = {\n",
    "    \"users\": [\n",
    "        {\"id\": 1, \"name\": \"Alice\", \"email\": \"alice@example.com\"},\n",
    "        {\"id\": 2, \"name\": \"Bob\", \"email\": \"bob@example.com\"}\n",
    "    ],\n",
    "    \"settings\": {\n",
    "        \"theme\": \"dark\",\n",
    "        \"notifications\": True,\n",
    "        \"language\": \"en\"\n",
    "    }\n",
    "}\n"
   ]
  },
  {
   "cell_type": "code",
   "execution_count": 32,
   "id": "9a4d84a4-aaae-4c72-8a5d-8eb985aa9354",
   "metadata": {},
   "outputs": [
    {
     "name": "stdout",
     "output_type": "stream",
     "text": [
      "✓ Created 'data.json'\n"
     ]
    }
   ],
   "source": [
    "# Write JSON\n",
    "with open(\"data.json\", \"w\") as file:\n",
    "    json.dump(data_to_save, file, indent=2)\n",
    "print(\"✓ Created 'data.json'\")\n"
   ]
  },
  {
   "cell_type": "code",
   "execution_count": 33,
   "id": "87e22345-8937-4b92-bb96-67cc9024e029",
   "metadata": {},
   "outputs": [
    {
     "name": "stdout",
     "output_type": "stream",
     "text": [
      "Loaded JSON data:\n",
      "  Users: [{'id': 1, 'name': 'Alice', 'email': 'alice@example.com'}, {'id': 2, 'name': 'Bob', 'email': 'bob@example.com'}]\n",
      "  Theme: dark\n"
     ]
    }
   ],
   "source": [
    "# Read JSON\n",
    "with open(\"data.json\", \"r\") as file:\n",
    "    loaded_data = json.load(file)\n",
    "    print(\"Loaded JSON data:\")\n",
    "    print(f\"  Users: {loaded_data['users']}\")\n",
    "    print(f\"  Theme: {loaded_data['settings']['theme']}\")\n"
   ]
  },
  {
   "cell_type": "code",
   "execution_count": 34,
   "id": "ee7b70d9-6297-4361-92a5-81fae3687062",
   "metadata": {},
   "outputs": [
    {
     "name": "stdout",
     "output_type": "stream",
     "text": [
      "\n",
      "Working with CSV files:\n"
     ]
    }
   ],
   "source": [
    "# CSV files\n",
    "print(\"\\nWorking with CSV files:\")\n",
    "csv_data = [\n",
    "    [\"Name\", \"Age\", \"City\"],\n",
    "    [\"Alice\", \"25\", \"New York\"],\n",
    "    [\"Bob\", \"30\", \"San Francisco\"],\n",
    "    [\"Charlie\", \"35\", \"Chicago\"]\n",
    "]"
   ]
  },
  {
   "cell_type": "code",
   "execution_count": 35,
   "id": "f26a44da-2f73-49ed-b8f1-f8d05585be00",
   "metadata": {},
   "outputs": [
    {
     "name": "stdout",
     "output_type": "stream",
     "text": [
      "✓ Created 'people.csv'\n"
     ]
    }
   ],
   "source": [
    "# Write CSV\n",
    "with open(\"people.csv\", \"w\", newline='') as file:\n",
    "    writer = csv.writer(file)\n",
    "    writer.writerows(csv_data)\n",
    "print(\"✓ Created 'people.csv'\")"
   ]
  },
  {
   "cell_type": "code",
   "execution_count": 36,
   "id": "ee5d0c06-3fd4-4752-a04f-554759a5c083",
   "metadata": {},
   "outputs": [
    {
     "name": "stdout",
     "output_type": "stream",
     "text": [
      "CSV content:\n",
      "  Headers: ['Name', 'Age', 'City']\n",
      "  Row 1: ['Alice', '25', 'New York']\n",
      "  Row 2: ['Bob', '30', 'San Francisco']\n",
      "  Row 3: ['Charlie', '35', 'Chicago']\n"
     ]
    }
   ],
   "source": [
    "# Read CSV\n",
    "with open(\"people.csv\", \"r\") as file:\n",
    "    reader = csv.reader(file)\n",
    "    print(\"CSV content:\")\n",
    "    for row_num, row in enumerate(reader):\n",
    "        if row_num == 0:\n",
    "            print(f\"  Headers: {row}\")\n",
    "        else:\n",
    "            print(f\"  Row {row_num}: {row}\")"
   ]
  },
  {
   "cell_type": "code",
   "execution_count": 37,
   "id": "406ff072-4e9e-4beb-9bfe-88652dedb56a",
   "metadata": {},
   "outputs": [
    {
     "name": "stdout",
     "output_type": "stream",
     "text": [
      "\n",
      "Working with CSV using dictionaries:\n"
     ]
    }
   ],
   "source": [
    "# CSV with DictReader/DictWriter\n",
    "print(\"\\nWorking with CSV using dictionaries:\")\n",
    "people_data = [\n",
    "    {\"name\": \"David\", \"age\": 28, \"city\": \"Boston\"},\n",
    "    {\"name\": \"Emma\", \"age\": 32, \"city\": \"Seattle\"},\n",
    "    {\"name\": \"Frank\", \"age\": 45, \"city\": \"Miami\"}\n",
    "]\n"
   ]
  },
  {
   "cell_type": "code",
   "execution_count": 38,
   "id": "93bfbec8-ac2c-465f-9684-187768dd69d8",
   "metadata": {},
   "outputs": [
    {
     "name": "stdout",
     "output_type": "stream",
     "text": [
      "✓ Created 'people_dict.csv'\n"
     ]
    }
   ],
   "source": [
    "# Write CSV with headers\n",
    "with open(\"people_dict.csv\", \"w\", newline='') as file:\n",
    "    fieldnames = [\"name\", \"age\", \"city\"]\n",
    "    writer = csv.DictWriter(file, fieldnames=fieldnames)\n",
    "    writer.writeheader()\n",
    "    writer.writerows(people_data)\n",
    "print(\"✓ Created 'people_dict.csv'\")"
   ]
  },
  {
   "cell_type": "code",
   "execution_count": 39,
   "id": "0258cb48-f7a1-4c64-9e86-b216eb9cc6ad",
   "metadata": {},
   "outputs": [
    {
     "name": "stdout",
     "output_type": "stream",
     "text": [
      "CSV as dictionaries:\n",
      "  David, age 28, lives in Boston\n",
      "  Emma, age 32, lives in Seattle\n",
      "  Frank, age 45, lives in Miami\n",
      "\n",
      "============================================================\n"
     ]
    }
   ],
   "source": [
    "# Read CSV into dictionaries\n",
    "with open(\"people_dict.csv\", \"r\") as file:\n",
    "    reader = csv.DictReader(file)\n",
    "    print(\"CSV as dictionaries:\")\n",
    "    for row in reader:\n",
    "        print(f\"  {row['name']}, age {row['age']}, lives in {row['city']}\")\n",
    "\n",
    "print(\"\\n\" + \"=\"*60)"
   ]
  },
  {
   "cell_type": "code",
   "execution_count": null,
   "id": "050b01d0-33e9-4eac-a7dc-2b493e5d6fb5",
   "metadata": {},
   "outputs": [],
   "source": []
  },
  {
   "cell_type": "code",
   "execution_count": 40,
   "id": "2e8fb817-3df2-4dbc-9580-ffe129f4e6cc",
   "metadata": {},
   "outputs": [],
   "source": [
    "\n",
    "# =========================\n",
    "# FILE OPERATIONS AND PATH HANDLING\n",
    "# ========================="
   ]
  },
  {
   "cell_type": "code",
   "execution_count": 41,
   "id": "2c7fa812-070a-4fe6-882e-abb6dd97f6a2",
   "metadata": {},
   "outputs": [
    {
     "name": "stdout",
     "output_type": "stream",
     "text": [
      "✓ File 'data.json' exists\n",
      "  File size: 277 bytes\n",
      "  Content preview: {\n",
      "  \"users\": [\n",
      "    {\n",
      "      \"id\": 1,\n",
      "      \"name\": ...\n",
      "✗ File 'nonexistent_file.txt' does not exist\n"
     ]
    }
   ],
   "source": [
    "# Check if file exists\n",
    "def safe_file_operation(filename):\n",
    "    \"\"\"Safely perform file operations with error handling\"\"\"\n",
    "    if os.path.exists(filename):\n",
    "        print(f\"✓ File '{filename}' exists\")\n",
    "        \n",
    "        # Get file info\n",
    "        file_size = os.path.getsize(filename)\n",
    "        print(f\"  File size: {file_size} bytes\")\n",
    "        \n",
    "        # Read file safely\n",
    "        try:\n",
    "            with open(filename, \"r\") as file:\n",
    "                content = file.read()\n",
    "                print(f\"  Content preview: {content[:50]}...\")\n",
    "        except Exception as e:\n",
    "            print(f\"  Error reading file: {e}\")\n",
    "    else:\n",
    "        print(f\"✗ File '{filename}' does not exist\")\n",
    "\n",
    "# Check our created files\n",
    "safe_file_operation(\"data.json\")\n",
    "safe_file_operation(\"nonexistent_file.txt\")"
   ]
  },
  {
   "cell_type": "code",
   "execution_count": 42,
   "id": "ff9fd95d-230c-4e15-9d10-66edeb8afeaf",
   "metadata": {},
   "outputs": [
    {
     "name": "stdout",
     "output_type": "stream",
     "text": [
      "\n",
      "Working with directories:\n",
      "Current directory: /Users/chintu/Coding Practice/Phase 1 Notes baseics\n"
     ]
    }
   ],
   "source": [
    "\n",
    "# Directory operations\n",
    "print(\"\\nWorking with directories:\")\n",
    "current_dir = os.getcwd()\n",
    "print(f\"Current directory: {current_dir}\")"
   ]
  },
  {
   "cell_type": "code",
   "execution_count": 43,
   "id": "238e5d64-e32a-4033-841c-10581ec53c8d",
   "metadata": {},
   "outputs": [
    {
     "name": "stdout",
     "output_type": "stream",
     "text": [
      "✓ Created directory: output_files\n"
     ]
    }
   ],
   "source": [
    "# Create directory\n",
    "output_dir = \"output_files\"\n",
    "if not os.path.exists(output_dir):\n",
    "    os.makedirs(output_dir)\n",
    "    print(f\"✓ Created directory: {output_dir}\")\n",
    "else:\n",
    "    print(f\"✓ Directory already exists: {output_dir}\")"
   ]
  },
  {
   "cell_type": "code",
   "execution_count": 44,
   "id": "e728c8bf-8c6a-49b3-b679-fa568e40eb8d",
   "metadata": {},
   "outputs": [
    {
     "name": "stdout",
     "output_type": "stream",
     "text": [
      "Files created in this session: ['sample_output.txt', 'people.csv', 'lines_output.txt', 'people_dict.csv', 'data.json', 'students_report.txt', 'user_submissions.txt']\n",
      "\n",
      "============================================================\n"
     ]
    }
   ],
   "source": [
    "# List files in directory\n",
    "files_in_current_dir = [f for f in os.listdir(\".\") if f.endswith(('.txt', '.json', '.csv'))]\n",
    "print(f\"Files created in this session: {files_in_current_dir}\")\n",
    "\n",
    "print(\"\\n\" + \"=\"*60)\n"
   ]
  },
  {
   "cell_type": "code",
   "execution_count": null,
   "id": "7e4e9c5a-a7e2-4aa3-a09e-b1e1e59024c8",
   "metadata": {},
   "outputs": [],
   "source": []
  },
  {
   "cell_type": "code",
   "execution_count": 45,
   "id": "a6c576bb-386c-4347-8671-136c39d616f7",
   "metadata": {},
   "outputs": [],
   "source": [
    "# =========================\n",
    "# PRACTICAL EXAMPLES\n",
    "# =========================\n"
   ]
  },
  {
   "cell_type": "code",
   "execution_count": 46,
   "id": "01951531-9fd9-4d91-a6b1-67c26aae7930",
   "metadata": {},
   "outputs": [
    {
     "name": "stdout",
     "output_type": "stream",
     "text": [
      "User Data Collection Example:\n",
      "  Collected data for: Alice Johnson\n",
      "  Collected data for: Bob Smith\n",
      "✓ User data saved to 'user_registrations.json'\n"
     ]
    }
   ],
   "source": [
    "\n",
    "# Example 1: User data collection and storage\n",
    "def collect_and_save_user_data():\n",
    "    \"\"\"Collect user data and save to file\"\"\"\n",
    "    print(\"User Data Collection Example:\")\n",
    "    \n",
    "    # Simulate user input\n",
    "    users = []\n",
    "    sample_users = [\n",
    "        {\"name\": \"Alice Johnson\", \"email\": \"alice@email.com\", \"age\": \"25\"},\n",
    "        {\"name\": \"Bob Smith\", \"email\": \"bob@email.com\", \"age\": \"30\"}\n",
    "    ]\n",
    "    \n",
    "    for sample_user in sample_users:\n",
    "        user = {\n",
    "            \"name\": sample_user[\"name\"],\n",
    "            \"email\": sample_user[\"email\"], \n",
    "            \"age\": int(sample_user[\"age\"]),\n",
    "            \"registration_date\": datetime.now().strftime(\"%Y-%m-%d %H:%M:%S\")\n",
    "        }\n",
    "        users.append(user)\n",
    "        print(f\"  Collected data for: {user['name']}\")\n",
    "    \n",
    "    # Save to JSON file\n",
    "    with open(\"user_registrations.json\", \"w\") as file:\n",
    "        json.dump(users, file, indent=2)\n",
    "    \n",
    "    print(\"✓ User data saved to 'user_registrations.json'\")\n",
    "    return users\n",
    "\n",
    "collected_users = collect_and_save_user_data()"
   ]
  },
  {
   "cell_type": "code",
   "execution_count": 47,
   "id": "0e4ce43e-e01d-41b4-bf5b-64c155d00c31",
   "metadata": {},
   "outputs": [
    {
     "name": "stdout",
     "output_type": "stream",
     "text": [
      "\n",
      "Log File Processing Example:\n",
      "✓ Created 'application.log'\n",
      "  Line 3: 2024-01-15 10:40:15 ERROR Database connection failed\n",
      "\n",
      "Log analysis:\n",
      "  INFO messages: 3\n",
      "  WARNING messages: 1\n",
      "  ERROR messages: 1\n"
     ]
    }
   ],
   "source": [
    "# Example 2: Log file processing\n",
    "def create_and_process_log():\n",
    "    \"\"\"Create sample log file and process it\"\"\"\n",
    "    print(\"\\nLog File Processing Example:\")\n",
    "    \n",
    "    # Create sample log\n",
    "    log_entries = [\n",
    "        \"2024-01-15 10:30:25 INFO User alice logged in\",\n",
    "        \"2024-01-15 10:35:10 WARNING Failed login attempt for user bob\", \n",
    "        \"2024-01-15 10:40:15 ERROR Database connection failed\",\n",
    "        \"2024-01-15 10:42:20 INFO Database connection restored\",\n",
    "        \"2024-01-15 10:45:30 INFO User charlie logged in\"\n",
    "    ]\n",
    "    \n",
    "    # Write log file\n",
    "    with open(\"application.log\", \"w\") as file:\n",
    "        for entry in log_entries:\n",
    "            file.write(entry + \"\\n\")\n",
    "    \n",
    "    print(\"✓ Created 'application.log'\")\n",
    "    \n",
    "    # Process log file\n",
    "    error_count = 0\n",
    "    warning_count = 0\n",
    "    info_count = 0\n",
    "    \n",
    "    with open(\"application.log\", \"r\") as file:\n",
    "        for line_num, line in enumerate(file, 1):\n",
    "            if \"ERROR\" in line:\n",
    "                error_count += 1\n",
    "                print(f\"  Line {line_num}: {line.strip()}\")\n",
    "            elif \"WARNING\" in line:\n",
    "                warning_count += 1\n",
    "            elif \"INFO\" in line:\n",
    "                info_count += 1\n",
    "    \n",
    "    print(f\"\\nLog analysis:\")\n",
    "    print(f\"  INFO messages: {info_count}\")\n",
    "    print(f\"  WARNING messages: {warning_count}\")\n",
    "    print(f\"  ERROR messages: {error_count}\")\n",
    "\n",
    "create_and_process_log()"
   ]
  },
  {
   "cell_type": "code",
   "execution_count": 48,
   "id": "4871e8de-00ca-48e3-9f0a-0ef91ac11cfe",
   "metadata": {},
   "outputs": [
    {
     "name": "stdout",
     "output_type": "stream",
     "text": [
      "\n",
      "Configuration File Example:\n",
      "✓ Created 'config.json'\n",
      "✓ Updated configuration\n",
      "  Debug mode: True\n",
      "  Max users: 2000\n",
      "\n",
      "============================================================\n"
     ]
    }
   ],
   "source": [
    "# Example 3: Configuration file handling\n",
    "def handle_config_file():\n",
    "    \"\"\"Create and manage configuration file\"\"\"\n",
    "    print(\"\\nConfiguration File Example:\")\n",
    "    \n",
    "    # Default configuration\n",
    "    default_config = {\n",
    "        \"app_name\": \"MyPythonApp\",\n",
    "        \"version\": \"1.0.0\",\n",
    "        \"database\": {\n",
    "            \"host\": \"localhost\",\n",
    "            \"port\": 5432,\n",
    "            \"name\": \"myapp_db\"\n",
    "        },\n",
    "        \"features\": {\n",
    "            \"enable_logging\": True,\n",
    "            \"debug_mode\": False,\n",
    "            \"max_users\": 1000\n",
    "        }\n",
    "    }\n",
    "    \n",
    "    # Save configuration\n",
    "    with open(\"config.json\", \"w\") as file:\n",
    "        json.dump(default_config, file, indent=2)\n",
    "    \n",
    "    print(\"✓ Created 'config.json'\")\n",
    "    \n",
    "    # Load and modify configuration\n",
    "    with open(\"config.json\", \"r\") as file:\n",
    "        config = json.load(file)\n",
    "    \n",
    "    # Simulate configuration update\n",
    "    config[\"features\"][\"debug_mode\"] = True\n",
    "    config[\"features\"][\"max_users\"] = 2000\n",
    "    \n",
    "    # Save updated configuration\n",
    "    with open(\"config.json\", \"w\") as file:\n",
    "        json.dump(config, file, indent=2)\n",
    "    \n",
    "    print(\"✓ Updated configuration\")\n",
    "    print(f\"  Debug mode: {config['features']['debug_mode']}\")\n",
    "    print(f\"  Max users: {config['features']['max_users']}\")\n",
    "\n",
    "handle_config_file()\n",
    "\n",
    "print(\"\\n\" + \"=\"*60)\n"
   ]
  },
  {
   "cell_type": "code",
   "execution_count": null,
   "id": "f209f19b-3e5b-4931-8fa2-d97ddbba45bc",
   "metadata": {},
   "outputs": [],
   "source": []
  },
  {
   "cell_type": "code",
   "execution_count": 49,
   "id": "db3518c2-e912-4570-a1c9-14649ef82a60",
   "metadata": {},
   "outputs": [],
   "source": [
    "# =========================\n",
    "# ERROR HANDLING AND BEST PRACTICES\n",
    "# ========================="
   ]
  },
  {
   "cell_type": "code",
   "execution_count": 50,
   "id": "9bf96d5c-80ae-4811-bfba-b426c0e945ea",
   "metadata": {},
   "outputs": [],
   "source": [
    "\n",
    "# Robust file operations\n",
    "def robust_file_reader(filename):\n",
    "    \"\"\"Read file with comprehensive error handling\"\"\"\n",
    "    try:\n",
    "        with open(filename, \"r\") as file:\n",
    "            content = file.read()\n",
    "            return content\n",
    "    except FileNotFoundError:\n",
    "        print(f\"Error: File '{filename}' not found\")\n",
    "        return None\n",
    "    except PermissionError:\n",
    "        print(f\"Error: Permission denied to read '{filename}'\")\n",
    "        return None\n",
    "    except UnicodeDecodeError:\n",
    "        print(f\"Error: Cannot decode '{filename}' - invalid characters\")\n",
    "        return None\n",
    "    except Exception as e:\n",
    "        print(f\"Unexpected error reading '{filename}': {e}\")\n",
    "        return None"
   ]
  },
  {
   "cell_type": "code",
   "execution_count": 51,
   "id": "6e686074-9645-440a-96ac-83ab7ee567f2",
   "metadata": {},
   "outputs": [
    {
     "name": "stdout",
     "output_type": "stream",
     "text": [
      "Testing error handling:\n",
      "✓ File read successfully\n",
      "Error: File 'nonexistent.txt' not found\n",
      "✓ Error handled gracefully\n"
     ]
    }
   ],
   "source": [
    "# Test error handling\n",
    "print(\"Testing error handling:\")\n",
    "content = robust_file_reader(\"data.json\")\n",
    "if content:\n",
    "    print(\"✓ File read successfully\")\n",
    "\n",
    "content = robust_file_reader(\"nonexistent.txt\")\n",
    "if not content:\n",
    "    print(\"✓ Error handled gracefully\")"
   ]
  },
  {
   "cell_type": "code",
   "execution_count": 52,
   "id": "ca9471e8-015b-4dee-a5ed-fc704aa8217a",
   "metadata": {},
   "outputs": [],
   "source": [
    "# Context manager for custom operations\n",
    "class FileManager:\n",
    "    \"\"\"Custom context manager for file operations\"\"\"\n",
    "    \n",
    "    def __init__(self, filename, mode):\n",
    "        self.filename = filename\n",
    "        self.mode = mode\n",
    "        self.file = None\n",
    "    \n",
    "    def __enter__(self):\n",
    "        print(f\"Opening file: {self.filename}\")\n",
    "        self.file = open(self.filename, self.mode)\n",
    "        return self.file\n",
    "    \n",
    "    def __exit__(self, exc_type, exc_val, exc_tb):\n",
    "        if self.file:\n",
    "            self.file.close()\n",
    "            print(f\"Closed file: {self.filename}\")\n",
    "        if exc_type:\n",
    "            print(f\"Error occurred: {exc_val}\")\n",
    "        return False\n"
   ]
  },
  {
   "cell_type": "code",
   "execution_count": 53,
   "id": "06fe71f0-5171-4a06-9768-a5a2ed1e0ac0",
   "metadata": {},
   "outputs": [
    {
     "name": "stdout",
     "output_type": "stream",
     "text": [
      "\n",
      "Using custom context manager:\n",
      "Opening file: test_context.txt\n",
      "Closed file: test_context.txt\n",
      "✓ Custom context manager demonstration complete\n",
      "\n",
      "============================================================\n"
     ]
    }
   ],
   "source": [
    "# Using custom context manager\n",
    "print(\"\\nUsing custom context manager:\")\n",
    "with FileManager(\"test_context.txt\", \"w\") as file:\n",
    "    file.write(\"This file was created using a custom context manager!\")\n",
    "\n",
    "print(\"✓ Custom context manager demonstration complete\")\n",
    "\n",
    "print(\"\\n\" + \"=\"*60)"
   ]
  },
  {
   "cell_type": "code",
   "execution_count": 54,
   "id": "5b010286-c6db-498e-9b78-cdcab353f965",
   "metadata": {},
   "outputs": [],
   "source": [
    "# =========================\n",
    "# SUMMARY AND BEST PRACTICES\n",
    "# ========================="
   ]
  },
  {
   "cell_type": "code",
   "execution_count": 55,
   "id": "1adbea3b-47ca-4f28-81c2-eff5066c7174",
   "metadata": {},
   "outputs": [
    {
     "name": "stdout",
     "output_type": "stream",
     "text": [
      "\n",
      "🎯 USER INPUT:\n",
      "• input() always returns strings - convert as needed\n",
      "• Validate input with try-except blocks\n",
      "• Use loops for re-prompting on invalid input\n",
      "• Handle empty inputs and edge cases\n",
      "\n",
      "📝 FILE OUTPUT:\n",
      "• Use 'with open()' for automatic file closing\n",
      "• 'w' mode overwrites, 'a' mode appends\n",
      "• Write strings with write(), lists with writelines()\n",
      "• Structure data before writing (formatting)\n",
      "\n",
      "📖 FILE INPUT:\n",
      "• read() for entire file, readline() for one line\n",
      "• readlines() for all lines as list\n",
      "• Iterate over file object for memory efficiency\n",
      "• Always handle FileNotFoundError\n",
      "\n",
      "🗂️ FILE FORMATS:\n",
      "• JSON: json.dump()/json.load() for structured data\n",
      "• CSV: csv.writer/csv.reader for tabular data\n",
      "• Text: Regular file operations for simple data\n",
      "\n",
      "⚠️ ERROR HANDLING:\n",
      "• Always use try-except for file operations\n",
      "• Use 'with' statements for automatic cleanup\n",
      "• Check file existence with os.path.exists()\n",
      "• Handle specific exceptions (FileNotFoundError, PermissionError)\n",
      "\n",
      "💡 BEST PRACTICES:\n",
      "• Always close files (use 'with' statement)\n",
      "• Validate user input before processing\n",
      "• Use appropriate file modes ('r', 'w', 'a')\n",
      "• Handle encoding issues for special characters\n",
      "• Create backup files for important data\n",
      "• Use descriptive filenames and paths\n",
      "• Log errors for debugging\n",
      "• Test with edge cases and invalid inputs\n",
      "\n",
      "🚀 REMEMBER:\n",
      "Input/Output operations are essential for interactive programs!\n",
      "They allow your programs to communicate with users and persist data.\n",
      "Master these concepts to build practical, real-world applications!\n",
      "\n",
      "\n",
      "======================================================================\n",
      "END OF INPUT/OUTPUT GUIDE\n",
      "======================================================================\n"
     ]
    }
   ],
   "source": [
    "\n",
    "print(\"\"\"\n",
    "🎯 USER INPUT:\n",
    "• input() always returns strings - convert as needed\n",
    "• Validate input with try-except blocks\n",
    "• Use loops for re-prompting on invalid input\n",
    "• Handle empty inputs and edge cases\n",
    "\n",
    "📝 FILE OUTPUT:\n",
    "• Use 'with open()' for automatic file closing\n",
    "• 'w' mode overwrites, 'a' mode appends\n",
    "• Write strings with write(), lists with writelines()\n",
    "• Structure data before writing (formatting)\n",
    "\n",
    "📖 FILE INPUT:\n",
    "• read() for entire file, readline() for one line\n",
    "• readlines() for all lines as list\n",
    "• Iterate over file object for memory efficiency\n",
    "• Always handle FileNotFoundError\n",
    "\n",
    "🗂️ FILE FORMATS:\n",
    "• JSON: json.dump()/json.load() for structured data\n",
    "• CSV: csv.writer/csv.reader for tabular data\n",
    "• Text: Regular file operations for simple data\n",
    "\n",
    "⚠️ ERROR HANDLING:\n",
    "• Always use try-except for file operations\n",
    "• Use 'with' statements for automatic cleanup\n",
    "• Check file existence with os.path.exists()\n",
    "• Handle specific exceptions (FileNotFoundError, PermissionError)\n",
    "\n",
    "💡 BEST PRACTICES:\n",
    "• Always close files (use 'with' statement)\n",
    "• Validate user input before processing\n",
    "• Use appropriate file modes ('r', 'w', 'a')\n",
    "• Handle encoding issues for special characters\n",
    "• Create backup files for important data\n",
    "• Use descriptive filenames and paths\n",
    "• Log errors for debugging\n",
    "• Test with edge cases and invalid inputs\n",
    "\n",
    "🚀 REMEMBER:\n",
    "Input/Output operations are essential for interactive programs!\n",
    "They allow your programs to communicate with users and persist data.\n",
    "Master these concepts to build practical, real-world applications!\n",
    "\"\"\")\n",
    "\n",
    "print(\"\\n\" + \"=\"*70)\n",
    "print(\"END OF INPUT/OUTPUT GUIDE\")\n",
    "print(\"=\"*70)\n"
   ]
  },
  {
   "cell_type": "code",
   "execution_count": 56,
   "id": "988eed84-0175-4edb-9830-eaeb04c32dc8",
   "metadata": {},
   "outputs": [
    {
     "name": "stdout",
     "output_type": "stream",
     "text": [
      "\n",
      "Files created in this demonstration: 11\n",
      "  ✓ sample_output.txt\n",
      "  ✓ lines_output.txt\n",
      "  ✓ students_report.txt\n",
      "  ✓ user_submissions.txt\n",
      "  ✓ data.json\n",
      "  ✓ people.csv\n",
      "  ✓ people_dict.csv\n",
      "  ✓ user_registrations.json\n",
      "  ✓ application.log\n",
      "  ✓ config.json\n",
      "  ✓ test_context.txt\n",
      "\n",
      "To clean up, you can delete these files when no longer needed.\n"
     ]
    }
   ],
   "source": [
    "# Cleanup demonstration files (optional)\n",
    "cleanup_files = [\n",
    "    \"sample_output.txt\", \"lines_output.txt\", \"students_report.txt\",\n",
    "    \"user_submissions.txt\", \"data.json\", \"people.csv\", \"people_dict.csv\",\n",
    "    \"user_registrations.json\", \"application.log\", \"config.json\", \"test_context.txt\"\n",
    "]\n",
    "\n",
    "print(f\"\\nFiles created in this demonstration: {len(cleanup_files)}\")\n",
    "for file in cleanup_files:\n",
    "    if os.path.exists(file):\n",
    "        print(f\"  ✓ {file}\")\n",
    "\n",
    "print(\"\\nTo clean up, you can delete these files when no longer needed.\")"
   ]
  },
  {
   "cell_type": "code",
   "execution_count": null,
   "id": "9e0de407-8e56-4c14-b059-80faf3332926",
   "metadata": {},
   "outputs": [],
   "source": []
  }
 ],
 "metadata": {
  "kernelspec": {
   "display_name": "Python 3 (ipykernel)",
   "language": "python",
   "name": "python3"
  },
  "language_info": {
   "codemirror_mode": {
    "name": "ipython",
    "version": 3
   },
   "file_extension": ".py",
   "mimetype": "text/x-python",
   "name": "python",
   "nbconvert_exporter": "python",
   "pygments_lexer": "ipython3",
   "version": "3.13.5"
  }
 },
 "nbformat": 4,
 "nbformat_minor": 5
}
