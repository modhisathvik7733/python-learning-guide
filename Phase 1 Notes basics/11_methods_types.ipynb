{
 "cells": [
  {
   "cell_type": "code",
   "execution_count": 5,
   "id": "1e30eefd-e3c4-43a8-8a6f-c2276e538128",
   "metadata": {},
   "outputs": [
    {
     "name": "stdout",
     "output_type": "stream",
     "text": [
      "Called instance method, value: 5\n",
      "8\n",
      "Called instance method, value: 8\n"
     ]
    }
   ],
   "source": [
    "# =============================================================================\n",
    "# 1. INSTANCE METHODS\n",
    "# =============================================================================\n",
    "class MyClass:\n",
    "    def __init__(self, value):\n",
    "        self.value = value  # Instance attribute\n",
    "    \n",
    "    # Standard instance method\n",
    "    def instance_method(self):\n",
    "        return f\"Called instance method, value: {self.value}\"\n",
    "    \n",
    "    # Instance method modifying state\n",
    "    def increment(self, amount=1):\n",
    "        self.value += amount\n",
    "        return self.value\n",
    "\n",
    "# Usage\n",
    "obj = MyClass(5)\n",
    "print(obj.instance_method())  # Called instance method, value: 5\n",
    "print(obj.increment(3))       # 8\n",
    "print(obj.instance_method())  # Called instance method, value: 8"
   ]
  },
  {
   "cell_type": "code",
   "execution_count": null,
   "id": "cbc2e28c-101e-48e5-b908-223b87067853",
   "metadata": {},
   "outputs": [],
   "source": [
    "\"\"\"\n",
    "Key Characteristics:\n",
    "- First parameter is always 'self' (references instance)\n",
    "- Can access and modify instance state\n",
    "- Can access class state via self.__class__\n",
    "- Most common method type\n",
    "\"\"\"\n"
   ]
  },
  {
   "cell_type": "code",
   "execution_count": 10,
   "id": "fcbdcc1d-f3ed-4b29-93d7-1616a5ae044b",
   "metadata": {},
   "outputs": [
    {
     "name": "stdout",
     "output_type": "stream",
     "text": [
      "Instances created: 2\n"
     ]
    }
   ],
   "source": [
    "# =============================================================================\n",
    "# 2. CLASS METHODS\n",
    "# =============================================================================\n",
    "class MyClass:\n",
    "    class_count = 0  # Class attribute\n",
    "    \n",
    "    def __init__(self):\n",
    "        MyClass.class_count += 1\n",
    "    \n",
    "    @classmethod\n",
    "    def get_count(cls):\n",
    "        return f\"Instances created: {cls.class_count}\"\n",
    "    \n",
    "    @classmethod\n",
    "    def from_string(cls, string):\n",
    "        # Alternative constructor\n",
    "        return cls(value=int(string))\n",
    "\n",
    "# Usage\n",
    "obj1 = MyClass()\n",
    "obj2 = MyClass()\n",
    "print(MyClass.get_count())  # Instances created: 2\n",
    "\n",
    "#obj3 = MyClass.from_string(\"10\")\n",
    "#print(MyClass.get_count())  # Instances created: 3\n",
    "\n",
    "\"\"\"\n",
    "Key Characteristics:\n",
    "- Decorated with @classmethod\n",
    "- First parameter is always 'cls' (references class)\n",
    "- Can access and modify class state\n",
    "- Cannot access instance state\n",
    "- Common uses: factory methods, alternative constructors\n",
    "\"\"\"\n"
   ]
  },
  {
   "cell_type": "code",
   "execution_count": 11,
   "id": "f9e05af8-1464-4939-88e7-8f019312e01f",
   "metadata": {},
   "outputs": [
    {
     "name": "stdout",
     "output_type": "stream",
     "text": [
      "8\n",
      "True\n",
      "False\n"
     ]
    },
    {
     "data": {
      "text/plain": [
       "\"\\nKey Characteristics:\\n- Decorated with @staticmethod\\n- No 'self' or 'cls' parameter\\n- Cannot access class or instance state\\n- Behaves like regular function but belongs to class namespace\\n- Common uses: utility functions, namespace grouping\\n\""
      ]
     },
     "execution_count": 11,
     "metadata": {},
     "output_type": "execute_result"
    }
   ],
   "source": [
    "# =============================================================================\n",
    "# 3. STATIC METHODS\n",
    "# =============================================================================\n",
    "class MathUtils:\n",
    "    @staticmethod\n",
    "    def add(a, b):\n",
    "        return a + b\n",
    "    \n",
    "    @staticmethod\n",
    "    def is_even(number):\n",
    "        return number % 2 == 0\n",
    "\n",
    "# Usage\n",
    "print(MathUtils.add(5, 3))      # 8\n",
    "print(MathUtils.is_even(10))     # True\n",
    "\n",
    "obj = MathUtils()\n",
    "print(obj.is_even(7))           # False (can be called on instances too)\n",
    "\n",
    "\"\"\"\n",
    "Key Characteristics:\n",
    "- Decorated with @staticmethod\n",
    "- No 'self' or 'cls' parameter\n",
    "- Cannot access class or instance state\n",
    "- Behaves like regular function but belongs to class namespace\n",
    "- Common uses: utility functions, namespace grouping\n",
    "\"\"\""
   ]
  },
  {
   "cell_type": "code",
   "execution_count": 12,
   "id": "70db816c-3e14-4d68-9830-5a41d8328727",
   "metadata": {},
   "outputs": [
    {
     "name": "stdout",
     "output_type": "stream",
     "text": [
      "Woof!\n"
     ]
    }
   ],
   "source": [
    "# =============================================================================\n",
    "# 4. ABSTRACT METHODS\n",
    "# =============================================================================\n",
    "from abc import ABC, abstractmethod\n",
    "\n",
    "class Animal(ABC):\n",
    "    @abstractmethod\n",
    "    def make_sound(self):\n",
    "        pass\n",
    "\n",
    "class Dog(Animal):\n",
    "    def make_sound(self):\n",
    "        return \"Woof!\"\n",
    "\n",
    "class Cat(Animal):\n",
    "    def make_sound(self):\n",
    "        return \"Meow!\"\n",
    "\n",
    "# Usage\n",
    "dog = Dog()\n",
    "print(dog.make_sound())  # Woof!\n",
    "\n",
    "# animal = Animal()  # TypeError: Can't instantiate abstract class\n",
    "\"\"\"\n",
    "Key Characteristics:\n",
    "- Defined in abstract base classes (ABC)\n",
    "- Decorated with @abstractmethod\n",
    "- Must be implemented in concrete subclasses\n",
    "- Enforce interface contracts\n",
    "\"\"\""
   ]
  },
  {
   "cell_type": "code",
   "execution_count": 13,
   "id": "c1aba8ee-fac5-416c-9500-1d36321f0f62",
   "metadata": {},
   "outputs": [
    {
     "name": "stdout",
     "output_type": "stream",
     "text": [
      "Vector(3, 4)\n",
      "Vector(4, 6)\n",
      "False\n",
      "5.0\n"
     ]
    }
   ],
   "source": [
    "# =============================================================================\n",
    "# 5. SPECIAL (DUNDER) METHODS\n",
    "# =============================================================================\n",
    "class Vector:\n",
    "    def __init__(self, x, y):\n",
    "        self.x = x\n",
    "        self.y = y\n",
    "    \n",
    "    # String representation\n",
    "    def __str__(self):\n",
    "        return f\"Vector({self.x}, {self.y})\"\n",
    "    \n",
    "    # Arithmetic operation\n",
    "    def __add__(self, other):\n",
    "        return Vector(self.x + other.x, self.y + other.y)\n",
    "    \n",
    "    # Comparison\n",
    "    def __eq__(self, other):\n",
    "        return self.x == other.x and self.y == other.y\n",
    "    \n",
    "    # Length simulation\n",
    "    def __abs__(self):\n",
    "        return (self.x**2 + self.y**2)**0.5\n",
    "\n",
    "# Usage\n",
    "v1 = Vector(3, 4)\n",
    "v2 = Vector(1, 2)\n",
    "print(v1)           # Vector(3, 4) (uses __str__)\n",
    "v3 = v1 + v2        # Uses __add__\n",
    "print(v3)           # Vector(4, 6)\n",
    "print(v1 == v2)     # False (uses __eq__)\n",
    "print(abs(v1))      # 5.0 (uses __abs__)\n",
    "\"\"\"\n",
    "Key Characteristics:\n",
    "- Double underscores (__method__)\n",
    "- Provide operator overloading and special behaviors\n",
    "- Called automatically by Python in specific contexts\n",
    "- Common examples:\n",
    "    __init__: Constructor\n",
    "    __str__: String representation\n",
    "    __len__: Length of container\n",
    "    __getitem__: Indexing support\n",
    "\"\"\""
   ]
  },
  {
   "cell_type": "code",
   "execution_count": 14,
   "id": "11690854-162b-49c7-a620-173fc8a9cda1",
   "metadata": {},
   "outputs": [
    {
     "name": "stdout",
     "output_type": "stream",
     "text": [
      "25\n",
      "86.0\n",
      "Temperature below absolute zero\n"
     ]
    },
    {
     "data": {
      "text/plain": [
       "'\\nKey Characteristics:\\n- Decorated with @property\\n- Create managed attributes with getters/setters\\n- Maintain encapsulation while providing attribute access\\n- Can have read-only properties (no setter defined)\\n'"
      ]
     },
     "execution_count": 14,
     "metadata": {},
     "output_type": "execute_result"
    }
   ],
   "source": [
    "# =============================================================================\n",
    "# 6. PROPERTY METHODS (GETTER/SETTER)\n",
    "# =============================================================================\n",
    "class Temperature:\n",
    "    def __init__(self, celsius):\n",
    "        self._celsius = celsius\n",
    "    \n",
    "    @property\n",
    "    def celsius(self):\n",
    "        \"\"\"Getter method\"\"\"\n",
    "        return self._celsius\n",
    "    \n",
    "    @celsius.setter\n",
    "    def celsius(self, value):\n",
    "        \"\"\"Setter method\"\"\"\n",
    "        if value < -273.15:\n",
    "            raise ValueError(\"Temperature below absolute zero\")\n",
    "        self._celsius = value\n",
    "    \n",
    "    @property\n",
    "    def fahrenheit(self):\n",
    "        \"\"\"Computed property\"\"\"\n",
    "        return (self._celsius * 9/5) + 32\n",
    "\n",
    "# Usage\n",
    "temp = Temperature(25)\n",
    "print(temp.celsius)     # 25 (getter)\n",
    "temp.celsius = 30       # Setter\n",
    "print(temp.fahrenheit)  # 86.0 (computed property)\n",
    "\n",
    "try:\n",
    "    temp.celsius = -300  # ValueError\n",
    "except ValueError as e:\n",
    "    print(e)\n",
    "\n",
    "\"\"\"\n",
    "Key Characteristics:\n",
    "- Decorated with @property\n",
    "- Create managed attributes with getters/setters\n",
    "- Maintain encapsulation while providing attribute access\n",
    "- Can have read-only properties (no setter defined)\n",
    "\"\"\"\n"
   ]
  },
  {
   "cell_type": "code",
   "execution_count": 15,
   "id": "09077365-0483-48b6-8209-1eaf897e49b7",
   "metadata": {},
   "outputs": [
    {
     "name": "stdout",
     "output_type": "stream",
     "text": [
      "\n",
      "+-----------------+----------------------+----------------------+\n",
      "| Method Type     | Can Access           | Can Modify           |\n",
      "+-----------------+----------------------+----------------------+\n",
      "| Instance Method | Instance & Class     | Instance & Class     |\n",
      "| Class Method    | Class only           | Class only           |\n",
      "| Static Method   | Nothing              | Nothing              |\n",
      "+-----------------+----------------------+----------------------+\n",
      "Instance: instance_value, Class: class_value\n",
      "Class method: class_value\n",
      "Static method: no access to state\n",
      "Class method: class_value\n",
      "Static method: no access to state\n"
     ]
    }
   ],
   "source": [
    "# =============================================================================\n",
    "# 7. CLASS METHODS VS STATIC METHODS COMPARISON\n",
    "# =============================================================================\n",
    "class ComparisonDemo:\n",
    "    class_attr = \"class_value\"\n",
    "    \n",
    "    def __init__(self, instance_attr):\n",
    "        self.instance_attr = instance_attr\n",
    "    \n",
    "    def instance_method(self):\n",
    "        return f\"Instance: {self.instance_attr}, Class: {self.class_attr}\"\n",
    "    \n",
    "    @classmethod\n",
    "    def class_method(cls):\n",
    "        return f\"Class method: {cls.class_attr}\"\n",
    "    \n",
    "    @staticmethod\n",
    "    def static_method():\n",
    "        return \"Static method: no access to state\"\n",
    "\n",
    "# Comparison Table\n",
    "print(\"\\n+-----------------+----------------------+----------------------+\")\n",
    "print(\"| Method Type     | Can Access           | Can Modify           |\")\n",
    "print(\"+-----------------+----------------------+----------------------+\")\n",
    "print(\"| Instance Method | Instance & Class     | Instance & Class     |\")\n",
    "print(\"| Class Method    | Class only           | Class only           |\")\n",
    "print(\"| Static Method   | Nothing              | Nothing              |\")\n",
    "print(\"+-----------------+----------------------+----------------------+\")\n",
    "\n",
    "# Usage Demo\n",
    "obj = ComparisonDemo(\"instance_value\")\n",
    "print(obj.instance_method())  # Instance: instance_value, Class: class_value\n",
    "print(obj.class_method())     # Class method: class_value\n",
    "print(obj.static_method())    # Static method: no access to state\n",
    "\n",
    "# Class-level access\n",
    "print(ComparisonDemo.class_method())     # Works\n",
    "print(ComparisonDemo.static_method())    # Works\n",
    "# ComparisonDemo.instance_method()       # Error - needs instance"
   ]
  },
  {
   "cell_type": "code",
   "execution_count": null,
   "id": "72930994-5c8c-4946-90ff-4d15d100e810",
   "metadata": {},
   "outputs": [],
   "source": []
  }
 ],
 "metadata": {
  "kernelspec": {
   "display_name": "Python 3 (ipykernel)",
   "language": "python",
   "name": "python3"
  },
  "language_info": {
   "codemirror_mode": {
    "name": "ipython",
    "version": 3
   },
   "file_extension": ".py",
   "mimetype": "text/x-python",
   "name": "python",
   "nbconvert_exporter": "python",
   "pygments_lexer": "ipython3",
   "version": "3.13.5"
  }
 },
 "nbformat": 4,
 "nbformat_minor": 5
}
