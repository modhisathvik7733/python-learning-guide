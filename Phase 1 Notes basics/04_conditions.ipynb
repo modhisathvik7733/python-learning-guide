{
 "cells": [
  {
   "cell_type": "code",
   "execution_count": 1,
   "id": "267ebd1d-e3bf-4cbb-bd28-8195304fcca8",
   "metadata": {},
   "outputs": [],
   "source": [
    "# ===================================================================================================\n",
    "# PYTHON CONDITIONALS - COMPLETE GUIDE\n",
    "# ===================================================================================================\n",
    "# if, elif, else statements - Making decisions in your code\n"
   ]
  },
  {
   "cell_type": "code",
   "execution_count": null,
   "id": "6614ceef-decf-4d75-8e72-bfdb5c666552",
   "metadata": {},
   "outputs": [],
   "source": []
  },
  {
   "cell_type": "code",
   "execution_count": 2,
   "id": "5a5223fb-a05b-4f98-b6f5-191ef3fbd911",
   "metadata": {},
   "outputs": [
    {
     "name": "stdout",
     "output_type": "stream",
     "text": [
      "=== BASIC IF STATEMENT ===\n",
      "You are an adult!\n",
      "You can vote!\n",
      "This line always runs\n"
     ]
    }
   ],
   "source": [
    "# =========================\n",
    "# BASIC IF STATEMENT\n",
    "# =========================\n",
    "# The simplest form - do something only if a condition is True\n",
    "\n",
    "age = 18\n",
    "print(\"=== BASIC IF STATEMENT ===\")\n",
    "\n",
    "if age >= 18:\n",
    "    print(\"You are an adult!\")\n",
    "    print(\"You can vote!\")\n",
    "\n",
    "print(\"This line always runs\")"
   ]
  },
  {
   "cell_type": "code",
   "execution_count": 3,
   "id": "2dd59765-baac-4d09-ad7f-76c983f412ce",
   "metadata": {},
   "outputs": [
    {
     "name": "stdout",
     "output_type": "stream",
     "text": [
      "\n",
      "==================================================\n"
     ]
    }
   ],
   "source": [
    "# Structure: if CONDITION:\n",
    "#               INDENTED CODE BLOCK\n",
    "\n",
    "print(\"\\n\" + \"=\"*50)"
   ]
  },
  {
   "cell_type": "code",
   "execution_count": null,
   "id": "2a31c1f1-6bc2-46d7-a440-3f688f822d47",
   "metadata": {},
   "outputs": [],
   "source": []
  },
  {
   "cell_type": "code",
   "execution_count": 4,
   "id": "970cdf68-bca5-4dcb-b1e6-e9751784deda",
   "metadata": {},
   "outputs": [],
   "source": [
    "# =========================\n",
    "# IF-ELSE STATEMENT\n",
    "# =========================\n",
    "# Do one thing if True, another if False"
   ]
  },
  {
   "cell_type": "code",
   "execution_count": 5,
   "id": "5f1ec3d0-a4a3-4ea2-9687-b504c2840a08",
   "metadata": {},
   "outputs": [
    {
     "name": "stdout",
     "output_type": "stream",
     "text": [
      "=== IF-ELSE STATEMENT ===\n",
      "It's not too hot 🌤️\n",
      "You might need a light jacket\n",
      "Current temperature: 75°F\n",
      "\n",
      "==================================================\n"
     ]
    }
   ],
   "source": [
    "temperature = 75\n",
    "print(\"=== IF-ELSE STATEMENT ===\")\n",
    "\n",
    "if temperature > 80:\n",
    "    print(\"It's hot outside! 🌞\")\n",
    "    print(\"Wear light clothes\")\n",
    "else:\n",
    "    print(\"It's not too hot 🌤️\")\n",
    "    print(\"You might need a light jacket\")\n",
    "\n",
    "print(f\"Current temperature: {temperature}°F\")\n",
    "\n",
    "print(\"\\n\" + \"=\"*50)"
   ]
  },
  {
   "cell_type": "code",
   "execution_count": 6,
   "id": "22c1f9a3-b298-4779-8b3c-74665c63020e",
   "metadata": {},
   "outputs": [
    {
     "name": "stdout",
     "output_type": "stream",
     "text": [
      "=== IF-ELIF-ELSE CHAIN ===\n",
      "Good job! 👍\n",
      "Score: 85, Grade: B\n",
      "\n",
      "==================================================\n"
     ]
    }
   ],
   "source": [
    "# =========================\n",
    "# IF-ELIF-ELSE CHAIN\n",
    "# =========================\n",
    "# Multiple conditions - checks them one by one\n",
    "\n",
    "score = 85\n",
    "print(\"=== IF-ELIF-ELSE CHAIN ===\")\n",
    "\n",
    "if score >= 90:\n",
    "    grade = \"A\"\n",
    "    print(\"Excellent work! 🌟\")\n",
    "elif score >= 80:\n",
    "    grade = \"B\"\n",
    "    print(\"Good job! 👍\")\n",
    "elif score >= 70:\n",
    "    grade = \"C\"\n",
    "    print(\"Satisfactory 👌\")\n",
    "elif score >= 60:\n",
    "    grade = \"D\"\n",
    "    print(\"Needs improvement 📚\")\n",
    "else:\n",
    "    grade = \"F\"\n",
    "    print(\"Please see me after class 😟\")\n",
    "\n",
    "print(f\"Score: {score}, Grade: {grade}\")\n",
    "\n",
    "print(\"\\n\" + \"=\"*50)"
   ]
  },
  {
   "cell_type": "code",
   "execution_count": 7,
   "id": "005ce05a-978a-4735-bb95-50aa2dda0353",
   "metadata": {},
   "outputs": [
    {
     "name": "stdout",
     "output_type": "stream",
     "text": [
      "=== COMPARISON OPERATORS ===\n",
      "x = 10, y = 20\n",
      "x == y (equal): False\n",
      "x != y (not equal): True\n",
      "x < y (less than): True\n",
      "x <= y (less or equal): True\n",
      "x > y (greater than): False\n",
      "x >= y (greater or equal): False\n",
      "\n",
      "String comparison:\n",
      "'Alice' == 'Bob': False\n",
      "'Alice' < 'Bob' (alphabetical): True\n",
      "\n",
      "==================================================\n"
     ]
    }
   ],
   "source": [
    "# =========================\n",
    "# COMPARISON OPERATORS\n",
    "# =========================\n",
    "# Understanding all the ways to compare values\n",
    "\n",
    "print(\"=== COMPARISON OPERATORS ===\")\n",
    "\n",
    "x, y = 10, 20\n",
    "\n",
    "print(f\"x = {x}, y = {y}\")\n",
    "print(f\"x == y (equal): {x == y}\")           # False\n",
    "print(f\"x != y (not equal): {x != y}\")       # True\n",
    "print(f\"x < y (less than): {x < y}\")         # True\n",
    "print(f\"x <= y (less or equal): {x <= y}\")   # True\n",
    "print(f\"x > y (greater than): {x > y}\")      # False\n",
    "print(f\"x >= y (greater or equal): {x >= y}\") # False\n",
    "\n",
    "# String comparisons\n",
    "name1, name2 = \"Alice\", \"Bob\"\n",
    "print(f\"\\nString comparison:\")\n",
    "print(f\"'{name1}' == '{name2}': {name1 == name2}\")\n",
    "print(f\"'{name1}' < '{name2}' (alphabetical): {name1 < name2}\")\n",
    "\n",
    "print(\"\\n\" + \"=\"*50)"
   ]
  },
  {
   "cell_type": "code",
   "execution_count": 8,
   "id": "2083ffcc-29c3-48ce-8ffb-4ea5c9348242",
   "metadata": {},
   "outputs": [
    {
     "name": "stdout",
     "output_type": "stream",
     "text": [
      "=== LOGICAL OPERATORS ===\n",
      "Age: 25, Has license: True, Has car: False\n",
      "✅ Can legally drive!\n",
      "✅ Has some driving-related qualification/asset\n",
      "✅ Needs to buy a car\n",
      "🚌 Can rent a car or use rideshare\n",
      "\n",
      "==================================================\n"
     ]
    }
   ],
   "source": [
    "# =========================\n",
    "# LOGICAL OPERATORS\n",
    "# =========================\n",
    "# Combining multiple conditions\n",
    "\n",
    "print(\"=== LOGICAL OPERATORS ===\")\n",
    "\n",
    "age = 25\n",
    "has_license = True\n",
    "has_car = False\n",
    "\n",
    "print(f\"Age: {age}, Has license: {has_license}, Has car: {has_car}\")\n",
    "\n",
    "# AND - both conditions must be True\n",
    "if age >= 18 and has_license:\n",
    "    print(\"✅ Can legally drive!\")\n",
    "else:\n",
    "    print(\"❌ Cannot drive legally\")\n",
    "\n",
    "# OR - at least one condition must be True\n",
    "if has_license or has_car:\n",
    "    print(\"✅ Has some driving-related qualification/asset\")\n",
    "else:\n",
    "    print(\"❌ Needs license or car\")\n",
    "\n",
    "# NOT - flips True to False, False to True\n",
    "if not has_car:\n",
    "    print(\"✅ Needs to buy a car\")\n",
    "\n",
    "# Complex combinations\n",
    "if age >= 18 and has_license and has_car:\n",
    "    print(\"🚗 Ready for a road trip!\")\n",
    "elif age >= 18 and has_license and not has_car:\n",
    "    print(\"🚌 Can rent a car or use rideshare\")\n",
    "else:\n",
    "    print(\"🚶 Walking or public transport for now\")\n",
    "\n",
    "print(\"\\n\" + \"=\"*50)"
   ]
  },
  {
   "cell_type": "code",
   "execution_count": 9,
   "id": "7f3ec9c5-a5e1-40af-9f83-c834a64acf29",
   "metadata": {},
   "outputs": [
    {
     "name": "stdout",
     "output_type": "stream",
     "text": [
      "=== MEMBERSHIP OPERATORS ===\n",
      "✅ apple is available!\n",
      "✅ durian is not in our regular selection\n",
      "✅ Valid email format (contains @)\n",
      "❌ GPA information missing\n",
      "\n",
      "==================================================\n"
     ]
    }
   ],
   "source": [
    "# =========================\n",
    "# MEMBERSHIP OPERATORS\n",
    "# =========================\n",
    "# Check if something is in a collection\n",
    "\n",
    "print(\"=== MEMBERSHIP OPERATORS ===\")\n",
    "\n",
    "fruits = [\"apple\", \"banana\", \"orange\"]\n",
    "favorite_fruit = \"apple\"\n",
    "\n",
    "if favorite_fruit in fruits:\n",
    "    print(f\"✅ {favorite_fruit} is available!\")\n",
    "else:\n",
    "    print(f\"❌ {favorite_fruit} is not available\")\n",
    "\n",
    "# NOT IN operator\n",
    "exotic_fruit = \"durian\"\n",
    "if exotic_fruit not in fruits:\n",
    "    print(f\"✅ {exotic_fruit} is not in our regular selection\")\n",
    "\n",
    "# Works with strings too\n",
    "email = \"user@example.com\"\n",
    "if \"@\" in email:\n",
    "    print(\"✅ Valid email format (contains @)\")\n",
    "\n",
    "# Works with dictionaries (checks keys)\n",
    "student = {\"name\": \"Alice\", \"age\": 20, \"major\": \"Computer Science\"}\n",
    "if \"gpa\" not in student:\n",
    "    print(\"❌ GPA information missing\")\n",
    "\n",
    "print(\"\\n\" + \"=\"*50)"
   ]
  },
  {
   "cell_type": "code",
   "execution_count": 10,
   "id": "fa2e9d31-97ab-42d3-b69a-4a1dfb81caba",
   "metadata": {},
   "outputs": [
    {
     "name": "stdout",
     "output_type": "stream",
     "text": [
      "=== NESTED CONDITIONALS ===\n",
      "Weather: sunny, Temperature: 75°F, Has umbrella: False\n",
      "🌞 It's a sunny day!\n",
      "  😊 Perfect weather for outdoor activities!\n",
      "\n",
      "==================================================\n"
     ]
    }
   ],
   "source": [
    "# =========================\n",
    "# NESTED CONDITIONALS\n",
    "# =========================\n",
    "# if statements inside other if statements\n",
    "\n",
    "print(\"=== NESTED CONDITIONALS ===\")\n",
    "\n",
    "weather = \"sunny\"\n",
    "temperature = 75\n",
    "has_umbrella = False\n",
    "\n",
    "print(f\"Weather: {weather}, Temperature: {temperature}°F, Has umbrella: {has_umbrella}\")\n",
    "\n",
    "if weather == \"sunny\":\n",
    "    print(\"🌞 It's a sunny day!\")\n",
    "    if temperature > 80:\n",
    "        print(\"  🥵 It's hot - wear sunscreen!\")\n",
    "    elif temperature > 60:\n",
    "        print(\"  😊 Perfect weather for outdoor activities!\")\n",
    "    else:\n",
    "        print(\"  🧥 Sunny but chilly - bring a jacket!\")\n",
    "elif weather == \"rainy\":\n",
    "    print(\"🌧️ It's raining!\")\n",
    "    if has_umbrella:\n",
    "        print(\"  ☂️ Good thing you have an umbrella!\")\n",
    "    else:\n",
    "        print(\"  💧 You might get wet - find shelter!\")\n",
    "else:\n",
    "    print(\"🌫️ Weather conditions unclear\")\n",
    "\n",
    "print(\"\\n\" + \"=\"*50)"
   ]
  },
  {
   "cell_type": "code",
   "execution_count": 11,
   "id": "f28f4dd9-ae62-4524-8d70-9a288ed49e7f",
   "metadata": {},
   "outputs": [
    {
     "name": "stdout",
     "output_type": "stream",
     "text": [
      "=== TRUTHINESS AND FALSINESS ===\n",
      "Values that are considered FALSE:\n",
      "     False → False\n",
      "         0 → False\n",
      "       0.0 → False\n",
      "        '' → False\n",
      "        [] → False\n",
      "        {} → False\n",
      "     set() → False\n",
      "      None → False\n",
      "\n",
      "Values that are considered TRUE:\n",
      "          True → True\n",
      "             1 → True\n",
      "            -1 → True\n",
      "       'hello' → True\n",
      "        [1, 2] → True\n",
      "      {'a': 1} → True\n",
      "        {1, 2} → True\n",
      "           '0' → True\n",
      "Please enter your name\n",
      "Your shopping list is empty\n",
      "\n",
      "==================================================\n"
     ]
    }
   ],
   "source": [
    "# =========================\n",
    "# TRUTHINESS AND FALSINESS\n",
    "# =========================\n",
    "# What Python considers True or False\n",
    "\n",
    "print(\"=== TRUTHINESS AND FALSINESS ===\")\n",
    "\n",
    "print(\"Values that are considered FALSE:\")\n",
    "falsy_values = [False, 0, 0.0, \"\", [], {}, set(), None]\n",
    "for value in falsy_values:\n",
    "    print(f\"  {repr(value):>8} → {bool(value)}\")\n",
    "\n",
    "print(\"\\nValues that are considered TRUE:\")\n",
    "truthy_values = [True, 1, -1, \"hello\", [1, 2], {\"a\": 1}, {1, 2}, \"0\"]\n",
    "for value in truthy_values:\n",
    "    print(f\"  {repr(value):>12} → {bool(value)}\")\n",
    "\n",
    "# Practical examples\n",
    "name = \"\"\n",
    "if name:\n",
    "    print(f\"Hello, {name}!\")\n",
    "else:\n",
    "    print(\"Please enter your name\")\n",
    "\n",
    "shopping_list = []\n",
    "if shopping_list:\n",
    "    print(f\"You have {len(shopping_list)} items to buy\")\n",
    "else:\n",
    "    print(\"Your shopping list is empty\")\n",
    "\n",
    "print(\"\\n\" + \"=\"*50)"
   ]
  },
  {
   "cell_type": "code",
   "execution_count": 12,
   "id": "cbb03d2e-3a3e-4567-be59-c817e05c4c69",
   "metadata": {},
   "outputs": [
    {
     "name": "stdout",
     "output_type": "stream",
     "text": [
      "=== CONDITIONAL EXPRESSIONS (TERNARY) ===\n",
      "Long way: minor\n",
      "Short way: minor\n",
      "Temperature: 85°F → Wear: shorts\n",
      "Score: 95 → Result: Pass\n",
      "You are not eligible to vote\n",
      "\n",
      "==================================================\n"
     ]
    }
   ],
   "source": [
    "# =========================\n",
    "# CONDITIONAL EXPRESSIONS (TERNARY)\n",
    "# =========================\n",
    "# Short way to write simple if-else\n",
    "\n",
    "print(\"=== CONDITIONAL EXPRESSIONS (TERNARY) ===\")\n",
    "\n",
    "age = 17\n",
    "\n",
    "# Long way\n",
    "if age >= 18:\n",
    "    status = \"adult\"\n",
    "else:\n",
    "    status = \"minor\"\n",
    "print(f\"Long way: {status}\")\n",
    "\n",
    "# Short way (ternary operator)\n",
    "status = \"adult\" if age >= 18 else \"minor\"\n",
    "print(f\"Short way: {status}\")\n",
    "\n",
    "# More examples\n",
    "temperature = 85\n",
    "clothing = \"shorts\" if temperature > 75 else \"pants\"\n",
    "print(f\"Temperature: {temperature}°F → Wear: {clothing}\")\n",
    "\n",
    "score = 95\n",
    "result = \"Pass\" if score >= 60 else \"Fail\"\n",
    "print(f\"Score: {score} → Result: {result}\")\n",
    "\n",
    "# Can be used in function calls\n",
    "print(f\"You are {'eligible' if age >= 18 else 'not eligible'} to vote\")\n",
    "\n",
    "print(\"\\n\" + \"=\"*50)"
   ]
  },
  {
   "cell_type": "code",
   "execution_count": 13,
   "id": "0d7ea490-0d34-4e1c-9265-4b963444d0ad",
   "metadata": {},
   "outputs": [
    {
     "name": "stdout",
     "output_type": "stream",
     "text": [
      "=== COMMON PATTERNS ===\n"
     ]
    }
   ],
   "source": [
    "# =========================\n",
    "# COMMON PATTERNS\n",
    "# =========================\n",
    "# Frequently used conditional patterns\n",
    "\n",
    "print(\"=== COMMON PATTERNS ===\")"
   ]
  },
  {
   "cell_type": "code",
   "execution_count": null,
   "id": "bc06325f-a899-449e-938e-8f2aec35e854",
   "metadata": {},
   "outputs": [],
   "source": []
  },
  {
   "cell_type": "code",
   "execution_count": 14,
   "id": "01373dcc-b764-45ac-910a-6681064aee54",
   "metadata": {},
   "outputs": [
    {
     "name": "stdout",
     "output_type": "stream",
     "text": [
      "Age 25 → Category: adult\n"
     ]
    }
   ],
   "source": [
    "# 1. Range checking\n",
    "age = 25\n",
    "if 13 <= age <= 19:\n",
    "    category = \"teenager\"\n",
    "elif 20 <= age <= 65:\n",
    "    category = \"adult\"\n",
    "else:\n",
    "    category = \"senior\" if age > 65 else \"child\"\n",
    "print(f\"Age {age} → Category: {category}\")\n"
   ]
  },
  {
   "cell_type": "code",
   "execution_count": 15,
   "id": "6f7046cd-2472-42e1-a5d2-a52196364663",
   "metadata": {},
   "outputs": [
    {
     "name": "stdout",
     "output_type": "stream",
     "text": [
      "🎉 It's the weekend!\n"
     ]
    }
   ],
   "source": [
    "# 2. Multiple value checking\n",
    "day = \"Saturday\"\n",
    "if day in [\"Saturday\", \"Sunday\"]:\n",
    "    print(\"🎉 It's the weekend!\")\n",
    "else:\n",
    "    print(\"📚 It's a weekday\")"
   ]
  },
  {
   "cell_type": "code",
   "execution_count": 16,
   "id": "3b230d31-8d6b-4cc6-b6b4-5c2b34dbff0f",
   "metadata": {},
   "outputs": [
    {
     "name": "stdout",
     "output_type": "stream",
     "text": [
      "'42' is a string\n",
      "  And it contains only digits!\n"
     ]
    }
   ],
   "source": [
    "# 3. Type checking\n",
    "value = \"42\"\n",
    "if isinstance(value, int):\n",
    "    print(f\"{value} is an integer\")\n",
    "elif isinstance(value, str):\n",
    "    print(f\"'{value}' is a string\")\n",
    "    if value.isdigit():\n",
    "        print(\"  And it contains only digits!\")"
   ]
  },
  {
   "cell_type": "code",
   "execution_count": 17,
   "id": "d75c6c66-c409-408d-a5fa-934da201a8b3",
   "metadata": {},
   "outputs": [
    {
     "name": "stdout",
     "output_type": "stream",
     "text": [
      "No input provided\n",
      "\n",
      "==================================================\n"
     ]
    }
   ],
   "source": [
    "# 4. None checking\n",
    "user_input = None\n",
    "if user_input is None:\n",
    "    print(\"No input provided\")\n",
    "elif user_input == \"\":\n",
    "    print(\"Empty input provided\")\n",
    "else:\n",
    "    print(f\"Input received: {user_input}\")\n",
    "\n",
    "print(\"\\n\" + \"=\"*50)\n"
   ]
  },
  {
   "cell_type": "code",
   "execution_count": 18,
   "id": "c2e64b7b-434a-49fc-8c42-6af721b0bae3",
   "metadata": {},
   "outputs": [
    {
     "name": "stdout",
     "output_type": "stream",
     "text": [
      "=== GUARD CLAUSES ===\n",
      "Test 1: Error: No user data provided\n",
      "Test 2: Error: No user data provided\n",
      "Test 3: Error: Name must be at least 2 characters\n",
      "Test 4: Processing user: Alice, Age: unknown\n",
      "Test 5: Processing user: Bob, Age: 25\n",
      "\n",
      "==================================================\n"
     ]
    }
   ],
   "source": [
    "# =========================\n",
    "# GUARD CLAUSES\n",
    "# =========================\n",
    "# Early returns to avoid deep nesting\n",
    "\n",
    "print(\"=== GUARD CLAUSES ===\")\n",
    "\n",
    "def process_user_data(user_data):\n",
    "    \"\"\"Example function using guard clauses\"\"\"\n",
    "    \n",
    "    # Guard clause 1: Check if data exists\n",
    "    if not user_data:\n",
    "        return \"Error: No user data provided\"\n",
    "    \n",
    "    # Guard clause 2: Check if name exists\n",
    "    if \"name\" not in user_data:\n",
    "        return \"Error: Name is required\"\n",
    "    \n",
    "    # Guard clause 3: Check if name is valid\n",
    "    if len(user_data[\"name\"]) < 2:\n",
    "        return \"Error: Name must be at least 2 characters\"\n",
    "    \n",
    "    # Main logic (no deep nesting!)\n",
    "    name = user_data[\"name\"]\n",
    "    age = user_data.get(\"age\", \"unknown\")\n",
    "    return f\"Processing user: {name}, Age: {age}\"\n",
    "\n",
    "# Test the function\n",
    "test_cases = [\n",
    "    None,\n",
    "    {},\n",
    "    {\"name\": \"A\"},\n",
    "    {\"name\": \"Alice\"},\n",
    "    {\"name\": \"Bob\", \"age\": 25}\n",
    "]\n",
    "\n",
    "for i, test_data in enumerate(test_cases, 1):\n",
    "    result = process_user_data(test_data)\n",
    "    print(f\"Test {i}: {result}\")\n",
    "\n",
    "print(\"\\n\" + \"=\"*50)"
   ]
  },
  {
   "cell_type": "code",
   "execution_count": 19,
   "id": "e57f4c93-029a-4fa0-ab3b-8688424a00f8",
   "metadata": {},
   "outputs": [
    {
     "name": "stdout",
     "output_type": "stream",
     "text": [
      "=== MATCH-CASE STATEMENT (Python 3.10+) ===\n",
      "HTTP Status Code Examples:\n",
      "  200: ✅ Success\n",
      "  404: ❌ Not Found\n",
      "  403: 📝 Client Error (403)\n",
      "  500: 💥 Server Error\n",
      "  503: 🔧 Server Error (503)\n",
      "  999: ❓ Unknown status (999)\n",
      "\n",
      "==================================================\n"
     ]
    }
   ],
   "source": [
    "# =========================\n",
    "# MATCH-CASE STATEMENT (Python 3.10+)\n",
    "# =========================\n",
    "# Modern alternative to long if-elif chains\n",
    "\n",
    "print(\"=== MATCH-CASE STATEMENT (Python 3.10+) ===\")\n",
    "\n",
    "def handle_http_status(status_code):\n",
    "    \"\"\"Example using match-case (if your Python version supports it)\"\"\"\n",
    "    match status_code:\n",
    "        case 200:\n",
    "            return \"✅ Success\"\n",
    "        case 404:\n",
    "            return \"❌ Not Found\"\n",
    "        case 500:\n",
    "            return \"💥 Server Error\"\n",
    "        case code if 400 <= code < 500:\n",
    "            return f\"📝 Client Error ({code})\"\n",
    "        case code if 500 <= code < 600:\n",
    "            return f\"🔧 Server Error ({code})\"\n",
    "        case _:  # Default case\n",
    "            return f\"❓ Unknown status ({status_code})\"\n",
    "\n",
    "# Test different status codes\n",
    "status_codes = [200, 404, 403, 500, 503, 999]\n",
    "print(\"HTTP Status Code Examples:\")\n",
    "for code in status_codes:\n",
    "    try:\n",
    "        result = handle_http_status(code)\n",
    "        print(f\"  {code}: {result}\")\n",
    "    except SyntaxError:\n",
    "        # Fallback for older Python versions\n",
    "        print(f\"  {code}: (match-case not supported in this Python version)\")\n",
    "        break\n",
    "\n",
    "print(\"\\n\" + \"=\"*50)"
   ]
  },
  {
   "cell_type": "code",
   "execution_count": 20,
   "id": "b54717c7-c98f-4170-aaf2-3930f46d0f09",
   "metadata": {},
   "outputs": [
    {
     "name": "stdout",
     "output_type": "stream",
     "text": [
      "=== REAL-WORLD EXAMPLES ===\n",
      "Authentication Examples:\n",
      "  alice/password123: Welcome, Alice! 👋\n",
      "  bob/wrongpass: Error: Invalid password\n",
      "  charlie/anything: Error: User not found\n",
      "  admin/admin2024: Welcome, Administrator! 👑\n",
      "  /: Error: Username and password required\n",
      "\n"
     ]
    }
   ],
   "source": [
    "# =========================\n",
    "# REAL-WORLD EXAMPLES\n",
    "# =========================\n",
    "# Practical applications of conditionals\n",
    "\n",
    "print(\"=== REAL-WORLD EXAMPLES ===\")\n",
    "\n",
    "# Example 1: Login system\n",
    "def authenticate_user(username, password):\n",
    "    \"\"\"Simple authentication example\"\"\"\n",
    "    valid_users = {\n",
    "        \"alice\": \"password123\",\n",
    "        \"bob\": \"secret456\",\n",
    "        \"admin\": \"admin2024\"\n",
    "    }\n",
    "    \n",
    "    if not username or not password:\n",
    "        return \"Error: Username and password required\"\n",
    "    \n",
    "    if username not in valid_users:\n",
    "        return \"Error: User not found\"\n",
    "    \n",
    "    if valid_users[username] != password:\n",
    "        return \"Error: Invalid password\"\n",
    "    \n",
    "    if username == \"admin\":\n",
    "        return \"Welcome, Administrator! 👑\"\n",
    "    else:\n",
    "        return f\"Welcome, {username.title()}! 👋\"\n",
    "\n",
    "# Test authentication\n",
    "print(\"Authentication Examples:\")\n",
    "auth_tests = [\n",
    "    (\"alice\", \"password123\"),\n",
    "    (\"bob\", \"wrongpass\"),\n",
    "    (\"charlie\", \"anything\"),\n",
    "    (\"admin\", \"admin2024\"),\n",
    "    (\"\", \"\")\n",
    "]\n",
    "\n",
    "for username, password in auth_tests:\n",
    "    result = authenticate_user(username, password)\n",
    "    print(f\"  {username}/{password}: {result}\")\n",
    "\n",
    "print()\n"
   ]
  },
  {
   "cell_type": "code",
   "execution_count": 21,
   "id": "e40ccde5-14f5-451a-b155-6d4c17de7b33",
   "metadata": {},
   "outputs": [
    {
     "name": "stdout",
     "output_type": "stream",
     "text": [
      "Grade Calculator Examples:\n",
      "  A:95 M:88 F:92 P:100 → Final Score: 92.7% → Grade: A- 🎉 Honor Roll!\n",
      "  A:78 M:82 F:75 P:85 → Final Score: 78.7% → Grade: C+\n",
      "  A:45 M:52 F:48 P:60 → Final Score: 49.3% → Grade: F 📚 See advisor\n",
      "  A:105 M:90 F:85 P:95 → Error: All scores must be between 0 and 100\n",
      "\n",
      "==================================================\n"
     ]
    }
   ],
   "source": [
    "# Example 2: Grade calculator with multiple criteria\n",
    "def calculate_final_grade(assignments, midterm, final_exam, participation):\n",
    "    \"\"\"Calculate final grade based on multiple components\"\"\"\n",
    "    \n",
    "    # Validate inputs\n",
    "    if any(score < 0 or score > 100 for score in [assignments, midterm, final_exam, participation]):\n",
    "        return \"Error: All scores must be between 0 and 100\"\n",
    "    \n",
    "    # Calculate weighted average\n",
    "    final_score = (assignments * 0.3 + midterm * 0.25 + final_exam * 0.35 + participation * 0.1)\n",
    "    \n",
    "    # Determine letter grade\n",
    "    if final_score >= 97:\n",
    "        letter = \"A+\"\n",
    "    elif final_score >= 93:\n",
    "        letter = \"A\"\n",
    "    elif final_score >= 90:\n",
    "        letter = \"A-\"\n",
    "    elif final_score >= 87:\n",
    "        letter = \"B+\"\n",
    "    elif final_score >= 83:\n",
    "        letter = \"B\"\n",
    "    elif final_score >= 80:\n",
    "        letter = \"B-\"\n",
    "    elif final_score >= 77:\n",
    "        letter = \"C+\"\n",
    "    elif final_score >= 73:\n",
    "        letter = \"C\"\n",
    "    elif final_score >= 70:\n",
    "        letter = \"C-\"\n",
    "    elif final_score >= 67:\n",
    "        letter = \"D+\"\n",
    "    elif final_score >= 65:\n",
    "        letter = \"D\"\n",
    "    else:\n",
    "        letter = \"F\"\n",
    "    \n",
    "    # Add special recognition\n",
    "    if final_score >= 95:\n",
    "        recognition = \" 🌟 Dean's List!\"\n",
    "    elif final_score >= 90:\n",
    "        recognition = \" 🎉 Honor Roll!\"\n",
    "    elif final_score < 65:\n",
    "        recognition = \" 📚 See advisor\"\n",
    "    else:\n",
    "        recognition = \"\"\n",
    "    \n",
    "    return f\"Final Score: {final_score:.1f}% → Grade: {letter}{recognition}\"\n",
    "\n",
    "# Test grade calculator\n",
    "print(\"Grade Calculator Examples:\")\n",
    "grade_tests = [\n",
    "    (95, 88, 92, 100),  # Excellent student\n",
    "    (78, 82, 75, 85),   # Average student\n",
    "    (45, 52, 48, 60),   # Struggling student\n",
    "    (105, 90, 85, 95),  # Invalid input\n",
    "]\n",
    "\n",
    "for assign, mid, final, part in grade_tests:\n",
    "    result = calculate_final_grade(assign, mid, final, part)\n",
    "    print(f\"  A:{assign} M:{mid} F:{final} P:{part} → {result}\")\n",
    "\n",
    "print(\"\\n\" + \"=\"*50)"
   ]
  },
  {
   "cell_type": "code",
   "execution_count": 22,
   "id": "97ba5a10-47c0-494b-8a1b-d90a1631abcf",
   "metadata": {},
   "outputs": [],
   "source": [
    "# =========================\n",
    "# DEBUGGING CONDITIONALS\n",
    "# =========================\n",
    "# Common mistakes and how to avoid them"
   ]
  },
  {
   "cell_type": "code",
   "execution_count": 23,
   "id": "aaeee42a-8f48-414d-84b9-0226fa12230e",
   "metadata": {},
   "outputs": [
    {
     "name": "stdout",
     "output_type": "stream",
     "text": [
      "❌ COMMON MISTAKES:\n",
      "x is 5, not 10\n"
     ]
    }
   ],
   "source": [
    "print(\"❌ COMMON MISTAKES:\")\n",
    "\n",
    "# Mistake 1: Assignment instead of comparison\n",
    "x = 5\n",
    "# if x = 10:  # This would cause SyntaxError\n",
    "if x == 10:   # This is correct\n",
    "    print(\"x is 10\")\n",
    "else:\n",
    "    print(f\"x is {x}, not 10\")"
   ]
  },
  {
   "cell_type": "code",
   "execution_count": 24,
   "id": "aee8e234-7571-43cb-b293-dfd8bbb22d3c",
   "metadata": {},
   "outputs": [
    {
     "name": "stdout",
     "output_type": "stream",
     "text": [
      "Eligible for loan\n"
     ]
    }
   ],
   "source": [
    "\n",
    "# Mistake 2: Forgetting parentheses in complex conditions\n",
    "age = 25\n",
    "income = 50000\n",
    "# Wrong: if age > 18 and income > 30000 or age > 65  # Confusing precedence\n",
    "# Right: Use parentheses for clarity\n",
    "if (age > 18 and income > 30000) or age > 65:\n",
    "    print(\"Eligible for loan\")"
   ]
  },
  {
   "cell_type": "code",
   "execution_count": 25,
   "id": "7285f64d-d00b-4b93-9ed6-572bda7ee9e1",
   "metadata": {},
   "outputs": [
    {
     "name": "stdout",
     "output_type": "stream",
     "text": [
      "Price is approximately 0.3\n"
     ]
    }
   ],
   "source": [
    "# Mistake 3: Comparing floats directly\n",
    "price = 0.1 + 0.2  # This equals 0.30000000000000004\n",
    "# if price == 0.3:  # This would be False!\n",
    "if abs(price - 0.3) < 0.000001:  # Better way\n",
    "    print(\"Price is approximately 0.3\")"
   ]
  },
  {
   "cell_type": "code",
   "execution_count": 26,
   "id": "55f968e1-9bf4-458d-aa43-c3298682246f",
   "metadata": {},
   "outputs": [
    {
     "name": "stdout",
     "output_type": "stream",
     "text": [
      "Value is None\n",
      "\n",
      "✅ DEBUGGING TIPS:\n",
      "1. Use parentheses to make complex conditions clear\n",
      "2. Use == for comparison, = for assignment\n",
      "3. Be careful with floating-point comparisons\n",
      "4. Always handle None values explicitly\n",
      "5. Use 'is' and 'is not' for None comparisons\n",
      "\n",
      "==================================================\n"
     ]
    }
   ],
   "source": [
    "# Mistake 4: Not handling None values\n",
    "value = None\n",
    "# if value:  # This is False for None\n",
    "#     print(value.upper())  # Would cause error if value was None\n",
    "\n",
    "if value is not None:  # Better way\n",
    "    print(value.upper())\n",
    "else:\n",
    "    print(\"Value is None\")\n",
    "\n",
    "print(\"\\n✅ DEBUGGING TIPS:\")\n",
    "print(\"1. Use parentheses to make complex conditions clear\")\n",
    "print(\"2. Use == for comparison, = for assignment\")\n",
    "print(\"3. Be careful with floating-point comparisons\")\n",
    "print(\"4. Always handle None values explicitly\")\n",
    "print(\"5. Use 'is' and 'is not' for None comparisons\")\n",
    "\n",
    "print(\"\\n\" + \"=\"*50)"
   ]
  },
  {
   "cell_type": "code",
   "execution_count": 27,
   "id": "96b2f147-111d-4469-ada4-c24709f81cc6",
   "metadata": {},
   "outputs": [
    {
     "name": "stdout",
     "output_type": "stream",
     "text": [
      "=== PERFORMANCE TIPS ===\n",
      "Efficient grading: B\n",
      "Weekend!\n",
      "\n",
      "==================================================\n"
     ]
    }
   ],
   "source": [
    "# =========================\n",
    "# PERFORMANCE CONSIDERATIONS\n",
    "# =========================\n",
    "# Making your conditionals efficient\n",
    "\n",
    "print(\"=== PERFORMANCE TIPS ===\")\n",
    "\n",
    "# Tip 1: Order conditions by likelihood (most likely first)\n",
    "def check_user_type(user_type):\n",
    "    # Put most common cases first\n",
    "    if user_type == \"regular\":      # Most common\n",
    "        return \"Regular user access\"\n",
    "    elif user_type == \"premium\":    # Second most common\n",
    "        return \"Premium user access\"\n",
    "    elif user_type == \"admin\":      # Less common\n",
    "        return \"Admin access\"\n",
    "    else:                          # Least common\n",
    "        return \"Unknown user type\"\n",
    "\n",
    "# Tip 2: Use 'elif' instead of multiple 'if' statements\n",
    "score = 85\n",
    "\n",
    "# Inefficient - checks all conditions even after finding a match\n",
    "# if score >= 90:\n",
    "#     grade = \"A\"\n",
    "# if score >= 80 and score < 90:\n",
    "#     grade = \"B\"\n",
    "# if score >= 70 and score < 80:\n",
    "#     grade = \"C\"\n",
    "\n",
    "# Efficient - stops checking after first match\n",
    "if score >= 90:\n",
    "    grade = \"A\"\n",
    "elif score >= 80:\n",
    "    grade = \"B\"\n",
    "elif score >= 70:\n",
    "    grade = \"C\"\n",
    "else:\n",
    "    grade = \"F\"\n",
    "\n",
    "print(f\"Efficient grading: {grade}\")\n",
    "\n",
    "# Tip 3: Use membership testing for multiple values\n",
    "day = \"Saturday\"\n",
    "\n",
    "# Less efficient\n",
    "# if day == \"Saturday\" or day == \"Sunday\":\n",
    "\n",
    "# More efficient\n",
    "if day in {\"Saturday\", \"Sunday\"}:  # Using set for O(1) lookup\n",
    "    print(\"Weekend!\")\n",
    "\n",
    "print(\"\\n\" + \"=\"*50)"
   ]
  },
  {
   "cell_type": "code",
   "execution_count": 28,
   "id": "f89e25f8-8920-4c85-a528-aa953bee68e2",
   "metadata": {},
   "outputs": [
    {
     "name": "stdout",
     "output_type": "stream",
     "text": [
      "=== SUMMARY ===\n",
      "\n",
      "🎯 CONDITIONAL STRUCTURES:\n",
      "• if statement: Execute code only if condition is True\n",
      "• if-else: Choose between two options\n",
      "• if-elif-else: Choose from multiple options\n",
      "• Nested conditionals: Conditions inside conditions\n",
      "• Ternary operator: Short if-else for simple cases\n",
      "\n",
      "🔧 OPERATORS:\n",
      "• Comparison: ==, !=, <, <=, >, >=\n",
      "• Logical: and, or, not\n",
      "• Membership: in, not in\n",
      "• Identity: is, is not\n",
      "\n",
      "💡 BEST PRACTICES:\n",
      "• Use meaningful variable names\n",
      "• Keep conditions simple and readable\n",
      "• Order elif conditions by likelihood\n",
      "• Use guard clauses to avoid deep nesting\n",
      "• Handle edge cases (None, empty values)\n",
      "• Use parentheses for complex conditions\n",
      "\n",
      "🚀 REMEMBER:\n",
      "Conditionals are the decision-making tools of programming!\n",
      "They let your code react differently to different situations.\n",
      "Master them, and you can handle any logic your program needs!\n",
      "\n",
      "======================================================================\n",
      "END OF CONDITIONALS GUIDE\n",
      "======================================================================\n"
     ]
    }
   ],
   "source": [
    "\n",
    "# =========================\n",
    "# SUMMARY AND BEST PRACTICES\n",
    "# =========================\n",
    "\n",
    "print(\"=== SUMMARY ===\")\n",
    "print()\n",
    "print(\"🎯 CONDITIONAL STRUCTURES:\")\n",
    "print(\"• if statement: Execute code only if condition is True\")\n",
    "print(\"• if-else: Choose between two options\")\n",
    "print(\"• if-elif-else: Choose from multiple options\")\n",
    "print(\"• Nested conditionals: Conditions inside conditions\")\n",
    "print(\"• Ternary operator: Short if-else for simple cases\")\n",
    "print()\n",
    "print(\"🔧 OPERATORS:\")\n",
    "print(\"• Comparison: ==, !=, <, <=, >, >=\")\n",
    "print(\"• Logical: and, or, not\")\n",
    "print(\"• Membership: in, not in\")\n",
    "print(\"• Identity: is, is not\")\n",
    "print()\n",
    "print(\"💡 BEST PRACTICES:\")\n",
    "print(\"• Use meaningful variable names\")\n",
    "print(\"• Keep conditions simple and readable\")\n",
    "print(\"• Order elif conditions by likelihood\")\n",
    "print(\"• Use guard clauses to avoid deep nesting\")\n",
    "print(\"• Handle edge cases (None, empty values)\")\n",
    "print(\"• Use parentheses for complex conditions\")\n",
    "print()\n",
    "print(\"🚀 REMEMBER:\")\n",
    "print(\"Conditionals are the decision-making tools of programming!\")\n",
    "print(\"They let your code react differently to different situations.\")\n",
    "print(\"Master them, and you can handle any logic your program needs!\")\n",
    "\n",
    "print(\"\\n\" + \"=\"*70)\n",
    "print(\"END OF CONDITIONALS GUIDE\")\n",
    "print(\"=\"*70)"
   ]
  },
  {
   "cell_type": "code",
   "execution_count": null,
   "id": "af190bcf-f9e7-47b4-bbdc-7958c41b73ac",
   "metadata": {},
   "outputs": [],
   "source": []
  }
 ],
 "metadata": {
  "kernelspec": {
   "display_name": "Python 3 (ipykernel)",
   "language": "python",
   "name": "python3"
  },
  "language_info": {
   "codemirror_mode": {
    "name": "ipython",
    "version": 3
   },
   "file_extension": ".py",
   "mimetype": "text/x-python",
   "name": "python",
   "nbconvert_exporter": "python",
   "pygments_lexer": "ipython3",
   "version": "3.11.13"
  }
 },
 "nbformat": 4,
 "nbformat_minor": 5
}
