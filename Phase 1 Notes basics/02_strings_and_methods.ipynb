{
 "cells": [
  {
   "cell_type": "code",
   "execution_count": 1,
   "id": "72b840b8-259b-4ca5-a21f-13c381ac708c",
   "metadata": {},
   "outputs": [],
   "source": [
    "# Strings in Python"
   ]
  },
  {
   "cell_type": "code",
   "execution_count": 2,
   "id": "e9abb500-1f23-498c-826a-7152ccaf0013",
   "metadata": {},
   "outputs": [],
   "source": [
    "# A string is a sequence of characters, enclosed in single, double, or triple quotes.\n",
    "greeting = \"Hello, World!\"\n",
    "single_quote = 'Python'\n",
    "multi_line = \"\"\"This is\n",
    "a multi-line\n",
    "string.\"\"\""
   ]
  },
  {
   "cell_type": "code",
   "execution_count": 3,
   "id": "189f3d54-5ed9-46b9-81eb-b55a4ead15d4",
   "metadata": {},
   "outputs": [],
   "source": [
    "\n",
    "# Secret: Strings are immutable. You can't change a character in place.\n",
    "# greeting[0] = \"h\"  # This will raise an error"
   ]
  },
  {
   "cell_type": "code",
   "execution_count": 4,
   "id": "bb32bd6c-376c-4971-bb1d-8c274db48d24",
   "metadata": {},
   "outputs": [],
   "source": [
    "# You can reassign the variable to a new string:\n",
    "greeting = \"Hi, Universe!\""
   ]
  },
  {
   "cell_type": "code",
   "execution_count": 5,
   "id": "ac69d543-eda6-4c54-b453-4ce4778efff3",
   "metadata": {},
   "outputs": [
    {
     "name": "stdout",
     "output_type": "stream",
     "text": [
      "Hi, Universe! Python\n"
     ]
    }
   ],
   "source": [
    "# String concatenation (joining strings)\n",
    "full_greeting = greeting + \" \" + single_quote\n",
    "print(full_greeting)  # Output: Hi, Universe! Python"
   ]
  },
  {
   "cell_type": "code",
   "execution_count": 6,
   "id": "33908b9a-789a-4253-85ec-09ea8cceeb92",
   "metadata": {},
   "outputs": [
    {
     "name": "stdout",
     "output_type": "stream",
     "text": [
      "hahaha\n"
     ]
    }
   ],
   "source": [
    "# String repetition\n",
    "echo = \"ha\" * 3\n",
    "print(echo)  # Output: hahaha\n"
   ]
  },
  {
   "cell_type": "code",
   "execution_count": 7,
   "id": "09f4a59e-9060-4438-a7d5-4403255da064",
   "metadata": {},
   "outputs": [
    {
     "name": "stdout",
     "output_type": "stream",
     "text": [
      "P\n",
      "n\n",
      "yth\n"
     ]
    }
   ],
   "source": [
    "# String indexing and slicing\n",
    "word = \"Python\"\n",
    "print(word[0])    # Output: P (first character)\n",
    "print(word[-1])   # Output: n (last character)\n",
    "print(word[1:4])  # Output: yth (characters at index 1,2,3)"
   ]
  },
  {
   "cell_type": "code",
   "execution_count": 8,
   "id": "0c7d685b-ee1c-4c11-9754-e6936f40486f",
   "metadata": {},
   "outputs": [
    {
     "name": "stdout",
     "output_type": "stream",
     "text": [
      "thon\n"
     ]
    }
   ],
   "source": [
    "# Secret: Slicing never raises an error, even if the range is out of bounds.\n",
    "print(word[2:100])  # Output: thon"
   ]
  },
  {
   "cell_type": "code",
   "execution_count": 35,
   "id": "a342539b-e2aa-42dd-a49c-a65b38813a7a",
   "metadata": {},
   "outputs": [],
   "source": [
    "# Common string methods:\n",
    "text = \"  hello, python!  \"\n",
    "text1 = \"hello,python,world\""
   ]
  },
  {
   "cell_type": "code",
   "execution_count": 72,
   "id": "638cde3a-362f-46ec-a1ca-771513a5b1ea",
   "metadata": {},
   "outputs": [
    {
     "name": "stdout",
     "output_type": "stream",
     "text": [
      "1\n",
      "  HELLO WORLD PYTHON PROGRAMMING  \n",
      "  hello world python programming  \n",
      "Hello World Python Programming\n",
      "  Hello World Python Programming  \n",
      "['hello', 'python', 'world']\n",
      "6\n",
      "python,world\n",
      "False\n",
      "False\n"
     ]
    }
   ],
   "source": [
    "print(text1.count(\"python\"))\n",
    "print(text.upper())      # HELLO, PYTHON!\n",
    "print(text.lower())      # hello, python!\n",
    "print(text.strip())      # hello, python!   (removes leading/trailing whitespace)\n",
    "print(text.replace(\"python\", \"world\"))  #   hello, world!\n",
    "print(text1.split(\",\"))  # Output: ['hello', 'python', 'world']\n",
    "print(text1.find(\"python\"))  # 9 (index where \"python\" starts)\n",
    "print(text1[6:])# remove a part of string and print rest\n",
    "print(text.startswith(\"  he\"))  # True\n",
    "print(text.endswith(\"!  \"))     # True\n"
   ]
  },
  {
   "cell_type": "code",
   "execution_count": 11,
   "id": "f7117435-636e-494a-ade6-536b46b70042",
   "metadata": {},
   "outputs": [
    {
     "name": "stdout",
     "output_type": "stream",
     "text": [
      "a\n",
      "b\n",
      "c\n"
     ]
    }
   ],
   "source": [
    "# Secret: Strings are iterable, so you can loop through each character\n",
    "for anyVar in \"abc\":\n",
    "    print(anyVar)\n"
   ]
  },
  {
   "cell_type": "code",
   "execution_count": 12,
   "id": "75385a08-962a-4458-bb37-65ba1cc5f9f0",
   "metadata": {},
   "outputs": [
    {
     "name": "stdout",
     "output_type": "stream",
     "text": [
      "True\n"
     ]
    }
   ],
   "source": [
    "# Secret: You can use 'in' to check for substrings\n",
    "print(\"py\" in text)  # True"
   ]
  },
  {
   "cell_type": "code",
   "execution_count": 13,
   "id": "e4ac41cd-a078-44a4-ba7c-b6ea6e8a395a",
   "metadata": {},
   "outputs": [
    {
     "name": "stdout",
     "output_type": "stream",
     "text": [
      "My name is Alice and I am 30 years old.\n"
     ]
    }
   ],
   "source": [
    "# Formatting strings (f-strings, recommended in Python 3.6+)\n",
    "name = \"Alice\"\n",
    "age = 30\n",
    "print(f\"My name is {name} and I am {age} years old.\")"
   ]
  },
  {
   "cell_type": "code",
   "execution_count": 14,
   "id": "ce59be4f-d83f-4465-bac2-4b3532931757",
   "metadata": {},
   "outputs": [
    {
     "name": "stdout",
     "output_type": "stream",
     "text": [
      "My name is Alice and I am 30 years old.\n",
      "My name is Alice and I am 30 years old.\n"
     ]
    }
   ],
   "source": [
    "# Other formatting options (not recommended for new code):\n",
    "print(\"My name is {} and I am {} years old.\".format(name, age))\n",
    "print(\"My name is %s and I am %d years old.\" % (name, age))"
   ]
  },
  {
   "cell_type": "code",
   "execution_count": 20,
   "id": "ee363064-2d75-4fd9-83b9-4b905c6cc05b",
   "metadata": {},
   "outputs": [],
   "source": [
    "# Secret: Triple quotes allow multi-line strings and docstrings for functions/classes.\n",
    "def greet():\n",
    "    hi = \"\"\"\n",
    "    This is a docstring.\n",
    "    It describes what the function does.\n",
    "    \"\"\"\n",
    "    print(\"Hello!\",hi)"
   ]
  },
  {
   "cell_type": "code",
   "execution_count": 21,
   "id": "9f4b8afb-9a03-448a-b84d-8578e568a8ce",
   "metadata": {},
   "outputs": [
    {
     "name": "stdout",
     "output_type": "stream",
     "text": [
      "Hello! \n",
      "    This is a docstring.\n",
      "    It describes what the function does.\n",
      "    \n"
     ]
    }
   ],
   "source": [
    "\"\"\"main block (any method execution should be done from main usually or can be classed from other method or just normally\n",
    "   main is used to execute something only when script is run not imported)\"\"\"\n",
    "if __name__ == \"__main__\":\n",
    "    greet()\n",
    "\n"
   ]
  },
  {
   "cell_type": "code",
   "execution_count": null,
   "id": "1cbdf85c-669b-4f09-b391-430337b354b4",
   "metadata": {},
   "outputs": [],
   "source": []
  },
  {
   "cell_type": "code",
   "execution_count": null,
   "id": "3f611d08-42ef-42e2-b0ac-45a31c5107e2",
   "metadata": {},
   "outputs": [],
   "source": []
  },
  {
   "cell_type": "code",
   "execution_count": 39,
   "id": "9cdd2492-1293-40b4-b8ff-6e3823fce505",
   "metadata": {},
   "outputs": [],
   "source": [
    "\n",
    "# Python String Methods - Comprehensive Reference with Detailed Comments\n",
    "\n",
    "# Sample strings for demonstration\n",
    "text = \"  Hello World Python Programming  \"\n",
    "sentence = \"The quick brown fox jumps over the lazy dog\"\n",
    "mixed = \"Hello123World\"\n",
    "email = \"user@example.com\""
   ]
  },
  {
   "cell_type": "code",
   "execution_count": 2,
   "id": "fa1f5e90-71d1-4165-ba81-3a4781b58149",
   "metadata": {},
   "outputs": [
    {
     "name": "stdout",
     "output_type": "stream",
     "text": [
      "=== BASIC STRING OPERATIONS ===\n",
      "Original: '  Hello World Python Programming  '\n",
      "Length: 34\n"
     ]
    }
   ],
   "source": [
    "print(\"=== BASIC STRING OPERATIONS ===\")\n",
    "# len() - Returns the number of characters in the string (including spaces)\n",
    "print(f\"Original: '{text}'\")\n",
    "print(f\"Length: {len(text)}\")"
   ]
  },
  {
   "cell_type": "code",
   "execution_count": 3,
   "id": "e930722d-5cc7-464e-aad2-0451cb6f27fc",
   "metadata": {},
   "outputs": [
    {
     "name": "stdout",
     "output_type": "stream",
     "text": [
      "Character at index 2: 'H'\n"
     ]
    }
   ],
   "source": [
    "# Indexing - Access individual characters using square brackets [index]\n",
    "# Python uses 0-based indexing, negative indices count from the end\n",
    "print(f\"Character at index 2: '{text[2]}'\")"
   ]
  },
  {
   "cell_type": "code",
   "execution_count": 4,
   "id": "ce0c2c75-230d-4b07-b36b-0aaf1be151d3",
   "metadata": {},
   "outputs": [
    {
     "name": "stdout",
     "output_type": "stream",
     "text": [
      "Slice [2:7]: 'Hello'\n"
     ]
    }
   ],
   "source": [
    "# Slicing - Extract a portion of string using [start:end] (end is exclusive)\n",
    "print(f\"Slice [2:7]: '{text[2:7]}'\")"
   ]
  },
  {
   "cell_type": "code",
   "execution_count": 5,
   "id": "83c6658e-8417-40ab-9a35-9a21ce0a3ba6",
   "metadata": {},
   "outputs": [
    {
     "name": "stdout",
     "output_type": "stream",
     "text": [
      "\n",
      "=== CASE CONVERSION ===\n",
      "lower(): '  hello world python programming  '\n",
      "upper(): '  HELLO WORLD PYTHON PROGRAMMING  '\n",
      "capitalize(): 'The quick brown fox jumps over the lazy dog'\n",
      "title(): 'The Quick Brown Fox Jumps Over The Lazy Dog'\n",
      "swapcase(): 'tHE QUICK BROWN FOX JUMPS OVER THE LAZY DOG'\n",
      "casefold(): '  hello world python programming  '\n"
     ]
    }
   ],
   "source": [
    "print(\"\\n=== CASE CONVERSION ===\")\n",
    "# lower() - Converts all characters to lowercase\n",
    "print(f\"lower(): '{text.lower()}'\")\n",
    "\n",
    "# upper() - Converts all characters to uppercase\n",
    "print(f\"upper(): '{text.upper()}'\")\n",
    "\n",
    "# capitalize() - Makes first character uppercase, rest lowercase\n",
    "print(f\"capitalize(): '{sentence.capitalize()}'\")\n",
    "\n",
    "# title() - Capitalizes the first letter of each word\n",
    "print(f\"title(): '{sentence.title()}'\")\n",
    "\n",
    "# swapcase() - Converts uppercase to lowercase and vice versa\n",
    "print(f\"swapcase(): '{sentence.swapcase()}'\")\n",
    "\n",
    "# casefold() - More aggressive lowercase conversion, handles special Unicode cases\n",
    "print(f\"casefold(): '{text.casefold()}'\")  \n"
   ]
  },
  {
   "cell_type": "code",
   "execution_count": 48,
   "id": "b1c9ee23-66cb-4af5-868c-91594ade1c07",
   "metadata": {},
   "outputs": [
    {
     "name": "stdout",
     "output_type": "stream",
     "text": [
      "\n",
      "=== WHITESPACE HANDLING ===\n",
      "strip(): 'Hello World Python Programming'\n",
      "lstrip(): 'Hello World Python Programming  '\n",
      "rstrip(): '  Hello World Python Programming'\n",
      "strip('H '): 'ello World Python Programming'\n"
     ]
    }
   ],
   "source": [
    "print(\"\\n=== WHITESPACE HANDLING ===\")\n",
    "# strip() - Removes whitespace (spaces, tabs, newlines) from both ends\n",
    "print(f\"strip(): '{text.strip()}'\")\n",
    "\n",
    "# lstrip() - Removes whitespace from the left (beginning) only\n",
    "print(f\"lstrip(): '{text.lstrip()}'\")\n",
    "\n",
    "# rstrip() - Removes whitespace from the right (end) only\n",
    "print(f\"rstrip(): '{text.rstrip()}'\")\n",
    "\n",
    "# strip(chars) - Remove specific characters from both ends\n",
    "print(f\"strip('H '): '{text.strip('H ')}'\")  # Custom characters"
   ]
  },
  {
   "cell_type": "code",
   "execution_count": null,
   "id": "6bc77c50-de5c-4dc1-b518-c6239e4ec70c",
   "metadata": {},
   "outputs": [],
   "source": []
  },
  {
   "cell_type": "code",
   "execution_count": 8,
   "id": "71c3f1c4-54d7-4815-9b53-4e071504ef83",
   "metadata": {},
   "outputs": [
    {
     "name": "stdout",
     "output_type": "stream",
     "text": [
      "\n",
      "=== BOOLEAN CHECKS ===\n",
      "startswith('  He'): True\n",
      "endswith('ing  '): True\n",
      "isalpha(): 'Hello123World'.isalpha() = False\n",
      "isdigit(): '123'.isdigit() = True\n",
      "isalnum(): 'Hello123World'.isalnum() = True\n",
      "isspace(): '   '.isspace() = True\n",
      "isupper(): 'HELLO'.isupper() = True\n",
      "islower(): 'hello'.islower() = True\n",
      "istitle(): 'Hello World'.istitle() = True\n",
      "isdecimal(): '123'.isdecimal() = True\n",
      "isnumeric(): '123'.isnumeric() = True\n",
      "isascii(): 'hello'.isascii() = True\n",
      "isprintable(): 'hello\\n'.isprintable() = False\n"
     ]
    }
   ],
   "source": [
    "print(\"\\n=== BOOLEAN CHECKS ===\")\n",
    "# startswith(prefix) - Returns True if string starts with specified prefix\n",
    "print(f\"startswith('  He'): {text.startswith('  He')}\")\n",
    "\n",
    "# endswith(suffix) - Returns True if string ends with specified suffix\n",
    "print(f\"endswith('ing  '): {text.endswith('ing  ')}\")\n",
    "\n",
    "# isalpha() - Returns True if all characters are alphabetic (a-z, A-Z)\n",
    "print(f\"isalpha(): '{mixed}'.isalpha() = {mixed.isalpha()}\")\n",
    "\n",
    "# isdigit() - Returns True if all characters are digits (0-9)\n",
    "print(f\"isdigit(): '123'.isdigit() = {'123'.isdigit()}\")\n",
    "\n",
    "# isalnum() - Returns True if all characters are alphanumeric (letters or digits)\n",
    "print(f\"isalnum(): '{mixed}'.isalnum() = {mixed.isalnum()}\")\n",
    "\n",
    "# isspace() - Returns True if all characters are whitespace\n",
    "print(f\"isspace(): '   '.isspace() = {'   '.isspace()}\")\n",
    "\n",
    "# isupper() - Returns True if all cased characters are uppercase\n",
    "print(f\"isupper(): 'HELLO'.isupper() = {'HELLO'.isupper()}\")\n",
    "\n",
    "# islower() - Returns True if all cased characters are lowercase\n",
    "print(f\"islower(): 'hello'.islower() = {'hello'.islower()}\")\n",
    "\n",
    "# istitle() - Returns True if string is in title case (each word capitalized)\n",
    "print(f\"istitle(): 'Hello World'.istitle() = {'Hello World'.istitle()}\")\n",
    "\n",
    "# isdecimal() - Returns True if all characters are decimal numbers (0-9)\n",
    "print(f\"isdecimal(): '123'.isdecimal() = {'123'.isdecimal()}\")\n",
    "\n",
    "# isnumeric() - Returns True if all characters are numeric (includes digits, fractions, subscripts)\n",
    "print(f\"isnumeric(): '123'.isnumeric() = {'123'.isnumeric()}\")\n",
    "\n",
    "# isascii() - Returns True if all characters are ASCII characters\n",
    "print(f\"isascii(): 'hello'.isascii() = {'hello'.isascii()}\")\n",
    "\n",
    "# isprintable() - Returns True if all characters are printable (no control characters)\n",
    "print(f\"isprintable(): 'hello\\\\n'.isprintable() = {'hello\\n'.isprintable()}\")"
   ]
  },
  {
   "cell_type": "code",
   "execution_count": 51,
   "id": "50f10a83-2cca-4251-8259-35f4a81f81d2",
   "metadata": {},
   "outputs": [
    {
     "name": "stdout",
     "output_type": "stream",
     "text": [
      "\n",
      "=== REPLACE & SUBSTITUTE ===\n",
      "replace('World', 'Universe'): '  Hello Universe Python Programming  '\n",
      "replace('o', 'X', 2): '  HellX WXrld Python Programming  '\n",
      "\n",
      "=== SPLIT & JOIN ===\n",
      "split(): ['The', 'quick', 'brown', 'fox', 'jumps', 'over', 'the', 'lazy', 'dog']\n",
      "split(' ', 3): ['The', 'quick', 'brown', 'fox jumps over the lazy dog']\n",
      "rsplit(' ', 2): ['The quick brown fox jumps over the', 'lazy', 'dog']\n",
      "splitlines(): ['Line1\\\\nLine2\\\\nLine3']\n",
      "' '.join(words[:3]): 'The quick brown'\n",
      "'-'.join(['a', 'b', 'c']): 'a-b-c'\n"
     ]
    }
   ],
   "source": [
    "\n",
    "print(\"\\n=== REPLACE & SUBSTITUTE ===\")\n",
    "# replace(old, new) - Replaces all occurrences of old substring with new\n",
    "print(f\"replace('World', 'Universe'): '{text.replace('World', 'Universe')}'\")\n",
    "\n",
    "# replace(old, new, count) - Replace only specified number of occurrences\n",
    "print(f\"replace('o', 'X', 2): '{text.replace('o', 'X', 2)}'\")  \n",
    "\n",
    "print(\"\\n=== SPLIT & JOIN ===\")\n",
    "# split() - Splits string into list using whitespace as delimiter\n",
    "words = sentence.split()\n",
    "print(f\"split(): {words}\")\n",
    "\n",
    "# split(separator, maxsplit) - Split using specified separator with max splits\n",
    "print(f\"split(' ', 3): {sentence.split(' ', 3)}\")\n",
    "\n",
    "# rsplit() - Split from the right side of the string\n",
    "print(f\"rsplit(' ', 2): {sentence.rsplit(' ', 2)}\")\n",
    "\n",
    "# splitlines() - Split string at line breaks (\\n, \\r, \\r\\n)\n",
    "print(f\"splitlines(): {'Line1\\\\nLine2\\\\nLine3'.splitlines()}\")\n",
    "\n",
    "# join(iterable) - Joins elements of iterable with string as separator\n",
    "print(f\"' '.join(words[:3]): '{' '.join(words[:3])}'\")\n",
    "print(f\"'-'.join(['a', 'b', 'c']): '{'-'.join(['a', 'b', 'c'])}'\")"
   ]
  },
  {
   "cell_type": "code",
   "execution_count": 55,
   "id": "895fb4d2-7177-4844-b5d9-d91d69fbd28c",
   "metadata": {},
   "outputs": [
    {
     "name": "stdout",
     "output_type": "stream",
     "text": [
      "\n",
      "=== PARTITION & SPLIT ===\n",
      "partition('@'): ('user', '@', 'example.com')\n",
      "rpartition('.'): ('user@example', '.', 'com')\n"
     ]
    }
   ],
   "source": [
    "print(\"\\n=== PARTITION & SPLIT ===\")\n",
    "# partition(separator) - Split into 3 parts: before separator, separator, after\n",
    "print(f\"partition('@'): {email.partition('@')}\")\n",
    "\n",
    "# rpartition(separator) - Partition from the right side\n",
    "print(f\"rpartition('.'): {email.rpartition('.')}\")"
   ]
  },
  {
   "cell_type": "code",
   "execution_count": 11,
   "id": "d23b654b-736d-4320-b494-d067c11c3bdb",
   "metadata": {},
   "outputs": [
    {
     "name": "stdout",
     "output_type": "stream",
     "text": [
      "\n",
      "=== ALIGNMENT & PADDING ===\n",
      "center(20, '*'): '*******Python*******'\n",
      "ljust(15, '-'): 'Python---------'\n",
      "rjust(15, '-'): '---------Python'\n",
      "zfill(10): '42'.zfill(10) = '0000000042'\n"
     ]
    }
   ],
   "source": [
    "print(\"\\n=== ALIGNMENT & PADDING ===\")\n",
    "word = \"Python\"\n",
    "# center(width, fillchar) - Center string in field of given width\n",
    "print(f\"center(20, '*'): '{word.center(20, '*')}'\")\n",
    "\n",
    "# ljust(width, fillchar) - Left-justify string in field of given width\n",
    "print(f\"ljust(15, '-'): '{word.ljust(15, '-')}'\")\n",
    "\n",
    "# rjust(width, fillchar) - Right-justify string in field of given width\n",
    "print(f\"rjust(15, '-'): '{word.rjust(15, '-')}'\")\n",
    "\n",
    "# zfill(width) - Pad numeric string with zeros on the left\n",
    "print(f\"zfill(10): '42'.zfill(10) = '{'42'.zfill(10)}'\")"
   ]
  },
  {
   "cell_type": "code",
   "execution_count": 12,
   "id": "05364b9b-20da-457b-a09b-db96deb5101f",
   "metadata": {},
   "outputs": [
    {
     "name": "stdout",
     "output_type": "stream",
     "text": [
      "\n",
      "=== ENCODING & FORMATTING ===\n",
      "encode('utf-8'): b'Python'\n",
      "format(): 'Hello Alice, you are 30 years old'\n",
      "format(positional): 'Hello Bob, you are 25 years old'\n"
     ]
    }
   ],
   "source": [
    "print(\"\\n=== ENCODING & FORMATTING ===\")\n",
    "# encode(encoding) - Encode string to bytes using specified encoding\n",
    "print(f\"encode('utf-8'): {word.encode('utf-8')}\")\n",
    "\n",
    "# format() - Format string using placeholders with named arguments\n",
    "template = \"Hello {name}, you are {age} years old\"\n",
    "print(f\"format(): '{template.format(name='Alice', age=30)}'\")\n",
    "\n",
    "# format() with positional arguments\n",
    "template2 = \"Hello {0}, you are {1} years old\"\n",
    "print(f\"format(positional): '{template2.format('Bob', 25)}'\")"
   ]
  },
  {
   "cell_type": "code",
   "execution_count": 13,
   "id": "c37314da-30f0-4541-a4e9-219a40535ae7",
   "metadata": {},
   "outputs": [
    {
     "name": "stdout",
     "output_type": "stream",
     "text": [
      "\n",
      "=== STRING TRANSLATION ===\n",
      "translate(): 'h2ll4 w4rld'\n",
      "translate(remove vowels): 'hll wrld'\n"
     ]
    }
   ],
   "source": [
    "\n",
    "print(\"\\n=== STRING TRANSLATION ===\")\n",
    "# str.maketrans() creates translation table for translate() method\n",
    "# translate(table) - Replace characters according to translation table\n",
    "trans = str.maketrans('aeiou', '12345')  # Map vowels to numbers\n",
    "print(f\"translate(): '{'hello world'.translate(trans)}'\")\n",
    "\n",
    "# Translation table for removing characters (third parameter)\n",
    "trans2 = str.maketrans('', '', 'aeiou')  # Remove all vowels\n",
    "print(f\"translate(remove vowels): '{'hello world'.translate(trans2)}'\")"
   ]
  },
  {
   "cell_type": "code",
   "execution_count": 14,
   "id": "048b95fb-b5ed-41f7-89a3-3bcd2dca3949",
   "metadata": {},
   "outputs": [
    {
     "name": "stdout",
     "output_type": "stream",
     "text": [
      "\n",
      "=== PREFIX & SUFFIX OPERATIONS ===\n",
      "removeprefix('  He'): 'llo World Python Programming  '\n",
      "removesuffix('ing  '): '  Hello World Python Programm'\n"
     ]
    }
   ],
   "source": [
    "print(\"\\n=== PREFIX & SUFFIX OPERATIONS ===\")\n",
    "# removeprefix(prefix) - Remove prefix if present (Python 3.9+)\n",
    "print(f\"removeprefix('  He'): '{text.removeprefix('  He')}'\")\n",
    "\n",
    "# removesuffix(suffix) - Remove suffix if present (Python 3.9+)\n",
    "print(f\"removesuffix('ing  '): '{text.removesuffix('ing  ')}'\")"
   ]
  },
  {
   "cell_type": "code",
   "execution_count": 15,
   "id": "c15ca62f-9a6d-4e58-8690-39685dfb079d",
   "metadata": {},
   "outputs": [
    {
     "name": "stdout",
     "output_type": "stream",
     "text": [
      "\n",
      "=== ADVANCED STRING OPERATIONS ===\n",
      "expandtabs(4): 'Hello   World   Python'\n",
      "f-string: 'Welcome to Python 3.11!'\n",
      "Format number: 123.46\n",
      "Format percentage: 85.0%\n",
      "Format with commas: 1,234,567\n"
     ]
    }
   ],
   "source": [
    "print(\"\\n=== ADVANCED STRING OPERATIONS ===\")\n",
    "# expandtabs(tabsize) - Replace tab characters with spaces\n",
    "tabbed = \"Hello\\tWorld\\tPython\"\n",
    "print(f\"expandtabs(4): '{tabbed.expandtabs(4)}'\")\n",
    "\n",
    "# f-strings - Modern string formatting (Python 3.6+)\n",
    "name = \"Python\"\n",
    "version = 3.11\n",
    "print(f\"f-string: 'Welcome to {name} {version}!'\")\n",
    "\n",
    "# Format specifications in f-strings\n",
    "number = 123.456789\n",
    "print(f\"Format number: {number:.2f}\")           # 2 decimal places\n",
    "print(f\"Format percentage: {0.85:.1%}\")         # Percentage with 1 decimal\n",
    "print(f\"Format with commas: {1234567:,}\")       # Thousands separator"
   ]
  },
  {
   "cell_type": "code",
   "execution_count": 16,
   "id": "2470f0fd-24e6-4eb2-be41-a7a53eaf3f39",
   "metadata": {},
   "outputs": [
    {
     "name": "stdout",
     "output_type": "stream",
     "text": [
      "\n",
      "=== STRING CONSTANTS (from string module) ===\n",
      "ascii_letters: abcdefghijklmnopqrstuvwxyzABCDEFGHIJKLMNOPQRSTUVWXYZ\n",
      "digits: 0123456789\n",
      "punctuation: !\"#$%&'()*+,-./:;<=>...\n",
      "whitespace repr: ' \\t\\n\\r\\x0b\\x0c'\n"
     ]
    }
   ],
   "source": [
    "print(\"\\n=== STRING CONSTANTS (from string module) ===\")\n",
    "import string\n",
    "# Pre-defined string constants for common character sets\n",
    "print(f\"ascii_letters: {string.ascii_letters}\")    # a-z, A-Z\n",
    "print(f\"digits: {string.digits}\")                  # 0-9\n",
    "print(f\"punctuation: {string.punctuation[:20]}...\") # Punctuation marks\n",
    "print(f\"whitespace repr: {repr(string.whitespace)}\")# Space, tab, newline, etc."
   ]
  },
  {
   "cell_type": "code",
   "execution_count": 17,
   "id": "8cf013c3-6594-4213-ad92-fb01159683e2",
   "metadata": {},
   "outputs": [
    {
     "name": "stdout",
     "output_type": "stream",
     "text": [
      "\n",
      "=== REGULAR EXPRESSIONS (re module) ===\n",
      "findall emails: []\n",
      "findall phones: []\n",
      "sub (replace): 'Contact: john@email.com or call 123-456-7890'\n"
     ]
    }
   ],
   "source": [
    "print(\"\\n=== REGULAR EXPRESSIONS (re module) ===\")\n",
    "import re\n",
    "pattern_text = \"Contact: john@email.com or call 123-456-7890\"\n",
    "\n",
    "# findall() - Find all matches of pattern in string\n",
    "print(f\"findall emails: {re.findall(r'\\\\b[A-Za-z0-9._%+-]+@[A-Za-z0-9.-]+\\\\.[A-Z|a-z]{2,}\\\\b', pattern_text)}\")\n",
    "print(f\"findall phones: {re.findall(r'\\\\d{3}-\\\\d{3}-\\\\d{4}', pattern_text)}\")\n",
    "\n",
    "# sub() - Substitute matches with replacement string\n",
    "print(f\"sub (replace): '{re.sub(r'\\\\d', 'X', pattern_text)}'\")"
   ]
  },
  {
   "cell_type": "code",
   "execution_count": 18,
   "id": "bbdce831-b9bb-4ec2-9b86-5fd6b9c45f59",
   "metadata": {},
   "outputs": [
    {
     "name": "stdout",
     "output_type": "stream",
     "text": [
      "\n",
      "=== STRING METHODS CHAINING ===\n",
      "Chained operations: 'Hello Universe Python Programming'\n"
     ]
    }
   ],
   "source": [
    "print(\"\\n=== STRING METHODS CHAINING ===\")\n",
    "# You can chain multiple string methods together for complex operations\n",
    "messy_text = \"  HELLO world PYTHON programming  \"\n",
    "cleaned = messy_text.strip().lower().replace('world', 'universe').title()\n",
    "print(f\"Chained operations: '{cleaned}'\")"
   ]
  },
  {
   "cell_type": "code",
   "execution_count": 19,
   "id": "57bde7bc-df30-49f2-86a4-c0d12fb04409",
   "metadata": {},
   "outputs": [
    {
     "name": "stdout",
     "output_type": "stream",
     "text": [
      "\n",
      "=== ESCAPE SEQUENCES ===\n",
      "Raw string: 'Line 1\\\\nLine 2\\\\tTabbed\\\\\\\\Backslash\\\\\"Quote'\n",
      "Interpreted: Line 1\\nLine 2\\tTabbed\\\\Backslash\\\"Quote\n"
     ]
    }
   ],
   "source": [
    "\n",
    "print(\"\\n=== ESCAPE SEQUENCES ===\")\n",
    "# Special characters that need backslash escaping\n",
    "escaped = \"Line 1\\\\nLine 2\\\\tTabbed\\\\\\\\Backslash\\\\\\\"Quote\"\n",
    "print(f\"Raw string: {repr(escaped)}\")    # Shows actual characters\n",
    "print(f\"Interpreted: {escaped}\")         # Shows interpreted result\n"
   ]
  },
  {
   "cell_type": "code",
   "execution_count": 20,
   "id": "e860d4a9-4044-4a60-a6a2-5428c159be34",
   "metadata": {},
   "outputs": [
    {
     "name": "stdout",
     "output_type": "stream",
     "text": [
      "\n",
      "=== STRING COMPARISON ===\n",
      "'apple' < 'banana': True\n",
      "'apple' == 'banana': False\n"
     ]
    }
   ],
   "source": [
    "print(\"\\n=== STRING COMPARISON ===\")\n",
    "# Strings are compared lexicographically (dictionary order)\n",
    "str1, str2 = \"apple\", \"banana\"\n",
    "print(f\"'{str1}' < '{str2}': {str1 < str2}\")     # Lexicographic comparison\n",
    "print(f\"'{str1}' == '{str2}': {str1 == str2}\")   # Equality check"
   ]
  },
  {
   "cell_type": "code",
   "execution_count": null,
   "id": "652a1989-1f2e-419d-8bfa-16b678e5e4ad",
   "metadata": {},
   "outputs": [],
   "source": []
  },
  {
   "cell_type": "code",
   "execution_count": null,
   "id": "a07d5975-9a4a-493b-9758-5f9cf54a9b23",
   "metadata": {},
   "outputs": [],
   "source": []
  },
  {
   "cell_type": "code",
   "execution_count": 21,
   "id": "cdf50ccd-c547-43d3-b445-6265cba44b6a",
   "metadata": {},
   "outputs": [],
   "source": [
    "# String to List and List to String - Simple Guide"
   ]
  },
  {
   "cell_type": "code",
   "execution_count": 22,
   "id": "7bab9e24-6058-4396-86dc-fef3cbf99ecb",
   "metadata": {},
   "outputs": [],
   "source": [
    "#List of characters"
   ]
  },
  {
   "cell_type": "code",
   "execution_count": 57,
   "id": "6359e923-3e9b-4a12-8f62-e15880056ed2",
   "metadata": {},
   "outputs": [
    {
     "name": "stdout",
     "output_type": "stream",
     "text": [
      "['h', 'e', 'l', 'l', 'o']\n"
     ]
    }
   ],
   "source": [
    "s = \"hello\"\n",
    "chars = list(s)\n",
    "print(chars)  \n",
    "\n"
   ]
  },
  {
   "cell_type": "code",
   "execution_count": 61,
   "id": "d4a7925c-58bb-492e-807a-dd7b80f8f3d1",
   "metadata": {},
   "outputs": [
    {
     "name": "stdout",
     "output_type": "stream",
     "text": [
      "['hi', 'hello', 'how', 'are you']\n"
     ]
    }
   ],
   "source": [
    "#List of words\n",
    "s = \"hi hello how are you\"\n",
    "words = s.split(\" \",3)  # default split by space\n",
    "print(words)  \n",
    "\n"
   ]
  },
  {
   "cell_type": "code",
   "execution_count": 59,
   "id": "f062da24-dd28-44bc-b0ad-aed5cc8b9fd9",
   "metadata": {},
   "outputs": [
    {
     "name": "stdout",
     "output_type": "stream",
     "text": [
      "['apple', 'banana', 'orange']\n"
     ]
    }
   ],
   "source": [
    "#List from custom separator\n",
    "s = \"apple,banana,orange\"\n",
    "fruits = s.split(\",\")\n",
    "print(fruits)  \n",
    "# ['apple', 'banana', 'orange']\n"
   ]
  },
  {
   "cell_type": "code",
   "execution_count": 28,
   "id": "c6bd018b-e7ec-4e36-8196-69073cb1775c",
   "metadata": {},
   "outputs": [],
   "source": [
    "#Words list back to string"
   ]
  },
  {
   "cell_type": "code",
   "execution_count": 63,
   "id": "2d25ef14-b1e6-4368-a0a4-fed3eda6ea47",
   "metadata": {},
   "outputs": [
    {
     "name": "stdout",
     "output_type": "stream",
     "text": [
      "hi hello how are you\n"
     ]
    }
   ],
   "source": [
    "words = ['hi', 'hello', 'how', 'are', 'you']\n",
    "new_s = \" \".join(words)  # \" \" = space between words\n",
    "print(new_s)  \n",
    "\n"
   ]
  },
  {
   "cell_type": "code",
   "execution_count": null,
   "id": "06e2b021-fc7f-4d45-b069-1bf3ff955bff",
   "metadata": {},
   "outputs": [],
   "source": []
  }
 ],
 "metadata": {
  "kernelspec": {
   "display_name": "Python 3 (ipykernel)",
   "language": "python",
   "name": "python3"
  },
  "language_info": {
   "codemirror_mode": {
    "name": "ipython",
    "version": 3
   },
   "file_extension": ".py",
   "mimetype": "text/x-python",
   "name": "python",
   "nbconvert_exporter": "python",
   "pygments_lexer": "ipython3",
   "version": "3.13.5"
  }
 },
 "nbformat": 4,
 "nbformat_minor": 5
}
