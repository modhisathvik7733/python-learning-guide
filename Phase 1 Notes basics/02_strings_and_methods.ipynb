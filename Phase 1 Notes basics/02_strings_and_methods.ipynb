{
 "cells": [
  {
   "cell_type": "code",
   "execution_count": 1,
   "id": "72b840b8-259b-4ca5-a21f-13c381ac708c",
   "metadata": {},
   "outputs": [],
   "source": [
    "# Strings in Python"
   ]
  },
  {
   "cell_type": "code",
   "execution_count": 2,
   "id": "e9abb500-1f23-498c-826a-7152ccaf0013",
   "metadata": {},
   "outputs": [],
   "source": [
    "# A string is a sequence of characters, enclosed in single, double, or triple quotes.\n",
    "greeting = \"Hello, World!\"\n",
    "single_quote = 'Python'\n",
    "multi_line = \"\"\"This is\n",
    "a multi-line\n",
    "string.\"\"\""
   ]
  },
  {
   "cell_type": "code",
   "execution_count": 3,
   "id": "189f3d54-5ed9-46b9-81eb-b55a4ead15d4",
   "metadata": {},
   "outputs": [],
   "source": [
    "\n",
    "# Secret: Strings are immutable. You can't change a character in place.\n",
    "# greeting[0] = \"h\"  # This will raise an error"
   ]
  },
  {
   "cell_type": "code",
   "execution_count": 4,
   "id": "bb32bd6c-376c-4971-bb1d-8c274db48d24",
   "metadata": {},
   "outputs": [],
   "source": [
    "# You can reassign the variable to a new string:\n",
    "greeting = \"Hi, Universe!\""
   ]
  },
  {
   "cell_type": "code",
   "execution_count": 5,
   "id": "ac69d543-eda6-4c54-b453-4ce4778efff3",
   "metadata": {},
   "outputs": [
    {
     "name": "stdout",
     "output_type": "stream",
     "text": [
      "Hi, Universe! Python\n"
     ]
    }
   ],
   "source": [
    "# String concatenation (joining strings)\n",
    "full_greeting = greeting + \" \" + single_quote\n",
    "print(full_greeting)  # Output: Hi, Universe! Python"
   ]
  },
  {
   "cell_type": "code",
   "execution_count": 6,
   "id": "33908b9a-789a-4253-85ec-09ea8cceeb92",
   "metadata": {},
   "outputs": [
    {
     "name": "stdout",
     "output_type": "stream",
     "text": [
      "hahaha\n"
     ]
    }
   ],
   "source": [
    "# String repetition\n",
    "echo = \"ha\" * 3\n",
    "print(echo)  # Output: hahaha\n"
   ]
  },
  {
   "cell_type": "code",
   "execution_count": 7,
   "id": "09f4a59e-9060-4438-a7d5-4403255da064",
   "metadata": {},
   "outputs": [
    {
     "name": "stdout",
     "output_type": "stream",
     "text": [
      "P\n",
      "n\n",
      "yth\n"
     ]
    }
   ],
   "source": [
    "# String indexing and slicing\n",
    "word = \"Python\"\n",
    "print(word[0])    # Output: P (first character)\n",
    "print(word[-1])   # Output: n (last character)\n",
    "print(word[1:4])  # Output: yth (characters at index 1,2,3)"
   ]
  },
  {
   "cell_type": "code",
   "execution_count": 8,
   "id": "0c7d685b-ee1c-4c11-9754-e6936f40486f",
   "metadata": {},
   "outputs": [
    {
     "name": "stdout",
     "output_type": "stream",
     "text": [
      "thon\n"
     ]
    }
   ],
   "source": [
    "# Secret: Slicing never raises an error, even if the range is out of bounds.\n",
    "print(word[2:100])  # Output: thon"
   ]
  },
  {
   "cell_type": "code",
   "execution_count": 9,
   "id": "a342539b-e2aa-42dd-a49c-a65b38813a7a",
   "metadata": {},
   "outputs": [],
   "source": [
    "# Common string methods:\n",
    "text = \"  hello, python!  \"\n",
    "text1 = \"hello,python,world\""
   ]
  },
  {
   "cell_type": "code",
   "execution_count": 10,
   "id": "256432ed-3cf7-4080-874c-758fc83434bb",
   "metadata": {},
   "outputs": [
    {
     "name": "stdout",
     "output_type": "stream",
     "text": [
      "  HELLO, PYTHON!  \n",
      "  hello, python!  \n",
      "hello, python!\n",
      "  hello, world!  \n",
      "['hello', 'python', 'world']\n",
      "9\n",
      "True\n",
      "True\n"
     ]
    }
   ],
   "source": [
    "print(text.upper())      # HELLO, PYTHON!\n",
    "print(text.lower())      # hello, python!\n",
    "print(text.strip())      # hello, python!   (removes leading/trailing whitespace)\n",
    "print(text.replace(\"python\", \"world\"))  #   hello, world!\n",
    "print(text1.split(\",\"))  # Output: ['hello', 'python', 'world']\n",
    "print(text.find(\"python\"))  # 9 (index where \"python\" starts)\n",
    "print(text.startswith(\"  he\"))  # True\n",
    "print(text.endswith(\"!  \"))     # True"
   ]
  },
  {
   "cell_type": "code",
   "execution_count": 11,
   "id": "f7117435-636e-494a-ade6-536b46b70042",
   "metadata": {},
   "outputs": [
    {
     "name": "stdout",
     "output_type": "stream",
     "text": [
      "a\n",
      "b\n",
      "c\n"
     ]
    }
   ],
   "source": [
    "# Secret: Strings are iterable, so you can loop through each character\n",
    "for anyVar in \"abc\":\n",
    "    print(anyVar)\n"
   ]
  },
  {
   "cell_type": "code",
   "execution_count": 12,
   "id": "75385a08-962a-4458-bb37-65ba1cc5f9f0",
   "metadata": {},
   "outputs": [
    {
     "name": "stdout",
     "output_type": "stream",
     "text": [
      "True\n"
     ]
    }
   ],
   "source": [
    "# Secret: You can use 'in' to check for substrings\n",
    "print(\"py\" in text)  # True"
   ]
  },
  {
   "cell_type": "code",
   "execution_count": 13,
   "id": "e4ac41cd-a078-44a4-ba7c-b6ea6e8a395a",
   "metadata": {},
   "outputs": [
    {
     "name": "stdout",
     "output_type": "stream",
     "text": [
      "My name is Alice and I am 30 years old.\n"
     ]
    }
   ],
   "source": [
    "# Formatting strings (f-strings, recommended in Python 3.6+)\n",
    "name = \"Alice\"\n",
    "age = 30\n",
    "print(f\"My name is {name} and I am {age} years old.\")"
   ]
  },
  {
   "cell_type": "code",
   "execution_count": 14,
   "id": "ce59be4f-d83f-4465-bac2-4b3532931757",
   "metadata": {},
   "outputs": [
    {
     "name": "stdout",
     "output_type": "stream",
     "text": [
      "My name is Alice and I am 30 years old.\n",
      "My name is Alice and I am 30 years old.\n"
     ]
    }
   ],
   "source": [
    "# Other formatting options (not recommended for new code):\n",
    "print(\"My name is {} and I am {} years old.\".format(name, age))\n",
    "print(\"My name is %s and I am %d years old.\" % (name, age))"
   ]
  },
  {
   "cell_type": "code",
   "execution_count": 20,
   "id": "ee363064-2d75-4fd9-83b9-4b905c6cc05b",
   "metadata": {},
   "outputs": [],
   "source": [
    "# Secret: Triple quotes allow multi-line strings and docstrings for functions/classes.\n",
    "def greet():\n",
    "    hi = \"\"\"\n",
    "    This is a docstring.\n",
    "    It describes what the function does.\n",
    "    \"\"\"\n",
    "    print(\"Hello!\",hi)"
   ]
  },
  {
   "cell_type": "code",
   "execution_count": 21,
   "id": "9f4b8afb-9a03-448a-b84d-8578e568a8ce",
   "metadata": {},
   "outputs": [
    {
     "name": "stdout",
     "output_type": "stream",
     "text": [
      "Hello! \n",
      "    This is a docstring.\n",
      "    It describes what the function does.\n",
      "    \n"
     ]
    }
   ],
   "source": [
    "\"\"\"main block (any method execution should be done from main usually or can be classed from other method or just normally\n",
    "   main is used to execute something only when script is run not imported)\"\"\"\n",
    "if __name__ == \"__main__\":\n",
    "    greet()\n",
    "\n"
   ]
  },
  {
   "cell_type": "code",
   "execution_count": null,
   "id": "9cdd2492-1293-40b4-b8ff-6e3823fce505",
   "metadata": {},
   "outputs": [],
   "source": []
  }
 ],
 "metadata": {
  "kernelspec": {
   "display_name": "Python 3 (ipykernel)",
   "language": "python",
   "name": "python3"
  },
  "language_info": {
   "codemirror_mode": {
    "name": "ipython",
    "version": 3
   },
   "file_extension": ".py",
   "mimetype": "text/x-python",
   "name": "python",
   "nbconvert_exporter": "python",
   "pygments_lexer": "ipython3",
   "version": "3.11.13"
  }
 },
 "nbformat": 4,
 "nbformat_minor": 5
}
