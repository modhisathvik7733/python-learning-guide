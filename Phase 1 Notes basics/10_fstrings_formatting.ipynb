{
 "cells": [
  {
   "cell_type": "code",
   "execution_count": 1,
   "id": "83b95981-670c-432d-b4da-a1e61c1a9711",
   "metadata": {},
   "outputs": [],
   "source": [
    "# ===================================================================================================\n",
    "# PYTHON F-STRINGS FOR FORMATTING - COMPLETE GUIDE\n",
    "# ===================================================================================================\n",
    "# Modern, fast, and readable string formatting in Python 3.6+\n",
    "\n",
    "# =========================\n",
    "# WHAT ARE F-STRINGS?\n",
    "# =========================\n",
    "# F-strings (formatted string literals) - the modern way to format strings"
   ]
  },
  {
   "cell_type": "code",
   "execution_count": 2,
   "id": "7d5a244e-e7f5-4237-9419-6db835e03f19",
   "metadata": {},
   "outputs": [
    {
     "name": "stdout",
     "output_type": "stream",
     "text": [
      "🔤 F-STRINGS EXPLAINED:\n",
      "• F-strings = f'formatted string literals'\n",
      "• Introduced in Python 3.6 (2016)\n",
      "• Fastest and most readable string formatting method\n",
      "• Use f'' or F'' prefix before the string\n",
      "• Variables/expressions go inside {curly braces}\n",
      "\n",
      "📈 ADVANTAGES:\n",
      "• ✅ Fast performance\n",
      "• ✅ Easy to read and write\n",
      "• ✅ Less prone to errors\n",
      "• ✅ Supports any Python expression\n",
      "• ✅ Great debugging features\n",
      "\n",
      "============================================================\n"
     ]
    }
   ],
   "source": [
    "print(\"🔤 F-STRINGS EXPLAINED:\")\n",
    "print(\"• F-strings = f'formatted string literals'\")\n",
    "print(\"• Introduced in Python 3.6 (2016)\")\n",
    "print(\"• Fastest and most readable string formatting method\")\n",
    "print(\"• Use f'' or F'' prefix before the string\")\n",
    "print(\"• Variables/expressions go inside {curly braces}\")\n",
    "print()\n",
    "print(\"📈 ADVANTAGES:\")\n",
    "print(\"• ✅ Fast performance\")\n",
    "print(\"• ✅ Easy to read and write\")\n",
    "print(\"• ✅ Less prone to errors\")\n",
    "print(\"• ✅ Supports any Python expression\")\n",
    "print(\"• ✅ Great debugging features\")\n",
    "print(\"\\n\" + \"=\"*60)"
   ]
  },
  {
   "cell_type": "code",
   "execution_count": 3,
   "id": "ace1df9f-b8cf-4010-81f2-6204ba1cf106",
   "metadata": {},
   "outputs": [],
   "source": [
    "# =========================\n",
    "# BASIC F-STRING SYNTAX\n",
    "# =========================\n",
    "# Getting started with f-string basics\n"
   ]
  },
  {
   "cell_type": "code",
   "execution_count": 4,
   "id": "0db14e6b-b2e9-410b-8b16-eccf2ce5f1db",
   "metadata": {},
   "outputs": [
    {
     "name": "stdout",
     "output_type": "stream",
     "text": [
      "\n",
      "1. BASIC VARIABLE INTERPOLATION:\n",
      "👋 Hello, my name is Alice\n",
      "🎂 I am 30 years old\n",
      "🏙️ I live in New York\n"
     ]
    }
   ],
   "source": [
    "# Basic variable interpolation\n",
    "name = \"Alice\"\n",
    "age = 30\n",
    "city = \"New York\"\n",
    "\n",
    "print(\"\\n1. BASIC VARIABLE INTERPOLATION:\")\n",
    "print(f\"👋 Hello, my name is {name}\")\n",
    "print(f\"🎂 I am {age} years old\")\n",
    "print(f\"🏙️ I live in {city}\")\n"
   ]
  },
  {
   "cell_type": "code",
   "execution_count": 5,
   "id": "8f6d33fd-3132-46f4-9963-c5fc91eda012",
   "metadata": {},
   "outputs": [
    {
     "name": "stdout",
     "output_type": "stream",
     "text": [
      "\n",
      "📝 Full intro: Hi, I'm Alice, 30 years old, from New York\n"
     ]
    }
   ],
   "source": [
    "\n",
    "# Multiple variables in one string\n",
    "print(f\"\\n📝 Full intro: Hi, I'm {name}, {age} years old, from {city}\")"
   ]
  },
  {
   "cell_type": "code",
   "execution_count": 6,
   "id": "fa81900e-357f-4bb2-9259-aef796297efe",
   "metadata": {},
   "outputs": [
    {
     "name": "stdout",
     "output_type": "stream",
     "text": [
      "\n",
      "2. F-STRINGS VS OTHER METHODS:\n"
     ]
    }
   ],
   "source": [
    "# F-strings vs other methods\n",
    "print(\"\\n2. F-STRINGS VS OTHER METHODS:\")\n",
    "score = 95\n",
    "subject = \"Python\"\n"
   ]
  },
  {
   "cell_type": "code",
   "execution_count": 7,
   "id": "e8ecded0-6e9a-47e5-95ba-f15d530d814e",
   "metadata": {},
   "outputs": [
    {
     "name": "stdout",
     "output_type": "stream",
     "text": [
      "F-string:     I scored 95% in Python\n",
      ".format():    I scored 95% in Python\n"
     ]
    }
   ],
   "source": [
    "# F-string (modern way)\n",
    "fstring_result = f\"I scored {score}% in {subject}\"\n",
    "print(f\"F-string:     {fstring_result}\")\n",
    "\n",
    "# .format() method (older way)\n",
    "format_result = \"I scored {}% in {}\".format(score, subject)\n",
    "print(f\".format():    {format_result}\")"
   ]
  },
  {
   "cell_type": "code",
   "execution_count": 8,
   "id": "34ef965e-c564-423a-a0c8-15aaaa0e76fd",
   "metadata": {},
   "outputs": [
    {
     "name": "stdout",
     "output_type": "stream",
     "text": [
      "% formatting: I scored 95% in Python\n",
      "\n",
      "✅ F-strings are the most readable!\n",
      "\n",
      "============================================================\n"
     ]
    }
   ],
   "source": [
    "# % formatting (oldest way)\n",
    "percent_result = \"I scored %d%% in %s\" % (score, subject)\n",
    "print(f\"% formatting: {percent_result}\")\n",
    "\n",
    "print(\"\\n✅ F-strings are the most readable!\")\n",
    "\n",
    "print(\"\\n\" + \"=\"*60)"
   ]
  },
  {
   "cell_type": "code",
   "execution_count": 9,
   "id": "e1ec4240-89a2-4807-8e19-f1fa2fc204b1",
   "metadata": {},
   "outputs": [],
   "source": [
    "# =========================\n",
    "# EXPRESSIONS IN F-STRINGS\n",
    "# =========================\n",
    "# You can put any Python expression inside {}"
   ]
  },
  {
   "cell_type": "code",
   "execution_count": 10,
   "id": "5e806bc0-0c28-4f14-bd26-3459b0a28598",
   "metadata": {},
   "outputs": [
    {
     "name": "stdout",
     "output_type": "stream",
     "text": [
      "\n",
      "1. MATHEMATICAL EXPRESSIONS:\n",
      "📊 10 + 5 = 15\n",
      "📊 10 - 5 = 5\n",
      "📊 10 × 5 = 50\n",
      "📊 10 ÷ 5 = 2.0\n",
      "📊 10 ^ 5 = 100000\n"
     ]
    }
   ],
   "source": [
    "# Mathematical expressions\n",
    "a = 10\n",
    "b = 5\n",
    "print(\"\\n1. MATHEMATICAL EXPRESSIONS:\")\n",
    "print(f\"📊 {a} + {b} = {a + b}\")\n",
    "print(f\"📊 {a} - {b} = {a - b}\")\n",
    "print(f\"📊 {a} × {b} = {a * b}\")\n",
    "print(f\"📊 {a} ÷ {b} = {a / b}\")\n",
    "print(f\"📊 {a} ^ {b} = {a ** b}\")\n"
   ]
  },
  {
   "cell_type": "code",
   "execution_count": 11,
   "id": "17722d5a-88b1-4b92-b0c4-6f13c42983ab",
   "metadata": {},
   "outputs": [
    {
     "name": "stdout",
     "output_type": "stream",
     "text": [
      "\n",
      "2. STRING OPERATIONS:\n",
      "🔤 Full name: John Smith\n",
      "🔤 Uppercase: JOHN\n",
      "🔤 Length: 4 characters\n",
      "🔤 Initials: J.S.\n"
     ]
    }
   ],
   "source": [
    "# String operations\n",
    "first_name = \"John\"\n",
    "last_name = \"Smith\"\n",
    "print(\"\\n2. STRING OPERATIONS:\")\n",
    "print(f\"🔤 Full name: {first_name + ' ' + last_name}\")\n",
    "print(f\"🔤 Uppercase: {first_name.upper()}\")\n",
    "print(f\"🔤 Length: {len(first_name)} characters\")\n",
    "print(f\"🔤 Initials: {first_name[0]}.{last_name[0]}.\")"
   ]
  },
  {
   "cell_type": "code",
   "execution_count": 12,
   "id": "fb94135c-8e58-4906-8642-6bb24450917c",
   "metadata": {},
   "outputs": [
    {
     "name": "stdout",
     "output_type": "stream",
     "text": [
      "\n",
      "3. DATA STRUCTURE ACCESS:\n",
      "🍎 Fruits: ['apple', 'banana', 'orange']\n",
      "🍎 First fruit: apple\n",
      "🍎 Number of fruits: 3\n",
      "👤 Person: Bob, 25, Developer\n"
     ]
    }
   ],
   "source": [
    "# List and dictionary access\n",
    "fruits = [\"apple\", \"banana\", \"orange\"]\n",
    "person = {\"name\": \"Bob\", \"age\": 25, \"job\": \"Developer\"}\n",
    "\n",
    "print(\"\\n3. DATA STRUCTURE ACCESS:\")\n",
    "print(f\"🍎 Fruits: {fruits}\")\n",
    "print(f\"🍎 First fruit: {fruits[0]}\")\n",
    "print(f\"🍎 Number of fruits: {len(fruits)}\")\n",
    "print(f\"👤 Person: {person['name']}, {person['age']}, {person['job']}\")"
   ]
  },
  {
   "cell_type": "code",
   "execution_count": 14,
   "id": "5cf34185-d124-45b9-bded-61ee355dc799",
   "metadata": {},
   "outputs": [
    {
     "name": "stdout",
     "output_type": "stream",
     "text": [
      "\n",
      "4. FUNCTION CALLS:\n",
      "🔢 Numbers: [1, 2, 3, 4, 5]\n",
      "🔢 Sum: 15\n",
      "🔢 Average: 3.00\n",
      "🔢 Square root of 16: 4.0\n",
      "\n",
      "5. CONDITIONAL EXPRESSIONS:\n",
      "🌡️ Temperature: 25°C\n",
      "🌡️ It's nice\n",
      "☀️ Weather is sunny, perfect for outdoors!\n",
      "\n",
      "============================================================\n"
     ]
    }
   ],
   "source": [
    "\n",
    "# Function calls\n",
    "import math\n",
    "numbers = [1, 2, 3, 4, 5]\n",
    "\n",
    "print(\"\\n4. FUNCTION CALLS:\")\n",
    "print(f\"🔢 Numbers: {numbers}\")\n",
    "print(f\"🔢 Sum: {sum(numbers)}\")\n",
    "print(f\"🔢 Average: {sum(numbers) / len(numbers):.2f}\")\n",
    "print(f\"🔢 Square root of 16: {math.sqrt(16)}\")\n",
    "\n",
    "# Conditional expressions (ternary operator)\n",
    "temperature = 25\n",
    "weather = \"sunny\"\n",
    "\n",
    "print(\"\\n5. CONDITIONAL EXPRESSIONS:\")\n",
    "print(f\"🌡️ Temperature: {temperature}°C\")\n",
    "print(f\"🌡️ It's {'hot' if temperature > 30 else 'nice' if temperature > 20 else 'cold'}\")\n",
    "print(f\"☀️ Weather is {weather}, {'perfect for outdoors!' if weather == 'sunny' else 'maybe stay inside.'}\")\n",
    "\n",
    "print(\"\\n\" + \"=\"*60)\n"
   ]
  },
  {
   "cell_type": "code",
   "execution_count": 15,
   "id": "6f4ae8e7-0794-4a77-aa3c-fbddad8a850c",
   "metadata": {},
   "outputs": [
    {
     "name": "stdout",
     "output_type": "stream",
     "text": [
      "=== NUMBER FORMATTING ===\n"
     ]
    }
   ],
   "source": [
    "# =========================\n",
    "# NUMBER FORMATTING\n",
    "# =========================\n",
    "# Formatting numbers with precision, padding, and alignment\n",
    "\n",
    "print(\"=== NUMBER FORMATTING ===\")"
   ]
  },
  {
   "cell_type": "code",
   "execution_count": 16,
   "id": "fed8b3b3-bd68-40fc-8398-3fe67707b88f",
   "metadata": {},
   "outputs": [
    {
     "name": "stdout",
     "output_type": "stream",
     "text": [
      "\n",
      "1. FLOAT PRECISION:\n",
      "🥧 π = 3.141592653589793\n",
      "🥧 π (2 decimals) = 3.14\n",
      "🥧 π (4 decimals) = 3.1416\n",
      "🥧 π (no decimals) = 3\n",
      "\n",
      "💰 Large number: 1234567.89\n",
      "💰 Large (2 decimals): 1234567.89\n",
      "💰 Small number: 0.00012345\n",
      "💰 Small (6 decimals): 0.000123\n"
     ]
    }
   ],
   "source": [
    "\n",
    "# Float precision\n",
    "pi = 3.141592653589793\n",
    "large_number = 1234567.89\n",
    "small_number = 0.00012345\n",
    "\n",
    "print(\"\\n1. FLOAT PRECISION:\")\n",
    "print(f\"🥧 π = {pi}\")\n",
    "print(f\"🥧 π (2 decimals) = {pi:.2f}\")\n",
    "print(f\"🥧 π (4 decimals) = {pi:.4f}\")\n",
    "print(f\"🥧 π (no decimals) = {pi:.0f}\")\n",
    "\n",
    "print(f\"\\n💰 Large number: {large_number}\")\n",
    "print(f\"💰 Large (2 decimals): {large_number:.2f}\")\n",
    "print(f\"💰 Small number: {small_number}\")\n",
    "print(f\"💰 Small (6 decimals): {small_number:.6f}\")"
   ]
  },
  {
   "cell_type": "code",
   "execution_count": 17,
   "id": "285487c4-80ef-4b9c-9514-5375f00bd1d1",
   "metadata": {},
   "outputs": [
    {
     "name": "stdout",
     "output_type": "stream",
     "text": [
      "\n",
      "2. THOUSANDS SEPARATOR:\n",
      "🔢 Big number: 1234567890\n",
      "🔢 With commas: 1,234,567,890\n",
      "🔢 With underscores: 1_234_567_890\n",
      "💵 Price: $1,299.99\n"
     ]
    }
   ],
   "source": [
    "# Thousands separator\n",
    "big_number = 1234567890\n",
    "price = 1299.99\n",
    "\n",
    "print(\"\\n2. THOUSANDS SEPARATOR:\")\n",
    "print(f\"🔢 Big number: {big_number}\")\n",
    "print(f\"🔢 With commas: {big_number:,}\")\n",
    "print(f\"🔢 With underscores: {big_number:_}\")\n",
    "print(f\"💵 Price: ${price:,.2f}\")\n"
   ]
  },
  {
   "cell_type": "code",
   "execution_count": 18,
   "id": "7602009d-3a2b-4dba-bb84-f32df6e8c5cd",
   "metadata": {},
   "outputs": [
    {
     "name": "stdout",
     "output_type": "stream",
     "text": [
      "\n",
      "3. PERCENTAGE FORMATTING:\n",
      "📊 Ratio: 0.785\n",
      "📊 As percentage: 78.5%\n",
      "📊 Accuracy: 92.34%\n"
     ]
    }
   ],
   "source": [
    "# Percentage formatting\n",
    "ratio = 0.785\n",
    "accuracy = 0.9234\n",
    "\n",
    "print(\"\\n3. PERCENTAGE FORMATTING:\")\n",
    "print(f\"📊 Ratio: {ratio}\")\n",
    "print(f\"📊 As percentage: {ratio:.1%}\")\n",
    "print(f\"📊 Accuracy: {accuracy:.2%}\")"
   ]
  },
  {
   "cell_type": "code",
   "execution_count": 19,
   "id": "7a7a4384-5736-4375-96c5-d2e9b3e0a99a",
   "metadata": {},
   "outputs": [
    {
     "name": "stdout",
     "output_type": "stream",
     "text": [
      "\n",
      "4. SCIENTIFIC NOTATION:\n",
      "🔬 Very big: 12300000000.0\n",
      "🔬 Scientific: 1.23e+10\n",
      "🔬 Very small: 1.23e-06\n",
      "🔬 Scientific: 1.230e-06\n"
     ]
    }
   ],
   "source": [
    "# Scientific notation\n",
    "very_big = 1.23e10\n",
    "very_small = 1.23e-6\n",
    "\n",
    "print(\"\\n4. SCIENTIFIC NOTATION:\")\n",
    "print(f\"🔬 Very big: {very_big}\")\n",
    "print(f\"🔬 Scientific: {very_big:.2e}\")\n",
    "print(f\"🔬 Very small: {very_small}\")\n",
    "print(f\"🔬 Scientific: {very_small:.3e}\")\n"
   ]
  },
  {
   "cell_type": "code",
   "execution_count": 20,
   "id": "b6841524-d4ca-4666-a5d9-9b59c85b1992",
   "metadata": {},
   "outputs": [
    {
     "name": "stdout",
     "output_type": "stream",
     "text": [
      "\n",
      "5. DIFFERENT NUMBER BASES:\n",
      "🔢 Decimal: 255\n",
      "🔢 Binary: 11111111\n",
      "🔢 Octal: 377\n",
      "🔢 Hexadecimal: ff\n",
      "🔢 Hex (uppercase): FF\n"
     ]
    }
   ],
   "source": [
    "# Different number bases\n",
    "number = 255\n",
    "\n",
    "print(\"\\n5. DIFFERENT NUMBER BASES:\")\n",
    "print(f\"🔢 Decimal: {number}\")\n",
    "print(f\"🔢 Binary: {number:b}\")\n",
    "print(f\"🔢 Octal: {number:o}\")\n",
    "print(f\"🔢 Hexadecimal: {number:x}\")\n",
    "print(f\"🔢 Hex (uppercase): {number:X}\")"
   ]
  },
  {
   "cell_type": "code",
   "execution_count": 21,
   "id": "5a5c8473-b40c-47c6-b2e2-52673a66f526",
   "metadata": {},
   "outputs": [
    {
     "name": "stdout",
     "output_type": "stream",
     "text": [
      "\n",
      "6. ZERO PADDING:\n",
      "📄 Invoice: INV-0042\n",
      "👤 User ID: USER-000123\n",
      "\n",
      "============================================================\n"
     ]
    }
   ],
   "source": [
    "# Padding with zeros\n",
    "invoice_num = 42\n",
    "user_id = 123\n",
    "\n",
    "print(\"\\n6. ZERO PADDING:\")\n",
    "print(f\"📄 Invoice: INV-{invoice_num:04d}\")\n",
    "print(f\"👤 User ID: USER-{user_id:06d}\")\n",
    "\n",
    "print(\"\\n\" + \"=\"*60)"
   ]
  },
  {
   "cell_type": "code",
   "execution_count": null,
   "id": "4f4f838c-8b60-4012-a337-e6e7bcfbc69c",
   "metadata": {},
   "outputs": [],
   "source": []
  },
  {
   "cell_type": "code",
   "execution_count": 22,
   "id": "a34363dd-47dd-48ca-82f6-6b1d3dd82691",
   "metadata": {},
   "outputs": [],
   "source": [
    "# =========================\n",
    "# STRING ALIGNMENT AND PADDING\n",
    "# =========================\n",
    "# Controlling width, alignment, and padding"
   ]
  },
  {
   "cell_type": "code",
   "execution_count": 23,
   "id": "5ab95d5b-2adc-44f3-9a0b-8763e8322956",
   "metadata": {},
   "outputs": [
    {
     "name": "stdout",
     "output_type": "stream",
     "text": [
      "\n",
      "1. BASIC ALIGNMENT:\n",
      "Left aligned:\n",
      "'Alice          ' (15 chars)\n",
      "'Bob            ' (15 chars)\n",
      "'Christopher    ' (15 chars)\n",
      "\n",
      "Right aligned:\n",
      "'          Alice' (15 chars)\n",
      "'            Bob' (15 chars)\n",
      "'    Christopher' (15 chars)\n",
      "\n",
      "Center aligned:\n",
      "'     Alice     ' (15 chars)\n",
      "'      Bob      ' (15 chars)\n",
      "'  Christopher  ' (15 chars)\n"
     ]
    }
   ],
   "source": [
    "# Basic alignment\n",
    "name1 = \"Alice\"\n",
    "name2 = \"Bob\"\n",
    "name3 = \"Christopher\"\n",
    "\n",
    "print(\"\\n1. BASIC ALIGNMENT:\")\n",
    "print(\"Left aligned:\")\n",
    "print(f\"'{name1:<15}' (15 chars)\")\n",
    "print(f\"'{name2:<15}' (15 chars)\")\n",
    "print(f\"'{name3:<15}' (15 chars)\")\n",
    "\n",
    "print(\"\\nRight aligned:\")\n",
    "print(f\"'{name1:>15}' (15 chars)\")\n",
    "print(f\"'{name2:>15}' (15 chars)\")\n",
    "print(f\"'{name3:>15}' (15 chars)\")\n",
    "\n",
    "print(\"\\nCenter aligned:\")\n",
    "print(f\"'{name1:^15}' (15 chars)\")\n",
    "print(f\"'{name2:^15}' (15 chars)\")\n",
    "print(f\"'{name3:^15}' (15 chars)\")\n"
   ]
  },
  {
   "cell_type": "code",
   "execution_count": 24,
   "id": "bd315e53-28c2-4d01-a5b2-dda219cac680",
   "metadata": {},
   "outputs": [
    {
     "name": "stdout",
     "output_type": "stream",
     "text": [
      "\n",
      "2. CUSTOM PADDING:\n",
      "=======================MENU=======================\n",
      "------------------Python Course-------------------\n",
      "**********Important***********\n"
     ]
    }
   ],
   "source": [
    "\n",
    "# Custom padding characters\n",
    "title = \"MENU\"\n",
    "product = \"Python Course\"\n",
    "\n",
    "print(\"\\n2. CUSTOM PADDING:\")\n",
    "print(f\"{title:=^50}\")  # Center with = padding\n",
    "print(f\"{product:-^50}\")  # Center with - padding\n",
    "print(f\"{'Important':*^30}\")  # Center with * padding"
   ]
  },
  {
   "cell_type": "code",
   "execution_count": 25,
   "id": "b0230533-449c-4924-849d-cb9a64cc554f",
   "metadata": {},
   "outputs": [
    {
     "name": "stdout",
     "output_type": "stream",
     "text": [
      "\n",
      "3. NUMBER ALIGNMENT WITH SIGNS:\n",
      "Right aligned with signs:\n",
      "Value:    +42\n",
      "Value:    -17\n",
      "Value:     +0\n",
      "\n",
      "Force sign display:\n",
      "Positive: +42\n",
      "Negative: -17\n",
      "Zero: +0\n"
     ]
    }
   ],
   "source": [
    "\n",
    "# Number alignment with sign\n",
    "positive = 42\n",
    "negative = -17\n",
    "zero = 0\n",
    "\n",
    "print(\"\\n3. NUMBER ALIGNMENT WITH SIGNS:\")\n",
    "print(\"Right aligned with signs:\")\n",
    "print(f\"Value: {positive:+6d}\")\n",
    "print(f\"Value: {negative:+6d}\")\n",
    "print(f\"Value: {zero:+6d}\")\n",
    "\n",
    "print(\"\\nForce sign display:\")\n",
    "print(f\"Positive: {positive:+}\")\n",
    "print(f\"Negative: {negative:+}\")\n",
    "print(f\"Zero: {zero:+}\")"
   ]
  },
  {
   "cell_type": "code",
   "execution_count": 26,
   "id": "545b50d7-136e-497b-bd1b-7d73d0eb15b3",
   "metadata": {},
   "outputs": [
    {
     "name": "stdout",
     "output_type": "stream",
     "text": [
      "\n",
      "4. CREATING ALIGNED TABLES:\n",
      "Product       Price  Stock\n",
      "--------------------------\n",
      "Laptop     $ 999.99      5\n",
      "Mouse      $  25.50     12\n",
      "Keyboard   $  75.00      8\n",
      "Monitor    $ 299.99      3\n",
      "\n",
      "============================================================\n"
     ]
    }
   ],
   "source": [
    "# Creating tables with alignment\n",
    "products = [\n",
    "    (\"Laptop\", 999.99, 5),\n",
    "    (\"Mouse\", 25.50, 12),\n",
    "    (\"Keyboard\", 75.00, 8),\n",
    "    (\"Monitor\", 299.99, 3)\n",
    "]\n",
    "\n",
    "print(\"\\n4. CREATING ALIGNED TABLES:\")\n",
    "print(f\"{'Product':<10} {'Price':>8} {'Stock':>6}\")\n",
    "print(\"-\" * 26)\n",
    "for product, price, stock in products:\n",
    "    print(f\"{product:<10} ${price:>7.2f} {stock:>6d}\")\n",
    "\n",
    "print(\"\\n\" + \"=\"*60)\n"
   ]
  },
  {
   "cell_type": "code",
   "execution_count": 27,
   "id": "040caaff-5e8e-40f2-8b61-43284f695bde",
   "metadata": {},
   "outputs": [],
   "source": [
    "# =========================\n",
    "# DATE AND TIME FORMATTING\n",
    "# =========================\n",
    "# Formatting dates and times with f-strings\n"
   ]
  },
  {
   "cell_type": "code",
   "execution_count": 28,
   "id": "847aa1ee-6cbe-4b55-824a-54d4633c4ece",
   "metadata": {},
   "outputs": [
    {
     "name": "stdout",
     "output_type": "stream",
     "text": [
      "=== DATE AND TIME FORMATTING ===\n",
      "\n",
      "1. BASIC DATE/TIME FORMATTING:\n",
      "📅 Current datetime: 2025-08-13 12:59:32.017774\n",
      "📅 Today's date: 2025-08-13\n",
      "🕐 Current time: 14:30:45\n",
      "\n",
      "2. CUSTOM DATE FORMATS:\n",
      "📅 ISO format: 2025-08-13\n",
      "📅 US format: 08/13/2025\n",
      "📅 European format: 13.08.2025\n",
      "📅 Long format: Wednesday, August 13, 2025\n",
      "📅 Short format: Wed, Aug 13\n",
      "\n",
      "3. CUSTOM TIME FORMATS:\n",
      "🕐 24-hour: 12:59:32\n",
      "🕐 12-hour: 12:59:32 PM\n",
      "🕐 No seconds: 12:59\n",
      "\n",
      "4. COMBINED DATE/TIME:\n",
      "📅 Full: 2025-08-13 12:59:32\n",
      "📅 Readable: August 13, 2025 at 12:59 PM\n",
      "📅 Timestamp: 20250813_125932\n",
      "\n",
      "5. PRACTICAL EXAMPLE:\n",
      "👤 Born in 1990\n",
      "👤 Current year: 2025\n",
      "👤 Age: 35 years old\n",
      "📅 Today is Wednesday, August 13, 2025\n",
      "\n",
      "============================================================\n"
     ]
    }
   ],
   "source": [
    "print(\"=== DATE AND TIME FORMATTING ===\")\n",
    "\n",
    "from datetime import datetime, date, time\n",
    "\n",
    "# Current date and time\n",
    "now = datetime.now()\n",
    "today = date.today()\n",
    "current_time = time(14, 30, 45)\n",
    "\n",
    "print(\"\\n1. BASIC DATE/TIME FORMATTING:\")\n",
    "print(f\"📅 Current datetime: {now}\")\n",
    "print(f\"📅 Today's date: {today}\")\n",
    "print(f\"🕐 Current time: {current_time}\")\n",
    "\n",
    "# Custom date formatting\n",
    "print(\"\\n2. CUSTOM DATE FORMATS:\")\n",
    "print(f\"📅 ISO format: {now:%Y-%m-%d}\")\n",
    "print(f\"📅 US format: {now:%m/%d/%Y}\")\n",
    "print(f\"📅 European format: {now:%d.%m.%Y}\")\n",
    "print(f\"📅 Long format: {now:%A, %B %d, %Y}\")\n",
    "print(f\"📅 Short format: {now:%a, %b %d}\")\n",
    "\n",
    "# Custom time formatting\n",
    "print(\"\\n3. CUSTOM TIME FORMATS:\")\n",
    "print(f\"🕐 24-hour: {now:%H:%M:%S}\")\n",
    "print(f\"🕐 12-hour: {now:%I:%M:%S %p}\")\n",
    "print(f\"🕐 No seconds: {now:%H:%M}\")\n",
    "\n",
    "# Combining date and time\n",
    "print(\"\\n4. COMBINED DATE/TIME:\")\n",
    "print(f\"📅 Full: {now:%Y-%m-%d %H:%M:%S}\")\n",
    "print(f\"📅 Readable: {now:%B %d, %Y at %I:%M %p}\")\n",
    "print(f\"📅 Timestamp: {now:%Y%m%d_%H%M%S}\")\n",
    "\n",
    "# Age calculation example\n",
    "birth_year = 1990\n",
    "current_year = now.year\n",
    "age = current_year - birth_year\n",
    "\n",
    "print(\"\\n5. PRACTICAL EXAMPLE:\")\n",
    "print(f\"👤 Born in {birth_year}\")\n",
    "print(f\"👤 Current year: {current_year}\")\n",
    "print(f\"👤 Age: {age} years old\")\n",
    "print(f\"📅 Today is {now:%A, %B %d, %Y}\")\n",
    "\n",
    "print(\"\\n\" + \"=\"*60)\n"
   ]
  },
  {
   "cell_type": "code",
   "execution_count": 29,
   "id": "a48812fa-0c03-4aef-a0a5-3e64a19ebb31",
   "metadata": {},
   "outputs": [],
   "source": [
    "\n",
    "# =========================\n",
    "# DEBUGGING WITH F-STRINGS\n",
    "# =========================\n",
    "# F-strings have special features for debugging\n"
   ]
  },
  {
   "cell_type": "code",
   "execution_count": 30,
   "id": "0d1a8a0a-263c-4561-acef-050280b241f3",
   "metadata": {},
   "outputs": [
    {
     "name": "stdout",
     "output_type": "stream",
     "text": [
      "=== DEBUGGING WITH F-STRINGS ===\n",
      "\n",
      "1. DEBUG WITH = SPECIFIER:\n",
      "Without = specifier:\n",
      "x + y = 30\n",
      "name.upper() = DEBUG_TEST\n",
      "\n",
      "With = specifier (shows expression):\n",
      "x + y = 30\n",
      "name.upper() = 'DEBUG_TEST'\n",
      "len(name) = 10\n",
      "\n",
      "2. MULTIPLE DEBUG VARIABLES:\n",
      "a = 5, b = 10, c = 15\n",
      "a + b + c = 30\n",
      "\n",
      "3. DEBUGGING COMPLEX EXPRESSIONS:\n",
      "numbers = [1, 2, 3, 4, 5]\n",
      "sum(numbers) = 15\n",
      "len(numbers) = 5\n",
      "max(numbers) = 5\n",
      "\n",
      "4. FUNCTION DEBUGGING:\n",
      "Debug: length = 5, width = 3, area = 15\n",
      "Final result: 15\n",
      "\n",
      "============================================================\n"
     ]
    }
   ],
   "source": [
    "print(\"=== DEBUGGING WITH F-STRINGS ===\")\n",
    "\n",
    "# The = specifier (Python 3.8+)\n",
    "x = 10\n",
    "y = 20\n",
    "name = \"debug_test\"\n",
    "\n",
    "print(\"\\n1. DEBUG WITH = SPECIFIER:\")\n",
    "print(\"Without = specifier:\")\n",
    "print(f\"x + y = {x + y}\")\n",
    "print(f\"name.upper() = {name.upper()}\")\n",
    "\n",
    "print(\"\\nWith = specifier (shows expression):\")\n",
    "# This shows both the expression and the result\n",
    "print(f\"{x + y = }\")\n",
    "print(f\"{name.upper() = }\")\n",
    "print(f\"{len(name) = }\")\n",
    "\n",
    "# Multiple debug variables\n",
    "a, b, c = 5, 10, 15\n",
    "print(f\"\\n2. MULTIPLE DEBUG VARIABLES:\")\n",
    "print(f\"{a = }, {b = }, {c = }\")\n",
    "print(f\"{a + b + c = }\")\n",
    "\n",
    "# Debugging complex expressions\n",
    "numbers = [1, 2, 3, 4, 5]\n",
    "print(f\"\\n3. DEBUGGING COMPLEX EXPRESSIONS:\")\n",
    "print(f\"{numbers = }\")\n",
    "print(f\"{sum(numbers) = }\")\n",
    "print(f\"{len(numbers) = }\")\n",
    "print(f\"{max(numbers) = }\")\n",
    "\n",
    "# Function debugging\n",
    "def calculate_area(length, width):\n",
    "    \"\"\"Calculate rectangle area\"\"\"\n",
    "    area = length * width\n",
    "    print(f\"Debug: {length = }, {width = }, {area = }\")\n",
    "    return area\n",
    "\n",
    "print(f\"\\n4. FUNCTION DEBUGGING:\")\n",
    "result = calculate_area(5, 3)\n",
    "print(f\"Final result: {result}\")\n",
    "\n",
    "print(\"\\n\" + \"=\"*60)"
   ]
  },
  {
   "cell_type": "code",
   "execution_count": 31,
   "id": "e1e8f2f3-ed07-48f1-95e3-014b1b059772",
   "metadata": {},
   "outputs": [],
   "source": [
    "# =========================\n",
    "# ADVANCED F-STRING FEATURES\n",
    "# =========================\n",
    "# More sophisticated f-string usage"
   ]
  },
  {
   "cell_type": "code",
   "execution_count": 32,
   "id": "8a7491d8-5be9-4c79-b25e-1a21ca2eaa2a",
   "metadata": {},
   "outputs": [
    {
     "name": "stdout",
     "output_type": "stream",
     "text": [
      "\n",
      "1. NESTED F-STRINGS:\n",
      "Value with 2 decimals: 3.14\n"
     ]
    }
   ],
   "source": [
    "# Nested f-strings\n",
    "print(\"\\n1. NESTED F-STRINGS:\")\n",
    "precision = 2\n",
    "value = 3.14159\n",
    "print(f\"Value with {precision} decimals: {value:.{precision}f}\")"
   ]
  },
  {
   "cell_type": "code",
   "execution_count": 33,
   "id": "0a753311-6064-4bbb-8dc1-eb3dd585a469",
   "metadata": {},
   "outputs": [
    {
     "name": "stdout",
     "output_type": "stream",
     "text": [
      "\n",
      "2. DYNAMIC FORMATTING:\n",
      "Text: '  Hello   '\n"
     ]
    }
   ],
   "source": [
    "# Dynamic formatting\n",
    "width = 10\n",
    "text = \"Hello\"\n",
    "alignment = \"^\"  # center alignment\n",
    "print(f\"\\n2. DYNAMIC FORMATTING:\")\n",
    "print(f\"Text: '{text:{alignment}{width}}'\")"
   ]
  },
  {
   "cell_type": "code",
   "execution_count": 34,
   "id": "b0da732b-0ecb-417f-9581-b3f17969df8d",
   "metadata": {},
   "outputs": [
    {
     "name": "stdout",
     "output_type": "stream",
     "text": [
      "Dynamic padding: '-------Hello--------'\n"
     ]
    }
   ],
   "source": [
    "# Format specification from variables\n",
    "padding_char = \"-\"\n",
    "field_width = 20\n",
    "print(f\"Dynamic padding: '{text:{padding_char}{alignment}{field_width}}'\")"
   ]
  },
  {
   "cell_type": "code",
   "execution_count": 35,
   "id": "3cb5aa69-43a0-4931-8760-3d9c17333efe",
   "metadata": {},
   "outputs": [
    {
     "name": "stdout",
     "output_type": "stream",
     "text": [
      "\n",
      "3. F-STRINGS WITH CLASSES:\n",
      "String representation: Alice (30 years old)\n",
      "Repr representation: Person(name='Alice', age=30)\n"
     ]
    }
   ],
   "source": [
    "\n",
    "# Using f-strings with classes\n",
    "class Person:\n",
    "    def __init__(self, name, age):\n",
    "        self.name = name\n",
    "        self.age = age\n",
    "    \n",
    "    def __repr__(self):\n",
    "        return f\"Person(name='{self.name}', age={self.age})\"\n",
    "    \n",
    "    def __str__(self):\n",
    "        return f\"{self.name} ({self.age} years old)\"\n",
    "\n",
    "print(\"\\n3. F-STRINGS WITH CLASSES:\")\n",
    "person = Person(\"Alice\", 30)\n",
    "print(f\"String representation: {person}\")\n",
    "print(f\"Repr representation: {person!r}\")"
   ]
  },
  {
   "cell_type": "code",
   "execution_count": 36,
   "id": "5feb6665-a5a6-4610-8b9e-6e6a5f4675db",
   "metadata": {},
   "outputs": [
    {
     "name": "stdout",
     "output_type": "stream",
     "text": [
      "\n",
      "4. F-STRINGS WITH DICTIONARIES:\n",
      "🌡️ Temperature: 25.7°C\n",
      "💧 Humidity: 68.2%\n",
      "🌪️ Pressure: 1013 hPa\n"
     ]
    }
   ],
   "source": [
    "# F-strings with dictionaries\n",
    "data = {\n",
    "    \"temperature\": 25.7,\n",
    "    \"humidity\": 68.2,\n",
    "    \"pressure\": 1013.25\n",
    "}\n",
    "\n",
    "print(\"\\n4. F-STRINGS WITH DICTIONARIES:\")\n",
    "print(f\"🌡️ Temperature: {data['temperature']:.1f}°C\")\n",
    "print(f\"💧 Humidity: {data['humidity']:.1f}%\")\n",
    "print(f\"🌪️ Pressure: {data['pressure']:.0f} hPa\")"
   ]
  },
  {
   "cell_type": "code",
   "execution_count": 37,
   "id": "5768bdcc-3d49-4e8f-96bd-87e9eae724e8",
   "metadata": {},
   "outputs": [
    {
     "name": "stdout",
     "output_type": "stream",
     "text": [
      "\n",
      "5. MULTI-LINE F-STRINGS:\n",
      "\n",
      "🎉 Welcome back, Alice!\n",
      "📅 Login time: 2025-08-13 13:00:30\n",
      "🔑 Session ID: abc123\n",
      "🌟 Have a great day!\n",
      "\n",
      "\n",
      "============================================================\n"
     ]
    }
   ],
   "source": [
    "# Multi-line f-strings\n",
    "user_name = \"Alice\"\n",
    "login_time = datetime.now()\n",
    "session_id = \"abc123\"\n",
    "\n",
    "print(\"\\n5. MULTI-LINE F-STRINGS:\")\n",
    "welcome_message = f\"\"\"\n",
    "🎉 Welcome back, {user_name}!\n",
    "📅 Login time: {login_time:%Y-%m-%d %H:%M:%S}\n",
    "🔑 Session ID: {session_id}\n",
    "🌟 Have a great day!\n",
    "\"\"\"\n",
    "print(welcome_message)\n",
    "\n",
    "print(\"\\n\" + \"=\"*60)\n"
   ]
  },
  {
   "cell_type": "code",
   "execution_count": 38,
   "id": "cb6dbd7e-7f6e-4fcf-a392-73c6ffadec60",
   "metadata": {},
   "outputs": [],
   "source": [
    "# =========================\n",
    "# REAL-WORLD EXAMPLES\n",
    "# =========================\n",
    "# Practical applications of f-strings"
   ]
  },
  {
   "cell_type": "code",
   "execution_count": 39,
   "id": "e72d588d-53b7-4511-981d-d2f247285110",
   "metadata": {},
   "outputs": [
    {
     "name": "stdout",
     "output_type": "stream",
     "text": [
      "\n",
      "1. 📊 FINANCIAL REPORT:\n",
      "💰 QUARTERLY FINANCIAL REPORT\n",
      "========================================\n",
      "Revenue:     $1,250,000.75\n",
      "Expenses:    $  890,000.25\n",
      "Profit:      $  360,000.50\n",
      "Margin:             28.8%\n"
     ]
    }
   ],
   "source": [
    "\n",
    "print(\"\\n1. 📊 FINANCIAL REPORT:\")\n",
    "# Financial data\n",
    "revenue = 1250000.75\n",
    "expenses = 890000.25\n",
    "profit = revenue - expenses\n",
    "margin = (profit / revenue) * 100\n",
    "\n",
    "print(\"💰 QUARTERLY FINANCIAL REPORT\")\n",
    "print(\"=\" * 40)\n",
    "print(f\"Revenue:     ${revenue:>12,.2f}\")\n",
    "print(f\"Expenses:    ${expenses:>12,.2f}\")\n",
    "print(f\"Profit:      ${profit:>12,.2f}\")\n",
    "print(f\"Margin:      {margin:>11.1f}%\")"
   ]
  },
  {
   "cell_type": "code",
   "execution_count": 41,
   "id": "e1e9aa55-ef6c-466f-9881-99955b590c97",
   "metadata": {},
   "outputs": [
    {
     "name": "stdout",
     "output_type": "stream",
     "text": [
      "\n",
      "2. 📈 PROGRESS BAR:\n",
      "Downloading files    |███████░░░░░░░░░░░░░░░░░░░░░░░|  25.0% (25/100)\n",
      "Processing data      |████████████████████░░░░░░░░░░|  67.0% (67/100)\n",
      "Generating report    |██████████████████████████████| 100.0% (100/100)\n"
     ]
    }
   ],
   "source": [
    "print(\"\\n2. 📈 PROGRESS BAR:\")\n",
    "def create_progress_bar(current, total, width=30):\n",
    "    \"\"\"Create a text-based progress bar using f-strings\"\"\"\n",
    "    percentage = (current / total) * 100\n",
    "    filled = int((current / total) * width)\n",
    "    bar = \"█\" * filled + \"░\" * (width - filled)\n",
    "    return f\"|{bar}| {percentage:5.1f}% ({current}/{total})\"\n",
    "\n",
    "# Simulate progress\n",
    "tasks = [\n",
    "    (\"Downloading files\", 25, 100),\n",
    "    (\"Processing data\", 67, 100),\n",
    "    (\"Generating report\", 100, 100),\n",
    "]\n",
    "\n",
    "for task_name, current, total in tasks:\n",
    "    progress_bar = create_progress_bar(current, total)\n",
    "    print(f\"{task_name:<20} {progress_bar}\")"
   ]
  },
  {
   "cell_type": "code",
   "execution_count": 42,
   "id": "6e52c2d5-3c88-445c-bcfe-d82980f29e45",
   "metadata": {},
   "outputs": [
    {
     "name": "stdout",
     "output_type": "stream",
     "text": [
      "\n",
      "3. 🗂️ FILE SIZE FORMATTER:\n"
     ]
    }
   ],
   "source": [
    "print(\"\\n3. 🗂️ FILE SIZE FORMATTER:\")\n",
    "def format_file_size(bytes_size):\n",
    "    \"\"\"Format file size in human-readable format\"\"\"\n",
    "    units = ['B', 'KB', 'MB', 'GB', 'TB']\n",
    "    size = float(bytes_size)\n",
    "    unit_index = 0\n",
    "    \n",
    "    while size >= 1024 and unit_index < len(units) - 1:\n",
    "        size /= 1024\n",
    "        unit_index += 1\n",
    "    \n",
    "    if unit_index == 0:\n",
    "        return f\"{size:.0f} {units[unit_index]}\"\n",
    "    else:\n",
    "        return f\"{size:.2f} {units[unit_index]}\""
   ]
  },
  {
   "cell_type": "code",
   "execution_count": 43,
   "id": "de49654e-fb31-42cf-98d8-00c77e05f56a",
   "metadata": {},
   "outputs": [
    {
     "name": "stdout",
     "output_type": "stream",
     "text": [
      "📁 File sizes:\n",
      "           512 bytes = 512 B\n",
      "          2048 bytes = 2.00 KB\n",
      "       1048576 bytes = 1.00 MB\n",
      "    1073741824 bytes = 1.00 GB\n",
      "  1099511627776 bytes = 1.00 TB\n"
     ]
    }
   ],
   "source": [
    "# Test with different file sizes\n",
    "file_sizes = [512, 2048, 1048576, 1073741824, 1099511627776]\n",
    "print(\"📁 File sizes:\")\n",
    "for size in file_sizes:\n",
    "    formatted_size = format_file_size(size)\n",
    "    print(f\"  {size:>12} bytes = {formatted_size}\")"
   ]
  },
  {
   "cell_type": "code",
   "execution_count": 44,
   "id": "380afcc4-7b02-4248-a555-b498d93012b0",
   "metadata": {},
   "outputs": [
    {
     "name": "stdout",
     "output_type": "stream",
     "text": [
      "\n",
      "4. 📧 EMAIL TEMPLATE:\n",
      "📧 SAMPLE EMAIL:\n",
      "\n",
      "Subject: Order Confirmation - ORD-2024-001\n",
      "\n",
      "Dear John Smith,\n",
      "\n",
      "Thank you for your purchase! 🎉\n",
      "\n",
      "Order Details:\n",
      "━━━━━━━━━━━━━━━━━━━━━━━━━━━━━━━━━━━━━━━━\n",
      "Product:     Python Programming Course\n",
      "Order ID:    ORD-2024-001\n",
      "Total:       $299.99\n",
      "Delivery:    March 15, 2024\n",
      "━━━━━━━━━━━━━━━━━━━━━━━━━━━━━━━━━━━━━━━━\n",
      "\n",
      "Your order will be delivered on Friday, March 15.\n",
      "\n",
      "Best regards,\n",
      "The Sales Team\n",
      "\n"
     ]
    }
   ],
   "source": [
    "print(\"\\n4. 📧 EMAIL TEMPLATE:\")\n",
    "# Email template using f-strings\n",
    "def create_email_template(recipient_name, product_name, order_id, total_amount, delivery_date):\n",
    "    \"\"\"Create personalized email template\"\"\"\n",
    "    \n",
    "    template = f\"\"\"\n",
    "Subject: Order Confirmation - {order_id}\n",
    "\n",
    "Dear {recipient_name},\n",
    "\n",
    "Thank you for your purchase! 🎉\n",
    "\n",
    "Order Details:\n",
    "━━━━━━━━━━━━━━━━━━━━━━━━━━━━━━━━━━━━━━━━\n",
    "Product:     {product_name}\n",
    "Order ID:    {order_id}\n",
    "Total:       ${total_amount:.2f}\n",
    "Delivery:    {delivery_date:%B %d, %Y}\n",
    "━━━━━━━━━━━━━━━━━━━━━━━━━━━━━━━━━━━━━━━━\n",
    "\n",
    "Your order will be delivered on {delivery_date:%A, %B %d}.\n",
    "\n",
    "Best regards,\n",
    "The Sales Team\n",
    "\"\"\"\n",
    "    return template\n",
    "\n",
    "# Generate sample email\n",
    "email = create_email_template(\n",
    "    recipient_name=\"John Smith\",\n",
    "    product_name=\"Python Programming Course\",\n",
    "    order_id=\"ORD-2024-001\",\n",
    "    total_amount=299.99,\n",
    "    delivery_date=datetime(2024, 3, 15)\n",
    ")\n",
    "print(\"📧 SAMPLE EMAIL:\")\n",
    "print(email)\n"
   ]
  },
  {
   "cell_type": "code",
   "execution_count": 45,
   "id": "15d68449-664a-4e35-a36a-24248558f10a",
   "metadata": {},
   "outputs": [
    {
     "name": "stdout",
     "output_type": "stream",
     "text": [
      "\n",
      "5. 🏆 LEADERBOARD:\n",
      "🏆 GAMING LEADERBOARD\n",
      "══════════════════════════════════════════════════\n",
      "Rank   Player       Score    Accuracy  \n",
      "──────────────────────────────────────────────────\n",
      "1   🥇 Alice        15,420   98.5    %\n",
      "2   🥈 Bob          14,850   97.2    %\n",
      "3   🥉 Charlie      13,990   95.8    %\n",
      "4   🏅 Diana        13,120   94.1    %\n",
      "5   🏅 Eve          12,750   92.7    %\n",
      "\n",
      "============================================================\n"
     ]
    }
   ],
   "source": [
    "print(\"\\n5. 🏆 LEADERBOARD:\")\n",
    "# Gaming leaderboard\n",
    "players = [\n",
    "    (\"Alice\", 15420, 98.5),\n",
    "    (\"Bob\", 14850, 97.2),\n",
    "    (\"Charlie\", 13990, 95.8),\n",
    "    (\"Diana\", 13120, 94.1),\n",
    "    (\"Eve\", 12750, 92.7)\n",
    "]\n",
    "\n",
    "print(\"🏆 GAMING LEADERBOARD\")\n",
    "print(\"═\" * 50)\n",
    "print(f\"{'Rank':<6} {'Player':<12} {'Score':<8} {'Accuracy':<10}\")\n",
    "print(\"─\" * 50)\n",
    "\n",
    "for rank, (player, score, accuracy) in enumerate(players, 1):\n",
    "    medal = \"🥇\" if rank == 1 else \"🥈\" if rank == 2 else \"🥉\" if rank == 3 else \"🏅\"\n",
    "    print(f\"{rank:<3} {medal} {player:<12} {score:<8,} {accuracy:<8.1f}%\")\n",
    "\n",
    "print(\"\\n\" + \"=\"*60)"
   ]
  },
  {
   "cell_type": "code",
   "execution_count": 46,
   "id": "74229d64-3c62-4a63-a80c-1ba9ad9cf7f9",
   "metadata": {},
   "outputs": [],
   "source": [
    "# =========================\n",
    "# BEST PRACTICES\n",
    "# =========================\n",
    "# Guidelines for effective f-string usage\n"
   ]
  },
  {
   "cell_type": "code",
   "execution_count": 47,
   "id": "decca175-0b3a-46f1-b609-a07b8eb48afe",
   "metadata": {},
   "outputs": [
    {
     "name": "stdout",
     "output_type": "stream",
     "text": [
      "=== F-STRING BEST PRACTICES ===\n",
      "\n",
      "✅ DO's:\n",
      "1. Use f-strings for readability:\n",
      "   # Good\n",
      "   name = 'Alice'\n",
      "   age = 30\n",
      "   print(f'Hello {name}, you are {age} years old')\n",
      "\n",
      "2. Use debug format for development:\n",
      "   # Great for debugging\n",
      "   x = 42\n",
      "   print(f'{x = }')  # Shows: x = 42\n",
      "\n",
      "3. Format numbers appropriately:\n",
      "   # Good formatting\n",
      "   price = 1299.99\n",
      "   print(f'Price: ${price:,.2f}')  # Price: $1,299.99\n",
      "\n",
      "4. Use meaningful variable names:\n",
      "   # Clear and descriptive\n",
      "   total_revenue = 150000\n",
      "   print(f'Total revenue: ${total_revenue:,}')\n",
      "\n",
      "❌ DON'Ts:\n",
      "1. Don't make expressions too complex:\n",
      "   # Too complex - hard to read\n",
      "   # print(f'Result: {sum([x**2 for x in range(10) if x % 2 == 0])}')\n",
      "   # Better:\n",
      "   # even_squares = sum(x**2 for x in range(10) if x % 2 == 0)\n",
      "   # print(f'Result: {even_squares}')\n",
      "\n",
      "2. Don't ignore security with user input:\n",
      "   # Be careful with user input in f-strings\n",
      "   # Validate and sanitize user data first\n",
      "\n",
      "3. Don't use f-strings for templates:\n",
      "   # For complex templates, use dedicated templating\n",
      "   # libraries like Jinja2\n"
     ]
    }
   ],
   "source": [
    "print(\"=== F-STRING BEST PRACTICES ===\")\n",
    "\n",
    "print(\"\\n✅ DO's:\")\n",
    "print(\"1. Use f-strings for readability:\")\n",
    "print(\"   # Good\")\n",
    "print(\"   name = 'Alice'\")\n",
    "print(\"   age = 30\")\n",
    "print(\"   print(f'Hello {name}, you are {age} years old')\")\n",
    "\n",
    "print(\"\\n2. Use debug format for development:\")\n",
    "print(\"   # Great for debugging\")\n",
    "print(\"   x = 42\")\n",
    "print(\"   print(f'{x = }')  # Shows: x = 42\")\n",
    "\n",
    "print(\"\\n3. Format numbers appropriately:\")\n",
    "print(\"   # Good formatting\")\n",
    "print(\"   price = 1299.99\")\n",
    "print(\"   print(f'Price: ${price:,.2f}')  # Price: $1,299.99\")\n",
    "\n",
    "print(\"\\n4. Use meaningful variable names:\")\n",
    "print(\"   # Clear and descriptive\")\n",
    "print(\"   total_revenue = 150000\")\n",
    "print(\"   print(f'Total revenue: ${total_revenue:,}')\")\n",
    "\n",
    "print(\"\\n❌ DON'Ts:\")\n",
    "print(\"1. Don't make expressions too complex:\")\n",
    "print(\"   # Too complex - hard to read\")\n",
    "print(\"   # print(f'Result: {sum([x**2 for x in range(10) if x % 2 == 0])}')\")\n",
    "print(\"   # Better:\")\n",
    "print(\"   # even_squares = sum(x**2 for x in range(10) if x % 2 == 0)\")\n",
    "print(\"   # print(f'Result: {even_squares}')\")\n",
    "\n",
    "print(\"\\n2. Don't ignore security with user input:\")\n",
    "print(\"   # Be careful with user input in f-strings\")\n",
    "print(\"   # Validate and sanitize user data first\")\n",
    "\n",
    "print(\"\\n3. Don't use f-strings for templates:\")\n",
    "print(\"   # For complex templates, use dedicated templating\")\n",
    "print(\"   # libraries like Jinja2\")\n"
   ]
  },
  {
   "cell_type": "code",
   "execution_count": 48,
   "id": "6774dfc0-a019-4e98-a3dc-6fcd2c3486d7",
   "metadata": {},
   "outputs": [
    {
     "name": "stdout",
     "output_type": "stream",
     "text": [
      "\n",
      "⚡ PERFORMANCE COMPARISON:\n",
      "Performance for 100,000 iterations:\n",
      "F-strings:     0.0217 seconds\n",
      ".format():     0.0222 seconds\n",
      "% formatting:  0.0148 seconds\n",
      "\n",
      "F-strings are 1.0x faster than .format()\n",
      "\n",
      "============================================================\n"
     ]
    }
   ],
   "source": [
    "# Performance comparison\n",
    "print(\"\\n⚡ PERFORMANCE COMPARISON:\")\n",
    "import time\n",
    "\n",
    "def time_formatting_methods():\n",
    "    \"\"\"Compare performance of different formatting methods\"\"\"\n",
    "    iterations = 100000\n",
    "    name = \"Alice\"\n",
    "    age = 30\n",
    "    \n",
    "    # F-string timing\n",
    "    start = time.time()\n",
    "    for _ in range(iterations):\n",
    "        result = f\"Hello {name}, you are {age} years old\"\n",
    "    fstring_time = time.time() - start\n",
    "    \n",
    "    # .format() timing\n",
    "    start = time.time()\n",
    "    for _ in range(iterations):\n",
    "        result = \"Hello {}, you are {} years old\".format(name, age)\n",
    "    format_time = time.time() - start\n",
    "    \n",
    "    # % formatting timing\n",
    "    start = time.time()\n",
    "    for _ in range(iterations):\n",
    "        result = \"Hello %s, you are %d years old\" % (name, age)\n",
    "    percent_time = time.time() - start\n",
    "    \n",
    "    print(f\"Performance for {iterations:,} iterations:\")\n",
    "    print(f\"F-strings:     {fstring_time:.4f} seconds\")\n",
    "    print(f\".format():     {format_time:.4f} seconds\")\n",
    "    print(f\"% formatting:  {percent_time:.4f} seconds\")\n",
    "    print(f\"\\nF-strings are {format_time/fstring_time:.1f}x faster than .format()\")\n",
    "\n",
    "time_formatting_methods()\n",
    "\n",
    "print(\"\\n\" + \"=\"*60)\n"
   ]
  },
  {
   "cell_type": "code",
   "execution_count": 49,
   "id": "9e3abefd-e466-45e4-9912-e52433de014f",
   "metadata": {},
   "outputs": [],
   "source": [
    "# =========================\n",
    "# SUMMARY\n",
    "# =========================\n"
   ]
  },
  {
   "cell_type": "code",
   "execution_count": 50,
   "id": "bcc0dbe1-b305-4096-9f72-98b47eb9f051",
   "metadata": {},
   "outputs": [
    {
     "name": "stdout",
     "output_type": "stream",
     "text": [
      "=== F-STRINGS SUMMARY ===\n",
      "\n",
      "🔤 F-STRING BASICS:\n",
      "• Syntax: f'text {variable} more text'\n",
      "• Fast, readable, and modern (Python 3.6+)\n",
      "• Support any Python expression inside {}\n",
      "• Best choice for string formatting\n",
      "\n",
      "🎛️ FORMATTING OPTIONS:\n",
      "• Numbers: {value:.2f}, {value:,}, {value:.1%}\n",
      "• Alignment: {text:<10}, {text:>10}, {text:^10}\n",
      "• Padding: {text:*^20}, {number:04d}\n",
      "• Dates: {date:%Y-%m-%d}, {time:%H:%M:%S}\n",
      "\n",
      "🐛 DEBUGGING FEATURES:\n",
      "• Debug format: {variable = } (Python 3.8+)\n",
      "• Shows both expression and result\n",
      "• Great for development and troubleshooting\n",
      "\n",
      "🎯 ADVANCED FEATURES:\n",
      "• Nested f-strings for dynamic formatting\n",
      "• Multi-line f-strings for templates\n",
      "• Custom classes with __str__ and __repr__\n",
      "• Format specifications from variables\n",
      "\n",
      "✅ BEST PRACTICES:\n",
      "• Use f-strings over .format() and % formatting\n",
      "• Keep expressions simple and readable\n",
      "• Use debug format for development\n",
      "• Format numbers appropriately for context\n",
      "• Be careful with user input\n",
      "\n",
      "🚀 REMEMBER:\n",
      "F-strings make your code:\n",
      "• More readable and maintainable\n",
      "• Faster and more efficient\n",
      "• Easier to debug and understand\n",
      "• Modern and Pythonic\n",
      "\n",
      "======================================================================\n",
      "END OF F-STRINGS GUIDE\n",
      "======================================================================\n"
     ]
    }
   ],
   "source": [
    "print(\"=== F-STRINGS SUMMARY ===\")\n",
    "print()\n",
    "print(\"🔤 F-STRING BASICS:\")\n",
    "print(\"• Syntax: f'text {variable} more text'\")\n",
    "print(\"• Fast, readable, and modern (Python 3.6+)\")\n",
    "print(\"• Support any Python expression inside {}\")\n",
    "print(\"• Best choice for string formatting\")\n",
    "print()\n",
    "print(\"🎛️ FORMATTING OPTIONS:\")\n",
    "print(\"• Numbers: {value:.2f}, {value:,}, {value:.1%}\")\n",
    "print(\"• Alignment: {text:<10}, {text:>10}, {text:^10}\")\n",
    "print(\"• Padding: {text:*^20}, {number:04d}\")\n",
    "print(\"• Dates: {date:%Y-%m-%d}, {time:%H:%M:%S}\")\n",
    "print()\n",
    "print(\"🐛 DEBUGGING FEATURES:\")\n",
    "print(\"• Debug format: {variable = } (Python 3.8+)\")\n",
    "print(\"• Shows both expression and result\")\n",
    "print(\"• Great for development and troubleshooting\")\n",
    "print()\n",
    "print(\"🎯 ADVANCED FEATURES:\")\n",
    "print(\"• Nested f-strings for dynamic formatting\")\n",
    "print(\"• Multi-line f-strings for templates\")\n",
    "print(\"• Custom classes with __str__ and __repr__\")\n",
    "print(\"• Format specifications from variables\")\n",
    "print()\n",
    "print(\"✅ BEST PRACTICES:\")\n",
    "print(\"• Use f-strings over .format() and % formatting\")\n",
    "print(\"• Keep expressions simple and readable\")\n",
    "print(\"• Use debug format for development\")\n",
    "print(\"• Format numbers appropriately for context\")\n",
    "print(\"• Be careful with user input\")\n",
    "print()\n",
    "print(\"🚀 REMEMBER:\")\n",
    "print(\"F-strings make your code:\")\n",
    "print(\"• More readable and maintainable\")\n",
    "print(\"• Faster and more efficient\")\n",
    "print(\"• Easier to debug and understand\")\n",
    "print(\"• Modern and Pythonic\")\n",
    "print()\n",
    "print(\"=\" * 70)\n",
    "print(\"END OF F-STRINGS GUIDE\")\n",
    "print(\"=\" * 70)"
   ]
  },
  {
   "cell_type": "code",
   "execution_count": null,
   "id": "c441a9d1-5440-44c3-afdb-7443058685ad",
   "metadata": {},
   "outputs": [],
   "source": []
  }
 ],
 "metadata": {
  "kernelspec": {
   "display_name": "Python 3 (ipykernel)",
   "language": "python",
   "name": "python3"
  },
  "language_info": {
   "codemirror_mode": {
    "name": "ipython",
    "version": 3
   },
   "file_extension": ".py",
   "mimetype": "text/x-python",
   "name": "python",
   "nbconvert_exporter": "python",
   "pygments_lexer": "ipython3",
   "version": "3.13.5"
  }
 },
 "nbformat": 4,
 "nbformat_minor": 5
}
