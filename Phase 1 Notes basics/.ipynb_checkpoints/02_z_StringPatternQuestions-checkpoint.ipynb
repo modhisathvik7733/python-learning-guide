{
 "cells": [
  {
   "cell_type": "code",
   "execution_count": 5,
   "id": "da213d50-4d14-489c-a000-8cfcdffed9c8",
   "metadata": {},
   "outputs": [
    {
     "name": "stdout",
     "output_type": "stream",
     "text": [
      "5\n"
     ]
    }
   ],
   "source": [
    "text = \"banana is very good banana and also monkey likes banana and i am vey happy that is when a banana is good banana monkey like it\"\n",
    "count_banana =text.count(\"banana\")\n",
    "print(count_banana)"
   ]
  },
  {
   "cell_type": "code",
   "execution_count": 27,
   "id": "dc438826-fc2f-41f2-a8e0-e36ff575075b",
   "metadata": {},
   "outputs": [
    {
     "ename": "AttributeError",
     "evalue": "'str' object has no attribute 'replaceall'",
     "output_type": "error",
     "traceback": [
      "\u001b[0;31m---------------------------------------------------------------------------\u001b[0m",
      "\u001b[0;31mAttributeError\u001b[0m                            Traceback (most recent call last)",
      "Cell \u001b[0;32mIn[27], line 5\u001b[0m\n\u001b[1;32m      3\u001b[0m temp \u001b[38;5;241m=\u001b[39m text\u001b[38;5;241m.\u001b[39mreplace(\u001b[38;5;124m\"\u001b[39m\u001b[38;5;124mbanana\u001b[39m\u001b[38;5;124m\"\u001b[39m,\u001b[38;5;124m\"\u001b[39m\u001b[38;5;124mtemp\u001b[39m\u001b[38;5;124m\"\u001b[39m,\u001b[38;5;241m2\u001b[39m)\n\u001b[1;32m      4\u001b[0m result \u001b[38;5;241m=\u001b[39m temp\u001b[38;5;241m.\u001b[39mreplace(\u001b[38;5;124m\"\u001b[39m\u001b[38;5;124mbanana\u001b[39m\u001b[38;5;124m\"\u001b[39m,\u001b[38;5;124m\"\u001b[39m\u001b[38;5;124mmango\u001b[39m\u001b[38;5;124m\"\u001b[39m,\u001b[38;5;241m1\u001b[39m)\n\u001b[0;32m----> 5\u001b[0m result \u001b[38;5;241m=\u001b[39m result\u001b[38;5;241m.\u001b[39mreplaceall(\u001b[38;5;124m\"\u001b[39m\u001b[38;5;124mtemp\u001b[39m\u001b[38;5;124m\"\u001b[39m,\u001b[38;5;124m\"\u001b[39m\u001b[38;5;124mbanana\u001b[39m\u001b[38;5;124m\"\u001b[39m)\n\u001b[1;32m      6\u001b[0m \u001b[38;5;28mprint\u001b[39m(result)\n",
      "\u001b[0;31mAttributeError\u001b[0m: 'str' object has no attribute 'replaceall'"
     ]
    }
   ],
   "source": [
    "#change the 3rd elemnt in the text which is repeating \"banana\"\n",
    "text = \"banana is very good banana and also monkey likes banana and i am vey happy that is when a banana is good banana monkey like it\"\n",
    "temp = text.replace(\"banana\",\"temp\",2)\n",
    "result = temp.replace(\"banana\",\"mango\",1)\n",
    "result = result.replace(\"temp\",\"banana\",2)\n",
    "print(result)"
   ]
  },
  {
   "cell_type": "code",
   "execution_count": 24,
   "id": "38049abe-abec-4efb-beed-7fb8fa53cd34",
   "metadata": {},
   "outputs": [
    {
     "name": "stdout",
     "output_type": "stream",
     "text": [
      "banana is very good banana and also monkey likes mango and i am vey happy that is when a banana is good banana monkey like it\n"
     ]
    }
   ],
   "source": [
    "#2nd way to do\n",
    "text = \"banana is very good banana and also monkey likes banana and i am vey happy that is when a banana is good banana monkey like it\"\n",
    "\n",
    "parts = text.split(\"banana\", 3)  # Split at first 3 \"banana\"s\n",
    "if len(parts) >= 4:  # Make sure we have at least 3 \"banana\"s\n",
    "    result = parts[0] + \"banana\" + parts[1] + \"banana\" + parts[2] + \"mango\" + parts[3]\n",
    "else:\n",
    "    result = text\n",
    "\n",
    "print(result)"
   ]
  },
  {
   "cell_type": "code",
   "execution_count": 25,
   "id": "ade52197-b1a3-4e67-a979-9fcc0ebc99de",
   "metadata": {},
   "outputs": [],
   "source": [
    "#Pattern 1: Position-based Replacements\n"
   ]
  },
  {
   "cell_type": "code",
   "execution_count": 22,
   "id": "9256bb99-0df5-49d3-9d63-200a124a17d5",
   "metadata": {},
   "outputs": [
    {
     "name": "stdout",
     "output_type": "stream",
     "text": [
      "['hello', 'world', 'python', 'programming']\n",
      "4\n"
     ]
    }
   ],
   "source": [
    "text = \"hello world python programming\"\n",
    "# Replace every 2nd word with \"CODE\"\n",
    "# Expected: \"hello CODE python CODE\"\n",
    "\n",
    "list = text.split(\" \")\n",
    "print(list)\n",
    "count = len(list)\n",
    "print(count)\n",
    "\n",
    "\n"
   ]
  },
  {
   "cell_type": "code",
   "execution_count": null,
   "id": "8f1e6b59-eee4-4caa-8c4f-bb147f6b9715",
   "metadata": {},
   "outputs": [],
   "source": []
  }
 ],
 "metadata": {
  "kernelspec": {
   "display_name": "Python 3 (ipykernel)",
   "language": "python",
   "name": "python3"
  },
  "language_info": {
   "codemirror_mode": {
    "name": "ipython",
    "version": 3
   },
   "file_extension": ".py",
   "mimetype": "text/x-python",
   "name": "python",
   "nbconvert_exporter": "python",
   "pygments_lexer": "ipython3",
   "version": "3.13.5"
  }
 },
 "nbformat": 4,
 "nbformat_minor": 5
}
