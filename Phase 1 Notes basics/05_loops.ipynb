{
 "cells": [
  {
   "cell_type": "code",
   "execution_count": 1,
   "id": "44cfe378-43ce-4f2d-9e9e-adaca23c35e1",
   "metadata": {},
   "outputs": [],
   "source": [
    "# ===================================================================================================\n",
    "# PYTHON LOOPS - COMPLETE GUIDE\n",
    "# ===================================================================================================\n",
    "# for loops, while loops, list comprehensions - Repeating actions efficiently"
   ]
  },
  {
   "cell_type": "code",
   "execution_count": null,
   "id": "8dba5089-6b49-4553-9311-f9df0cb327ac",
   "metadata": {},
   "outputs": [],
   "source": []
  },
  {
   "cell_type": "code",
   "execution_count": 2,
   "id": "46ba7b98-3d21-431a-ac14-5de9e1dfc09f",
   "metadata": {},
   "outputs": [],
   "source": [
    "# =========================\n",
    "# BASIC FOR LOOPS\n",
    "# =========================\n",
    "# Repeat actions for each item in a collection"
   ]
  },
  {
   "cell_type": "code",
   "execution_count": 3,
   "id": "2631a3da-541b-4c9b-a3c7-e82dcb98697b",
   "metadata": {},
   "outputs": [
    {
     "name": "stdout",
     "output_type": "stream",
     "text": [
      "Fruits in my basket:\n",
      "  🍎 apple\n",
      "  🍎 banana\n",
      "  🍎 cherry\n",
      "  🍎 orange\n"
     ]
    }
   ],
   "source": [
    "# Loop through a list\n",
    "fruits = [\"apple\", \"banana\", \"cherry\", \"orange\"]\n",
    "print(\"Fruits in my basket:\")\n",
    "for fruit in fruits:\n",
    "    print(f\"  🍎 {fruit}\")\n"
   ]
  },
  {
   "cell_type": "code",
   "execution_count": 4,
   "id": "5aa0defd-c504-46ab-be52-bcb0a99459d9",
   "metadata": {},
   "outputs": [
    {
     "name": "stdout",
     "output_type": "stream",
     "text": [
      "\n",
      "Letters in 'PYTHON':\n",
      "  📝 P\n",
      "  📝 Y\n",
      "  📝 T\n",
      "  📝 H\n",
      "  📝 O\n",
      "  📝 N\n"
     ]
    }
   ],
   "source": [
    "# Loop through a string (strings are iterable!)\n",
    "word = \"PYTHON\"\n",
    "print(f\"\\nLetters in '{word}':\")\n",
    "for letter in word:\n",
    "    print(f\"  📝 {letter}\")\n"
   ]
  },
  {
   "cell_type": "code",
   "execution_count": 5,
   "id": "6e90eb6c-e431-4294-b56e-31d8ea35c416",
   "metadata": {},
   "outputs": [
    {
     "name": "stdout",
     "output_type": "stream",
     "text": [
      "\n",
      "Counting to 5:\n",
      "  🔢 1\n",
      "  🔢 2\n",
      "  🔢 3\n",
      "  🔢 4\n",
      "  🔢 5\n",
      "\n",
      "============================================================\n"
     ]
    }
   ],
   "source": [
    "# Loop through a range of numbers\n",
    "print(\"\\nCounting to 5:\")\n",
    "for number in range(1, 6):  # 1, 2, 3, 4, 5\n",
    "    print(f\"  🔢 {number}\")\n",
    "\n",
    "print(\"\\n\" + \"=\"*60)\n"
   ]
  },
  {
   "cell_type": "code",
   "execution_count": 7,
   "id": "27d68390-faaf-4141-abcb-fffc309fcc7f",
   "metadata": {},
   "outputs": [
    {
     "name": "stdout",
     "output_type": "stream",
     "text": [
      "=== RANGE FUNCTION ===\n",
      "range(5): [0, 1, 2, 3, 4]\n",
      "range(2, 7): [2, 3, 4, 5, 6]\n",
      "range(0, 10, 2): [0, 2, 4, 6, 8]\n"
     ]
    }
   ],
   "source": [
    "# =========================\n",
    "# RANGE FUNCTION\n",
    "# =========================\n",
    "# Generating sequences of numbers\n",
    "\n",
    "print(\"=== RANGE FUNCTION ===\")\n",
    "\n",
    "# range(stop) - starts at 0\n",
    "print(\"range(5):\", list(range(5)))  # [0, 1, 2, 3, 4]\n",
    "\n",
    "# range(start, stop) - custom start\n",
    "print(\"range(2, 7):\", list(range(2, 7)))  # [2, 3, 4, 5, 6]\n",
    "\n",
    "# range(start, stop, step) - custom increment\n",
    "print(\"range(0, 10, 2):\", list(range(0, 10, 2)))  # [0, 2, 4, 6, 8]\n",
    "\n"
   ]
  },
  {
   "cell_type": "code",
   "execution_count": 8,
   "id": "d4cfc3f8-bd80-49dc-86eb-4fe6d6282e49",
   "metadata": {},
   "outputs": [
    {
     "name": "stdout",
     "output_type": "stream",
     "text": [
      "\n",
      "Even numbers from 0 to 10:\n",
      "  0\n",
      "  2\n",
      "  4\n",
      "  6\n",
      "  8\n",
      "  10\n",
      "\n",
      "Countdown from 5:\n",
      "  5...\n",
      "  4...\n",
      "  3...\n",
      "  2...\n",
      "  1...\n",
      "  🚀 Blastoff!\n",
      "\n",
      "============================================================\n"
     ]
    }
   ],
   "source": [
    "# Practical examples\n",
    "print(\"\\nEven numbers from 0 to 10:\")\n",
    "for num in range(0, 11, 2):\n",
    "    print(f\"  {num}\")\n",
    "\n",
    "print(\"\\nCountdown from 5:\")\n",
    "for num in range(5, 0, -1):\n",
    "    print(f\"  {num}...\")\n",
    "print(\"  🚀 Blastoff!\")\n",
    "\n",
    "print(\"\\n\" + \"=\"*60)"
   ]
  },
  {
   "cell_type": "code",
   "execution_count": 9,
   "id": "d79bfcad-ff30-45de-a83f-5472ffb38037",
   "metadata": {},
   "outputs": [
    {
     "name": "stdout",
     "output_type": "stream",
     "text": [
      "=== ENUMERATE FUNCTION ===\n"
     ]
    }
   ],
   "source": [
    "# =========================\n",
    "# ENUMERATE FUNCTION\n",
    "# =========================\n",
    "# Get both index and value when looping\n",
    "\n",
    "print(\"=== ENUMERATE FUNCTION ===\")\n",
    "\n",
    "colors = [\"red\", \"green\", \"blue\", \"yellow\"]"
   ]
  },
  {
   "cell_type": "code",
   "execution_count": 10,
   "id": "dba0c95d-f184-46e5-8ede-463417b3eb25",
   "metadata": {},
   "outputs": [
    {
     "name": "stdout",
     "output_type": "stream",
     "text": [
      "Manual index tracking:\n",
      "  0: red\n",
      "  1: green\n",
      "  2: blue\n",
      "  3: yellow\n"
     ]
    }
   ],
   "source": [
    "# Without enumerate (manual index tracking)\n",
    "print(\"Manual index tracking:\")\n",
    "index = 0\n",
    "for color in colors:\n",
    "    print(f\"  {index}: {color}\")\n",
    "    index += 1"
   ]
  },
  {
   "cell_type": "code",
   "execution_count": 11,
   "id": "0897f1b4-a51c-41b2-be2f-ffc7ecbd6017",
   "metadata": {},
   "outputs": [
    {
     "name": "stdout",
     "output_type": "stream",
     "text": [
      "\n",
      "Using enumerate:\n",
      "  0: red\n",
      "  1: green\n",
      "  2: blue\n",
      "  3: yellow\n"
     ]
    }
   ],
   "source": [
    "# With enumerate (automatic index)\n",
    "print(\"\\nUsing enumerate:\")\n",
    "for index, color in enumerate(colors):\n",
    "    print(f\"  {index}: {color}\")\n"
   ]
  },
  {
   "cell_type": "code",
   "execution_count": 12,
   "id": "6e9032c7-f6b3-4f9f-b7c0-da24100532f1",
   "metadata": {},
   "outputs": [
    {
     "name": "stdout",
     "output_type": "stream",
     "text": [
      "\n",
      "Enumerate starting from 1:\n",
      "  Position 1: red\n",
      "  Position 2: green\n",
      "  Position 3: blue\n",
      "  Position 4: yellow\n"
     ]
    }
   ],
   "source": [
    "# Starting enumerate from a different number\n",
    "print(\"\\nEnumerate starting from 1:\")\n",
    "for index, color in enumerate(colors, start=1):\n",
    "    print(f\"  Position {index}: {color}\")\n"
   ]
  },
  {
   "cell_type": "code",
   "execution_count": 13,
   "id": "bdfd705d-2034-462d-a11a-4ee8becc24fb",
   "metadata": {},
   "outputs": [
    {
     "name": "stdout",
     "output_type": "stream",
     "text": [
      "\n",
      "Menu Selection:\n",
      "  1. Pizza\n",
      "  2. Burger\n",
      "  3. Salad\n",
      "  4. Pasta\n"
     ]
    }
   ],
   "source": [
    "# Real-world example: Menu system\n",
    "print(\"\\nMenu Selection:\")\n",
    "menu_items = [\"Pizza\", \"Burger\", \"Salad\", \"Pasta\"]\n",
    "for index, item in enumerate(menu_items, start=1):\n",
    "    print(f\"  {index}. {item}\")"
   ]
  },
  {
   "cell_type": "code",
   "execution_count": null,
   "id": "07b54b39-ee59-40cc-9e7e-c248e2ea64e1",
   "metadata": {},
   "outputs": [],
   "source": []
  },
  {
   "cell_type": "code",
   "execution_count": 14,
   "id": "cd33a629-3aad-43e2-93ff-28cf3c3dddf7",
   "metadata": {},
   "outputs": [],
   "source": [
    "# =========================\n",
    "# WHILE LOOPS\n",
    "# =========================\n",
    "# Repeat as long as a condition is True"
   ]
  },
  {
   "cell_type": "code",
   "execution_count": 15,
   "id": "95f01f17-51ac-4722-b641-3867ddb581d3",
   "metadata": {},
   "outputs": [
    {
     "name": "stdout",
     "output_type": "stream",
     "text": [
      "Counting with while loop:\n",
      "  Count: 1\n",
      "  Count: 2\n",
      "  Count: 3\n",
      "  Count: 4\n",
      "  Count: 5\n"
     ]
    }
   ],
   "source": [
    "# Basic while loop\n",
    "count = 1\n",
    "print(\"Counting with while loop:\")\n",
    "while count <= 5:\n",
    "    print(f\"  Count: {count}\")\n",
    "    count += 1  # IMPORTANT: Update the variable!"
   ]
  },
  {
   "cell_type": "code",
   "execution_count": 16,
   "id": "21312f0a-dfba-4766-bf2e-8b15d508e3f8",
   "metadata": {},
   "outputs": [
    {
     "name": "stdout",
     "output_type": "stream",
     "text": [
      "\n",
      "Password attempt simulation:\n"
     ]
    }
   ],
   "source": [
    "# User input simulation\n",
    "print(\"\\nPassword attempt simulation:\")\n",
    "attempts = 0\n",
    "max_attempts = 3\n",
    "correct_password = \"secret123\"\n"
   ]
  },
  {
   "cell_type": "code",
   "execution_count": 18,
   "id": "4274b5b8-e153-4685-b21b-be89eeb3253e",
   "metadata": {},
   "outputs": [
    {
     "name": "stdout",
     "output_type": "stream",
     "text": [
      "\n",
      "Password attempt simulation:\n",
      "  Attempt 1: Trying password 'wrong1'\n",
      "  ❌ Wrong password. 2 attempts remaining.\n",
      "  Attempt 2: Trying password 'wrong2'\n",
      "  ❌ Wrong password. 1 attempts remaining.\n",
      "  Attempt 3: Trying password 'secret123'\n",
      "  ✅ Access granted!\n",
      "\n",
      "============================================================\n"
     ]
    }
   ],
   "source": [
    "# User input simulation\n",
    "print(\"\\nPassword attempt simulation:\")\n",
    "attempts = 0\n",
    "max_attempts = 3\n",
    "correct_password = \"secret123\"\n",
    "\n",
    "# Simulate different password attempts\n",
    "password_attempts = [\"wrong1\", \"wrong2\", \"secret123\"]\n",
    "attempt_index = 0\n",
    "\n",
    "while attempts < max_attempts:\n",
    "    # Simulate getting password input\n",
    "    if attempt_index < len(password_attempts):\n",
    "        password = password_attempts[attempt_index]\n",
    "        print(f\"  Attempt {attempts + 1}: Trying password '{password}'\")\n",
    "        attempt_index += 1\n",
    "    else:\n",
    "        break\n",
    "    \n",
    "    attempts += 1\n",
    "    \n",
    "    if password == correct_password:\n",
    "        print(\"  ✅ Access granted!\")\n",
    "        break\n",
    "    else:\n",
    "        print(f\"  ❌ Wrong password. {max_attempts - attempts} attempts remaining.\")\n",
    "\n",
    "if attempts == max_attempts and password != correct_password:\n",
    "    print(\"  🔒 Account locked!\")\n",
    "\n",
    "print(\"\\n\" + \"=\"*60)"
   ]
  },
  {
   "cell_type": "code",
   "execution_count": 19,
   "id": "ce66fc17-a8cd-4959-982e-6028bbb4b582",
   "metadata": {},
   "outputs": [
    {
     "name": "stdout",
     "output_type": "stream",
     "text": [
      "=== LOOP CONTROL STATEMENTS ===\n",
      "Finding first even number:\n",
      "  Checking 1...\n",
      "  1 is odd, continuing...\n",
      "  Checking 3...\n",
      "  3 is odd, continuing...\n",
      "  Checking 7...\n",
      "  7 is odd, continuing...\n",
      "  Checking 4...\n",
      "  Found first even number: 4\n"
     ]
    }
   ],
   "source": [
    "# =========================\n",
    "# LOOP CONTROL STATEMENTS\n",
    "# =========================\n",
    "# break, continue, and else clauses\n",
    "\n",
    "print(\"=== LOOP CONTROL STATEMENTS ===\")\n",
    "\n",
    "# BREAK - Exit the loop immediately\n",
    "print(\"Finding first even number:\")\n",
    "numbers = [1, 3, 7, 4, 9, 2, 5]\n",
    "for num in numbers:\n",
    "    print(f\"  Checking {num}...\")\n",
    "    if num % 2 == 0:\n",
    "        print(f\"  Found first even number: {num}\")\n",
    "        break\n",
    "    print(f\"  {num} is odd, continuing...\")"
   ]
  },
  {
   "cell_type": "code",
   "execution_count": 20,
   "id": "c1c97821-9f21-4b7c-824e-bdb7fd8fed81",
   "metadata": {},
   "outputs": [
    {
     "name": "stdout",
     "output_type": "stream",
     "text": [
      "\n",
      "Printing only positive numbers:\n",
      "  Positive: 5\n",
      "  Positive: 3\n",
      "  Positive: 7\n"
     ]
    }
   ],
   "source": [
    "# CONTINUE - Skip current iteration, go to next\n",
    "print(\"\\nPrinting only positive numbers:\")\n",
    "numbers = [-2, 5, -1, 3, 0, -4, 7]\n",
    "for num in numbers:\n",
    "    if num <= 0:\n",
    "        continue  # Skip negative and zero\n",
    "    print(f\"  Positive: {num}\")"
   ]
  },
  {
   "cell_type": "code",
   "execution_count": 23,
   "id": "2825f19c-7730-44df-976c-5fc69dff9ecd",
   "metadata": {},
   "outputs": [
    {
     "name": "stdout",
     "output_type": "stream",
     "text": [
      "\n",
      "Searching for target number:\n",
      "  Checking 1...\n",
      "  Checking 3...\n",
      "  Checking 5...\n",
      "  Checking 7...\n",
      "  Checking 9...\n",
      "  Target 8 not found in the list\n",
      "\n",
      "============================================================\n"
     ]
    }
   ],
   "source": [
    "# ELSE clause - Runs if loop completes WITHOUT break\n",
    "print(\"\\nSearching for target number:\")\n",
    "target = 8\n",
    "numbers = [1, 3, 5, 7, 9]\n",
    "\n",
    "for num in numbers:\n",
    "    print(f\"  Checking {num}...\")\n",
    "    if num == target:\n",
    "        print(f\"  Found target: {target}\")\n",
    "        break\n",
    "else:\n",
    "    print(f\"  Target {target} not found in the list\")\n",
    "\n",
    "print(\"\\n\" + \"=\"*60)\n"
   ]
  },
  {
   "cell_type": "code",
   "execution_count": null,
   "id": "3f309ca0-3c4b-4fa9-849a-1fd9509b3cf6",
   "metadata": {},
   "outputs": [],
   "source": []
  },
  {
   "cell_type": "code",
   "execution_count": null,
   "id": "90e192c9-e9c1-44a2-be85-75c5ffa136c5",
   "metadata": {},
   "outputs": [],
   "source": []
  },
  {
   "cell_type": "code",
   "execution_count": 24,
   "id": "e6b11f01-e79d-4402-89ac-5d38a64d2d26",
   "metadata": {},
   "outputs": [],
   "source": [
    "# =========================\n",
    "# NESTED LOOPS\n",
    "# =========================\n",
    "# Loops inside other loops"
   ]
  },
  {
   "cell_type": "code",
   "execution_count": 25,
   "id": "0145b385-86bc-4240-b4ba-6488e34bddd2",
   "metadata": {},
   "outputs": [
    {
     "name": "stdout",
     "output_type": "stream",
     "text": [
      "Multiplication table (1-5):\n",
      "  1   2   3   4   5 \n",
      "  2   4   6   8  10 \n",
      "  3   6   9  12  15 \n",
      "  4   8  12  16  20 \n",
      "  5  10  15  20  25 \n"
     ]
    }
   ],
   "source": [
    "# Multiplication table\n",
    "print(\"Multiplication table (1-5):\")\n",
    "for i in range(1, 6):\n",
    "    for j in range(1, 6):\n",
    "        result = i * j\n",
    "        print(f\"{result:3}\", end=\" \")  # Format with 3 spaces, no newline\n",
    "    print()  # New line after each row\n"
   ]
  },
  {
   "cell_type": "code",
   "execution_count": 26,
   "id": "edfecfd3-6517-41b3-87e8-a50c3c665097",
   "metadata": {},
   "outputs": [
    {
     "name": "stdout",
     "output_type": "stream",
     "text": [
      "\n",
      "Iterating through a 2D matrix:\n",
      "  Position (0,0): 1\n",
      "  Position (0,1): 2\n",
      "  Position (0,2): 3\n",
      "  Position (1,0): 4\n",
      "  Position (1,1): 5\n",
      "  Position (1,2): 6\n",
      "  Position (2,0): 7\n",
      "  Position (2,1): 8\n",
      "  Position (2,2): 9\n"
     ]
    }
   ],
   "source": [
    "# Matrix iteration\n",
    "print(\"\\nIterating through a 2D matrix:\")\n",
    "matrix = [\n",
    "    [1, 2, 3],\n",
    "    [4, 5, 6],\n",
    "    [7, 8, 9]\n",
    "]\n",
    "\n",
    "for row_index, row in enumerate(matrix):\n",
    "    for col_index, value in enumerate(row):\n",
    "        print(f\"  Position ({row_index},{col_index}): {value}\")"
   ]
  },
  {
   "cell_type": "code",
   "execution_count": 27,
   "id": "cc65aedb-f119-4467-b19d-2ff9cd8a1bfe",
   "metadata": {},
   "outputs": [
    {
     "name": "stdout",
     "output_type": "stream",
     "text": [
      "\n",
      "Stars pattern:\n",
      "*\n",
      "**\n",
      "***\n",
      "****\n",
      "*****\n",
      "\n",
      "============================================================\n"
     ]
    }
   ],
   "source": [
    "# Nested loops with pattern\n",
    "print(\"\\nStars pattern:\")\n",
    "for i in range(1, 6):\n",
    "    for j in range(i):\n",
    "        print(\"*\", end=\"\")\n",
    "    print()  # New line after each row\n",
    "\n",
    "print(\"\\n\" + \"=\"*60)\n"
   ]
  },
  {
   "cell_type": "code",
   "execution_count": null,
   "id": "8ac0b27b-021f-4f2c-a4bf-fa3fd01dc197",
   "metadata": {},
   "outputs": [],
   "source": []
  },
  {
   "cell_type": "code",
   "execution_count": null,
   "id": "dcb02ac3-6dfe-427f-b884-682671ddb967",
   "metadata": {},
   "outputs": [],
   "source": []
  },
  {
   "cell_type": "code",
   "execution_count": 28,
   "id": "d29e47c0-68b4-4f25-a146-201953fe2177",
   "metadata": {},
   "outputs": [],
   "source": [
    "# =========================\n",
    "# LIST COMPREHENSIONS\n",
    "# =========================\n",
    "# Creating lists with loops in one line"
   ]
  },
  {
   "cell_type": "code",
   "execution_count": 30,
   "id": "92403f2f-a993-4a56-bf76-a3e53987d48b",
   "metadata": {},
   "outputs": [
    {
     "name": "stdout",
     "output_type": "stream",
     "text": [
      "Original numbers: [1, 2, 3, 4, 5]\n",
      "Traditional way: [1, 4, 9, 16, 25]\n",
      "List comprehension: [1, 4, 9, 16, 25]\n"
     ]
    }
   ],
   "source": [
    "# Traditional way\n",
    "squares_traditional = []\n",
    "for num in numbers:\n",
    "    squares_traditional.append(num ** 2)\n",
    "\n",
    "# List comprehension way\n",
    "squares_comprehension = [num ** 2 for num in numbers]\n",
    "\n",
    "print(f\"Original numbers: {numbers}\")\n",
    "print(f\"Traditional way: {squares_traditional}\")\n",
    "print(f\"List comprehension: {squares_comprehension}\")"
   ]
  },
  {
   "cell_type": "code",
   "execution_count": 31,
   "id": "731bb7fb-2a6b-432d-a263-c898362c3506",
   "metadata": {},
   "outputs": [
    {
     "name": "stdout",
     "output_type": "stream",
     "text": [
      "Even number squares: [4, 16]\n"
     ]
    }
   ],
   "source": [
    "# List comprehension with condition\n",
    "even_squares = [num ** 2 for num in numbers if num % 2 == 0]\n",
    "print(f\"Even number squares: {even_squares}\")\n"
   ]
  },
  {
   "cell_type": "code",
   "execution_count": 33,
   "id": "db558b15-f1a3-4573-8d39-63095d3c3f5e",
   "metadata": {},
   "outputs": [
    {
     "name": "stdout",
     "output_type": "stream",
     "text": [
      "\n",
      "Original words: ['hello', 'world', 'python', 'programming']\n",
      "Uppercase: ['HELLO', 'WORLD', 'PYTHON', 'PROGRAMMING']\n",
      "Long words (>5 chars): ['python', 'programming']\n",
      "Word lengths: [5, 5, 6, 11]\n",
      "\n",
      "============================================================\n"
     ]
    }
   ],
   "source": [
    "# More complex expressions\n",
    "words = [\"hello\", \"world\", \"python\", \"programming\"]\n",
    "uppercase_words = [word.upper() for word in words]\n",
    "long_words = [word for word in words if len(word) > 5]\n",
    "word_lengths = [len(word) for word in words]\n",
    "print(f\"\\nOriginal words: {words}\")\n",
    "print(f\"Uppercase: {uppercase_words}\")\n",
    "print(f\"Long words (>5 chars): {long_words}\")\n",
    "print(f\"Word lengths: {word_lengths}\")\n",
    "\n",
    "print(\"\\n\" + \"=\"*60)"
   ]
  },
  {
   "cell_type": "code",
   "execution_count": null,
   "id": "e9390e5e-5f83-448d-af57-1c29ca81b60e",
   "metadata": {},
   "outputs": [],
   "source": []
  },
  {
   "cell_type": "code",
   "execution_count": null,
   "id": "1f172505-e9a9-4e0b-9d11-25a927f70140",
   "metadata": {},
   "outputs": [],
   "source": []
  },
  {
   "cell_type": "code",
   "execution_count": 34,
   "id": "c6f974ee-d67d-423b-a1e0-262a8bf3d95b",
   "metadata": {},
   "outputs": [],
   "source": [
    "# =========================\n",
    "# ADVANCED LIST COMPREHENSIONS\n",
    "# =========================\n",
    "# Complex patterns and nested comprehensions"
   ]
  },
  {
   "cell_type": "code",
   "execution_count": 35,
   "id": "06925d46-9cd4-489f-8fda-34ac7bde9b6f",
   "metadata": {},
   "outputs": [
    {
     "name": "stdout",
     "output_type": "stream",
     "text": [
      "Matrix: [[1, 2, 3], [4, 5, 6], [7, 8, 9]]\n",
      "Flattened (traditional): [1, 2, 3, 4, 5, 6, 7, 8, 9]\n",
      "Flattened (comprehension): [1, 2, 3, 4, 5, 6, 7, 8, 9]\n"
     ]
    }
   ],
   "source": [
    "# Nested list comprehension\n",
    "matrix = [[1, 2, 3], [4, 5, 6], [7, 8, 9]]\n",
    "\n",
    "# Flatten matrix - traditional way\n",
    "flattened_traditional = []\n",
    "for row in matrix:\n",
    "    for item in row:\n",
    "        flattened_traditional.append(item)\n",
    "\n",
    "# Flatten matrix - list comprehension\n",
    "flattened_comprehension = [item for row in matrix for item in row]\n",
    "\n",
    "print(f\"Matrix: {matrix}\")\n",
    "print(f\"Flattened (traditional): {flattened_traditional}\")\n",
    "print(f\"Flattened (comprehension): {flattened_comprehension}\")"
   ]
  },
  {
   "cell_type": "code",
   "execution_count": 36,
   "id": "b06896f5-5415-4f0a-ac42-453064cd8e5c",
   "metadata": {},
   "outputs": [
    {
     "name": "stdout",
     "output_type": "stream",
     "text": [
      "\n",
      "Numbers: [-5, -4, -3, -2, -1, 0, 1, 2, 3, 4, 5]\n",
      "Absolute values: [5, 4, 3, 2, 1, 0, 1, 2, 3, 4, 5]\n"
     ]
    }
   ],
   "source": [
    "# List comprehension with if-else (ternary)\n",
    "numbers = range(-5, 6)\n",
    "abs_or_zero = [abs(x) if x != 0 else 0 for x in numbers]\n",
    "print(f\"\\nNumbers: {list(numbers)}\")\n",
    "print(f\"Absolute values: {abs_or_zero}\")"
   ]
  },
  {
   "cell_type": "code",
   "execution_count": 37,
   "id": "1ec7bf9b-6ce0-428a-9c2e-6e3955bc1500",
   "metadata": {},
   "outputs": [
    {
     "name": "stdout",
     "output_type": "stream",
     "text": [
      "Numbers divisible by both 2 and 3: [6, 12, 18]\n"
     ]
    }
   ],
   "source": [
    "# Multiple conditions\n",
    "numbers = range(1, 21)\n",
    "special_numbers = [x for x in numbers if x % 2 == 0 if x % 3 == 0]\n",
    "print(f\"Numbers divisible by both 2 and 3: {special_numbers}\")"
   ]
  },
  {
   "cell_type": "code",
   "execution_count": 39,
   "id": "4d42e13c-6b4a-4568-8fcf-e7c9379527b3",
   "metadata": {},
   "outputs": [
    {
     "name": "stdout",
     "output_type": "stream",
     "text": [
      "T-shirt combinations: ['red-S', 'red-M', 'red-L', 'blue-S', 'blue-M', 'blue-L']\n"
     ]
    }
   ],
   "source": [
    "# Cartesian product\n",
    "colors = [\"red\", \"blue\"]\n",
    "sizes = [\"S\", \"M\", \"L\"]\n",
    "combinations = [f\"{color}-{size}\" for color in colors for size in sizes]\n",
    "print(f\"T-shirt combinations: {combinations}\")\n"
   ]
  },
  {
   "cell_type": "code",
   "execution_count": null,
   "id": "ed0075af-cca3-4d5f-aeb6-ef2885a121b3",
   "metadata": {},
   "outputs": [],
   "source": []
  },
  {
   "cell_type": "code",
   "execution_count": null,
   "id": "0e58d05f-41c4-4c18-a1c4-26da685eff20",
   "metadata": {},
   "outputs": [],
   "source": []
  },
  {
   "cell_type": "code",
   "execution_count": 40,
   "id": "5376a9a2-db51-46e6-9c67-dca480ad2c0d",
   "metadata": {},
   "outputs": [],
   "source": [
    "# =========================\n",
    "# DICTIONARY COMPREHENSIONS\n",
    "# =========================\n",
    "# Creating dictionaries with comprehensions"
   ]
  },
  {
   "cell_type": "code",
   "execution_count": 41,
   "id": "85a7ea81-a008-47a6-b7ad-ed6688ab2084",
   "metadata": {},
   "outputs": [
    {
     "name": "stdout",
     "output_type": "stream",
     "text": [
      "Squares dictionary: {1: 1, 2: 4, 3: 9, 4: 16, 5: 25}\n"
     ]
    }
   ],
   "source": [
    "# Basic dictionary comprehension\n",
    "numbers = [1, 2, 3, 4, 5]\n",
    "squares_dict = {num: num ** 2 for num in numbers}\n",
    "print(f\"Squares dictionary: {squares_dict}\")\n"
   ]
  },
  {
   "cell_type": "code",
   "execution_count": 42,
   "id": "279bc2d4-0b2f-4d6a-ad11-ed630f2cff94",
   "metadata": {},
   "outputs": [
    {
     "name": "stdout",
     "output_type": "stream",
     "text": [
      "People dictionary: {'Alice': 25, 'Bob': 30, 'Charlie': 35}\n"
     ]
    }
   ],
   "source": [
    "# From two lists\n",
    "names = [\"Alice\", \"Bob\", \"Charlie\"]\n",
    "ages = [25, 30, 35]\n",
    "people = {name: age for name, age in zip(names, ages)}\n",
    "print(f\"People dictionary: {people}\")"
   ]
  },
  {
   "cell_type": "code",
   "execution_count": 43,
   "id": "694dd835-b5e2-4d14-8430-bcabc0faadfd",
   "metadata": {},
   "outputs": [
    {
     "name": "stdout",
     "output_type": "stream",
     "text": [
      "Even squares only: {2: 4, 4: 16}\n"
     ]
    }
   ],
   "source": [
    "\n",
    "# With conditions\n",
    "even_squares = {num: num ** 2 for num in numbers if num % 2 == 0}\n",
    "print(f\"Even squares only: {even_squares}\")"
   ]
  },
  {
   "cell_type": "code",
   "execution_count": 44,
   "id": "55c1863a-6b72-47f7-9e48-578cb23b6e52",
   "metadata": {},
   "outputs": [
    {
     "name": "stdout",
     "output_type": "stream",
     "text": [
      "Word lengths: {'hello': 5, 'world': 5, 'python': 6}\n"
     ]
    }
   ],
   "source": [
    "# String manipulation\n",
    "words = [\"hello\", \"world\", \"python\"]\n",
    "word_info = {word: len(word) for word in words}\n",
    "print(f\"Word lengths: {word_info}\")\n"
   ]
  },
  {
   "cell_type": "code",
   "execution_count": 45,
   "id": "6b26e47a-db4f-45ae-bf40-4003116cce95",
   "metadata": {},
   "outputs": [
    {
     "name": "stdout",
     "output_type": "stream",
     "text": [
      "Original prices: {'apple': 1.0, 'banana': 0.5, 'orange': 0.8}\n",
      "Discounted prices: {'apple': 0.9, 'banana': 0.45, 'orange': 0.7200000000000001}\n",
      "\n",
      "============================================================\n"
     ]
    }
   ],
   "source": [
    "# Transforming existing dictionary\n",
    "original_prices = {\"apple\": 1.0, \"banana\": 0.5, \"orange\": 0.8}\n",
    "discounted_prices = {item: price * 0.9 for item, price in original_prices.items()}\n",
    "print(f\"Original prices: {original_prices}\")\n",
    "print(f\"Discounted prices: {discounted_prices}\")\n",
    "\n",
    "print(\"\\n\" + \"=\"*60)\n"
   ]
  },
  {
   "cell_type": "code",
   "execution_count": null,
   "id": "eb767644-4d08-424f-816b-ce4665566136",
   "metadata": {},
   "outputs": [],
   "source": []
  },
  {
   "cell_type": "code",
   "execution_count": 46,
   "id": "09f4535c-524d-4228-bc0e-dc294a8a440f",
   "metadata": {},
   "outputs": [],
   "source": [
    "# =========================\n",
    "# SET COMPREHENSIONS\n",
    "# =========================\n",
    "# Creating sets with comprehensions"
   ]
  },
  {
   "cell_type": "code",
   "execution_count": 47,
   "id": "a37d53d8-59b9-4a93-b889-e0039286133d",
   "metadata": {},
   "outputs": [
    {
     "name": "stdout",
     "output_type": "stream",
     "text": [
      "Original (with duplicates): [1, 2, 2, 3, 3, 4, 5, 5]\n",
      "Unique squares: {1, 4, 9, 16, 25}\n"
     ]
    }
   ],
   "source": [
    "# Basic set comprehension\n",
    "numbers = [1, 2, 2, 3, 3, 4, 5, 5]\n",
    "unique_squares = {num ** 2 for num in numbers}\n",
    "print(f\"Original (with duplicates): {numbers}\")\n",
    "print(f\"Unique squares: {unique_squares}\")"
   ]
  },
  {
   "cell_type": "code",
   "execution_count": 48,
   "id": "0bc26d86-1036-470c-8794-6ca311016a91",
   "metadata": {},
   "outputs": [
    {
     "name": "stdout",
     "output_type": "stream",
     "text": [
      "Sentence: 'hello world'\n",
      "Unique letters: {'o', 'd', 'h', 'w', 'l', 'r', 'e'}\n"
     ]
    }
   ],
   "source": [
    "# From string\n",
    "sentence = \"hello world\"\n",
    "unique_letters = {char.lower() for char in sentence if char.isalpha()}\n",
    "print(f\"Sentence: '{sentence}'\")\n",
    "print(f\"Unique letters: {unique_letters}\")"
   ]
  },
  {
   "cell_type": "code",
   "execution_count": 49,
   "id": "533bc66a-5d5f-41ee-97c8-5b46d7c15e36",
   "metadata": {},
   "outputs": [
    {
     "name": "stdout",
     "output_type": "stream",
     "text": [
      "Multiples of 2: {2, 4, 6, 8, 10, 12, 14, 16, 18, 20}\n",
      "Multiples of 3: {3, 6, 9, 12, 15, 18}\n",
      "Common multiples: {18, 12, 6}\n",
      "\n",
      "============================================================\n"
     ]
    }
   ],
   "source": [
    "# Mathematical sets\n",
    "multiples_of_2 = {x for x in range(1, 21) if x % 2 == 0}\n",
    "multiples_of_3 = {x for x in range(1, 21) if x % 3 == 0}\n",
    "print(f\"Multiples of 2: {multiples_of_2}\")\n",
    "print(f\"Multiples of 3: {multiples_of_3}\")\n",
    "print(f\"Common multiples: {multiples_of_2 & multiples_of_3}\")\n",
    "\n",
    "print(\"\\n\" + \"=\"*60)"
   ]
  },
  {
   "cell_type": "code",
   "execution_count": null,
   "id": "eeddaa72-401b-4f82-89c1-866e3e87c47a",
   "metadata": {},
   "outputs": [],
   "source": []
  },
  {
   "cell_type": "code",
   "execution_count": 50,
   "id": "c83e21e4-c1a6-4bd2-bf61-405adf597d8a",
   "metadata": {},
   "outputs": [],
   "source": [
    "# =========================\n",
    "# GENERATOR EXPRESSIONS\n",
    "# =========================\n",
    "# Memory-efficient iteration\n"
   ]
  },
  {
   "cell_type": "code",
   "execution_count": 52,
   "id": "1667ed80-0bf7-4a4c-9c54-2d4a1f439a1e",
   "metadata": {},
   "outputs": [
    {
     "name": "stdout",
     "output_type": "stream",
     "text": [
      "List comprehension: [1, 4, 9, 16, 25]\n",
      "Generator object: <generator object <genexpr> at 0x105d4f9f0>\n",
      "Generator values: [1, 4, 9, 16, 25]\n"
     ]
    }
   ],
   "source": [
    "# List comprehension vs Generator expression\n",
    "numbers = range(1, 6)\n",
    "\n",
    "# List comprehension - creates all items in memory\n",
    "squares_list = [x ** 2 for x in numbers]\n",
    "print(f\"List comprehension: {squares_list}\")\n",
    "\n",
    "# Generator expression - creates items on demand\n",
    "squares_generator = (x ** 2 for x in numbers)\n",
    "print(f\"Generator object: {squares_generator}\")\n",
    "print(f\"Generator values: {list(squares_generator)}\")\n",
    "\n"
   ]
  },
  {
   "cell_type": "code",
   "execution_count": 53,
   "id": "e1a1da63-83f8-4b2f-ad34-8b489a625f69",
   "metadata": {},
   "outputs": [
    {
     "name": "stdout",
     "output_type": "stream",
     "text": [
      "\n",
      "Memory usage comparison:\n",
      "List size: 8856 bytes\n",
      "Generator size: 208 bytes\n"
     ]
    }
   ],
   "source": [
    "# Memory efficiency example\n",
    "print(\"\\nMemory usage comparison:\")\n",
    "import sys\n",
    "\n",
    "large_list = [x ** 2 for x in range(1000)]\n",
    "large_generator = (x ** 2 for x in range(1000))\n",
    "\n",
    "print(f\"List size: {sys.getsizeof(large_list)} bytes\")\n",
    "print(f\"Generator size: {sys.getsizeof(large_generator)} bytes\")"
   ]
  },
  {
   "cell_type": "code",
   "execution_count": 54,
   "id": "bea00469-cd44-46d3-983a-a28eba31e645",
   "metadata": {},
   "outputs": [
    {
     "name": "stdout",
     "output_type": "stream",
     "text": [
      "\n",
      "Using generator in loop:\n",
      "  0\n",
      "  4\n",
      "  16\n",
      "  36\n",
      "  64\n",
      "\n",
      "============================================================\n"
     ]
    }
   ],
   "source": [
    "\n",
    "# Using generators in loops\n",
    "print(\"\\nUsing generator in loop:\")\n",
    "even_squares_gen = (x ** 2 for x in range(10) if x % 2 == 0)\n",
    "for square in even_squares_gen:\n",
    "    print(f\"  {square}\")\n",
    "\n",
    "print(\"\\n\" + \"=\"*60)\n"
   ]
  },
  {
   "cell_type": "code",
   "execution_count": null,
   "id": "4bf2dba0-24f7-4921-b5f8-1aeb464b5ce1",
   "metadata": {},
   "outputs": [],
   "source": []
  },
  {
   "cell_type": "code",
   "execution_count": 55,
   "id": "0d1ccff6-bfd9-45d1-b330-36fe170a5d1c",
   "metadata": {},
   "outputs": [],
   "source": [
    "# =========================\n",
    "# ITERATING OVER DIFFERENT DATA TYPES\n",
    "# =========================\n",
    "# How to loop through various Python structures"
   ]
  },
  {
   "cell_type": "code",
   "execution_count": 56,
   "id": "d296274b-a8f2-4e74-ab79-c62ed5076116",
   "metadata": {},
   "outputs": [
    {
     "name": "stdout",
     "output_type": "stream",
     "text": [
      "Dictionary - Keys:\n",
      "  name\n",
      "  age\n",
      "  city\n"
     ]
    }
   ],
   "source": [
    "# Dictionary iteration\n",
    "person = {\"name\": \"Alice\", \"age\": 30, \"city\": \"New York\"}\n",
    "\n",
    "print(\"Dictionary - Keys:\")\n",
    "for key in person:  # Default: iterate over keys\n",
    "    print(f\"  {key}\")\n"
   ]
  },
  {
   "cell_type": "code",
   "execution_count": 57,
   "id": "4ea53369-2c1f-4b90-8e4f-68cc20590a37",
   "metadata": {},
   "outputs": [
    {
     "name": "stdout",
     "output_type": "stream",
     "text": [
      "Dictionary - Values:\n",
      "  Alice\n",
      "  30\n",
      "  New York\n",
      "Dictionary - Key-Value pairs:\n",
      "  name: Alice\n",
      "  age: 30\n",
      "  city: New York\n"
     ]
    }
   ],
   "source": [
    "\n",
    "print(\"Dictionary - Values:\")\n",
    "for value in person.values():\n",
    "    print(f\"  {value}\")\n",
    "\n",
    "print(\"Dictionary - Key-Value pairs:\")\n",
    "for key, value in person.items():\n",
    "    print(f\"  {key}: {value}\")"
   ]
  },
  {
   "cell_type": "code",
   "execution_count": 58,
   "id": "811c6bcc-c683-459d-b7f5-2b85fa0b1504",
   "metadata": {},
   "outputs": [
    {
     "name": "stdout",
     "output_type": "stream",
     "text": [
      "\n",
      "Set iteration:\n",
      "  red\n",
      "  green\n",
      "  blue\n"
     ]
    }
   ],
   "source": [
    "# Set iteration\n",
    "colors = {\"red\", \"green\", \"blue\"}\n",
    "print(\"\\nSet iteration:\")\n",
    "for color in colors:\n",
    "    print(f\"  {color}\")"
   ]
  },
  {
   "cell_type": "code",
   "execution_count": 59,
   "id": "910462be-aea9-4267-a77d-15bafbcda0e1",
   "metadata": {},
   "outputs": [
    {
     "name": "stdout",
     "output_type": "stream",
     "text": [
      "\n",
      "Tuple iteration:\n",
      "  10\n",
      "  20\n",
      "  30\n"
     ]
    }
   ],
   "source": [
    "# Tuple iteration\n",
    "coordinates = (10, 20, 30)\n",
    "print(\"\\nTuple iteration:\")\n",
    "for coord in coordinates:\n",
    "    print(f\"  {coord}\")"
   ]
  },
  {
   "cell_type": "code",
   "execution_count": 60,
   "id": "f6c84894-1888-46ba-98d7-ed1110be3241",
   "metadata": {},
   "outputs": [
    {
     "name": "stdout",
     "output_type": "stream",
     "text": [
      "\n",
      "Multiple assignment:\n",
      "  Point: (1, 2)\n",
      "  Point: (3, 4)\n",
      "  Point: (5, 6)\n",
      "\n",
      "============================================================\n"
     ]
    }
   ],
   "source": [
    "\n",
    "# Multiple assignment in loops\n",
    "points = [(1, 2), (3, 4), (5, 6)]\n",
    "print(\"\\nMultiple assignment:\")\n",
    "for x, y in points:\n",
    "    print(f\"  Point: ({x}, {y})\")\n",
    "\n",
    "print(\"\\n\" + \"=\"*60)"
   ]
  },
  {
   "cell_type": "code",
   "execution_count": 61,
   "id": "2e859419-9cc2-4042-885f-d1219d8e6b39",
   "metadata": {},
   "outputs": [],
   "source": [
    "\n",
    "# =========================\n",
    "# ZIP FUNCTION\n",
    "# =========================\n",
    "# Combining multiple iterables\n"
   ]
  },
  {
   "cell_type": "code",
   "execution_count": 62,
   "id": "c7cfa9c1-9cb9-4309-a5e1-a58ce1e85002",
   "metadata": {},
   "outputs": [
    {
     "name": "stdout",
     "output_type": "stream",
     "text": [
      "=== ZIP FUNCTION ===\n"
     ]
    }
   ],
   "source": [
    "print(\"=== ZIP FUNCTION ===\")\n",
    "\n",
    "names = [\"Alice\", \"Bob\", \"Charlie\"]\n",
    "ages = [25, 30, 35]\n",
    "cities = [\"New York\", \"London\", \"Tokyo\"]"
   ]
  },
  {
   "cell_type": "code",
   "execution_count": 63,
   "id": "13305826-d810-46c9-a3a1-0f0009baa456",
   "metadata": {},
   "outputs": [
    {
     "name": "stdout",
     "output_type": "stream",
     "text": [
      "Zipping names and ages:\n",
      "  Alice is 25 years old\n",
      "  Bob is 30 years old\n",
      "  Charlie is 35 years old\n"
     ]
    }
   ],
   "source": [
    "# Zip two lists\n",
    "print(\"Zipping names and ages:\")\n",
    "for name, age in zip(names, ages):\n",
    "    print(f\"  {name} is {age} years old\")"
   ]
  },
  {
   "cell_type": "code",
   "execution_count": 64,
   "id": "681ca7b4-cd7e-414b-8355-545635abf2c7",
   "metadata": {},
   "outputs": [
    {
     "name": "stdout",
     "output_type": "stream",
     "text": [
      "\n",
      "Zipping three lists:\n",
      "  Alice, 25, lives in New York\n",
      "  Bob, 30, lives in London\n",
      "  Charlie, 35, lives in Tokyo\n"
     ]
    }
   ],
   "source": [
    "# Zip three lists\n",
    "print(\"\\nZipping three lists:\")\n",
    "for name, age, city in zip(names, ages, cities):\n",
    "    print(f\"  {name}, {age}, lives in {city}\")"
   ]
  },
  {
   "cell_type": "code",
   "execution_count": 65,
   "id": "6425fa62-1fad-4660-b21a-d9ae98e0b35e",
   "metadata": {},
   "outputs": [
    {
     "name": "stdout",
     "output_type": "stream",
     "text": [
      "\n",
      "Zipping different lengths:\n",
      "Short: [1, 2], Long: [10, 20, 30, 40]\n",
      "  1 + 10 = 11\n",
      "  2 + 20 = 22\n"
     ]
    }
   ],
   "source": [
    "# Zip with different lengths (stops at shortest)\n",
    "short_list = [1, 2]\n",
    "long_list = [10, 20, 30, 40]\n",
    "print(f\"\\nZipping different lengths:\")\n",
    "print(f\"Short: {short_list}, Long: {long_list}\")\n",
    "for short, long in zip(short_list, long_list):\n",
    "    print(f\"  {short} + {long} = {short + long}\")"
   ]
  },
  {
   "cell_type": "code",
   "execution_count": 66,
   "id": "e0ff1267-bfb4-4a35-bf16-b3aa8e95e99a",
   "metadata": {},
   "outputs": [
    {
     "name": "stdout",
     "output_type": "stream",
     "text": [
      "\n",
      "Dictionary from zip: {'name': 'Alice', 'age': 25, 'score': 95}\n"
     ]
    }
   ],
   "source": [
    "# Creating dictionary from zip\n",
    "keys = [\"name\", \"age\", \"score\"]\n",
    "values = [\"Alice\", 25, 95]\n",
    "person_dict = dict(zip(keys, values))\n",
    "print(f\"\\nDictionary from zip: {person_dict}\")"
   ]
  },
  {
   "cell_type": "code",
   "execution_count": 67,
   "id": "0dd650d8-d333-47d6-aa84-1952827a259f",
   "metadata": {},
   "outputs": [
    {
     "name": "stdout",
     "output_type": "stream",
     "text": [
      "Pairs: [(1, 'a'), (2, 'b'), (3, 'c')]\n",
      "Numbers: (1, 2, 3)\n",
      "Letters: ('a', 'b', 'c')\n",
      "\n",
      "============================================================\n"
     ]
    }
   ],
   "source": [
    "# Unzipping\n",
    "pairs = [(1, 'a'), (2, 'b'), (3, 'c')]\n",
    "numbers, letters = zip(*pairs)  # * unpacks the list\n",
    "print(f\"Pairs: {pairs}\")\n",
    "print(f\"Numbers: {numbers}\")\n",
    "print(f\"Letters: {letters}\")\n",
    "\n",
    "print(\"\\n\" + \"=\"*60)"
   ]
  },
  {
   "cell_type": "code",
   "execution_count": 68,
   "id": "599e6753-ed4a-4c0e-8e46-857ecf8e8047",
   "metadata": {},
   "outputs": [],
   "source": [
    "# =========================\n",
    "# REAL-WORLD EXAMPLES\n",
    "# =========================\n",
    "# Practical applications of loops"
   ]
  },
  {
   "cell_type": "code",
   "execution_count": 69,
   "id": "3f2624b8-641b-4b3b-a675-c00882fe04ff",
   "metadata": {},
   "outputs": [
    {
     "name": "stdout",
     "output_type": "stream",
     "text": [
      "1. PROCESSING STUDENT DATA:\n",
      "  Alice:\n",
      "    Grades: [85, 90, 78, 92]\n",
      "    Average: 86.2\n",
      "    Range: 78-92\n",
      "  Bob:\n",
      "    Grades: [76, 82, 88, 85]\n",
      "    Average: 82.8\n",
      "    Range: 76-88\n",
      "  Charlie:\n",
      "    Grades: [92, 95, 89, 94]\n",
      "    Average: 92.5\n",
      "    Range: 89-95\n"
     ]
    }
   ],
   "source": [
    "\n",
    "# Example 1: Data processing\n",
    "print(\"1. PROCESSING STUDENT DATA:\")\n",
    "students = [\n",
    "    {\"name\": \"Alice\", \"grades\": [85, 90, 78, 92]},\n",
    "    {\"name\": \"Bob\", \"grades\": [76, 82, 88, 85]},\n",
    "    {\"name\": \"Charlie\", \"grades\": [92, 95, 89, 94]}\n",
    "]\n",
    "\n",
    "for student in students:\n",
    "    name = student[\"name\"]\n",
    "    grades = student[\"grades\"]\n",
    "    average = sum(grades) / len(grades)\n",
    "    max_grade = max(grades)\n",
    "    min_grade = min(grades)\n",
    "    \n",
    "    print(f\"  {name}:\")\n",
    "    print(f\"    Grades: {grades}\")\n",
    "    print(f\"    Average: {average:.1f}\")\n",
    "    print(f\"    Range: {min_grade}-{max_grade}\")\n"
   ]
  },
  {
   "cell_type": "code",
   "execution_count": 70,
   "id": "a4697313-ae12-4a86-b8ad-1e10569aee4b",
   "metadata": {},
   "outputs": [
    {
     "name": "stdout",
     "output_type": "stream",
     "text": [
      "\n",
      "2. PROCESSING FILE TYPES:\n",
      "  Text files: ['document.txt']\n",
      "  Images: ['image.jpg', 'photo.png']\n",
      "  Python scripts: ['script.py']\n",
      "  Data files: ['data.csv']\n"
     ]
    }
   ],
   "source": [
    "# Example 2: File processing simulation\n",
    "print(\"\\n2. PROCESSING FILE TYPES:\")\n",
    "files = [\"document.txt\", \"image.jpg\", \"script.py\", \"data.csv\", \"photo.png\"]\n",
    "\n",
    "file_types = {\n",
    "    \"txt\": \"Text files\",\n",
    "    \"jpg\": \"Images\", \n",
    "    \"png\": \"Images\",\n",
    "    \"py\": \"Python scripts\",\n",
    "    \"csv\": \"Data files\"\n",
    "}\n",
    "\n",
    "categorized = {}\n",
    "for filename in files:\n",
    "    extension = filename.split(\".\")[-1]\n",
    "    category = file_types.get(extension, \"Unknown\")\n",
    "    \n",
    "    if category not in categorized:\n",
    "        categorized[category] = []\n",
    "    categorized[category].append(filename)\n",
    "\n",
    "for category, files_list in categorized.items():\n",
    "    print(f\"  {category}: {files_list}\")"
   ]
  },
  {
   "cell_type": "code",
   "execution_count": 71,
   "id": "726c81c7-9201-48f3-8533-bcb42282a935",
   "metadata": {},
   "outputs": [
    {
     "name": "stdout",
     "output_type": "stream",
     "text": [
      "\n",
      "3. SHOPPING CART CALCULATION:\n",
      "  Shopping Cart:\n",
      "    Laptop: $999.99 x 1 = $999.99\n",
      "    Mouse: $25.50 x 2 = $51.00\n",
      "    Keyboard: $75.00 x 1 = $75.00\n",
      "    Monitor: $299.99 x 1 = $299.99\n",
      "  Subtotal: $1425.98\n",
      "  Tax (8%): $114.08\n",
      "  Total: $1540.06\n",
      "\n",
      "============================================================\n"
     ]
    }
   ],
   "source": [
    "# Example 3: Shopping cart calculation\n",
    "print(\"\\n3. SHOPPING CART CALCULATION:\")\n",
    "cart_items = [\n",
    "    {\"name\": \"Laptop\", \"price\": 999.99, \"quantity\": 1},\n",
    "    {\"name\": \"Mouse\", \"price\": 25.50, \"quantity\": 2},\n",
    "    {\"name\": \"Keyboard\", \"price\": 75.00, \"quantity\": 1},\n",
    "    {\"name\": \"Monitor\", \"price\": 299.99, \"quantity\": 1}\n",
    "]\n",
    "\n",
    "total = 0\n",
    "print(\"  Shopping Cart:\")\n",
    "for item in cart_items:\n",
    "    name = item[\"name\"]\n",
    "    price = item[\"price\"]\n",
    "    quantity = item[\"quantity\"]\n",
    "    subtotal = price * quantity\n",
    "    total += subtotal\n",
    "    \n",
    "    print(f\"    {name}: ${price:.2f} x {quantity} = ${subtotal:.2f}\")\n",
    "\n",
    "tax_rate = 0.08\n",
    "tax = total * tax_rate\n",
    "final_total = total + tax\n",
    "\n",
    "print(f\"  Subtotal: ${total:.2f}\")\n",
    "print(f\"  Tax (8%): ${tax:.2f}\")\n",
    "print(f\"  Total: ${final_total:.2f}\")\n",
    "\n",
    "print(\"\\n\" + \"=\"*60)"
   ]
  },
  {
   "cell_type": "code",
   "execution_count": null,
   "id": "d9a3aa1c-13ed-4f51-8339-0f8445e7aae6",
   "metadata": {},
   "outputs": [],
   "source": []
  },
  {
   "cell_type": "code",
   "execution_count": 72,
   "id": "47a5f6ab-12eb-406d-8082-f1be086de7fa",
   "metadata": {},
   "outputs": [],
   "source": [
    "\n",
    "# =========================\n",
    "# PERFORMANCE CONSIDERATIONS\n",
    "# =========================\n",
    "# Writing efficient loops"
   ]
  },
  {
   "cell_type": "code",
   "execution_count": 73,
   "id": "62d48777-f0f4-4840-b9d5-fb4af8f265e1",
   "metadata": {},
   "outputs": [
    {
     "name": "stdout",
     "output_type": "stream",
     "text": [
      "Traditional loop: 0.000310 seconds\n",
      "List comprehension: 0.000173 seconds\n",
      "Comprehension is 1.8x faster\n"
     ]
    }
   ],
   "source": [
    "# Tip 1: List comprehensions are faster than loops\n",
    "import time\n",
    "\n",
    "# Timing traditional loop\n",
    "start_time = time.time()\n",
    "squares_loop = []\n",
    "for i in range(1000):\n",
    "    squares_loop.append(i ** 2)\n",
    "loop_time = time.time() - start_time\n",
    "\n",
    "# Timing list comprehension\n",
    "start_time = time.time()\n",
    "squares_comp = [i ** 2 for i in range(1000)]\n",
    "comp_time = time.time() - start_time\n",
    "\n",
    "print(f\"Traditional loop: {loop_time:.6f} seconds\")\n",
    "print(f\"List comprehension: {comp_time:.6f} seconds\")\n",
    "print(f\"Comprehension is {loop_time/comp_time:.1f}x faster\")"
   ]
  },
  {
   "cell_type": "code",
   "execution_count": 74,
   "id": "40cd7d2a-c7c8-4a16-8b20-55c6064c16ad",
   "metadata": {},
   "outputs": [
    {
     "name": "stdout",
     "output_type": "stream",
     "text": [
      "\n",
      "Avoid repeated lookups:\n",
      "Stored method reference for efficiency\n"
     ]
    }
   ],
   "source": [
    "# Tip 2: Avoid repeated attribute lookups\n",
    "print(\"\\nAvoid repeated lookups:\")\n",
    "data = [1, 2, 3, 4, 5] * 100\n",
    "\n",
    "# Inefficient - repeated .append lookup\n",
    "# result = []\n",
    "# for item in data:\n",
    "#     result.append(item * 2)\n",
    "\n",
    "# Efficient - store method reference\n",
    "result = []\n",
    "append = result.append  # Store method reference\n",
    "for item in data:\n",
    "    append(item * 2)\n",
    "\n",
    "print(\"Stored method reference for efficiency\")"
   ]
  },
  {
   "cell_type": "code",
   "execution_count": 75,
   "id": "e75c89cd-3368-47c4-9817-e473fa66ed6d",
   "metadata": {},
   "outputs": [
    {
     "name": "stdout",
     "output_type": "stream",
     "text": [
      "\n",
      "Use sets for membership testing:\n",
      "Found in set (much faster!)\n",
      "\n",
      "============================================================\n"
     ]
    }
   ],
   "source": [
    "# Tip 3: Use appropriate data structures\n",
    "print(\"\\nUse sets for membership testing:\")\n",
    "large_list = list(range(10000))\n",
    "large_set = set(range(10000))\n",
    "\n",
    "# Slow: searching in list\n",
    "# if 9999 in large_list:  # O(n) operation\n",
    "\n",
    "# Fast: searching in set\n",
    "if 9999 in large_set:  # O(1) operation\n",
    "    print(\"Found in set (much faster!)\")\n",
    "\n",
    "print(\"\\n\" + \"=\"*60)\n"
   ]
  },
  {
   "cell_type": "code",
   "execution_count": null,
   "id": "8c4f59fd-f2e0-467d-be44-5ea133d63d28",
   "metadata": {},
   "outputs": [],
   "source": []
  },
  {
   "cell_type": "code",
   "execution_count": 76,
   "id": "2f37fb8d-2083-41bc-8969-a30433eb8bcc",
   "metadata": {},
   "outputs": [],
   "source": [
    "# =========================\n",
    "# COMMON MISTAKES\n",
    "# =========================\n",
    "# Pitfalls to avoid when using loops"
   ]
  },
  {
   "cell_type": "code",
   "execution_count": 77,
   "id": "ba5c80f3-9680-4fb1-bc86-867ffc23ce45",
   "metadata": {},
   "outputs": [
    {
     "name": "stdout",
     "output_type": "stream",
     "text": [
      "❌ MISTAKE 1: Modifying list while iterating\n",
      "Correctly filtered list: [1, 3, 5]\n"
     ]
    }
   ],
   "source": [
    "print(\"❌ MISTAKE 1: Modifying list while iterating\")\n",
    "# Don't do this!\n",
    "numbers = [1, 2, 3, 4, 5]\n",
    "# for num in numbers:\n",
    "#     if num % 2 == 0:\n",
    "#         numbers.remove(num)  # BAD: modifies list during iteration\n",
    "\n",
    "# Do this instead:\n",
    "numbers = [1, 2, 3, 4, 5]\n",
    "numbers = [num for num in numbers if num % 2 != 0]  # Create new list\n",
    "print(f\"Correctly filtered list: {numbers}\")"
   ]
  },
  {
   "cell_type": "code",
   "execution_count": 78,
   "id": "78b47aad-3d7c-4f0a-9ae4-0d9ebd8ea325",
   "metadata": {},
   "outputs": [
    {
     "name": "stdout",
     "output_type": "stream",
     "text": [
      "\n",
      "❌ MISTAKE 2: Infinite while loops\n",
      "Always make sure while loop condition can become False!\n",
      "Count: 1\n",
      "Count: 2\n",
      "Count: 3\n"
     ]
    }
   ],
   "source": [
    "print(\"\\n❌ MISTAKE 2: Infinite while loops\")\n",
    "print(\"Always make sure while loop condition can become False!\")\n",
    "# count = 1\n",
    "# while count <= 5:\n",
    "#     print(count)\n",
    "#     # Forgot to increment count! Infinite loop!\n",
    "\n",
    "# Correct version:\n",
    "count = 1\n",
    "while count <= 3:  # Limited to prevent infinite loop in example\n",
    "    print(f\"Count: {count}\")\n",
    "    count += 1  # Don't forget this!"
   ]
  },
  {
   "cell_type": "code",
   "execution_count": 79,
   "id": "8ad9fe0d-4245-4a35-9b72-db3e595cadf8",
   "metadata": {},
   "outputs": [
    {
     "name": "stdout",
     "output_type": "stream",
     "text": [
      "\n",
      "❌ MISTAKE 3: Using range() incorrectly\n",
      "Remember: range(5) gives 0,1,2,3,4 (not 1,2,3,4,5)\n",
      "range(5): [0, 1, 2, 3, 4]\n",
      "range(1,6): [1, 2, 3, 4, 5]\n"
     ]
    }
   ],
   "source": [
    "print(\"\\n❌ MISTAKE 3: Using range() incorrectly\")\n",
    "print(\"Remember: range(5) gives 0,1,2,3,4 (not 1,2,3,4,5)\")\n",
    "print(f\"range(5): {list(range(5))}\")\n",
    "print(f\"range(1,6): {list(range(1, 6))}\")"
   ]
  },
  {
   "cell_type": "code",
   "execution_count": 80,
   "id": "40db159f-5e53-4ad4-b5ee-35198319286d",
   "metadata": {},
   "outputs": [
    {
     "name": "stdout",
     "output_type": "stream",
     "text": [
      "\n",
      "❌ MISTAKE 4: Unnecessary nested loops\n",
      "Flattened efficiently: [1, 2, 3, 4]\n",
      "\n",
      "============================================================\n"
     ]
    }
   ],
   "source": [
    "print(\"\\n❌ MISTAKE 4: Unnecessary nested loops\")\n",
    "# Inefficient nested loop\n",
    "matrix = [[1, 2], [3, 4]]\n",
    "# flat = []\n",
    "# for row in matrix:\n",
    "#     for item in row:\n",
    "#         flat.append(item)\n",
    "\n",
    "# Better: use list comprehension\n",
    "flat = [item for row in matrix for item in row]\n",
    "print(f\"Flattened efficiently: {flat}\")\n",
    "\n",
    "print(\"\\n\" + \"=\"*60)\n"
   ]
  },
  {
   "cell_type": "code",
   "execution_count": 81,
   "id": "927cd78b-e61e-41d0-9e30-7d11f51af7ad",
   "metadata": {},
   "outputs": [],
   "source": [
    "# =========================\n",
    "# DEBUGGING LOOPS\n",
    "# =========================\n",
    "# Techniques for troubleshooting loops\n"
   ]
  },
  {
   "cell_type": "code",
   "execution_count": 82,
   "id": "f778a02e-3232-4820-9212-5ce87249c9d9",
   "metadata": {},
   "outputs": [
    {
     "name": "stdout",
     "output_type": "stream",
     "text": [
      "\n",
      "1. Add debug prints:\n",
      "  Processing item 0: 1\n",
      "  Processing item 1: 2\n",
      "    Added 4 to result\n",
      "  Processing item 2: 3\n",
      "  Processing item 3: 4\n",
      "    Added 16 to result\n",
      "  Processing item 4: 5\n",
      "Final result: [4, 16]\n"
     ]
    }
   ],
   "source": [
    "# Tip 1: Add print statements\n",
    "numbers = [1, 2, 3, 4, 5]\n",
    "print(\"\\n1. Add debug prints:\")\n",
    "result = []\n",
    "for i, num in enumerate(numbers):\n",
    "    print(f\"  Processing item {i}: {num}\")\n",
    "    if num % 2 == 0:\n",
    "        result.append(num ** 2)\n",
    "        print(f\"    Added {num ** 2} to result\")\n",
    "print(f\"Final result: {result}\")\n"
   ]
  },
  {
   "cell_type": "code",
   "execution_count": 83,
   "id": "1b1bedbb-58b2-44b2-b218-49a44af7ef84",
   "metadata": {},
   "outputs": [
    {
     "name": "stdout",
     "output_type": "stream",
     "text": [
      "\n",
      "2. Step through mentally:\n",
      "   - What is the initial state?\n",
      "   - What happens in each iteration?\n",
      "   - What is the final state?\n"
     ]
    }
   ],
   "source": [
    "# Tip 2: Use a debugger or step through mentally\n",
    "print(\"\\n2. Step through mentally:\")\n",
    "print(\"   - What is the initial state?\")\n",
    "print(\"   - What happens in each iteration?\")\n",
    "print(\"   - What is the final state?\")"
   ]
  },
  {
   "cell_type": "code",
   "execution_count": 84,
   "id": "ad5ad209-1ad6-4844-a335-c0db02fdd0c5",
   "metadata": {},
   "outputs": [
    {
     "name": "stdout",
     "output_type": "stream",
     "text": [
      "\n",
      "3. Test with small data first:\n",
      "   Start with 2-3 items, then scale up\n"
     ]
    }
   ],
   "source": [
    "# Tip 3: Test with small data\n",
    "print(\"\\n3. Test with small data first:\")\n",
    "print(\"   Start with 2-3 items, then scale up\")\n"
   ]
  },
  {
   "cell_type": "code",
   "execution_count": 85,
   "id": "a2f8e7b2-f0c8-4b42-a5f3-1651d7bd9acc",
   "metadata": {},
   "outputs": [
    {
     "name": "stdout",
     "output_type": "stream",
     "text": [
      "\n",
      "4. Check boundaries:\n",
      "   - Does the loop start where you expect?\n",
      "   - Does it end where you expect?\n",
      "   - Are you including/excluding the right elements?\n",
      "\n",
      "============================================================\n"
     ]
    }
   ],
   "source": [
    "\n",
    "# Tip 4: Check loop boundaries\n",
    "print(\"\\n4. Check boundaries:\")\n",
    "print(\"   - Does the loop start where you expect?\")\n",
    "print(\"   - Does it end where you expect?\")\n",
    "print(\"   - Are you including/excluding the right elements?\")\n",
    "\n",
    "print(\"\\n\" + \"=\"*60)"
   ]
  },
  {
   "cell_type": "code",
   "execution_count": 86,
   "id": "e9996411-2da3-4341-9527-cd573eecd93e",
   "metadata": {},
   "outputs": [],
   "source": [
    "# =========================\n",
    "# LOOP PATTERNS AND IDIOMS\n",
    "# =========================\n",
    "# Common Python loop patterns"
   ]
  },
  {
   "cell_type": "code",
   "execution_count": 87,
   "id": "563d182e-1829-45df-a1ca-a0155352ebff",
   "metadata": {},
   "outputs": [
    {
     "name": "stdout",
     "output_type": "stream",
     "text": [
      "1. Accumulator - Sum: 15\n"
     ]
    }
   ],
   "source": [
    "# Pattern 1: Accumulator pattern\n",
    "numbers = [1, 2, 3, 4, 5]\n",
    "total = 0\n",
    "for num in numbers:\n",
    "    total += num\n",
    "print(f\"1. Accumulator - Sum: {total}\")"
   ]
  },
  {
   "cell_type": "code",
   "execution_count": 88,
   "id": "2c168d8a-8399-454e-8e05-0a59d652b0d8",
   "metadata": {},
   "outputs": [
    {
     "name": "stdout",
     "output_type": "stream",
     "text": [
      "2. Filtering - Evens: [2, 4]\n"
     ]
    }
   ],
   "source": [
    "# Pattern 2: Filtering pattern\n",
    "even_numbers = []\n",
    "for num in numbers:\n",
    "    if num % 2 == 0:\n",
    "        even_numbers.append(num)\n",
    "print(f\"2. Filtering - Evens: {even_numbers}\")"
   ]
  },
  {
   "cell_type": "code",
   "execution_count": 89,
   "id": "910d537f-2041-4f04-a9b7-61ec82f90462",
   "metadata": {},
   "outputs": [
    {
     "name": "stdout",
     "output_type": "stream",
     "text": [
      "3. Transformation - Squares: [1, 4, 9, 16, 25]\n"
     ]
    }
   ],
   "source": [
    "# Pattern 3: Transformation pattern\n",
    "squared_numbers = []\n",
    "for num in numbers:\n",
    "    squared_numbers.append(num ** 2)\n",
    "print(f\"3. Transformation - Squares: {squared_numbers}\")"
   ]
  },
  {
   "cell_type": "code",
   "execution_count": 90,
   "id": "004001fc-fc60-4c94-9942-e6fcf7806cc8",
   "metadata": {},
   "outputs": [
    {
     "name": "stdout",
     "output_type": "stream",
     "text": [
      "4. Search - Found 3 at index: 2\n"
     ]
    }
   ],
   "source": [
    "# Pattern 4: Search pattern\n",
    "target = 3\n",
    "found_index = -1\n",
    "for i, num in enumerate(numbers):\n",
    "    if num == target:\n",
    "        found_index = i\n",
    "        break\n",
    "print(f\"4. Search - Found {target} at index: {found_index}\")"
   ]
  },
  {
   "cell_type": "code",
   "execution_count": 91,
   "id": "24340da3-b1e8-4110-abc0-29dd3df5fd9c",
   "metadata": {},
   "outputs": [
    {
     "name": "stdout",
     "output_type": "stream",
     "text": [
      "5. Counting - Even numbers: 2\n"
     ]
    }
   ],
   "source": [
    "# Pattern 5: Counting pattern\n",
    "count_even = 0\n",
    "for num in numbers:\n",
    "    if num % 2 == 0:\n",
    "        count_even += 1\n",
    "print(f\"5. Counting - Even numbers: {count_even}\")"
   ]
  },
  {
   "cell_type": "code",
   "execution_count": 92,
   "id": "1d68a7fb-8de8-4abb-9b1b-537d5d620d92",
   "metadata": {},
   "outputs": [
    {
     "name": "stdout",
     "output_type": "stream",
     "text": [
      "6. Min/Max - Min: 1, Max: 9\n",
      "\n",
      "============================================================\n"
     ]
    }
   ],
   "source": [
    "# Pattern 6: Min/Max finding\n",
    "numbers = [3, 7, 2, 9, 1, 5]\n",
    "min_val = numbers[0]\n",
    "max_val = numbers[0]\n",
    "for num in numbers[1:]:\n",
    "    if num < min_val:\n",
    "        min_val = num\n",
    "    if num > max_val:\n",
    "        max_val = num\n",
    "print(f\"6. Min/Max - Min: {min_val}, Max: {max_val}\")\n",
    "\n",
    "print(\"\\n\" + \"=\"*60)"
   ]
  },
  {
   "cell_type": "code",
   "execution_count": null,
   "id": "23b09387-4165-479f-9f22-a2f5074ccda7",
   "metadata": {},
   "outputs": [],
   "source": []
  },
  {
   "cell_type": "code",
   "execution_count": 93,
   "id": "f2a0be5c-fa8a-463d-b443-9f4427c1f4c3",
   "metadata": {},
   "outputs": [],
   "source": [
    "# =========================\n",
    "# WHEN TO USE WHAT\n",
    "# =========================\n",
    "# Choosing the right loop type"
   ]
  },
  {
   "cell_type": "code",
   "execution_count": 94,
   "id": "2ebb507c-ac88-4833-9825-1255c2f2f53f",
   "metadata": {},
   "outputs": [
    {
     "name": "stdout",
     "output_type": "stream",
     "text": [
      "=== WHEN TO USE WHAT ===\n",
      "🔄 FOR LOOPS - Use when:\n",
      "  ✅ You know how many iterations you need\n",
      "  ✅ You're iterating over a collection\n",
      "  ✅ You need the index or position\n",
      "  Examples: Processing lists, counting, iterating ranges\n",
      "\n",
      "⏳ WHILE LOOPS - Use when:\n",
      "  ✅ You don't know how many iterations you need\n",
      "  ✅ You're waiting for a condition to change\n",
      "  ✅ You're implementing user input loops\n",
      "  Examples: User menus, game loops, input validation\n",
      "\n",
      "📋 LIST COMPREHENSIONS - Use when:\n",
      "  ✅ Creating a new list from an existing iterable\n",
      "  ✅ The logic is simple (1-2 lines)\n",
      "  ✅ You want concise, readable code\n",
      "  Examples: Filtering, transforming, simple calculations\n",
      "\n",
      "🚫 AVOID LIST COMPREHENSIONS when:\n",
      "  ❌ The logic is complex (multiple conditions)\n",
      "  ❌ You need side effects (printing, file writing)\n",
      "  ❌ It becomes hard to read\n",
      "\n",
      "============================================================\n"
     ]
    }
   ],
   "source": [
    "print(\"=== WHEN TO USE WHAT ===\")\n",
    "\n",
    "print(\"🔄 FOR LOOPS - Use when:\")\n",
    "print(\"  ✅ You know how many iterations you need\")\n",
    "print(\"  ✅ You're iterating over a collection\")\n",
    "print(\"  ✅ You need the index or position\")\n",
    "print(\"  Examples: Processing lists, counting, iterating ranges\")\n",
    "\n",
    "print(\"\\n⏳ WHILE LOOPS - Use when:\")\n",
    "print(\"  ✅ You don't know how many iterations you need\")\n",
    "print(\"  ✅ You're waiting for a condition to change\")\n",
    "print(\"  ✅ You're implementing user input loops\")\n",
    "print(\"  Examples: User menus, game loops, input validation\")\n",
    "\n",
    "print(\"\\n📋 LIST COMPREHENSIONS - Use when:\")\n",
    "print(\"  ✅ Creating a new list from an existing iterable\")\n",
    "print(\"  ✅ The logic is simple (1-2 lines)\")\n",
    "print(\"  ✅ You want concise, readable code\")\n",
    "print(\"  Examples: Filtering, transforming, simple calculations\")\n",
    "\n",
    "print(\"\\n🚫 AVOID LIST COMPREHENSIONS when:\")\n",
    "print(\"  ❌ The logic is complex (multiple conditions)\")\n",
    "print(\"  ❌ You need side effects (printing, file writing)\")\n",
    "print(\"  ❌ It becomes hard to read\")\n",
    "\n",
    "print(\"\\n\" + \"=\"*60)"
   ]
  },
  {
   "cell_type": "code",
   "execution_count": 95,
   "id": "fd1915a8-dd92-46de-bd1f-5e4baafb9a55",
   "metadata": {},
   "outputs": [],
   "source": [
    "\n",
    "# =========================\n",
    "# SUMMARY\n",
    "# ========================="
   ]
  },
  {
   "cell_type": "code",
   "execution_count": 96,
   "id": "80bdf75c-ccfb-49ad-aff1-148c03f4ff3d",
   "metadata": {},
   "outputs": [
    {
     "name": "stdout",
     "output_type": "stream",
     "text": [
      "=== SUMMARY ===\n",
      "\n",
      "🔄 LOOP TYPES:\n",
      "• for loops: Iterate over collections, ranges, sequences\n",
      "• while loops: Repeat while condition is True\n",
      "• List comprehensions: Create lists concisely\n",
      "• Dict/Set comprehensions: Create dicts/sets concisely\n",
      "• Generator expressions: Memory-efficient iteration\n",
      "\n",
      "🛠️ IMPORTANT FUNCTIONS:\n",
      "• range(): Generate number sequences\n",
      "• enumerate(): Get index and value\n",
      "• zip(): Combine multiple iterables\n",
      "• break: Exit loop early\n",
      "• continue: Skip current iteration\n",
      "\n",
      "🎯 BEST PRACTICES:\n",
      "• Use for loops for known iterations\n",
      "• Use while loops for unknown iterations\n",
      "• Use list comprehensions for simple transformations\n",
      "• Avoid modifying collections while iterating\n",
      "• Use meaningful variable names\n",
      "• Consider performance for large datasets\n",
      "\n",
      "🚀 REMEMBER:\n",
      "Loops are the workhorses of programming!\n",
      "They let you process data, repeat actions, and solve complex problems.\n",
      "Master them, and you can handle any repetitive task efficiently!\n",
      "\n",
      "======================================================================\n",
      "END OF LOOPS GUIDE\n",
      "======================================================================\n"
     ]
    }
   ],
   "source": [
    "print(\"=== SUMMARY ===\")\n",
    "print()\n",
    "print(\"🔄 LOOP TYPES:\")\n",
    "print(\"• for loops: Iterate over collections, ranges, sequences\")\n",
    "print(\"• while loops: Repeat while condition is True\")\n",
    "print(\"• List comprehensions: Create lists concisely\")\n",
    "print(\"• Dict/Set comprehensions: Create dicts/sets concisely\")\n",
    "print(\"• Generator expressions: Memory-efficient iteration\")\n",
    "print()\n",
    "print(\"🛠️ IMPORTANT FUNCTIONS:\")\n",
    "print(\"• range(): Generate number sequences\")\n",
    "print(\"• enumerate(): Get index and value\")\n",
    "print(\"• zip(): Combine multiple iterables\")\n",
    "print(\"• break: Exit loop early\")\n",
    "print(\"• continue: Skip current iteration\")\n",
    "print()\n",
    "print(\"🎯 BEST PRACTICES:\")\n",
    "print(\"• Use for loops for known iterations\")\n",
    "print(\"• Use while loops for unknown iterations\")\n",
    "print(\"• Use list comprehensions for simple transformations\")\n",
    "print(\"• Avoid modifying collections while iterating\")\n",
    "print(\"• Use meaningful variable names\")\n",
    "print(\"• Consider performance for large datasets\")\n",
    "print()\n",
    "print(\"🚀 REMEMBER:\")\n",
    "print(\"Loops are the workhorses of programming!\")\n",
    "print(\"They let you process data, repeat actions, and solve complex problems.\")\n",
    "print(\"Master them, and you can handle any repetitive task efficiently!\")\n",
    "\n",
    "print(\"\\n\" + \"=\"*70)\n",
    "print(\"END OF LOOPS GUIDE\")\n",
    "print(\"=\"*70)"
   ]
  },
  {
   "cell_type": "code",
   "execution_count": null,
   "id": "126b06c2-1b5e-46e4-a28b-84e1e6b6dc8a",
   "metadata": {},
   "outputs": [],
   "source": []
  }
 ],
 "metadata": {
  "kernelspec": {
   "display_name": "Python 3 (ipykernel)",
   "language": "python",
   "name": "python3"
  },
  "language_info": {
   "codemirror_mode": {
    "name": "ipython",
    "version": 3
   },
   "file_extension": ".py",
   "mimetype": "text/x-python",
   "name": "python",
   "nbconvert_exporter": "python",
   "pygments_lexer": "ipython3",
   "version": "3.11.13"
  }
 },
 "nbformat": 4,
 "nbformat_minor": 5
}
