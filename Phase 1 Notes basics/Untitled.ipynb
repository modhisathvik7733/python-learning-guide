{
 "cells": [
  {
   "cell_type": "code",
   "execution_count": 1,
   "id": "03f63088-fa30-4756-9921-4961c2f9607a",
   "metadata": {},
   "outputs": [
    {
     "name": "stdout",
     "output_type": "stream",
     "text": [
      "\n",
      "=== PUBLIC MEMBERS ===\n",
      "Direct access: I'm public\n",
      "Method call: Public method called\n"
     ]
    }
   ],
   "source": [
    "\n",
    "# =============================================================================\n",
    "# 1. PUBLIC MEMBERS (DEFAULT)\n",
    "# =============================================================================\n",
    "\"\"\"\n",
    "- No special syntax\n",
    "- Accessible anywhere\n",
    "- Recommended for class API\n",
    "\"\"\"\n",
    "\n",
    "class PublicDemo:\n",
    "    def __init__(self):\n",
    "        # Public attributes (no underscores)\n",
    "        self.public_attr = \"I'm public\"\n",
    "        \n",
    "    def public_method(self):\n",
    "        \"\"\"Public method - part of class interface\"\"\"\n",
    "        return \"Public method called\"\n",
    "\n",
    "# Usage example\n",
    "print(\"\\n=== PUBLIC MEMBERS ===\")\n",
    "obj = PublicDemo()\n",
    "print(\"Direct access:\", obj.public_attr)\n",
    "print(\"Method call:\", obj.public_method())\n"
   ]
  },
  {
   "cell_type": "code",
   "execution_count": 2,
   "id": "7e12e62d-f519-4969-926f-18f47733a29d",
   "metadata": {},
   "outputs": [
    {
     "name": "stdout",
     "output_type": "stream",
     "text": [
      "\n",
      "=== PROTECTED MEMBERS ===\n",
      "Direct access (risky): I'm protected\n",
      "Via public wrapper: Via wrapper: Protected method called\n",
      "Through subclass: Subclass access: I'm protected\n"
     ]
    }
   ],
   "source": [
    "\n",
    "# =============================================================================\n",
    "# 2. PROTECTED MEMBERS (SINGLE UNDERSCORE _)\n",
    "# =============================================================================\n",
    "\"\"\"\n",
    "- Convention: \"Internal use, accessible but don't touch directly\"\n",
    "- Accessible to class and subclasses\n",
    "- Not imported with 'from module import *'\n",
    "\"\"\"\n",
    "\n",
    "class ProtectedDemo:\n",
    "    def __init__(self):\n",
    "        # Protected attribute (single underscore)\n",
    "        self._protected_attr = \"I'm protected\"\n",
    "    \n",
    "    def _protected_method(self):\n",
    "        \"\"\"Protected method - for internal/subclass use\"\"\"\n",
    "        return \"Protected method called\"\n",
    "    \n",
    "    def public_wrapper(self):\n",
    "        \"\"\"Proper way to access protected members\"\"\"\n",
    "        return f\"Via wrapper: {self._protected_method()}\"\n",
    "\n",
    "class SubClass(ProtectedDemo):\n",
    "    def access_protected(self):\n",
    "        \"\"\"Subclasses can access protected members\"\"\"\n",
    "        return f\"Subclass access: {self._protected_attr}\"\n",
    "\n",
    "# Usage example\n",
    "print(\"\\n=== PROTECTED MEMBERS ===\")\n",
    "protected_obj = ProtectedDemo()\n",
    "sub_obj = SubClass()\n",
    "\n",
    "# Direct access (discouraged but possible)\n",
    "print(\"Direct access (risky):\", protected_obj._protected_attr)\n",
    "\n",
    "# Proper access patterns\n",
    "print(\"Via public wrapper:\", protected_obj.public_wrapper())\n",
    "print(\"Through subclass:\", sub_obj.access_protected())"
   ]
  },
  {
   "cell_type": "code",
   "execution_count": 3,
   "id": "ecde39ce-bbd1-4bd6-bb6a-7be1f86ac77e",
   "metadata": {},
   "outputs": [
    {
     "name": "stdout",
     "output_type": "stream",
     "text": [
      "\n",
      "=== PRIVATE MEMBERS ===\n",
      "Public access method: Safe access: Private method called\n",
      "Direct access error: 'PrivateDemo' object has no attribute '__private_attr'\n",
      "Mangled attribute name: ['_PrivateDemo__private_attr', '_PrivateDemo__private_method', '__class__', '__delattr__', '__dict__', '__dir__', '__doc__', '__eq__', '__firstlineno__', '__format__', '__ge__', '__getattribute__', '__getstate__', '__gt__', '__hash__', '__init__', '__init_subclass__', '__le__', '__lt__', '__module__', '__ne__', '__new__', '__reduce__', '__reduce_ex__', '__repr__', '__setattr__', '__sizeof__', '__static_attributes__', '__str__', '__subclasshook__', '__weakref__', 'public_access']\n",
      "Mangling bypass: I'm private\n"
     ]
    }
   ],
   "source": [
    "\n",
    "# =============================================================================\n",
    "# 3. PRIVATE MEMBERS (DOUBLE UNDERSCORE __)\n",
    "# =============================================================================\n",
    "\"\"\"\n",
    "- Name mangling prevents accidental access\n",
    "- Renamed to _ClassName__private_name\n",
    "- Accessible via mangled name but strongly discouraged\n",
    "\"\"\"\n",
    "\n",
    "class PrivateDemo:\n",
    "    def __init__(self):\n",
    "        # Private attribute (double underscore)\n",
    "        self.__private_attr = \"I'm private\"\n",
    "    \n",
    "    def __private_method(self):\n",
    "        \"\"\"Private method - name will be mangled\"\"\"\n",
    "        return \"Private method called\"\n",
    "    \n",
    "    def public_access(self):\n",
    "        \"\"\"Safe way to access private members\"\"\"\n",
    "        return f\"Safe access: {self.__private_method()}\"\n",
    "\n",
    "# Usage example\n",
    "print(\"\\n=== PRIVATE MEMBERS ===\")\n",
    "private_obj = PrivateDemo()\n",
    "\n",
    "# Proper access through public method\n",
    "print(\"Public access method:\", private_obj.public_access())\n",
    "\n",
    "# Direct access fails (due to name mangling)\n",
    "try:\n",
    "    print(private_obj.__private_attr)\n",
    "except AttributeError as e:\n",
    "    print(\"Direct access error:\", e)\n",
    "\n",
    "# Name mangling demonstration\n",
    "print(\"Mangled attribute name:\", dir(private_obj))\n",
    "print(\"Mangling bypass:\", private_obj._PrivateDemo__private_attr)\n"
   ]
  },
  {
   "cell_type": "code",
   "execution_count": 4,
   "id": "24ba966e-6d37-4fb4-8b72-f4ac9773978d",
   "metadata": {},
   "outputs": [
    {
     "name": "stdout",
     "output_type": "stream",
     "text": [
      "\n",
      "=== PROPERTY-BASED ACCESS ===\n",
      "Initial balance: 100\n",
      "Updated balance: 150\n",
      "Validation error: Balance cannot be negative\n"
     ]
    }
   ],
   "source": [
    "# =============================================================================\n",
    "# 4. PROPERTY-BASED ACCESS CONTROL (@property)\n",
    "# =============================================================================\n",
    "\"\"\"\n",
    "- Preferred way for attribute validation\n",
    "- Uses @property for getters and @attr.setter for setters\n",
    "- Maintains encapsulation with clean syntax\n",
    "\"\"\"\n",
    "\n",
    "class BankAccount:\n",
    "    def __init__(self, balance):\n",
    "        # Private attribute with validation\n",
    "        self.__balance = balance\n",
    "    \n",
    "    @property\n",
    "    def balance(self):\n",
    "        \"\"\"Getter with access control\"\"\"\n",
    "        return self.__balance\n",
    "    \n",
    "    @balance.setter\n",
    "    def balance(self, value):\n",
    "        \"\"\"Setter with validation logic\"\"\"\n",
    "        if value < 0:\n",
    "            raise ValueError(\"Balance cannot be negative\")\n",
    "        self.__balance = value\n",
    "\n",
    "# Usage example\n",
    "print(\"\\n=== PROPERTY-BASED ACCESS ===\")\n",
    "account = BankAccount(100)\n",
    "\n",
    "# Using property accessors\n",
    "print(\"Initial balance:\", account.balance)  # Calls getter\n",
    "account.balance = 150  # Calls setter\n",
    "print(\"Updated balance:\", account.balance)\n",
    "\n",
    "# Validation test\n",
    "try:\n",
    "    account.balance = -50\n",
    "except ValueError as e:\n",
    "    print(\"Validation error:\", e)\n"
   ]
  },
  {
   "cell_type": "code",
   "execution_count": 5,
   "id": "ab0cd02a-7ece-4fdf-b92e-c5362c99220b",
   "metadata": {},
   "outputs": [
    {
     "name": "stdout",
     "output_type": "stream",
     "text": [
      "\n",
      "=== MODULE-LEVEL PRIVACY ===\n",
      "Direct access in module: I'm module-protected\n"
     ]
    }
   ],
   "source": [
    "# =============================================================================\n",
    "# 5. MODULE-LEVEL PRIVACY\n",
    "# =============================================================================\n",
    "\"\"\"\n",
    "- Names starting with _ won't be imported with 'from module import *'\n",
    "- Create module.py:\n",
    "    public_var = \"I'm public\"\n",
    "    _protected_var = \"I'm module-protected\"\n",
    "- In other files:\n",
    "    from module import *  # Only imports public_var\n",
    "\"\"\"\n",
    "\n",
    "# Simulating module privacy in current context\n",
    "public_var = \"I'm public\"\n",
    "_protected_var = \"I'm module-protected\"\n",
    "\n",
    "print(\"\\n=== MODULE-LEVEL PRIVACY ===\")\n",
    "print(\"Direct access in module:\", _protected_var)\n",
    "\n",
    "# Note: When imported with 'from module import *', _protected_var won't be available\n",
    "\n"
   ]
  },
  {
   "cell_type": "code",
   "execution_count": 6,
   "id": "111c68b5-3c08-4ad0-8f4e-6244eafadb7c",
   "metadata": {},
   "outputs": [
    {
     "name": "stdout",
     "output_type": "stream",
     "text": [
      "\n",
      "=== CHEAT SHEET ===\n",
      "\n",
      "+----------------+----------------------+-------------------------------------+\n",
      "| Type           | Syntax               | Convention                          |\n",
      "+----------------+----------------------+-------------------------------------+\n",
      "| Public         | name                 | Class API, external use            |\n",
      "| Protected      | _name                | Internal/Subclass use              |\n",
      "| Private        | __name               | Class implementation only          |\n",
      "| Property       | @property/@attr.setter| Managed attribute access           |\n",
      "+----------------+----------------------+-------------------------------------+\n",
      "\n"
     ]
    }
   ],
   "source": [
    "# =============================================================================\n",
    "# 6. ACCESS MODIFIER CHEAT SHEET\n",
    "# =============================================================================\n",
    "\"\"\"\n",
    "| TYPE       | SYNTAX      | ACCESSIBILITY       | CONVENTION                          |\n",
    "|------------|-------------|---------------------|-------------------------------------|\n",
    "| Public     | name        | Anywhere            | Class API, safe for external use    |\n",
    "| Protected  | _name       | Class + subclasses  | \"Handle with care\" - internal logic |\n",
    "| Private    | __name      | Class only          | \"Don't touch\" - implementation      |\n",
    "| Property   | @property   | Controlled access   | Validated/managed attributes        |\n",
    "\"\"\"\n",
    "\n",
    "print(\"\\n=== CHEAT SHEET ===\")\n",
    "print(\"\"\"\n",
    "+----------------+----------------------+-------------------------------------+\n",
    "| Type           | Syntax               | Convention                          |\n",
    "+----------------+----------------------+-------------------------------------+\n",
    "| Public         | name                 | Class API, external use            |\n",
    "| Protected      | _name                | Internal/Subclass use              |\n",
    "| Private        | __name               | Class implementation only          |\n",
    "| Property       | @property/@attr.setter| Managed attribute access           |\n",
    "+----------------+----------------------+-------------------------------------+\n",
    "\"\"\")\n"
   ]
  },
  {
   "cell_type": "code",
   "execution_count": 7,
   "id": "41221ad0-2a5a-46b4-bc0a-b19c7043e3b2",
   "metadata": {},
   "outputs": [
    {
     "name": "stdout",
     "output_type": "stream",
     "text": [
      "\n",
      "=== BEST PRACTICES ===\n",
      "- Public: Default for most class members\n",
      "- Protected: For implementation details shared with subclasses\n",
      "- Private: Only when necessary to prevent accidental access\n",
      "- Properties: When you need validation or computed attributes\n",
      "- Always respect the underscore conventions!\n"
     ]
    }
   ],
   "source": [
    "\n",
    "# =============================================================================\n",
    "# 7. BEST PRACTICES\n",
    "# =============================================================================\n",
    "\"\"\"\n",
    "1. Use public for class interfaces\n",
    "2. Use protected (_prefix) for subclass APIs\n",
    "3. Use private (__prefix) only to prevent name clashes\n",
    "4. Prefer properties over getter/setter methods\n",
    "5. Respect conventions - don't access protected/private externally\n",
    "6. 90% of attributes should be public\n",
    "\"\"\"\n",
    "\n",
    "print(\"\\n=== BEST PRACTICES ===\")\n",
    "print(\"- Public: Default for most class members\")\n",
    "print(\"- Protected: For implementation details shared with subclasses\")\n",
    "print(\"- Private: Only when necessary to prevent accidental access\")\n",
    "print(\"- Properties: When you need validation or computed attributes\")\n",
    "print(\"- Always respect the underscore conventions!\")\n"
   ]
  },
  {
   "cell_type": "code",
   "execution_count": 8,
   "id": "0673c906-2663-4e2a-a8c8-a30a9e1896f5",
   "metadata": {},
   "outputs": [
    {
     "name": "stdout",
     "output_type": "stream",
     "text": [
      "\n",
      "=== NAME MANGLING ===\n",
      "Mangling in action: Parent: Original, Child: Subclass version\n"
     ]
    }
   ],
   "source": [
    "# =============================================================================\n",
    "# 8. SPECIAL CASE: NAME MANGLING DETAILS\n",
    "# =============================================================================\n",
    "\"\"\"\n",
    "Private attributes get renamed to _ClassName__attribute:\n",
    "- Prevents accidental override in subclasses\n",
    "- Not true privacy - can be accessed via mangled name\n",
    "- Use only when name collision protection is needed\n",
    "\"\"\"\n",
    "\n",
    "class NameManglingDemo:\n",
    "    def __init__(self):\n",
    "        self.__private = \"Original\"\n",
    "\n",
    "class SubClass(NameManglingDemo):\n",
    "    def __init__(self):\n",
    "        super().__init__()\n",
    "        self.__private = \"Subclass version\"  # Doesn't override parent's\n",
    "        \n",
    "    def show_both(self):\n",
    "        return f\"Parent: {self._NameManglingDemo__private}, Child: {self.__private}\"\n",
    "\n",
    "print(\"\\n=== NAME MANGLING ===\")\n",
    "sub = SubClass()\n",
    "print(\"Mangling in action:\", sub.show_both())\n"
   ]
  },
  {
   "cell_type": "code",
   "execution_count": 9,
   "id": "9d31054b-cf17-47d4-82b7-79f15fe70407",
   "metadata": {},
   "outputs": [
    {
     "name": "stdout",
     "output_type": "stream",
     "text": [
      "\n",
      "=== USAGE GUIDE ===\n",
      "Public: Default for clean, simple interfaces\n",
      "Protected: When creating inheritance hierarchies\n",
      "Private: Rarely, only for name collision prevention\n",
      "Properties: When attribute access requires logic\n"
     ]
    }
   ],
   "source": [
    "# =============================================================================\n",
    "# 9. WHEN TO USE WHICH?\n",
    "# =============================================================================\n",
    "\"\"\"\n",
    "| SITUATION                            | RECOMMENDATION      |\n",
    "|--------------------------------------|---------------------|\n",
    "| General class API                    | Public              |\n",
    "| Methods for subclass override        | Protected           |\n",
    "| Attributes needing validation        | Property            |\n",
    "| Preventing name clashes in hierarchy | Private             |\n",
    "| Module internal helpers              | _protected (module) |\n",
    "\"\"\"\n",
    "\n",
    "print(\"\\n=== USAGE GUIDE ===\")\n",
    "print(\"Public: Default for clean, simple interfaces\")\n",
    "print(\"Protected: When creating inheritance hierarchies\")\n",
    "print(\"Private: Rarely, only for name collision prevention\")\n",
    "print(\"Properties: When attribute access requires logic\")"
   ]
  },
  {
   "cell_type": "code",
   "execution_count": null,
   "id": "43a68425-28c7-4a31-bce6-b6769db546e8",
   "metadata": {},
   "outputs": [],
   "source": []
  }
 ],
 "metadata": {
  "kernelspec": {
   "display_name": "Python 3 (ipykernel)",
   "language": "python",
   "name": "python3"
  },
  "language_info": {
   "codemirror_mode": {
    "name": "ipython",
    "version": 3
   },
   "file_extension": ".py",
   "mimetype": "text/x-python",
   "name": "python",
   "nbconvert_exporter": "python",
   "pygments_lexer": "ipython3",
   "version": "3.13.5"
  }
 },
 "nbformat": 4,
 "nbformat_minor": 5
}
