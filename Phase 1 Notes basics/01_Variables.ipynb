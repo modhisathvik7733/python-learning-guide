{
 "cells": [
  {
   "cell_type": "code",
   "execution_count": 1,
   "id": "f3e7582d-e0c3-4873-89df-9b55d478af4c",
   "metadata": {},
   "outputs": [],
   "source": [
    "# Variables and Data Types in Python"
   ]
  },
  {
   "cell_type": "code",
   "execution_count": 2,
   "id": "9d12e6f9-45ca-47d1-9673-84c2aac23453",
   "metadata": {},
   "outputs": [],
   "source": [
    "# Integer\n",
    "age = 25\n",
    "# Integers are whole numbers, positive or negative, without decimals.\n",
    "# Secret: Python integers can be arbitrarily large (limited by memory)."
   ]
  },
  {
   "cell_type": "code",
   "execution_count": 3,
   "id": "19a461ac-7534-46dc-a8e9-3b4f3d0628fd",
   "metadata": {},
   "outputs": [],
   "source": [
    "# Float\n",
    "height = 5.9\n",
    "# Floats are numbers with decimal points.\n",
    "# Secret: Floats can represent very large or very small numbers, but may lose precision for very long decimals."
   ]
  },
  {
   "cell_type": "code",
   "execution_count": 4,
   "id": "93e59f65-6338-464e-b76e-51213f32f46a",
   "metadata": {},
   "outputs": [],
   "source": [
    "# String\n",
    "name = \"Alice\"\n",
    "# Strings are sequences of characters, enclosed in quotes.\n",
    "# Secret: Strings are immutable (cannot be changed after creation).\n",
    "# You can use single (' '), double (\" \"), or triple quotes (''' ''' or \"\"\" \"\"\").\n",
    "# You can't change a single character like: name[0] = \"M\"  # This will give an error"
   ]
  },
  {
   "cell_type": "code",
   "execution_count": 5,
   "id": "ceee2ae3-5f43-43bf-a054-80de503320ae",
   "metadata": {},
   "outputs": [
    {
     "name": "stdout",
     "output_type": "stream",
     "text": [
      "Bob\n"
     ]
    }
   ],
   "source": [
    "name = \"Bob\"  # This is allowed! Now 'name' refers to a new string object\n",
    "print(name)   # Output: Bob\n"
   ]
  },
  {
   "cell_type": "code",
   "execution_count": 6,
   "id": "0b365dbc-60c1-40e3-9238-e3427b3040ed",
   "metadata": {},
   "outputs": [],
   "source": [
    "# Boolean\n",
    "is_student = True\n",
    "# Booleans represent True or False values.\n",
    "# Secret: In Python, True is treated as 1 and False as 0 in numeric operations."
   ]
  },
  {
   "cell_type": "code",
   "execution_count": 7,
   "id": "0d0fb82e-7e2d-4aeb-a8a3-2712648bee79",
   "metadata": {},
   "outputs": [],
   "source": [
    "# Tuple\n",
    "coordinates = (10.0, 20.0)\n",
    "# Tuples are ordered, immutable collections (cannot be changed after creation).\n",
    "# Secret: Tuples can be used as keys in dictionaries (if all elements are immutable)."
   ]
  },
  {
   "cell_type": "code",
   "execution_count": 8,
   "id": "f55bd189-8749-4ec0-9d28-e12fcae317df",
   "metadata": {},
   "outputs": [],
   "source": [
    "bad_key = ([1, 2], 3)  # Contains a list, which is mutable\n",
    "#my_dict = {bad_key: \"Error\"}  # This will raise a TypeError"
   ]
  },
  {
   "cell_type": "code",
   "execution_count": 9,
   "id": "e0d56e26-45a2-412a-bbb2-a8f40bb41fdd",
   "metadata": {},
   "outputs": [],
   "source": [
    "# Dictionary\n",
    "person = {\"name\": \"Alice\", \"age\": 25}\n",
    "# Dictionaries store key-value pairs, keys must be unique and immutable.\n",
    "# Secret: Dictionary keys can be any immutable type (string, number, tuple, etc.).\n",
    "# Access values with person[\"name\"]\n"
   ]
  },
  {
   "cell_type": "code",
   "execution_count": 10,
   "id": "ffe6f3e3-469d-4cef-98ce-c78634ef89ca",
   "metadata": {},
   "outputs": [],
   "source": [
    "# Set\n",
    "unique_numbers = {1, 2, 3, 2}\n",
    "# Sets are unordered collections of unique elements.\n",
    "# Secret: Sets are great for removing duplicates and doing set operations (union, intersection, etc.)."
   ]
  },
  {
   "cell_type": "code",
   "execution_count": 11,
   "id": "cdd7d5b4-7a5b-4bc9-96ff-97336403bd32",
   "metadata": {},
   "outputs": [],
   "source": [
    "# NoneType\n",
    "nothing = None\n",
    "# None represents the absence of a value.\n",
    "# Secret: None is often used as a default value for function arguments or to indicate 'no result'."
   ]
  },
  {
   "cell_type": "code",
   "execution_count": 12,
   "id": "5c6ac6e8-5839-4aa0-8876-4c808a3894e4",
   "metadata": {},
   "outputs": [
    {
     "name": "stdout",
     "output_type": "stream",
     "text": [
      "Name: Bob\n",
      "Age: 25\n",
      "Height: 5.9\n",
      "Is Student: True\n",
      "(10.0, 20.0)\n"
     ]
    }
   ],
   "source": [
    "print(\"Name:\", name)\n",
    "print(\"Age:\", age)\n",
    "print(\"Height:\", height)\n",
    "print(\"Is Student:\", is_student)\n",
    "print(coordinates)\n",
    "\n"
   ]
  },
  {
   "cell_type": "code",
   "execution_count": null,
   "id": "a1a28671-2053-4dcd-adfc-8f6141612bd4",
   "metadata": {},
   "outputs": [],
   "source": []
  }
 ],
 "metadata": {
  "kernelspec": {
   "display_name": "Python 3 (ipykernel)",
   "language": "python",
   "name": "python3"
  },
  "language_info": {
   "codemirror_mode": {
    "name": "ipython",
    "version": 3
   },
   "file_extension": ".py",
   "mimetype": "text/x-python",
   "name": "python",
   "nbconvert_exporter": "python",
   "pygments_lexer": "ipython3",
   "version": "3.11.13"
  }
 },
 "nbformat": 4,
 "nbformat_minor": 5
}
