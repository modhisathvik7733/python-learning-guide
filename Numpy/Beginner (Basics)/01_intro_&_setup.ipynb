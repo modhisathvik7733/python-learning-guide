{
 "cells": [
  {
   "cell_type": "markdown",
   "id": "e2e004d0-b7bc-4cc4-9d48-8a3f03ae8145",
   "metadata": {},
   "source": [
    "# Introduction to NumPy\n",
    "\n",
    "## What is NumPy?\n",
    "- Numerical Python library for scientific computing\n",
    "- Core object: `ndarray` (N-dimensional array)\n",
    "- Key advantages:\n",
    "  - Optimized C backend for speed\n",
    "  - Vectorized operations (no explicit loops)\n",
    "  - Memory efficiency (fixed-type elements)\n",
    "  - Broadcasting capability\n",
    "  - Linear algebra/Fourier transform tools\n",
    "\n",
    "##                                     Why Faster Than Python Lists?\n",
    "| Feature          | NumPy Arrays          | Python Lists         |\n",
    "|------------------|-----------------------|----------------------|\n",
    "| Storage          | Contiguous memory     | Pointer references  |\n",
    "| Data Type        | Homogeneous (fixed)   | Heterogeneous       |\n",
    "| Operations       | Vectorized            | Element-wise loops  |\n",
    "| Memory Usage     | Compact               | Overhead per item   |\n",
    "| Speed            | 10-100x faster        | Slower              |"
   ]
  },
  {
   "cell_type": "code",
   "execution_count": 2,
   "id": "7c720a51-2ce3-4f66-a195-6edcfac77329",
   "metadata": {},
   "outputs": [
    {
     "name": "stdout",
     "output_type": "stream",
     "text": [
      "NumPy version: 2.1.3\n",
      "Python version: 3.13.5 | packaged by Anaconda, Inc. | (main, Jun 12 2025, 11:23:37) [Clang 14.0.6 ]\n"
     ]
    }
   ],
   "source": [
    "import numpy as np\n",
    "import sys\n",
    "\n",
    "# Verify installation\n",
    "print(f\"NumPy version: {np.__version__}\")\n",
    "print(f\"Python version: {sys.version}\")\n",
    "\n",
    "# Conventional alias check\n",
    "assert np.array([1, 2, 3]).sum() == 6, \"Import failed!\""
   ]
  },
  {
   "cell_type": "markdown",
   "id": "bb0b6da4-21ee-4a4d-89f8-6742578a9865",
   "metadata": {},
   "source": [
    "## Memory & Speed Comparison\n",
    "Demonstration:\n",
    "1. Create 10 million elements container\n",
    "2. Perform element-wise squaring\n",
    "3. Compare execution time and memory usage"
   ]
  },
  {
   "cell_type": "code",
   "execution_count": 9,
   "id": "304e2cb1-f6fe-41fc-9bc1-17534e43c13b",
   "metadata": {},
   "outputs": [
    {
     "name": "stdout",
     "output_type": "stream",
     "text": [
      "\n",
      "Python list time: 0.5153 seconds\n",
      "NumPy array time: 0.0091 seconds\n",
      "Speed ratio: 56.5x faster\n",
      "\n",
      "Python list memory: 329.10 MB\n",
      "NumPy array memory: 80.00 MB\n",
      "Memory ratio: 4.1x more efficient\n"
     ]
    }
   ],
   "source": [
    "import time\n",
    "import random\n",
    "\n",
    "size = 10_000_000  # 10 million elements\n",
    "\n",
    "# Python list test\n",
    "py_list = [random.random() for _ in range(size)]\n",
    "start = time.time()\n",
    "py_squared = [x**2 for x in py_list]\n",
    "py_time = time.time() - start\n",
    "\n",
    "# NumPy array test\n",
    "np_array = np.random.random(size)\n",
    "start = time.time()\n",
    "np_squared = np_array**2\n",
    "np_time = time.time() - start\n",
    "\n",
    "# Memory comparison\n",
    "list_mem = sys.getsizeof(py_list) + sum(sys.getsizeof(x) for x in py_list)\n",
    "np_mem = np_array.nbytes\n",
    "# Results\n",
    "print(f\"\\nPython list time: {py_time:.4f} seconds\")\n",
    "print(f\"NumPy array time: {np_time:.4f} seconds\")\n",
    "print(f\"Speed ratio: {py_time/np_time:.1f}x faster\")\n",
    "print(f\"\\nPython list memory: {list_mem/1e6:.2f} MB\")\n",
    "print(f\"NumPy array memory: {np_mem/1e6:.2f} MB\")\n",
    "print(f\"Memory ratio: {list_mem/np_mem:.1f}x more efficient\")"
   ]
  },
  {
   "cell_type": "markdown",
   "id": "2c0864ea-b9fb-4266-80c0-667a73a8bba4",
   "metadata": {},
   "source": [
    "## Key Takeaways\n",
    "- **Always use vectorization**: Avoid Python loops with NumPy\n",
    "- **Fixed data types**: Specify `dtype` for memory control\n",
    "- **Memory layout**: Contiguous blocks = faster processing\n",
    "- **Broadcasting**: Enables operations between different shapes\n",
    "\n",
    "> **Next Steps**: Array creation methods (`np.zeros()`, `np.linspace()`), indexing, and math operations."
   ]
  },
  {
   "cell_type": "code",
   "execution_count": 10,
   "id": "b4be41b9-929a-4b98-b192-42a39c0e115f",
   "metadata": {},
   "outputs": [
    {
     "name": "stdout",
     "output_type": "stream",
     "text": [
      "Original array: [0 1 2 3 4 5 6 7 8 9]\n",
      "Squared array:  [ 0  1  4  9 16 25 36 49 64 81]\n"
     ]
    }
   ],
   "source": [
    "\n",
    "# Create an array of numbers from 0 to 9\n",
    "arr = np.arange(10)  \n",
    "print(\"Original array:\", arr)\n",
    "\n",
    "# Square every element (vectorized operation)\n",
    "squared = arr ** 2  \n",
    "print(\"Squared array: \", squared)"
   ]
  },
  {
   "cell_type": "code",
   "execution_count": null,
   "id": "85c728ff-1a0e-47df-9e62-4f156869a5b5",
   "metadata": {},
   "outputs": [],
   "source": []
  }
 ],
 "metadata": {
  "kernelspec": {
   "display_name": "Python 3 (ipykernel)",
   "language": "python",
   "name": "python3"
  },
  "language_info": {
   "codemirror_mode": {
    "name": "ipython",
    "version": 3
   },
   "file_extension": ".py",
   "mimetype": "text/x-python",
   "name": "python",
   "nbconvert_exporter": "python",
   "pygments_lexer": "ipython3",
   "version": "3.13.5"
  }
 },
 "nbformat": 4,
 "nbformat_minor": 5
}
