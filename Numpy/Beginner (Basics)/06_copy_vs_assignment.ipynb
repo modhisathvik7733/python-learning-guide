{
 "cells": [
  {
   "cell_type": "markdown",
   "id": "0c47d491-0d90-4928-8495-97460f82bb92",
   "metadata": {},
   "source": [
    "# Copy vs View in NumPy\n",
    "- **Assignment (`=`)** → Creates a **reference** (view) to original data  \n",
    "- **`.copy()`** → Creates a **duplicate** with new memory allocation  \n",
    "\n",
    "Key difference:  \n",
    "- Modifying a **view** affects original  \n",
    "- Modifying a **copy** leaves original unchanged  "
   ]
  },
  {
   "cell_type": "code",
   "execution_count": 1,
   "id": "e278faac-d25f-4292-a021-8e39b1cea083",
   "metadata": {},
   "outputs": [
    {
     "name": "stdout",
     "output_type": "stream",
     "text": [
      "Original after view modification: [99  2  3  4]\n",
      "Is same object? True\n"
     ]
    }
   ],
   "source": [
    "import numpy as np\n",
    "\n",
    "# Original array\n",
    "original = np.array([1, 2, 3, 4])\n",
    "\n",
    "# Assignment creates VIEW (reference)\n",
    "view_ref = original\n",
    "\n",
    "# Modify view\n",
    "view_ref[0] = 99\n",
    "\n",
    "print(\"Original after view modification:\", original)  # [99, 2, 3, 4]\n",
    "print(\"Is same object?\", original is view_ref)        # True"
   ]
  },
  {
   "cell_type": "markdown",
   "id": "8f25389e-903b-48be-84db-fb5445d822dc",
   "metadata": {},
   "source": [
    "### Slicing = Implicit View  \n",
    "Most slicing operations return **views** (not copies):\n",
    "```python\n",
    "slice_view = original[1:3]  # Shares memory with original"
   ]
  },
  {
   "cell_type": "code",
   "execution_count": 14,
   "id": "829d9e21-c489-4fc0-a848-2e797c3bff75",
   "metadata": {},
   "outputs": [
    {
     "name": "stdout",
     "output_type": "stream",
     "text": [
      "Original after slice mod: [10 99 30 40]\n",
      "Base of slice: True\n",
      "True\n"
     ]
    }
   ],
   "source": [
    "\n",
    "#Cell 4: Code - Slicing View Example**\n",
    "\n",
    "arr = np.array([10, 20, 30, 40])\n",
    "slice_view = arr[1:3]  # View of [20,30]\n",
    "\n",
    "# Modify slice\n",
    "slice_view[0] = 99\n",
    "\n",
    "print(\"Original after slice mod:\", arr)  # [10,99,30,40]\n",
    "print(\"Base of slice:\", slice_view.base is arr)  # True\n",
    "print(np.shares_memory(arr,slice_view))"
   ]
  },
  {
   "cell_type": "code",
   "execution_count": 6,
   "id": "05bb75ce-fb5d-49e9-84f3-c3b361ce72fa",
   "metadata": {},
   "outputs": [
    {
     "name": "stdout",
     "output_type": "stream",
     "text": [
      "Original after copy mod: [1 2 3 4]\n",
      "Copy: [99  2  3  4]\n",
      "Same memory? False\n"
     ]
    }
   ],
   "source": [
    "# Create original\n",
    "original = np.array([1, 2, 3, 4])\n",
    "\n",
    "# Make full copy\n",
    "true_copy = original.copy()\n",
    "\n",
    "# Modify copy\n",
    "true_copy[0] = 99\n",
    "\n",
    "print(\"Original after copy mod:\", original)  # [1,2,3,4] (unchanged)\n",
    "print(\"Copy:\", true_copy)                   # [99,2,3,4]\n",
    "print(\"Same memory?\", np.shares_memory(original, true_copy))  # False"
   ]
  },
  {
   "cell_type": "markdown",
   "id": "26d65caa-5649-4615-b25a-66524e5c0309",
   "metadata": {},
   "source": [
    "## Operations That Create VIEWS\n",
    "1. Basic slicing: `arr[1:5]`  \n",
    "2. Transpose: `arr.T`  \n",
    "3. Reshape: `arr.reshape(...)`  \n",
    "4. Array slicing: `arr[:, 1]`  \n",
    "\n",
    "## Operations That Create COPIES\n",
    "1. Explicit: `arr.copy()`  \n",
    "2. Fancy indexing: `arr[[0,2,4]]`  \n",
    "3. Boolean indexing: `arr[arr > 5]`  "
   ]
  },
  {
   "cell_type": "code",
   "execution_count": 12,
   "id": "f5effceb-c60e-42ac-81d7-25382c64a2c4",
   "metadata": {},
   "outputs": [
    {
     "name": "stdout",
     "output_type": "stream",
     "text": [
      "[[0 1 2 3 4]\n",
      " [5 6 7 8 9]]\n",
      "\n",
      "Slice View:\n",
      "Same object? False\n",
      "Shares memory? True\n",
      "Same data? False\n",
      "\n",
      "Fancy Copy:\n",
      "Same object? False\n",
      "Shares memory? False\n",
      "Same data? False\n"
     ]
    }
   ],
   "source": [
    "def test_memory(arr1, arr2, name):\n",
    "    print(f\"\\n{name}:\")\n",
    "    print(\"Same object?\", arr1 is arr2)\n",
    "    print(\"Shares memory?\", np.shares_memory(arr1, arr2))\n",
    "    print(\"Same data?\", np.array_equal(arr1, arr2))\n",
    "\n",
    "# Test cases\n",
    "arr = np.arange(10)\n",
    "\n",
    "# View examples\n",
    "slice_view = arr[2:5]\n",
    "reshape_view = arr.reshape(2,5)\n",
    "print(reshape_view)\n",
    "test_memory(arr, slice_view, \"Slice View\")\n",
    "\n",
    "# Copy examples\n",
    "fancy_copy = arr[[0,2,4]]\n",
    "bool_copy = arr[arr > 5]\n",
    "test_memory(arr, fancy_copy, \"Fancy Copy\")"
   ]
  },
  {
   "cell_type": "markdown",
   "id": "840122aa-1c20-4448-927e-af4736fa521c",
   "metadata": {},
   "source": [
    "### Practical Implications\n",
    "1. **Memory Efficiency**: Views avoid data duplication  \n",
    "2. **Accidental Modification**: Changing views alters originals  \n",
    "3. **Performance**: Copies have allocation overhead  \n",
    "\n",
    "Bug Example:  \n",
    "```python\n",
    "data = np.array([1,2,3,4])\n",
    "backup = data  # Oops! Should be data.copy()\n",
    "data[0] = 99   # Also changes \"backup\""
   ]
  },
  {
   "cell_type": "code",
   "execution_count": 9,
   "id": "d2a5ae2f-3509-4456-857b-11f089e54318",
   "metadata": {},
   "outputs": [
    {
     "name": "stdout",
     "output_type": "stream",
     "text": [
      "Original after operations:\n",
      " [[99  2  3]\n",
      " [ 4  5  6]\n",
      " [ 7  8  9]]\n"
     ]
    }
   ],
   "source": [
    "\n",
    "###Cell 9: Code - When to Use Copy**\n",
    "\n",
    "# Scenario 1: Preserve original data\n",
    "original = np.random.rand(1000)\n",
    "processed = original * 2  # Creates NEW array (automatic copy)\n",
    "processed[0] = 0          # Safe, original unchanged\n",
    "\n",
    "# Scenario 2: Break dependency\n",
    "matrix = np.arange(1,10).reshape(3,3)\n",
    "slice_view = matrix[:2, :2]  # View of top-left\n",
    "slice_copy = matrix[:2, :2].copy()  # Independent copy\n",
    "\n",
    "slice_view[0,0] = 99  # Affects matrix!\n",
    "slice_copy[0,0] = 100 # Doesn't affect matrix\n",
    "\n",
    "print(\"Original after operations:\\n\", matrix)"
   ]
  },
  {
   "cell_type": "markdown",
   "id": "436813a2-525c-4523-84a9-64d4870b5c1f",
   "metadata": {},
   "source": [
    "## How to Verify\n",
    "1. `arr.base`: Returns None if owns data (copy), else reference  \n",
    "2. `np.shares_memory(a, b)`: Checks memory overlap  \n",
    "3. `id(arr)`: Compare object IDs (not foolproof)  "
   ]
  },
  {
   "cell_type": "code",
   "execution_count": 10,
   "id": "42eb5aad-5632-4173-a49a-01a18376a098",
   "metadata": {},
   "outputs": [
    {
     "name": "stdout",
     "output_type": "stream",
     "text": [
      "\n",
      "Slice view base: True\n",
      "Memory shared? True\n",
      "\n",
      "Copy base: True\n",
      "Memory shared? False\n"
     ]
    }
   ],
   "source": [
    "arr = np.array([1,2,3])\n",
    "\n",
    "# View checks\n",
    "slice_view = arr[1:]\n",
    "print(\"\\nSlice view base:\", slice_view.base is arr)  # True\n",
    "print(\"Memory shared?\", np.shares_memory(arr, slice_view))  # True\n",
    "\n",
    "# Copy checks\n",
    "full_copy = arr.copy()\n",
    "print(\"\\nCopy base:\", full_copy.base is None)  # True (owns data)\n",
    "print(\"Memory shared?\", np.shares_memory(arr, full_copy))  # False"
   ]
  },
  {
   "cell_type": "code",
   "execution_count": 11,
   "id": "8ec046e3-1566-4bfe-aaa7-456f89608bc8",
   "metadata": {},
   "outputs": [
    {
     "name": "stdout",
     "output_type": "stream",
     "text": [
      "99\n"
     ]
    }
   ],
   "source": [
    "a = np.array([1,2,3])\n",
    "b = a[:]  # Creates view, not copy!\n",
    "b[0] = 99\n",
    "print(a[0])  # What happens?"
   ]
  },
  {
   "cell_type": "code",
   "execution_count": null,
   "id": "c5875fe0-1fa0-403b-b518-752fcb23c62a",
   "metadata": {},
   "outputs": [],
   "source": []
  }
 ],
 "metadata": {
  "kernelspec": {
   "display_name": "Python 3 (ipykernel)",
   "language": "python",
   "name": "python3"
  },
  "language_info": {
   "codemirror_mode": {
    "name": "ipython",
    "version": 3
   },
   "file_extension": ".py",
   "mimetype": "text/x-python",
   "name": "python",
   "nbconvert_exporter": "python",
   "pygments_lexer": "ipython3",
   "version": "3.13.5"
  }
 },
 "nbformat": 4,
 "nbformat_minor": 5
}
