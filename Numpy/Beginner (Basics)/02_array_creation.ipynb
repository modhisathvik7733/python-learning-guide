{
 "cells": [
  {
   "cell_type": "markdown",
   "id": "a152a948-7691-4958-bd3f-347e4d470534",
   "metadata": {},
   "source": [
    "### 1. `np.array()` - Create Arrays from Sequences\n",
    "Converts Python lists/tuples into NumPy arrays.  \n",
    "**Key Notes**:\n",
    "- Infers data type automatically\n",
    "- Creates copies (not views) of the original data\n",
    "- Supports multi-dimensional arrays"
   ]
  },
  {
   "cell_type": "code",
   "execution_count": 2,
   "id": "978a35b0-7ec2-4982-b644-aa8dd1dcafd4",
   "metadata": {},
   "outputs": [
    {
     "name": "stdout",
     "output_type": "stream",
     "text": [
      "1D Array: [1 2 3 4]\n",
      "\n",
      "2D Array:\n",
      " [[1.1 2.2]\n",
      " [3.3 4.4]]\n",
      "Data type: float64\n",
      "\n",
      "From tuple: [5 6 7]\n"
     ]
    }
   ],
   "source": [
    "import numpy as np\n",
    "\n",
    "# 1D array from list\n",
    "list_1d = [1, 2, 3, 4]\n",
    "arr_1d = np.array(list_1d)\n",
    "print(\"1D Array:\", arr_1d)\n",
    "\n",
    "# 2D array from nested list\n",
    "list_2d = [[1.1, 2.2], [3.3, 4.4]]\n",
    "arr_2d = np.array(list_2d)\n",
    "print(\"\\n2D Array:\\n\", arr_2d)\n",
    "print(\"Data type:\", arr_2d.dtype)\n",
    "\n",
    "# From tuple\n",
    "tuple_data = (5, 6, 7)\n",
    "arr_tuple = np.array(tuple_data)\n",
    "print(\"\\nFrom tuple:\", arr_tuple)"
   ]
  },
  {
   "cell_type": "markdown",
   "id": "19ca7142-348e-452b-9004-8922e530e320",
   "metadata": {},
   "source": [
    "### 2. `np.zeros()`, `np.ones()`, `np.full()` - Prefilled Arrays\n",
    "Create arrays with initial values:\n",
    "- `zeros(shape)`: All 0s\n",
    "- `ones(shape)`: All 1s\n",
    "- `full(shape, value)`: Fill with any value\n",
    "\n",
    "**Parameters**:\n",
    "- `shape`: Tuple (rows, columns) for 2D, single number for 1D\n",
    "- `dtype`: Optional data type (e.g., np.int32)"
   ]
  },
  {
   "cell_type": "code",
   "execution_count": 3,
   "id": "d7efde08-fa50-4093-9b39-080bf37eb1f1",
   "metadata": {},
   "outputs": [
    {
     "name": "stdout",
     "output_type": "stream",
     "text": [
      "1D zeros: [0. 0. 0. 0. 0.]\n",
      "\n",
      "2D ones:\n",
      " [[1. 1.]\n",
      " [1. 1.]\n",
      " [1. 1.]]\n",
      "\n",
      "Full array (7s):\n",
      " [[7 7 7 7]\n",
      " [7 7 7 7]\n",
      " [7 7 7 7]\n",
      " [7 7 7 7]]\n",
      "\n",
      "Integer zeros: [0 0 0]\n"
     ]
    }
   ],
   "source": [
    "# 1D zeros\n",
    "zeros_1d = np.zeros(5)\n",
    "print(\"1D zeros:\", zeros_1d)\n",
    "\n",
    "# 2D ones (3x2 matrix)\n",
    "ones_2d = np.ones((3, 2))\n",
    "print(\"\\n2D ones:\\n\", ones_2d)\n",
    "\n",
    "# Full with custom value (4x4 filled with 7)\n",
    "full_arr = np.full((4, 4), 7)\n",
    "print(\"\\nFull array (7s):\\n\", full_arr)\n",
    "\n",
    "# With data type specification\n",
    "int_zeros = np.zeros(3, dtype=np.int32)\n",
    "print(\"\\nInteger zeros:\", int_zeros)"
   ]
  },
  {
   "cell_type": "markdown",
   "id": "7207cb20-ea5d-40ce-93b7-7e8d509692bd",
   "metadata": {},
   "source": [
    "### 3. `np.arange()` & `np.linspace()` - Sequence Arrays\n",
    "- **`arange(start, stop, step)`**: Like Python's range() but returns array  \n",
    "  (Excludes stop value)\n",
    "- **`linspace(start, stop, num)`**: Evenly spaced numbers over interval  \n",
    "  (Includes stop value)"
   ]
  },
  {
   "cell_type": "code",
   "execution_count": 5,
   "id": "5b501f75-7953-44ae-aac5-4e6ffbc40654",
   "metadata": {},
   "outputs": [
    {
     "name": "stdout",
     "output_type": "stream",
     "text": [
      "arange(0,10,2): [0 2 4 6 8]\n",
      "\n",
      "linspace(0,1,5): [0.   0.25 0.5  0.75 1.  ]\n",
      "\n",
      "Floating step: [0.  0.5 1.  1.5 2. ]\n",
      "\n",
      "Angles for trig: [-3.14159265 -2.81089869 -2.48020473 -2.14951076 -1.8188168 ] ...\n"
     ]
    }
   ],
   "source": [
    "# arange (exclusive stop)\n",
    "arr_arange = np.arange(0, 10, 2)  # 0 to 8, step 2\n",
    "print(\"arange(0,10,2):\", arr_arange)\n",
    "\n",
    "# linspace (inclusive stop)\n",
    "arr_lin = np.linspace(0, 1, 5)  # 5 values from 0 to 1\n",
    "print(\"\\nlinspace(0,1,5):\", arr_lin)\n",
    "\n",
    "# Floating point step\n",
    "arr_float = np.arange(0, 2.5, 0.5)\n",
    "print(\"\\nFloating step:\", arr_float)\n",
    "\n",
    "# 20 points between -π and π\n",
    "angles = np.linspace(-np.pi, np.pi, 20)\n",
    "print(\"\\nAngles for trig:\", angles[:5], \"...\")"
   ]
  },
  {
   "cell_type": "markdown",
   "id": "46f28bf5-770a-49d7-b6a0-901c35aca019",
   "metadata": {},
   "source": [
    "### 4. `np.eye()` - Identity Matrix\n",
    "Creates square identity matrices (1s on diagonal, 0s elsewhere).  \n",
    "**Parameters**:\n",
    "- `N`: Matrix size (N x N)\n",
    "- `k`: Diagonal offset (0=main diagonal)"
   ]
  },
  {
   "cell_type": "code",
   "execution_count": 6,
   "id": "4a669ea7-73a2-4f08-bf7b-8aed8ec30541",
   "metadata": {},
   "outputs": [
    {
     "name": "stdout",
     "output_type": "stream",
     "text": [
      "3x3 Identity:\n",
      " [[1. 0. 0.]\n",
      " [0. 1. 0.]\n",
      " [0. 0. 1.]]\n",
      "\n",
      "Offset diagonal (k=1):\n",
      " [[0. 1. 0. 0.]\n",
      " [0. 0. 1. 0.]\n",
      " [0. 0. 0. 1.]\n",
      " [0. 0. 0. 0.]]\n",
      "\n",
      "5x3 'Identity':\n",
      " [[1. 0. 0.]\n",
      " [0. 1. 0.]\n",
      " [0. 0. 1.]\n",
      " [0. 0. 0.]\n",
      " [0. 0. 0.]]\n"
     ]
    }
   ],
   "source": [
    "# 3x3 identity matrix\n",
    "eye3 = np.eye(3)\n",
    "print(\"3x3 Identity:\\n\", eye3)\n",
    "\n",
    "# 4x4 with offset diagonal\n",
    "eye_offset = np.eye(4, k=1)  # Diagonal shifted up\n",
    "print(\"\\nOffset diagonal (k=1):\\n\", eye_offset)\n",
    "\n",
    "# Non-square identity (5x3)\n",
    "rect_eye = np.eye(5, 3)\n",
    "print(\"\\n5x3 'Identity':\\n\", rect_eye)"
   ]
  },
  {
   "cell_type": "markdown",
   "id": "74c78829-9e7b-411f-b3e6-af1d34cde2c0",
   "metadata": {},
   "source": [
    "### Summary Cheat Sheet\n",
    "| Method                 | Use Case                          | Example                     |\n",
    "|------------------------|-----------------------------------|-----------------------------|\n",
    "| `np.array()`           | Convert existing sequences        | `np.array([[1,2],[3,4]])`   |\n",
    "| `np.zeros()`           | Initialize with 0s                | `np.zeros((3,2))`           |\n",
    "| `np.ones()`            | Initialize with 1s                | `np.ones(5)`                |\n",
    "| `np.full()`            | Initialize with custom value      | `np.full((2,2), 7)`         |\n",
    "| `np.arange()`          | Ranged sequences (exclusive stop) | `np.arange(0,10,2)`         |\n",
    "| `np.linspace()`        | Evenly spaced (inclusive stop)    | `np.linspace(0,1,5)`        |\n",
    "| `np.eye()`             | Identity matrices                 | `np.eye(3)`                 |\n",
    "\n",
    "**Key Tip**: Use `?` in Jupyter to see docs (e.g., `np.arange?`)"
   ]
  },
  {
   "cell_type": "code",
   "execution_count": null,
   "id": "437f398e-0023-41df-bac7-d098ec9856bf",
   "metadata": {},
   "outputs": [],
   "source": []
  },
  {
   "cell_type": "code",
   "execution_count": null,
   "id": "0e8359d3-7d29-443f-ad35-e8e693f75a3e",
   "metadata": {},
   "outputs": [],
   "source": []
  },
  {
   "cell_type": "code",
   "execution_count": null,
   "id": "d0a88780-c785-4eaf-9f08-f11aef7c5d1a",
   "metadata": {},
   "outputs": [],
   "source": []
  }
 ],
 "metadata": {
  "kernelspec": {
   "display_name": "Python 3 (ipykernel)",
   "language": "python",
   "name": "python3"
  },
  "language_info": {
   "codemirror_mode": {
    "name": "ipython",
    "version": 3
   },
   "file_extension": ".py",
   "mimetype": "text/x-python",
   "name": "python",
   "nbconvert_exporter": "python",
   "pygments_lexer": "ipython3",
   "version": "3.13.5"
  }
 },
 "nbformat": 4,
 "nbformat_minor": 5
}
