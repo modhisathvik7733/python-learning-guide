{
 "cells": [
  {
   "cell_type": "markdown",
   "id": "02e6e074-b2d1-4604-9534-eb0b22780072",
   "metadata": {},
   "source": [
    "# Indexing & Slicing in NumPy\n",
    "Key concepts:\n",
    "1. **Indexing**: Access single elements\n",
    "2. **Slicing**: Access subarrays\n",
    "3. **Boolean Indexing**: Filter with conditions\n",
    "4. **Fancy Indexing**: Access non-contiguous elements\n",
    "\n",
    "**Zero-based indexing** applies across all dimensions"
   ]
  },
  {
   "cell_type": "code",
   "execution_count": 1,
   "id": "2f75c98d-65f4-47dc-b9de-a5baeac49195",
   "metadata": {},
   "outputs": [
    {
     "name": "stdout",
     "output_type": "stream",
     "text": [
      "First element: 10\n",
      "Last element: 50\n",
      "Modified array: [10 99 30 40 50]\n"
     ]
    }
   ],
   "source": [
    "import numpy as np\n",
    "\n",
    "arr = np.array([10, 20, 30, 40, 50])\n",
    "\n",
    "# Access single elements\n",
    "print(\"First element:\", arr[0])     # 10\n",
    "print(\"Last element:\", arr[-1])     # 50\n",
    "\n",
    "# Modify elements\n",
    "arr[1] = 99\n",
    "print(\"Modified array:\", arr)       # [10, 99, 30, 40, 50]"
   ]
  },
  {
   "cell_type": "markdown",
   "id": "70da80fb-d7d7-4763-a9d2-30b60092b45a",
   "metadata": {},
   "source": [
    "### 1D Slicing Syntax\n",
    "`arr[start:stop:step]`  \n",
    "- `start`: Inclusive (default 0)  \n",
    "- `stop`: Exclusive (default end)  \n",
    "- `step`: Interval (default 1)  "
   ]
  },
  {
   "cell_type": "code",
   "execution_count": 15,
   "id": "4cffa953-5712-4247-99a0-501bc99909dd",
   "metadata": {},
   "outputs": [
    {
     "name": "stdout",
     "output_type": "stream",
     "text": [
      "First 3: [0 1 2]\n",
      "Last 3: [7 8 9]\n",
      "Every 2nd: [0 2 4 6 8]\n",
      "Reverse: [9 8 7 6 5 4 3 2 1 0]\n",
      "Middle: [3 4 5 6]\n",
      "Assigned slice: [ 0  1 99 99 99  5  6  7  8  9]\n"
     ]
    }
   ],
   "source": [
    "arr = np.arange(10)  # [0,1,2,3,4,5,6,7,8,9]\n",
    "\n",
    "# Basic slices\n",
    "print(\"First 3:\", arr[:3])        # [0,1,2]\n",
    "print(\"Last 3:\", arr[-3:])       # [7,8,9]\n",
    "print(\"Every 2nd:\", arr[::2])    # [0,2,4,6,8]\n",
    "print(\"Reverse:\", arr[::-1])     # [9,8,7,6,5,4,3,2,1,0]\n",
    "print(\"Middle:\", arr[3:7])       # [3,4,5,6]\n",
    "\n",
    "# Slice assignment\n",
    "arr[2:5] = 99\n",
    "print(\"Assigned slice:\", arr)    # [0,1,99,99,99,5,6,7,8,9]"
   ]
  },
  {
   "cell_type": "markdown",
   "id": "392758d6-95d5-41e7-a0be-769d35b73f0b",
   "metadata": {},
   "source": [
    "## 2D Arrays (Matrix Indexing)\n",
    "Syntax: `arr[row_index, col_index]`  \n",
    "Can use:\n",
    "- Integers for specific positions\n",
    "- Slices for ranges\n",
    "- `:` for entire dimension"
   ]
  },
  {
   "cell_type": "code",
   "execution_count": 18,
   "id": "db1394cc-41dc-4807-84f5-6ac58f0d606c",
   "metadata": {},
   "outputs": [
    {
     "name": "stdout",
     "output_type": "stream",
     "text": [
      "Top-left: 1\n",
      "Bottom-right: 9\n",
      "\n",
      "Middle row: [4 5 6]\n",
      "Last column: [3 6 9]\n",
      "\n",
      "Top-left 2x2:\n",
      " [[1 2]\n",
      " [4 5]]\n",
      "\n",
      "Every other row:\n",
      " [[1 2 3]\n",
      " [7 8 9]]\n"
     ]
    }
   ],
   "source": [
    "matrix = np.array([[1, 2, 3], \n",
    "                   [4, 5, 6], \n",
    "                   [7, 8, 9]])\n",
    "\n",
    "# Single element\n",
    "print(\"Top-left:\", matrix[0, 0])    # 1\n",
    "print(\"Bottom-right:\", matrix[2, 2]) # 9\n",
    "\n",
    "# Full row/column\n",
    "print(\"\\nMiddle row:\", matrix[1, :])   # [4,5,6]\n",
    "print(\"Last column:\", matrix[:, -1])  # [3,6,9]\n",
    "\n",
    "# Submatrix\n",
    "print(\"\\nTop-left 2x2:\\n\", matrix[:2, :2])\n",
    "# [[1,2],\n",
    "#  [4,5]]\n",
    "\n",
    "# Step slicing\n",
    "print(\"\\nEvery other row:\\n\", matrix[::2, :])\n",
    "# [[1,2,3],\n",
    "#  [7,8,9]]"
   ]
  },
  {
   "cell_type": "markdown",
   "id": "0c70fde0-2ba6-47a1-9400-69c7f79928bc",
   "metadata": {},
   "source": [
    "## Boolean Indexing\n",
    "Filter elements using conditions.  \n",
    "Returns a view of elements where condition is True."
   ]
  },
  {
   "cell_type": "code",
   "execution_count": 9,
   "id": "7e9a0f8b-e1f1-4759-9d5f-2055d6ac4a26",
   "metadata": {},
   "outputs": [
    {
     "name": "stdout",
     "output_type": "stream",
     "text": [
      ">15: [20 25]\n",
      "Div by 10 OR <8: [ 5 10 20]\n",
      "\n",
      "Matrix:\n",
      " [[7 0 6]\n",
      " [9 1 5]\n",
      " [9 1 8]]\n",
      "Values >5:\n",
      " [7 6 9 9 8]\n"
     ]
    }
   ],
   "source": [
    "arr = np.array([5, 10, 15, 20, 25])\n",
    "\n",
    "# Simple condition\n",
    "print(\">15:\", arr[arr > 15])  # [20,25]\n",
    "\n",
    "# Multiple conditions\n",
    "condition = (arr % 10 == 0) | (arr < 8)\n",
    "print(\"Div by 10 OR <8:\", arr[condition])  # [5,10,20]\n",
    "\n",
    "# 2D example\n",
    "matrix = np.random.randint(0, 10, (3,3))\n",
    "print(\"\\nMatrix:\\n\", matrix)\n",
    "print(\"Values >5:\\n\", matrix[matrix > 5])"
   ]
  },
  {
   "cell_type": "markdown",
   "id": "707581d0-34a7-4fbc-a8c6-046bd58f9419",
   "metadata": {},
   "source": [
    "## Fancy Indexing (Integer Array Indexing)\n",
    "Access non-adjacent elements using index arrays.  \n",
    "Returns a copy, not a view."
   ]
  },
  {
   "cell_type": "code",
   "execution_count": 16,
   "id": "a3238970-50a9-48f2-ac6e-193dd07f7d2d",
   "metadata": {},
   "outputs": [
    {
     "name": "stdout",
     "output_type": "stream",
     "text": [
      "Selected indices: [10 30 50]\n",
      "[10 20 30 40 50]\n",
      "\n",
      "Selected elements: [2 5]\n",
      "\n",
      "First and last rows:\n",
      " [[1 2]\n",
      " [5 6]]\n"
     ]
    }
   ],
   "source": [
    "arr = np.array([10, 20, 30, 40, 50])\n",
    "\n",
    "# 1D fancy indexing\n",
    "indices = [0, 2, 4]\n",
    "print(\"Selected indices:\", arr[indices])  # [10,30,50]\n",
    "print(arr) #the original array is same not changed \n",
    "\n",
    "# 2D fancy indexing\n",
    "matrix = np.array([[1,2], [3,4], [5,6]])\n",
    "row_indices = [0, 2]\n",
    "col_indices = [1, 0]\n",
    "print(\"\\nSelected elements:\", matrix[row_indices, col_indices])  # [2,5]\n",
    "\n",
    "# Combined with slices\n",
    "print(\"\\nFirst and last rows:\\n\", matrix[[0, -1], :])\n",
    "# [[1,2],\n",
    "#  [5,6]]"
   ]
  },
  {
   "cell_type": "markdown",
   "id": "d414d837-c1e2-43db-b39b-6cac5546fa12",
   "metadata": {},
   "source": [
    "## Critical Distinction: Views vs Copies\n",
    "- **Slices**: Return views (modify original)\n",
    "- **Fancy/Boolean Indexing**: Return copies (safe to modify)\n",
    "- **Use `arr.base` to check if view**"
   ]
  },
  {
   "cell_type": "code",
   "execution_count": 11,
   "id": "86252e07-1abd-408a-befd-6467f0ebad49",
   "metadata": {},
   "outputs": [
    {
     "name": "stdout",
     "output_type": "stream",
     "text": [
      "Original modified: [ 0  1 99  3  4  5  6  7  8  9]\n",
      "\n",
      "Original unchanged: [ 0  1 99  3  4  5  6  7  8  9]\n",
      "\n",
      "Is slice a view? True\n",
      "Is fancy a view? False\n"
     ]
    }
   ],
   "source": [
    "arr = np.arange(10)\n",
    "\n",
    "# Slice (view)\n",
    "slice_view = arr[2:5]\n",
    "slice_view[0] = 99\n",
    "print(\"Original modified:\", arr)  # [0,1,99,3,4,5,6,7,8,9]\n",
    "\n",
    "# Fancy indexing (copy)\n",
    "indices = [1,3,5]\n",
    "fancy_copy = arr[indices]\n",
    "fancy_copy[0] = 100\n",
    "print(\"\\nOriginal unchanged:\", arr)  # Still has 99 at index2\n",
    "\n",
    "# Check if view\n",
    "print(\"\\nIs slice a view?\", slice_view.base is arr)  # True\n",
    "print(\"Is fancy a view?\", fancy_copy.base is arr)   # False"
   ]
  },
  {
   "cell_type": "markdown",
   "id": "7cca3f61-cad9-419c-953f-8bce5ba04cda",
   "metadata": {},
   "source": [
    "### Pro Tips\n",
    "1. Use `.copy()` to explicitly create copies\n",
    "2. Combine indexing methods: `matrix[rows, :][:, cols]`\n",
    "3. Ellipsis (`...`) for higher dimensions: `arr[..., 0]`\n",
    "4. `np.where()` for conditional logic"
   ]
  },
  {
   "cell_type": "code",
   "execution_count": 13,
   "id": "72e1818f-d1a6-47e4-9826-a42330c9fefa",
   "metadata": {},
   "outputs": [
    {
     "name": "stdout",
     "output_type": "stream",
     "text": [
      "[[1. 0. 1. 0. 1. 0. 1. 0.]\n",
      " [0. 1. 0. 1. 0. 1. 0. 1.]\n",
      " [1. 0. 1. 0. 1. 0. 1. 0.]\n",
      " [0. 1. 0. 1. 0. 1. 0. 1.]\n",
      " [1. 0. 1. 0. 1. 0. 1. 0.]\n",
      " [0. 1. 0. 1. 0. 1. 0. 1.]\n",
      " [1. 0. 1. 0. 1. 0. 1. 0.]\n",
      " [0. 1. 0. 1. 0. 1. 0. 1.]]\n"
     ]
    }
   ],
   "source": [
    "chess = np.zeros((8,8))\n",
    "chess[::2, ::2] = 1\n",
    "chess[1::2, 1::2] = 1\n",
    "\n",
    "print(chess)"
   ]
  },
  {
   "cell_type": "code",
   "execution_count": null,
   "id": "a7b56b7a-3152-408c-b2c8-00ebf368da3e",
   "metadata": {},
   "outputs": [],
   "source": []
  }
 ],
 "metadata": {
  "kernelspec": {
   "display_name": "Python 3 (ipykernel)",
   "language": "python",
   "name": "python3"
  },
  "language_info": {
   "codemirror_mode": {
    "name": "ipython",
    "version": 3
   },
   "file_extension": ".py",
   "mimetype": "text/x-python",
   "name": "python",
   "nbconvert_exporter": "python",
   "pygments_lexer": "ipython3",
   "version": "3.13.5"
  }
 },
 "nbformat": 4,
 "nbformat_minor": 5
}
