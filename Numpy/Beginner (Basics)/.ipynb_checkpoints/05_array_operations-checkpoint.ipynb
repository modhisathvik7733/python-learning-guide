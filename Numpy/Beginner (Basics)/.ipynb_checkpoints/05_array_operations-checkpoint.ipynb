{
 "cells": [
  {
   "cell_type": "markdown",
   "id": "df1855a5-0441-4222-b6b6-1d600bba5bbd",
   "metadata": {},
   "source": [
    "# Array Operations in NumPy\n",
    "Three key concepts:\n",
    "1. **Element-wise Arithmetic**: Operations applied to each element\n",
    "2. **Broadcasting**: Operations between differently shaped arrays\n",
    "3. **Comparison Operators**: Element-wise comparisons\n",
    "\n",
    "All operations are vectorized (no loops needed)"
   ]
  },
  {
   "cell_type": "code",
   "execution_count": 1,
   "id": "166548d8-435a-4544-a1fe-eb5afc0cbd32",
   "metadata": {},
   "outputs": [
    {
     "name": "stdout",
     "output_type": "stream",
     "text": [
      "Addition: [5 7 9]\n",
      "Subtraction: [3 3 3]\n",
      "Multiplication: [ 4 10 18]\n",
      "Division: [4.  2.5 2. ]\n",
      "Floor Division: [4 2 2]\n",
      "Exponentiation: [1 4 9]\n",
      "Modulus: [0 1 0]\n",
      "\n",
      "Scalar addition: [11 12 13]\n"
     ]
    }
   ],
   "source": [
    "import numpy as np\n",
    "\n",
    "a = np.array([1, 2, 3])\n",
    "b = np.array([4, 5, 6])\n",
    "\n",
    "# Element-wise operations\n",
    "print(\"Addition:\", a + b)        # [5,7,9]\n",
    "print(\"Subtraction:\", b - a)     # [3,3,3]\n",
    "print(\"Multiplication:\", a * b)  # [4,10,18]\n",
    "print(\"Division:\", b / a)        # [4.,2.5,2.]\n",
    "print(\"Floor Division:\", b // a) # [4,2,2]\n",
    "print(\"Exponentiation:\", a ** 2) # [1,4,9]\n",
    "print(\"Modulus:\", b % a)         # [0,1,]\n",
    "\n",
    "# Scalar operations\n",
    "print(\"\\nScalar addition:\", a + 10)  # [11,12,13]"
   ]
  },
  {
   "cell_type": "markdown",
   "id": "b158d05c-d55e-46c4-aef2-5c3ee35921ee",
   "metadata": {},
   "source": [
    "### In-Place Operations\n",
    "Modify arrays without creating copies using `+=`, `*=`, etc."
   ]
  },
  {
   "cell_type": "code",
   "execution_count": 3,
   "id": "0b2e8a60-7b59-4403-8261-3eaeb6a6f902",
   "metadata": {},
   "outputs": [
    {
     "name": "stdout",
     "output_type": "stream",
     "text": [
      "After +=5: [6 7 8]\n",
      "After *=2: [12 14 16]\n",
      "After array subtraction: [11 13 15]\n"
     ]
    }
   ],
   "source": [
    "arr = np.array([1, 2, 3])\n",
    "arr += 5\n",
    "print(\"After +=5:\", arr)  # [6,7,8]\n",
    "\n",
    "arr *= 2\n",
    "print(\"After *=2:\", arr)  # [12,14,16]\n",
    "\n",
    "# Works with arrays too\n",
    "b = np.array([1, 1, 1])\n",
    "arr -= b\n",
    "print(\"After array subtraction:\", arr)  # [11,13,15]"
   ]
  },
  {
   "cell_type": "markdown",
   "id": "4bd0553f-314a-4bb4-bd7b-4dce3a21fedd",
   "metadata": {},
   "source": [
    "## Broadcasting Rules\n",
    "NumPy can operate on arrays with different shapes:\n",
    "1. **Rule 1**: Pad smaller array with 1s on left  \n",
    "   `(3,) → (1,3)`  \n",
    "2. **Rule 2**: Stretch dimensions of size 1 to match  \n",
    "   `(1,3) → (4,3)`  \n",
    "\n",
    "**Valid if**:  \n",
    "- Dimensions are equal, or  \n",
    "- One dimension is 1  \n",
    "\n",
    "Example:  \n",
    "- (3,4) Array\n",
    "- (1,4) Vector\n",
    "\n",
    "- (3,4) Result"
   ]
  },
  {
   "cell_type": "code",
   "execution_count": 18,
   "id": "d7340a31-21ca-4cf2-82aa-a6fbd600c136",
   "metadata": {},
   "outputs": [
    {
     "name": "stdout",
     "output_type": "stream",
     "text": [
      "Vector + 5: [6 7 8]\n",
      "\n",
      "Matrix + Vector:\n",
      " [[2 4 6]\n",
      " [5 7 9]]\n",
      "This is cube \n",
      " [[[1. 1. 1. 1.]\n",
      "  [1. 1. 1. 1.]\n",
      "  [1. 1. 1. 1.]]\n",
      "\n",
      " [[1. 1. 1. 1.]\n",
      "  [1. 1. 1. 1.]\n",
      "  [1. 1. 1. 1.]]]\n",
      "\n",
      "3D + 2D:\n",
      " [[[2. 3. 4. 5.]\n",
      "  [2. 3. 4. 5.]\n",
      "  [2. 3. 4. 5.]]\n",
      "\n",
      " [[2. 3. 4. 5.]\n",
      "  [2. 3. 4. 5.]\n",
      "  [2. 3. 4. 5.]]]\n",
      "\n",
      "Error: operands could not be broadcast together with shapes (2,3) (2,) \n"
     ]
    }
   ],
   "source": [
    "\n",
    "#Cell 6: Code - Broadcasting Examples**\n",
    "\n",
    "# Vector + Scalar\n",
    "vector = np.array([1, 2, 3])\n",
    "print(\"Vector + 5:\", vector + 5)  # [6,7,8]\n",
    "\n",
    "# Matrix + Vector\n",
    "matrix = np.array([[1,2,3], \n",
    "                   [4,5,6]])\n",
    "print(\"\\nMatrix + Vector:\\n\", matrix + vector) \n",
    "# [[2,4,6],\n",
    "#  [5,7,9]]\n",
    "\n",
    "# 3D + 2D\n",
    "cube = np.ones((2,3,4))  # Shape (2,3,4)\n",
    "print(f\"This is cube \\n {cube}\")\n",
    "matrix_2d = np.array([[1,2,3,4]])  # Shape (1,4)\n",
    "print(\"\\n3D + 2D:\\n\", (cube + matrix_2d))  # (2,3,4)\n",
    "\n",
    "# Invalid broadcast\n",
    "try:\n",
    "    matrix + np.array([1,2])  # (2,3) + (2,) → incompatible\n",
    "except ValueError as e:\n",
    "    print(\"\\nError:\", e)"
   ]
  },
  {
   "cell_type": "markdown",
   "id": "b7510f61-2e75-4fae-8a14-38e8f5983aa1",
   "metadata": {},
   "source": [
    "## Element-wise Comparisons\n",
    "Return boolean arrays:  \n",
    "- `==`, `!=`  \n",
    "- `<`, `<=`  \n",
    "- `>`, `>=`  \n",
    "\n",
    "Used for filtering and conditional operations"
   ]
  },
  {
   "cell_type": "code",
   "execution_count": 10,
   "id": "ffa1ccdd-c7b2-4c3c-9681-9f950f037fba",
   "metadata": {},
   "outputs": [
    {
     "name": "stdout",
     "output_type": "stream",
     "text": [
      "Equal: [False  True False]\n",
      "Greater than: [False False  True]\n",
      "Not equal: [ True False  True]\n",
      "\n",
      "Matrix > 5:\n",
      " [[False False False]\n",
      " [False False  True]\n",
      " [ True  True  True]]\n",
      "\n",
      "3 < Values < 7:\n",
      " [[False False False]\n",
      " [ True  True  True]\n",
      " [False False False]]\n"
     ]
    }
   ],
   "source": [
    "a = np.array([1, 2, 3])\n",
    "b = np.array([3, 2, 1])\n",
    "\n",
    "print(\"Equal:\", a == b)        # [False, True, False]\n",
    "print(\"Greater than:\", a > b)  # [False, False, True]\n",
    "print(\"Not equal:\", a != b)    # [True, False, True]\n",
    "\n",
    "# With broadcasting\n",
    "matrix = np.arange(1,10).reshape(3,3)\n",
    "print(\"\\nMatrix > 5:\\n\", matrix > 5)\n",
    "# [[False, False, False],\n",
    "#  [False, False, True],\n",
    "#  [True, True, True]]\n",
    "\n",
    "# Combining conditions\n",
    "condition = (matrix > 3) & (matrix < 7)\n",
    "print(\"\\n3 < Values < 7:\\n\", condition)"
   ]
  },
  {
   "cell_type": "markdown",
   "id": "9b6f62ef-3412-4f23-9e20-348fcff2ce12",
   "metadata": {},
   "source": [
    "### Universal Functions (ufuncs)\n",
    "Element-wise math functions:  \n",
    "- `np.sin()`, `np.cos()`, `np.tan()`  \n",
    "- `np.exp()`, `np.log()`  \n",
    "- `np.sqrt()`, `np.abs()`  \n",
    "\n",
    "Work with broadcasting"
   ]
  },
  {
   "cell_type": "code",
   "execution_count": 11,
   "id": "3ff67701-1db9-4086-9bb9-8fb6b1964a12",
   "metadata": {},
   "outputs": [
    {
     "name": "stdout",
     "output_type": "stream",
     "text": [
      "Sines: [0.0000000e+00 1.0000000e+00 1.2246468e-16]\n",
      "Log10: [0. 1. 2.]\n",
      "\n",
      "Square roots:\n",
      " [[1. 2.]\n",
      " [3. 4.]]\n"
     ]
    }
   ],
   "source": [
    "angles = np.array([0, np.pi/2, np.pi])\n",
    "print(\"Sines:\", np.sin(angles))  # [0,1,0]\n",
    "\n",
    "values = np.array([1, 10, 100])\n",
    "print(\"Log10:\", np.log10(values))  # [0,1,2]\n",
    "\n",
    "# Broadcasting with functions\n",
    "matrix = np.array([[1,4], [9,16]])\n",
    "print(\"\\nSquare roots:\\n\", np.sqrt(matrix)) \n",
    "# [[1,2],\n",
    "#  [3,4]]"
   ]
  },
  {
   "cell_type": "markdown",
   "id": "bd441854-9483-4088-a6a2-228484f26fe9",
   "metadata": {},
   "source": [
    "### Aggregation Functions\n",
    "Reduce arrays to summary statistics:  \n",
    "- `np.sum()`, `np.prod()`  \n",
    "- `np.mean()`, `np.median()`  \n",
    "- `np.min()`, `np.max()`  \n",
    "- `np.std()` (standard deviation)"
   ]
  },
  {
   "cell_type": "code",
   "execution_count": 13,
   "id": "3958fe45-0257-40bf-85f8-0f852027348f",
   "metadata": {},
   "outputs": [
    {
     "name": "stdout",
     "output_type": "stream",
     "text": [
      "Sum all: 7.018788505997501\n",
      "Sum columns: [2.15376462 1.98793766 1.49153589 1.38555034]\n",
      "Max rows: [0.68562874 0.90503481 0.68557958]\n",
      "Mean: 0.5848990421664584\n",
      "Std dev: 0.17213689584232902\n",
      "\n",
      "Mean of values >2: 4.0\n"
     ]
    }
   ],
   "source": [
    "matrix = np.random.rand(3,4)\n",
    "\n",
    "print(\"Sum all:\", np.sum(matrix))\n",
    "print(\"Sum columns:\", np.sum(matrix, axis=0))\n",
    "print(\"Max rows:\", np.max(matrix, axis=1))\n",
    "print(\"Mean:\", np.mean(matrix))\n",
    "print(\"Std dev:\", np.std(matrix))\n",
    "\n",
    "# Combined with conditions\n",
    "values = np.array([1, 2, 3, 4, 5])\n",
    "print(\"\\nMean of values >2:\", np.mean(values[values>2]))"
   ]
  },
  {
   "cell_type": "markdown",
   "id": "aeaba6fa-dc3d-4fa9-8a92-189a4906fba3",
   "metadata": {},
   "source": [
    "### Real-World Use Cases\n",
    "1. **Data normalization**: `(data - mean) / std`  \n",
    "2. **Thresholding**: `image[image > 128] = 255`  \n",
    "3. **Polynomial evaluation**: `x**3 + 2*x**2 + 5`  \n",
    "4. **Distance matrices**: `np.sqrt(x**2 + y**2)`  "
   ]
  },
  {
   "cell_type": "code",
   "execution_count": 31,
   "id": "d2166bc4-6177-485d-b374-2e7db84509df",
   "metadata": {},
   "outputs": [
    {
     "name": "stdout",
     "output_type": "stream",
     "text": [
      "[68.22166319 36.07761109 49.09131334 61.63487366 62.79047634 56.5480436\n",
      " 53.14213923 37.13340786 45.41258368 42.79384933 31.7846939  62.31179424\n",
      " 58.79657504 59.71533151 73.43545959 44.34827314 72.69756557 43.14221395\n",
      " 21.77336037 77.25124894 56.66041272 38.02054121 53.57972931 28.79641676\n",
      " 58.28103557 23.95675689 52.72375615 50.86936668 35.04670215 42.66924694\n",
      " 45.46746409 43.13883164 45.70171581 48.93687571 47.22335615 53.67985984\n",
      " 62.75870207 50.55294103 48.02068825 60.85608429 53.60602314 33.11167045\n",
      " 42.21450099 65.3680119  48.61927553 61.47053549 63.22623588 59.95780689\n",
      " 43.48547771 45.57701928 42.0990705  58.28447053 35.07467319 40.18883474\n",
      " 46.28196856 46.86317666 40.57669177 41.20512613 77.95161567 47.12367134\n",
      " 49.05581837 32.63061353 36.32689186 60.69383249 43.04314785 32.93262645\n",
      " 40.36312593 36.48648845 32.35858232 53.80525991 45.3350733  58.98279779\n",
      " 60.0772987  63.68925739 59.62358156 49.11346326 61.42649499 45.55115707\n",
      " 44.56580332 44.43895388 57.12277769 32.59234297 37.95997316 45.92198602\n",
      " 38.3806965  52.56192062 47.25940401 68.05527079 58.50068153 33.11964249\n",
      " 44.72762553 52.09865819 39.0079782  69.22261751 42.75998186 56.81134849\n",
      " 43.02505981 40.72633059 52.3821172  47.28043298]\n",
      "mean is : 49.07345931679132\n",
      "std is : 11.530853720478397\n",
      "[ 1.66060591e+00 -1.12704996e+00  1.54836969e-03  1.08937418e+00\n",
      "  1.18959249e+00  6.48224707e-01  3.52851577e-01 -1.03548720e+00\n",
      " -3.17485221e-01 -5.44591939e-01 -1.49934826e+00  1.14807934e+00\n",
      "  8.43226005e-01  9.22904102e-01  2.11276640e+00 -4.09786326e-01\n",
      "  2.04877339e+00 -5.14380419e-01 -2.36756962e+00  2.44368633e+00\n",
      "  6.57969791e-01 -9.58551585e-01  3.90801072e-01 -1.75850315e+00\n",
      "  7.98516439e-01 -2.17821707e+00  3.16567786e-01  1.55747997e-01\n",
      " -1.21645435e+00 -5.55397938e-01 -3.12725781e-01 -5.14673746e-01\n",
      " -2.92410570e-01 -1.18450557e-02 -1.60448065e-01  3.99484776e-01\n",
      "  1.18683691e+00  1.28306347e-01 -9.13003574e-02  1.02183457e+00\n",
      "  3.93081374e-01 -1.38426774e+00 -5.94835257e-01  1.41312629e+00\n",
      " -3.93885658e-02  1.07512214e+00  1.22738324e+00  9.43932499e-01\n",
      " -4.84611265e-01 -3.03224732e-01 -6.04845833e-01  7.98814332e-01\n",
      " -1.21402859e+00 -7.70508827e-01 -2.42088819e-01 -1.91684216e-01\n",
      " -7.36872373e-01 -6.82372128e-01  2.50442483e+00 -1.69093115e-01\n",
      " -1.52989037e-03 -1.42598685e+00 -1.10543137e+00  1.00776347e+00\n",
      " -5.22971812e-01 -1.39979513e+00 -7.55393625e-01 -1.09159054e+00\n",
      " -1.44957844e+00  4.10359953e-01 -3.24207219e-01  8.59375959e-01\n",
      "  9.54295289e-01  1.26753824e+00  9.14947193e-01  3.46929547e-03\n",
      "  1.07130278e+00 -3.05467603e-01 -3.90921272e-01 -4.01922143e-01\n",
      "  6.98067859e-01 -1.42930582e+00 -9.63804279e-01 -2.73307889e-01\n",
      " -9.27317532e-01  3.02532786e-01 -1.57321856e-01  1.64617572e+00\n",
      "  8.17564982e-01 -1.38357638e+00 -3.76887427e-01  2.62356886e-01\n",
      " -8.72917250e-01  1.74741252e+00 -5.47529056e-01  6.71059521e-01\n",
      " -5.24540476e-01 -7.23895119e-01  2.86939542e-01 -1.55498143e-01]\n",
      "Normalized mean: 4.621303340002214e-16\n",
      "Normalized std: 1.0\n",
      "\n",
      "Original image:\n",
      " [[197   7 113 142  95]\n",
      " [ 98 253   8  52  81]\n",
      " [118 173  42 254  92]\n",
      " [187 110  89 242 182]\n",
      " [ 52 147 164 246  51]]\n",
      "\n",
      "Thresholded image:\n",
      " [[197   0   0 142   0]\n",
      " [  0 253   0   0   0]\n",
      " [  0 173   0 254   0]\n",
      " [187   0   0 242 182]\n",
      " [  0 147 164 246   0]]\n",
      "\n",
      "Polynomial values: [ 8 21 50]\n",
      "\n",
      "Distance matrix:\n",
      " [[0.         1.         2.        ]\n",
      " [1.         1.41421356 2.23606798]\n",
      " [2.         2.23606798 2.82842712]]\n"
     ]
    }
   ],
   "source": [
    "# 1. Data normalization\n",
    "data = np.random.normal(50, 10, 100)  # Mean=50, std=10\n",
    "print(data)\n",
    "print(f\"mean is : {np.mean(data)}\")\n",
    "print(f\"std is : {np.std(data)}\")\n",
    "normalized = (data - np.mean(data)) / np.std(data)\n",
    "print(normalized)\n",
    "print(\"Normalized mean:\", np.mean(normalized))  # ~0\n",
    "print(\"Normalized std:\", np.std(normalized))    # ~1\n",
    "\n",
    "# 2. Image thresholding\n",
    "image = np.random.randint(0, 256, (5,5))\n",
    "print(\"\\nOriginal image:\\n\", image)\n",
    "image[image < 128] = 0\n",
    "print(\"\\nThresholded image:\\n\", image)\n",
    "\n",
    "# 3. Polynomial evaluation\n",
    "x = np.array([1,2,3])\n",
    "poly = x**3 + 2*x**2 + 5\n",
    "print(\"\\nPolynomial values:\", poly)\n",
    "\n",
    "# 4. Distance matrix\n",
    "x = np.array([[0], [1], [2]])  # Shape (3,1)\n",
    "y = np.array([[0, 1, 2]])      # Shape (1,3)\n",
    "distances = np.sqrt(x**2 + y**2)\n",
    "print(\"\\nDistance matrix:\\n\", distances)"
   ]
  },
  {
   "cell_type": "markdown",
   "id": "17ba1c20-e59b-4ada-8c14-5c3e943ba703",
   "metadata": {},
   "source": [
    "Try This: Create a temperature conversion function:\n",
    "\n",
    "python\n",
    "celsius = np.array([0, 100, 37])\n",
    "fahrenheit = celsius * 9/5 + 32"
   ]
  },
  {
   "cell_type": "code",
   "execution_count": null,
   "id": "5965e226-c33c-4b6a-a4ba-d0abf106ce78",
   "metadata": {},
   "outputs": [],
   "source": []
  }
 ],
 "metadata": {
  "kernelspec": {
   "display_name": "Python 3 (ipykernel)",
   "language": "python",
   "name": "python3"
  },
  "language_info": {
   "codemirror_mode": {
    "name": "ipython",
    "version": 3
   },
   "file_extension": ".py",
   "mimetype": "text/x-python",
   "name": "python",
   "nbconvert_exporter": "python",
   "pygments_lexer": "ipython3",
   "version": "3.13.5"
  }
 },
 "nbformat": 4,
 "nbformat_minor": 5
}
