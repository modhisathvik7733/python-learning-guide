{
 "cells": [
  {
   "cell_type": "markdown",
   "id": "7b465cf6-7e32-4f8a-9923-9a7c2d69c8bd",
   "metadata": {},
   "source": [
    "## Array Attributes\n",
    "Core properties of NumPy arrays:\n",
    "1. `.shape` → Dimensions of the array (tuple)\n",
    "2. `.ndim` → Number of dimensions (integer)\n",
    "3. `.dtype` → Data type of elements\n",
    "4. `.size` → Total number of elements\n",
    "\n",
    "**Visualization**:"
   ]
  },
  {
   "cell_type": "code",
   "execution_count": 3,
   "id": "9a4495f6-f06d-4120-b3e7-57e9a0943307",
   "metadata": {},
   "outputs": [],
   "source": [
    "\n",
    "#### **Cell 2: Code (Setup)**\n",
    "\n",
    "import numpy as np\n",
    "\n",
    "# Create sample arrays\n",
    "arr_1d = np.array([1, 2, 3, 4, 5])\n",
    "arr_2d = np.array([[1.1, 2.2, 3.3], [4.4, 5.5, 6.6]])\n",
    "arr_3d = np.ones((2, 3, 4))  # 2 layers, 3 rows, 4 columns"
   ]
  },
  {
   "cell_type": "markdown",
   "id": "30ff5900-e98b-4be3-9fb3-5798d04cd690",
   "metadata": {},
   "source": [
    "### 1. `.shape` - Array Dimensions\n",
    "Returns a tuple representing array dimensions:  \n",
    "`(rows, columns)` for 2D, `(depth, rows, columns)` for 3D, etc."
   ]
  },
  {
   "cell_type": "markdown",
   "id": "1770944e-df16-48c9-b9e8-959a3ed99da1",
   "metadata": {},
   "source": [
    "[basics of reshape](http://youtube.com/watch?v=mMtKE_vpnD4)\n",
    "\n",
    "[Reshape -1, 1 and Reshape 1, -1 in Python NumPy | Module NumPy Tutorial](https://www.youtube.com/watch?v=yDXNPyxDb0M)"
   ]
  },
  {
   "cell_type": "code",
   "execution_count": 19,
   "id": "0da33059-54e0-4dda-a030-e4488ef394dd",
   "metadata": {},
   "outputs": [
    {
     "name": "stdout",
     "output_type": "stream",
     "text": [
      "1D shape: (5,)\n",
      "[1 2 3 4 5]\n",
      "2D shape: (2, 3)\n",
      "3D shape: (2, 3, 4)\n",
      "\n",
      "Reshaped to column:\n",
      " [[1]\n",
      " [2]\n",
      " [3]\n",
      " [4]\n",
      " [5]]\n",
      "New shape: (5, 1)\n"
     ]
    }
   ],
   "source": [
    "print(\"1D shape:\", arr_1d.shape)  # (5,)\n",
    "print(arr_1d)\n",
    "print(\"2D shape:\", arr_2d.shape)  # (2, 3)\n",
    "print(\"3D shape:\", arr_3d.shape)  # (2, 3, 4)\n",
    "\n",
    "# Practical use: Reshaping\n",
    "reshaped = arr_1d.reshape((5, 1))  # Convert to 5x1 column vector\n",
    "print(\"\\nReshaped to column:\\n\", reshaped)\n",
    "print(\"New shape:\", reshaped.shape)"
   ]
  },
  {
   "cell_type": "markdown",
   "id": "a03a511b-0ed8-4f66-becb-308117d572d2",
   "metadata": {},
   "source": [
    "### 2. `.ndim` - Number of Dimensions\n",
    "Returns an integer counting array dimensions:\n",
    "- 1D → 1\n",
    "- 2D → 2\n",
    "- 3D → 3"
   ]
  },
  {
   "cell_type": "code",
   "execution_count": 5,
   "id": "d51c5b93-0cf6-4fab-b5bd-077a6efe8b0f",
   "metadata": {},
   "outputs": [
    {
     "name": "stdout",
     "output_type": "stream",
     "text": [
      "1D ndim: 1\n",
      "2D ndim: 2\n",
      "3D ndim: 3\n",
      "\n",
      "Scalar ndim: 0\n"
     ]
    }
   ],
   "source": [
    "print(\"1D ndim:\", arr_1d.ndim)  # 1\n",
    "print(\"2D ndim:\", arr_2d.ndim)  # 2\n",
    "print(\"3D ndim:\", arr_3d.ndim)  # 3\n",
    "\n",
    "# Scalar corner case\n",
    "scalar = np.array(5)\n",
    "print(\"\\nScalar ndim:\", scalar.ndim)  # 0"
   ]
  },
  {
   "cell_type": "markdown",
   "id": "b6aa26e0-aba9-4426-a2ae-1319d401a3cc",
   "metadata": {},
   "source": [
    "### 3. `.dtype` - Data Type\n",
    "Returns the data type of array elements.  \n",
    "**Common dtypes**:  \n",
    "- `int32`, `int64` → Integers  \n",
    "- `float32`, `float64` → Floats  \n",
    "- `bool` → Boolean  \n",
    "- `object` → Python objects  "
   ]
  },
  {
   "cell_type": "code",
   "execution_count": 6,
   "id": "daf85c56-96c2-43d2-bad1-302435336482",
   "metadata": {},
   "outputs": [
    {
     "name": "stdout",
     "output_type": "stream",
     "text": [
      "1D dtype: int64\n",
      "2D dtype: float64\n",
      "\n",
      "Float→Int conversion: [1 2]\n",
      "dtype: int32\n",
      "\n",
      "Float64 size: 8\n",
      "Float32 size: 4\n"
     ]
    }
   ],
   "source": [
    "print(\"1D dtype:\", arr_1d.dtype)  # int64\n",
    "print(\"2D dtype:\", arr_2d.dtype)  # float64\n",
    "\n",
    "# Control dtype during creation\n",
    "int_arr = np.array([1.5, 2.7], dtype=np.int32)\n",
    "print(\"\\nFloat→Int conversion:\", int_arr)  # [1, 2]\n",
    "print(\"dtype:\", int_arr.dtype)\n",
    "\n",
    "# Check memory usage\n",
    "print(\"\\nFloat64 size:\", np.array([1.0]).nbytes)  # 8 bytes\n",
    "print(\"Float32 size:\", np.array([1.0], dtype=np.float32).nbytes)  # 4 bytes"
   ]
  },
  {
   "cell_type": "markdown",
   "id": "4c76723a-9a3c-420c-91e8-399d2f3f1b20",
   "metadata": {},
   "source": [
    "### 4. `.size` - Total Elements\n",
    "Returns total number of elements in the array:  \n",
    "`shape[0] * shape[1] * ... * shape[N]`"
   ]
  },
  {
   "cell_type": "code",
   "execution_count": 7,
   "id": "c41031c6-006f-40db-a6c4-5f9d80fc0ae7",
   "metadata": {},
   "outputs": [
    {
     "name": "stdout",
     "output_type": "stream",
     "text": [
      "1D size: 5\n",
      "2D size: 6\n",
      "3D size: 24\n",
      "\n",
      "Verify 2D: 2x3 = 6\n"
     ]
    }
   ],
   "source": [
    "print(\"1D size:\", arr_1d.size)  # 5\n",
    "print(\"2D size:\", arr_2d.size)  # 6 (2x3)\n",
    "print(\"3D size:\", arr_3d.size)  # 24 (2x3x4)\n",
    "\n",
    "# Relationship with shape\n",
    "print(\"\\nVerify 2D: 2x3 =\", arr_2d.shape[0] * arr_2d.shape[1])"
   ]
  },
  {
   "cell_type": "markdown",
   "id": "36de5b9d-7551-470e-ae1e-50bacc48c27a",
   "metadata": {},
   "source": [
    "### Attribute Summary Table\n",
    "| Attribute | Returns        | Example Output       | Use Case                     |\n",
    "|-----------|----------------|----------------------|------------------------------|\n",
    "| `.shape`  | Tuple          | (2, 3)              | Reshaping, broadcasting      |\n",
    "| `.ndim`   | Integer        | 2                   | Loop depth decisions         |\n",
    "| `.dtype`  | Data type      | float64             | Memory optimization          |\n",
    "| `.size`   | Integer        | 6                   | Allocation/preallocation     |\n",
    "\n",
    "**Tip**: Use `arr.nbytes` for total memory consumption."
   ]
  },
  {
   "cell_type": "code",
   "execution_count": 9,
   "id": "d48f56e0-380c-43bf-9300-936497759073",
   "metadata": {},
   "outputs": [
    {
     "name": "stdout",
     "output_type": "stream",
     "text": [
      "\n",
      "2D Array Summary:\n",
      "Shape:  (2, 3)\n",
      "ndim:   2\n",
      "dtype:  float64\n",
      "size:   6\n",
      "nbytes: 48 bytes\n",
      "\n",
      "Boolean Array Summary:\n",
      "Shape:  (2,)\n",
      "ndim:   1\n",
      "dtype:  bool\n",
      "size:   2\n",
      "nbytes: 2 bytes\n"
     ]
    }
   ],
   "source": [
    "def summarize_array(arr, name):\n",
    "    print(f\"\\n{name} Summary:\")\n",
    "    print(\"Shape: \", arr.shape)\n",
    "    print(\"ndim:  \", arr.ndim)\n",
    "    print(\"dtype: \", arr.dtype)\n",
    "    print(\"size:  \", arr.size)\n",
    "    print(\"nbytes:\", arr.nbytes, \"bytes\")\n",
    "\n",
    "summarize_array(arr_2d, \"2D Array\")\n",
    "summarize_array(np.array([True, False]), \"Boolean Array\")"
   ]
  },
  {
   "cell_type": "code",
   "execution_count": 14,
   "id": "5f8ab7d4-a603-4816-a75e-b48d6520fe3e",
   "metadata": {},
   "outputs": [
    {
     "name": "stdout",
     "output_type": "stream",
     "text": [
      "The full 3D array:\n",
      " [[[ 1  2  3  4]\n",
      "  [ 5  6  7  8]\n",
      "  [ 9 10 11 12]]\n",
      "\n",
      " [[13 14 15 16]\n",
      "  [17 18 19 20]\n",
      "  [21 22 23 24]]]\n",
      "\n",
      "Shape of the array: (2, 3, 4)\n"
     ]
    }
   ],
   "source": [
    "import numpy as np\n",
    "\n",
    "# Create a 3D array with shape (2, 3, 4)\n",
    "# This means:\n",
    "# - 2 \"layers\" (or 2D arrays)\n",
    "# - 3 rows per layer\n",
    "# - 4 columns per layer\n",
    "data = np.array([\n",
    "    [  # First \"layer\" (index 0)\n",
    "        [1, 2, 3, 4],\n",
    "        [5, 6, 7, 8],\n",
    "        [9, 10, 11, 12]\n",
    "    ],\n",
    "    [  # Second \"layer\" (index 1)\n",
    "        [13, 14, 15, 16],\n",
    "        [17, 18, 19, 20],\n",
    "        [21, 22, 23, 24]\n",
    "    ]\n",
    "])\n",
    "\n",
    "print(\"The full 3D array:\\n\", data)\n",
    "print(\"\\nShape of the array:\", data.shape)"
   ]
  },
  {
   "cell_type": "markdown",
   "id": "c87b877a-ddec-401e-a33f-da54b3cfc617",
   "metadata": {},
   "source": [
    "[NumPy 3d Array Creation Tutorial](https://www.youtube.com/watch?v=SjtXNJy9RCk)"
   ]
  },
  {
   "cell_type": "markdown",
   "id": "a442bdcb-c0dd-42a1-a0ea-5964c1e8be05",
   "metadata": {},
   "source": [
    "## `astype()` - Data Type Conversion\n",
    "Converts array to new data type while creating a **copy** (original unchanged).  \n",
    "\n",
    "**Key Points**:  \n",
    "- Always returns new array  \n",
    "- Supports all NumPy dtypes (`int32`, `float64`, `bool`, etc.)  \n",
    "- Handles truncation/rounding when converting between types  \n",
    "- Critical for memory optimization and precision control  "
   ]
  },
  {
   "cell_type": "markdown",
   "id": "7fc9ae94-af8a-474d-8d2a-ac8e5f3c6b52",
   "metadata": {},
   "source": [
    "### Syntax\n",
    "`new_array = old_array.astype(dtype, copy=True)`\n",
    "\n",
    "**Parameters**:\n",
    "- `dtype`: Target data type (e.g., `np.float32`)\n",
    "- `copy`: Default `True` (always copy). Set `False` to avoid copy *if possible*"
   ]
  },
  {
   "cell_type": "code",
   "execution_count": 16,
   "id": "675397a8-9a79-4ced-a48c-92a0487f3644",
   "metadata": {},
   "outputs": [
    {
     "name": "stdout",
     "output_type": "stream",
     "text": [
      "Float to int: [1 2 3]\n",
      "\n",
      "Int to float: [1. 2. 3.]\n",
      "\n",
      "Numeric to bool: [False  True  True False]\n"
     ]
    }
   ],
   "source": [
    "import numpy as np\n",
    "\n",
    "# Float → Integer (truncates decimals)\n",
    "floats = np.array([1.7, 2.2, 3.5])\n",
    "ints = floats.astype(np.int32)\n",
    "print(\"Float to int:\", ints)  # [1, 2, 3]\n",
    "\n",
    "# Integer → Float\n",
    "integers = np.array([1, 2, 3])\n",
    "new_floats = integers.astype(np.float64)\n",
    "print(\"\\nInt to float:\", new_floats)  # [1., 2., 3.]\n",
    "\n",
    "# Boolean conversion\n",
    "data = np.array([0, 1, -1, 0])\n",
    "bools = data.astype(bool)\n",
    "print(\"\\nNumeric to bool:\", bools)  # [False, True, True, False]"
   ]
  },
  {
   "cell_type": "markdown",
   "id": "2621ff48-fa0c-458f-9478-ba78652d847e",
   "metadata": {},
   "source": [
    "### Common Use Cases\n",
    "1. **Precision Control**:  \n",
    "   `images.astype(np.float32)` for ML models  \n",
    "2. **Memory Optimization**:  \n",
    "   `big_data.astype(np.int16)` for large datasets  \n",
    "3. **Type Requirements**:  \n",
    "   `array.astype(int)` for scikit-learn input  \n",
    "4. **Boolean Masking**:  \n",
    "   `(array > 0).astype(int)` for 0/1 encoding  "
   ]
  },
  {
   "cell_type": "code",
   "execution_count": null,
   "id": "efb049ab-be1b-4b14-bc29-a979d7b31f7e",
   "metadata": {},
   "outputs": [],
   "source": []
  }
 ],
 "metadata": {
  "kernelspec": {
   "display_name": "Python 3 (ipykernel)",
   "language": "python",
   "name": "python3"
  },
  "language_info": {
   "codemirror_mode": {
    "name": "ipython",
    "version": 3
   },
   "file_extension": ".py",
   "mimetype": "text/x-python",
   "name": "python",
   "nbconvert_exporter": "python",
   "pygments_lexer": "ipython3",
   "version": "3.13.5"
  }
 },
 "nbformat": 4,
 "nbformat_minor": 5
}
