{
 "cells": [
  {
   "cell_type": "markdown",
   "id": "7d3e19a1-07f5-4075-b0ce-d585408b55f5",
   "metadata": {},
   "source": [
    "# Reshaping & Flattening\n",
    "- **Reshaping**: Change array dimensions without altering data  \n",
    "  `(4,) → (2,2)`  \n",
    "- **Flattening**: Convert to 1D array  \n",
    "  `(2,2) → (4,)`  \n",
    "\n",
    "Key methods:  \n",
    "- `.reshape()`: General reshaping  \n",
    "- `.ravel()`: Fast flattening (view)  \n",
    "- `.flatten()`: Safe flattening (copy)  "
   ]
  },
  {
   "cell_type": "code",
   "execution_count": 1,
   "id": "020c84e5-d027-4ec2-9b9b-2e36729f6cbc",
   "metadata": {},
   "outputs": [
    {
     "name": "stdout",
     "output_type": "stream",
     "text": [
      "2x3 matrix:\n",
      " [[1 2 3]\n",
      " [4 5 6]]\n",
      "\n",
      "3D cube shape: (2, 3, 1)\n",
      "\n",
      "Auto row:\n",
      " [[1 2 3]\n",
      " [4 5 6]]\n",
      "\n",
      "Auto col:\n",
      " [[1 2]\n",
      " [3 4]\n",
      " [5 6]]\n",
      "\n",
      "Error: cannot reshape array of size 6 into shape (4,4)\n"
     ]
    }
   ],
   "source": [
    "import numpy as np\n",
    "\n",
    "# 1D to 2D\n",
    "arr = np.arange(1, 7)  # [1,2,3,4,5,6]\n",
    "matrix = arr.reshape(2, 3)\n",
    "print(\"2x3 matrix:\\n\", matrix)\n",
    "# [[1,2,3],\n",
    "#  [4,5,6]]\n",
    "\n",
    "# 1D to 3D\n",
    "cube = arr.reshape(2, 3, 1)  # 2 layers, 3 rows, 1 column\n",
    "print(\"\\n3D cube shape:\", cube.shape)  # (2,3,1)\n",
    "\n",
    "# Automatic dimension with -1\n",
    "auto_row = arr.reshape(2, -1)  # -1 = calculate cols (3)\n",
    "auto_col = arr.reshape(-1, 2)  # -1 = calculate rows (3)\n",
    "print(\"\\nAuto row:\\n\", auto_row)\n",
    "print(\"\\nAuto col:\\n\", auto_col)\n",
    "\n",
    "# Error: incompatible shape\n",
    "try:\n",
    "    arr.reshape(4, 4)  # 16 elements needed, only 6 exist\n",
    "except ValueError as e:\n",
    "    print(\"\\nError:\", e)"
   ]
  },
  {
   "cell_type": "markdown",
   "id": "053d805d-4f51-4cd2-a739-373e25e11b96",
   "metadata": {},
   "source": [
    "### Flattening Options\n",
    "| Method       | Returns | Memory | Speed  | Order       |\n",
    "|--------------|---------|--------|--------|-------------|\n",
    "| `.ravel()`   | View*   | Low    | Fast   | 'C' (row)   |\n",
    "| `.flatten()` | Copy    | High   | Slow   | 'C' (row)   |\n",
    "| `.reshape(-1)`| View*  | Low    | Fast   | 'C' (row)   |\n",
    "\n",
    "*\\* Returns view if possible, copy if not*"
   ]
  },
  {
   "cell_type": "code",
   "execution_count": 2,
   "id": "66ecb79c-3334-4b9c-b260-e652970d05b7",
   "metadata": {},
   "outputs": [
    {
     "name": "stdout",
     "output_type": "stream",
     "text": [
      "Original after ravel mod:\n",
      " [[99  2]\n",
      " [ 3  4]]\n",
      "\n",
      "Original after flatten mod:\n",
      " [[1 2]\n",
      " [3 4]]\n",
      "\n",
      "Original after reshape mod:\n",
      " [[ 1 88]\n",
      " [ 3  4]]\n"
     ]
    }
   ],
   "source": [
    "matrix = np.array([[1,2], [3,4]])\n",
    "\n",
    "# ravel() (view when possible)\n",
    "flat_ravel = matrix.ravel()\n",
    "flat_ravel[0] = 99\n",
    "print(\"Original after ravel mod:\\n\", matrix)  # Modified\n",
    "\n",
    "# flatten() (always copy)\n",
    "matrix = np.array([[1,2], [3,4]])  # Reset\n",
    "flat_flatten = matrix.flatten()\n",
    "flat_flatten[0] = 99\n",
    "print(\"\\nOriginal after flatten mod:\\n\", matrix)  # Unchanged\n",
    "\n",
    "# reshape(-1) (view when possible)\n",
    "flat_reshape = matrix.reshape(-1)\n",
    "flat_reshape[1] = 88\n",
    "print(\"\\nOriginal after reshape mod:\\n\", matrix)  # Modified"
   ]
  },
  {
   "cell_type": "markdown",
   "id": "3cd52f2c-a45d-4ff4-888f-8676d3636038",
   "metadata": {},
   "source": [
    "## Reshaping Order: 'C' vs 'F'\n",
    "- **'C' order**: Row-major (default)  \n",
    "  `[[1,2,3], [4,5,6]] → [1,2,3,4,5,6]`  \n",
    "- **'F' order**: Column-major  \n",
    "  `[[1,2,3], [4,5,6]] → [1,4,2,5,3,6]`  \n",
    "\n",
    "Controls how data is read/written during reshaping"
   ]
  },
  {
   "cell_type": "code",
   "execution_count": 3,
   "id": "aa8470e4-0320-4aeb-a38c-3de708ac177f",
   "metadata": {},
   "outputs": [
    {
     "name": "stdout",
     "output_type": "stream",
     "text": [
      "C-order: [1 2 3 4 5 6]\n",
      "F-order: [1 3 5 2 4 6]\n",
      "\n",
      "F-order reshaped:\n",
      " [[1 5 4]\n",
      " [3 2 6]]\n"
     ]
    }
   ],
   "source": [
    "matrix = np.array([[1,2], [3,4], [5,6]])\n",
    "\n",
    "# C-order (row-wise) flattening\n",
    "print(\"C-order:\", matrix.ravel(order='C'))  # [1,2,3,4,5,6]\n",
    "\n",
    "# F-order (column-wise) flattening\n",
    "print(\"F-order:\", matrix.ravel(order='F'))  # [1,3,5,2,4,6]\n",
    "\n",
    "# Fortran-order reshaping\n",
    "fortran_matrix = matrix.reshape(2, 3, order='F')\n",
    "print(\"\\nF-order reshaped:\\n\", fortran_matrix)\n",
    "# [[1,5,4],\n",
    "#  [3,2,6]]  (data filled column-wise)\n"
   ]
  },
  {
   "cell_type": "markdown",
   "id": "9ee61757-1889-44db-bfee-a23987c23cca",
   "metadata": {},
   "source": [
    "### Additional Methods\n",
    "1. **`np.newaxis`**: Add new dimension  \n",
    "   `(3,) → (3,1)` or `(1,3)`  \n",
    "2. **`.transpose()`/.T**: Swap dimensions  \n",
    "3. **`.squeeze()`**: Remove length-1 dimensions  \n",
    "4. **`np.expand_dims()`**: Explicit dimension addition  "
   ]
  },
  {
   "cell_type": "code",
   "execution_count": 5,
   "id": "f96a1d47-03ab-4556-94c2-f4fa85d2ec0a",
   "metadata": {},
   "outputs": [
    {
     "name": "stdout",
     "output_type": "stream",
     "text": [
      "Row vector shape: (1, 3)\n",
      "Column vector:\n",
      " [[1]\n",
      " [2]\n",
      " [3]]\n",
      "\n",
      "Original:\n",
      " [[0 1 2]\n",
      " [3 4 5]]\n",
      "Transposed:\n",
      " [[0 3]\n",
      " [1 4]\n",
      " [2 5]]\n",
      "\n",
      "Original shape: (1, 3, 1, 4)\n",
      "Squeezed shape: (3, 4)\n",
      "\n",
      "Expanded shape: (3, 1)\n"
     ]
    }
   ],
   "source": [
    "# np.newaxis\n",
    "vector = np.array([1,2,3])\n",
    "row_vec = vector[np.newaxis, :]  # 1x3\n",
    "col_vec = vector[:, np.newaxis]  # 3x1\n",
    "print(\"Row vector shape:\", row_vec.shape)  # (1,3)\n",
    "print(\"Column vector:\\n\", col_vec)\n",
    "# [[1],\n",
    "#  [2],\n",
    "#  [3]]\n",
    "\n",
    "# Transpose\n",
    "matrix = np.arange(6).reshape(2,3)\n",
    "print(\"\\nOriginal:\\n\", matrix)\n",
    "print(\"Transposed:\\n\", matrix.T)  # Swap rows/cols\n",
    "\n",
    "# Squeeze\n",
    "tensor = np.ones((1,3,1,4))\n",
    "squeezed = tensor.squeeze()\n",
    "print(\"\\nOriginal shape:\", tensor.shape)  # (1,3,1,4)\n",
    "print(\"Squeezed shape:\", squeezed.shape)  # (3,4)\n",
    "\n",
    "# Expand dims\n",
    "expanded = np.expand_dims(vector, axis=1)\n",
    "print(\"\\nExpanded shape:\", expanded.shape)  # (3,1)"
   ]
  },
  {
   "cell_type": "markdown",
   "id": "e8aace08-a2bc-4e53-a043-d36758b0011f",
   "metadata": {},
   "source": [
    "### When to Use Reshaping\n",
    "1. **ML Input Preparation**:  \n",
    "   - Images: `(H,W,Channels)` → `(H*W, Channels)` for classic ML  \n",
    "   - Sequences: `(samples, timesteps, features)` for RNNs  \n",
    "2. **Broadcasting**:  \n",
    "   Add dimensions for math operations: `vector[:, np.newaxis] * matrix`  \n",
    "3. **Data Augmentation**:  \n",
    "   Reshape batches for tensor operations  "
   ]
  },
  {
   "cell_type": "code",
   "execution_count": 7,
   "id": "262972d5-fb86-4cf5-b9cf-49f3d9058b4c",
   "metadata": {},
   "outputs": [
    {
     "name": "stdout",
     "output_type": "stream",
     "text": [
      "\n",
      "Sequences shape: (358, 7, 10)\n"
     ]
    }
   ],
   "source": [
    "# Image processing example\n",
    "images = np.random.randint(0, 256, (100, 28, 28))  # 100 grayscale images\n",
    "\n",
    "# Flatten for ML model\n",
    "flattened = images.reshape(100, -1)  # (100, 784)\n",
    "\n",
    "# Prepare for CNN (add channel dimension)\n",
    "cnn_ready = images[:, :, :, np.newaxis]  # (100, 28, 28, 1)\n",
    "\n",
    "# Time series for RNN\n",
    "time_data = np.random.rand(365, 10)  # 365 days, 10 features\n",
    "window_size = 7\n",
    "sequences = np.array([time_data[i:i+window_size] for i in range(365-window_size)])\n",
    "print(\"\\nSequences shape:\", sequences.shape)  # (358, 7, 10)"
   ]
  },
  {
   "cell_type": "code",
   "execution_count": null,
   "id": "a4f96179-18ad-44c5-8cd7-b0691aa42b72",
   "metadata": {},
   "outputs": [],
   "source": []
  }
 ],
 "metadata": {
  "kernelspec": {
   "display_name": "Python 3 (ipykernel)",
   "language": "python",
   "name": "python3"
  },
  "language_info": {
   "codemirror_mode": {
    "name": "ipython",
    "version": 3
   },
   "file_extension": ".py",
   "mimetype": "text/x-python",
   "name": "python",
   "nbconvert_exporter": "python",
   "pygments_lexer": "ipython3",
   "version": "3.13.5"
  }
 },
 "nbformat": 4,
 "nbformat_minor": 5
}
