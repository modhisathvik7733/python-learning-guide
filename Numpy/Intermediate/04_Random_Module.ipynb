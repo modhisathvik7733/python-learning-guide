{
 "cells": [
  {
   "cell_type": "markdown",
   "id": "473421c8-9e24-445f-bc35-69dd380eb5bf",
   "metadata": {},
   "source": [
    "# NumPy Random Module\n",
    "Key functions for random number generation:\n",
    "1. **Uniform Distribution**: `np.random.rand()`  \n",
    "2. **Normal Distribution**: `np.random.randn()`  \n",
    "3. **Integers**: `np.random.randint()`  \n",
    "4. **Sampling**: `np.random.choice()`  \n",
    "5. **Reproducibility**: `np.random.seed()`  \n",
    "\n",
    "Critical for:  \n",
    "- Initializing ML weights  \n",
    "- Data shuffling  \n",
    "- Simulation modeling  "
   ]
  },
  {
   "cell_type": "code",
   "execution_count": 1,
   "id": "c634d198-a9ca-4825-ab05-1b11d2a4bf5e",
   "metadata": {},
   "outputs": [
    {
     "name": "stdout",
     "output_type": "stream",
     "text": [
      "1D uniform: [0.38684507 0.17226788 0.33872512]\n",
      "\n",
      "2D uniform:\n",
      " [[0.67161773 0.05470262 0.2275612 ]\n",
      " [0.93526367 0.05507154 0.58257347]]\n",
      "\n",
      "Scaled to 0-100: [21.66421088 83.78572617  6.54785828  9.10725876 31.34976384]\n"
     ]
    }
   ],
   "source": [
    "import numpy as np\n",
    "\n",
    "# Generate 3 random floats in [0,1)\n",
    "uniform_1d = np.random.rand(3)\n",
    "print(\"1D uniform:\", uniform_1d)\n",
    "\n",
    "# 2x3 matrix of uniform randoms\n",
    "uniform_2d = np.random.rand(2, 3)\n",
    "print(\"\\n2D uniform:\\n\", uniform_2d)\n",
    "\n",
    "# Range conversion (0-100)\n",
    "scaled = np.random.rand(5) * 100\n",
    "print(\"\\nScaled to 0-100:\", scaled)"
   ]
  },
  {
   "cell_type": "code",
   "execution_count": 2,
   "id": "3eca0e33-db27-4c7b-a212-3f5a49cb4cf3",
   "metadata": {},
   "outputs": [
    {
     "name": "stdout",
     "output_type": "stream",
     "text": [
      "1D normal: [-2.69892258  1.07377965 -0.77978443]\n",
      "\n",
      "2D normal:\n",
      " [[-0.69118433 -0.65842372]\n",
      " [-1.91446178  0.58211971]]\n",
      "\n",
      "Custom normal (μ=50, σ=10): [41.36233613 45.50004562 41.93887878 52.0049723  50.98288485]\n"
     ]
    }
   ],
   "source": [
    "# Standard normal (mean=0, std=1)\n",
    "normal_1d = np.random.randn(3)\n",
    "print(\"1D normal:\", normal_1d)\n",
    "\n",
    "# 2x2 matrix of normals\n",
    "normal_2d = np.random.randn(2, 2)\n",
    "print(\"\\n2D normal:\\n\", normal_2d)\n",
    "\n",
    "# Custom normal (mean=50, std=10)\n",
    "custom_normal = np.random.randn(5) * 10 + 50\n",
    "print(\"\\nCustom normal (μ=50, σ=10):\", custom_normal)"
   ]
  },
  {
   "cell_type": "markdown",
   "id": "7cb0503d-4c89-4e56-941c-e9a0ebe03b40",
   "metadata": {},
   "source": [
    "### `np.random.randint()`\n",
    "Generates random integers in half-open interval `[low, high)`  \n",
    "Parameters:  \n",
    "- `low`: Inclusive lower bound  \n",
    "- `high`: Exclusive upper bound  \n",
    "- `size`: Output shape  "
   ]
  },
  {
   "cell_type": "code",
   "execution_count": 4,
   "id": "cec57bcb-600a-4948-9c84-67ec1e2cd7a9",
   "metadata": {},
   "outputs": [
    {
     "name": "stdout",
     "output_type": "stream",
     "text": [
      "0-9 integer: 3\n",
      "\n",
      "5 integers (1-100): [35 87 50 71 92]\n",
      "\n",
      "3x3 integers (-10 to 10):\n",
      " [[ 0 -7  1]\n",
      " [ 6 -2  5]\n",
      " [ 4 -8  0]]\n"
     ]
    }
   ],
   "source": [
    "# Single integer between 0-9\n",
    "rand_int = np.random.randint(10)\n",
    "print(\"0-9 integer:\", rand_int)\n",
    "\n",
    "# Array of integers (1-100)\n",
    "int_array = np.random.randint(1, 101, 5)\n",
    "print(\"\\n5 integers (1-100):\", int_array)\n",
    "\n",
    "# 3x3 matrix of integers\n",
    "int_matrix = np.random.randint(-10, 11, (3,3))\n",
    "print(\"\\n3x3 integers (-10 to 10):\\n\", int_matrix)"
   ]
  },
  {
   "cell_type": "code",
   "execution_count": 5,
   "id": "5b138dfd-2425-4981-b95f-cb1e9c66cee2",
   "metadata": {},
   "outputs": [
    {
     "name": "stdout",
     "output_type": "stream",
     "text": [
      "0-9 integer: 4\n",
      "\n",
      "5 integers (1-100): [77 86 40 70 19]\n",
      "\n",
      "3x3 integers (-10 to 10):\n",
      " [[  6  -6  -2]\n",
      " [ 10   9  -4]\n",
      " [  1  -4 -10]]\n"
     ]
    }
   ],
   "source": [
    "# Single integer between 0-9\n",
    "rand_int = np.random.randint(10)\n",
    "print(\"0-9 integer:\", rand_int)\n",
    "\n",
    "# Array of integers (1-100)\n",
    "int_array = np.random.randint(1, 101, 5)\n",
    "print(\"\\n5 integers (1-100):\", int_array)\n",
    "\n",
    "# 3x3 matrix of integers\n",
    "int_matrix = np.random.randint(-10, 11, (3,3))\n",
    "print(\"\\n3x3 integers (-10 to 10):\\n\", int_matrix)"
   ]
  },
  {
   "cell_type": "markdown",
   "id": "f707d06e-7053-43ba-a540-21485b25309b",
   "metadata": {},
   "source": [
    "### `np.random.choice()`\n",
    "Samples from given array with options:  \n",
    "- `a`: Input array  \n",
    "- `size`: Output shape  \n",
    "- `replace`: With/without replacement  \n",
    "- `p`: Probability distribution  "
   ]
  },
  {
   "cell_type": "code",
   "execution_count": 7,
   "id": "ac0101e6-ae68-48d4-859b-0e52e5aa4a86",
   "metadata": {},
   "outputs": [
    {
     "name": "stdout",
     "output_type": "stream",
     "text": [
      "Single choice: E\n",
      "\n",
      "3 choices (with replacement): ['C' 'B' 'D']\n",
      "\n",
      "3 unique choices: ['B' 'D' 'A']\n",
      "\n",
      "Weighted choices: ['A' 'D' 'A' 'A' 'E' 'C' 'E' 'B' 'A' 'A']\n"
     ]
    }
   ],
   "source": [
    "letters = ['A', 'B', 'C', 'D', 'E']\n",
    "\n",
    "# Single random choice\n",
    "single = np.random.choice(letters)\n",
    "print(\"Single choice:\", single)\n",
    "\n",
    "# Multiple choices (with replacement)\n",
    "multi = np.random.choice(letters, size=3)\n",
    "print(\"\\n3 choices (with replacement):\", multi)\n",
    "\n",
    "# Without replacement\n",
    "unique = np.random.choice(letters, size=3, replace=False)\n",
    "print(\"\\n3 unique choices:\", unique)\n",
    "\n",
    "# Weighted probabilities\n",
    "weighted = np.random.choice(letters, size=10, p=[0.5, 0.2, 0.1, 0.1, 0.1])\n",
    "print(\"\\nWeighted choices:\", weighted)  # 'A' appears ~50% of time"
   ]
  },
  {
   "cell_type": "markdown",
   "id": "fd85c18f-9759-437f-a0d0-36aac035b262",
   "metadata": {},
   "source": [
    "## Setting Random Seed\n",
    "Ensures reproducibility of random results:  \n",
    "`np.random.seed(any_integer)`  \n",
    "\n",
    "Critical for:  \n",
    "- Debugging  \n",
    "- Sharing reproducible research  \n",
    "- Fair ML model comparisons  "
   ]
  },
  {
   "cell_type": "code",
   "execution_count": 8,
   "id": "bdf3ce87-ac35-48a3-a64b-ad6db2905361",
   "metadata": {},
   "outputs": [
    {
     "name": "stdout",
     "output_type": "stream",
     "text": [
      "Unseeded random: [0.37619391 0.80529992 0.08250803]\n",
      "\n",
      "Seeded first run: [0.37454012 0.95071431 0.73199394]\n",
      "Seeded second run: [0.37454012 0.95071431 0.73199394]\n"
     ]
    },
    {
     "ename": "TypeError",
     "evalue": "'numpy.random.mtrand.RandomState' object does not support the context manager protocol",
     "output_type": "error",
     "traceback": [
      "\u001b[0;31m---------------------------------------------------------------------------\u001b[0m",
      "\u001b[0;31mTypeError\u001b[0m                                 Traceback (most recent call last)",
      "Cell \u001b[0;32mIn[8], line 14\u001b[0m\n\u001b[1;32m     11\u001b[0m \u001b[38;5;28mprint\u001b[39m(\u001b[38;5;124m\"\u001b[39m\u001b[38;5;124mSeeded second run:\u001b[39m\u001b[38;5;124m\"\u001b[39m, second_run)  \u001b[38;5;66;03m# Same as first_run\u001b[39;00m\n\u001b[1;32m     13\u001b[0m \u001b[38;5;66;03m# Context manager for local seeding\u001b[39;00m\n\u001b[0;32m---> 14\u001b[0m \u001b[38;5;28;01mwith\u001b[39;00m np\u001b[38;5;241m.\u001b[39mrandom\u001b[38;5;241m.\u001b[39mRandomState(\u001b[38;5;241m123\u001b[39m) \u001b[38;5;28;01mas\u001b[39;00m r:\n\u001b[1;32m     15\u001b[0m     \u001b[38;5;28mprint\u001b[39m(\u001b[38;5;124m\"\u001b[39m\u001b[38;5;130;01m\\n\u001b[39;00m\u001b[38;5;124mLocal seeded:\u001b[39m\u001b[38;5;124m\"\u001b[39m, r\u001b[38;5;241m.\u001b[39mrand(\u001b[38;5;241m3\u001b[39m))\n",
      "\u001b[0;31mTypeError\u001b[0m: 'numpy.random.mtrand.RandomState' object does not support the context manager protocol"
     ]
    }
   ],
   "source": [
    "# Without seed (different each run)\n",
    "print(\"Unseeded random:\", np.random.rand(3))\n",
    "\n",
    "# With seed (reproducible)\n",
    "np.random.seed(42)\n",
    "first_run = np.random.rand(3)\n",
    "print(\"\\nSeeded first run:\", first_run)\n",
    "\n",
    "np.random.seed(42)  # Reset seed\n",
    "second_run = np.random.rand(3)\n",
    "print(\"Seeded second run:\", second_run)  # Same as first_run\n",
    "\n",
    "# Context manager for local seeding\n",
    "with np.random.RandomState(123) as r:\n",
    "    print(\"\\nLocal seeded:\", r.rand(3))"
   ]
  },
  {
   "cell_type": "code",
   "execution_count": 9,
   "id": "5de450de-1eef-4c07-b60b-73b59023f342",
   "metadata": {},
   "outputs": [
    {
     "name": "stdout",
     "output_type": "stream",
     "text": [
      "Unseeded random: [0.59865848 0.15601864 0.15599452]\n",
      "\n",
      "Seeded first run: [0.37454012 0.95071431 0.73199394]\n",
      "Seeded second run: [0.37454012 0.95071431 0.73199394]\n"
     ]
    },
    {
     "ename": "TypeError",
     "evalue": "'numpy.random.mtrand.RandomState' object does not support the context manager protocol",
     "output_type": "error",
     "traceback": [
      "\u001b[0;31m---------------------------------------------------------------------------\u001b[0m",
      "\u001b[0;31mTypeError\u001b[0m                                 Traceback (most recent call last)",
      "Cell \u001b[0;32mIn[9], line 14\u001b[0m\n\u001b[1;32m     11\u001b[0m \u001b[38;5;28mprint\u001b[39m(\u001b[38;5;124m\"\u001b[39m\u001b[38;5;124mSeeded second run:\u001b[39m\u001b[38;5;124m\"\u001b[39m, second_run)  \u001b[38;5;66;03m# Same as first_run\u001b[39;00m\n\u001b[1;32m     13\u001b[0m \u001b[38;5;66;03m# Context manager for local seeding\u001b[39;00m\n\u001b[0;32m---> 14\u001b[0m \u001b[38;5;28;01mwith\u001b[39;00m np\u001b[38;5;241m.\u001b[39mrandom\u001b[38;5;241m.\u001b[39mRandomState(\u001b[38;5;241m123\u001b[39m) \u001b[38;5;28;01mas\u001b[39;00m r:\n\u001b[1;32m     15\u001b[0m     \u001b[38;5;28mprint\u001b[39m(\u001b[38;5;124m\"\u001b[39m\u001b[38;5;130;01m\\n\u001b[39;00m\u001b[38;5;124mLocal seeded:\u001b[39m\u001b[38;5;124m\"\u001b[39m, r\u001b[38;5;241m.\u001b[39mrand(\u001b[38;5;241m3\u001b[39m))\n",
      "\u001b[0;31mTypeError\u001b[0m: 'numpy.random.mtrand.RandomState' object does not support the context manager protocol"
     ]
    }
   ],
   "source": [
    "# Without seed (different each run)\n",
    "print(\"Unseeded random:\", np.random.rand(3))\n",
    "\n",
    "# With seed (reproducible)\n",
    "np.random.seed(42)\n",
    "first_run = np.random.rand(3)\n",
    "print(\"\\nSeeded first run:\", first_run)\n",
    "\n",
    "np.random.seed(42)  # Reset seed\n",
    "second_run = np.random.rand(3)\n",
    "print(\"Seeded second run:\", second_run)  # Same as first_run\n",
    "\n",
    "# Context manager for local seeding\n",
    "with np.random.RandomState(123) as r:\n",
    "    print(\"\\nLocal seeded:\", r.rand(3))"
   ]
  },
  {
   "cell_type": "markdown",
   "id": "f357e583-f85e-4c60-a3dc-d29827528c53",
   "metadata": {},
   "source": [
    "### Additional Distributions\n",
    "- **Binomial**: `np.random.binomial(n, p, size)`  \n",
    "- **Poisson**: `np.random.poisson(lam, size)`  \n",
    "- **Exponential**: `np.random.exponential(scale, size)`  \n",
    "- **Shuffle**: `np.random.shuffle(arr)`  "
   ]
  },
  {
   "cell_type": "code",
   "execution_count": 10,
   "id": "aff89542-013d-48a1-a579-5dc7a81944d5",
   "metadata": {},
   "outputs": [
    {
     "name": "stdout",
     "output_type": "stream",
     "text": [
      "Heads in 10 flips (5 samples): [5 3 3 3 7]\n",
      "\n",
      "Hourly website visits (λ=3): [2 3 2 3 2 3 0 2 4 2]\n",
      "\n",
      "Shuffled array: [6 8 4 9 1 3 0 5 2 7]\n",
      "Permutation: [2 0 4 3 1]\n"
     ]
    }
   ],
   "source": [
    "# Binomial distribution (n=10 trials, p=0.5 success)\n",
    "coin_flips = np.random.binomial(10, 0.5, 5)\n",
    "print(\"Heads in 10 flips (5 samples):\", coin_flips)\n",
    "\n",
    "# Poisson distribution (λ=3 events)\n",
    "website_visits = np.random.poisson(3, 10)\n",
    "print(\"\\nHourly website visits (λ=3):\", website_visits)\n",
    "\n",
    "# Shuffle array\n",
    "arr = np.arange(10)\n",
    "np.random.shuffle(arr)\n",
    "print(\"\\nShuffled array:\", arr)\n",
    "\n",
    "# Permutations\n",
    "identity = np.arange(5)\n",
    "permuted = np.random.permutation(identity)\n",
    "print(\"Permutation:\", permuted)"
   ]
  },
  {
   "cell_type": "markdown",
   "id": "6a9abf14-94aa-4a3f-888c-c1620e514c1c",
   "metadata": {},
   "source": [
    "### Real-World Use Cases\n",
    "1. **Train/Test Splitting**:  \n",
    "   `indices = np.random.choice(len(data), test_size, replace=False)`  \n",
    "2. **Weight Initialization**:  \n",
    "   `weights = np.random.randn(input_dim, output_dim) * 0.01`  \n",
    "3. **Data Augmentation**:  \n",
    "   Random rotations/flips for images  \n",
    "4. **Bootstrapping**:  \n",
    "   `np.random.choice(data, size=len(data), replace=True)`  "
   ]
  },
  {
   "cell_type": "code",
   "execution_count": 11,
   "id": "f5240cfc-704b-4674-8fb1-776b0554872a",
   "metadata": {},
   "outputs": [
    {
     "name": "stdout",
     "output_type": "stream",
     "text": [
      "\n",
      "Weight matrix:\n",
      " [[ 0.00257117  0.00314513  0.01371862]\n",
      " [ 0.00175553 -0.00309289  0.00673126]\n",
      " [-0.0025663  -0.00367826  0.01273734]\n",
      " [-0.00291953 -0.02655176  0.00345518]\n",
      " [-0.00395516 -0.00289137  0.00452936]]\n"
     ]
    }
   ],
   "source": [
    "# 1. Train-test split\n",
    "data = np.arange(100)\n",
    "test_indices = np.random.choice(100, 20, replace=False)\n",
    "test_set = data[test_indices]\n",
    "train_set = np.delete(data, test_indices)\n",
    "\n",
    "# 2. Neural network initialization\n",
    "def initialize_weights(dims):\n",
    "    return np.random.randn(*dims) * 0.01\n",
    "\n",
    "weights = initialize_weights((5, 3))\n",
    "print(\"\\nWeight matrix:\\n\", weights)\n",
    "\n",
    "# 3. Data shuffling (before training)\n",
    "features = np.random.rand(100, 5)\n",
    "labels = np.random.randint(0, 2, 100)\n",
    "shuffled_indices = np.random.permutation(len(features))\n",
    "shuffled_X = features[shuffled_indices]\n",
    "shuffled_y = labels[shuffled_indices]"
   ]
  },
  {
   "cell_type": "code",
   "execution_count": null,
   "id": "b8b0a5e5-4c44-473d-86d8-2aff6fc05fd2",
   "metadata": {},
   "outputs": [],
   "source": []
  }
 ],
 "metadata": {
  "kernelspec": {
   "display_name": "Python 3 (ipykernel)",
   "language": "python",
   "name": "python3"
  },
  "language_info": {
   "codemirror_mode": {
    "name": "ipython",
    "version": 3
   },
   "file_extension": ".py",
   "mimetype": "text/x-python",
   "name": "python",
   "nbconvert_exporter": "python",
   "pygments_lexer": "ipython3",
   "version": "3.13.5"
  }
 },
 "nbformat": 4,
 "nbformat_minor": 5
}
