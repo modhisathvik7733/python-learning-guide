{
 "cells": [
  {
   "cell_type": "markdown",
   "id": "2ceebe4c-e050-4d85-afed-d072a058e9a3",
   "metadata": {},
   "source": [
    "# Stacking & Splitting Arrays\n",
    "- **Stacking**: Combine arrays along new/existing axis  \n",
    "  `[1,2] + [3,4] → [[1,2], [3,4]]`  \n",
    "- **Splitting**: Divide arrays into sub-arrays  \n",
    "\n",
    "Primary methods:  \n",
    "- Stacking: `np.hstack()`, `np.vstack()`, `np.concatenate()`  \n",
    "- Splitting: `np.split()`, `np.array_split()`, `np.hsplit()`, `np.vsplit()`  "
   ]
  },
  {
   "cell_type": "code",
   "execution_count": 1,
   "id": "ac2a0ae0-2984-40fe-8bb3-3d87bf03b59c",
   "metadata": {},
   "outputs": [
    {
     "name": "stdout",
     "output_type": "stream",
     "text": [
      "1D hstack: [1 2 3 4 5 6]\n",
      "\n",
      "2D hstack:\n",
      " [[1 2 5]\n",
      " [3 4 6]]\n"
     ]
    }
   ],
   "source": [
    "import numpy as np\n",
    "\n",
    "a = np.array([1, 2, 3])\n",
    "b = np.array([4, 5, 6])\n",
    "\n",
    "# 1D horizontal stack\n",
    "h_stack = np.hstack((a, b))\n",
    "print(\"1D hstack:\", h_stack)  # [1,2,3,4,5,6]\n",
    "\n",
    "# 2D horizontal stack\n",
    "matrix_a = np.array([[1,2], [3,4]])\n",
    "matrix_b = np.array([[5], [6]])\n",
    "h_stack_2d = np.hstack((matrix_a, matrix_b))\n",
    "print(\"\\n2D hstack:\\n\", h_stack_2d)\n",
    "# [[1,2,5],\n",
    "#  [3,4,6]]"
   ]
  },
  {
   "cell_type": "code",
   "execution_count": 2,
   "id": "f9c7241d-14e5-4df6-a4e5-c7c32273735d",
   "metadata": {},
   "outputs": [
    {
     "name": "stdout",
     "output_type": "stream",
     "text": [
      "1D vstack:\n",
      " [[1 2 3]\n",
      " [4 5 6]]\n",
      "\n",
      "2D vstack:\n",
      " [[1 2]\n",
      " [3 4]\n",
      " [7 8]]\n"
     ]
    }
   ],
   "source": [
    "# 1D vertical stack (creates 2D)\n",
    "v_stack = np.vstack((a, b))\n",
    "print(\"1D vstack:\\n\", v_stack)\n",
    "# [[1,2,3],\n",
    "#  [4,5,6]]\n",
    "\n",
    "# 2D vertical stack\n",
    "matrix_c = np.array([[7,8]])\n",
    "v_stack_2d = np.vstack((matrix_a, matrix_c))\n",
    "print(\"\\n2D vstack:\\n\", v_stack_2d)\n",
    "# [[1,2],\n",
    "#  [3,4],\n",
    "#  [7,8]]"
   ]
  },
  {
   "cell_type": "markdown",
   "id": "7c63ceaa-588b-4929-981a-b468c838ddb2",
   "metadata": {},
   "source": [
    "### `np.concatenate()` - Flexible Stacking\n",
    "More general than `hstack`/`vstack`:  \n",
    "```python\n",
    "np.concatenate((a,b), axis=0)  # Vertical (default)  \n",
    "np.concatenate((a,b), axis=1)  # Horizontal (2D+)  "
   ]
  },
  {
   "cell_type": "markdown",
   "id": "54e3a6ff-3411-4eab-b28d-1b5cb7ab4913",
   "metadata": {},
   "source": [
    "### `np.concatenate()` - Flexible Stacking\n",
    "More general than `hstack`/`vstack`:  \n",
    "```python\n",
    "np.concatenate((a,b), axis=0)  # Vertical (default)  \n",
    "np.concatenate((a,b), axis=1)  # Horizontal (2D+)  "
   ]
  },
  {
   "cell_type": "code",
   "execution_count": 5,
   "id": "a09754bc-c890-4aa2-8032-e175e8df092c",
   "metadata": {},
   "outputs": [
    {
     "name": "stdout",
     "output_type": "stream",
     "text": [
      "1D concat: [1 2 3 4 5 6]\n",
      "\n",
      "2D vertical concat:\n",
      " [[1 2]\n",
      " [3 4]\n",
      " [7 8]]\n",
      "\n",
      "2D horizontal concat:\n",
      " [[1 2 5]\n",
      " [3 4 6]]\n",
      "\n",
      "3D concat shape: (2, 2, 4)\n"
     ]
    }
   ],
   "source": [
    "\n",
    "#### **Cell 5: Code - Concatenate Examples**\n",
    "\n",
    "# 1D concatenation (axis=0 only)\n",
    "cat_1d = np.concatenate((a, b))\n",
    "print(\"1D concat:\", cat_1d)  # [1,2,3,4,5,6]\n",
    "\n",
    "# 2D vertical (axis=0)\n",
    "v_cat = np.concatenate((matrix_a, matrix_c), axis=0)\n",
    "print(\"\\n2D vertical concat:\\n\", v_cat)\n",
    "\n",
    "# 2D horizontal (axis=1)\n",
    "h_cat = np.concatenate((matrix_a, matrix_b), axis=1)\n",
    "print(\"\\n2D horizontal concat:\\n\", h_cat)\n",
    "\n",
    "# 3D concatenation\n",
    "cube1 = np.ones((2,2,2))\n",
    "cube2 = np.zeros((2,2,2))\n",
    "cat_cube = np.concatenate((cube1, cube2), axis=2)\n",
    "print(\"\\n3D concat shape:\", cat_cube.shape)  # (2,2,4)"
   ]
  },
  {
   "cell_type": "markdown",
   "id": "44b0880c-5fc7-4110-a23b-c949322b0bf5",
   "metadata": {},
   "source": [
    "## Array Splitting\n",
    "Divide arrays into multiple sub-arrays:  \n",
    "- `np.split()`: Equal splits only (error if unequal)  \n",
    "- `np.array_split()`: Allows unequal splits  \n",
    "- `np.hsplit()`/`np.vsplit()`: Axis-specific shortcuts  "
   ]
  },
  {
   "cell_type": "code",
   "execution_count": 6,
   "id": "00e3365f-a0e1-47f2-9aed-3fc41fce29c2",
   "metadata": {},
   "outputs": [
    {
     "name": "stdout",
     "output_type": "stream",
     "text": [
      "2 equal splits: [[0, 1, 2, 3, 4], [5, 6, 7, 8, 9]]\n",
      "\n",
      "4 unequal splits: [[0, 1, 2], [3, 4, 5], [6, 7], [8, 9]]\n",
      "\n",
      "Row splitting:\n",
      " [[1 2 3]\n",
      " [4 5 6]] \n",
      " [[7 8 9]]\n"
     ]
    }
   ],
   "source": [
    "arr = np.arange(10)  # [0,1,2,3,4,5,6,7,8,9]\n",
    "\n",
    "# Equal splits (must divide evenly)\n",
    "split_equal = np.split(arr, 2)\n",
    "print(\"2 equal splits:\", [a.tolist() for a in split_equal])  # [[0,1,2,3,4], [5,6,7,8,9]]\n",
    "\n",
    "# Unequal splits (requires array_split)\n",
    "split_unequal = np.array_split(arr, 4)\n",
    "print(\"\\n4 unequal splits:\", [a.tolist() for a in split_unequal])\n",
    "# [[0,1,2], [3,4,5], [6,7], [8,9]]\n",
    "\n",
    "# 2D splitting\n",
    "matrix = np.arange(1,10).reshape(3,3)\n",
    "split_rows = np.array_split(matrix, 2, axis=0)\n",
    "print(\"\\nRow splitting:\\n\", split_rows[0], \"\\n\", split_rows[1])\n",
    "# [[1,2,3],\n",
    "#  [4,5,6]] and [[7,8,9]]"
   ]
  },
  {
   "cell_type": "code",
   "execution_count": 7,
   "id": "ad362f6d-6f27-4969-97cb-14fb3f29cd84",
   "metadata": {},
   "outputs": [
    {
     "name": "stdout",
     "output_type": "stream",
     "text": [
      "hsplit results:\n",
      "[[1]\n",
      " [3]]\n",
      "[[2]\n",
      " [4]]\n",
      "[[9]\n",
      " [8]]\n",
      "\n",
      "vsplit results:\n",
      "[[1 2 9]]\n",
      "[[3 4 8]]\n",
      "\n",
      "Custom splits: [[0, 1, 2], [3, 4, 5, 6], [7, 8, 9]]\n"
     ]
    }
   ],
   "source": [
    "# Horizontal splitting (columns)\n",
    "matrix = np.array([[1,2,9], [3,4,8]])\n",
    "h_split = np.hsplit(matrix, 3)  # Must divide evenly\n",
    "print(\"hsplit results:\")\n",
    "for arr in h_split:\n",
    "    print(arr)\n",
    "\n",
    "# Vertical splitting (rows)\n",
    "v_split = np.vsplit(matrix, 2)\n",
    "print(\"\\nvsplit results:\")\n",
    "for arr in v_split:\n",
    "    print(arr)\n",
    "\n",
    "# Split at specific indices\n",
    "arr = np.arange(10)\n",
    "custom_split = np.split(arr, [3, 7])  # Split at indices 3 and 7\n",
    "print(\"\\nCustom splits:\", [a.tolist() for a in custom_split])  # [0:3], [3:7], [7:10]"
   ]
  },
  {
   "cell_type": "markdown",
   "id": "efa1e256-e322-4b31-a39f-e7ce8a55247c",
   "metadata": {},
   "source": [
    "### Real-World Use Cases\n",
    "1. **Train/Test Splitting**:  \n",
    "   `X_train, X_test = np.array_split(data, [800])`  \n",
    "2. **Batch Processing**:  |\n",
    "   Split large dataset into chunks  \n",
    "3. **Feature/Label Separation**:  \n",
    "   `features, labels = np.hsplit(dataset, [-1])`  \n",
    "4. **Image Patch Extraction**:  \n",
    "   Split image into tiles  "
   ]
  },
  {
   "cell_type": "code",
   "execution_count": 8,
   "id": "6f729610-9829-4b16-b5b9-4ba71346f420",
   "metadata": {},
   "outputs": [
    {
     "name": "stdout",
     "output_type": "stream",
     "text": [
      "Train shape: (800, 5)\n",
      "Test shape: (200, 5)\n",
      "\n",
      "Features shape: (1000, 5)\n",
      "Labels shape: (1000, 1)\n",
      "\n",
      "Tile shape: (32, 32)\n"
     ]
    }
   ],
   "source": [
    "# 1. Train-test split\n",
    "data = np.random.rand(1000, 5)\n",
    "train, test = np.array_split(data, [800], axis=0)\n",
    "print(\"Train shape:\", train.shape)  # (800,5)\n",
    "print(\"Test shape:\", test.shape)    # (200,5)\n",
    "\n",
    "# 2. Feature/label separation\n",
    "dataset = np.hstack((data, np.random.rand(1000,1)))  # Add labels\n",
    "features, labels = np.hsplit(dataset, [-1])  # Last column is label\n",
    "print(\"\\nFeatures shape:\", features.shape)  # (1000,5)\n",
    "print(\"Labels shape:\", labels.shape)       # (1000,1)\n",
    "\n",
    "# 3. Image tiling\n",
    "image = np.random.rand(256, 256)\n",
    "tiles = [np.hsplit(row, 8) for row in np.vsplit(image, 8)]\n",
    "print(\"\\nTile shape:\", tiles[0][0].shape)  # (32,32)"
   ]
  },
  {
   "cell_type": "code",
   "execution_count": null,
   "id": "e4213e85-f3d1-4c27-82b2-36696a844288",
   "metadata": {},
   "outputs": [],
   "source": []
  }
 ],
 "metadata": {
  "kernelspec": {
   "display_name": "Python 3 (ipykernel)",
   "language": "python",
   "name": "python3"
  },
  "language_info": {
   "codemirror_mode": {
    "name": "ipython",
    "version": 3
   },
   "file_extension": ".py",
   "mimetype": "text/x-python",
   "name": "python",
   "nbconvert_exporter": "python",
   "pygments_lexer": "ipython3",
   "version": "3.13.5"
  }
 },
 "nbformat": 4,
 "nbformat_minor": 5
}
