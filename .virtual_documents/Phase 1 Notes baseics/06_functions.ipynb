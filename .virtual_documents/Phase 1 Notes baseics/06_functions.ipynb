# ===================================================================================================
# PYTHON FUNCTIONS - COMPLETE GUIDE
# ===================================================================================================
# def, return, default arguments, *args, **kwargs - Everything you need to know

# =========================
# BASIC FUNCTION DEFINITION
# =========================
# Functions are reusable blocks of code that perform specific tasks



# Simple function with no parameters
def greet():
    """A simple function that prints a greeting"""
    print("Hello, World!")

# Calling the function
print("Calling greet():")
greet()



# Function with parameters
def greet_person(name):
    """Function that greets a specific person"""
    print(f"Hello, {name}!")

print("\nCalling greet_person('Alice'):")
greet_person("Alice")


# Function with multiple parameters
def introduce(name, age, city):
    """Function with multiple parameters"""
    print(f"Hi, I'm {name}, I'm {age} years old, and I live in {city}.")

print("\nCalling introduce('Bob', 25, 'New York'):")
introduce("Bob", 25, "New York")

print("\n" + "="*60)


# =========================
# RETURN STATEMENT
# =========================
# Functions can return values back to the caller





# Function that returns a value
def add_numbers(a, b):
    """Function that returns the sum of two numbers"""
    result = a + b
    return result



# Using the returned value
print("Function that returns a value:")
sum_result = add_numbers(5, 3)
print(f"add_numbers(5, 3) = {sum_result}")


# Function with multiple return values (returns a tuple)
def get_name_age():
    """Function that returns multiple values"""
    name = "Charlie"
    age = 30
    return name, age

print("\nFunction returning multiple values:")
person_name, person_age = get_name_age()
print(f"Name: {person_name}, Age: {person_age}")


# Function with conditional returns
def check_even_odd(number):
    """Function with conditional return statements"""
    if number % 2 == 0:
        return "even"
    else:
        return "odd"

print(f"\ncheck_even_odd(4) = {check_even_odd(4)}")
print(f"check_even_odd(7) = {check_even_odd(7)}")


# Early return (guard clause)
def divide_numbers(a, b):
    """Function with early return for error handling"""
    if b == 0:
        return "Error: Cannot divide by zero"
    return a / b

print(f"\ndivide_numbers(10, 2) = {divide_numbers(10, 2)}")
print(f"divide_numbers(10, 0) = {divide_numbers(10, 0)}")

print("\n" + "="*60)





# =========================
# DEFAULT ARGUMENTS
# =========================
# Parameters can have default values


# Function with default parameters
def greet_with_title(name, title="Mr./Ms."):
    """Function with default argument"""
    return f"Hello, {title} {name}!"

print("Function with default arguments:")
print(greet_with_title("Smith"))  # Uses default title
print(greet_with_title("Johnson", "Dr."))  # Overrides default


# Multiple default arguments
def create_profile(name, age=25, city="Unknown", occupation="Student"):
    """Function with multiple default arguments"""
    return {
        "name": name,
        "age": age,
        "city": city,
        "occupation": occupation
    }

print("\nMultiple default arguments:")
print("create_profile('Alice'):")
print(create_profile("Alice"))

print("\ncreate_profile('Bob', 30, 'Boston'):")
print(create_profile("Bob", 30, "Boston"))

print("\ncreate_profile('Charlie', city='Chicago', occupation='Engineer'):")
print(create_profile("Charlie", city="Chicago", occupation="Engineer"))




# Default argument with mutable objects (CAREFUL!)
def add_item_wrong(item, target_list=[]):  # DANGEROUS!
    """DON'T DO THIS - mutable default argument"""
    target_list.append(item)
    return target_list

def add_item_correct(item, target_list=None):
    """CORRECT WAY - use None and create new list"""
    if target_list is None:
        target_list = []
    target_list.append(item)
    return target_list

print("\nDemonstrating mutable default argument problem:")
print("Wrong way:")
result1 = add_item_wrong("apple")
result2 = add_item_wrong("banana")
print(f"First call: {result1}")
print(f"Second call: {result2}")  # Notice both items appear!

print("\nCorrect way:")
result3 = add_item_correct("apple")
result4 = add_item_correct("banana")
print(f"First call: {result3}")
print(f"Second call: {result4}")  # Each call gets fresh list

print("\n" + "="*60)


# Using **kwargs to unpack a dictionary
def display_person(name, age, city):
    """Function that expects specific keyword arguments"""
    print(f"Name: {name}, Age: {age}, City: {city}")

person_data = {"name": "Bob", "age": 35, "city": "Chicago"}
print(f"\nUsing **kwargs to unpack dictionary:")
display_person(**person_data)

print("\n" + "="*60)





# =========================
# COMBINING ALL PARAMETER TYPES
# =========================
# The order: regular, *args, **kwargs



def complex_function(required_param, default_param="default", *args, **kwargs):
    """Function demonstrating all parameter types"""
    print(f"Required parameter: {required_param}")
    print(f"Default parameter: {default_param}")
    print(f"Variable positional arguments (*args): {args}")
    print(f"Variable keyword arguments (**kwargs): {kwargs}")
    
    # Process all arguments
    result = {
        "required": required_param,
        "default": default_param,
        "extra_positional": list(args),
        "extra_keyword": kwargs
    }
    return result

print("Complex function with all parameter types:")
result = complex_function(
    "must_provide",           # required_param
    "custom_default",         # default_param
    "extra1", "extra2",       # *args
    bonus="value1",           # **kwargs
    special="value2"          # **kwargs
)
print(f"Result: {result}")



# Real-world example: flexible configuration function
def configure_server(host, port=8080, *middleware, **settings):
    """Real-world example of flexible function"""
    config = {
        "host": host,
        "port": port,
        "middleware": list(middleware),
        "settings": settings
    }
    
    print("Server Configuration:")
    print(f"  Host: {config['host']}")
    print(f"  Port: {config['port']}")
    print(f"  Middleware: {config['middleware']}")
    print(f"  Settings: {config['settings']}")
    
    return config

print("\nReal-world example:")
server_config = configure_server(
    "localhost",              # host
    3000,                     # port
    "auth", "logging",        # middleware (*args)
    debug=True,               # settings (**kwargs)
    ssl_enabled=False,        # settings (**kwargs)
    max_connections=100       # settings (**kwargs)
)

print("\n" + "="*60)


# =========================
# ADVANCED FUNCTION CONCEPTS
# =========================

print("=== ADVANCED FUNCTION CONCEPTS ===")

# Nested functions
def outer_function(x):
    """Function containing another function"""
    def inner_function(y):
        return x + y
    
    return inner_function

print("Nested functions:")
add_five = outer_function(5)
print(f"add_five(3) = {add_five(3)}")

# Function as argument (higher-order function)
def apply_operation(numbers, operation):
    """Function that takes another function as argument"""
    return [operation(num) for num in numbers]

def square(x):
    return x ** 2

def cube(x):
    return x ** 3

numbers = [1, 2, 3, 4, 5]
print(f"\nHigher-order functions:")
print(f"Original numbers: {numbers}")
print(f"Squared: {apply_operation(numbers, square)}")
print(f"Cubed: {apply_operation(numbers, cube)}")

# Lambda functions (anonymous functions)
print(f"\nUsing lambda functions:")
print(f"Doubled: {apply_operation(numbers, lambda x: x * 2)}")
print(f"Plus 10: {apply_operation(numbers, lambda x: x + 10)}")

# Function returning function
def create_multiplier(factor):
    """Function that returns a function"""
    def multiplier(number):
        return number * factor
    return multiplier

times_3 = create_multiplier(3)
times_7 = create_multiplier(7)

print(f"\nFunction returning function:")
print(f"times_3(4) = {times_3(4)}")
print(f"times_7(6) = {times_7(6)}")

print("\n" + "="*60)






# =========================
# FUNCTION DECORATORS INTRODUCTION
# =========================



# Simple decorator
def my_decorator(func):
    """Simple decorator that adds functionality"""
    def wrapper(*args, **kwargs):
        print(f"Before calling {func.__name__}")
        result = func(*args, **kwargs)
        print(f"After calling {func.__name__}")
        return result
    return wrapper

# Using decorator
@my_decorator
def say_hello(name):
    """Function with decorator"""
    print(f"Hello, {name}!")
    return f"Greeted {name}"

print("Function with decorator:")
result = say_hello("Alice")
print(f"Returned: {result}")



# Timing decorator
import time

def timer(func):
    """Decorator to measure function execution time"""
    def wrapper(*args, **kwargs):
        start_time = time.time()
        result = func(*args, **kwargs)
        end_time = time.time()
        print(f"{func.__name__} took {end_time - start_time:.4f} seconds")
        return result
    return wrapper

@timer
def slow_function():
    """Function that takes some time"""
    time.sleep(0.1)  # Simulate work
    return "Work completed"

print(f"\nTimed function:")
result = slow_function()

print("\n" + "="*60)



# =========================
# DOCSTRINGS AND ANNOTATIONS
# =========================



def calculate_area(length: float, width: float) -> float:
    """
    Calculate the area of a rectangle.
    
    Args:
        length (float): The length of the rectangle
        width (float): The width of the rectangle
    
    Returns:
        float: The area of the rectangle
    
    Example:
        >>> calculate_area(5.0, 3.0)
        15.0
    """
    return length * width

print("Function with type annotations and docstring:")
print(f"calculate_area(5.0, 3.0) = {calculate_area(5.0, 3.0)}")
print(f"Function docstring: {calculate_area.__doc__}")


# Accessing function information
def example_function(x: int, y: str = "default") -> str:
    """Example function for introspection"""
    return f"{y}: {x}"

print(f"\nFunction introspection:")
print(f"Function name: {example_function.__name__}")
print(f"Function annotations: {example_function.__annotations__}")

print("\n" + "="*60)


# =========================
# RECURSION
# =========================



# Simple recursive function
def factorial(n):
    """Calculate factorial using recursion"""
    # Base case
    if n <= 1:
        return 1
    # Recursive case
    return n * factorial(n - 1)

print("Recursive factorial:")
print(f"factorial(5) = {factorial(5)}")
print(f"factorial(0) = {factorial(0)}")



# Fibonacci sequence
def fibonacci(n):
    """Calculate Fibonacci number using recursion"""
    if n <= 1:
        return n
    return fibonacci(n - 1) + fibonacci(n - 2)

print(f"\nFibonacci sequence:")
for i in range(8):
    print(f"fibonacci({i}) = {fibonacci(i)}")



# Recursive function with memoization
def fibonacci_memo(n, memo={}):
    """Optimized Fibonacci with memoization"""
    if n in memo:
        return memo[n]
    if n <= 1:
        return n
    memo[n] = fibonacci_memo(n - 1, memo) + fibonacci_memo(n - 2, memo)
    return memo[n]

print(f"\nOptimized Fibonacci:")
print(f"fibonacci_memo(30) = {fibonacci_memo(30)}")

print("\n" + "="*60)






# =========================
# PRACTICAL EXAMPLES
# =========================



# Example 1: Data processing function
def process_student_data(*students, **options):
    """Process student data with flexible options"""
    print(f"Processing {len(students)} students")
    print(f"Options: {options}")
    
    results = []
    for student in students:
        name, *grades = student  # Unpack name and grades
        avg_grade = sum(grades) / len(grades) if grades else 0
        
        student_result = {
            "name": name,
            "grades": grades,
            "average": avg_grade,
            "status": "Pass" if avg_grade >= options.get("pass_grade", 60) else "Fail"
        }
        results.append(student_result)
    
    if options.get("sort_by_average", False):
        results.sort(key=lambda x: x["average"], reverse=True)
    
    return results

print("Data processing example:")
student_results = process_student_data(
    ("Alice", 85, 90, 78),
    ("Bob", 76, 82, 88),
    ("Charlie", 92, 95, 89),
    pass_grade=80,
    sort_by_average=True
)

for result in student_results:
    print(f"{result['name']}: Average {result['average']:.1f} - {result['status']}")



# Example 2: Configuration builder
def build_config(app_name, **settings):
    """Build application configuration"""
    default_config = {
        "debug": False,
        "port": 8080,
        "host": "localhost",
        "database_url": "sqlite:///app.db"
    }
    
    # Merge defaults with provided settings
    config = {**default_config, **settings}
    config["app_name"] = app_name
    
    return config

print(f"\nConfiguration builder:")
app_config = build_config(
    "MyApp",
    debug=True,
    port=3000,
    database_url="postgresql://localhost/mydb"
)
print(f"App config: {app_config}")


# Example 3: Flexible calculator
def calculate(operation, *numbers, precision=2):
    """Flexible calculator function"""
    if not numbers:
        return 0
    
    if operation == "add":
        result = sum(numbers)
    elif operation == "multiply":
        result = 1
        for num in numbers:
            result *= num
    elif operation == "average":
        result = sum(numbers) / len(numbers)
    elif operation == "max":
        result = max(numbers)
    elif operation == "min":
        result = min(numbers)
    else:
        return f"Unknown operation: {operation}"
    
    return round(result, precision)

print(f"\nFlexible calculator:")
print(f"Add: {calculate('add', 1, 2, 3, 4, 5)}")
print(f"Multiply: {calculate('multiply', 2, 3, 4)}")
print(f"Average: {calculate('average', 10, 20, 30, 40, 50, precision=1)}")
print(f"Max: {calculate('max', 15, 8, 23, 42, 7)}")

print("\n" + "="*60)




# =========================
# BEST PRACTICES AND COMMON MISTAKES
# =========================



print("=== BEST PRACTICES AND COMMON MISTAKES ===")

print("\n✅ BEST PRACTICES:")
print("1. Use descriptive function names")
print("2. Write clear docstrings")
print("3. Keep functions focused on one task")
print("4. Use type hints for clarity")
print("5. Handle edge cases appropriately")
print("6. Use default arguments wisely")
print("7. Avoid mutable default arguments")

print("\n❌ COMMON MISTAKES:")



# Mistake 1: Mutable default arguments
print("\n1. Mutable default arguments:")
def bad_function(items=[]):  # DON'T DO THIS
    items.append("new")
    return items

def good_function(items=None):  # DO THIS
    if items is None:
        items = []
    items.append("new")
    return items

print("   Bad: Functions share the same list")
print("   Good: Each call gets a fresh list")


# Mistake 2: Not handling edge cases
print("\n2. Not handling edge cases:")
def divide_safe(a, b):
    """Safe division with error handling"""
    if b == 0:
        return None
    return a / b

print("   Always check for invalid inputs like division by zero")


# Mistake 3: Functions doing too much
print("\n3. Functions doing too much:")
print("   Bad: process_user_data_and_send_email_and_log()")
print("   Good: process_data(), send_email(), log_action()")

print("\n" + "="*60)


# =========================
# SUMMARY
# =========================



print("=== SUMMARY ===")
print()
print("🎯 FUNCTION BASICS:")
print("• def function_name(): - Define a function")
print("• return value - Return a value from function")
print("• Functions can have parameters and return values")
print()
print("🔧 PARAMETER TYPES:")
print("• Regular parameters: def func(a, b)")
print("• Default arguments: def func(a, b=default)")
print("• *args: Accept any number of positional arguments")
print("• **kwargs: Accept any number of keyword arguments")
print()
print("📏 PARAMETER ORDER:")
print("• def func(required, default=value, *args, **kwargs)")
print("• This order must be followed!")
print()
print("🚀 ADVANCED CONCEPTS:")
print("• Nested functions and closures")
print("• Functions as arguments and return values")
print("• Decorators for adding functionality")
print("• Recursion for self-calling functions")
print()
print("💡 BEST PRACTICES:")
print("• Use clear, descriptive names")
print("• Write comprehensive docstrings")
print("• Handle edge cases properly")
print("• Avoid mutable default arguments")
print("• Keep functions focused and simple")
print()
print("🎯 REMEMBER:")
print("Functions are the building blocks of Python programs!")
print("Master them to write clean, reusable, and maintainable code.")

print("\n" + "="*70)
print("END OF FUNCTIONS GUIDE")
print("="*70)



