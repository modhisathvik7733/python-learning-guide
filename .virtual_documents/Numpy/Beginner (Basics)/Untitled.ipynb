


import numpy as np
import sys

# Verify installation
print(f"NumPy version: {np.__version__}")
print(f"Python version: {sys.version}")

# Conventional alias check
assert np.array([1, 2, 3]).sum() == 6, "Import failed!"





import time
import random

size = 10_000_000  # 10 million elements

# Python list test
py_list = [random.random() for _ in range(size)]
start = time.time()
py_squared = [x**2 for x in py_list]
py_time = time.time() - start

# NumPy array test
np_array = np.random.random(size)
start = time.time()
np_squared = np_array**2
np_time = time.time() - start

# Memory comparison
list_mem = sys.getsizeof(py_list) + sum(sys.getsizeof(x) for x in py_list)
np_mem = np_array.nbytes

# Results
print(f"\nPython list time: {py_time:.4f} seconds")
print(f"NumPy array time: {np_time:.4f} seconds")
print(f"Speed ratio: {py_time/np_time:.1f}x faster")
print(f"\nPython list memory: {list_mem/1e6:.2f} MB")
print(f"NumPy array memory: {np_mem/1e6:.2f} MB")
print(f"Memory ratio: {list_mem/np_mem:.1f}x more efficient")






