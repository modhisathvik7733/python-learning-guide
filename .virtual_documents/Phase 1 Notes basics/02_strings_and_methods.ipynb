# Strings in Python


# A string is a sequence of characters, enclosed in single, double, or triple quotes.
greeting = "Hello, World!"
single_quote = 'Python'
multi_line = """This is
a multi-line
string."""



# Secret: Strings are immutable. You can't change a character in place.
# greeting[0] = "h"  # This will raise an error


# You can reassign the variable to a new string:
greeting = "Hi, Universe!"


# String concatenation (joining strings)
full_greeting = greeting + " " + single_quote
print(full_greeting)  # Output: Hi, Universe! Python


# String repetition
echo = "ha" * 3
print(echo)  # Output: hahaha



# String indexing and slicing
word = "Python"
print(word[0])    # Output: P (first character)
print(word[-1])   # Output: n (last character)
print(word[1:4])  # Output: yth (characters at index 1,2,3)


# Secret: Slicing never raises an error, even if the range is out of bounds.
print(word[2:100])  # Output: thon


# Common string methods:
text = "  hello, python!  "
text1 = "hello,python,world"


print(text.upper())      # HELLO, PYTHON!
print(text.lower())      # hello, python!
print(text.strip())      # hello, python!   (removes leading/trailing whitespace)
print(text.replace("python", "world"))  #   hello, world!
print(text1.split(","))  # Output: ['hello', 'python', 'world']
print(text.find("python"))  # 9 (index where "python" starts)
print(text.startswith("  he"))  # True
print(text.endswith("!  "))     # True


# Secret: Strings are iterable, so you can loop through each character
for anyVar in "abc":
    print(anyVar)



# Secret: You can use 'in' to check for substrings
print("py" in text)  # True


# Formatting strings (f-strings, recommended in Python 3.6+)
name = "Alice"
age = 30
print(f"My name is {name} and I am {age} years old.")


# Other formatting options (not recommended for new code):
print("My name is {} and I am {} years old.".format(name, age))
print("My name is %s and I am %d years old." % (name, age))


# Secret: Triple quotes allow multi-line strings and docstrings for functions/classes.
def greet():
    hi = """
    This is a docstring.
    It describes what the function does.
    """
    print("Hello!",hi)


"""main block (any method execution should be done from main usually or can be classed from other method or just normally
   main is used to execute something only when script is run not imported)"""
if __name__ == "__main__":
    greet()





# Python String Methods - Comprehensive Reference with Detailed Comments

# Sample strings for demonstration
text = "  Hello World Python Programming  "
sentence = "The quick brown fox jumps over the lazy dog"
mixed = "Hello123World"
email = "user@example.com"


print("=== BASIC STRING OPERATIONS ===")
# len() - Returns the number of characters in the string (including spaces)
print(f"Original: '{text}'")
print(f"Length: {len(text)}")


# Indexing - Access individual characters using square brackets [index]
# Python uses 0-based indexing, negative indices count from the end
print(f"Character at index 2: '{text[2]}'")


# Slicing - Extract a portion of string using [start:end] (end is exclusive)
print(f"Slice [2:7]: '{text[2:7]}'")


print("\n=== CASE CONVERSION ===")
# lower() - Converts all characters to lowercase
print(f"lower(): '{text.lower()}'")

# upper() - Converts all characters to uppercase
print(f"upper(): '{text.upper()}'")

# capitalize() - Makes first character uppercase, rest lowercase
print(f"capitalize(): '{sentence.capitalize()}'")

# title() - Capitalizes the first letter of each word
print(f"title(): '{sentence.title()}'")

# swapcase() - Converts uppercase to lowercase and vice versa
print(f"swapcase(): '{sentence.swapcase()}'")

# casefold() - More aggressive lowercase conversion, handles special Unicode cases
print(f"casefold(): '{text.casefold()}'")  



print("\n=== WHITESPACE HANDLING ===")
# strip() - Removes whitespace (spaces, tabs, newlines) from both ends
print(f"strip(): '{text.strip()}'")

# lstrip() - Removes whitespace from the left (beginning) only
print(f"lstrip(): '{text.lstrip()}'")

# rstrip() - Removes whitespace from the right (end) only
print(f"rstrip(): '{text.rstrip()}'")

# strip(chars) - Remove specific characters from both ends
print(f"strip('H '): '{text.strip('H ')}'")  # Custom characters


print("\n=== SEARCH & FIND ===")
# find(substring) - Returns index of first occurrence, -1 if not found
print(f"find('World'): {text.find('World')}")

# rfind(substring) - Returns index of last occurrence, -1 if not found
print(f"rfind('o'): {text.rfind('o')}")

# index(substring) - Like find() but raises ValueError if not found
print(f"index('World'): {text.index('World')}")

# count(substring) - Returns number of non-overlapping occurrences
print(f"count('o'): {text.count('o')}")

# 'in' operator - Returns True if substring exists in string
print(f"'World' in text: {'World' in text}")


print("\n=== BOOLEAN CHECKS ===")
# startswith(prefix) - Returns True if string starts with specified prefix
print(f"startswith('  He'): {text.startswith('  He')}")

# endswith(suffix) - Returns True if string ends with specified suffix
print(f"endswith('ing  '): {text.endswith('ing  ')}")

# isalpha() - Returns True if all characters are alphabetic (a-z, A-Z)
print(f"isalpha(): '{mixed}'.isalpha() = {mixed.isalpha()}")

# isdigit() - Returns True if all characters are digits (0-9)
print(f"isdigit(): '123'.isdigit() = {'123'.isdigit()}")

# isalnum() - Returns True if all characters are alphanumeric (letters or digits)
print(f"isalnum(): '{mixed}'.isalnum() = {mixed.isalnum()}")

# isspace() - Returns True if all characters are whitespace
print(f"isspace(): '   '.isspace() = {'   '.isspace()}")

# isupper() - Returns True if all cased characters are uppercase
print(f"isupper(): 'HELLO'.isupper() = {'HELLO'.isupper()}")

# islower() - Returns True if all cased characters are lowercase
print(f"islower(): 'hello'.islower() = {'hello'.islower()}")

# istitle() - Returns True if string is in title case (each word capitalized)
print(f"istitle(): 'Hello World'.istitle() = {'Hello World'.istitle()}")

# isdecimal() - Returns True if all characters are decimal numbers (0-9)
print(f"isdecimal(): '123'.isdecimal() = {'123'.isdecimal()}")

# isnumeric() - Returns True if all characters are numeric (includes digits, fractions, subscripts)
print(f"isnumeric(): '123'.isnumeric() = {'123'.isnumeric()}")

# isascii() - Returns True if all characters are ASCII characters
print(f"isascii(): 'hello'.isascii() = {'hello'.isascii()}")

# isprintable() - Returns True if all characters are printable (no control characters)
print(f"isprintable(): 'hello\\n'.isprintable() = {'hello\n'.isprintable()}")



print("\n=== REPLACE & SUBSTITUTE ===")
# replace(old, new) - Replaces all occurrences of old substring with new
print(f"replace('World', 'Universe'): '{text.replace('World', 'Universe')}'")

# replace(old, new, count) - Replace only specified number of occurrences
print(f"replace('o', 'X', 2): '{text.replace('o', 'X', 2)}'")  

print("\n=== SPLIT & JOIN ===")
# split() - Splits string into list using whitespace as delimiter
words = sentence.split()
print(f"split(): {words}")

# split(separator, maxsplit) - Split using specified separator with max splits
print(f"split(' ', 3): {sentence.split(' ', 3)}")

# rsplit() - Split from the right side of the string
print(f"rsplit(' ', 2): {sentence.rsplit(' ', 2)}")

# splitlines() - Split string at line breaks (\n, \r, \r\n)
print(f"splitlines(): {'Line1\\nLine2\\nLine3'.splitlines()}")

# join(iterable) - Joins elements of iterable with string as separator
print(f"' '.join(words[:3]): '{' '.join(words[:3])}'")
print(f"'-'.join(['a', 'b', 'c']): '{'-'.join(['a', 'b', 'c'])}'")


print("\n=== PARTITION & SPLIT ===")
# partition(separator) - Split into 3 parts: before separator, separator, after
print(f"partition('@'): {email.partition('@')}")

# rpartition(separator) - Partition from the right side
print(f"rpartition('.'): {email.rpartition('.')}")


print("\n=== ALIGNMENT & PADDING ===")
word = "Python"
# center(width, fillchar) - Center string in field of given width
print(f"center(20, '*'): '{word.center(20, '*')}'")

# ljust(width, fillchar) - Left-justify string in field of given width
print(f"ljust(15, '-'): '{word.ljust(15, '-')}'")

# rjust(width, fillchar) - Right-justify string in field of given width
print(f"rjust(15, '-'): '{word.rjust(15, '-')}'")

# zfill(width) - Pad numeric string with zeros on the left
print(f"zfill(10): '42'.zfill(10) = '{'42'.zfill(10)}'")


print("\n=== ENCODING & FORMATTING ===")
# encode(encoding) - Encode string to bytes using specified encoding
print(f"encode('utf-8'): {word.encode('utf-8')}")

# format() - Format string using placeholders with named arguments
template = "Hello {name}, you are {age} years old"
print(f"format(): '{template.format(name='Alice', age=30)}'")

# format() with positional arguments
template2 = "Hello {0}, you are {1} years old"
print(f"format(positional): '{template2.format('Bob', 25)}'")



print("\n=== STRING TRANSLATION ===")
# str.maketrans() creates translation table for translate() method
# translate(table) - Replace characters according to translation table
trans = str.maketrans('aeiou', '12345')  # Map vowels to numbers
print(f"translate(): '{'hello world'.translate(trans)}'")

# Translation table for removing characters (third parameter)
trans2 = str.maketrans('', '', 'aeiou')  # Remove all vowels
print(f"translate(remove vowels): '{'hello world'.translate(trans2)}'")


print("\n=== PREFIX & SUFFIX OPERATIONS ===")
# removeprefix(prefix) - Remove prefix if present (Python 3.9+)
print(f"removeprefix('  He'): '{text.removeprefix('  He')}'")

# removesuffix(suffix) - Remove suffix if present (Python 3.9+)
print(f"removesuffix('ing  '): '{text.removesuffix('ing  ')}'")


print("\n=== ADVANCED STRING OPERATIONS ===")
# expandtabs(tabsize) - Replace tab characters with spaces
tabbed = "Hello\tWorld\tPython"
print(f"expandtabs(4): '{tabbed.expandtabs(4)}'")

# f-strings - Modern string formatting (Python 3.6+)
name = "Python"
version = 3.11
print(f"f-string: 'Welcome to {name} {version}!'")

# Format specifications in f-strings
number = 123.456789
print(f"Format number: {number:.2f}")           # 2 decimal places
print(f"Format percentage: {0.85:.1%}")         # Percentage with 1 decimal
print(f"Format with commas: {1234567:,}")       # Thousands separator


print("\n=== STRING CONSTANTS (from string module) ===")
import string
# Pre-defined string constants for common character sets
print(f"ascii_letters: {string.ascii_letters}")    # a-z, A-Z
print(f"digits: {string.digits}")                  # 0-9
print(f"punctuation: {string.punctuation[:20]}...") # Punctuation marks
print(f"whitespace repr: {repr(string.whitespace)}")# Space, tab, newline, etc.


print("\n=== REGULAR EXPRESSIONS (re module) ===")
import re
pattern_text = "Contact: john@email.com or call 123-456-7890"

# findall() - Find all matches of pattern in string
print(f"findall emails: {re.findall(r'\\b[A-Za-z0-9._%+-]+@[A-Za-z0-9.-]+\\.[A-Z|a-z]{2,}\\b', pattern_text)}")
print(f"findall phones: {re.findall(r'\\d{3}-\\d{3}-\\d{4}', pattern_text)}")

# sub() - Substitute matches with replacement string
print(f"sub (replace): '{re.sub(r'\\d', 'X', pattern_text)}'")


print("\n=== STRING METHODS CHAINING ===")
# You can chain multiple string methods together for complex operations
messy_text = "  HELLO world PYTHON programming  "
cleaned = messy_text.strip().lower().replace('world', 'universe').title()
print(f"Chained operations: '{cleaned}'")



print("\n=== ESCAPE SEQUENCES ===")
# Special characters that need backslash escaping
escaped = "Line 1\\nLine 2\\tTabbed\\\\Backslash\\\"Quote"
print(f"Raw string: {repr(escaped)}")    # Shows actual characters
print(f"Interpreted: {escaped}")         # Shows interpreted result



print("\n=== STRING COMPARISON ===")
# Strings are compared lexicographically (dictionary order)
str1, str2 = "apple", "banana"
print(f"'{str1}' < '{str2}': {str1 < str2}")     # Lexicographic comparison
print(f"'{str1}' == '{str2}': {str1 == str2}")   # Equality check



