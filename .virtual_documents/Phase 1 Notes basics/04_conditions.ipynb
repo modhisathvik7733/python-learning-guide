# ===================================================================================================
# PYTHON CONDITIONALS - COMPLETE GUIDE
# ===================================================================================================
# if, elif, else statements - Making decisions in your code






# =========================
# BASIC IF STATEMENT
# =========================
# The simplest form - do something only if a condition is True

age = 18
print("=== BASIC IF STATEMENT ===")

if age >= 18:
    print("You are an adult!")
    print("You can vote!")

print("This line always runs")


# Structure: if CONDITION:
#               INDENTED CODE BLOCK

print("\n" + "="*50)





# =========================
# IF-ELSE STATEMENT
# =========================
# Do one thing if True, another if False


temperature = 75
print("=== IF-ELSE STATEMENT ===")

if temperature > 80:
    print("It's hot outside! 🌞")
    print("Wear light clothes")
else:
    print("It's not too hot 🌤️")
    print("You might need a light jacket")

print(f"Current temperature: {temperature}°F")

print("\n" + "="*50)


# =========================
# IF-ELIF-ELSE CHAIN
# =========================
# Multiple conditions - checks them one by one

score = 85
print("=== IF-ELIF-ELSE CHAIN ===")

if score >= 90:
    grade = "A"
    print("Excellent work! 🌟")
elif score >= 80:
    grade = "B"
    print("Good job! 👍")
elif score >= 70:
    grade = "C"
    print("Satisfactory 👌")
elif score >= 60:
    grade = "D"
    print("Needs improvement 📚")
else:
    grade = "F"
    print("Please see me after class 😟")

print(f"Score: {score}, Grade: {grade}")

print("\n" + "="*50)


# =========================
# COMPARISON OPERATORS
# =========================
# Understanding all the ways to compare values

print("=== COMPARISON OPERATORS ===")

x, y = 10, 20

print(f"x = {x}, y = {y}")
print(f"x == y (equal): {x == y}")           # False
print(f"x != y (not equal): {x != y}")       # True
print(f"x < y (less than): {x < y}")         # True
print(f"x <= y (less or equal): {x <= y}")   # True
print(f"x > y (greater than): {x > y}")      # False
print(f"x >= y (greater or equal): {x >= y}") # False

# String comparisons
name1, name2 = "Alice", "Bob"
print(f"\nString comparison:")
print(f"'{name1}' == '{name2}': {name1 == name2}")
print(f"'{name1}' < '{name2}' (alphabetical): {name1 < name2}")

print("\n" + "="*50)


# =========================
# LOGICAL OPERATORS
# =========================
# Combining multiple conditions

print("=== LOGICAL OPERATORS ===")

age = 25
has_license = True
has_car = False

print(f"Age: {age}, Has license: {has_license}, Has car: {has_car}")

# AND - both conditions must be True
if age >= 18 and has_license:
    print("✅ Can legally drive!")
else:
    print("❌ Cannot drive legally")

# OR - at least one condition must be True
if has_license or has_car:
    print("✅ Has some driving-related qualification/asset")
else:
    print("❌ Needs license or car")

# NOT - flips True to False, False to True
if not has_car:
    print("✅ Needs to buy a car")

# Complex combinations
if age >= 18 and has_license and has_car:
    print("🚗 Ready for a road trip!")
elif age >= 18 and has_license and not has_car:
    print("🚌 Can rent a car or use rideshare")
else:
    print("🚶 Walking or public transport for now")

print("\n" + "="*50)


# =========================
# MEMBERSHIP OPERATORS
# =========================
# Check if something is in a collection

print("=== MEMBERSHIP OPERATORS ===")

fruits = ["apple", "banana", "orange"]
favorite_fruit = "apple"

if favorite_fruit in fruits:
    print(f"✅ {favorite_fruit} is available!")
else:
    print(f"❌ {favorite_fruit} is not available")

# NOT IN operator
exotic_fruit = "durian"
if exotic_fruit not in fruits:
    print(f"✅ {exotic_fruit} is not in our regular selection")

# Works with strings too
email = "user@example.com"
if "@" in email:
    print("✅ Valid email format (contains @)")

# Works with dictionaries (checks keys)
student = {"name": "Alice", "age": 20, "major": "Computer Science"}
if "gpa" not in student:
    print("❌ GPA information missing")

print("\n" + "="*50)


# =========================
# NESTED CONDITIONALS
# =========================
# if statements inside other if statements

print("=== NESTED CONDITIONALS ===")

weather = "sunny"
temperature = 75
has_umbrella = False

print(f"Weather: {weather}, Temperature: {temperature}°F, Has umbrella: {has_umbrella}")

if weather == "sunny":
    print("🌞 It's a sunny day!")
    if temperature > 80:
        print("  🥵 It's hot - wear sunscreen!")
    elif temperature > 60:
        print("  😊 Perfect weather for outdoor activities!")
    else:
        print("  🧥 Sunny but chilly - bring a jacket!")
elif weather == "rainy":
    print("🌧️ It's raining!")
    if has_umbrella:
        print("  ☂️ Good thing you have an umbrella!")
    else:
        print("  💧 You might get wet - find shelter!")
else:
    print("🌫️ Weather conditions unclear")

print("\n" + "="*50)


# =========================
# TRUTHINESS AND FALSINESS
# =========================
# What Python considers True or False

print("=== TRUTHINESS AND FALSINESS ===")

print("Values that are considered FALSE:")
falsy_values = [False, 0, 0.0, "", [], {}, set(), None]
for value in falsy_values:
    print(f"  {repr(value):>8} → {bool(value)}")

print("\nValues that are considered TRUE:")
truthy_values = [True, 1, -1, "hello", [1, 2], {"a": 1}, {1, 2}, "0"]
for value in truthy_values:
    print(f"  {repr(value):>12} → {bool(value)}")

# Practical examples
name = ""
if name:
    print(f"Hello, {name}!")
else:
    print("Please enter your name")

shopping_list = []
if shopping_list:
    print(f"You have {len(shopping_list)} items to buy")
else:
    print("Your shopping list is empty")

print("\n" + "="*50)


# =========================
# CONDITIONAL EXPRESSIONS (TERNARY)
# =========================
# Short way to write simple if-else

print("=== CONDITIONAL EXPRESSIONS (TERNARY) ===")

age = 17

# Long way
if age >= 18:
    status = "adult"
else:
    status = "minor"
print(f"Long way: {status}")

# Short way (ternary operator)
status = "adult" if age >= 18 else "minor"
print(f"Short way: {status}")

# More examples
temperature = 85
clothing = "shorts" if temperature > 75 else "pants"
print(f"Temperature: {temperature}°F → Wear: {clothing}")

score = 95
result = "Pass" if score >= 60 else "Fail"
print(f"Score: {score} → Result: {result}")

# Can be used in function calls
print(f"You are {'eligible' if age >= 18 else 'not eligible'} to vote")

print("\n" + "="*50)


# =========================
# COMMON PATTERNS
# =========================
# Frequently used conditional patterns

print("=== COMMON PATTERNS ===")





# 1. Range checking
age = 25
if 13 <= age <= 19:
    category = "teenager"
elif 20 <= age <= 65:
    category = "adult"
else:
    category = "senior" if age > 65 else "child"
print(f"Age {age} → Category: {category}")



# 2. Multiple value checking
day = "Saturday"
if day in ["Saturday", "Sunday"]:
    print("🎉 It's the weekend!")
else:
    print("📚 It's a weekday")


# 3. Type checking
value = "42"
if isinstance(value, int):
    print(f"{value} is an integer")
elif isinstance(value, str):
    print(f"'{value}' is a string")
    if value.isdigit():
        print("  And it contains only digits!")


# 4. None checking
user_input = None
if user_input is None:
    print("No input provided")
elif user_input == "":
    print("Empty input provided")
else:
    print(f"Input received: {user_input}")

print("\n" + "="*50)



# =========================
# GUARD CLAUSES
# =========================
# Early returns to avoid deep nesting

print("=== GUARD CLAUSES ===")

def process_user_data(user_data):
    """Example function using guard clauses"""
    
    # Guard clause 1: Check if data exists
    if not user_data:
        return "Error: No user data provided"
    
    # Guard clause 2: Check if name exists
    if "name" not in user_data:
        return "Error: Name is required"
    
    # Guard clause 3: Check if name is valid
    if len(user_data["name"]) < 2:
        return "Error: Name must be at least 2 characters"
    
    # Main logic (no deep nesting!)
    name = user_data["name"]
    age = user_data.get("age", "unknown")
    return f"Processing user: {name}, Age: {age}"

# Test the function
test_cases = [
    None,
    {},
    {"name": "A"},
    {"name": "Alice"},
    {"name": "Bob", "age": 25}
]

for i, test_data in enumerate(test_cases, 1):
    result = process_user_data(test_data)
    print(f"Test {i}: {result}")

print("\n" + "="*50)


# =========================
# MATCH-CASE STATEMENT (Python 3.10+)
# =========================
# Modern alternative to long if-elif chains

print("=== MATCH-CASE STATEMENT (Python 3.10+) ===")

def handle_http_status(status_code):
    """Example using match-case (if your Python version supports it)"""
    match status_code:
        case 200:
            return "✅ Success"
        case 404:
            return "❌ Not Found"
        case 500:
            return "💥 Server Error"
        case code if 400 <= code < 500:
            return f"📝 Client Error ({code})"
        case code if 500 <= code < 600:
            return f"🔧 Server Error ({code})"
        case _:  # Default case
            return f"❓ Unknown status ({status_code})"

# Test different status codes
status_codes = [200, 404, 403, 500, 503, 999]
print("HTTP Status Code Examples:")
for code in status_codes:
    try:
        result = handle_http_status(code)
        print(f"  {code}: {result}")
    except SyntaxError:
        # Fallback for older Python versions
        print(f"  {code}: (match-case not supported in this Python version)")
        break

print("\n" + "="*50)


# =========================
# REAL-WORLD EXAMPLES
# =========================
# Practical applications of conditionals

print("=== REAL-WORLD EXAMPLES ===")

# Example 1: Login system
def authenticate_user(username, password):
    """Simple authentication example"""
    valid_users = {
        "alice": "password123",
        "bob": "secret456",
        "admin": "admin2024"
    }
    
    if not username or not password:
        return "Error: Username and password required"
    
    if username not in valid_users:
        return "Error: User not found"
    
    if valid_users[username] != password:
        return "Error: Invalid password"
    
    if username == "admin":
        return "Welcome, Administrator! 👑"
    else:
        return f"Welcome, {username.title()}! 👋"

# Test authentication
print("Authentication Examples:")
auth_tests = [
    ("alice", "password123"),
    ("bob", "wrongpass"),
    ("charlie", "anything"),
    ("admin", "admin2024"),
    ("", "")
]

for username, password in auth_tests:
    result = authenticate_user(username, password)
    print(f"  {username}/{password}: {result}")

print()



# Example 2: Grade calculator with multiple criteria
def calculate_final_grade(assignments, midterm, final_exam, participation):
    """Calculate final grade based on multiple components"""
    
    # Validate inputs
    if any(score < 0 or score > 100 for score in [assignments, midterm, final_exam, participation]):
        return "Error: All scores must be between 0 and 100"
    
    # Calculate weighted average
    final_score = (assignments * 0.3 + midterm * 0.25 + final_exam * 0.35 + participation * 0.1)
    
    # Determine letter grade
    if final_score >= 97:
        letter = "A+"
    elif final_score >= 93:
        letter = "A"
    elif final_score >= 90:
        letter = "A-"
    elif final_score >= 87:
        letter = "B+"
    elif final_score >= 83:
        letter = "B"
    elif final_score >= 80:
        letter = "B-"
    elif final_score >= 77:
        letter = "C+"
    elif final_score >= 73:
        letter = "C"
    elif final_score >= 70:
        letter = "C-"
    elif final_score >= 67:
        letter = "D+"
    elif final_score >= 65:
        letter = "D"
    else:
        letter = "F"
    
    # Add special recognition
    if final_score >= 95:
        recognition = " 🌟 Dean's List!"
    elif final_score >= 90:
        recognition = " 🎉 Honor Roll!"
    elif final_score < 65:
        recognition = " 📚 See advisor"
    else:
        recognition = ""
    
    return f"Final Score: {final_score:.1f}% → Grade: {letter}{recognition}"

# Test grade calculator
print("Grade Calculator Examples:")
grade_tests = [
    (95, 88, 92, 100),  # Excellent student
    (78, 82, 75, 85),   # Average student
    (45, 52, 48, 60),   # Struggling student
    (105, 90, 85, 95),  # Invalid input
]

for assign, mid, final, part in grade_tests:
    result = calculate_final_grade(assign, mid, final, part)
    print(f"  A:{assign} M:{mid} F:{final} P:{part} → {result}")

print("\n" + "="*50)


# =========================
# DEBUGGING CONDITIONALS
# =========================
# Common mistakes and how to avoid them


print("❌ COMMON MISTAKES:")

# Mistake 1: Assignment instead of comparison
x = 5
# if x = 10:  # This would cause SyntaxError
if x == 10:   # This is correct
    print("x is 10")
else:
    print(f"x is {x}, not 10")



# Mistake 2: Forgetting parentheses in complex conditions
age = 25
income = 50000
# Wrong: if age > 18 and income > 30000 or age > 65  # Confusing precedence
# Right: Use parentheses for clarity
if (age > 18 and income > 30000) or age > 65:
    print("Eligible for loan")


# Mistake 3: Comparing floats directly
price = 0.1 + 0.2  # This equals 0.30000000000000004
# if price == 0.3:  # This would be False!
if abs(price - 0.3) < 0.000001:  # Better way
    print("Price is approximately 0.3")


# Mistake 4: Not handling None values
value = None
# if value:  # This is False for None
#     print(value.upper())  # Would cause error if value was None

if value is not None:  # Better way
    print(value.upper())
else:
    print("Value is None")

print("\n✅ DEBUGGING TIPS:")
print("1. Use parentheses to make complex conditions clear")
print("2. Use == for comparison, = for assignment")
print("3. Be careful with floating-point comparisons")
print("4. Always handle None values explicitly")
print("5. Use 'is' and 'is not' for None comparisons")

print("\n" + "="*50)


# =========================
# PERFORMANCE CONSIDERATIONS
# =========================
# Making your conditionals efficient

print("=== PERFORMANCE TIPS ===")

# Tip 1: Order conditions by likelihood (most likely first)
def check_user_type(user_type):
    # Put most common cases first
    if user_type == "regular":      # Most common
        return "Regular user access"
    elif user_type == "premium":    # Second most common
        return "Premium user access"
    elif user_type == "admin":      # Less common
        return "Admin access"
    else:                          # Least common
        return "Unknown user type"

# Tip 2: Use 'elif' instead of multiple 'if' statements
score = 85

# Inefficient - checks all conditions even after finding a match
# if score >= 90:
#     grade = "A"
# if score >= 80 and score < 90:
#     grade = "B"
# if score >= 70 and score < 80:
#     grade = "C"

# Efficient - stops checking after first match
if score >= 90:
    grade = "A"
elif score >= 80:
    grade = "B"
elif score >= 70:
    grade = "C"
else:
    grade = "F"

print(f"Efficient grading: {grade}")

# Tip 3: Use membership testing for multiple values
day = "Saturday"

# Less efficient
# if day == "Saturday" or day == "Sunday":

# More efficient
if day in {"Saturday", "Sunday"}:  # Using set for O(1) lookup
    print("Weekend!")

print("\n" + "="*50)



# =========================
# SUMMARY AND BEST PRACTICES
# =========================

print("=== SUMMARY ===")
print()
print("🎯 CONDITIONAL STRUCTURES:")
print("• if statement: Execute code only if condition is True")
print("• if-else: Choose between two options")
print("• if-elif-else: Choose from multiple options")
print("• Nested conditionals: Conditions inside conditions")
print("• Ternary operator: Short if-else for simple cases")
print()
print("🔧 OPERATORS:")
print("• Comparison: ==, !=, <, <=, >, >=")
print("• Logical: and, or, not")
print("• Membership: in, not in")
print("• Identity: is, is not")
print()
print("💡 BEST PRACTICES:")
print("• Use meaningful variable names")
print("• Keep conditions simple and readable")
print("• Order elif conditions by likelihood")
print("• Use guard clauses to avoid deep nesting")
print("• Handle edge cases (None, empty values)")
print("• Use parentheses for complex conditions")
print()
print("🚀 REMEMBER:")
print("Conditionals are the decision-making tools of programming!")
print("They let your code react differently to different situations.")
print("Master them, and you can handle any logic your program needs!")

print("\n" + "="*70)
print("END OF CONDITIONALS GUIDE")
print("="*70)



