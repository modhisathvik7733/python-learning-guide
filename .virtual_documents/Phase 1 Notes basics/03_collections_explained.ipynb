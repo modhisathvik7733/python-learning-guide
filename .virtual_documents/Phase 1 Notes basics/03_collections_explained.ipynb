# ===================================================================================================
# PYTHON DATA STRUCTURES - COMPLETE GUIDE
# ===================================================================================================
# Lists, Tuples, Sets, and Dictionaries - Everything you need to know!



# =========================
# LISTS - Ordered & Mutable
# =========================
# Lists are ordered collections that can be changed after creation

# Basic list creation and access
fruits = ["apple", "banana", "cherry"]
print(f"First fruit: {fruits[0]}")        # Output: First fruit: apple
print(f"Last fruit: {fruits[-1]}")        # Output: Last fruit: cherry


# Adding elements (multiple ways)
fruits.append(["orange","market"])                    # Add to end
fruits.append("berry")   
fruits.insert(1, "mango")                 # Insert at specific position
fruits.extend(["kiwi", "grape"])          # Add multiple items
print(f"After adding: {fruits}")
print(fruits[4][0])


# Removing elements (multiple ways)
fruits.remove("apple")                    # Remove first occurrence
popped = fruits.pop()                     # Remove and return last item
del fruits[0]                            # Remove by index



print(f"After removing: {fruits}")
print(f"Popped item: {popped}")


# Modifying elements
fruits[0] = "watermelon"                  # Change by index
print(f"After modification: {fruits}")


# List slicing (powerful feature!)
numbers = [0, 1, 2, 3, 4, 5, 6, 7, 8, 9]
print(f"First 5: {numbers[:5]}")          # [0, 1, 2, 3, 4]
print(f"Last 3: {numbers[-3:]}")          # [7, 8, 9]
print(f"Every 2nd: {numbers[::2]}")       # [0, 2, 4, 6, 8]
print(f"Reversed: {numbers[::-1]}")       # [9, 8, 7, 6, 5, 4, 3, 2, 1, 0]


# List comprehension (Pythonic way to create lists)
squares = [x**2 for x in range(5)]
print(f"Squares: {squares}")              # [0, 1, 4, 9, 16]


# Conditional list comprehension
evens = [x for x in range(10) if x % 2 == 0]
print(f"Even numbers: {evens}")           # [0, 2, 4, 6, 8]


# Lists can hold mixed types (but use carefully!)
mixed = [1, "hello", 3.14, True, [1, 2, 3]]
print(f"Mixed list: {mixed}")




# Useful list methods
sample_list = [3, 1, 4, 1, 5, 9, 2, 6]
print(f"Length: {len(sample_list)}") 
print(f"Max: {max(sample_list)}")
print(f"Min: {min(sample_list)}")
print(f"Sum: {sum(sample_list)}")
print(f"Count of 1: {sample_list.count(1)}")
print(f"Index of 4: {sample_list.index(4)}")


# Sorting
sample_list.sort()                        # Modifies original
print(f"Sorted: {sample_list}")


sorted_copy = sorted([3, 1, 4, 1, 5], reverse=True)  # Creates new list
print(f"Sorted copy (desc):", sorted_copy)









# =========================
# TUPLES - Ordered & Immutable
# =========================
# Tuples are ordered collections that CANNOT be changed after creation


# Basic tuple creation
coordinates = (10.0, 20.0)
rgb_color = (255, 128, 0)
print(f"X coordinate: {coordinates[0]}")   # Output: 10.0


# Single element tuple (note the comma!)
single = (42,)                            # Comma is required!
not_tuple = (42)                          # This is just an integer in parentheses
print(f"Single tuple type: {type(single)}")
print(f"Not tuple type: {type(not_tuple)}")


# Tuple unpacking (very useful!)
x, y = coordinates
r, g, b = rgb_color
print(f"Unpacked: x={x}, y={y}")
print(f"RGB: red={r}, green={g}, blue={b}")


# Multiple assignment using tuples
a, b = 1, 2                               # Actually creates a tuple (1, 2)
a, b = b, a                               # Elegant way to swap values!
print(f"After swap: a={a}, b={b}")


# Tuples as dictionary keys (because they're immutable!)
locations = {
    (0, 0): "Origin",
    (1, 1): "Northeast",
    (-1, -1): "Southwest"
}
print(f"Location at (1,1): {locations[(1, 1)]}")


# Tuple methods (only 2!)
sample_tuple = (1, 2, 2, 3, 2, 4)
print(f"Count of 2: {sample_tuple.count(2)}")
print(f"Index of 3: {sample_tuple.index(3)}")



# Converting between lists and tuples
list_from_tuple = list(coordinates)
tuple_from_list = tuple(fruits)
print(f"List from tuple: {list_from_tuple}")








# =========================
# SETS - Unordered & Unique
# =========================
# Sets store unique elements in no particular order



# Creating sets
unique_numbers = {1, 2, 3, 2, 1}          # Duplicates automatically removed
print(f"Unique numbers: {unique_numbers}") # Output: {1, 2, 3}


# Creating empty set (careful with syntax!)
empty_set = set()                          # {} creates empty dict, not set!
print(f"Empty set: {empty_set}")



# Adding and removing elements
colors = {"red", "green", "blue"}
colors.add("yellow")
colors.remove("red")                       # Raises error if not found
colors.discard("purple")                   # No error if not found
print(f"Colors: {colors}")


# Set operations (mathematical operations!)
set_a = {1, 2, 3, 4, 5}
set_b = {4, 5, 6, 7, 8}


print(f"Union (|): {set_a | set_b}")              # {1, 2, 3, 4, 5, 6, 7, 8}
print(f"Intersection (&): {set_a & set_b}")       # {4, 5}
print(f"Difference (-): {set_a - set_b}")         # {1, 2, 3}
print(f"Symmetric Diff (^): {set_a ^ set_b}")     # {1, 2, 3, 6, 7, 8}


# Set methods (alternative to operators)
print(f"Union method: {set_a.union(set_b)}")
print(f"Intersection method: {set_a.intersection(set_b)}")


# Checking membership and relationships
print(f"Is 3 in set_a? {3 in set_a}")
print(f"Is set_a superset of {{1, 2}}? {set_a.issuperset({1, 2,133})}")


# Practical use: removing duplicates from list
duplicated_list = [1, 2, 2, 3, 3, 3, 4, 4, 4, 4]
unique_list = list(set(duplicated_list))
print(f"Removed duplicates: {unique_list}")












# =========================
# DICTIONARIES - Key-Value Pairs
# =========================
# Dictionaries store data as key-value pairs


# Creating dictionaries
person = {"name": "Alice", "age": 25, "city": "New York"}
print(f"Name: {person['name']}")


# Alternative creation methods
person2 = dict(name="Bob", age=30, city="Boston")
person3 = dict([("name", "Charlie"), ("age", 35)])


# Adding and modifying values
person["email"] = "alice@email.com"        # Add new key-value
person["age"] = 26                         # Modify existing value
print(f"Updated person: {person}")


# Safe access with get() method
print(f"Age: {person.get('age', 'Unknown')}")
print(f"Phone: {person.get('phone', 'Not provided')}")


# Removing items
del person["city"]                         # Remove key-value pair
email = person.pop("email", "No email")    # Remove and return value
print(f"After removal: {person}")
print(f"Popped email: {email}")


# Dictionary methods and operations
print(f"Keys: {list(person.keys())}")
print(f"Values: {list(person.values())}")
print(f"Items: {list(person.items())}")


# Looping through dictionaries
for key in person:                         # Iterate over keys
    print(f"{key}: {person[key]}")


for key, value in person.items():          # Iterate over key-value pairs
    print(f"{key} -> {value}")



# Dictionary comprehension
squares_dict = {x: x**2 for x in range(5)}
print(f"Squares dict: {squares_dict}")


# Nested dictionaries
students = {
    "student1": {"name": "John", "grades": [85, 90, 78]},
    "student2": {"name": "Jane", "grades": [92, 88, 95]}
}
print(f"John's grades: {students['student1']['grades']}")



# Merging dictionaries (Python 3.9+)
dict1 = {"a": 1, "b": 2}
dict2 = {"c": 3, "d": 4}
merged = dict1 | dict2                     # New in Python 3.9
print(f"Merged: {merged}")



# Alternative merging (older Python versions)
merged_old = {**dict1, **dict2}
print(f"Merged (old way): {merged_old}")









# =========================
# PERFORMANCE COMPARISON
# =========================
# Understanding when to use each data structure


import time

# Membership testing comparison
big_list = list(range(10000))
big_set = set(range(10000))
big_dict = {i: f"value_{i}" for i in range(10000)}

target = 9999

# List search (slow - O(n))
start = time.time()
result = target in big_list
list_time = time.time() - start

# Set search (fast - O(1) average)
start = time.time()
result = target in big_set
set_time = time.time() - start

# Dict key search (fast - O(1) average)
start = time.time()
result = target in big_dict
dict_time = time.time() - start

print(f"\nPerformance comparison for membership testing:")
print(f"List: {list_time:.6f} seconds")
print(f"Set:  {set_time:.6f} seconds (much faster!)")
print(f"Dict: {dict_time:.6f} seconds (much faster!)")







# =========================
# COMMON MISTAKES TO AVOID
# =========================


print("\n=== COMMON MISTAKES ===")

# Mistake 1: Modifying list while iterating
fruits_with_apples = ["apple", "banana", "apple", "cherry", "apple"]

# DON'T DO THIS:
# for fruit in fruits_with_apples:
#     if fruit == "apple":
#         fruits_with_apples.remove(fruit)  # This can skip elements!


# DO THIS INSTEAD:
fruits_no_apples = [fruit for fruit in fruits_with_apples if fruit != "apple"]
print(f"Removed apples correctly: {fruits_no_apples}")\


print("\n1️⃣ STRUCTURE:")
print("   [EXPRESSION for ITEM in ITERABLE if CONDITION]")
print("   │     │          │        │          │")
print("   │     │          │        │          └─ Filter condition")
print("   │     │          │        └─ What we're looping through")
print("   │     │          └─ Loop variable name")
print("   │     └─ What to put in the new list")
print("   └─ Creates a new list")

print("\n2️⃣ OUR SPECIFIC EXAMPLE:")
print("   [fruit for fruit in fruits_with_apples if fruit != \"apple\"]")
print("   │  │      │         │                    │")
print("   │  │      │         │                    └─ Only if fruit is NOT \"apple\"")
print("   │  │      │         └─ Loop through fruits_with_apples")
print("   │  │      └─ Each item is called 'fruit'")
print("   │  └─ Put each 'fruit' in the new list")
print("   └─ Create new list called fruits_no_apples")


# Mistake 2: Using mutable default arguments
def add_item(item, target_list=None):      # Good: use None
    if target_list is None:
        target_list = []                   # Create new list each time
    target_list.append(item)
    return target_list



# Mistake 3: Forgetting that dictionaries maintain insertion order (Python 3.7+)
ordered_dict = {"first": 1, "second": 2, "third": 3}
print(f"Dictionary order preserved: {list(ordered_dict.keys())}")


# Mistake 4: Trying to use unhashable types as dictionary keys
# This would cause an error:
# bad_dict = {[1, 2]: "list as key"}      # Lists are mutable, can't be keys


# Use tuples instead:
good_dict = {(1, 2): "tuple as key"}
print(f"Tuple as key works: {good_dict}")




# =========================
# QUICK METHOD REFERENCE
# =========================

print("\n=== QUICK METHOD REFERENCE ===")
print("LISTS:")
print("  append(x), extend(iterable), insert(i, x), remove(x), pop(i)")
print("  index(x), count(x), sort(), reverse(), clear()")

print("\nTUPLES:")
print("  count(x), index(x)")

print("\nSETS:")
print("  add(x), remove(x), discard(x), pop(), clear()")
print("  union(), intersection(), difference(), symmetric_difference()")
print("  issubset(), issuperset(), isdisjoint()")

print("\nDICTIONARIES:")
print("  get(key, default), keys(), values(), items()")
print("  pop(key, default), popitem(), clear(), update()")





# =========================
# WHEN TO USE WHAT?
# =========================

print("\n=== WHEN TO USE WHAT? ===")
print("📝 LISTS: When you need ordered, changeable collections")
print("   - Shopping lists, sequences, maintaining order matters")

print("\n🔒 TUPLES: When you need ordered, unchangeable collections") 
print("   - Coordinates, RGB colors, database records, function returns")

print("\n🎯 SETS: When you need unique elements and fast lookups")
print("   - Removing duplicates, membership testing, mathematical operations")

print("\n🗂️ DICTIONARIES: When you need key-value associations")
print("   - Mappings, lookups, caching, configuration settings")


# =========================
# SUMMARY
# =========================
print("\n=== SUMMARY ===")
print("✓ Lists: Ordered, mutable, allow duplicates - use for sequences")
print("✓ Tuples: Ordered, immutable, allow duplicates - use for fixed data")
print("✓ Sets: Unordered, mutable, unique elements - use for uniqueness")
print("✓ Dictionaries: Ordered (3.7+), mutable, unique keys - use for mappings")
print("\nMaster these four data structures and you'll handle 90% of Python data manipulation!")


text = "hi everyone hi how are hi you hi there"

# Split only at the first 3 occurrences, then replace the 3rd one
parts = text.split("hi", 3)  # Split into 4 parts maximum
print(parts)
if len(parts) >= 4:  # Means we had at least 3 "hi"s
    # Join first 3 parts with original "hi", last part with "hello"
    result = "hi".join(parts[:3]) + "hello" + parts[3]
else:
    result = text  # Not enough occurrences to replace 3rd one

print(result)  # Output: "hi everyone hi how are hello you hi there"



