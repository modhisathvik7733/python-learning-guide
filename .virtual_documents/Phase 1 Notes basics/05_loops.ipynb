# ===================================================================================================
# PYTHON LOOPS - COMPLETE GUIDE
# ===================================================================================================
# for loops, while loops, list comprehensions - Repeating actions efficiently





# =========================
# BASIC FOR LOOPS
# =========================
# Repeat actions for each item in a collection


# Loop through a list
fruits = ["apple", "banana", "cherry", "orange"]
print("Fruits in my basket:")
for fruit in fruits:
    print(f"  🍎 {fruit}")



# Loop through a string (strings are iterable!)
word = "PYTHON"
print(f"\nLetters in '{word}':")
for letter in word:
    print(f"  📝 {letter}")



# Loop through a range of numbers
print("\nCounting to 5:")
for number in range(1, 6):  # 1, 2, 3, 4, 5
    print(f"  🔢 {number}")

print("\n" + "="*60)



# =========================
# RANGE FUNCTION
# =========================
# Generating sequences of numbers

print("=== RANGE FUNCTION ===")

# range(stop) - starts at 0
print("range(5):", list(range(5)))  # [0, 1, 2, 3, 4]

# range(start, stop) - custom start
print("range(2, 7):", list(range(2, 7)))  # [2, 3, 4, 5, 6]

# range(start, stop, step) - custom increment
print("range(0, 10, 2):", list(range(0, 10, 2)))  # [0, 2, 4, 6, 8]




# Practical examples
print("\nEven numbers from 0 to 10:")
for num in range(0, 11, 2):
    print(f"  {num}")

print("\nCountdown from 5:")
for num in range(5, 0, -1):
    print(f"  {num}...")
print("  🚀 Blastoff!")

print("\n" + "="*60)


# =========================
# ENUMERATE FUNCTION
# =========================
# Get both index and value when looping

print("=== ENUMERATE FUNCTION ===")

colors = ["red", "green", "blue", "yellow"]


# Without enumerate (manual index tracking)
print("Manual index tracking:")
index = 0
for color in colors:
    print(f"  {index}: {color}")
    index += 1


# With enumerate (automatic index)
print("\nUsing enumerate:")
for index, color in enumerate(colors):
    print(f"  {index}: {color}")



# Starting enumerate from a different number
print("\nEnumerate starting from 1:")
for index, color in enumerate(colors, start=1):
    print(f"  Position {index}: {color}")



# Real-world example: Menu system
print("\nMenu Selection:")
menu_items = ["Pizza", "Burger", "Salad", "Pasta"]
for index, item in enumerate(menu_items, start=1):
    print(f"  {index}. {item}")





# =========================
# WHILE LOOPS
# =========================
# Repeat as long as a condition is True


# Basic while loop
count = 1
print("Counting with while loop:")
while count <= 5:
    print(f"  Count: {count}")
    count += 1  # IMPORTANT: Update the variable!


# User input simulation
print("\nPassword attempt simulation:")
attempts = 0
max_attempts = 3
correct_password = "secret123"



# User input simulation
print("\nPassword attempt simulation:")
attempts = 0
max_attempts = 3
correct_password = "secret123"

# Simulate different password attempts
password_attempts = ["wrong1", "wrong2", "secret123"]
attempt_index = 0

while attempts < max_attempts:
    # Simulate getting password input
    if attempt_index < len(password_attempts):
        password = password_attempts[attempt_index]
        print(f"  Attempt {attempts + 1}: Trying password '{password}'")
        attempt_index += 1
    else:
        break
    
    attempts += 1
    
    if password == correct_password:
        print("  ✅ Access granted!")
        break
    else:
        print(f"  ❌ Wrong password. {max_attempts - attempts} attempts remaining.")

if attempts == max_attempts and password != correct_password:
    print("  🔒 Account locked!")

print("\n" + "="*60)


# =========================
# LOOP CONTROL STATEMENTS
# =========================
# break, continue, and else clauses

print("=== LOOP CONTROL STATEMENTS ===")

# BREAK - Exit the loop immediately
print("Finding first even number:")
numbers = [1, 3, 7, 4, 9, 2, 5]
for num in numbers:
    print(f"  Checking {num}...")
    if num % 2 == 0:
        print(f"  Found first even number: {num}")
        break
    print(f"  {num} is odd, continuing...")


# CONTINUE - Skip current iteration, go to next
print("\nPrinting only positive numbers:")
numbers = [-2, 5, -1, 3, 0, -4, 7]
for num in numbers:
    if num <= 0:
        continue  # Skip negative and zero
    print(f"  Positive: {num}")


# ELSE clause - Runs if loop completes WITHOUT break
print("\nSearching for target number:")
target = 8
numbers = [1, 3, 5, 7, 9]

for num in numbers:
    print(f"  Checking {num}...")
    if num == target:
        print(f"  Found target: {target}")
        break
else:
    print(f"  Target {target} not found in the list")

print("\n" + "="*60)









# =========================
# NESTED LOOPS
# =========================
# Loops inside other loops


# Multiplication table
print("Multiplication table (1-5):")
for i in range(1, 6):
    for j in range(1, 6):
        result = i * j
        print(f"{result:3}", end=" ")  # Format with 3 spaces, no newline
    print()  # New line after each row



# Matrix iteration
print("\nIterating through a 2D matrix:")
matrix = [
    [1, 2, 3],
    [4, 5, 6],
    [7, 8, 9]
]

for row_index, row in enumerate(matrix):
    for col_index, value in enumerate(row):
        print(f"  Position ({row_index},{col_index}): {value}")


# Nested loops with pattern
print("\nStars pattern:")
for i in range(1, 6):
    for j in range(i):
        print("*", end="")
    print()  # New line after each row

print("\n" + "="*60)









# =========================
# LIST COMPREHENSIONS
# =========================
# Creating lists with loops in one line


# Traditional way
squares_traditional = []
for num in numbers:
    squares_traditional.append(num ** 2)

# List comprehension way
squares_comprehension = [num ** 2 for num in numbers]

print(f"Original numbers: {numbers}")
print(f"Traditional way: {squares_traditional}")
print(f"List comprehension: {squares_comprehension}")


# List comprehension with condition
even_squares = [num ** 2 for num in numbers if num % 2 == 0]
print(f"Even number squares: {even_squares}")



# More complex expressions
words = ["hello", "world", "python", "programming"]
uppercase_words = [word.upper() for word in words]
long_words = [word for word in words if len(word) > 5]
word_lengths = [len(word) for word in words]
print(f"\nOriginal words: {words}")
print(f"Uppercase: {uppercase_words}")
print(f"Long words (>5 chars): {long_words}")
print(f"Word lengths: {word_lengths}")

print("\n" + "="*60)








# =========================
# ADVANCED LIST COMPREHENSIONS
# =========================
# Complex patterns and nested comprehensions


# Nested list comprehension
matrix = [[1, 2, 3], [4, 5, 6], [7, 8, 9]]

# Flatten matrix - traditional way
flattened_traditional = []
for row in matrix:
    for item in row:
        flattened_traditional.append(item)

# Flatten matrix - list comprehension
flattened_comprehension = [item for row in matrix for item in row]

print(f"Matrix: {matrix}")
print(f"Flattened (traditional): {flattened_traditional}")
print(f"Flattened (comprehension): {flattened_comprehension}")


# List comprehension with if-else (ternary)
numbers = range(-5, 6)
abs_or_zero = [abs(x) if x != 0 else 0 for x in numbers]
print(f"\nNumbers: {list(numbers)}")
print(f"Absolute values: {abs_or_zero}")


# Multiple conditions
numbers = range(1, 21)
special_numbers = [x for x in numbers if x % 2 == 0 if x % 3 == 0]
print(f"Numbers divisible by both 2 and 3: {special_numbers}")


# Cartesian product
colors = ["red", "blue"]
sizes = ["S", "M", "L"]
combinations = [f"{color}-{size}" for color in colors for size in sizes]
print(f"T-shirt combinations: {combinations}")









# =========================
# DICTIONARY COMPREHENSIONS
# =========================
# Creating dictionaries with comprehensions


# Basic dictionary comprehension
numbers = [1, 2, 3, 4, 5]
squares_dict = {num: num ** 2 for num in numbers}
print(f"Squares dictionary: {squares_dict}")



# From two lists
names = ["Alice", "Bob", "Charlie"]
ages = [25, 30, 35]
people = {name: age for name, age in zip(names, ages)}
print(f"People dictionary: {people}")



# With conditions
even_squares = {num: num ** 2 for num in numbers if num % 2 == 0}
print(f"Even squares only: {even_squares}")


# String manipulation
words = ["hello", "world", "python"]
word_info = {word: len(word) for word in words}
print(f"Word lengths: {word_info}")



# Transforming existing dictionary
original_prices = {"apple": 1.0, "banana": 0.5, "orange": 0.8}
discounted_prices = {item: price * 0.9 for item, price in original_prices.items()}
print(f"Original prices: {original_prices}")
print(f"Discounted prices: {discounted_prices}")

print("\n" + "="*60)






# =========================
# SET COMPREHENSIONS
# =========================
# Creating sets with comprehensions


# Basic set comprehension
numbers = [1, 2, 2, 3, 3, 4, 5, 5]
unique_squares = {num ** 2 for num in numbers}
print(f"Original (with duplicates): {numbers}")
print(f"Unique squares: {unique_squares}")


# From string
sentence = "hello world"
unique_letters = {char.lower() for char in sentence if char.isalpha()}
print(f"Sentence: '{sentence}'")
print(f"Unique letters: {unique_letters}")


# Mathematical sets
multiples_of_2 = {x for x in range(1, 21) if x % 2 == 0}
multiples_of_3 = {x for x in range(1, 21) if x % 3 == 0}
print(f"Multiples of 2: {multiples_of_2}")
print(f"Multiples of 3: {multiples_of_3}")
print(f"Common multiples: {multiples_of_2 & multiples_of_3}")

print("\n" + "="*60)





# =========================
# GENERATOR EXPRESSIONS
# =========================
# Memory-efficient iteration



# List comprehension vs Generator expression
numbers = range(1, 6)

# List comprehension - creates all items in memory
squares_list = [x ** 2 for x in numbers]
print(f"List comprehension: {squares_list}")

# Generator expression - creates items on demand
squares_generator = (x ** 2 for x in numbers)
print(f"Generator object: {squares_generator}")
print(f"Generator values: {list(squares_generator)}")




# Memory efficiency example
print("\nMemory usage comparison:")
import sys

large_list = [x ** 2 for x in range(1000)]
large_generator = (x ** 2 for x in range(1000))

print(f"List size: {sys.getsizeof(large_list)} bytes")
print(f"Generator size: {sys.getsizeof(large_generator)} bytes")



# Using generators in loops
print("\nUsing generator in loop:")
even_squares_gen = (x ** 2 for x in range(10) if x % 2 == 0)
for square in even_squares_gen:
    print(f"  {square}")

print("\n" + "="*60)






# =========================
# ITERATING OVER DIFFERENT DATA TYPES
# =========================
# How to loop through various Python structures


# Dictionary iteration
person = {"name": "Alice", "age": 30, "city": "New York"}

print("Dictionary - Keys:")
for key in person:  # Default: iterate over keys
    print(f"  {key}")




print("Dictionary - Values:")
for value in person.values():
    print(f"  {value}")

print("Dictionary - Key-Value pairs:")
for key, value in person.items():
    print(f"  {key}: {value}")


# Set iteration
colors = {"red", "green", "blue"}
print("\nSet iteration:")
for color in colors:
    print(f"  {color}")


# Tuple iteration
coordinates = (10, 20, 30)
print("\nTuple iteration:")
for coord in coordinates:
    print(f"  {coord}")



# Multiple assignment in loops
points = [(1, 2), (3, 4), (5, 6)]
print("\nMultiple assignment:")
for x, y in points:
    print(f"  Point: ({x}, {y})")

print("\n" + "="*60)



# =========================
# ZIP FUNCTION
# =========================
# Combining multiple iterables



print("=== ZIP FUNCTION ===")

names = ["Alice", "Bob", "Charlie"]
ages = [25, 30, 35]
cities = ["New York", "London", "Tokyo"]


# Zip two lists
print("Zipping names and ages:")
for name, age in zip(names, ages):
    print(f"  {name} is {age} years old")


# Zip three lists
print("\nZipping three lists:")
for name, age, city in zip(names, ages, cities):
    print(f"  {name}, {age}, lives in {city}")


# Zip with different lengths (stops at shortest)
short_list = [1, 2]
long_list = [10, 20, 30, 40]
print(f"\nZipping different lengths:")
print(f"Short: {short_list}, Long: {long_list}")
for short, long in zip(short_list, long_list):
    print(f"  {short} + {long} = {short + long}")


# Creating dictionary from zip
keys = ["name", "age", "score"]
values = ["Alice", 25, 95]
person_dict = dict(zip(keys, values))
print(f"\nDictionary from zip: {person_dict}")


# Unzipping
pairs = [(1, 'a'), (2, 'b'), (3, 'c')]
numbers, letters = zip(*pairs)  # * unpacks the list
print(f"Pairs: {pairs}")
print(f"Numbers: {numbers}")
print(f"Letters: {letters}")

print("\n" + "="*60)


# =========================
# REAL-WORLD EXAMPLES
# =========================
# Practical applications of loops



# Example 1: Data processing
print("1. PROCESSING STUDENT DATA:")
students = [
    {"name": "Alice", "grades": [85, 90, 78, 92]},
    {"name": "Bob", "grades": [76, 82, 88, 85]},
    {"name": "Charlie", "grades": [92, 95, 89, 94]}
]

for student in students:
    name = student["name"]
    grades = student["grades"]
    average = sum(grades) / len(grades)
    max_grade = max(grades)
    min_grade = min(grades)
    
    print(f"  {name}:")
    print(f"    Grades: {grades}")
    print(f"    Average: {average:.1f}")
    print(f"    Range: {min_grade}-{max_grade}")



# Example 2: File processing simulation
print("\n2. PROCESSING FILE TYPES:")
files = ["document.txt", "image.jpg", "script.py", "data.csv", "photo.png"]

file_types = {
    "txt": "Text files",
    "jpg": "Images", 
    "png": "Images",
    "py": "Python scripts",
    "csv": "Data files"
}

categorized = {}
for filename in files:
    extension = filename.split(".")[-1]
    category = file_types.get(extension, "Unknown")
    
    if category not in categorized:
        categorized[category] = []
    categorized[category].append(filename)

for category, files_list in categorized.items():
    print(f"  {category}: {files_list}")


# Example 3: Shopping cart calculation
print("\n3. SHOPPING CART CALCULATION:")
cart_items = [
    {"name": "Laptop", "price": 999.99, "quantity": 1},
    {"name": "Mouse", "price": 25.50, "quantity": 2},
    {"name": "Keyboard", "price": 75.00, "quantity": 1},
    {"name": "Monitor", "price": 299.99, "quantity": 1}
]

total = 0
print("  Shopping Cart:")
for item in cart_items:
    name = item["name"]
    price = item["price"]
    quantity = item["quantity"]
    subtotal = price * quantity
    total += subtotal
    
    print(f"    {name}: ${price:.2f} x {quantity} = ${subtotal:.2f}")

tax_rate = 0.08
tax = total * tax_rate
final_total = total + tax

print(f"  Subtotal: ${total:.2f}")
print(f"  Tax (8%): ${tax:.2f}")
print(f"  Total: ${final_total:.2f}")

print("\n" + "="*60)






# =========================
# PERFORMANCE CONSIDERATIONS
# =========================
# Writing efficient loops


# Tip 1: List comprehensions are faster than loops
import time

# Timing traditional loop
start_time = time.time()
squares_loop = []
for i in range(1000):
    squares_loop.append(i ** 2)
loop_time = time.time() - start_time

# Timing list comprehension
start_time = time.time()
squares_comp = [i ** 2 for i in range(1000)]
comp_time = time.time() - start_time

print(f"Traditional loop: {loop_time:.6f} seconds")
print(f"List comprehension: {comp_time:.6f} seconds")
print(f"Comprehension is {loop_time/comp_time:.1f}x faster")


# Tip 2: Avoid repeated attribute lookups
print("\nAvoid repeated lookups:")
data = [1, 2, 3, 4, 5] * 100

# Inefficient - repeated .append lookup
# result = []
# for item in data:
#     result.append(item * 2)

# Efficient - store method reference
result = []
append = result.append  # Store method reference
for item in data:
    append(item * 2)

print("Stored method reference for efficiency")


# Tip 3: Use appropriate data structures
print("\nUse sets for membership testing:")
large_list = list(range(10000))
large_set = set(range(10000))

# Slow: searching in list
# if 9999 in large_list:  # O(n) operation

# Fast: searching in set
if 9999 in large_set:  # O(1) operation
    print("Found in set (much faster!)")

print("\n" + "="*60)






# =========================
# COMMON MISTAKES
# =========================
# Pitfalls to avoid when using loops


print("❌ MISTAKE 1: Modifying list while iterating")
# Don't do this!
numbers = [1, 2, 3, 4, 5]
# for num in numbers:
#     if num % 2 == 0:
#         numbers.remove(num)  # BAD: modifies list during iteration

# Do this instead:
numbers = [1, 2, 3, 4, 5]
numbers = [num for num in numbers if num % 2 != 0]  # Create new list
print(f"Correctly filtered list: {numbers}")


print("\n❌ MISTAKE 2: Infinite while loops")
print("Always make sure while loop condition can become False!")
# count = 1
# while count <= 5:
#     print(count)
#     # Forgot to increment count! Infinite loop!

# Correct version:
count = 1
while count <= 3:  # Limited to prevent infinite loop in example
    print(f"Count: {count}")
    count += 1  # Don't forget this!


print("\n❌ MISTAKE 3: Using range() incorrectly")
print("Remember: range(5) gives 0,1,2,3,4 (not 1,2,3,4,5)")
print(f"range(5): {list(range(5))}")
print(f"range(1,6): {list(range(1, 6))}")


print("\n❌ MISTAKE 4: Unnecessary nested loops")
# Inefficient nested loop
matrix = [[1, 2], [3, 4]]
# flat = []
# for row in matrix:
#     for item in row:
#         flat.append(item)

# Better: use list comprehension
flat = [item for row in matrix for item in row]
print(f"Flattened efficiently: {flat}")

print("\n" + "="*60)



# =========================
# DEBUGGING LOOPS
# =========================
# Techniques for troubleshooting loops



# Tip 1: Add print statements
numbers = [1, 2, 3, 4, 5]
print("\n1. Add debug prints:")
result = []
for i, num in enumerate(numbers):
    print(f"  Processing item {i}: {num}")
    if num % 2 == 0:
        result.append(num ** 2)
        print(f"    Added {num ** 2} to result")
print(f"Final result: {result}")



# Tip 2: Use a debugger or step through mentally
print("\n2. Step through mentally:")
print("   - What is the initial state?")
print("   - What happens in each iteration?")
print("   - What is the final state?")


# Tip 3: Test with small data
print("\n3. Test with small data first:")
print("   Start with 2-3 items, then scale up")




# Tip 4: Check loop boundaries
print("\n4. Check boundaries:")
print("   - Does the loop start where you expect?")
print("   - Does it end where you expect?")
print("   - Are you including/excluding the right elements?")

print("\n" + "="*60)


# =========================
# LOOP PATTERNS AND IDIOMS
# =========================
# Common Python loop patterns


# Pattern 1: Accumulator pattern
numbers = [1, 2, 3, 4, 5]
total = 0
for num in numbers:
    total += num
print(f"1. Accumulator - Sum: {total}")


# Pattern 2: Filtering pattern
even_numbers = []
for num in numbers:
    if num % 2 == 0:
        even_numbers.append(num)
print(f"2. Filtering - Evens: {even_numbers}")


# Pattern 3: Transformation pattern
squared_numbers = []
for num in numbers:
    squared_numbers.append(num ** 2)
print(f"3. Transformation - Squares: {squared_numbers}")


# Pattern 4: Search pattern
target = 3
found_index = -1
for i, num in enumerate(numbers):
    if num == target:
        found_index = i
        break
print(f"4. Search - Found {target} at index: {found_index}")


# Pattern 5: Counting pattern
count_even = 0
for num in numbers:
    if num % 2 == 0:
        count_even += 1
print(f"5. Counting - Even numbers: {count_even}")


# Pattern 6: Min/Max finding
numbers = [3, 7, 2, 9, 1, 5]
min_val = numbers[0]
max_val = numbers[0]
for num in numbers[1:]:
    if num < min_val:
        min_val = num
    if num > max_val:
        max_val = num
print(f"6. Min/Max - Min: {min_val}, Max: {max_val}")

print("\n" + "="*60)





# =========================
# WHEN TO USE WHAT
# =========================
# Choosing the right loop type


print("=== WHEN TO USE WHAT ===")

print("🔄 FOR LOOPS - Use when:")
print("  ✅ You know how many iterations you need")
print("  ✅ You're iterating over a collection")
print("  ✅ You need the index or position")
print("  Examples: Processing lists, counting, iterating ranges")

print("\n⏳ WHILE LOOPS - Use when:")
print("  ✅ You don't know how many iterations you need")
print("  ✅ You're waiting for a condition to change")
print("  ✅ You're implementing user input loops")
print("  Examples: User menus, game loops, input validation")

print("\n📋 LIST COMPREHENSIONS - Use when:")
print("  ✅ Creating a new list from an existing iterable")
print("  ✅ The logic is simple (1-2 lines)")
print("  ✅ You want concise, readable code")
print("  Examples: Filtering, transforming, simple calculations")

print("\n🚫 AVOID LIST COMPREHENSIONS when:")
print("  ❌ The logic is complex (multiple conditions)")
print("  ❌ You need side effects (printing, file writing)")
print("  ❌ It becomes hard to read")

print("\n" + "="*60)



# =========================
# SUMMARY
# =========================


print("=== SUMMARY ===")
print()
print("🔄 LOOP TYPES:")
print("• for loops: Iterate over collections, ranges, sequences")
print("• while loops: Repeat while condition is True")
print("• List comprehensions: Create lists concisely")
print("• Dict/Set comprehensions: Create dicts/sets concisely")
print("• Generator expressions: Memory-efficient iteration")
print()
print("🛠️ IMPORTANT FUNCTIONS:")
print("• range(): Generate number sequences")
print("• enumerate(): Get index and value")
print("• zip(): Combine multiple iterables")
print("• break: Exit loop early")
print("• continue: Skip current iteration")
print()
print("🎯 BEST PRACTICES:")
print("• Use for loops for known iterations")
print("• Use while loops for unknown iterations")
print("• Use list comprehensions for simple transformations")
print("• Avoid modifying collections while iterating")
print("• Use meaningful variable names")
print("• Consider performance for large datasets")
print()
print("🚀 REMEMBER:")
print("Loops are the workhorses of programming!")
print("They let you process data, repeat actions, and solve complex problems.")
print("Master them, and you can handle any repetitive task efficiently!")

print("\n" + "="*70)
print("END OF LOOPS GUIDE")
print("="*70)



