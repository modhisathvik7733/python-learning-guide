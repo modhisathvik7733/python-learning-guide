# ===================================================================================================
# PYTHON INPUT/OUTPUT - COMPLETE GUIDE
# ===================================================================================================
# Reading from user, files, and handling different data types


import os
import json
import csv
from datetime import datetime


# =========================
# USER INPUT BASICS
# =========================
# Getting input from the user during program execution

print("=== USER INPUT BASICS ===")

# Basic input() function
print("Basic input() usage:")
print("Note: input() always returns a STRING")



# Simple string input
name = input("Enter your name: ")
print(f"Hello, {name}!")
print(f"Type of name: {type(name)}")  # Always <class 'str'>


# Getting numeric input (requires conversion)
print("\nGetting numeric input:")
age_str = input("Enter your age: ")
age = int(age_str)  # Convert string to integer
print(f"You are {age} years old")
print(f"Type of age: {type(age)}")  # <class 'int'>


# One-liner numeric input
height = float(input("Enter your height in meters: "))
print(f"Your height is {height} meters")

print("\n" + "="*60)


# =========================
# INPUT VALIDATION AND ERROR HANDLING
# =========================
# Making user input robust and safe


# Basic validation with try-except
def get_valid_age():
    """Get a valid age from user with error handling"""
    while True:
        try:
            age = int(input("Enter your age (0-120): "))
            if 0 <= age <= 120:
                return age
            else:
                print("Please enter an age between 0 and 120")
        except ValueError:
            print("Please enter a valid number")

print("Getting valid age with error handling:")
# user_age = get_valid_age()  # Uncomment to test interactively
# print(f"Valid age entered: {user_age}")



# Validation function for different data types
def get_valid_input(prompt, input_type, min_val=None, max_val=None):
    """
    Generic function to get valid input of specified type
    
    Args:
        prompt: Message to show user
        input_type: Type to convert to (int, float, str)
        min_val: Minimum allowed value (for numbers)
        max_val: Maximum allowed value (for numbers)
    """
    while True:
        try:
            user_input = input_type(input(prompt))
            
            # Range validation for numbers
            if input_type in (int, float):
                if min_val is not None and user_input < min_val:
                    print(f"Value must be at least {min_val}")
                    continue
                if max_val is not None and user_input > max_val:
                    print(f"Value must be at most {max_val}")
                    continue
            
            return user_input
            
        except ValueError:
            print(f"Please enter a valid {input_type.__name__}")

# Example usage
print("Examples of validated input:")
print("# score = get_valid_input('Enter test score: ', int, 0, 100)")
print("# price = get_valid_input('Enter price: $', float, 0)")



# Multiple input on one line
print("\nMultiple values on one line:")
print("Example: Enter three numbers separated by spaces")
# numbers_str = input("Enter three numbers (space-separated): ")
# numbers = [int(x) for x in numbers_str.split()]
# print(f"Numbers entered: {numbers}")

# Simulated example
numbers_str = "10 20 30"  # Simulating user input
numbers = [int(x) for x in numbers_str.split()]
print(f"If user enters '{numbers_str}', result: {numbers}")

print("\n" + "="*60)








# =========================
# ADVANCED INPUT TECHNIQUES
# =========================



# Getting lists from user
def get_list_from_user():
    """Get a list of items from user"""
    items = []
    print("Enter items (press Enter with empty input to finish):")
    
    while True:
        item = input("Enter item: ").strip()
        if not item:  # Empty input
            break
        items.append(item)
    
    return items

print("Example of getting list from user:")
print("# shopping_list = get_list_from_user()")


# Getting dictionary from user
def create_student_record():
    """Create a student record from user input"""
    student = {}
    
    student['name'] = input("Student name: ")
    student['age'] = int(input("Student age: "))
    student['grade'] = float(input("Student grade: "))
    
    # Get subjects and scores
    subjects = []
    while True:
        subject = input("Enter subject (or 'done' to finish): ")
        if subject.lower() == 'done':
            break
        score = float(input(f"Score for {subject}: "))
        subjects.append({'subject': subject, 'score': score})
    
    student['subjects'] = subjects
    return student

print("Example of creating structured data from input:")
print("# student = create_student_record()")



# Menu-driven input
def show_menu():
    """Display a menu and get user choice"""
    print("\n=== MENU ===")
    print("1. Add item")
    print("2. Remove item")
    print("3. View items")
    print("4. Exit")
    
    while True:
        try:
            choice = int(input("Enter your choice (1-4): "))
            if 1 <= choice <= 4:
                return choice
            else:
                print("Please enter a number between 1 and 4")
        except ValueError:
            print("Please enter a valid number")

print("Menu-driven input example:")
print("# choice = show_menu()")

print("\n" + "="*60)


# =========================
# FILE OUTPUT (WRITING)
# =========================
# Writing data to files



# Basic file writing
print("Basic file writing:")
sample_data = "Hello, World!\nThis is a test file.\nPython file I/O is powerful!"


# Write to a text file
with open("sample_output.txt", "w") as file:
    file.write(sample_data)
print("✓ Created 'sample_output.txt'")


# Write list of lines
lines = [
    "Line 1: Introduction\n",
    "Line 2: Main content\n", 
    "Line 3: Conclusion\n"
]

with open("lines_output.txt", "w") as file:
    file.writelines(lines)
print("✓ Created 'lines_output.txt'")


# Append to existing file
with open("sample_output.txt", "a") as file:
    file.write("\nThis line was appended!")
print("✓ Appended to 'sample_output.txt'")


# Writing structured data
students = [
    {"name": "Alice", "age": 20, "grade": 85.5},
    {"name": "Bob", "age": 21, "grade": 92.0},
    {"name": "Charlie", "age": 19, "grade": 78.5}
]



# Write as formatted text
with open("students_report.txt", "w") as file:
    file.write("STUDENT REPORT\n")
    file.write("=" * 30 + "\n")
    for student in students:
        file.write(f"Name: {student['name']}\n")
        file.write(f"Age: {student['age']}\n")
        file.write(f"Grade: {student['grade']}\n")
        file.write("-" * 20 + "\n")
print("✓ Created 'students_report.txt'")


# Writing data with user input simulation
def save_user_data_to_file():
    """Simulate saving user input to file"""
    # Simulate user input
    user_data = {
        "timestamp": datetime.now().strftime("%Y-%m-%d %H:%M:%S"),
        "name": "John Doe",
        "email": "john@example.com",
        "message": "This is a sample message from the user."
    }
    
    with open("user_submissions.txt", "a") as file:
        file.write(f"Submission at {user_data['timestamp']}\n")
        file.write(f"Name: {user_data['name']}\n")
        file.write(f"Email: {user_data['email']}\n")
        file.write(f"Message: {user_data['message']}\n")
        file.write("-" * 50 + "\n")
    
    print("✓ User data saved to 'user_submissions.txt'")

save_user_data_to_file()

print("\n" + "="*60)


# =========================
# FILE INPUT (READING)
# =========================
# Reading data from files



# Basic file reading
print("Reading the file we just created:")
try:
    with open("sample_output.txt", "r") as file:
        content = file.read()
        print("File content:")
        print(content)
except FileNotFoundError:
    print("File not found!")


# Reading line by line
print("\nReading line by line:")
try:
    with open("lines_output.txt", "r") as file:
        line_number = 1
        for line in file:
            print(f"Line {line_number}: {line.strip()}")
            line_number += 1
except FileNotFoundError:
    print("File not found!")



# Reading all lines into a list
print("\nReading all lines into a list:")
try:
    with open("lines_output.txt", "r") as file:
        all_lines = file.readlines()
        print(f"Lines read: {all_lines}")
        print(f"Number of lines: {len(all_lines)}")
except FileNotFoundError:
    print("File not found!")


# Reading and processing data
def read_and_process_file(filename):
    """Read file and process the data"""
    try:
        with open(filename, "r") as file:
            content = file.read()
            
            # Basic statistics
            word_count = len(content.split())
            line_count = content.count('\n') + 1
            char_count = len(content)
            
            print(f"File statistics for '{filename}':")
            print(f"  Characters: {char_count}")
            print(f"  Words: {word_count}")
            print(f"  Lines: {line_count}")
            
            return {
                "content": content,
                "words": word_count,
                "lines": line_count,
                "characters": char_count
            }
    except FileNotFoundError:
        print(f"Error: File '{filename}' not found")
        return None
        



# Analyze our created file
file_stats = read_and_process_file("sample_output.txt")

print("\n" + "="*60)





# =========================
# WORKING WITH DIFFERENT FILE FORMATS
# =========================



# JSON files
print("Working with JSON files:")
data_to_save = {
    "users": [
        {"id": 1, "name": "Alice", "email": "alice@example.com"},
        {"id": 2, "name": "Bob", "email": "bob@example.com"}
    ],
    "settings": {
        "theme": "dark",
        "notifications": True,
        "language": "en"
    }
}



# Write JSON
with open("data.json", "w") as file:
    json.dump(data_to_save, file, indent=2)
print("✓ Created 'data.json'")



# Read JSON
with open("data.json", "r") as file:
    loaded_data = json.load(file)
    print("Loaded JSON data:")
    print(f"  Users: {loaded_data['users']}")
    print(f"  Theme: {loaded_data['settings']['theme']}")



# CSV files
print("\nWorking with CSV files:")
csv_data = [
    ["Name", "Age", "City"],
    ["Alice", "25", "New York"],
    ["Bob", "30", "San Francisco"],
    ["Charlie", "35", "Chicago"]
]


# Write CSV
with open("people.csv", "w", newline='') as file:
    writer = csv.writer(file)
    writer.writerows(csv_data)
print("✓ Created 'people.csv'")


# Read CSV
with open("people.csv", "r") as file:
    reader = csv.reader(file)
    print("CSV content:")
    for row_num, row in enumerate(reader):
        if row_num == 0:
            print(f"  Headers: {row}")
        else:
            print(f"  Row {row_num}: {row}")


# CSV with DictReader/DictWriter
print("\nWorking with CSV using dictionaries:")
people_data = [
    {"name": "David", "age": 28, "city": "Boston"},
    {"name": "Emma", "age": 32, "city": "Seattle"},
    {"name": "Frank", "age": 45, "city": "Miami"}
]



# Write CSV with headers
with open("people_dict.csv", "w", newline='') as file:
    fieldnames = ["name", "age", "city"]
    writer = csv.DictWriter(file, fieldnames=fieldnames)
    writer.writeheader()
    writer.writerows(people_data)
print("✓ Created 'people_dict.csv'")


# Read CSV into dictionaries
with open("people_dict.csv", "r") as file:
    reader = csv.DictReader(file)
    print("CSV as dictionaries:")
    for row in reader:
        print(f"  {row['name']}, age {row['age']}, lives in {row['city']}")

print("\n" + "="*60)






# =========================
# FILE OPERATIONS AND PATH HANDLING
# =========================


# Check if file exists
def safe_file_operation(filename):
    """Safely perform file operations with error handling"""
    if os.path.exists(filename):
        print(f"✓ File '{filename}' exists")
        
        # Get file info
        file_size = os.path.getsize(filename)
        print(f"  File size: {file_size} bytes")
        
        # Read file safely
        try:
            with open(filename, "r") as file:
                content = file.read()
                print(f"  Content preview: {content[:50]}...")
        except Exception as e:
            print(f"  Error reading file: {e}")
    else:
        print(f"✗ File '{filename}' does not exist")

# Check our created files
safe_file_operation("data.json")
safe_file_operation("nonexistent_file.txt")



# Directory operations
print("\nWorking with directories:")
current_dir = os.getcwd()
print(f"Current directory: {current_dir}")


# Create directory
output_dir = "output_files"
if not os.path.exists(output_dir):
    os.makedirs(output_dir)
    print(f"✓ Created directory: {output_dir}")
else:
    print(f"✓ Directory already exists: {output_dir}")


# List files in directory
files_in_current_dir = [f for f in os.listdir(".") if f.endswith(('.txt', '.json', '.csv'))]
print(f"Files created in this session: {files_in_current_dir}")

print("\n" + "="*60)






# =========================
# PRACTICAL EXAMPLES
# =========================




# Example 1: User data collection and storage
def collect_and_save_user_data():
    """Collect user data and save to file"""
    print("User Data Collection Example:")
    
    # Simulate user input
    users = []
    sample_users = [
        {"name": "Alice Johnson", "email": "alice@email.com", "age": "25"},
        {"name": "Bob Smith", "email": "bob@email.com", "age": "30"}
    ]
    
    for sample_user in sample_users:
        user = {
            "name": sample_user["name"],
            "email": sample_user["email"], 
            "age": int(sample_user["age"]),
            "registration_date": datetime.now().strftime("%Y-%m-%d %H:%M:%S")
        }
        users.append(user)
        print(f"  Collected data for: {user['name']}")
    
    # Save to JSON file
    with open("user_registrations.json", "w") as file:
        json.dump(users, file, indent=2)
    
    print("✓ User data saved to 'user_registrations.json'")
    return users

collected_users = collect_and_save_user_data()


# Example 2: Log file processing
def create_and_process_log():
    """Create sample log file and process it"""
    print("\nLog File Processing Example:")
    
    # Create sample log
    log_entries = [
        "2024-01-15 10:30:25 INFO User alice logged in",
        "2024-01-15 10:35:10 WARNING Failed login attempt for user bob", 
        "2024-01-15 10:40:15 ERROR Database connection failed",
        "2024-01-15 10:42:20 INFO Database connection restored",
        "2024-01-15 10:45:30 INFO User charlie logged in"
    ]
    
    # Write log file
    with open("application.log", "w") as file:
        for entry in log_entries:
            file.write(entry + "\n")
    
    print("✓ Created 'application.log'")
    
    # Process log file
    error_count = 0
    warning_count = 0
    info_count = 0
    
    with open("application.log", "r") as file:
        for line_num, line in enumerate(file, 1):
            if "ERROR" in line:
                error_count += 1
                print(f"  Line {line_num}: {line.strip()}")
            elif "WARNING" in line:
                warning_count += 1
            elif "INFO" in line:
                info_count += 1
    
    print(f"\nLog analysis:")
    print(f"  INFO messages: {info_count}")
    print(f"  WARNING messages: {warning_count}")
    print(f"  ERROR messages: {error_count}")

create_and_process_log()


# Example 3: Configuration file handling
def handle_config_file():
    """Create and manage configuration file"""
    print("\nConfiguration File Example:")
    
    # Default configuration
    default_config = {
        "app_name": "MyPythonApp",
        "version": "1.0.0",
        "database": {
            "host": "localhost",
            "port": 5432,
            "name": "myapp_db"
        },
        "features": {
            "enable_logging": True,
            "debug_mode": False,
            "max_users": 1000
        }
    }
    
    # Save configuration
    with open("config.json", "w") as file:
        json.dump(default_config, file, indent=2)
    
    print("✓ Created 'config.json'")
    
    # Load and modify configuration
    with open("config.json", "r") as file:
        config = json.load(file)
    
    # Simulate configuration update
    config["features"]["debug_mode"] = True
    config["features"]["max_users"] = 2000
    
    # Save updated configuration
    with open("config.json", "w") as file:
        json.dump(config, file, indent=2)
    
    print("✓ Updated configuration")
    print(f"  Debug mode: {config['features']['debug_mode']}")
    print(f"  Max users: {config['features']['max_users']}")

handle_config_file()

print("\n" + "="*60)






# =========================
# ERROR HANDLING AND BEST PRACTICES
# =========================



# Robust file operations
def robust_file_reader(filename):
    """Read file with comprehensive error handling"""
    try:
        with open(filename, "r") as file:
            content = file.read()
            return content
    except FileNotFoundError:
        print(f"Error: File '{filename}' not found")
        return None
    except PermissionError:
        print(f"Error: Permission denied to read '{filename}'")
        return None
    except UnicodeDecodeError:
        print(f"Error: Cannot decode '{filename}' - invalid characters")
        return None
    except Exception as e:
        print(f"Unexpected error reading '{filename}': {e}")
        return None


# Test error handling
print("Testing error handling:")
content = robust_file_reader("data.json")
if content:
    print("✓ File read successfully")

content = robust_file_reader("nonexistent.txt")
if not content:
    print("✓ Error handled gracefully")


# Context manager for custom operations
class FileManager:
    """Custom context manager for file operations"""
    
    def __init__(self, filename, mode):
        self.filename = filename
        self.mode = mode
        self.file = None
    
    def __enter__(self):
        print(f"Opening file: {self.filename}")
        self.file = open(self.filename, self.mode)
        return self.file
    
    def __exit__(self, exc_type, exc_val, exc_tb):
        if self.file:
            self.file.close()
            print(f"Closed file: {self.filename}")
        if exc_type:
            print(f"Error occurred: {exc_val}")
        return False



# Using custom context manager
print("\nUsing custom context manager:")
with FileManager("test_context.txt", "w") as file:
    file.write("This file was created using a custom context manager!")

print("✓ Custom context manager demonstration complete")

print("\n" + "="*60)


# =========================
# SUMMARY AND BEST PRACTICES
# =========================



print("""
🎯 USER INPUT:
• input() always returns strings - convert as needed
• Validate input with try-except blocks
• Use loops for re-prompting on invalid input
• Handle empty inputs and edge cases

📝 FILE OUTPUT:
• Use 'with open()' for automatic file closing
• 'w' mode overwrites, 'a' mode appends
• Write strings with write(), lists with writelines()
• Structure data before writing (formatting)

📖 FILE INPUT:
• read() for entire file, readline() for one line
• readlines() for all lines as list
• Iterate over file object for memory efficiency
• Always handle FileNotFoundError

🗂️ FILE FORMATS:
• JSON: json.dump()/json.load() for structured data
• CSV: csv.writer/csv.reader for tabular data
• Text: Regular file operations for simple data

⚠️ ERROR HANDLING:
• Always use try-except for file operations
• Use 'with' statements for automatic cleanup
• Check file existence with os.path.exists()
• Handle specific exceptions (FileNotFoundError, PermissionError)

💡 BEST PRACTICES:
• Always close files (use 'with' statement)
• Validate user input before processing
• Use appropriate file modes ('r', 'w', 'a')
• Handle encoding issues for special characters
• Create backup files for important data
• Use descriptive filenames and paths
• Log errors for debugging
• Test with edge cases and invalid inputs

🚀 REMEMBER:
Input/Output operations are essential for interactive programs!
They allow your programs to communicate with users and persist data.
Master these concepts to build practical, real-world applications!
""")

print("\n" + "="*70)
print("END OF INPUT/OUTPUT GUIDE")
print("="*70)



# Cleanup demonstration files (optional)
cleanup_files = [
    "sample_output.txt", "lines_output.txt", "students_report.txt",
    "user_submissions.txt", "data.json", "people.csv", "people_dict.csv",
    "user_registrations.json", "application.log", "config.json", "test_context.txt"
]

print(f"\nFiles created in this demonstration: {len(cleanup_files)}")
for file in cleanup_files:
    if os.path.exists(file):
        print(f"  ✓ {file}")

print("\nTo clean up, you can delete these files when no longer needed.")



