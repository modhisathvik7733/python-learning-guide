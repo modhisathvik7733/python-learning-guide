{
 "cells": [
  {
   "cell_type": "code",
   "execution_count": 1,
   "id": "51c79e6d-fc8d-437d-899f-58cb4e6793d7",
   "metadata": {},
   "outputs": [],
   "source": [
    "# ===================================================================================================\n",
    "# PYTHON FUNCTIONS - COMPLETE GUIDE\n",
    "# ===================================================================================================\n",
    "# def, return, default arguments, *args, **kwargs - Everything you need to know\n",
    "\n",
    "# =========================\n",
    "# BASIC FUNCTION DEFINITION\n",
    "# =========================\n",
    "# Functions are reusable blocks of code that perform specific tasks"
   ]
  },
  {
   "cell_type": "code",
   "execution_count": 2,
   "id": "d8e86f85-1165-493d-8da8-89c43a1761b4",
   "metadata": {},
   "outputs": [
    {
     "name": "stdout",
     "output_type": "stream",
     "text": [
      "Calling greet():\n",
      "Hello, World!\n"
     ]
    }
   ],
   "source": [
    "\n",
    "# Simple function with no parameters\n",
    "def greet():\n",
    "    \"\"\"A simple function that prints a greeting\"\"\"\n",
    "    print(\"Hello, World!\")\n",
    "\n",
    "# Calling the function\n",
    "print(\"Calling greet():\")\n",
    "greet()\n"
   ]
  },
  {
   "cell_type": "code",
   "execution_count": 3,
   "id": "22f9205b-c632-4f60-8741-be54445076f5",
   "metadata": {},
   "outputs": [
    {
     "name": "stdout",
     "output_type": "stream",
     "text": [
      "\n",
      "Calling greet_person('Alice'):\n",
      "Hello, Alice!\n"
     ]
    }
   ],
   "source": [
    "# Function with parameters\n",
    "def greet_person(name):\n",
    "    \"\"\"Function that greets a specific person\"\"\"\n",
    "    print(f\"Hello, {name}!\")\n",
    "\n",
    "print(\"\\nCalling greet_person('Alice'):\")\n",
    "greet_person(\"Alice\")"
   ]
  },
  {
   "cell_type": "code",
   "execution_count": 4,
   "id": "d91ad3c8-645b-4ead-8b78-f1023ed86aa1",
   "metadata": {},
   "outputs": [
    {
     "name": "stdout",
     "output_type": "stream",
     "text": [
      "\n",
      "Calling introduce('Bob', 25, 'New York'):\n",
      "Hi, I'm Bob, I'm 25 years old, and I live in New York.\n",
      "\n",
      "============================================================\n"
     ]
    }
   ],
   "source": [
    "# Function with multiple parameters\n",
    "def introduce(name, age, city):\n",
    "    \"\"\"Function with multiple parameters\"\"\"\n",
    "    print(f\"Hi, I'm {name}, I'm {age} years old, and I live in {city}.\")\n",
    "\n",
    "print(\"\\nCalling introduce('Bob', 25, 'New York'):\")\n",
    "introduce(\"Bob\", 25, \"New York\")\n",
    "\n",
    "print(\"\\n\" + \"=\"*60)"
   ]
  },
  {
   "cell_type": "code",
   "execution_count": 5,
   "id": "d9244a60-6c17-4cfd-be51-b0af32882d18",
   "metadata": {},
   "outputs": [],
   "source": [
    "# =========================\n",
    "# RETURN STATEMENT\n",
    "# =========================\n",
    "# Functions can return values back to the caller"
   ]
  },
  {
   "cell_type": "code",
   "execution_count": null,
   "id": "1a0335f3-b516-440a-aaf6-f798b57a9be2",
   "metadata": {},
   "outputs": [],
   "source": []
  },
  {
   "cell_type": "code",
   "execution_count": 6,
   "id": "6d64de62-8b66-4dfa-b8bd-7039618e82be",
   "metadata": {},
   "outputs": [],
   "source": [
    "# Function that returns a value\n",
    "def add_numbers(a, b):\n",
    "    \"\"\"Function that returns the sum of two numbers\"\"\"\n",
    "    result = a + b\n",
    "    return result"
   ]
  },
  {
   "cell_type": "code",
   "execution_count": 7,
   "id": "ceadd701-24f0-4bc3-9517-8bdfd00b0509",
   "metadata": {},
   "outputs": [
    {
     "name": "stdout",
     "output_type": "stream",
     "text": [
      "Function that returns a value:\n",
      "add_numbers(5, 3) = 8\n"
     ]
    }
   ],
   "source": [
    "\n",
    "# Using the returned value\n",
    "print(\"Function that returns a value:\")\n",
    "sum_result = add_numbers(5, 3)\n",
    "print(f\"add_numbers(5, 3) = {sum_result}\")"
   ]
  },
  {
   "cell_type": "code",
   "execution_count": 8,
   "id": "8c0805d8-380e-4f62-bc9b-11316bf8ab12",
   "metadata": {},
   "outputs": [
    {
     "name": "stdout",
     "output_type": "stream",
     "text": [
      "\n",
      "Function returning multiple values:\n",
      "Name: Charlie, Age: 30\n"
     ]
    }
   ],
   "source": [
    "# Function with multiple return values (returns a tuple)\n",
    "def get_name_age():\n",
    "    \"\"\"Function that returns multiple values\"\"\"\n",
    "    name = \"Charlie\"\n",
    "    age = 30\n",
    "    return name, age\n",
    "\n",
    "print(\"\\nFunction returning multiple values:\")\n",
    "person_name, person_age = get_name_age()\n",
    "print(f\"Name: {person_name}, Age: {person_age}\")"
   ]
  },
  {
   "cell_type": "code",
   "execution_count": 9,
   "id": "ead20687-8fc6-482c-872e-1fbde863b0f5",
   "metadata": {},
   "outputs": [
    {
     "name": "stdout",
     "output_type": "stream",
     "text": [
      "\n",
      "check_even_odd(4) = even\n",
      "check_even_odd(7) = odd\n"
     ]
    }
   ],
   "source": [
    "# Function with conditional returns\n",
    "def check_even_odd(number):\n",
    "    \"\"\"Function with conditional return statements\"\"\"\n",
    "    if number % 2 == 0:\n",
    "        return \"even\"\n",
    "    else:\n",
    "        return \"odd\"\n",
    "\n",
    "print(f\"\\ncheck_even_odd(4) = {check_even_odd(4)}\")\n",
    "print(f\"check_even_odd(7) = {check_even_odd(7)}\")"
   ]
  },
  {
   "cell_type": "code",
   "execution_count": 10,
   "id": "29397520-fddc-4e0b-8332-2c8167187333",
   "metadata": {},
   "outputs": [
    {
     "name": "stdout",
     "output_type": "stream",
     "text": [
      "\n",
      "divide_numbers(10, 2) = 5.0\n",
      "divide_numbers(10, 0) = Error: Cannot divide by zero\n",
      "\n",
      "============================================================\n"
     ]
    }
   ],
   "source": [
    "# Early return (guard clause)\n",
    "def divide_numbers(a, b):\n",
    "    \"\"\"Function with early return for error handling\"\"\"\n",
    "    if b == 0:\n",
    "        return \"Error: Cannot divide by zero\"\n",
    "    return a / b\n",
    "\n",
    "print(f\"\\ndivide_numbers(10, 2) = {divide_numbers(10, 2)}\")\n",
    "print(f\"divide_numbers(10, 0) = {divide_numbers(10, 0)}\")\n",
    "\n",
    "print(\"\\n\" + \"=\"*60)"
   ]
  },
  {
   "cell_type": "code",
   "execution_count": null,
   "id": "d8ac5810-26c5-4aac-9778-842fcac14b06",
   "metadata": {},
   "outputs": [],
   "source": []
  },
  {
   "cell_type": "code",
   "execution_count": 11,
   "id": "bcc9d1a7-9465-4314-ac98-add12e104834",
   "metadata": {},
   "outputs": [],
   "source": [
    "# =========================\n",
    "# DEFAULT ARGUMENTS\n",
    "# =========================\n",
    "# Parameters can have default values"
   ]
  },
  {
   "cell_type": "code",
   "execution_count": 12,
   "id": "337225b3-b1b1-4153-aaad-ba49201d4064",
   "metadata": {},
   "outputs": [
    {
     "name": "stdout",
     "output_type": "stream",
     "text": [
      "Function with default arguments:\n",
      "Hello, Mr./Ms. Smith!\n",
      "Hello, Dr. Johnson!\n"
     ]
    }
   ],
   "source": [
    "# Function with default parameters\n",
    "def greet_with_title(name, title=\"Mr./Ms.\"):\n",
    "    \"\"\"Function with default argument\"\"\"\n",
    "    return f\"Hello, {title} {name}!\"\n",
    "\n",
    "print(\"Function with default arguments:\")\n",
    "print(greet_with_title(\"Smith\"))  # Uses default title\n",
    "print(greet_with_title(\"Johnson\", \"Dr.\"))  # Overrides default"
   ]
  },
  {
   "cell_type": "code",
   "execution_count": 13,
   "id": "4fac6091-016d-4c9c-a634-062ac6c29f64",
   "metadata": {},
   "outputs": [
    {
     "name": "stdout",
     "output_type": "stream",
     "text": [
      "\n",
      "Multiple default arguments:\n",
      "create_profile('Alice'):\n",
      "{'name': 'Alice', 'age': 25, 'city': 'Unknown', 'occupation': 'Student'}\n",
      "\n",
      "create_profile('Bob', 30, 'Boston'):\n",
      "{'name': 'Bob', 'age': 30, 'city': 'Boston', 'occupation': 'Student'}\n",
      "\n",
      "create_profile('Charlie', city='Chicago', occupation='Engineer'):\n",
      "{'name': 'Charlie', 'age': 25, 'city': 'Chicago', 'occupation': 'Engineer'}\n"
     ]
    }
   ],
   "source": [
    "# Multiple default arguments\n",
    "def create_profile(name, age=25, city=\"Unknown\", occupation=\"Student\"):\n",
    "    \"\"\"Function with multiple default arguments\"\"\"\n",
    "    return {\n",
    "        \"name\": name,\n",
    "        \"age\": age,\n",
    "        \"city\": city,\n",
    "        \"occupation\": occupation\n",
    "    }\n",
    "\n",
    "print(\"\\nMultiple default arguments:\")\n",
    "print(\"create_profile('Alice'):\")\n",
    "print(create_profile(\"Alice\"))\n",
    "\n",
    "print(\"\\ncreate_profile('Bob', 30, 'Boston'):\")\n",
    "print(create_profile(\"Bob\", 30, \"Boston\"))\n",
    "\n",
    "print(\"\\ncreate_profile('Charlie', city='Chicago', occupation='Engineer'):\")\n",
    "print(create_profile(\"Charlie\", city=\"Chicago\", occupation=\"Engineer\"))\n"
   ]
  },
  {
   "cell_type": "code",
   "execution_count": 14,
   "id": "9948fb56-f920-4258-b371-8a3b1c4c45cb",
   "metadata": {},
   "outputs": [
    {
     "name": "stdout",
     "output_type": "stream",
     "text": [
      "\n",
      "Demonstrating mutable default argument problem:\n",
      "Wrong way:\n",
      "First call: ['apple', 'banana']\n",
      "Second call: ['apple', 'banana']\n",
      "\n",
      "Correct way:\n",
      "First call: ['apple']\n",
      "Second call: ['banana']\n",
      "\n",
      "============================================================\n"
     ]
    }
   ],
   "source": [
    "\n",
    "# Default argument with mutable objects (CAREFUL!)\n",
    "def add_item_wrong(item, target_list=[]):  # DANGEROUS!\n",
    "    \"\"\"DON'T DO THIS - mutable default argument\"\"\"\n",
    "    target_list.append(item)\n",
    "    return target_list\n",
    "\n",
    "def add_item_correct(item, target_list=None):\n",
    "    \"\"\"CORRECT WAY - use None and create new list\"\"\"\n",
    "    if target_list is None:\n",
    "        target_list = []\n",
    "    target_list.append(item)\n",
    "    return target_list\n",
    "\n",
    "print(\"\\nDemonstrating mutable default argument problem:\")\n",
    "print(\"Wrong way:\")\n",
    "result1 = add_item_wrong(\"apple\")\n",
    "result2 = add_item_wrong(\"banana\")\n",
    "print(f\"First call: {result1}\")\n",
    "print(f\"Second call: {result2}\")  # Notice both items appear!\n",
    "\n",
    "print(\"\\nCorrect way:\")\n",
    "result3 = add_item_correct(\"apple\")\n",
    "result4 = add_item_correct(\"banana\")\n",
    "print(f\"First call: {result3}\")\n",
    "print(f\"Second call: {result4}\")  # Each call gets fresh list\n",
    "\n",
    "print(\"\\n\" + \"=\"*60)"
   ]
  },
  {
   "cell_type": "code",
   "execution_count": 1,
   "id": "729e4d65-be94-43a2-bc6e-39948dadf328",
   "metadata": {},
   "outputs": [
    {
     "name": "stdout",
     "output_type": "stream",
     "text": [
      "\n",
      "Using **kwargs to unpack dictionary:\n",
      "Name: Bob, Age: 35, City: Chicago\n",
      "\n",
      "============================================================\n"
     ]
    }
   ],
   "source": [
    "# Using **kwargs to unpack a dictionary\n",
    "def display_person(name, age, city):\n",
    "    \"\"\"Function that expects specific keyword arguments\"\"\"\n",
    "    print(f\"Name: {name}, Age: {age}, City: {city}\")\n",
    "\n",
    "person_data = {\"name\": \"Bob\", \"age\": 35, \"city\": \"Chicago\"}\n",
    "print(f\"\\nUsing **kwargs to unpack dictionary:\")\n",
    "display_person(**person_data)\n",
    "\n",
    "print(\"\\n\" + \"=\"*60)"
   ]
  },
  {
   "cell_type": "code",
   "execution_count": null,
   "id": "439c0544-c47a-4098-92a4-a0f771732fad",
   "metadata": {},
   "outputs": [],
   "source": []
  },
  {
   "cell_type": "code",
   "execution_count": 2,
   "id": "1ff8cd45-fa47-4240-861d-df7a5f73cd13",
   "metadata": {},
   "outputs": [],
   "source": [
    "# =========================\n",
    "# COMBINING ALL PARAMETER TYPES\n",
    "# =========================\n",
    "# The order: regular, *args, **kwargs"
   ]
  },
  {
   "cell_type": "code",
   "execution_count": 3,
   "id": "fb8963b0-7557-42f6-b6cf-4dd075362030",
   "metadata": {},
   "outputs": [
    {
     "name": "stdout",
     "output_type": "stream",
     "text": [
      "Complex function with all parameter types:\n",
      "Required parameter: must_provide\n",
      "Default parameter: custom_default\n",
      "Variable positional arguments (*args): ('extra1', 'extra2')\n",
      "Variable keyword arguments (**kwargs): {'bonus': 'value1', 'special': 'value2'}\n",
      "Result: {'required': 'must_provide', 'default': 'custom_default', 'extra_positional': ['extra1', 'extra2'], 'extra_keyword': {'bonus': 'value1', 'special': 'value2'}}\n"
     ]
    }
   ],
   "source": [
    "\n",
    "def complex_function(required_param, default_param=\"default\", *args, **kwargs):\n",
    "    \"\"\"Function demonstrating all parameter types\"\"\"\n",
    "    print(f\"Required parameter: {required_param}\")\n",
    "    print(f\"Default parameter: {default_param}\")\n",
    "    print(f\"Variable positional arguments (*args): {args}\")\n",
    "    print(f\"Variable keyword arguments (**kwargs): {kwargs}\")\n",
    "    \n",
    "    # Process all arguments\n",
    "    result = {\n",
    "        \"required\": required_param,\n",
    "        \"default\": default_param,\n",
    "        \"extra_positional\": list(args),\n",
    "        \"extra_keyword\": kwargs\n",
    "    }\n",
    "    return result\n",
    "\n",
    "print(\"Complex function with all parameter types:\")\n",
    "result = complex_function(\n",
    "    \"must_provide\",           # required_param\n",
    "    \"custom_default\",         # default_param\n",
    "    \"extra1\", \"extra2\",       # *args\n",
    "    bonus=\"value1\",           # **kwargs\n",
    "    special=\"value2\"          # **kwargs\n",
    ")\n",
    "print(f\"Result: {result}\")\n"
   ]
  },
  {
   "cell_type": "code",
   "execution_count": 4,
   "id": "3338cbbf-6dfc-4c65-9138-5c94cbd8e89f",
   "metadata": {},
   "outputs": [
    {
     "name": "stdout",
     "output_type": "stream",
     "text": [
      "\n",
      "Real-world example:\n",
      "Server Configuration:\n",
      "  Host: localhost\n",
      "  Port: 3000\n",
      "  Middleware: ['auth', 'logging']\n",
      "  Settings: {'debug': True, 'ssl_enabled': False, 'max_connections': 100}\n",
      "\n",
      "============================================================\n"
     ]
    }
   ],
   "source": [
    "# Real-world example: flexible configuration function\n",
    "def configure_server(host, port=8080, *middleware, **settings):\n",
    "    \"\"\"Real-world example of flexible function\"\"\"\n",
    "    config = {\n",
    "        \"host\": host,\n",
    "        \"port\": port,\n",
    "        \"middleware\": list(middleware),\n",
    "        \"settings\": settings\n",
    "    }\n",
    "    \n",
    "    print(\"Server Configuration:\")\n",
    "    print(f\"  Host: {config['host']}\")\n",
    "    print(f\"  Port: {config['port']}\")\n",
    "    print(f\"  Middleware: {config['middleware']}\")\n",
    "    print(f\"  Settings: {config['settings']}\")\n",
    "    \n",
    "    return config\n",
    "\n",
    "print(\"\\nReal-world example:\")\n",
    "server_config = configure_server(\n",
    "    \"localhost\",              # host\n",
    "    3000,                     # port\n",
    "    \"auth\", \"logging\",        # middleware (*args)\n",
    "    debug=True,               # settings (**kwargs)\n",
    "    ssl_enabled=False,        # settings (**kwargs)\n",
    "    max_connections=100       # settings (**kwargs)\n",
    ")\n",
    "\n",
    "print(\"\\n\" + \"=\"*60)"
   ]
  },
  {
   "cell_type": "code",
   "execution_count": 5,
   "id": "534068f3-0e37-4b93-b4c7-eb516898041e",
   "metadata": {},
   "outputs": [
    {
     "name": "stdout",
     "output_type": "stream",
     "text": [
      "=== ADVANCED FUNCTION CONCEPTS ===\n",
      "Nested functions:\n",
      "add_five(3) = 8\n",
      "\n",
      "Higher-order functions:\n",
      "Original numbers: [1, 2, 3, 4, 5]\n",
      "Squared: [1, 4, 9, 16, 25]\n",
      "Cubed: [1, 8, 27, 64, 125]\n",
      "\n",
      "Using lambda functions:\n",
      "Doubled: [2, 4, 6, 8, 10]\n",
      "Plus 10: [11, 12, 13, 14, 15]\n",
      "\n",
      "Function returning function:\n",
      "times_3(4) = 12\n",
      "times_7(6) = 42\n",
      "\n",
      "============================================================\n"
     ]
    }
   ],
   "source": [
    "# =========================\n",
    "# ADVANCED FUNCTION CONCEPTS\n",
    "# =========================\n",
    "\n",
    "print(\"=== ADVANCED FUNCTION CONCEPTS ===\")\n",
    "\n",
    "# Nested functions\n",
    "def outer_function(x):\n",
    "    \"\"\"Function containing another function\"\"\"\n",
    "    def inner_function(y):\n",
    "        return x + y\n",
    "    \n",
    "    return inner_function\n",
    "\n",
    "print(\"Nested functions:\")\n",
    "add_five = outer_function(5)\n",
    "print(f\"add_five(3) = {add_five(3)}\")\n",
    "\n",
    "# Function as argument (higher-order function)\n",
    "def apply_operation(numbers, operation):\n",
    "    \"\"\"Function that takes another function as argument\"\"\"\n",
    "    return [operation(num) for num in numbers]\n",
    "\n",
    "def square(x):\n",
    "    return x ** 2\n",
    "\n",
    "def cube(x):\n",
    "    return x ** 3\n",
    "\n",
    "numbers = [1, 2, 3, 4, 5]\n",
    "print(f\"\\nHigher-order functions:\")\n",
    "print(f\"Original numbers: {numbers}\")\n",
    "print(f\"Squared: {apply_operation(numbers, square)}\")\n",
    "print(f\"Cubed: {apply_operation(numbers, cube)}\")\n",
    "\n",
    "# Lambda functions (anonymous functions)\n",
    "print(f\"\\nUsing lambda functions:\")\n",
    "print(f\"Doubled: {apply_operation(numbers, lambda x: x * 2)}\")\n",
    "print(f\"Plus 10: {apply_operation(numbers, lambda x: x + 10)}\")\n",
    "\n",
    "# Function returning function\n",
    "def create_multiplier(factor):\n",
    "    \"\"\"Function that returns a function\"\"\"\n",
    "    def multiplier(number):\n",
    "        return number * factor\n",
    "    return multiplier\n",
    "\n",
    "times_3 = create_multiplier(3)\n",
    "times_7 = create_multiplier(7)\n",
    "\n",
    "print(f\"\\nFunction returning function:\")\n",
    "print(f\"times_3(4) = {times_3(4)}\")\n",
    "print(f\"times_7(6) = {times_7(6)}\")\n",
    "\n",
    "print(\"\\n\" + \"=\"*60)\n"
   ]
  },
  {
   "cell_type": "code",
   "execution_count": null,
   "id": "061f429f-224e-4105-b2d9-f2bd13e82e93",
   "metadata": {},
   "outputs": [],
   "source": []
  },
  {
   "cell_type": "code",
   "execution_count": 6,
   "id": "af993d76-5cd0-4a29-b5e1-3fa519a12119",
   "metadata": {},
   "outputs": [],
   "source": [
    "# =========================\n",
    "# FUNCTION DECORATORS INTRODUCTION\n",
    "# =========================\n"
   ]
  },
  {
   "cell_type": "code",
   "execution_count": 7,
   "id": "2c358411-b023-4de7-8998-4c80db4f7ae2",
   "metadata": {},
   "outputs": [
    {
     "name": "stdout",
     "output_type": "stream",
     "text": [
      "Function with decorator:\n",
      "Before calling say_hello\n",
      "Hello, Alice!\n",
      "After calling say_hello\n",
      "Returned: Greeted Alice\n"
     ]
    }
   ],
   "source": [
    "# Simple decorator\n",
    "def my_decorator(func):\n",
    "    \"\"\"Simple decorator that adds functionality\"\"\"\n",
    "    def wrapper(*args, **kwargs):\n",
    "        print(f\"Before calling {func.__name__}\")\n",
    "        result = func(*args, **kwargs)\n",
    "        print(f\"After calling {func.__name__}\")\n",
    "        return result\n",
    "    return wrapper\n",
    "\n",
    "# Using decorator\n",
    "@my_decorator\n",
    "def say_hello(name):\n",
    "    \"\"\"Function with decorator\"\"\"\n",
    "    print(f\"Hello, {name}!\")\n",
    "    return f\"Greeted {name}\"\n",
    "\n",
    "print(\"Function with decorator:\")\n",
    "result = say_hello(\"Alice\")\n",
    "print(f\"Returned: {result}\")\n"
   ]
  },
  {
   "cell_type": "code",
   "execution_count": 8,
   "id": "91b1e82d-4ab4-4775-beaa-7d1fa536ad40",
   "metadata": {},
   "outputs": [
    {
     "name": "stdout",
     "output_type": "stream",
     "text": [
      "\n",
      "Timed function:\n",
      "slow_function took 0.1050 seconds\n",
      "\n",
      "============================================================\n"
     ]
    }
   ],
   "source": [
    "# Timing decorator\n",
    "import time\n",
    "\n",
    "def timer(func):\n",
    "    \"\"\"Decorator to measure function execution time\"\"\"\n",
    "    def wrapper(*args, **kwargs):\n",
    "        start_time = time.time()\n",
    "        result = func(*args, **kwargs)\n",
    "        end_time = time.time()\n",
    "        print(f\"{func.__name__} took {end_time - start_time:.4f} seconds\")\n",
    "        return result\n",
    "    return wrapper\n",
    "\n",
    "@timer\n",
    "def slow_function():\n",
    "    \"\"\"Function that takes some time\"\"\"\n",
    "    time.sleep(0.1)  # Simulate work\n",
    "    return \"Work completed\"\n",
    "\n",
    "print(f\"\\nTimed function:\")\n",
    "result = slow_function()\n",
    "\n",
    "print(\"\\n\" + \"=\"*60)\n"
   ]
  },
  {
   "cell_type": "code",
   "execution_count": 9,
   "id": "8f4877be-05df-4138-84fa-e6c68949e842",
   "metadata": {},
   "outputs": [],
   "source": [
    "# =========================\n",
    "# DOCSTRINGS AND ANNOTATIONS\n",
    "# ========================="
   ]
  },
  {
   "cell_type": "code",
   "execution_count": 10,
   "id": "3168826a-ec21-45ab-90cb-7abafd7a21e4",
   "metadata": {},
   "outputs": [
    {
     "name": "stdout",
     "output_type": "stream",
     "text": [
      "Function with type annotations and docstring:\n",
      "calculate_area(5.0, 3.0) = 15.0\n",
      "Function docstring: \n",
      "Calculate the area of a rectangle.\n",
      "\n",
      "Args:\n",
      "    length (float): The length of the rectangle\n",
      "    width (float): The width of the rectangle\n",
      "\n",
      "Returns:\n",
      "    float: The area of the rectangle\n",
      "\n",
      "Example:\n",
      "    >>> calculate_area(5.0, 3.0)\n",
      "    15.0\n",
      "\n"
     ]
    }
   ],
   "source": [
    "\n",
    "def calculate_area(length: float, width: float) -> float:\n",
    "    \"\"\"\n",
    "    Calculate the area of a rectangle.\n",
    "    \n",
    "    Args:\n",
    "        length (float): The length of the rectangle\n",
    "        width (float): The width of the rectangle\n",
    "    \n",
    "    Returns:\n",
    "        float: The area of the rectangle\n",
    "    \n",
    "    Example:\n",
    "        >>> calculate_area(5.0, 3.0)\n",
    "        15.0\n",
    "    \"\"\"\n",
    "    return length * width\n",
    "\n",
    "print(\"Function with type annotations and docstring:\")\n",
    "print(f\"calculate_area(5.0, 3.0) = {calculate_area(5.0, 3.0)}\")\n",
    "print(f\"Function docstring: {calculate_area.__doc__}\")"
   ]
  },
  {
   "cell_type": "code",
   "execution_count": 11,
   "id": "138d0121-0117-4126-aa5d-4443af5a9ae8",
   "metadata": {},
   "outputs": [
    {
     "name": "stdout",
     "output_type": "stream",
     "text": [
      "\n",
      "Function introspection:\n",
      "Function name: example_function\n",
      "Function annotations: {'x': <class 'int'>, 'y': <class 'str'>, 'return': <class 'str'>}\n",
      "\n",
      "============================================================\n"
     ]
    }
   ],
   "source": [
    "# Accessing function information\n",
    "def example_function(x: int, y: str = \"default\") -> str:\n",
    "    \"\"\"Example function for introspection\"\"\"\n",
    "    return f\"{y}: {x}\"\n",
    "\n",
    "print(f\"\\nFunction introspection:\")\n",
    "print(f\"Function name: {example_function.__name__}\")\n",
    "print(f\"Function annotations: {example_function.__annotations__}\")\n",
    "\n",
    "print(\"\\n\" + \"=\"*60)"
   ]
  },
  {
   "cell_type": "code",
   "execution_count": 12,
   "id": "1c9e0e53-a41b-4fd6-b88b-78d29ec90b86",
   "metadata": {},
   "outputs": [],
   "source": [
    "# =========================\n",
    "# RECURSION\n",
    "# =========================\n"
   ]
  },
  {
   "cell_type": "code",
   "execution_count": 13,
   "id": "f1973fe2-6aa7-4c73-995c-1bad72e66c2e",
   "metadata": {},
   "outputs": [
    {
     "name": "stdout",
     "output_type": "stream",
     "text": [
      "Recursive factorial:\n",
      "factorial(5) = 120\n",
      "factorial(0) = 1\n"
     ]
    }
   ],
   "source": [
    "# Simple recursive function\n",
    "def factorial(n):\n",
    "    \"\"\"Calculate factorial using recursion\"\"\"\n",
    "    # Base case\n",
    "    if n <= 1:\n",
    "        return 1\n",
    "    # Recursive case\n",
    "    return n * factorial(n - 1)\n",
    "\n",
    "print(\"Recursive factorial:\")\n",
    "print(f\"factorial(5) = {factorial(5)}\")\n",
    "print(f\"factorial(0) = {factorial(0)}\")\n"
   ]
  },
  {
   "cell_type": "code",
   "execution_count": 14,
   "id": "f8a696c3-db95-4d0a-a21d-6e43522a8ac8",
   "metadata": {},
   "outputs": [
    {
     "name": "stdout",
     "output_type": "stream",
     "text": [
      "\n",
      "Fibonacci sequence:\n",
      "fibonacci(0) = 0\n",
      "fibonacci(1) = 1\n",
      "fibonacci(2) = 1\n",
      "fibonacci(3) = 2\n",
      "fibonacci(4) = 3\n",
      "fibonacci(5) = 5\n",
      "fibonacci(6) = 8\n",
      "fibonacci(7) = 13\n"
     ]
    }
   ],
   "source": [
    "# Fibonacci sequence\n",
    "def fibonacci(n):\n",
    "    \"\"\"Calculate Fibonacci number using recursion\"\"\"\n",
    "    if n <= 1:\n",
    "        return n\n",
    "    return fibonacci(n - 1) + fibonacci(n - 2)\n",
    "\n",
    "print(f\"\\nFibonacci sequence:\")\n",
    "for i in range(8):\n",
    "    print(f\"fibonacci({i}) = {fibonacci(i)}\")\n"
   ]
  },
  {
   "cell_type": "code",
   "execution_count": 15,
   "id": "edfc92fd-675c-453a-bc85-5a1bc60c3111",
   "metadata": {},
   "outputs": [
    {
     "name": "stdout",
     "output_type": "stream",
     "text": [
      "\n",
      "Optimized Fibonacci:\n",
      "fibonacci_memo(30) = 832040\n",
      "\n",
      "============================================================\n"
     ]
    }
   ],
   "source": [
    "# Recursive function with memoization\n",
    "def fibonacci_memo(n, memo={}):\n",
    "    \"\"\"Optimized Fibonacci with memoization\"\"\"\n",
    "    if n in memo:\n",
    "        return memo[n]\n",
    "    if n <= 1:\n",
    "        return n\n",
    "    memo[n] = fibonacci_memo(n - 1, memo) + fibonacci_memo(n - 2, memo)\n",
    "    return memo[n]\n",
    "\n",
    "print(f\"\\nOptimized Fibonacci:\")\n",
    "print(f\"fibonacci_memo(30) = {fibonacci_memo(30)}\")\n",
    "\n",
    "print(\"\\n\" + \"=\"*60)\n"
   ]
  },
  {
   "cell_type": "code",
   "execution_count": null,
   "id": "a46d213e-66c6-4d80-ad33-4468c3bc037d",
   "metadata": {},
   "outputs": [],
   "source": []
  },
  {
   "cell_type": "code",
   "execution_count": 16,
   "id": "8d4a4bea-67a4-4744-b72c-baf74ddd01bd",
   "metadata": {},
   "outputs": [],
   "source": [
    "# =========================\n",
    "# PRACTICAL EXAMPLES\n",
    "# =========================\n"
   ]
  },
  {
   "cell_type": "code",
   "execution_count": 17,
   "id": "60c3c480-82fb-44f8-b68a-b687c2468088",
   "metadata": {},
   "outputs": [
    {
     "name": "stdout",
     "output_type": "stream",
     "text": [
      "Data processing example:\n",
      "Processing 3 students\n",
      "Options: {'pass_grade': 80, 'sort_by_average': True}\n",
      "Charlie: Average 92.0 - Pass\n",
      "Alice: Average 84.3 - Pass\n",
      "Bob: Average 82.0 - Pass\n"
     ]
    }
   ],
   "source": [
    "# Example 1: Data processing function\n",
    "def process_student_data(*students, **options):\n",
    "    \"\"\"Process student data with flexible options\"\"\"\n",
    "    print(f\"Processing {len(students)} students\")\n",
    "    print(f\"Options: {options}\")\n",
    "    \n",
    "    results = []\n",
    "    for student in students:\n",
    "        name, *grades = student  # Unpack name and grades\n",
    "        avg_grade = sum(grades) / len(grades) if grades else 0\n",
    "        \n",
    "        student_result = {\n",
    "            \"name\": name,\n",
    "            \"grades\": grades,\n",
    "            \"average\": avg_grade,\n",
    "            \"status\": \"Pass\" if avg_grade >= options.get(\"pass_grade\", 60) else \"Fail\"\n",
    "        }\n",
    "        results.append(student_result)\n",
    "    \n",
    "    if options.get(\"sort_by_average\", False):\n",
    "        results.sort(key=lambda x: x[\"average\"], reverse=True)\n",
    "    \n",
    "    return results\n",
    "\n",
    "print(\"Data processing example:\")\n",
    "student_results = process_student_data(\n",
    "    (\"Alice\", 85, 90, 78),\n",
    "    (\"Bob\", 76, 82, 88),\n",
    "    (\"Charlie\", 92, 95, 89),\n",
    "    pass_grade=80,\n",
    "    sort_by_average=True\n",
    ")\n",
    "\n",
    "for result in student_results:\n",
    "    print(f\"{result['name']}: Average {result['average']:.1f} - {result['status']}\")\n"
   ]
  },
  {
   "cell_type": "code",
   "execution_count": 18,
   "id": "5e01bc1e-7369-464a-8123-6f10e735d985",
   "metadata": {},
   "outputs": [
    {
     "name": "stdout",
     "output_type": "stream",
     "text": [
      "\n",
      "Configuration builder:\n",
      "App config: {'debug': True, 'port': 3000, 'host': 'localhost', 'database_url': 'postgresql://localhost/mydb', 'app_name': 'MyApp'}\n"
     ]
    }
   ],
   "source": [
    "# Example 2: Configuration builder\n",
    "def build_config(app_name, **settings):\n",
    "    \"\"\"Build application configuration\"\"\"\n",
    "    default_config = {\n",
    "        \"debug\": False,\n",
    "        \"port\": 8080,\n",
    "        \"host\": \"localhost\",\n",
    "        \"database_url\": \"sqlite:///app.db\"\n",
    "    }\n",
    "    \n",
    "    # Merge defaults with provided settings\n",
    "    config = {**default_config, **settings}\n",
    "    config[\"app_name\"] = app_name\n",
    "    \n",
    "    return config\n",
    "\n",
    "print(f\"\\nConfiguration builder:\")\n",
    "app_config = build_config(\n",
    "    \"MyApp\",\n",
    "    debug=True,\n",
    "    port=3000,\n",
    "    database_url=\"postgresql://localhost/mydb\"\n",
    ")\n",
    "print(f\"App config: {app_config}\")"
   ]
  },
  {
   "cell_type": "code",
   "execution_count": 19,
   "id": "61749a8d-6793-41e1-9f1c-55ae69184fbe",
   "metadata": {},
   "outputs": [
    {
     "name": "stdout",
     "output_type": "stream",
     "text": [
      "\n",
      "Flexible calculator:\n",
      "Add: 15\n",
      "Multiply: 24\n",
      "Average: 30.0\n",
      "Max: 42\n",
      "\n",
      "============================================================\n"
     ]
    }
   ],
   "source": [
    "# Example 3: Flexible calculator\n",
    "def calculate(operation, *numbers, precision=2):\n",
    "    \"\"\"Flexible calculator function\"\"\"\n",
    "    if not numbers:\n",
    "        return 0\n",
    "    \n",
    "    if operation == \"add\":\n",
    "        result = sum(numbers)\n",
    "    elif operation == \"multiply\":\n",
    "        result = 1\n",
    "        for num in numbers:\n",
    "            result *= num\n",
    "    elif operation == \"average\":\n",
    "        result = sum(numbers) / len(numbers)\n",
    "    elif operation == \"max\":\n",
    "        result = max(numbers)\n",
    "    elif operation == \"min\":\n",
    "        result = min(numbers)\n",
    "    else:\n",
    "        return f\"Unknown operation: {operation}\"\n",
    "    \n",
    "    return round(result, precision)\n",
    "\n",
    "print(f\"\\nFlexible calculator:\")\n",
    "print(f\"Add: {calculate('add', 1, 2, 3, 4, 5)}\")\n",
    "print(f\"Multiply: {calculate('multiply', 2, 3, 4)}\")\n",
    "print(f\"Average: {calculate('average', 10, 20, 30, 40, 50, precision=1)}\")\n",
    "print(f\"Max: {calculate('max', 15, 8, 23, 42, 7)}\")\n",
    "\n",
    "print(\"\\n\" + \"=\"*60)\n"
   ]
  },
  {
   "cell_type": "code",
   "execution_count": 20,
   "id": "9ab952a9-5ad9-476c-a80c-f25e1a56811d",
   "metadata": {},
   "outputs": [],
   "source": [
    "\n",
    "# =========================\n",
    "# BEST PRACTICES AND COMMON MISTAKES\n",
    "# ========================="
   ]
  },
  {
   "cell_type": "code",
   "execution_count": 21,
   "id": "0a0a40d3-4028-435b-afcd-fc94eefad65c",
   "metadata": {},
   "outputs": [
    {
     "name": "stdout",
     "output_type": "stream",
     "text": [
      "=== BEST PRACTICES AND COMMON MISTAKES ===\n",
      "\n",
      "✅ BEST PRACTICES:\n",
      "1. Use descriptive function names\n",
      "2. Write clear docstrings\n",
      "3. Keep functions focused on one task\n",
      "4. Use type hints for clarity\n",
      "5. Handle edge cases appropriately\n",
      "6. Use default arguments wisely\n",
      "7. Avoid mutable default arguments\n",
      "\n",
      "❌ COMMON MISTAKES:\n"
     ]
    }
   ],
   "source": [
    "\n",
    "print(\"=== BEST PRACTICES AND COMMON MISTAKES ===\")\n",
    "\n",
    "print(\"\\n✅ BEST PRACTICES:\")\n",
    "print(\"1. Use descriptive function names\")\n",
    "print(\"2. Write clear docstrings\")\n",
    "print(\"3. Keep functions focused on one task\")\n",
    "print(\"4. Use type hints for clarity\")\n",
    "print(\"5. Handle edge cases appropriately\")\n",
    "print(\"6. Use default arguments wisely\")\n",
    "print(\"7. Avoid mutable default arguments\")\n",
    "\n",
    "print(\"\\n❌ COMMON MISTAKES:\")"
   ]
  },
  {
   "cell_type": "code",
   "execution_count": 22,
   "id": "91dc5962-3014-4a5c-b797-3c0cd8beecc7",
   "metadata": {},
   "outputs": [
    {
     "name": "stdout",
     "output_type": "stream",
     "text": [
      "\n",
      "1. Mutable default arguments:\n",
      "   Bad: Functions share the same list\n",
      "   Good: Each call gets a fresh list\n"
     ]
    }
   ],
   "source": [
    "\n",
    "# Mistake 1: Mutable default arguments\n",
    "print(\"\\n1. Mutable default arguments:\")\n",
    "def bad_function(items=[]):  # DON'T DO THIS\n",
    "    items.append(\"new\")\n",
    "    return items\n",
    "\n",
    "def good_function(items=None):  # DO THIS\n",
    "    if items is None:\n",
    "        items = []\n",
    "    items.append(\"new\")\n",
    "    return items\n",
    "\n",
    "print(\"   Bad: Functions share the same list\")\n",
    "print(\"   Good: Each call gets a fresh list\")"
   ]
  },
  {
   "cell_type": "code",
   "execution_count": 23,
   "id": "2941e893-b8f7-4fb1-bf9c-906030b14c1b",
   "metadata": {},
   "outputs": [
    {
     "name": "stdout",
     "output_type": "stream",
     "text": [
      "\n",
      "2. Not handling edge cases:\n",
      "   Always check for invalid inputs like division by zero\n"
     ]
    }
   ],
   "source": [
    "# Mistake 2: Not handling edge cases\n",
    "print(\"\\n2. Not handling edge cases:\")\n",
    "def divide_safe(a, b):\n",
    "    \"\"\"Safe division with error handling\"\"\"\n",
    "    if b == 0:\n",
    "        return None\n",
    "    return a / b\n",
    "\n",
    "print(\"   Always check for invalid inputs like division by zero\")"
   ]
  },
  {
   "cell_type": "code",
   "execution_count": 24,
   "id": "787d1353-4582-43a0-9c8f-ba1317505c9f",
   "metadata": {},
   "outputs": [
    {
     "name": "stdout",
     "output_type": "stream",
     "text": [
      "\n",
      "3. Functions doing too much:\n",
      "   Bad: process_user_data_and_send_email_and_log()\n",
      "   Good: process_data(), send_email(), log_action()\n",
      "\n",
      "============================================================\n"
     ]
    }
   ],
   "source": [
    "# Mistake 3: Functions doing too much\n",
    "print(\"\\n3. Functions doing too much:\")\n",
    "print(\"   Bad: process_user_data_and_send_email_and_log()\")\n",
    "print(\"   Good: process_data(), send_email(), log_action()\")\n",
    "\n",
    "print(\"\\n\" + \"=\"*60)"
   ]
  },
  {
   "cell_type": "code",
   "execution_count": 25,
   "id": "2b38b824-9efe-402d-b762-08112333868e",
   "metadata": {},
   "outputs": [],
   "source": [
    "# =========================\n",
    "# SUMMARY\n",
    "# ========================="
   ]
  },
  {
   "cell_type": "code",
   "execution_count": 26,
   "id": "245464e1-b0db-4e84-bfd4-d65e4619a4bf",
   "metadata": {},
   "outputs": [
    {
     "name": "stdout",
     "output_type": "stream",
     "text": [
      "=== SUMMARY ===\n",
      "\n",
      "🎯 FUNCTION BASICS:\n",
      "• def function_name(): - Define a function\n",
      "• return value - Return a value from function\n",
      "• Functions can have parameters and return values\n",
      "\n",
      "🔧 PARAMETER TYPES:\n",
      "• Regular parameters: def func(a, b)\n",
      "• Default arguments: def func(a, b=default)\n",
      "• *args: Accept any number of positional arguments\n",
      "• **kwargs: Accept any number of keyword arguments\n",
      "\n",
      "📏 PARAMETER ORDER:\n",
      "• def func(required, default=value, *args, **kwargs)\n",
      "• This order must be followed!\n",
      "\n",
      "🚀 ADVANCED CONCEPTS:\n",
      "• Nested functions and closures\n",
      "• Functions as arguments and return values\n",
      "• Decorators for adding functionality\n",
      "• Recursion for self-calling functions\n",
      "\n",
      "💡 BEST PRACTICES:\n",
      "• Use clear, descriptive names\n",
      "• Write comprehensive docstrings\n",
      "• Handle edge cases properly\n",
      "• Avoid mutable default arguments\n",
      "• Keep functions focused and simple\n",
      "\n",
      "🎯 REMEMBER:\n",
      "Functions are the building blocks of Python programs!\n",
      "Master them to write clean, reusable, and maintainable code.\n",
      "\n",
      "======================================================================\n",
      "END OF FUNCTIONS GUIDE\n",
      "======================================================================\n"
     ]
    }
   ],
   "source": [
    "\n",
    "print(\"=== SUMMARY ===\")\n",
    "print()\n",
    "print(\"🎯 FUNCTION BASICS:\")\n",
    "print(\"• def function_name(): - Define a function\")\n",
    "print(\"• return value - Return a value from function\")\n",
    "print(\"• Functions can have parameters and return values\")\n",
    "print()\n",
    "print(\"🔧 PARAMETER TYPES:\")\n",
    "print(\"• Regular parameters: def func(a, b)\")\n",
    "print(\"• Default arguments: def func(a, b=default)\")\n",
    "print(\"• *args: Accept any number of positional arguments\")\n",
    "print(\"• **kwargs: Accept any number of keyword arguments\")\n",
    "print()\n",
    "print(\"📏 PARAMETER ORDER:\")\n",
    "print(\"• def func(required, default=value, *args, **kwargs)\")\n",
    "print(\"• This order must be followed!\")\n",
    "print()\n",
    "print(\"🚀 ADVANCED CONCEPTS:\")\n",
    "print(\"• Nested functions and closures\")\n",
    "print(\"• Functions as arguments and return values\")\n",
    "print(\"• Decorators for adding functionality\")\n",
    "print(\"• Recursion for self-calling functions\")\n",
    "print()\n",
    "print(\"💡 BEST PRACTICES:\")\n",
    "print(\"• Use clear, descriptive names\")\n",
    "print(\"• Write comprehensive docstrings\")\n",
    "print(\"• Handle edge cases properly\")\n",
    "print(\"• Avoid mutable default arguments\")\n",
    "print(\"• Keep functions focused and simple\")\n",
    "print()\n",
    "print(\"🎯 REMEMBER:\")\n",
    "print(\"Functions are the building blocks of Python programs!\")\n",
    "print(\"Master them to write clean, reusable, and maintainable code.\")\n",
    "\n",
    "print(\"\\n\" + \"=\"*70)\n",
    "print(\"END OF FUNCTIONS GUIDE\")\n",
    "print(\"=\"*70)"
   ]
  },
  {
   "cell_type": "code",
   "execution_count": 2,
   "id": "25f7f579-4ac7-44b0-b3c6-2bb4ccc5cd47",
   "metadata": {},
   "outputs": [
    {
     "name": "stdout",
     "output_type": "stream",
     "text": [
      "['ALICE', 'BOB']\n"
     ]
    }
   ],
   "source": [
    "names = ['Alice', 'Bob']\n",
    "uppercase = list(map(lambda s: s.upper(), names))\n",
    "print(uppercase)"
   ]
  },
  {
   "cell_type": "code",
   "execution_count": null,
   "id": "68b8f924-a2d2-40d7-a615-1e65a919cde1",
   "metadata": {},
   "outputs": [],
   "source": []
  }
 ],
 "metadata": {
  "kernelspec": {
   "display_name": "Python 3 (ipykernel)",
   "language": "python",
   "name": "python3"
  },
  "language_info": {
   "codemirror_mode": {
    "name": "ipython",
    "version": 3
   },
   "file_extension": ".py",
   "mimetype": "text/x-python",
   "name": "python",
   "nbconvert_exporter": "python",
   "pygments_lexer": "ipython3",
   "version": "3.13.5"
  }
 },
 "nbformat": 4,
 "nbformat_minor": 5
}
