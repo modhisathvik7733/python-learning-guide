{
 "cells": [
  {
   "cell_type": "code",
   "execution_count": 157,
   "id": "68328210-dec7-4955-9b36-54cea8a78317",
   "metadata": {},
   "outputs": [],
   "source": [
    "# ===================================================================================================\n",
    "# PYTHON DATA STRUCTURES - COMPLETE GUIDE\n",
    "# ===================================================================================================\n",
    "# Lists, Tuples, Sets, and Dictionaries - Everything you need to know!\n"
   ]
  },
  {
   "cell_type": "code",
   "execution_count": 158,
   "id": "ec609935-893e-4fb0-9455-437546be5055",
   "metadata": {},
   "outputs": [
    {
     "name": "stdout",
     "output_type": "stream",
     "text": [
      "First fruit: apple\n",
      "Last fruit: cherry\n"
     ]
    }
   ],
   "source": [
    "# =========================\n",
    "# LISTS - Ordered & Mutable\n",
    "# =========================\n",
    "# Lists are ordered collections that can be changed after creation\n",
    "\n",
    "# Basic list creation and access\n",
    "fruits = [\"apple\", \"banana\", \"cherry\"]\n",
    "print(f\"First fruit: {fruits[0]}\")        # Output: First fruit: apple\n",
    "print(f\"Last fruit: {fruits[-1]}\")        # Output: Last fruit: cherry"
   ]
  },
  {
   "cell_type": "code",
   "execution_count": 159,
   "id": "20645c50-de19-4bf4-976a-abe6739a256c",
   "metadata": {},
   "outputs": [
    {
     "name": "stdout",
     "output_type": "stream",
     "text": [
      "After adding: ['apple', 'mango', 'banana', 'cherry', ['orange', 'market'], 'berry', 'kiwi', 'grape']\n",
      "orange\n"
     ]
    }
   ],
   "source": [
    "# Adding elements (multiple ways)\n",
    "fruits.append([\"orange\",\"market\"])                    # Add to end\n",
    "fruits.append(\"berry\")   \n",
    "fruits.insert(1, \"mango\")                 # Insert at specific position\n",
    "fruits.extend([\"kiwi\", \"grape\"])          # Add multiple items\n",
    "print(f\"After adding: {fruits}\")\n",
    "print(fruits[4][0])"
   ]
  },
  {
   "cell_type": "code",
   "execution_count": 160,
   "id": "85e4fd81-5d3a-4dfe-930a-83b103d3c203",
   "metadata": {},
   "outputs": [],
   "source": [
    "# Removing elements (multiple ways)\n",
    "fruits.remove(\"apple\")                    # Remove first occurrence\n",
    "popped = fruits.pop()                     # Remove and return last item\n",
    "del fruits[0]                            # Remove by index\n"
   ]
  },
  {
   "cell_type": "code",
   "execution_count": 161,
   "id": "32e7d4c1-e646-41f5-a429-c1211debbfbb",
   "metadata": {},
   "outputs": [
    {
     "name": "stdout",
     "output_type": "stream",
     "text": [
      "After removing: ['banana', 'cherry', ['orange', 'market'], 'berry', 'kiwi']\n",
      "Popped item: grape\n"
     ]
    }
   ],
   "source": [
    "print(f\"After removing: {fruits}\")\n",
    "print(f\"Popped item: {popped}\")"
   ]
  },
  {
   "cell_type": "code",
   "execution_count": 162,
   "id": "26f55ec0-ed0e-4079-9f4d-faf79143ad30",
   "metadata": {},
   "outputs": [
    {
     "name": "stdout",
     "output_type": "stream",
     "text": [
      "After modification: ['watermelon', 'cherry', ['orange', 'market'], 'berry', 'kiwi']\n"
     ]
    }
   ],
   "source": [
    "# Modifying elements\n",
    "fruits[0] = \"watermelon\"                  # Change by index\n",
    "print(f\"After modification: {fruits}\")"
   ]
  },
  {
   "cell_type": "code",
   "execution_count": 163,
   "id": "61061975-fbcf-4b5a-a06a-10bd72e4c61e",
   "metadata": {},
   "outputs": [
    {
     "name": "stdout",
     "output_type": "stream",
     "text": [
      "First 5: [0, 1, 2, 3, 4]\n",
      "Last 3: [7, 8, 9]\n",
      "Every 2nd: [0, 2, 4, 6, 8]\n",
      "Reversed: [9, 8, 7, 6, 5, 4, 3, 2, 1, 0]\n"
     ]
    }
   ],
   "source": [
    "# List slicing (powerful feature!)\n",
    "numbers = [0, 1, 2, 3, 4, 5, 6, 7, 8, 9]\n",
    "print(f\"First 5: {numbers[:5]}\")          # [0, 1, 2, 3, 4]\n",
    "print(f\"Last 3: {numbers[-3:]}\")          # [7, 8, 9]\n",
    "print(f\"Every 2nd: {numbers[::2]}\")       # [0, 2, 4, 6, 8]\n",
    "print(f\"Reversed: {numbers[::-1]}\")       # [9, 8, 7, 6, 5, 4, 3, 2, 1, 0]"
   ]
  },
  {
   "cell_type": "code",
   "execution_count": 164,
   "id": "b39d17b6-5d7a-4c2c-bb19-279293b61c16",
   "metadata": {},
   "outputs": [
    {
     "name": "stdout",
     "output_type": "stream",
     "text": [
      "Squares: [0, 1, 4, 9, 16]\n"
     ]
    }
   ],
   "source": [
    "# List comprehension (Pythonic way to create lists)\n",
    "squares = [x**2 for x in range(5)]\n",
    "print(f\"Squares: {squares}\")              # [0, 1, 4, 9, 16]"
   ]
  },
  {
   "cell_type": "code",
   "execution_count": 165,
   "id": "0773ebeb-7560-4823-97bb-886ef9d738c7",
   "metadata": {},
   "outputs": [
    {
     "name": "stdout",
     "output_type": "stream",
     "text": [
      "Even numbers: [0, 2, 4, 6, 8]\n"
     ]
    }
   ],
   "source": [
    "# Conditional list comprehension\n",
    "evens = [x for x in range(10) if x % 2 == 0]\n",
    "print(f\"Even numbers: {evens}\")           # [0, 2, 4, 6, 8]"
   ]
  },
  {
   "cell_type": "code",
   "execution_count": 166,
   "id": "3b470a1d-b38c-493d-a906-7734e5a8b568",
   "metadata": {},
   "outputs": [
    {
     "name": "stdout",
     "output_type": "stream",
     "text": [
      "Mixed list: [1, 'hello', 3.14, True, [1, 2, 3]]\n"
     ]
    }
   ],
   "source": [
    "# Lists can hold mixed types (but use carefully!)\n",
    "mixed = [1, \"hello\", 3.14, True, [1, 2, 3]]\n",
    "print(f\"Mixed list: {mixed}\")\n"
   ]
  },
  {
   "cell_type": "code",
   "execution_count": 167,
   "id": "3209cf94-0108-438f-9d53-8c40a98305f0",
   "metadata": {},
   "outputs": [
    {
     "name": "stdout",
     "output_type": "stream",
     "text": [
      "Length: 8\n",
      "Max: 9\n",
      "Min: 1\n",
      "Sum: 31\n",
      "Count of 1: 2\n",
      "Index of 4: 2\n"
     ]
    }
   ],
   "source": [
    "\n",
    "# Useful list methods\n",
    "sample_list = [3, 1, 4, 1, 5, 9, 2, 6]\n",
    "print(f\"Length: {len(sample_list)}\") \n",
    "print(f\"Max: {max(sample_list)}\")\n",
    "print(f\"Min: {min(sample_list)}\")\n",
    "print(f\"Sum: {sum(sample_list)}\")\n",
    "print(f\"Count of 1: {sample_list.count(1)}\")\n",
    "print(f\"Index of 4: {sample_list.index(4)}\")"
   ]
  },
  {
   "cell_type": "code",
   "execution_count": 168,
   "id": "3106191d-b8a0-4594-9309-dc44f009eb7d",
   "metadata": {},
   "outputs": [
    {
     "name": "stdout",
     "output_type": "stream",
     "text": [
      "Sorted: [1, 1, 2, 3, 4, 5, 6, 9]\n"
     ]
    }
   ],
   "source": [
    "# Sorting\n",
    "sample_list.sort()                        # Modifies original\n",
    "print(f\"Sorted: {sample_list}\")"
   ]
  },
  {
   "cell_type": "code",
   "execution_count": 169,
   "id": "967dbfa7-ea60-4319-9e75-726639949e33",
   "metadata": {},
   "outputs": [
    {
     "name": "stdout",
     "output_type": "stream",
     "text": [
      "Sorted copy (desc): [5, 4, 3, 1, 1]\n"
     ]
    }
   ],
   "source": [
    "sorted_copy = sorted([3, 1, 4, 1, 5], reverse=True)  # Creates new list\n",
    "print(f\"Sorted copy (desc):\", sorted_copy)\n"
   ]
  },
  {
   "cell_type": "code",
   "execution_count": null,
   "id": "7e99130a-0df4-45ed-9d77-ecd595017c9e",
   "metadata": {},
   "outputs": [],
   "source": []
  },
  {
   "cell_type": "code",
   "execution_count": null,
   "id": "30a1e143-d244-4e30-80e5-7ed201782535",
   "metadata": {},
   "outputs": [],
   "source": []
  },
  {
   "cell_type": "code",
   "execution_count": 170,
   "id": "78751336-c5ce-444f-825b-889d559b761f",
   "metadata": {},
   "outputs": [],
   "source": [
    "# =========================\n",
    "# TUPLES - Ordered & Immutable\n",
    "# =========================\n",
    "# Tuples are ordered collections that CANNOT be changed after creation"
   ]
  },
  {
   "cell_type": "code",
   "execution_count": 171,
   "id": "c3daa7c8-839a-401f-99be-a9a9cbf3a51f",
   "metadata": {},
   "outputs": [
    {
     "name": "stdout",
     "output_type": "stream",
     "text": [
      "X coordinate: 10.0\n"
     ]
    }
   ],
   "source": [
    "# Basic tuple creation\n",
    "coordinates = (10.0, 20.0)\n",
    "rgb_color = (255, 128, 0)\n",
    "print(f\"X coordinate: {coordinates[0]}\")   # Output: 10.0"
   ]
  },
  {
   "cell_type": "code",
   "execution_count": 172,
   "id": "69c28a36-d447-47b9-8595-c1a66f6113f4",
   "metadata": {},
   "outputs": [
    {
     "name": "stdout",
     "output_type": "stream",
     "text": [
      "Single tuple type: <class 'tuple'>\n",
      "Not tuple type: <class 'int'>\n"
     ]
    }
   ],
   "source": [
    "# Single element tuple (note the comma!)\n",
    "single = (42,)                            # Comma is required!\n",
    "not_tuple = (42)                          # This is just an integer in parentheses\n",
    "print(f\"Single tuple type: {type(single)}\")\n",
    "print(f\"Not tuple type: {type(not_tuple)}\")"
   ]
  },
  {
   "cell_type": "code",
   "execution_count": 173,
   "id": "3884a8c0-9ec8-4a1c-b1ea-edae230fe5db",
   "metadata": {},
   "outputs": [
    {
     "name": "stdout",
     "output_type": "stream",
     "text": [
      "Unpacked: x=10.0, y=20.0\n",
      "RGB: red=255, green=128, blue=0\n"
     ]
    }
   ],
   "source": [
    "# Tuple unpacking (very useful!)\n",
    "x, y = coordinates\n",
    "r, g, b = rgb_color\n",
    "print(f\"Unpacked: x={x}, y={y}\")\n",
    "print(f\"RGB: red={r}, green={g}, blue={b}\")"
   ]
  },
  {
   "cell_type": "code",
   "execution_count": 174,
   "id": "c9c8c2c9-54f4-4ab9-894c-1f2deaa311fa",
   "metadata": {},
   "outputs": [
    {
     "name": "stdout",
     "output_type": "stream",
     "text": [
      "After swap: a=2, b=1\n"
     ]
    }
   ],
   "source": [
    "# Multiple assignment using tuples\n",
    "a, b = 1, 2                               # Actually creates a tuple (1, 2)\n",
    "a, b = b, a                               # Elegant way to swap values!\n",
    "print(f\"After swap: a={a}, b={b}\")"
   ]
  },
  {
   "cell_type": "code",
   "execution_count": 175,
   "id": "e3c1a169-f64d-4a51-bfdb-f81c1f3645f5",
   "metadata": {},
   "outputs": [
    {
     "name": "stdout",
     "output_type": "stream",
     "text": [
      "Location at (1,1): Northeast\n"
     ]
    }
   ],
   "source": [
    "# Tuples as dictionary keys (because they're immutable!)\n",
    "locations = {\n",
    "    (0, 0): \"Origin\",\n",
    "    (1, 1): \"Northeast\",\n",
    "    (-1, -1): \"Southwest\"\n",
    "}\n",
    "print(f\"Location at (1,1): {locations[(1, 1)]}\")"
   ]
  },
  {
   "cell_type": "code",
   "execution_count": 176,
   "id": "8dc9665b-a621-4624-a896-a10da9e14aab",
   "metadata": {},
   "outputs": [
    {
     "name": "stdout",
     "output_type": "stream",
     "text": [
      "Count of 2: 3\n",
      "Index of 3: 3\n"
     ]
    }
   ],
   "source": [
    "# Tuple methods (only 2!)\n",
    "sample_tuple = (1, 2, 2, 3, 2, 4)\n",
    "print(f\"Count of 2: {sample_tuple.count(2)}\")\n",
    "print(f\"Index of 3: {sample_tuple.index(3)}\")"
   ]
  },
  {
   "cell_type": "code",
   "execution_count": 177,
   "id": "f1af2557-00f8-4cbf-8f9c-7048ba435d37",
   "metadata": {},
   "outputs": [
    {
     "name": "stdout",
     "output_type": "stream",
     "text": [
      "List from tuple: [10.0, 20.0]\n"
     ]
    }
   ],
   "source": [
    "\n",
    "# Converting between lists and tuples\n",
    "list_from_tuple = list(coordinates)\n",
    "tuple_from_list = tuple(fruits)\n",
    "print(f\"List from tuple: {list_from_tuple}\")"
   ]
  },
  {
   "cell_type": "code",
   "execution_count": null,
   "id": "582f1ea6-9408-4a62-86f3-74c4de9d403c",
   "metadata": {},
   "outputs": [],
   "source": []
  },
  {
   "cell_type": "code",
   "execution_count": null,
   "id": "a38ba4ad-8c0b-4441-901f-3f383fef271e",
   "metadata": {},
   "outputs": [],
   "source": []
  },
  {
   "cell_type": "code",
   "execution_count": 178,
   "id": "c8041648-48f2-4a7a-8d3b-e0478474cf81",
   "metadata": {},
   "outputs": [],
   "source": [
    "# =========================\n",
    "# SETS - Unordered & Unique\n",
    "# =========================\n",
    "# Sets store unique elements in no particular order\n"
   ]
  },
  {
   "cell_type": "code",
   "execution_count": 179,
   "id": "403a95bf-0a83-4408-a031-e3b7aa06c53a",
   "metadata": {},
   "outputs": [
    {
     "name": "stdout",
     "output_type": "stream",
     "text": [
      "Unique numbers: {1, 2, 3}\n"
     ]
    }
   ],
   "source": [
    "# Creating sets\n",
    "unique_numbers = {1, 2, 3, 2, 1}          # Duplicates automatically removed\n",
    "print(f\"Unique numbers: {unique_numbers}\") # Output: {1, 2, 3}"
   ]
  },
  {
   "cell_type": "code",
   "execution_count": 180,
   "id": "4f1526ca-63c1-469d-8cc0-1e2c849db50f",
   "metadata": {},
   "outputs": [
    {
     "name": "stdout",
     "output_type": "stream",
     "text": [
      "Empty set: set()\n"
     ]
    }
   ],
   "source": [
    "# Creating empty set (careful with syntax!)\n",
    "empty_set = set()                          # {} creates empty dict, not set!\n",
    "print(f\"Empty set: {empty_set}\")\n"
   ]
  },
  {
   "cell_type": "code",
   "execution_count": 181,
   "id": "28734fb0-8cc9-4f9f-a62c-4298b4d8353c",
   "metadata": {},
   "outputs": [
    {
     "name": "stdout",
     "output_type": "stream",
     "text": [
      "Colors: {'blue', 'green', 'yellow'}\n"
     ]
    }
   ],
   "source": [
    "# Adding and removing elements\n",
    "colors = {\"red\", \"green\", \"blue\"}\n",
    "colors.add(\"yellow\")\n",
    "colors.remove(\"red\")                       # Raises error if not found\n",
    "colors.discard(\"purple\")                   # No error if not found\n",
    "print(f\"Colors: {colors}\")"
   ]
  },
  {
   "cell_type": "code",
   "execution_count": 182,
   "id": "85d98b84-549b-481b-ae61-973c68a24840",
   "metadata": {},
   "outputs": [],
   "source": [
    "# Set operations (mathematical operations!)\n",
    "set_a = {1, 2, 3, 4, 5}\n",
    "set_b = {4, 5, 6, 7, 8}"
   ]
  },
  {
   "cell_type": "code",
   "execution_count": 183,
   "id": "cd2dee1a-b23a-4e2e-999f-b02832515a4f",
   "metadata": {},
   "outputs": [
    {
     "name": "stdout",
     "output_type": "stream",
     "text": [
      "Union (|): {1, 2, 3, 4, 5, 6, 7, 8}\n",
      "Intersection (&): {4, 5}\n",
      "Difference (-): {1, 2, 3}\n",
      "Symmetric Diff (^): {1, 2, 3, 6, 7, 8}\n"
     ]
    }
   ],
   "source": [
    "print(f\"Union (|): {set_a | set_b}\")              # {1, 2, 3, 4, 5, 6, 7, 8}\n",
    "print(f\"Intersection (&): {set_a & set_b}\")       # {4, 5}\n",
    "print(f\"Difference (-): {set_a - set_b}\")         # {1, 2, 3}\n",
    "print(f\"Symmetric Diff (^): {set_a ^ set_b}\")     # {1, 2, 3, 6, 7, 8}"
   ]
  },
  {
   "cell_type": "code",
   "execution_count": 184,
   "id": "80bcbbc7-d7c3-4623-9b04-36760d10520b",
   "metadata": {},
   "outputs": [
    {
     "name": "stdout",
     "output_type": "stream",
     "text": [
      "Union method: {1, 2, 3, 4, 5, 6, 7, 8}\n",
      "Intersection method: {4, 5}\n"
     ]
    }
   ],
   "source": [
    "# Set methods (alternative to operators)\n",
    "print(f\"Union method: {set_a.union(set_b)}\")\n",
    "print(f\"Intersection method: {set_a.intersection(set_b)}\")"
   ]
  },
  {
   "cell_type": "code",
   "execution_count": 185,
   "id": "bc341a71-918d-43d5-a3ac-ca84e79eca62",
   "metadata": {},
   "outputs": [
    {
     "name": "stdout",
     "output_type": "stream",
     "text": [
      "Is 3 in set_a? True\n",
      "Is set_a superset of {1, 2}? False\n"
     ]
    }
   ],
   "source": [
    "# Checking membership and relationships\n",
    "print(f\"Is 3 in set_a? {3 in set_a}\")\n",
    "print(f\"Is set_a superset of {{1, 2}}? {set_a.issuperset({1, 2,133})}\")"
   ]
  },
  {
   "cell_type": "code",
   "execution_count": 186,
   "id": "82c32d23-dd19-4f96-928a-7e6edfbe61df",
   "metadata": {},
   "outputs": [
    {
     "name": "stdout",
     "output_type": "stream",
     "text": [
      "Removed duplicates: [1, 2, 3, 4]\n"
     ]
    }
   ],
   "source": [
    "# Practical use: removing duplicates from list\n",
    "duplicated_list = [1, 2, 2, 3, 3, 3, 4, 4, 4, 4]\n",
    "unique_list = list(set(duplicated_list))\n",
    "print(f\"Removed duplicates: {unique_list}\")\n"
   ]
  },
  {
   "cell_type": "code",
   "execution_count": null,
   "id": "1c5903cd-70d3-48fb-b530-3aca64882154",
   "metadata": {},
   "outputs": [],
   "source": []
  },
  {
   "cell_type": "code",
   "execution_count": null,
   "id": "070b4cbd-b76d-4671-98f3-e396a18675aa",
   "metadata": {},
   "outputs": [],
   "source": []
  },
  {
   "cell_type": "code",
   "execution_count": null,
   "id": "7953fb59-bfc0-4d79-a566-db9b46e4e218",
   "metadata": {},
   "outputs": [],
   "source": []
  },
  {
   "cell_type": "code",
   "execution_count": 187,
   "id": "6a627343-8bcd-4521-8469-a10e19e00b59",
   "metadata": {},
   "outputs": [],
   "source": [
    "# =========================\n",
    "# DICTIONARIES - Key-Value Pairs\n",
    "# =========================\n",
    "# Dictionaries store data as key-value pairs"
   ]
  },
  {
   "cell_type": "code",
   "execution_count": 188,
   "id": "dd730089-6e3d-406f-9f05-105faf66a5a5",
   "metadata": {},
   "outputs": [
    {
     "name": "stdout",
     "output_type": "stream",
     "text": [
      "Name: Alice\n"
     ]
    }
   ],
   "source": [
    "# Creating dictionaries\n",
    "person = {\"name\": \"Alice\", \"age\": 25, \"city\": \"New York\"}\n",
    "print(f\"Name: {person['name']}\")"
   ]
  },
  {
   "cell_type": "code",
   "execution_count": 189,
   "id": "c53ddb89-8fa3-41b2-a938-a867a1276817",
   "metadata": {},
   "outputs": [],
   "source": [
    "# Alternative creation methods\n",
    "person2 = dict(name=\"Bob\", age=30, city=\"Boston\")\n",
    "person3 = dict([(\"name\", \"Charlie\"), (\"age\", 35)])"
   ]
  },
  {
   "cell_type": "code",
   "execution_count": 190,
   "id": "d8b4770e-a377-4cdd-8c37-870565e63449",
   "metadata": {},
   "outputs": [
    {
     "name": "stdout",
     "output_type": "stream",
     "text": [
      "Updated person: {'name': 'Alice', 'age': 26, 'city': 'New York', 'email': 'alice@email.com'}\n"
     ]
    }
   ],
   "source": [
    "# Adding and modifying values\n",
    "person[\"email\"] = \"alice@email.com\"        # Add new key-value\n",
    "person[\"age\"] = 26                         # Modify existing value\n",
    "print(f\"Updated person: {person}\")"
   ]
  },
  {
   "cell_type": "code",
   "execution_count": 191,
   "id": "33c298f2-21c0-441e-baac-0e3924a837f4",
   "metadata": {},
   "outputs": [
    {
     "name": "stdout",
     "output_type": "stream",
     "text": [
      "Age: 26\n",
      "Phone: Not provided\n"
     ]
    }
   ],
   "source": [
    "# Safe access with get() method\n",
    "print(f\"Age: {person.get('age', 'Unknown')}\")\n",
    "print(f\"Phone: {person.get('phone', 'Not provided')}\")"
   ]
  },
  {
   "cell_type": "code",
   "execution_count": 192,
   "id": "a22c3978-ac56-455d-9689-824e8ff1ba72",
   "metadata": {},
   "outputs": [
    {
     "name": "stdout",
     "output_type": "stream",
     "text": [
      "After removal: {'name': 'Alice', 'age': 26}\n",
      "Popped email: alice@email.com\n"
     ]
    }
   ],
   "source": [
    "# Removing items\n",
    "del person[\"city\"]                         # Remove key-value pair\n",
    "email = person.pop(\"email\", \"No email\")    # Remove and return value\n",
    "print(f\"After removal: {person}\")\n",
    "print(f\"Popped email: {email}\")"
   ]
  },
  {
   "cell_type": "code",
   "execution_count": 193,
   "id": "75456a1a-4c70-4893-95c8-e95a3c6bbbf0",
   "metadata": {},
   "outputs": [
    {
     "name": "stdout",
     "output_type": "stream",
     "text": [
      "Keys: ['name', 'age']\n",
      "Values: ['Alice', 26]\n",
      "Items: [('name', 'Alice'), ('age', 26)]\n"
     ]
    }
   ],
   "source": [
    "# Dictionary methods and operations\n",
    "print(f\"Keys: {list(person.keys())}\")\n",
    "print(f\"Values: {list(person.values())}\")\n",
    "print(f\"Items: {list(person.items())}\")"
   ]
  },
  {
   "cell_type": "code",
   "execution_count": 195,
   "id": "c6a5c9aa-e6a5-4474-8167-ae255fa99686",
   "metadata": {},
   "outputs": [
    {
     "name": "stdout",
     "output_type": "stream",
     "text": [
      "name: Alice\n",
      "age: 26\n"
     ]
    }
   ],
   "source": [
    "# Looping through dictionaries\n",
    "for key in person:                         # Iterate over keys\n",
    "    print(f\"{key}: {person[key]}\")"
   ]
  },
  {
   "cell_type": "code",
   "execution_count": null,
   "id": "da306b16-8782-43bc-9361-d22cc9ba42d5",
   "metadata": {},
   "outputs": [],
   "source": [
    "for key, value in person.items():          # Iterate over key-value pairs\n",
    "    print(f\"{key} -> {value}\")"
   ]
  },
  {
   "cell_type": "code",
   "execution_count": null,
   "id": "d7e1da43-b0d1-4131-b334-55039c81bf7d",
   "metadata": {},
   "outputs": [],
   "source": [
    "\n",
    "# Dictionary comprehension\n",
    "squares_dict = {x: x**2 for x in range(5)}\n",
    "print(f\"Squares dict: {squares_dict}\")"
   ]
  },
  {
   "cell_type": "code",
   "execution_count": null,
   "id": "d0b7952a-51a6-4002-a9e1-f92ee6e69ae7",
   "metadata": {},
   "outputs": [],
   "source": [
    "# Nested dictionaries\n",
    "students = {\n",
    "    \"student1\": {\"name\": \"John\", \"grades\": [85, 90, 78]},\n",
    "    \"student2\": {\"name\": \"Jane\", \"grades\": [92, 88, 95]}\n",
    "}\n",
    "print(f\"John's grades: {students['student1']['grades']}\")\n"
   ]
  },
  {
   "cell_type": "code",
   "execution_count": null,
   "id": "f049413a-b7a6-459f-8888-00561fd5af26",
   "metadata": {},
   "outputs": [],
   "source": [
    "# Merging dictionaries (Python 3.9+)\n",
    "dict1 = {\"a\": 1, \"b\": 2}\n",
    "dict2 = {\"c\": 3, \"d\": 4}\n",
    "merged = dict1 | dict2                     # New in Python 3.9\n",
    "print(f\"Merged: {merged}\")"
   ]
  },
  {
   "cell_type": "code",
   "execution_count": null,
   "id": "65cd397d-de7a-4610-852a-4b72bb8ab3c9",
   "metadata": {},
   "outputs": [],
   "source": [
    "\n",
    "# Alternative merging (older Python versions)\n",
    "merged_old = {**dict1, **dict2}\n",
    "print(f\"Merged (old way): {merged_old}\")\n"
   ]
  },
  {
   "cell_type": "code",
   "execution_count": null,
   "id": "a7a7558d-92be-4e40-9c55-fffa2371e238",
   "metadata": {},
   "outputs": [],
   "source": []
  },
  {
   "cell_type": "code",
   "execution_count": null,
   "id": "cecf1863-9c69-4c4b-9642-f87b9bfbdb83",
   "metadata": {},
   "outputs": [],
   "source": []
  },
  {
   "cell_type": "code",
   "execution_count": null,
   "id": "e078ffd4-0e64-4f02-a237-7f7c217158a7",
   "metadata": {},
   "outputs": [],
   "source": [
    "# =========================\n",
    "# PERFORMANCE COMPARISON\n",
    "# =========================\n",
    "# Understanding when to use each data structure"
   ]
  },
  {
   "cell_type": "code",
   "execution_count": null,
   "id": "c099f4e7-d3e6-4d56-bca5-50c2d500a9bd",
   "metadata": {},
   "outputs": [],
   "source": [
    "import time\n",
    "\n",
    "# Membership testing comparison\n",
    "big_list = list(range(10000))\n",
    "big_set = set(range(10000))\n",
    "big_dict = {i: f\"value_{i}\" for i in range(10000)}\n",
    "\n",
    "target = 9999\n",
    "\n",
    "# List search (slow - O(n))\n",
    "start = time.time()\n",
    "result = target in big_list\n",
    "list_time = time.time() - start\n",
    "\n",
    "# Set search (fast - O(1) average)\n",
    "start = time.time()\n",
    "result = target in big_set\n",
    "set_time = time.time() - start\n",
    "\n",
    "# Dict key search (fast - O(1) average)\n",
    "start = time.time()\n",
    "result = target in big_dict\n",
    "dict_time = time.time() - start\n",
    "\n",
    "print(f\"\\nPerformance comparison for membership testing:\")\n",
    "print(f\"List: {list_time:.6f} seconds\")\n",
    "print(f\"Set:  {set_time:.6f} seconds (much faster!)\")\n",
    "print(f\"Dict: {dict_time:.6f} seconds (much faster!)\")\n"
   ]
  },
  {
   "cell_type": "code",
   "execution_count": null,
   "id": "8290b343-acb8-4844-aa01-f03bbb6060f1",
   "metadata": {},
   "outputs": [],
   "source": [
    "\n"
   ]
  },
  {
   "cell_type": "code",
   "execution_count": null,
   "id": "59d626b3-6c52-4232-a643-612fd5c1c71c",
   "metadata": {},
   "outputs": [],
   "source": [
    "# =========================\n",
    "# COMMON MISTAKES TO AVOID\n",
    "# ========================="
   ]
  },
  {
   "cell_type": "code",
   "execution_count": null,
   "id": "752441ed-2611-4044-a98f-a0783d5cd5db",
   "metadata": {},
   "outputs": [],
   "source": [
    "print(\"\\n=== COMMON MISTAKES ===\")\n",
    "\n",
    "# Mistake 1: Modifying list while iterating\n",
    "fruits_with_apples = [\"apple\", \"banana\", \"apple\", \"cherry\", \"apple\"]\n",
    "\n",
    "# DON'T DO THIS:\n",
    "# for fruit in fruits_with_apples:\n",
    "#     if fruit == \"apple\":\n",
    "#         fruits_with_apples.remove(fruit)  # This can skip elements!"
   ]
  },
  {
   "cell_type": "code",
   "execution_count": null,
   "id": "872f8827-d1bc-4da9-a7a6-aaeae2c00f1e",
   "metadata": {},
   "outputs": [],
   "source": [
    "# DO THIS INSTEAD:\n",
    "fruits_no_apples = [fruit for fruit in fruits_with_apples if fruit != \"apple\"]\n",
    "print(f\"Removed apples correctly: {fruits_no_apples}\")\\\n",
    "\n",
    "\n",
    "print(\"\\n1️⃣ STRUCTURE:\")\n",
    "print(\"   [EXPRESSION for ITEM in ITERABLE if CONDITION]\")\n",
    "print(\"   │     │          │        │          │\")\n",
    "print(\"   │     │          │        │          └─ Filter condition\")\n",
    "print(\"   │     │          │        └─ What we're looping through\")\n",
    "print(\"   │     │          └─ Loop variable name\")\n",
    "print(\"   │     └─ What to put in the new list\")\n",
    "print(\"   └─ Creates a new list\")\n",
    "\n",
    "print(\"\\n2️⃣ OUR SPECIFIC EXAMPLE:\")\n",
    "print(\"   [fruit for fruit in fruits_with_apples if fruit != \\\"apple\\\"]\")\n",
    "print(\"   │  │      │         │                    │\")\n",
    "print(\"   │  │      │         │                    └─ Only if fruit is NOT \\\"apple\\\"\")\n",
    "print(\"   │  │      │         └─ Loop through fruits_with_apples\")\n",
    "print(\"   │  │      └─ Each item is called 'fruit'\")\n",
    "print(\"   │  └─ Put each 'fruit' in the new list\")\n",
    "print(\"   └─ Create new list called fruits_no_apples\")"
   ]
  },
  {
   "cell_type": "code",
   "execution_count": null,
   "id": "c3b0b060-3e5b-422e-bd74-8f4b6faf610a",
   "metadata": {},
   "outputs": [],
   "source": [
    "# Mistake 2: Using mutable default arguments\n",
    "def add_item(item, target_list=None):      # Good: use None\n",
    "    if target_list is None:\n",
    "        target_list = []                   # Create new list each time\n",
    "    target_list.append(item)\n",
    "    return target_list\n"
   ]
  },
  {
   "cell_type": "code",
   "execution_count": null,
   "id": "160c4cf8-bb53-4f6d-bf14-d3e3f9a7aefd",
   "metadata": {},
   "outputs": [],
   "source": [
    "# Mistake 3: Forgetting that dictionaries maintain insertion order (Python 3.7+)\n",
    "ordered_dict = {\"first\": 1, \"second\": 2, \"third\": 3}\n",
    "print(f\"Dictionary order preserved: {list(ordered_dict.keys())}\")"
   ]
  },
  {
   "cell_type": "code",
   "execution_count": null,
   "id": "45d6db54-59a0-4a6b-a02a-140285c2ab85",
   "metadata": {},
   "outputs": [],
   "source": [
    "# Mistake 4: Trying to use unhashable types as dictionary keys\n",
    "# This would cause an error:\n",
    "# bad_dict = {[1, 2]: \"list as key\"}      # Lists are mutable, can't be keys"
   ]
  },
  {
   "cell_type": "code",
   "execution_count": null,
   "id": "1b4eff31-f081-49f2-9c21-6705acb4f658",
   "metadata": {},
   "outputs": [],
   "source": [
    "# Use tuples instead:\n",
    "good_dict = {(1, 2): \"tuple as key\"}\n",
    "print(f\"Tuple as key works: {good_dict}\")\n"
   ]
  },
  {
   "cell_type": "code",
   "execution_count": 198,
   "id": "495b1993-7c74-47f4-8893-1ebe8652d956",
   "metadata": {},
   "outputs": [],
   "source": [
    "# For list examples\n",
    "lst = [1, 2, 3]\n",
    "\n",
    "# For tuple examples\n",
    "tup = (1, 2, 'x', 5, 'x')\n",
    "\n",
    "# For set examples\n",
    "s = {1, 2, 3}\n",
    "s1 = {1, 2, 3}\n",
    "s2 = {3, 4, 5}\n",
    "\n",
    "# For dictionary examples\n",
    "d = {'name': 'Alice', 'age': 30}"
   ]
  },
  {
   "cell_type": "code",
   "execution_count": 200,
   "id": "77adc84c-0d87-463c-9b9a-c83406dd16ec",
   "metadata": {},
   "outputs": [
    {
     "name": "stdout",
     "output_type": "stream",
     "text": [
      "LIST METHODS\n",
      "+------------+---------------------------------------+-------------------------------------+------------------+---------------------------+\n",
      "| Method     | Usage Example                         | Description                         | Modifies Object? | Returns Value            |\n",
      "+------------+---------------------------------------+-------------------------------------+------------------+---------------------------+\n",
      "| append()   | lst.append(4)                         | Add item to end of list             | Yes              | None                     |\n",
      "| extend()   | lst.extend([5,6])                     | Append items from iterable          | Yes              | None                     |\n",
      "| insert()   | lst.insert(1, 'a')                    | Insert item at index 1              | Yes              | None                     |\n",
      "| remove()   | lst.remove(3)                         | Remove first occurrence of 3        | Yes              | None                     |\n",
      "| pop()      | x = lst.pop(0)                        | Remove & return item at index 0     | Yes              | Removed item             |\n",
      "| index()    | i = lst.index('a')                    | Find index of 'a'                   | No               | Index number             |\n",
      "| count()    | n = lst.count(2)                      | Count occurrences of 2              | No               | Count integer            |\n",
      "| sort()     | lst.sort(reverse=True)                | Sort descending in-place            | Yes              | None                     |\n",
      "| reverse()  | lst.reverse()                         | Reverse elements in-place           | Yes              | None                     |\n",
      "| clear()    | lst.clear()                           | Remove all items                    | Yes              | None                     |\n",
      "| copy()     | new_lst = lst.copy()                  | Return shallow copy                 | No               | New list object          |\n",
      "+------------+---------------------------------------+-------------------------------------+------------------+---------------------------+\n",
      "\n",
      "TUPLE METHODS\n",
      "+------------+---------------------------------------+-------------------------------------+------------------+---------------------------+\n",
      "| Method     | Usage Example                         | Description                         | Modifies Object? | Returns Value            |\n",
      "+------------+---------------------------------------+-------------------------------------+------------------+---------------------------+\n",
      "| count()    | n = tup.count(5)                      | Count occurrences of 5              | No               | Count integer            |\n",
      "| index()    | i = tup.index('x')                    | Find index of 'x'                   | No               | Index number             |\n",
      "+------------+---------------------------------------+-------------------------------------+------------------+---------------------------+\n",
      "\n",
      "SET METHODS\n",
      "+--------------------------+---------------------------------------+-------------------------------------+------------------+---------------------------+\n",
      "| Method                   | Usage Example                         | Description                         | Modifies Object? | Returns Value            |\n",
      "+--------------------------+---------------------------------------+-------------------------------------+------------------+---------------------------+\n",
      "| add()                    | s.add(10)                             | Add element to set                  | Yes              | None                     |\n",
      "| remove()                 | s.remove(3)                           | Remove element (raises error)       | Yes              | None                     |\n",
      "| discard()                | s.discard(99)                         | Remove element (no error)           | Yes              | None                     |\n",
      "| pop()                    | x = s.pop()                           | Remove & return arbitrary element   | Yes              | Removed element          |\n",
      "| clear()                  | s.clear()                             | Remove all elements                 | Yes              | None                     |\n",
      "| copy()                   | s2 = s.copy()                         | Return shallow copy                 | No               | New set object           |\n",
      "| union()                  | u = s1.union(s2)                      | Return union of sets                | No               | New set                  |\n",
      "| intersection()           | i = s1.intersection(s2)               | Return intersection of sets         | No               | New set                  |\n",
      "| difference()             | d = s1.difference(s2)                 | Return set difference               | No               | New set                  |\n",
      "| symmetric_difference()   | sd = s1.symmetric_difference(s2)      | Return symmetric difference         | No               | New set                  |\n",
      "| update()                 | s1.update(s2)                         | Add elements from s2 to s1          | Yes              | None                     |\n",
      "| intersection_update()    | s1.intersection_update(s2)            | Keep only common elements           | Yes              | None                     |\n",
      "| difference_update()      | s1.difference_update(s2)              | Remove elements from s1 in s2       | Yes              | None                     |\n",
      "| symmetric_difference_update() | s1.symmetric_difference_update(s2)| Update to symmetric difference      | Yes              | None                     |\n",
      "| issubset()               | s1.issubset(s2)                       | Test if s1 is subset of s2          | No               | Boolean                  |\n",
      "| issuperset()             | s1.issuperset(s2)                     | Test if s1 is superset of s2        | No               | Boolean                  |\n",
      "| isdisjoint()             | s1.isdisjoint(s2)                     | Test if no common elements          | No               | Boolean                  |\n",
      "+--------------------------+---------------------------------------+-------------------------------------+------------------+---------------------------+\n",
      "\n",
      "DICTIONARY METHODS\n",
      "+------------------+---------------------------------------+-------------------------------------+------------------+---------------------------+\n",
      "| Method           | Usage Example                         | Description                         | Modifies Object? | Returns Value            |\n",
      "+------------------+---------------------------------------+-------------------------------------+------------------+---------------------------+\n",
      "| get()            | age = d.get('age', 0)                 | Get value or default                | No               | Value or default         |\n",
      "| keys()           | k = d.keys()                          | Get view of keys                    | No               | dict_keys view           |\n",
      "| values()         | v = d.values()                        | Get view of values                  | No               | dict_values view         |\n",
      "| items()          | items = d.items()                     | Get view of key-value pairs         | No               | dict_items view          |\n",
      "| pop()            | x = d.pop('name')                     | Remove key & return value           | Yes              | Removed value            |\n",
      "| popitem()        | k,v = d.popitem()                     | Remove & return last item           | Yes              | (key, value) tuple       |\n",
      "| clear()          | d.clear()                             | Remove all items                    | Yes              | None                     |\n",
      "| update()         | d.update({'age':31}, city='NY')       | Update from dict/kwargs             | Yes              | None                     |\n",
      "| setdefault()     | job = d.setdefault('job','Engineer')  | Get value or set default            | Sometimes*       | Existing or new value    |\n",
      "| copy()           | d2 = d.copy()                         | Return shallow copy                 | No               | New dict object          |\n",
      "| fromkeys()       | d = dict.fromkeys(['a','b'], 0)       | Create dict from keys (class method)| No               | New dict object          |\n",
      "+------------------+---------------------------------------+-------------------------------------+------------------+---------------------------+\n"
     ]
    }
   ],
   "source": [
    "# =============================================================================\n",
    "# LIST METHODS\n",
    "# =============================================================================\n",
    "print(\"LIST METHODS\")\n",
    "print(\"+------------+---------------------------------------+-------------------------------------+------------------+---------------------------+\")\n",
    "print(\"| Method     | Usage Example                         | Description                         | Modifies Object? | Returns Value            |\")\n",
    "print(\"+------------+---------------------------------------+-------------------------------------+------------------+---------------------------+\")\n",
    "print(\"| append()   | lst.append(4)                         | Add item to end of list             | Yes              | None                     |\")\n",
    "print(\"| extend()   | lst.extend([5,6])                     | Append items from iterable          | Yes              | None                     |\")\n",
    "print(\"| insert()   | lst.insert(1, 'a')                    | Insert item at index 1              | Yes              | None                     |\")\n",
    "print(\"| remove()   | lst.remove(3)                         | Remove first occurrence of 3        | Yes              | None                     |\")\n",
    "print(\"| pop()      | x = lst.pop(0)                        | Remove & return item at index 0     | Yes              | Removed item             |\")\n",
    "print(\"| index()    | i = lst.index('a')                    | Find index of 'a'                   | No               | Index number             |\")\n",
    "print(\"| count()    | n = lst.count(2)                      | Count occurrences of 2              | No               | Count integer            |\")\n",
    "print(\"| sort()     | lst.sort(reverse=True)                | Sort descending in-place            | Yes              | None                     |\")\n",
    "print(\"| reverse()  | lst.reverse()                         | Reverse elements in-place           | Yes              | None                     |\")\n",
    "print(\"| clear()    | lst.clear()                           | Remove all items                    | Yes              | None                     |\")\n",
    "print(\"| copy()     | new_lst = lst.copy()                  | Return shallow copy                 | No               | New list object          |\")\n",
    "print(\"+------------+---------------------------------------+-------------------------------------+------------------+---------------------------+\")\n",
    "\n",
    "# =============================================================================\n",
    "# TUPLE METHODS\n",
    "# =============================================================================\n",
    "print(\"\\nTUPLE METHODS\")\n",
    "print(\"+------------+---------------------------------------+-------------------------------------+------------------+---------------------------+\")\n",
    "print(\"| Method     | Usage Example                         | Description                         | Modifies Object? | Returns Value            |\")\n",
    "print(\"+------------+---------------------------------------+-------------------------------------+------------------+---------------------------+\")\n",
    "print(\"| count()    | n = tup.count(5)                      | Count occurrences of 5              | No               | Count integer            |\")\n",
    "print(\"| index()    | i = tup.index('x')                    | Find index of 'x'                   | No               | Index number             |\")\n",
    "print(\"+------------+---------------------------------------+-------------------------------------+------------------+---------------------------+\")\n",
    "\n",
    "# =============================================================================\n",
    "# SET METHODS\n",
    "# =============================================================================\n",
    "print(\"\\nSET METHODS\")\n",
    "print(\"+--------------------------+---------------------------------------+-------------------------------------+------------------+---------------------------+\")\n",
    "print(\"| Method                   | Usage Example                         | Description                         | Modifies Object? | Returns Value            |\")\n",
    "print(\"+--------------------------+---------------------------------------+-------------------------------------+------------------+---------------------------+\")\n",
    "print(\"| add()                    | s.add(10)                             | Add element to set                  | Yes              | None                     |\")\n",
    "print(\"| remove()                 | s.remove(3)                           | Remove element (raises error)       | Yes              | None                     |\")\n",
    "print(\"| discard()                | s.discard(99)                         | Remove element (no error)           | Yes              | None                     |\")\n",
    "print(\"| pop()                    | x = s.pop()                           | Remove & return arbitrary element   | Yes              | Removed element          |\")\n",
    "print(\"| clear()                  | s.clear()                             | Remove all elements                 | Yes              | None                     |\")\n",
    "print(\"| copy()                   | s2 = s.copy()                         | Return shallow copy                 | No               | New set object           |\")\n",
    "print(\"| union()                  | u = s1.union(s2)                      | Return union of sets                | No               | New set                  |\")\n",
    "print(\"| intersection()           | i = s1.intersection(s2)               | Return intersection of sets         | No               | New set                  |\")\n",
    "print(\"| difference()             | d = s1.difference(s2)                 | Return set difference               | No               | New set                  |\")\n",
    "print(\"| symmetric_difference()   | sd = s1.symmetric_difference(s2)      | Return symmetric difference         | No               | New set                  |\")\n",
    "print(\"| update()                 | s1.update(s2)                         | Add elements from s2 to s1          | Yes              | None                     |\")\n",
    "print(\"| intersection_update()    | s1.intersection_update(s2)            | Keep only common elements           | Yes              | None                     |\")\n",
    "print(\"| difference_update()      | s1.difference_update(s2)              | Remove elements from s1 in s2       | Yes              | None                     |\")\n",
    "print(\"| symmetric_difference_update() | s1.symmetric_difference_update(s2)| Update to symmetric difference      | Yes              | None                     |\")\n",
    "print(\"| issubset()               | s1.issubset(s2)                       | Test if s1 is subset of s2          | No               | Boolean                  |\")\n",
    "print(\"| issuperset()             | s1.issuperset(s2)                     | Test if s1 is superset of s2        | No               | Boolean                  |\")\n",
    "print(\"| isdisjoint()             | s1.isdisjoint(s2)                     | Test if no common elements          | No               | Boolean                  |\")\n",
    "print(\"+--------------------------+---------------------------------------+-------------------------------------+------------------+---------------------------+\")\n",
    "\n",
    "# =============================================================================\n",
    "# DICTIONARY METHODS\n",
    "# =============================================================================\n",
    "print(\"\\nDICTIONARY METHODS\")\n",
    "print(\"+------------------+---------------------------------------+-------------------------------------+------------------+---------------------------+\")\n",
    "print(\"| Method           | Usage Example                         | Description                         | Modifies Object? | Returns Value            |\")\n",
    "print(\"+------------------+---------------------------------------+-------------------------------------+------------------+---------------------------+\")\n",
    "print(\"| get()            | age = d.get('age', 0)                 | Get value or default                | No               | Value or default         |\")\n",
    "print(\"| keys()           | k = d.keys()                          | Get view of keys                    | No               | dict_keys view           |\")\n",
    "print(\"| values()         | v = d.values()                        | Get view of values                  | No               | dict_values view         |\")\n",
    "print(\"| items()          | items = d.items()                     | Get view of key-value pairs         | No               | dict_items view          |\")\n",
    "print(\"| pop()            | x = d.pop('name')                     | Remove key & return value           | Yes              | Removed value            |\")\n",
    "print(\"| popitem()        | k,v = d.popitem()                     | Remove & return last item           | Yes              | (key, value) tuple       |\")\n",
    "print(\"| clear()          | d.clear()                             | Remove all items                    | Yes              | None                     |\")\n",
    "print(\"| update()         | d.update({'age':31}, city='NY')       | Update from dict/kwargs             | Yes              | None                     |\")\n",
    "print(\"| setdefault()     | job = d.setdefault('job','Engineer')  | Get value or set default            | Sometimes*       | Existing or new value    |\")\n",
    "print(\"| copy()           | d2 = d.copy()                         | Return shallow copy                 | No               | New dict object          |\")\n",
    "print(\"| fromkeys()       | d = dict.fromkeys(['a','b'], 0)       | Create dict from keys (class method)| No               | New dict object          |\")\n",
    "print(\"+------------------+---------------------------------------+-------------------------------------+------------------+---------------------------+\")"
   ]
  },
  {
   "cell_type": "code",
   "execution_count": null,
   "id": "78587050-3d90-455e-a7b5-2be3604df9ce",
   "metadata": {},
   "outputs": [],
   "source": []
  },
  {
   "cell_type": "code",
   "execution_count": null,
   "id": "20bf6263-70fc-483c-96f0-2939cd2a15bb",
   "metadata": {},
   "outputs": [],
   "source": [
    "# =========================\n",
    "# WHEN TO USE WHAT?\n",
    "# =========================\n",
    "\n",
    "print(\"\\n=== WHEN TO USE WHAT? ===\")\n",
    "print(\"📝 LISTS: When you need ordered, changeable collections\")\n",
    "print(\"   - Shopping lists, sequences, maintaining order matters\")\n",
    "\n",
    "print(\"\\n🔒 TUPLES: When you need ordered, unchangeable collections\") \n",
    "print(\"   - Coordinates, RGB colors, database records, function returns\")\n",
    "\n",
    "print(\"\\n🎯 SETS: When you need unique elements and fast lookups\")\n",
    "print(\"   - Removing duplicates, membership testing, mathematical operations\")\n",
    "\n",
    "print(\"\\n🗂️ DICTIONARIES: When you need key-value associations\")\n",
    "print(\"   - Mappings, lookups, caching, configuration settings\")"
   ]
  },
  {
   "cell_type": "code",
   "execution_count": null,
   "id": "64703786-b3b8-4372-b39e-974fc502682e",
   "metadata": {},
   "outputs": [],
   "source": [
    "# =========================\n",
    "# SUMMARY\n",
    "# =========================\n",
    "print(\"\\n=== SUMMARY ===\")\n",
    "print(\"✓ Lists: Ordered, mutable, allow duplicates - use for sequences\")\n",
    "print(\"✓ Tuples: Ordered, immutable, allow duplicates - use for fixed data\")\n",
    "print(\"✓ Sets: Unordered, mutable, unique elements - use for uniqueness\")\n",
    "print(\"✓ Dictionaries: Ordered (3.7+), mutable, unique keys - use for mappings\")\n",
    "print(\"\\nMaster these four data structures and you'll handle 90% of Python data manipulation!\")"
   ]
  },
  {
   "cell_type": "code",
   "execution_count": null,
   "id": "ec520b65-6d1f-49c0-a7ec-a12bbd8a28d5",
   "metadata": {},
   "outputs": [],
   "source": [
    "text = \"hi everyone hi how are hi you hi there\"\n",
    "\n",
    "# Split only at the first 3 occurrences, then replace the 3rd one\n",
    "parts = text.split(\"hi\", 3)  # Split into 4 parts maximum\n",
    "print(parts)\n",
    "if len(parts) >= 4:  # Means we had at least 3 \"hi\"s\n",
    "    # Join first 3 parts with original \"hi\", last part with \"hello\"\n",
    "    result = \"hi\".join(parts[:3]) + \"hello\" + parts[3]\n",
    "else:\n",
    "    result = text  # Not enough occurrences to replace 3rd one\n",
    "\n",
    "print(result)  # Output: \"hi everyone hi how are hello you hi there\""
   ]
  },
  {
   "cell_type": "code",
   "execution_count": null,
   "id": "43172e46-aadb-4ed6-bb9e-17c0387f2902",
   "metadata": {},
   "outputs": [],
   "source": []
  }
 ],
 "metadata": {
  "kernelspec": {
   "display_name": "Python 3 (ipykernel)",
   "language": "python",
   "name": "python3"
  },
  "language_info": {
   "codemirror_mode": {
    "name": "ipython",
    "version": 3
   },
   "file_extension": ".py",
   "mimetype": "text/x-python",
   "name": "python",
   "nbconvert_exporter": "python",
   "pygments_lexer": "ipython3",
   "version": "3.13.5"
  }
 },
 "nbformat": 4,
 "nbformat_minor": 5
}
