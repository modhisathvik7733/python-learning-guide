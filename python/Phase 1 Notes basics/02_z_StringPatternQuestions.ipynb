{
 "cells": [
  {
   "cell_type": "code",
   "execution_count": 1,
   "id": "da213d50-4d14-489c-a000-8cfcdffed9c8",
   "metadata": {},
   "outputs": [
    {
     "name": "stdout",
     "output_type": "stream",
     "text": [
      "5\n"
     ]
    }
   ],
   "source": [
    "text = \"banana is very good banana and also monkey likes banana and i am vey happy that is when a banana is good banana monkey like it\"\n",
    "count_banana =text.count(\"banana\")\n",
    "print(count_banana)"
   ]
  },
  {
   "cell_type": "code",
   "execution_count": 2,
   "id": "dc438826-fc2f-41f2-a8e0-e36ff575075b",
   "metadata": {},
   "outputs": [
    {
     "name": "stdout",
     "output_type": "stream",
     "text": [
      "banana is very good banana and also monkey likes mango and i am vey happy that is when a banana is good banana monkey like it\n"
     ]
    }
   ],
   "source": [
    "#change the 3rd elemnt in the text which is repeating \"banana\"\n",
    "text = \"banana is very good banana and also monkey likes banana and i am vey happy that is when a banana is good banana monkey like it\"\n",
    "temp = text.replace(\"banana\",\"temp\",2)\n",
    "result = temp.replace(\"banana\",\"mango\",1)\n",
    "result = result.replace(\"temp\",\"banana\",2)\n",
    "print(result)"
   ]
  },
  {
   "cell_type": "code",
   "execution_count": 3,
   "id": "38049abe-abec-4efb-beed-7fb8fa53cd34",
   "metadata": {},
   "outputs": [
    {
     "name": "stdout",
     "output_type": "stream",
     "text": [
      "banana is very good banana and also monkey likes mango and i am vey happy that is when a banana is good banana monkey like it\n"
     ]
    }
   ],
   "source": [
    "#2nd way to do\n",
    "text = \"banana is very good banana and also monkey likes banana and i am vey happy that is when a banana is good banana monkey like it\"\n",
    "\n",
    "parts = text.split(\"banana\", 3)  # Split at first 3 \"banana\"s\n",
    "if len(parts) >= 4:  # Make sure we have at least 3 \"banana\"s\n",
    "    result = parts[0] + \"banana\" + parts[1] + \"banana\" + parts[2] + \"mango\" + parts[3]\n",
    "else:\n",
    "    result = text\n",
    "\n",
    "print(result)"
   ]
  },
  {
   "cell_type": "code",
   "execution_count": 4,
   "id": "ade52197-b1a3-4e67-a979-9fcc0ebc99de",
   "metadata": {},
   "outputs": [],
   "source": [
    "#Pattern 1: Position-based Replacements\n"
   ]
  },
  {
   "cell_type": "code",
   "execution_count": 5,
   "id": "9256bb99-0df5-49d3-9d63-200a124a17d5",
   "metadata": {},
   "outputs": [
    {
     "name": "stdout",
     "output_type": "stream",
     "text": [
      "Final list is: ['hello', 'CODE', 'python', 'CODE']\n"
     ]
    }
   ],
   "source": [
    "text = \"hello world python programming\"\n",
    "# Replace every 2nd word with \"CODE\"\n",
    "# Expected: \"hello CODE python CODE\"\n",
    "\n",
    "list2 = text.split(\" \")\n",
    "for i in range(len(list2)):\n",
    "    if i % 2 == 1: \n",
    "        list2[i] = \"CODE\"  \n",
    "print(f\"Final list is: {list2}\") \n"
   ]
  },
  {
   "cell_type": "code",
   "execution_count": 28,
   "id": "8f1e6b59-eee4-4caa-8c4f-bb147f6b9715",
   "metadata": {},
   "outputs": [
    {
     "name": "stdout",
     "output_type": "stream",
     "text": [
      "ab*de*gh*jk*mn*p\n"
     ]
    }
   ],
   "source": [
    "#Challenge 2: Every Nth Character\n",
    "text = \"abcdefghijklmnop\"\n",
    "# Replace every 3rd character with \"*\"\n",
    "# Expected: \"ab*def*hij*mno*\"\n",
    "char_list = list(text)  \n",
    "for i in range(len(char_list)):\n",
    "    if (i+1) % 3 == 0:\n",
    "        char_list[i] = \"*\"\n",
    "print(\"\".join(char_list)) \n",
    "    "
   ]
  },
  {
   "cell_type": "code",
   "execution_count": 7,
   "id": "9ef28009-7295-4173-bcbd-c3029dea79eb",
   "metadata": {},
   "outputs": [],
   "source": [
    "#Pattern 2: Conditional Replacements"
   ]
  },
  {
   "cell_type": "code",
   "execution_count": 16,
   "id": "4650abef-ce5b-4440-a773-7e80fa5f6b74",
   "metadata": {},
   "outputs": [
    {
     "name": "stdout",
     "output_type": "stream",
     "text": [
      "['I', 'love', 'to', 'eat', 'apples', 'and', 'bananas', 'daily']\n",
      "I love to eat LONG and LONG LONG\n"
     ]
    }
   ],
   "source": [
    "text = \"I love to eat apples and bananas daily\"\n",
    "# Replace words longer than 4 characters with \"LONG\"\n",
    "# Expected: \"I love to eat LONG and LONG LONG\"\n",
    "\n",
    "i_split = text.split(\" \")\n",
    "print(i_split)\n",
    "for i in range(len(i_split)):\n",
    "    if len(i_split[i])>4:\n",
    "        i_split[i] = \"LONG\"\n",
    "print(\" \".join(i_split))"
   ]
  },
  {
   "cell_type": "code",
   "execution_count": 17,
   "id": "95707084-7b3a-44ea-be62-0a1af538c68b",
   "metadata": {},
   "outputs": [],
   "source": [
    "#Challenge 4: Vowel Word Replacement"
   ]
  },
  {
   "cell_type": "code",
   "execution_count": 23,
   "id": "fcd0b412-ef13-4023-8449-0f65ed4377e0",
   "metadata": {},
   "outputs": [
    {
     "name": "stdout",
     "output_type": "stream",
     "text": [
      "['an', 'apple', 'and', 'an', 'orange', 'are', 'on', 'the', 'table']\n",
      "Vowel Vowel Vowel Vowel Vowel Vowel Vowel the table\n"
     ]
    }
   ],
   "source": [
    "text = \"an apple and an orange are on the table\"\n",
    "# Replace words that start with vowels with \"VOWEL\"\n",
    "# Expected: \"VOWEL VOWEL and VOWEL VOWEL are VOWEL the table\"\n",
    "vowel = \"aeiou\"\n",
    "vowel_split=text.split(\" \")\n",
    "print(vowel_split)\n",
    "for i in range (len(vowel_split)):\n",
    "    if vowel_split[i][0] in vowel:\n",
    "        vowel_split[i] = \"Vowel\"\n",
    "print(\" \".join(vowel_split))\n",
    "        "
   ]
  },
  {
   "cell_type": "code",
   "execution_count": 24,
   "id": "1e4b39df-2e49-41fc-8286-d00ea8d2938a",
   "metadata": {},
   "outputs": [],
   "source": [
    "#Pattern 3: Counting and Conditional\n"
   ]
  },
  {
   "cell_type": "code",
   "execution_count": 25,
   "id": "2a57d259-7fd3-41ee-96b5-1a34c6c2e76d",
   "metadata": {},
   "outputs": [],
   "source": [
    "#Challenge 5: First N Occurrences Only"
   ]
  },
  {
   "cell_type": "code",
   "execution_count": 26,
   "id": "2cf65f5e-0d73-40ec-8d4c-fea040be4d61",
   "metadata": {},
   "outputs": [
    {
     "name": "stdout",
     "output_type": "stream",
     "text": [
      "animal dog animal bird cat fish cat mouse\n"
     ]
    }
   ],
   "source": [
    "text = \"cat dog cat bird cat fish cat mouse\"\n",
    "# Replace only the first 2 occurrences of \"cat\" with \"animal\"\n",
    "# Expected: \"animal dog animal bird cat fish cat mouse\"\n",
    "text = text.replace(\"cat\",\"animal\",2)\n",
    "print(text)\n"
   ]
  },
  {
   "cell_type": "code",
   "execution_count": 27,
   "id": "a31d3c8e-9f81-47c0-a618-935ca355b7ad",
   "metadata": {},
   "outputs": [],
   "source": [
    "#Challenge 6: After a Threshold"
   ]
  },
  {
   "cell_type": "code",
   "execution_count": 30,
   "id": "50577c7f-40f8-470a-9621-2eb97782b86a",
   "metadata": {},
   "outputs": [
    {
     "name": "stdout",
     "output_type": "stream",
     "text": [
      "the quick brown fox jumps over The lazy dog The end\n"
     ]
    }
   ],
   "source": [
    "text = \"the quick brown fox jumps over the lazy dog the end\"\n",
    "# Replace \"the\" with \"THE\" only after the 2nd occurrence\n",
    "# Expected: \"the quick brown fox jumps over the lazy dog THE end\"\n",
    "text = text.replace(\"the\",\"na\",1)\n",
    "result = text.replace(\"the\",\"The\")\n",
    "final = result.replace(\"na\",\"the\",1)\n",
    "print(final)"
   ]
  },
  {
   "cell_type": "code",
   "execution_count": null,
   "id": "6678eeba-327a-4653-9554-d944212edeab",
   "metadata": {},
   "outputs": [],
   "source": []
  }
 ],
 "metadata": {
  "kernelspec": {
   "display_name": "Python 3 (ipykernel)",
   "language": "python",
   "name": "python3"
  },
  "language_info": {
   "codemirror_mode": {
    "name": "ipython",
    "version": 3
   },
   "file_extension": ".py",
   "mimetype": "text/x-python",
   "name": "python",
   "nbconvert_exporter": "python",
   "pygments_lexer": "ipython3",
   "version": "3.13.5"
  }
 },
 "nbformat": 4,
 "nbformat_minor": 5
}
