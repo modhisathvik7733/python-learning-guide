{
 "cells": [
  {
   "cell_type": "code",
   "execution_count": 1,
   "id": "44cfe378-43ce-4f2d-9e9e-adaca23c35e1",
   "metadata": {},
   "outputs": [],
   "source": [
    "# ===================================================================================================\n",
    "# PYTHON LOOPS - COMPLETE GUIDE\n",
    "# ===================================================================================================\n",
    "# for loops, while loops, list comprehensions - Repeating actions efficiently"
   ]
  },
  {
   "cell_type": "code",
   "execution_count": null,
   "id": "8dba5089-6b49-4553-9311-f9df0cb327ac",
   "metadata": {},
   "outputs": [],
   "source": []
  },
  {
   "cell_type": "code",
   "execution_count": 2,
   "id": "46ba7b98-3d21-431a-ac14-5de9e1dfc09f",
   "metadata": {},
   "outputs": [],
   "source": [
    "# =========================\n",
    "# BASIC FOR LOOPS\n",
    "# =========================\n",
    "# Repeat actions for each item in a collection"
   ]
  },
  {
   "cell_type": "code",
   "execution_count": 3,
   "id": "2631a3da-541b-4c9b-a3c7-e82dcb98697b",
   "metadata": {},
   "outputs": [
    {
     "name": "stdout",
     "output_type": "stream",
     "text": [
      "Fruits in my basket:\n",
      "  🍎 apple\n",
      "  🍎 banana\n",
      "  🍎 cherry\n",
      "  🍎 orange\n"
     ]
    }
   ],
   "source": [
    "# Loop through a list\n",
    "fruits = [\"apple\", \"banana\", \"cherry\", \"orange\"]\n",
    "print(\"Fruits in my basket:\")\n",
    "for fruit in fruits:\n",
    "    print(f\"  🍎 {fruit}\")\n"
   ]
  },
  {
   "cell_type": "code",
   "execution_count": 4,
   "id": "5aa0defd-c504-46ab-be52-bcb0a99459d9",
   "metadata": {},
   "outputs": [
    {
     "name": "stdout",
     "output_type": "stream",
     "text": [
      "\n",
      "Letters in 'PYTHON':\n",
      "  📝 P\n",
      "  📝 Y\n",
      "  📝 T\n",
      "  📝 H\n",
      "  📝 O\n",
      "  📝 N\n"
     ]
    }
   ],
   "source": [
    "# Loop through a string (strings are iterable!)\n",
    "word = \"PYTHON\"\n",
    "print(f\"\\nLetters in '{word}':\")\n",
    "for letter in word:\n",
    "    print(f\"  📝 {letter}\")\n"
   ]
  },
  {
   "cell_type": "code",
   "execution_count": 5,
   "id": "6e90eb6c-e431-4294-b56e-31d8ea35c416",
   "metadata": {},
   "outputs": [
    {
     "name": "stdout",
     "output_type": "stream",
     "text": [
      "\n",
      "Counting to 5:\n",
      "  🔢 1\n",
      "  🔢 2\n",
      "  🔢 3\n",
      "  🔢 4\n",
      "  🔢 5\n",
      "\n",
      "============================================================\n"
     ]
    }
   ],
   "source": [
    "# Loop through a range of numbers\n",
    "print(\"\\nCounting to 5:\")\n",
    "for number in range(1, 6):  # 1, 2, 3, 4, 5\n",
    "    print(f\"  🔢 {number}\")\n",
    "\n",
    "print(\"\\n\" + \"=\"*60)\n"
   ]
  },
  {
   "cell_type": "code",
   "execution_count": 7,
   "id": "27d68390-faaf-4141-abcb-fffc309fcc7f",
   "metadata": {},
   "outputs": [
    {
     "name": "stdout",
     "output_type": "stream",
     "text": [
      "=== RANGE FUNCTION ===\n",
      "range(5): [0, 1, 2, 3, 4]\n",
      "range(2, 7): [2, 3, 4, 5, 6]\n",
      "range(0, 10, 2): [0, 2, 4, 6, 8]\n"
     ]
    }
   ],
   "source": [
    "# =========================\n",
    "# RANGE FUNCTION\n",
    "# =========================\n",
    "# Generating sequences of numbers\n",
    "\n",
    "print(\"=== RANGE FUNCTION ===\")\n",
    "\n",
    "# range(stop) - starts at 0\n",
    "print(\"range(5):\", list(range(5)))  # [0, 1, 2, 3, 4]\n",
    "\n",
    "# range(start, stop) - custom start\n",
    "print(\"range(2, 7):\", list(range(2, 7)))  # [2, 3, 4, 5, 6]\n",
    "\n",
    "# range(start, stop, step) - custom increment\n",
    "print(\"range(0, 10, 2):\", list(range(0, 10, 2)))  # [0, 2, 4, 6, 8]\n",
    "\n"
   ]
  },
  {
   "cell_type": "code",
   "execution_count": 8,
   "id": "d4cfc3f8-bd80-49dc-86eb-4fe6d6282e49",
   "metadata": {},
   "outputs": [
    {
     "name": "stdout",
     "output_type": "stream",
     "text": [
      "\n",
      "Even numbers from 0 to 10:\n",
      "  0\n",
      "  2\n",
      "  4\n",
      "  6\n",
      "  8\n",
      "  10\n",
      "\n",
      "Countdown from 5:\n",
      "  5...\n",
      "  4...\n",
      "  3...\n",
      "  2...\n",
      "  1...\n",
      "  🚀 Blastoff!\n",
      "\n",
      "============================================================\n"
     ]
    }
   ],
   "source": [
    "# Practical examples\n",
    "print(\"\\nEven numbers from 0 to 10:\")\n",
    "for num in range(0, 11, 2):\n",
    "    print(f\"  {num}\")\n",
    "\n",
    "print(\"\\nCountdown from 5:\")\n",
    "for num in range(5, 0, -1):\n",
    "    print(f\"  {num}...\")\n",
    "print(\"  🚀 Blastoff!\")\n",
    "\n",
    "print(\"\\n\" + \"=\"*60)"
   ]
  },
  {
   "cell_type": "code",
   "execution_count": 9,
   "id": "d79bfcad-ff30-45de-a83f-5472ffb38037",
   "metadata": {},
   "outputs": [
    {
     "name": "stdout",
     "output_type": "stream",
     "text": [
      "=== ENUMERATE FUNCTION ===\n"
     ]
    }
   ],
   "source": [
    "# =========================\n",
    "# ENUMERATE FUNCTION\n",
    "# =========================\n",
    "# Get both index and value when looping\n",
    "\n",
    "print(\"=== ENUMERATE FUNCTION ===\")\n",
    "\n",
    "colors = [\"red\", \"green\", \"blue\", \"yellow\"]"
   ]
  },
  {
   "cell_type": "code",
   "execution_count": 10,
   "id": "dba0c95d-f184-46e5-8ede-463417b3eb25",
   "metadata": {},
   "outputs": [
    {
     "name": "stdout",
     "output_type": "stream",
     "text": [
      "Manual index tracking:\n",
      "  0: red\n",
      "  1: green\n",
      "  2: blue\n",
      "  3: yellow\n"
     ]
    }
   ],
   "source": [
    "# Without enumerate (manual index tracking)\n",
    "print(\"Manual index tracking:\")\n",
    "index = 0\n",
    "for color in colors:\n",
    "    print(f\"  {index}: {color}\")\n",
    "    index += 1"
   ]
  },
  {
   "cell_type": "code",
   "execution_count": 11,
   "id": "0897f1b4-a51c-41b2-be2f-ffc7ecbd6017",
   "metadata": {},
   "outputs": [
    {
     "name": "stdout",
     "output_type": "stream",
     "text": [
      "\n",
      "Using enumerate:\n",
      "  0: red\n",
      "  1: green\n",
      "  2: blue\n",
      "  3: yellow\n"
     ]
    }
   ],
   "source": [
    "# With enumerate (automatic index)\n",
    "print(\"\\nUsing enumerate:\")\n",
    "for index, color in enumerate(colors):\n",
    "    print(f\"  {index}: {color}\")\n"
   ]
  },
  {
   "cell_type": "code",
   "execution_count": 12,
   "id": "6e9032c7-f6b3-4f9f-b7c0-da24100532f1",
   "metadata": {},
   "outputs": [
    {
     "name": "stdout",
     "output_type": "stream",
     "text": [
      "\n",
      "Enumerate starting from 1:\n",
      "  Position 1: red\n",
      "  Position 2: green\n",
      "  Position 3: blue\n",
      "  Position 4: yellow\n"
     ]
    }
   ],
   "source": [
    "# Starting enumerate from a different number\n",
    "print(\"\\nEnumerate starting from 1:\")\n",
    "for index, color in enumerate(colors, start=1):\n",
    "    print(f\"  Position {index}: {color}\")\n"
   ]
  },
  {
   "cell_type": "code",
   "execution_count": 13,
   "id": "bdfd705d-2034-462d-a11a-4ee8becc24fb",
   "metadata": {},
   "outputs": [
    {
     "name": "stdout",
     "output_type": "stream",
     "text": [
      "\n",
      "Menu Selection:\n",
      "  1. Pizza\n",
      "  2. Burger\n",
      "  3. Salad\n",
      "  4. Pasta\n"
     ]
    }
   ],
   "source": [
    "# Real-world example: Menu system\n",
    "print(\"\\nMenu Selection:\")\n",
    "menu_items = [\"Pizza\", \"Burger\", \"Salad\", \"Pasta\"]\n",
    "for index, item in enumerate(menu_items, start=1):\n",
    "    print(f\"  {index}. {item}\")"
   ]
  },
  {
   "cell_type": "code",
   "execution_count": null,
   "id": "07b54b39-ee59-40cc-9e7e-c248e2ea64e1",
   "metadata": {},
   "outputs": [],
   "source": []
  },
  {
   "cell_type": "code",
   "execution_count": 14,
   "id": "cd33a629-3aad-43e2-93ff-28cf3c3dddf7",
   "metadata": {},
   "outputs": [],
   "source": [
    "# =========================\n",
    "# WHILE LOOPS\n",
    "# =========================\n",
    "# Repeat as long as a condition is True"
   ]
  },
  {
   "cell_type": "code",
   "execution_count": 15,
   "id": "95f01f17-51ac-4722-b641-3867ddb581d3",
   "metadata": {},
   "outputs": [
    {
     "name": "stdout",
     "output_type": "stream",
     "text": [
      "Counting with while loop:\n",
      "  Count: 1\n",
      "  Count: 2\n",
      "  Count: 3\n",
      "  Count: 4\n",
      "  Count: 5\n"
     ]
    }
   ],
   "source": [
    "# Basic while loop\n",
    "count = 1\n",
    "print(\"Counting with while loop:\")\n",
    "while count <= 5:\n",
    "    print(f\"  Count: {count}\")\n",
    "    count += 1  # IMPORTANT: Update the variable!"
   ]
  },
  {
   "cell_type": "code",
   "execution_count": 16,
   "id": "21312f0a-dfba-4766-bf2e-8b15d508e3f8",
   "metadata": {},
   "outputs": [
    {
     "name": "stdout",
     "output_type": "stream",
     "text": [
      "\n",
      "Password attempt simulation:\n"
     ]
    }
   ],
   "source": [
    "# User input simulation\n",
    "print(\"\\nPassword attempt simulation:\")\n",
    "attempts = 0\n",
    "max_attempts = 3\n",
    "correct_password = \"secret123\"\n"
   ]
  },
  {
   "cell_type": "code",
   "execution_count": 18,
   "id": "4274b5b8-e153-4685-b21b-be89eeb3253e",
   "metadata": {},
   "outputs": [
    {
     "name": "stdout",
     "output_type": "stream",
     "text": [
      "\n",
      "Password attempt simulation:\n",
      "  Attempt 1: Trying password 'wrong1'\n",
      "  ❌ Wrong password. 2 attempts remaining.\n",
      "  Attempt 2: Trying password 'wrong2'\n",
      "  ❌ Wrong password. 1 attempts remaining.\n",
      "  Attempt 3: Trying password 'secret123'\n",
      "  ✅ Access granted!\n",
      "\n",
      "============================================================\n"
     ]
    }
   ],
   "source": [
    "# User input simulation\n",
    "print(\"\\nPassword attempt simulation:\")\n",
    "attempts = 0\n",
    "max_attempts = 3\n",
    "correct_password = \"secret123\"\n",
    "\n",
    "# Simulate different password attempts\n",
    "password_attempts = [\"wrong1\", \"wrong2\", \"secret123\"]\n",
    "attempt_index = 0\n",
    "\n",
    "while attempts < max_attempts:\n",
    "    # Simulate getting password input\n",
    "    if attempt_index < len(password_attempts):\n",
    "        password = password_attempts[attempt_index]\n",
    "        print(f\"  Attempt {attempts + 1}: Trying password '{password}'\")\n",
    "        attempt_index += 1\n",
    "    else:\n",
    "        break\n",
    "    \n",
    "    attempts += 1\n",
    "    \n",
    "    if password == correct_password:\n",
    "        print(\"  ✅ Access granted!\")\n",
    "        break\n",
    "    else:\n",
    "        print(f\"  ❌ Wrong password. {max_attempts - attempts} attempts remaining.\")\n",
    "\n",
    "if attempts == max_attempts and password != correct_password:\n",
    "    print(\"  🔒 Account locked!\")\n",
    "\n",
    "print(\"\\n\" + \"=\"*60)"
   ]
  },
  {
   "cell_type": "code",
   "execution_count": 19,
   "id": "ce66fc17-a8cd-4959-982e-6028bbb4b582",
   "metadata": {},
   "outputs": [
    {
     "name": "stdout",
     "output_type": "stream",
     "text": [
      "=== LOOP CONTROL STATEMENTS ===\n",
      "Finding first even number:\n",
      "  Checking 1...\n",
      "  1 is odd, continuing...\n",
      "  Checking 3...\n",
      "  3 is odd, continuing...\n",
      "  Checking 7...\n",
      "  7 is odd, continuing...\n",
      "  Checking 4...\n",
      "  Found first even number: 4\n"
     ]
    }
   ],
   "source": [
    "# =========================\n",
    "# LOOP CONTROL STATEMENTS\n",
    "# =========================\n",
    "# break, continue, and else clauses\n",
    "\n",
    "print(\"=== LOOP CONTROL STATEMENTS ===\")\n",
    "\n",
    "# BREAK - Exit the loop immediately\n",
    "print(\"Finding first even number:\")\n",
    "numbers = [1, 3, 7, 4, 9, 2, 5]\n",
    "for num in numbers:\n",
    "    print(f\"  Checking {num}...\")\n",
    "    if num % 2 == 0:\n",
    "        print(f\"  Found first even number: {num}\")\n",
    "        break\n",
    "    print(f\"  {num} is odd, continuing...\")"
   ]
  },
  {
   "cell_type": "code",
   "execution_count": 20,
   "id": "c1c97821-9f21-4b7c-824e-bdb7fd8fed81",
   "metadata": {},
   "outputs": [
    {
     "name": "stdout",
     "output_type": "stream",
     "text": [
      "\n",
      "Printing only positive numbers:\n",
      "  Positive: 5\n",
      "  Positive: 3\n",
      "  Positive: 7\n"
     ]
    }
   ],
   "source": [
    "# CONTINUE - Skip current iteration, go to next\n",
    "print(\"\\nPrinting only positive numbers:\")\n",
    "numbers = [-2, 5, -1, 3, 0, -4, 7]\n",
    "for num in numbers:\n",
    "    if num <= 0:\n",
    "        continue  # Skip negative and zero\n",
    "    print(f\"  Positive: {num}\")"
   ]
  },
  {
   "cell_type": "code",
   "execution_count": 23,
   "id": "2825f19c-7730-44df-976c-5fc69dff9ecd",
   "metadata": {},
   "outputs": [
    {
     "name": "stdout",
     "output_type": "stream",
     "text": [
      "\n",
      "Searching for target number:\n",
      "  Checking 1...\n",
      "  Checking 3...\n",
      "  Checking 5...\n",
      "  Checking 7...\n",
      "  Checking 9...\n",
      "  Target 8 not found in the list\n",
      "\n",
      "============================================================\n"
     ]
    }
   ],
   "source": [
    "# ELSE clause - Runs if loop completes WITHOUT break\n",
    "print(\"\\nSearching for target number:\")\n",
    "target = 8\n",
    "numbers = [1, 3, 5, 7, 9]\n",
    "\n",
    "for num in numbers:\n",
    "    print(f\"  Checking {num}...\")\n",
    "    if num == target:\n",
    "        print(f\"  Found target: {target}\")\n",
    "        break\n",
    "else:\n",
    "    print(f\"  Target {target} not found in the list\")\n",
    "\n",
    "print(\"\\n\" + \"=\"*60)\n"
   ]
  },
  {
   "cell_type": "code",
   "execution_count": null,
   "id": "3f309ca0-3c4b-4fa9-849a-1fd9509b3cf6",
   "metadata": {},
   "outputs": [],
   "source": []
  },
  {
   "cell_type": "code",
   "execution_count": null,
   "id": "90e192c9-e9c1-44a2-be85-75c5ffa136c5",
   "metadata": {},
   "outputs": [],
   "source": []
  },
  {
   "cell_type": "code",
   "execution_count": 24,
   "id": "e6b11f01-e79d-4402-89ac-5d38a64d2d26",
   "metadata": {},
   "outputs": [],
   "source": [
    "# =========================\n",
    "# NESTED LOOPS\n",
    "# =========================\n",
    "# Loops inside other loops"
   ]
  },
  {
   "cell_type": "code",
   "execution_count": 25,
   "id": "0145b385-86bc-4240-b4ba-6488e34bddd2",
   "metadata": {},
   "outputs": [
    {
     "name": "stdout",
     "output_type": "stream",
     "text": [
      "Multiplication table (1-5):\n",
      "  1   2   3   4   5 \n",
      "  2   4   6   8  10 \n",
      "  3   6   9  12  15 \n",
      "  4   8  12  16  20 \n",
      "  5  10  15  20  25 \n"
     ]
    }
   ],
   "source": [
    "# Multiplication table\n",
    "print(\"Multiplication table (1-5):\")\n",
    "for i in range(1, 6):\n",
    "    for j in range(1, 6):\n",
    "        result = i * j\n",
    "        print(f\"{result:3}\", end=\" \")  # Format with 3 spaces, no newline\n",
    "    print()  # New line after each row\n"
   ]
  },
  {
   "cell_type": "code",
   "execution_count": 26,
   "id": "edfecfd3-6517-41b3-87e8-a50c3c665097",
   "metadata": {},
   "outputs": [
    {
     "name": "stdout",
     "output_type": "stream",
     "text": [
      "\n",
      "Iterating through a 2D matrix:\n",
      "  Position (0,0): 1\n",
      "  Position (0,1): 2\n",
      "  Position (0,2): 3\n",
      "  Position (1,0): 4\n",
      "  Position (1,1): 5\n",
      "  Position (1,2): 6\n",
      "  Position (2,0): 7\n",
      "  Position (2,1): 8\n",
      "  Position (2,2): 9\n"
     ]
    }
   ],
   "source": [
    "# Matrix iteration\n",
    "print(\"\\nIterating through a 2D matrix:\")\n",
    "matrix = [\n",
    "    [1, 2, 3],\n",
    "    [4, 5, 6],\n",
    "    [7, 8, 9]\n",
    "]\n",
    "\n",
    "for row_index, row in enumerate(matrix):\n",
    "    for col_index, value in enumerate(row):\n",
    "        print(f\"  Position ({row_index},{col_index}): {value}\")"
   ]
  },
  {
   "cell_type": "code",
   "execution_count": 27,
   "id": "cc65aedb-f119-4467-b19d-2ff9cd8a1bfe",
   "metadata": {},
   "outputs": [
    {
     "name": "stdout",
     "output_type": "stream",
     "text": [
      "\n",
      "Stars pattern:\n",
      "*\n",
      "**\n",
      "***\n",
      "****\n",
      "*****\n",
      "\n",
      "============================================================\n"
     ]
    }
   ],
   "source": [
    "# Nested loops with pattern\n",
    "print(\"\\nStars pattern:\")\n",
    "for i in range(1, 6):\n",
    "    for j in range(i):\n",
    "        print(\"*\", end=\"\")\n",
    "    print()  # New line after each row\n",
    "\n",
    "print(\"\\n\" + \"=\"*60)\n"
   ]
  },
  {
   "cell_type": "code",
   "execution_count": null,
   "id": "8ac0b27b-021f-4f2c-a4bf-fa3fd01dc197",
   "metadata": {},
   "outputs": [],
   "source": []
  },
  {
   "cell_type": "code",
   "execution_count": null,
   "id": "dcb02ac3-6dfe-427f-b884-682671ddb967",
   "metadata": {},
   "outputs": [],
   "source": []
  },
  {
   "cell_type": "code",
   "execution_count": 28,
   "id": "d29e47c0-68b4-4f25-a146-201953fe2177",
   "metadata": {},
   "outputs": [],
   "source": [
    "# =========================\n",
    "# LIST COMPREHENSIONS\n",
    "# =========================\n",
    "# Creating lists with loops in one line"
   ]
  },
  {
   "cell_type": "code",
   "execution_count": 30,
   "id": "92403f2f-a993-4a56-bf76-a3e53987d48b",
   "metadata": {},
   "outputs": [
    {
     "name": "stdout",
     "output_type": "stream",
     "text": [
      "Original numbers: [1, 2, 3, 4, 5]\n",
      "Traditional way: [1, 4, 9, 16, 25]\n",
      "List comprehension: [1, 4, 9, 16, 25]\n"
     ]
    }
   ],
   "source": [
    "# Traditional way\n",
    "squares_traditional = []\n",
    "for num in numbers:\n",
    "    squares_traditional.append(num ** 2)\n",
    "\n",
    "# List comprehension way\n",
    "squares_comprehension = [num ** 2 for num in numbers]\n",
    "\n",
    "print(f\"Original numbers: {numbers}\")\n",
    "print(f\"Traditional way: {squares_traditional}\")\n",
    "print(f\"List comprehension: {squares_comprehension}\")"
   ]
  },
  {
   "cell_type": "code",
   "execution_count": null,
   "id": "731bb7fb-2a6b-432d-a263-c898362c3506",
   "metadata": {},
   "outputs": [],
   "source": [
    "# Traditional way\n",
    "squares_traditional = []\n",
    "for num in numbers:\n",
    "    squares_traditional.append(num ** 2)\n",
    "\n",
    "# List comprehension way\n",
    "squares_comprehension = [num ** 2 for num in numbers]\n",
    "\n",
    "print(f\"Original numbers: {numbers}\")\n",
    "print(f\"Traditional way: {squares_traditional}\")\n",
    "print(f\"List comprehension: {squares_comprehension}\")"
   ]
  }
 ],
 "metadata": {
  "kernelspec": {
   "display_name": "Python 3 (ipykernel)",
   "language": "python",
   "name": "python3"
  },
  "language_info": {
   "codemirror_mode": {
    "name": "ipython",
    "version": 3
   },
   "file_extension": ".py",
   "mimetype": "text/x-python",
   "name": "python",
   "nbconvert_exporter": "python",
   "pygments_lexer": "ipython3",
   "version": "3.11.13"
  }
 },
 "nbformat": 4,
 "nbformat_minor": 5
}
