{
 "cells": [
  {
   "cell_type": "code",
   "execution_count": 1,
   "id": "9f87b26d-c218-480c-8ac1-6685a2036c10",
   "metadata": {},
   "outputs": [],
   "source": [
    "# ===================================================================================================\n",
    "# PYTHON LIST COMPREHENSIONS & GENERATOR EXPRESSIONS - COMPLETE GUIDE\n",
    "# ===================================================================================================\n",
    "# Elegant, efficient, and Pythonic ways to create lists, sets, dicts, and generators\n",
    "\n",
    "# =========================\n",
    "# WHAT ARE COMPREHENSIONS?\n",
    "# =========================\n",
    "# Understanding the concept and benefits"
   ]
  },
  {
   "cell_type": "code",
   "execution_count": 2,
   "id": "cb9c4358-70f6-42ec-9c3d-f7532e19172b",
   "metadata": {},
   "outputs": [
    {
     "name": "stdout",
     "output_type": "stream",
     "text": [
      "🐍 COMPREHENSIONS EXPLAINED:\n",
      "• Comprehensions = concise way to create collections\n",
      "• More readable and Pythonic than traditional loops\n",
      "• Often faster than equivalent for loops\n",
      "• Available for lists, sets, dictionaries, and generators\n",
      "\n",
      "📈 BENEFITS:\n",
      "• ✅ More concise and readable\n",
      "• ✅ Usually faster performance\n",
      "• ✅ Less prone to errors\n",
      "• ✅ More Pythonic and elegant\n",
      "• ✅ Functional programming style\n",
      "\n",
      "🔧 TYPES OF COMPREHENSIONS:\n",
      "• List comprehensions: [expression for item in iterable]\n",
      "• Dict comprehensions: {key: value for item in iterable}\n",
      "• Set comprehensions: {expression for item in iterable}\n",
      "• Generator expressions: (expression for item in iterable)\n",
      "\n",
      "============================================================\n"
     ]
    }
   ],
   "source": [
    "# =========================\n",
    "# WHAT ARE COMPREHENSIONS?\n",
    "# =========================\n",
    "# Understanding the concept and benefits\n",
    "\n",
    "print(\"🐍 COMPREHENSIONS EXPLAINED:\")\n",
    "print(\"• Comprehensions = concise way to create collections\")\n",
    "print(\"• More readable and Pythonic than traditional loops\")\n",
    "print(\"• Often faster than equivalent for loops\")\n",
    "print(\"• Available for lists, sets, dictionaries, and generators\")\n",
    "print()\n",
    "print(\"📈 BENEFITS:\")\n",
    "print(\"• ✅ More concise and readable\")\n",
    "print(\"• ✅ Usually faster performance\")\n",
    "print(\"• ✅ Less prone to errors\")\n",
    "print(\"• ✅ More Pythonic and elegant\")\n",
    "print(\"• ✅ Functional programming style\")\n",
    "print()\n",
    "print(\"🔧 TYPES OF COMPREHENSIONS:\")\n",
    "print(\"• List comprehensions: [expression for item in iterable]\")\n",
    "print(\"• Dict comprehensions: {key: value for item in iterable}\")\n",
    "print(\"• Set comprehensions: {expression for item in iterable}\")\n",
    "print(\"• Generator expressions: (expression for item in iterable)\")\n",
    "print(\"\\n\" + \"=\"*60)"
   ]
  },
  {
   "cell_type": "code",
   "execution_count": 3,
   "id": "8848710b-bf9f-448b-a412-99b61f04754c",
   "metadata": {},
   "outputs": [
    {
     "name": "stdout",
     "output_type": "stream",
     "text": [
      "🐍 COMPREHENSIONS EXPLAINED:\n",
      "• Comprehensions = concise way to create collections\n",
      "• More readable and Pythonic than traditional loops\n",
      "• Often faster than equivalent for loops\n",
      "• Available for lists, sets, dictionaries, and generators\n",
      "\n",
      "📈 BENEFITS:\n",
      "• ✅ More concise and readable\n",
      "• ✅ Usually faster performance\n",
      "• ✅ Less prone to errors\n",
      "• ✅ More Pythonic and elegant\n",
      "• ✅ Functional programming style\n",
      "\n",
      "🔧 TYPES OF COMPREHENSIONS:\n",
      "• List comprehensions: [expression for item in iterable]\n",
      "• Dict comprehensions: {key: value for item in iterable}\n",
      "• Set comprehensions: {expression for item in iterable}\n",
      "• Generator expressions: (expression for item in iterable)\n",
      "\n",
      "============================================================\n"
     ]
    }
   ],
   "source": [
    "print(\"🐍 COMPREHENSIONS EXPLAINED:\")\n",
    "print(\"• Comprehensions = concise way to create collections\")\n",
    "print(\"• More readable and Pythonic than traditional loops\")\n",
    "print(\"• Often faster than equivalent for loops\")\n",
    "print(\"• Available for lists, sets, dictionaries, and generators\")\n",
    "print()\n",
    "print(\"📈 BENEFITS:\")\n",
    "print(\"• ✅ More concise and readable\")\n",
    "print(\"• ✅ Usually faster performance\")\n",
    "print(\"• ✅ Less prone to errors\")\n",
    "print(\"• ✅ More Pythonic and elegant\")\n",
    "print(\"• ✅ Functional programming style\")\n",
    "print()\n",
    "print(\"🔧 TYPES OF COMPREHENSIONS:\")\n",
    "print(\"• List comprehensions: [expression for item in iterable]\")\n",
    "print(\"• Dict comprehensions: {key: value for item in iterable}\")\n",
    "print(\"• Set comprehensions: {expression for item in iterable}\")\n",
    "print(\"• Generator expressions: (expression for item in iterable)\")\n",
    "print(\"\\n\" + \"=\"*60)\n"
   ]
  },
  {
   "cell_type": "code",
   "execution_count": 4,
   "id": "46e0a927-05eb-4744-96af-2b05c3b5d27a",
   "metadata": {},
   "outputs": [],
   "source": [
    "# =========================\n",
    "# BASIC LIST COMPREHENSIONS\n",
    "# =========================\n",
    "# Foundation of comprehension syntax"
   ]
  },
  {
   "cell_type": "code",
   "execution_count": 5,
   "id": "413fb41c-37ba-4b82-8b98-d3dd284668ab",
   "metadata": {},
   "outputs": [],
   "source": [
    "# Traditional way\n",
    "numbers = [1, 2, 3, 4, 5]\n",
    "squares_traditional = []\n",
    "for num in numbers:\n",
    "    squares_traditional.append(num ** 2)"
   ]
  },
  {
   "cell_type": "code",
   "execution_count": 6,
   "id": "4b99d350-809c-43e7-89e4-8acb6696a0f7",
   "metadata": {},
   "outputs": [
    {
     "name": "stdout",
     "output_type": "stream",
     "text": [
      "Original numbers: [1, 2, 3, 4, 5]\n",
      "Traditional loop: [1, 4, 9, 16, 25]\n",
      "List comprehension: [1, 4, 9, 16, 25]\n",
      "Results are equal: True\n"
     ]
    }
   ],
   "source": [
    "\n",
    "# List comprehension way\n",
    "squares_comprehension = [num ** 2 for num in numbers]\n",
    "\n",
    "print(f\"Original numbers: {numbers}\")\n",
    "print(f\"Traditional loop: {squares_traditional}\")\n",
    "print(f\"List comprehension: {squares_comprehension}\")\n",
    "print(f\"Results are equal: {squares_traditional == squares_comprehension}\")"
   ]
  },
  {
   "cell_type": "code",
   "execution_count": 7,
   "id": "55c5635e-b0db-4893-aed9-a538608690c7",
   "metadata": {},
   "outputs": [
    {
     "name": "stdout",
     "output_type": "stream",
     "text": [
      "\n",
      "2. MORE BASIC EXAMPLES:\n",
      "Words: ['hello', 'world', 'python', 'programming']\n",
      "Uppercase: ['HELLO', 'WORLD', 'PYTHON', 'PROGRAMMING']\n",
      "Lengths: [5, 5, 6, 11]\n",
      "First letters: ['h', 'w', 'p', 'p']\n",
      "\n",
      "Numbers 1-5: [1, 2, 3, 4, 5]\n",
      "Doubled: [2, 4, 6, 8, 10]\n",
      "Cubed: [1, 8, 27, 64, 125]\n",
      "Square roots: ['1.00', '1.41', '1.73', '2.00', '2.24']\n",
      "\n",
      "============================================================\n"
     ]
    }
   ],
   "source": [
    "# More examples\n",
    "print(\"\\n2. MORE BASIC EXAMPLES:\")\n",
    "\n",
    "# String operations\n",
    "words = [\"hello\", \"world\", \"python\", \"programming\"]\n",
    "uppercase_words = [word.upper() for word in words]\n",
    "word_lengths = [len(word) for word in words]\n",
    "first_letters = [word[0] for word in words]\n",
    "\n",
    "print(f\"Words: {words}\")\n",
    "print(f\"Uppercase: {uppercase_words}\")\n",
    "print(f\"Lengths: {word_lengths}\")\n",
    "print(f\"First letters: {first_letters}\")\n",
    "\n",
    "# Mathematical operations\n",
    "numbers = range(1, 6)\n",
    "doubled = [x * 2 for x in numbers]\n",
    "cubed = [x ** 3 for x in numbers]\n",
    "sqrt_approx = [x ** 0.5 for x in numbers]\n",
    "\n",
    "print(f\"\\nNumbers 1-5: {list(numbers)}\")\n",
    "print(f\"Doubled: {doubled}\")\n",
    "print(f\"Cubed: {cubed}\")\n",
    "print(f\"Square roots: {[f'{x:.2f}' for x in sqrt_approx]}\")\n",
    "\n",
    "print(\"\\n\" + \"=\"*60)"
   ]
  },
  {
   "cell_type": "code",
   "execution_count": 8,
   "id": "57d8d636-dd10-42a9-81e3-18cf23462c35",
   "metadata": {},
   "outputs": [],
   "source": [
    "# =========================\n",
    "# CONDITIONAL LIST COMPREHENSIONS\n",
    "# =========================\n",
    "# Filtering with if conditions\n"
   ]
  },
  {
   "cell_type": "code",
   "execution_count": 9,
   "id": "1edf17de-475d-4009-97db-3d0d086ef467",
   "metadata": {},
   "outputs": [
    {
     "name": "stdout",
     "output_type": "stream",
     "text": [
      "\n",
      "1. BASIC FILTERING:\n",
      "Numbers 1-10: [1, 2, 3, 4, 5, 6, 7, 8, 9, 10]\n",
      "Even numbers: [2, 4, 6, 8, 10]\n",
      "Odd numbers: [1, 3, 5, 7, 9]\n",
      "Numbers > 5: [6, 7, 8, 9, 10]\n"
     ]
    }
   ],
   "source": [
    "# Basic filtering\n",
    "print(\"\\n1. BASIC FILTERING:\")\n",
    "numbers = list(range(1, 11))\n",
    "even_numbers = [x for x in numbers if x % 2 == 0]\n",
    "odd_numbers = [x for x in numbers if x % 2 == 1]\n",
    "big_numbers = [x for x in numbers if x > 5]\n",
    "\n",
    "print(f\"Numbers 1-10: {numbers}\")\n",
    "print(f\"Even numbers: {even_numbers}\")\n",
    "print(f\"Odd numbers: {odd_numbers}\")\n",
    "print(f\"Numbers > 5: {big_numbers}\")"
   ]
  },
  {
   "cell_type": "code",
   "execution_count": 10,
   "id": "bd80ee20-210c-4049-8602-775bdc64b17d",
   "metadata": {},
   "outputs": [
    {
     "name": "stdout",
     "output_type": "stream",
     "text": [
      "\n",
      "2. STRING FILTERING:\n",
      "All words: ['apple', 'banana', 'cherry', 'date', 'elderberry', 'fig']\n",
      "Short words (≤5 chars): ['apple', 'date', 'fig']\n",
      "Words with 'a': ['apple', 'banana', 'date']\n",
      "Words ending in 'e': ['apple', 'date']\n"
     ]
    }
   ],
   "source": [
    "# String filtering\n",
    "print(\"\\n2. STRING FILTERING:\")\n",
    "words = [\"apple\", \"banana\", \"cherry\", \"date\", \"elderberry\", \"fig\"]\n",
    "short_words = [word for word in words if len(word) <= 5]\n",
    "words_with_a = [word for word in words if 'a' in word]\n",
    "words_ending_e = [word for word in words if word.endswith('e')]\n",
    "\n",
    "print(f\"All words: {words}\")\n",
    "print(f\"Short words (≤5 chars): {short_words}\")\n",
    "print(f\"Words with 'a': {words_with_a}\")\n",
    "print(f\"Words ending in 'e': {words_ending_e}\")\n"
   ]
  },
  {
   "cell_type": "code",
   "execution_count": 11,
   "id": "97db6fb1-39ee-4c83-bc99-4a1773b86a18",
   "metadata": {},
   "outputs": [
    {
     "name": "stdout",
     "output_type": "stream",
     "text": [
      "\n",
      "3. COMPLEX CONDITIONS:\n",
      "Numbers 1-20: [1, 2, 3, 4, 5, 6, 7, 8, 9, 10, 11, 12, 13, 14, 15, 16, 17, 18, 19, 20]\n",
      "Divisible by 3 but not 5: [3, 6, 9, 12, 18]\n",
      "Prime numbers: [2, 3, 5, 7, 11, 13, 17, 19]\n"
     ]
    }
   ],
   "source": [
    "# Complex conditions\n",
    "print(\"\\n3. COMPLEX CONDITIONS:\")\n",
    "numbers = range(1, 21)\n",
    "special_numbers = [x for x in numbers if x % 3 == 0 and x % 5 != 0]\n",
    "prime_candidates = [x for x in numbers if x > 1 and all(x % i != 0 for i in range(2, int(x**0.5) + 1))]\n",
    "\n",
    "print(f\"Numbers 1-20: {list(numbers)}\")\n",
    "print(f\"Divisible by 3 but not 5: {special_numbers}\")\n",
    "print(f\"Prime numbers: {prime_candidates}\")"
   ]
  },
  {
   "cell_type": "code",
   "execution_count": 12,
   "id": "60b20a32-8121-4917-8db7-90fb18354b6b",
   "metadata": {},
   "outputs": [
    {
     "name": "stdout",
     "output_type": "stream",
     "text": [
      "\n",
      "4. CONDITIONAL EXPRESSIONS:\n",
      "Original: [-3, -1, 0, 2, 5, -2, 8]\n",
      "Absolute values: [3, 1, 0, 2, 5, 2, 8]\n",
      "Positive or zero: [0, 0, 0, 2, 5, 0, 8]\n",
      "Labels: ['negative', 'negative', 'zero', 'positive', 'positive', 'negative', 'positive']\n",
      "\n",
      "============================================================\n"
     ]
    }
   ],
   "source": [
    "# Conditional expressions (ternary operator)\n",
    "print(\"\\n4. CONDITIONAL EXPRESSIONS:\")\n",
    "numbers = [-3, -1, 0, 2, 5, -2, 8]\n",
    "absolute_values = [abs(x) for x in numbers]\n",
    "positive_or_zero = [x if x >= 0 else 0 for x in numbers]\n",
    "labels = [\"positive\" if x > 0 else \"negative\" if x < 0 else \"zero\" for x in numbers]\n",
    "\n",
    "print(f\"Original: {numbers}\")\n",
    "print(f\"Absolute values: {absolute_values}\")\n",
    "print(f\"Positive or zero: {positive_or_zero}\")\n",
    "print(f\"Labels: {labels}\")\n",
    "\n",
    "print(\"\\n\" + \"=\"*60)"
   ]
  },
  {
   "cell_type": "code",
   "execution_count": 13,
   "id": "25fcbf96-3493-462f-8561-4820c1484d76",
   "metadata": {},
   "outputs": [],
   "source": [
    "# =========================\n",
    "# NESTED LIST COMPREHENSIONS\n",
    "# =========================\n",
    "# Handling multi-dimensional data"
   ]
  },
  {
   "cell_type": "code",
   "execution_count": 14,
   "id": "0b1afca5-6faf-47b3-868f-dffdd106b907",
   "metadata": {},
   "outputs": [
    {
     "name": "stdout",
     "output_type": "stream",
     "text": [
      "\n",
      "1. 2D MATRIX OPERATIONS:\n",
      "Original matrix:\n",
      "  [1, 2, 3]\n",
      "  [4, 5, 6]\n",
      "  [7, 8, 9]\n",
      "Flattened: [1, 2, 3, 4, 5, 6, 7, 8, 9]\n",
      "Doubled matrix:\n",
      "  [2, 4, 6]\n",
      "  [8, 10, 12]\n",
      "  [14, 16, 18]\n",
      "Transposed matrix:\n",
      "  [1, 4, 7]\n",
      "  [2, 5, 8]\n",
      "  [3, 6, 9]\n"
     ]
    }
   ],
   "source": [
    "\n",
    "# 2D matrix operations\n",
    "print(\"\\n1. 2D MATRIX OPERATIONS:\")\n",
    "matrix = [\n",
    "    [1, 2, 3],\n",
    "    [4, 5, 6],\n",
    "    [7, 8, 9]\n",
    "]\n",
    "\n",
    "print(f\"Original matrix:\")\n",
    "for row in matrix:\n",
    "    print(f\"  {row}\")\n",
    "\n",
    "# Flatten matrix\n",
    "flattened = [element for row in matrix for element in row]\n",
    "print(f\"Flattened: {flattened}\")\n",
    "\n",
    "# Multiply each element by 2\n",
    "doubled_matrix = [[element * 2 for element in row] for row in matrix]\n",
    "print(f\"Doubled matrix:\")\n",
    "for row in doubled_matrix:\n",
    "    print(f\"  {row}\")\n",
    "\n",
    "# Transpose matrix\n",
    "transposed = [[row[i] for row in matrix] for i in range(len(matrix[0]))]\n",
    "print(f\"Transposed matrix:\")\n",
    "for row in transposed:\n",
    "    print(f\"  {row}\")\n"
   ]
  },
  {
   "cell_type": "code",
   "execution_count": 15,
   "id": "0163bc00-cb2c-43e3-94c2-ca8a27304e5f",
   "metadata": {},
   "outputs": [
    {
     "name": "stdout",
     "output_type": "stream",
     "text": [
      "\n",
      "2. MULTIPLICATION TABLE:\n",
      "Multiplication table (5x5):\n",
      "     1   2   3   4   5\n",
      " 1   1   2   3   4   5\n",
      " 2   2   4   6   8  10\n",
      " 3   3   6   9  12  15\n",
      " 4   4   8  12  16  20\n",
      " 5   5  10  15  20  25\n"
     ]
    }
   ],
   "source": [
    "# Create multiplication table\n",
    "print(\"\\n2. MULTIPLICATION TABLE:\")\n",
    "size = 5\n",
    "multiplication_table = [[i * j for j in range(1, size + 1)] for i in range(1, size + 1)]\n",
    "\n",
    "print(f\"Multiplication table ({size}x{size}):\")\n",
    "print(\"   \" + \" \".join(f\"{j:3}\" for j in range(1, size + 1)))\n",
    "for i, row in enumerate(multiplication_table, 1):\n",
    "    print(f\"{i:2} \" + \" \".join(f\"{val:3}\" for val in row))"
   ]
  },
  {
   "cell_type": "code",
   "execution_count": 16,
   "id": "8018adf1-5bc9-4fdd-bf59-648b8f85f871",
   "metadata": {},
   "outputs": [
    {
     "name": "stdout",
     "output_type": "stream",
     "text": [
      "\n",
      "3. NESTED DATA PROCESSING:\n",
      "All grades: [85, 90, 78, 92, 87, 94, 78, 85, 80]\n",
      "Student averages: ['84.3', '91.0', '81.0']\n",
      "High performers (≥85%): ['Bob']\n",
      "\n",
      "============================================================\n"
     ]
    }
   ],
   "source": [
    "print(\"\\n3. NESTED DATA PROCESSING:\")\n",
    "students = [\n",
    "    {\"name\": \"Alice\", \"grades\": [85, 90, 78]},\n",
    "    {\"name\": \"Bob\", \"grades\": [92, 87, 94]},\n",
    "    {\"name\": \"Charlie\", \"grades\": [78, 85, 80]}\n",
    "]\n",
    "\n",
    "# Extract all grades\n",
    "all_grades = [grade for student in students for grade in student[\"grades\"]]\n",
    "print(f\"All grades: {all_grades}\")\n",
    "\n",
    "# Calculate averages\n",
    "averages = [sum(student[\"grades\"]) / len(student[\"grades\"]) for student in students]\n",
    "print(f\"Student averages: {[f'{avg:.1f}' for avg in averages]}\")\n",
    "\n",
    "# Students with high averages\n",
    "high_performers = [student[\"name\"] for student in students \n",
    "                  if sum(student[\"grades\"]) / len(student[\"grades\"]) >= 85]\n",
    "print(f\"High performers (≥85%): {high_performers}\")\n",
    "\n",
    "print(\"\\n\" + \"=\"*60)"
   ]
  },
  {
   "cell_type": "code",
   "execution_count": 17,
   "id": "b1c49857-9c7a-4b8b-86e8-847d1c3355be",
   "metadata": {},
   "outputs": [],
   "source": [
    "# =========================\n",
    "# DICTIONARY COMPREHENSIONS\n",
    "# =========================\n",
    "# Creating dictionaries with comprehensions"
   ]
  },
  {
   "cell_type": "code",
   "execution_count": 18,
   "id": "c3cb7471-d410-4fe7-bfe7-878acae39ccc",
   "metadata": {},
   "outputs": [
    {
     "name": "stdout",
     "output_type": "stream",
     "text": [
      "\n",
      "1. BASIC DICTIONARY COMPREHENSIONS:\n",
      "Squares dictionary: {1: 1, 2: 4, 3: 9, 4: 16, 5: 25}\n",
      "Word lengths: {'apple': 5, 'banana': 6, 'cherry': 6}\n",
      "Person dictionary: {'name': 'Alice', 'age': 30, 'city': 'New York'}\n"
     ]
    }
   ],
   "source": [
    "# Basic dictionary comprehensions\n",
    "print(\"\\n1. BASIC DICTIONARY COMPREHENSIONS:\")\n",
    "\n",
    "# Create squares dictionary\n",
    "numbers = range(1, 6)\n",
    "squares_dict = {x: x**2 for x in numbers}\n",
    "print(f\"Squares dictionary: {squares_dict}\")\n",
    "\n",
    "# String lengths\n",
    "words = [\"apple\", \"banana\", \"cherry\"]\n",
    "word_lengths_dict = {word: len(word) for word in words}\n",
    "print(f\"Word lengths: {word_lengths_dict}\")\n",
    "\n",
    "# From two lists\n",
    "keys = [\"name\", \"age\", \"city\"]\n",
    "values = [\"Alice\", 30, \"New York\"]\n",
    "person_dict = {k: v for k, v in zip(keys, values)}\n",
    "print(f\"Person dictionary: {person_dict}\")"
   ]
  },
  {
   "cell_type": "code",
   "execution_count": 19,
   "id": "ed8ef36b-fc45-4798-9277-f7a51dd610b5",
   "metadata": {},
   "outputs": [
    {
     "name": "stdout",
     "output_type": "stream",
     "text": [
      "\n",
      "2. TRANSFORMING DICTIONARIES:\n",
      "Original prices: {'apple': 1.2, 'banana': 0.5, 'cherry': 3.0}\n",
      "10% discount: {'apple': 1.08, 'banana': 0.45, 'cherry': 2.7}\n",
      "Expensive items (>$1): {'apple': 1.2, 'cherry': 3.0}\n",
      "Price to item mapping: {1.2: 'apple', 0.5: 'banana', 3.0: 'cherry'}\n"
     ]
    }
   ],
   "source": [
    "\n",
    "# Transform existing dictionary\n",
    "print(\"\\n2. TRANSFORMING DICTIONARIES:\")\n",
    "prices = {\"apple\": 1.20, \"banana\": 0.50, \"cherry\": 3.00}\n",
    "\n",
    "# Apply discount\n",
    "discounted_prices = {item: price * 0.9 for item, price in prices.items()}\n",
    "print(f\"Original prices: {prices}\")\n",
    "print(f\"10% discount: {discounted_prices}\")\n",
    "\n",
    "# Filter expensive items\n",
    "expensive_items = {item: price for item, price in prices.items() if price > 1.00}\n",
    "print(f\"Expensive items (>$1): {expensive_items}\")\n",
    "\n",
    "# Reverse key-value pairs\n",
    "price_to_item = {price: item for item, price in prices.items()}\n",
    "print(f\"Price to item mapping: {price_to_item}\")"
   ]
  },
  {
   "cell_type": "code",
   "execution_count": 20,
   "id": "32501cb9-7db2-4f23-8ef5-7a688cfa402a",
   "metadata": {},
   "outputs": [
    {
     "name": "stdout",
     "output_type": "stream",
     "text": [
      "\n",
      "3. NESTED DATA TO DICTIONARY:\n",
      "Employee records:\n",
      "  Alice: {'role': 'Engineer', 'salary': 75000}\n",
      "  Bob: {'role': 'Designer', 'salary': 65000}\n",
      "  Charlie: {'role': 'Manager', 'salary': 85000}\n",
      "Grouped by role: {'Engineer': [{'name': 'Alice', 'salary': 75000}], 'Designer': [{'name': 'Bob', 'salary': 65000}], 'Manager': [{'name': 'Charlie', 'salary': 85000}]}\n",
      "\n",
      "============================================================\n"
     ]
    }
   ],
   "source": [
    "\n",
    "# Working with nested data\n",
    "print(\"\\n3. NESTED DATA TO DICTIONARY:\")\n",
    "employees = [\n",
    "    (\"Alice\", \"Engineer\", 75000),\n",
    "    (\"Bob\", \"Designer\", 65000),\n",
    "    (\"Charlie\", \"Manager\", 85000)\n",
    "]\n",
    "\n",
    "# Create employee records\n",
    "employee_records = {name: {\"role\": role, \"salary\": salary} \n",
    "                   for name, role, salary in employees}\n",
    "print(f\"Employee records:\")\n",
    "for name, info in employee_records.items():\n",
    "    print(f\"  {name}: {info}\")\n",
    "\n",
    "# Group by role\n",
    "from collections import defaultdict\n",
    "role_groups = defaultdict(list)\n",
    "for name, role, salary in employees:\n",
    "    role_groups[role].append({\"name\": name, \"salary\": salary})\n",
    "\n",
    "role_dict = {role: people for role, people in role_groups.items()}\n",
    "print(f\"Grouped by role: {role_dict}\")\n",
    "\n",
    "print(\"\\n\" + \"=\"*60)"
   ]
  },
  {
   "cell_type": "code",
   "execution_count": 21,
   "id": "baac1e37-c248-45c2-b59d-d52bc32ec167",
   "metadata": {},
   "outputs": [],
   "source": [
    "# =========================\n",
    "# SET COMPREHENSIONS\n",
    "# =========================\n",
    "# Creating sets with comprehensions"
   ]
  },
  {
   "cell_type": "code",
   "execution_count": 22,
   "id": "f167c391-bba5-4abc-8780-28ce8121a986",
   "metadata": {},
   "outputs": [
    {
     "name": "stdout",
     "output_type": "stream",
     "text": [
      "\n",
      "1. BASIC SET COMPREHENSIONS:\n",
      "Original with duplicates: [1, 2, 2, 3, 3, 3, 4, 4, 5]\n",
      "Unique squares: {1, 4, 9, 16, 25}\n",
      "Sentence: 'hello world'\n",
      "Unique letters: {'w', 'r', 'd', 'e', 'h', 'l', 'o'}\n"
     ]
    }
   ],
   "source": [
    "# Basic set comprehensions\n",
    "print(\"\\n1. BASIC SET COMPREHENSIONS:\")\n",
    "\n",
    "# Remove duplicates and transform\n",
    "numbers = [1, 2, 2, 3, 3, 3, 4, 4, 5]\n",
    "unique_squares = {x**2 for x in numbers}\n",
    "print(f\"Original with duplicates: {numbers}\")\n",
    "print(f\"Unique squares: {unique_squares}\")\n",
    "\n",
    "# Character extraction\n",
    "sentence = \"hello world\"\n",
    "unique_chars = {char.lower() for char in sentence if char.isalpha()}\n",
    "print(f\"Sentence: '{sentence}'\")\n",
    "print(f\"Unique letters: {unique_chars}\")"
   ]
  },
  {
   "cell_type": "code",
   "execution_count": 23,
   "id": "eea4d08a-23f4-4d31-aa85-5f4e7e2c18a5",
   "metadata": {},
   "outputs": [
    {
     "name": "stdout",
     "output_type": "stream",
     "text": [
      "\n",
      "2. MATHEMATICAL OPERATIONS:\n",
      "Multiples of 2: {2, 4, 6, 8, 10, 12, 14, 16, 18, 20}\n",
      "Multiples of 3: {3, 6, 9, 12, 15, 18}\n",
      "Multiples of 5: {10, 20, 5, 15}\n",
      "2 and 3: {18, 12, 6}\n",
      "2 or 3: {2, 3, 4, 6, 8, 9, 10, 12, 14, 15, 16, 18, 20}\n",
      "2 but not 3: {2, 4, 8, 10, 14, 16, 20}\n"
     ]
    }
   ],
   "source": [
    "# Mathematical sets\n",
    "print(\"\\n2. MATHEMATICAL OPERATIONS:\")\n",
    "numbers = range(1, 21)\n",
    "\n",
    "# Multiples of different numbers\n",
    "multiples_of_2 = {x for x in numbers if x % 2 == 0}\n",
    "multiples_of_3 = {x for x in numbers if x % 3 == 0}\n",
    "multiples_of_5 = {x for x in numbers if x % 5 == 0}\n",
    "\n",
    "print(f\"Multiples of 2: {multiples_of_2}\")\n",
    "print(f\"Multiples of 3: {multiples_of_3}\")\n",
    "print(f\"Multiples of 5: {multiples_of_5}\")\n",
    "\n",
    "# Set operations\n",
    "print(f\"2 and 3: {multiples_of_2 & multiples_of_3}\")  # Intersection\n",
    "print(f\"2 or 3: {multiples_of_2 | multiples_of_3}\")   # Union\n",
    "print(f\"2 but not 3: {multiples_of_2 - multiples_of_3}\")  # Difference"
   ]
  },
  {
   "cell_type": "code",
   "execution_count": 24,
   "id": "6f8cbf2c-368a-46ea-abde-b0077c71087b",
   "metadata": {},
   "outputs": [
    {
     "name": "stdout",
     "output_type": "stream",
     "text": [
      "\n",
      "3. PRACTICAL EXAMPLE - FILE EXTENSIONS:\n",
      "Files: ['document.txt', 'image.jpg', 'script.py', 'data.csv', 'photo.png', 'backup.txt', 'analysis.py', 'report.pdf']\n",
      "Unique extensions: {'jpg', 'png', 'txt', 'py', 'pdf', 'csv'}\n",
      "Python files: {'analysis.py', 'script.py'}\n",
      "Text files: {'backup.txt', 'document.txt'}\n"
     ]
    }
   ],
   "source": [
    "# File extensions example\n",
    "print(\"\\n3. PRACTICAL EXAMPLE - FILE EXTENSIONS:\")\n",
    "files = [\n",
    "    \"document.txt\", \"image.jpg\", \"script.py\", \n",
    "    \"data.csv\", \"photo.png\", \"backup.txt\",\n",
    "    \"analysis.py\", \"report.pdf\"\n",
    "]\n",
    "\n",
    "# Extract unique extensions\n",
    "extensions = {file.split('.')[-1] for file in files if '.' in file}\n",
    "print(f\"Files: {files}\")\n",
    "print(f\"Unique extensions: {extensions}\")\n",
    "\n",
    "# Filter by extension\n",
    "python_files = {file for file in files if file.endswith('.py')}\n",
    "text_files = {file for file in files if file.endswith('.txt')}\n",
    "print(f\"Python files: {python_files}\")\n",
    "print(f\"Text files: {text_files}\")"
   ]
  },
  {
   "cell_type": "code",
   "execution_count": 25,
   "id": "4f6c0b3c-ab38-4586-9604-29e4c0f0cc32",
   "metadata": {},
   "outputs": [],
   "source": [
    "# =========================\n",
    "# GENERATOR EXPRESSIONS\n",
    "# =========================\n",
    "# Memory-efficient iteration\n"
   ]
  },
  {
   "cell_type": "code",
   "execution_count": 26,
   "id": "d3c66949-012f-4379-b07d-3ad15379f8c1",
   "metadata": {},
   "outputs": [
    {
     "name": "stdout",
     "output_type": "stream",
     "text": [
      "\n",
      "1. GENERATOR vs LIST COMPARISON:\n",
      "List comprehension: [0, 1, 4, 9, 16, 25, 36, 49, 64, 81]\n",
      "Type: <class 'list'>\n",
      "Generator expression: <generator object <genexpr> at 0x107478fb0>\n",
      "Type: <class 'generator'>\n",
      "Generator values: [0, 1, 4, 9, 16, 25, 36, 49, 64, 81]\n",
      "Note: Generator is now exhausted!\n"
     ]
    }
   ],
   "source": [
    "print(\"\\n1. GENERATOR vs LIST COMPARISON:\")\n",
    "\n",
    "# List comprehension - creates all items in memory\n",
    "numbers_list = [x**2 for x in range(10)]\n",
    "print(f\"List comprehension: {numbers_list}\")\n",
    "print(f\"Type: {type(numbers_list)}\")\n",
    "\n",
    "# Generator expression - creates items on demand\n",
    "numbers_gen = (x**2 for x in range(10))\n",
    "print(f\"Generator expression: {numbers_gen}\")\n",
    "print(f\"Type: {type(numbers_gen)}\")\n",
    "\n",
    "# Convert generator to list to see values\n",
    "print(f\"Generator values: {list(numbers_gen)}\")\n",
    "print(\"Note: Generator is now exhausted!\")\n"
   ]
  },
  {
   "cell_type": "code",
   "execution_count": 27,
   "id": "af8c5a07-39e3-44a4-923b-e467d3c7c35f",
   "metadata": {},
   "outputs": [
    {
     "name": "stdout",
     "output_type": "stream",
     "text": [
      "\n",
      "2. MEMORY USAGE COMPARISON:\n",
      "List of 1000 items: 8856 bytes\n",
      "Generator of 1000 items: 192 bytes\n",
      "List of 100,000 items: 800,984 bytes\n",
      "Generator of 100,000 items: 192 bytes\n",
      "Memory savings: 4172x less memory!\n"
     ]
    }
   ],
   "source": [
    "# Memory usage comparison\n",
    "print(\"\\n2. MEMORY USAGE COMPARISON:\")\n",
    "import sys\n",
    "\n",
    "# Small list vs generator\n",
    "small_list = [x for x in range(1000)]\n",
    "small_gen = (x for x in range(1000))\n",
    "\n",
    "print(f\"List of 1000 items: {sys.getsizeof(small_list)} bytes\")\n",
    "print(f\"Generator of 1000 items: {sys.getsizeof(small_gen)} bytes\")\n",
    "\n",
    "# Large comparison\n",
    "large_list = [x for x in range(100000)]\n",
    "large_gen = (x for x in range(100000))\n",
    "\n",
    "print(f\"List of 100,000 items: {sys.getsizeof(large_list):,} bytes\")\n",
    "print(f\"Generator of 100,000 items: {sys.getsizeof(large_gen)} bytes\")\n",
    "\n",
    "print(f\"Memory savings: {sys.getsizeof(large_list) / sys.getsizeof(large_gen):.0f}x less memory!\")"
   ]
  },
  {
   "cell_type": "code",
   "execution_count": 28,
   "id": "be71873f-55d1-488a-9bbd-f7c747b4455a",
   "metadata": {},
   "outputs": [
    {
     "name": "stdout",
     "output_type": "stream",
     "text": [
      "\n",
      "3. PRACTICAL GENERATOR USAGE:\n",
      "Processing large dataset with generator...\n",
      "  Processed: 0\n",
      "  Processed: 1000000\n",
      "  Processed: 4000000\n",
      "  Processed: 9000000\n",
      "  Processed: 16000000\n",
      "  ... (processing continues)\n",
      "Total items processed: 1000\n",
      "Sum of processed values: 332,833,500,000,000\n"
     ]
    }
   ],
   "source": [
    "# Practical generator usage\n",
    "print(\"\\n3. PRACTICAL GENERATOR USAGE:\")\n",
    "\n",
    "def process_large_dataset():\n",
    "    \"\"\"Simulate processing a large dataset\"\"\"\n",
    "    # Generator for memory efficiency\n",
    "    data_generator = (x**2 for x in range(1000000) if x % 1000 == 0)\n",
    "    \n",
    "    print(\"Processing large dataset with generator...\")\n",
    "    processed_count = 0\n",
    "    total_sum = 0\n",
    "    \n",
    "    for value in data_generator:\n",
    "        total_sum += value\n",
    "        processed_count += 1\n",
    "        if processed_count <= 5:  # Show first 5 values\n",
    "            print(f\"  Processed: {value}\")\n",
    "        elif processed_count == 6:\n",
    "            print(\"  ... (processing continues)\")\n",
    "    \n",
    "    print(f\"Total items processed: {processed_count}\")\n",
    "    print(f\"Sum of processed values: {total_sum:,}\")\n",
    "\n",
    "process_large_dataset()"
   ]
  },
  {
   "cell_type": "code",
   "execution_count": 29,
   "id": "7507fa1e-247b-41ec-9a64-ddfb1904daa0",
   "metadata": {},
   "outputs": [
    {
     "name": "stdout",
     "output_type": "stream",
     "text": [
      "\n",
      "4. FILTERED GENERATORS:\n",
      "Even Fibonacci numbers ≤ 100:\n",
      "[0, 2, 8, 34]\n"
     ]
    }
   ],
   "source": [
    "# Generator with filtering\n",
    "print(\"\\n4. FILTERED GENERATORS:\")\n",
    "\n",
    "def fibonacci_generator(max_value):\n",
    "    \"\"\"Generate Fibonacci numbers up to max_value\"\"\"\n",
    "    a, b = 0, 1\n",
    "    while a <= max_value:\n",
    "        yield a\n",
    "        a, b = b, a + b\n",
    "\n",
    "# Use generator in comprehension\n",
    "fib_gen = fibonacci_generator(100)\n",
    "even_fibs = (x for x in fib_gen if x % 2 == 0)\n",
    "\n",
    "print(\"Even Fibonacci numbers ≤ 100:\")\n",
    "print(list(even_fibs))"
   ]
  },
  {
   "cell_type": "code",
   "execution_count": 30,
   "id": "23a30fcf-0f61-4ace-ba20-f52350f03927",
   "metadata": {},
   "outputs": [
    {
     "name": "stdout",
     "output_type": "stream",
     "text": [
      "\n",
      "5. FILE PROCESSING SIMULATION:\n",
      "Error lines from log file:\n",
      "  ERROR: Connection failed\n",
      "  ERROR: Database timeout\n",
      "  ERROR: Authentication failed\n",
      "\n",
      "============================================================\n"
     ]
    }
   ],
   "source": [
    "# File processing with generators\n",
    "print(\"\\n5. FILE PROCESSING SIMULATION:\")\n",
    "\n",
    "def simulate_file_lines():\n",
    "    \"\"\"Simulate reading lines from a large file\"\"\"\n",
    "    sample_lines = [\n",
    "        \"ERROR: Connection failed\",\n",
    "        \"INFO: User logged in\",\n",
    "        \"WARNING: Low disk space\",\n",
    "        \"ERROR: Database timeout\",\n",
    "        \"INFO: Task completed\",\n",
    "        \"ERROR: Authentication failed\",\n",
    "        \"INFO: Backup started\"\n",
    "    ]\n",
    "    for line in sample_lines:\n",
    "        yield line\n",
    "\n",
    "# Process only error lines\n",
    "error_lines = (line for line in simulate_file_lines() if \"ERROR\" in line)\n",
    "print(\"Error lines from log file:\")\n",
    "for line in error_lines:\n",
    "    print(f\"  {line}\")\n",
    "\n",
    "print(\"\\n\" + \"=\"*60)"
   ]
  },
  {
   "cell_type": "code",
   "execution_count": 31,
   "id": "f8b0519d-d5c1-4715-bf3c-b8f1fc801648",
   "metadata": {},
   "outputs": [],
   "source": [
    "# =========================\n",
    "# PERFORMANCE COMPARISON\n",
    "# =========================\n",
    "# Speed and memory comparisons"
   ]
  },
  {
   "cell_type": "code",
   "execution_count": 32,
   "id": "f9764c4b-523e-4da1-a112-ffce39d29c4c",
   "metadata": {},
   "outputs": [
    {
     "name": "stdout",
     "output_type": "stream",
     "text": [
      "Performance test with 100,000 items:\n",
      "Traditional loop:      0.0102 seconds\n",
      "List comprehension:    0.0083 seconds\n",
      "Generator creation:    0.000005 seconds\n",
      "Generator consumption: 0.0085 seconds\n",
      "Total generator time:  0.0085 seconds\n",
      "\n",
      "Speedup:\n",
      "Comprehension vs loop: 1.2x faster\n",
      "Generator creation:    2034x faster (creation only)\n",
      "\n",
      "🧠 MEMORY-EFFICIENT PROCESSING:\n"
     ]
    }
   ],
   "source": [
    "\n",
    "import time\n",
    "\n",
    "def compare_performance():\n",
    "    \"\"\"Compare performance of different approaches\"\"\"\n",
    "    n = 100000\n",
    "    \n",
    "    print(f\"Performance test with {n:,} items:\")\n",
    "    \n",
    "    # Traditional loop\n",
    "    start = time.time()\n",
    "    result_loop = []\n",
    "    for i in range(n):\n",
    "        if i % 2 == 0:\n",
    "            result_loop.append(i**2)\n",
    "    loop_time = time.time() - start\n",
    "    \n",
    "    # List comprehension\n",
    "    start = time.time()\n",
    "    result_comprehension = [i**2 for i in range(n) if i % 2 == 0]\n",
    "    comprehension_time = time.time() - start\n",
    "    \n",
    "    # Generator expression (just creation)\n",
    "    start = time.time()\n",
    "    result_generator = (i**2 for i in range(n) if i % 2 == 0)\n",
    "    generator_time = time.time() - start\n",
    "    \n",
    "    # Generator consumption\n",
    "    start = time.time()\n",
    "    list(result_generator)  # Convert to list to consume\n",
    "    generator_consumption_time = time.time() - start\n",
    "    \n",
    "    print(f\"Traditional loop:      {loop_time:.4f} seconds\")\n",
    "    print(f\"List comprehension:    {comprehension_time:.4f} seconds\")\n",
    "    print(f\"Generator creation:    {generator_time:.6f} seconds\")\n",
    "    print(f\"Generator consumption: {generator_consumption_time:.4f} seconds\")\n",
    "    print(f\"Total generator time:  {generator_time + generator_consumption_time:.4f} seconds\")\n",
    "    \n",
    "    print(f\"\\nSpeedup:\")\n",
    "    print(f\"Comprehension vs loop: {loop_time/comprehension_time:.1f}x faster\")\n",
    "    print(f\"Generator creation:    {loop_time/generator_time:.0f}x faster (creation only)\")\n",
    "\n",
    "compare_performance()\n",
    "\n",
    "# Memory-efficient data processing\n",
    "print(\"\\n🧠 MEMORY-EFFICIENT PROCESSING:\")"
   ]
  },
  {
   "cell_type": "code",
   "execution_count": 33,
   "id": "5e56023e-7c08-440d-9503-495626e74d08",
   "metadata": {},
   "outputs": [
    {
     "name": "stdout",
     "output_type": "stream",
     "text": [
      "\n",
      "🧠 MEMORY-EFFICIENT PROCESSING:\n",
      "\n",
      "Processing numbers 0-1000:\n",
      "Using generator pipeline:\n",
      "Large even squares (first 10): [144, 196, 256, 324, 400, 484, 576, 676, 784, 900]\n",
      "Total count: 494\n",
      "\n",
      "Processing numbers 0-10000:\n",
      "Using generator pipeline:\n",
      "Large even squares (first 10): [144, 196, 256, 324, 400, 484, 576, 676, 784, 900]\n",
      "Total count: 4994\n",
      "\n",
      "============================================================\n"
     ]
    }
   ],
   "source": [
    "# Memory-efficient data processing\n",
    "print(\"\\n🧠 MEMORY-EFFICIENT PROCESSING:\")\n",
    "\n",
    "def process_numbers_memory_efficient(max_num):\n",
    "    \"\"\"Demonstrate memory-efficient processing with generators\"\"\"\n",
    "    \n",
    "    # Memory-efficient: Generator pipeline\n",
    "    print(\"Using generator pipeline:\")\n",
    "    \n",
    "    # Each step is a generator - no intermediate lists stored\n",
    "    numbers = (x for x in range(max_num))\n",
    "    squares = (x**2 for x in numbers)\n",
    "    even_squares = (x for x in squares if x % 2 == 0)\n",
    "    large_even_squares = (x for x in even_squares if x > 100)\n",
    "    \n",
    "    # Only when we iterate do we actually compute values\n",
    "    result = list(large_even_squares)\n",
    "    \n",
    "    print(f\"Large even squares (first 10): {result[:10]}\")\n",
    "    print(f\"Total count: {len(result)}\")\n",
    "    \n",
    "    return result\n",
    "\n",
    "# Test with different sizes\n",
    "for size in [1000, 10000]:\n",
    "    print(f\"\\nProcessing numbers 0-{size}:\")\n",
    "    process_numbers_memory_efficient(size)\n",
    "\n",
    "print(\"\\n\" + \"=\"*60)\n"
   ]
  },
  {
   "cell_type": "code",
   "execution_count": 34,
   "id": "53eca1f0-3ef0-4c50-9941-af1edbc18859",
   "metadata": {},
   "outputs": [],
   "source": [
    "\n",
    "# =========================\n",
    "# REAL-WORLD EXAMPLES\n",
    "# =========================\n",
    "# Practical applications"
   ]
  },
  {
   "cell_type": "code",
   "execution_count": 36,
   "id": "233a1b16-b88f-44c6-95fd-6a917b0da998",
   "metadata": {},
   "outputs": [
    {
     "name": "stdout",
     "output_type": "stream",
     "text": [
      "Total revenue: $17,283\n",
      "Expensive products (>$100): ['Laptop', 'Chair', 'Desk', 'Phone']\n",
      "Revenue by category: {'Books': 750, 'Furniture': 2650, 'Electronics': 13883}\n",
      "Product analysis:\n",
      "  Phone: $8,388 total value\n",
      "  Laptop: $4,995 total value\n",
      "  Chair: $1,600 total value\n"
     ]
    }
   ],
   "source": [
    "\n",
    "# Sample sales data\n",
    "sales_data = [\n",
    "    {\"product\": \"Laptop\", \"price\": 999, \"quantity\": 5, \"category\": \"Electronics\"},\n",
    "    {\"product\": \"Mouse\", \"price\": 25, \"quantity\": 20, \"category\": \"Electronics\"},\n",
    "    {\"product\": \"Book\", \"price\": 15, \"quantity\": 50, \"category\": \"Books\"},\n",
    "    {\"product\": \"Chair\", \"price\": 200, \"quantity\": 8, \"category\": \"Furniture\"},\n",
    "    {\"product\": \"Desk\", \"price\": 350, \"quantity\": 3, \"category\": \"Furniture\"},\n",
    "    {\"product\": \"Phone\", \"price\": 699, \"quantity\": 12, \"category\": \"Electronics\"},\n",
    "]\n",
    "\n",
    "# Analysis using comprehensions\n",
    "total_revenue = sum(item[\"price\"] * item[\"quantity\"] for item in sales_data)\n",
    "print(f\"Total revenue: ${total_revenue:,}\")\n",
    "\n",
    "# High-value products\n",
    "expensive_products = [item[\"product\"] for item in sales_data if item[\"price\"] > 100]\n",
    "print(f\"Expensive products (>$100): {expensive_products}\")\n",
    "\n",
    "# Revenue by category\n",
    "categories = {item[\"category\"] for item in sales_data}\n",
    "category_revenue = {\n",
    "    category: sum(item[\"price\"] * item[\"quantity\"] \n",
    "                 for item in sales_data if item[\"category\"] == category)\n",
    "    for category in categories\n",
    "}\n",
    "print(f\"Revenue by category: {category_revenue}\")\n",
    "# Product details with total value\n",
    "product_details = [\n",
    "    {\n",
    "        \"product\": item[\"product\"],\n",
    "        \"total_value\": item[\"price\"] * item[\"quantity\"],\n",
    "        \"avg_price\": item[\"price\"]\n",
    "    }\n",
    "    for item in sales_data\n",
    "]\n",
    "\n",
    "print(\"Product analysis:\")\n",
    "for detail in sorted(product_details, key=lambda x: x[\"total_value\"], reverse=True)[:3]:\n",
    "    print(f\"  {detail['product']}: ${detail['total_value']:,} total value\")"
   ]
  },
  {
   "cell_type": "code",
   "execution_count": 37,
   "id": "3a758c3b-ef21-428f-840e-c07122d99697",
   "metadata": {},
   "outputs": [
    {
     "name": "stdout",
     "output_type": "stream",
     "text": [
      "\n",
      "2. 📝 TEXT PROCESSING:\n",
      "Most common words:\n",
      "  'python': 3 times\n",
      "  'data': 2 times\n",
      "  'with': 2 times\n",
      "\n",
      "Text statistics:\n",
      "  6 words, 34 chars, Python: Yes\n",
      "  5 words, 34 chars, Python: Yes\n",
      "  4 words, 26 chars, Python: No\n",
      "  4 words, 27 chars, Python: No\n",
      "  4 words, 33 chars, Python: Yes\n"
     ]
    }
   ],
   "source": [
    "print(\"\\n2. 📝 TEXT PROCESSING:\")\n",
    "\n",
    "# Sample text data\n",
    "text_data = [\n",
    "    \"Python is awesome for data science\",\n",
    "    \"Machine learning with Python rocks\",\n",
    "    \"Data analysis using pandas\",\n",
    "    \"Web development with Django\",\n",
    "    \"Python programming best practices\"\n",
    "]\n",
    "\n",
    "# Word frequency analysis\n",
    "all_words = [word.lower() for text in text_data for word in text.split()]\n",
    "word_frequency = {word: all_words.count(word) for word in set(all_words)}\n",
    "\n",
    "# Most common words\n",
    "common_words = [(word, freq) for word, freq in word_frequency.items() if freq > 1]\n",
    "print(\"Most common words:\")\n",
    "for word, freq in sorted(common_words, key=lambda x: x[1], reverse=True):\n",
    "    print(f\"  '{word}': {freq} times\")\n",
    "\n",
    "# Text statistics\n",
    "text_stats = [\n",
    "    {\n",
    "        \"text\": text,\n",
    "        \"word_count\": len(text.split()),\n",
    "        \"char_count\": len(text),\n",
    "        \"python_mentioned\": \"python\" in text.lower()\n",
    "    }\n",
    "    for text in text_data\n",
    "]\n",
    "\n",
    "print(\"\\nText statistics:\")\n",
    "for stat in text_stats:\n",
    "    print(f\"  {stat['word_count']} words, {stat['char_count']} chars, \"\n",
    "          f\"Python: {'Yes' if stat['python_mentioned'] else 'No'}\")"
   ]
  },
  {
   "cell_type": "code",
   "execution_count": 38,
   "id": "8b4d151e-0d2f-4e5f-b868-4fd6f2557197",
   "metadata": {},
   "outputs": [
    {
     "name": "stdout",
     "output_type": "stream",
     "text": [
      "Error logs:\n",
      "  2024-01-15 10:31:22: Database connection failed\n",
      "  2024-01-15 10:34:12: Authentication failed\n",
      "  2024-01-15 10:36:21: Network timeout\n",
      "\n",
      "Log level summary: {'ERROR': 3, 'WARNING': 1, 'INFO': 3}\n",
      "\n",
      "============================================================\n"
     ]
    }
   ],
   "source": [
    "# Simulate log entries\n",
    "log_entries = [\n",
    "    \"2024-01-15 10:30:15 INFO User login successful\",\n",
    "    \"2024-01-15 10:31:22 ERROR Database connection failed\",\n",
    "    \"2024-01-15 10:32:01 WARNING Low memory detected\",\n",
    "    \"2024-01-15 10:33:45 INFO File uploaded successfully\",\n",
    "    \"2024-01-15 10:34:12 ERROR Authentication failed\",\n",
    "    \"2024-01-15 10:35:33 INFO User logout\",\n",
    "    \"2024-01-15 10:36:21 ERROR Network timeout\"\n",
    "]\n",
    "\n",
    "# Parse log entries\n",
    "parsed_logs = [\n",
    "    {\n",
    "        \"timestamp\": \" \".join(entry.split()[:2]),\n",
    "        \"level\": entry.split()[2],\n",
    "        \"message\": \" \".join(entry.split()[3:])\n",
    "    }\n",
    "    for entry in log_entries\n",
    "]\n",
    "\n",
    "# Filter by log level\n",
    "error_logs = [log for log in parsed_logs if log[\"level\"] == \"ERROR\"]\n",
    "warning_logs = [log for log in parsed_logs if log[\"level\"] == \"WARNING\"]\n",
    "\n",
    "print(\"Error logs:\")\n",
    "for log in error_logs:\n",
    "    print(f\"  {log['timestamp']}: {log['message']}\")\n",
    "\n",
    "# Log level summary\n",
    "log_levels = {log[\"level\"] for log in parsed_logs}\n",
    "level_counts = {level: sum(1 for log in parsed_logs if log[\"level\"] == level) \n",
    "                for level in log_levels}\n",
    "\n",
    "print(f\"\\nLog level summary: {level_counts}\")\n",
    "\n",
    "print(\"\\n\" + \"=\"*60)"
   ]
  },
  {
   "cell_type": "code",
   "execution_count": 39,
   "id": "5b6d2e93-da1e-4140-b6b8-99fefb4feea2",
   "metadata": {},
   "outputs": [],
   "source": [
    "# =========================\n",
    "# BEST PRACTICES\n",
    "# =========================\n",
    "# Guidelines for effective use\n"
   ]
  },
  {
   "cell_type": "code",
   "execution_count": 40,
   "id": "1995b653-334a-4dbb-989b-6e1c342117dc",
   "metadata": {},
   "outputs": [
    {
     "name": "stdout",
     "output_type": "stream",
     "text": [
      "=== BEST PRACTICES ===\n",
      "\n",
      "✅ WHEN TO USE COMPREHENSIONS:\n",
      "1. Creating new collections from existing ones\n",
      "2. Simple transformations and filtering\n",
      "3. When readability is improved\n",
      "4. Performance-critical code\n",
      "\n",
      "✅ GOOD COMPREHENSION EXAMPLES:\n",
      "Good: ['HELLO', 'WORLD']\n",
      "Good: [4, 8]\n",
      "\n",
      "❌ WHEN NOT TO USE COMPREHENSIONS:\n",
      "1. Complex logic that hurts readability\n",
      "2. Multiple operations that need intermediate variables\n",
      "3. When side effects are needed (printing, file writing)\n",
      "4. Very long comprehensions\n",
      "\n",
      "❌ BAD COMPREHENSION EXAMPLES:\n"
     ]
    }
   ],
   "source": [
    "print(\"=== BEST PRACTICES ===\")\n",
    "\n",
    "print(\"\\n✅ WHEN TO USE COMPREHENSIONS:\")\n",
    "print(\"1. Creating new collections from existing ones\")\n",
    "print(\"2. Simple transformations and filtering\")\n",
    "print(\"3. When readability is improved\")\n",
    "print(\"4. Performance-critical code\")\n",
    "\n",
    "print(\"\\n✅ GOOD COMPREHENSION EXAMPLES:\")\n",
    "\n",
    "# Good: Simple and readable\n",
    "good_example1 = [x.upper() for x in [\"hello\", \"world\"]]\n",
    "print(f\"Good: {good_example1}\")\n",
    "\n",
    "# Good: Clear transformation\n",
    "numbers = [1, 2, 3, 4, 5]\n",
    "good_example2 = [x * 2 for x in numbers if x % 2 == 0]\n",
    "print(f\"Good: {good_example2}\")\n",
    "\n",
    "print(\"\\n❌ WHEN NOT TO USE COMPREHENSIONS:\")\n",
    "print(\"1. Complex logic that hurts readability\")\n",
    "print(\"2. Multiple operations that need intermediate variables\")\n",
    "print(\"3. When side effects are needed (printing, file writing)\")\n",
    "print(\"4. Very long comprehensions\")\n",
    "\n",
    "print(\"\\n❌ BAD COMPREHENSION EXAMPLES:\")"
   ]
  },
  {
   "cell_type": "code",
   "execution_count": 41,
   "id": "0f84a1bc-0160-44d6-957e-5250660693c9",
   "metadata": {},
   "outputs": [
    {
     "name": "stdout",
     "output_type": "stream",
     "text": [
      "Bad example (too complex):\n",
      "# [complex_function(x, y, z) for x in data for y in x.items() if condition(y)]\n",
      "# Better: Use regular loops for complex logic\n",
      "\n",
      "Bad example (side effects):\n",
      "# [print(x) for x in items]  # Don't use comprehensions for side effects\n",
      "# Better: Use regular for loop for printing\n"
     ]
    }
   ],
   "source": [
    "# Bad: Too complex\n",
    "print(\"Bad example (too complex):\")\n",
    "print(\"# [complex_function(x, y, z) for x in data for y in x.items() if condition(y)]\")\n",
    "print(\"# Better: Use regular loops for complex logic\")\n",
    "\n",
    "# Bad: Side effects\n",
    "print(\"\\nBad example (side effects):\")\n",
    "print(\"# [print(x) for x in items]  # Don't use comprehensions for side effects\")\n",
    "print(\"# Better: Use regular for loop for printing\")"
   ]
  },
  {
   "cell_type": "code",
   "execution_count": 42,
   "id": "7000edc7-838f-4bed-909c-2c3abf6d269d",
   "metadata": {},
   "outputs": [
    {
     "name": "stdout",
     "output_type": "stream",
     "text": [
      "\n",
      "✅ OPTIMIZATION TIPS:\n",
      "Generator for large data: <class 'generator'>\n",
      "Unique values with set comprehension: {1, 2, 3, 4, 5}\n",
      "Lookup dictionary: {'apple': 5, 'banana': 6, 'cherry': 6}\n",
      "\n",
      "🎯 CHOOSING THE RIGHT TOOL:\n",
      "• List comprehension: Need to reuse/index the collection\n",
      "• Generator expression: Large data, iterate once\n",
      "• Set comprehension: Need unique values\n",
      "• Dict comprehension: Need key-value mapping\n",
      "• Regular loop: Complex logic, side effects, debugging\n",
      "\n",
      "============================================================\n"
     ]
    }
   ],
   "source": [
    "\n",
    "print(\"\\n✅ OPTIMIZATION TIPS:\")\n",
    "\n",
    "def optimization_examples():\n",
    "    \"\"\"Demonstrate optimization techniques\"\"\"\n",
    "    \n",
    "    # Use generators for large datasets\n",
    "    large_data = range(1000000)\n",
    "    \n",
    "    # Memory efficient\n",
    "    filtered_gen = (x for x in large_data if x % 1000 == 0)\n",
    "    print(f\"Generator for large data: {type(filtered_gen)}\")\n",
    "    \n",
    "    # Use set comprehensions for uniqueness\n",
    "    data_with_dupes = [1, 2, 2, 3, 3, 4, 5, 5]\n",
    "    unique_values = {x for x in data_with_dupes}\n",
    "    print(f\"Unique values with set comprehension: {unique_values}\")\n",
    "    \n",
    "    # Use dict comprehensions for lookups\n",
    "    items = [\"apple\", \"banana\", \"cherry\"]\n",
    "    lookup_dict = {item: len(item) for item in items}\n",
    "    print(f\"Lookup dictionary: {lookup_dict}\")\n",
    "\n",
    "optimization_examples()\n",
    "\n",
    "print(\"\\n🎯 CHOOSING THE RIGHT TOOL:\")\n",
    "print(\"• List comprehension: Need to reuse/index the collection\")\n",
    "print(\"• Generator expression: Large data, iterate once\")\n",
    "print(\"• Set comprehension: Need unique values\")\n",
    "print(\"• Dict comprehension: Need key-value mapping\")\n",
    "print(\"• Regular loop: Complex logic, side effects, debugging\")\n",
    "\n",
    "print(\"\\n\" + \"=\"*60)"
   ]
  },
  {
   "cell_type": "code",
   "execution_count": 43,
   "id": "bd3abbde-df12-42a2-bd2d-fa38eb1c1737",
   "metadata": {},
   "outputs": [],
   "source": [
    "# =========================\n",
    "# COMMON MISTAKES\n",
    "# =========================\n",
    "# Pitfalls to avoid\n"
   ]
  },
  {
   "cell_type": "code",
   "execution_count": 44,
   "id": "70372b68-c029-47fb-9967-eaa250d2cf9a",
   "metadata": {},
   "outputs": [
    {
     "name": "stdout",
     "output_type": "stream",
     "text": [
      "\n",
      "❌ MISTAKE 1: OVERUSING COMPREHENSIONS:\n",
      "Don't force comprehensions when loops are clearer\n",
      "Bad (too complex):\n",
      "# result = [f(x) for sublist in data for x in sublist if complex_condition(x, y, z)]\n",
      "\n",
      "Good (use regular loop):\n",
      "result = []\n",
      "for sublist in data:\n",
      "    for x in sublist:\n",
      "        if complex_condition(x, y, z):\n",
      "            result.append(f(x))\n"
     ]
    }
   ],
   "source": [
    "\n",
    "print(\"\\n❌ MISTAKE 1: OVERUSING COMPREHENSIONS:\")\n",
    "print(\"Don't force comprehensions when loops are clearer\")\n",
    "\n",
    "# Bad: Overly complex comprehension\n",
    "print(\"Bad (too complex):\")\n",
    "print(\"# result = [f(x) for sublist in data for x in sublist if complex_condition(x, y, z)]\")\n",
    "\n",
    "print(\"\\nGood (use regular loop):\")\n",
    "print(\"result = []\")\n",
    "print(\"for sublist in data:\")\n",
    "print(\"    for x in sublist:\")\n",
    "print(\"        if complex_condition(x, y, z):\")\n",
    "print(\"            result.append(f(x))\")"
   ]
  },
  {
   "cell_type": "code",
   "execution_count": 45,
   "id": "5b022d5f-4008-4c56-b38a-1b987b040e11",
   "metadata": {},
   "outputs": [
    {
     "name": "stdout",
     "output_type": "stream",
     "text": [
      "\n",
      "❌ MISTAKE 2: SIDE EFFECTS IN COMPREHENSIONS:\n",
      "Bad (side effects):\n",
      "Good (regular loop for side effects):\n",
      "  Processing 1\n",
      "  Processing 2\n",
      "  Processing 3\n",
      "  Processing 4\n",
      "  Processing 5\n"
     ]
    }
   ],
   "source": [
    "print(\"\\n❌ MISTAKE 2: SIDE EFFECTS IN COMPREHENSIONS:\")\n",
    "\n",
    "# Demonstrate the issue\n",
    "def bad_side_effect_example():\n",
    "    \"\"\"Show why side effects in comprehensions are bad\"\"\"\n",
    "    numbers = [1, 2, 3, 4, 5]\n",
    "    \n",
    "    # Bad: Side effect in comprehension\n",
    "    print(\"Bad (side effects):\")\n",
    "    # Don't do this: [print(f\"Processing {x}\") for x in numbers]\n",
    "    \n",
    "    # Good: Use regular loop for side effects\n",
    "    print(\"Good (regular loop for side effects):\")\n",
    "    for x in numbers:\n",
    "        print(f\"  Processing {x}\")\n",
    "\n",
    "bad_side_effect_example()"
   ]
  },
  {
   "cell_type": "code",
   "execution_count": 46,
   "id": "d7638ad1-fb52-4d8c-a946-32ea488f0c5a",
   "metadata": {},
   "outputs": [
    {
     "name": "stdout",
     "output_type": "stream",
     "text": [
      "\n",
      "❌ MISTAKE 3: IGNORING GENERATOR EXHAUSTION:\n",
      "First iteration:\n",
      "  Values: [0, 1, 4, 9, 16]\n",
      "Second iteration (generator exhausted):\n",
      "  Values: []\n",
      "Solution: Recreate generator or use list if reusing\n"
     ]
    }
   ],
   "source": [
    "\n",
    "print(\"\\n❌ MISTAKE 3: IGNORING GENERATOR EXHAUSTION:\")\n",
    "\n",
    "def generator_exhaustion_example():\n",
    "    \"\"\"Demonstrate generator exhaustion\"\"\"\n",
    "    numbers_gen = (x**2 for x in range(5))\n",
    "    \n",
    "    print(\"First iteration:\")\n",
    "    print(f\"  Values: {list(numbers_gen)}\")\n",
    "    \n",
    "    print(\"Second iteration (generator exhausted):\")\n",
    "    print(f\"  Values: {list(numbers_gen)}\")  # Empty!\n",
    "    \n",
    "    print(\"Solution: Recreate generator or use list if reusing\")\n",
    "\n",
    "generator_exhaustion_example()"
   ]
  },
  {
   "cell_type": "code",
   "execution_count": 47,
   "id": "002ed586-c79a-4e7e-a46e-dd3c8b1d5a54",
   "metadata": {},
   "outputs": [
    {
     "name": "stdout",
     "output_type": "stream",
     "text": [
      "\n",
      "❌ MISTAKE 4: UNNECESSARY MEMORY USAGE:\n",
      "Bad (unnecessary list creation):\n",
      "Good (memory efficient):\n",
      "Sum result: 4999950000\n",
      "\n",
      "============================================================\n"
     ]
    }
   ],
   "source": [
    "print(\"\\n❌ MISTAKE 4: UNNECESSARY MEMORY USAGE:\")\n",
    "\n",
    "def memory_usage_example():\n",
    "    \"\"\"Show memory waste with unnecessary lists\"\"\"\n",
    "    \n",
    "    # Bad: Create intermediate list when only iterating once\n",
    "    print(\"Bad (unnecessary list creation):\")\n",
    "    large_numbers = [x for x in range(100000)]  # Uses memory\n",
    "    sum_result = sum(large_numbers)  # Could use generator\n",
    "    \n",
    "    # Good: Use generator for one-time iteration\n",
    "    print(\"Good (memory efficient):\")\n",
    "    sum_result = sum(x for x in range(100000))  # Generator\n",
    "    \n",
    "    print(f\"Sum result: {sum_result}\")\n",
    "\n",
    "memory_usage_example()\n",
    "\n",
    "print(\"\\n\" + \"=\"*60)"
   ]
  },
  {
   "cell_type": "code",
   "execution_count": 48,
   "id": "a9646f13-5248-4abd-9aaf-4b1775bb1874",
   "metadata": {},
   "outputs": [],
   "source": [
    "\n",
    "# =========================\n",
    "# SUMMARY\n",
    "# =========================\n"
   ]
  },
  {
   "cell_type": "code",
   "execution_count": 49,
   "id": "19a6d745-479a-4ba4-9d93-181c2a04da1e",
   "metadata": {},
   "outputs": [
    {
     "name": "stdout",
     "output_type": "stream",
     "text": [
      "=== COMPREHENSIONS & GENERATORS SUMMARY ===\n",
      "\n",
      "🐍 COMPREHENSION TYPES:\n",
      "• List: [expr for item in iterable if condition]\n",
      "• Dict: {key: value for item in iterable if condition}\n",
      "• Set:  {expr for item in iterable if condition}\n",
      "• Generator: (expr for item in iterable if condition)\n",
      "\n",
      "🚀 BENEFITS:\n",
      "• More concise and readable than loops\n",
      "• Often faster performance\n",
      "• Functional programming style\n",
      "• Memory efficient (generators)\n",
      "\n",
      "⚡ PERFORMANCE:\n",
      "• List comprehensions: Fast, but use memory\n",
      "• Generators: Memory efficient, lazy evaluation\n",
      "• Best for large datasets or one-time iteration\n",
      "\n",
      "✅ BEST PRACTICES:\n",
      "• Use for simple transformations and filtering\n",
      "• Choose generators for large datasets\n",
      "• Avoid complex logic in comprehensions\n",
      "• Don't use for side effects\n",
      "• Consider readability over cleverness\n",
      "\n",
      "🎯 WHEN TO USE WHAT:\n",
      "• List comprehension: Small-medium data, need indexing/reuse\n",
      "• Generator expression: Large data, iterate once\n",
      "• Dict comprehension: Creating mappings\n",
      "• Set comprehension: Unique values needed\n",
      "• Regular loops: Complex logic, debugging, side effects\n",
      "\n",
      "🧠 REMEMBER:\n",
      "Comprehensions make Python code:\n",
      "• More Pythonic and elegant\n",
      "• Often more efficient\n",
      "• Easier to read (when used properly)\n",
      "• More functional and declarative\n",
      "\n",
      "======================================================================\n",
      "END OF COMPREHENSIONS & GENERATORS GUIDE\n",
      "======================================================================\n"
     ]
    }
   ],
   "source": [
    "\n",
    "print(\"=== COMPREHENSIONS & GENERATORS SUMMARY ===\")\n",
    "print()\n",
    "print(\"🐍 COMPREHENSION TYPES:\")\n",
    "print(\"• List: [expr for item in iterable if condition]\")\n",
    "print(\"• Dict: {key: value for item in iterable if condition}\")\n",
    "print(\"• Set:  {expr for item in iterable if condition}\")\n",
    "print(\"• Generator: (expr for item in iterable if condition)\")\n",
    "print()\n",
    "print(\"🚀 BENEFITS:\")\n",
    "print(\"• More concise and readable than loops\")\n",
    "print(\"• Often faster performance\")\n",
    "print(\"• Functional programming style\")\n",
    "print(\"• Memory efficient (generators)\")\n",
    "print()\n",
    "print(\"⚡ PERFORMANCE:\")\n",
    "print(\"• List comprehensions: Fast, but use memory\")\n",
    "print(\"• Generators: Memory efficient, lazy evaluation\")\n",
    "print(\"• Best for large datasets or one-time iteration\")\n",
    "print()\n",
    "print(\"✅ BEST PRACTICES:\")\n",
    "print(\"• Use for simple transformations and filtering\")\n",
    "print(\"• Choose generators for large datasets\")\n",
    "print(\"• Avoid complex logic in comprehensions\")\n",
    "print(\"• Don't use for side effects\")\n",
    "print(\"• Consider readability over cleverness\")\n",
    "print()\n",
    "print(\"🎯 WHEN TO USE WHAT:\")\n",
    "print(\"• List comprehension: Small-medium data, need indexing/reuse\")\n",
    "print(\"• Generator expression: Large data, iterate once\")\n",
    "print(\"• Dict comprehension: Creating mappings\")\n",
    "print(\"• Set comprehension: Unique values needed\")\n",
    "print(\"• Regular loops: Complex logic, debugging, side effects\")\n",
    "print()\n",
    "print(\"🧠 REMEMBER:\")\n",
    "print(\"Comprehensions make Python code:\")\n",
    "print(\"• More Pythonic and elegant\")\n",
    "print(\"• Often more efficient\")\n",
    "print(\"• Easier to read (when used properly)\")\n",
    "print(\"• More functional and declarative\")\n",
    "print()\n",
    "print(\"=\" * 70)\n",
    "print(\"END OF COMPREHENSIONS & GENERATORS GUIDE\")\n",
    "print(\"=\" * 70)"
   ]
  },
  {
   "cell_type": "code",
   "execution_count": null,
   "id": "fef602a7-c45c-4768-b8bb-4dec18942dd1",
   "metadata": {},
   "outputs": [],
   "source": []
  }
 ],
 "metadata": {
  "kernelspec": {
   "display_name": "Python 3 (ipykernel)",
   "language": "python",
   "name": "python3"
  },
  "language_info": {
   "codemirror_mode": {
    "name": "ipython",
    "version": 3
   },
   "file_extension": ".py",
   "mimetype": "text/x-python",
   "name": "python",
   "nbconvert_exporter": "python",
   "pygments_lexer": "ipython3",
   "version": "3.13.5"
  }
 },
 "nbformat": 4,
 "nbformat_minor": 5
}
